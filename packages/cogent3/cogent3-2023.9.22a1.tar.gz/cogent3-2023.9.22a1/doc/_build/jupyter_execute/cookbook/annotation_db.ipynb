{
 "cells": [
  {
   "cell_type": "code",
   "execution_count": 1,
   "id": "2491ecae",
   "metadata": {
    "execution": {
     "iopub.execute_input": "2023-07-17T11:20:41.901033Z",
     "iopub.status.busy": "2023-07-17T11:20:41.900338Z",
     "iopub.status.idle": "2023-07-17T11:20:41.921501Z",
     "shell.execute_reply": "2023-07-17T11:20:41.920957Z"
    }
   },
   "outputs": [],
   "source": [
    "import set_working_directory"
   ]
  },
  {
   "cell_type": "code",
   "execution_count": 2,
   "id": "9938a792",
   "metadata": {
    "execution": {
     "iopub.execute_input": "2023-07-17T11:20:41.924688Z",
     "iopub.status.busy": "2023-07-17T11:20:41.924478Z",
     "iopub.status.idle": "2023-07-17T11:20:42.730127Z",
     "shell.execute_reply": "2023-07-17T11:20:42.729869Z"
    }
   },
   "outputs": [
    {
     "data": {
      "text/plain": [
       "BasicAnnotationDb(source=':memory:', total_records=0)"
      ]
     },
     "execution_count": 2,
     "metadata": {},
     "output_type": "execute_result"
    }
   ],
   "source": [
    "from cogent3.core.annotation_db import BasicAnnotationDb\n",
    "\n",
    "anno_db = BasicAnnotationDb()\n",
    "anno_db"
   ]
  },
  {
   "cell_type": "code",
   "execution_count": 3,
   "id": "cb3b9d6c",
   "metadata": {
    "execution": {
     "iopub.execute_input": "2023-07-17T11:20:42.731449Z",
     "iopub.status.busy": "2023-07-17T11:20:42.731353Z",
     "iopub.status.idle": "2023-07-17T11:20:42.744684Z",
     "shell.execute_reply": "2023-07-17T11:20:42.744480Z"
    }
   },
   "outputs": [
    {
     "data": {
      "text/plain": [
       "GffAnnotationDb(source=':memory:', total_records=1169)"
      ]
     },
     "execution_count": 3,
     "metadata": {},
     "output_type": "execute_result"
    }
   ],
   "source": [
    "from cogent3 import load_annotations\n",
    "\n",
    "gff_db = load_annotations(path=\"data/mycoplasma-genitalium.gff\")\n",
    "gff_db"
   ]
  },
  {
   "cell_type": "code",
   "execution_count": 4,
   "id": "b665efc5",
   "metadata": {
    "execution": {
     "iopub.execute_input": "2023-07-17T11:20:42.745776Z",
     "iopub.status.busy": "2023-07-17T11:20:42.745709Z",
     "iopub.status.idle": "2023-07-17T11:20:42.805738Z",
     "shell.execute_reply": "2023-07-17T11:20:42.805519Z"
    }
   },
   "outputs": [
    {
     "data": {
      "text/plain": [
       "GenbankAnnotationDb(seqid='NC_000908', source=':memory:', namer=None, total_records=1127)"
      ]
     },
     "execution_count": 4,
     "metadata": {},
     "output_type": "execute_result"
    }
   ],
   "source": [
    "from cogent3 import load_annotations\n",
    "\n",
    "gb_db = load_annotations(path=\"data/mycoplasma-genitalium.gb\")\n",
    "gb_db"
   ]
  },
  {
   "cell_type": "code",
   "execution_count": 5,
   "id": "c129ec46",
   "metadata": {
    "execution": {
     "iopub.execute_input": "2023-07-17T11:20:42.806901Z",
     "iopub.status.busy": "2023-07-17T11:20:42.806833Z",
     "iopub.status.idle": "2023-07-17T11:20:42.809495Z",
     "shell.execute_reply": "2023-07-17T11:20:42.809257Z"
    }
   },
   "outputs": [
    {
     "data": {
      "text/html": [
       "\n",
       "<div class=\"c3table\">\n",
       "\n",
       "<style>\n",
       ".c3table table {margin: 10px 0;}\n",
       ".c3table tr:last-child {border-bottom: 1px solid #000;} \n",
       ".c3table tr > th {text-align: left; padding: 0 5px;}\n",
       ".c3table tr > td {text-align: left; padding: 5px;}\n",
       ".c3table tr:nth-child(even) {background: #f7f7f7 !important;}\n",
       ".c3table .ellipsis {background: rgba(0, 0, 0, .01);}\n",
       ".c3table .index {background: rgba(161, 195, 209, 0.0); margin: 10px; font-weight: 600;}\n",
       ".c3table .head_cell {background: rgba(161, 195, 209, 0.75); font-weight: bold; text-align: center;}\n",
       ".c3table caption {color: rgb(250, 250, 250); background: rgba(30, 140, 200, 1); padding: 3px; white-space: nowrap; caption-side: top;}\n",
       ".c3table .cell_title {font-weight: bold;}\n",
       ".c3col_left { text-align: left !important; display: block;}\n",
       ".c3col_right { text-align: right !important; display: block;}\n",
       ".c3col_center { text-align: center !important; display: block;}\n",
       "</style>\n",
       "\n",
       "<table>\n",
       "\n",
       "<thead class=\"head_cell\">\n",
       "<th></th><th>count</th>\n",
       "</thead>\n",
       "<tbody>\n",
       "<tr><td><span class=\"c3col_left\">seqid('NC_000908.2')</span></td><td><span class=\"c3col_right\">1,169</span></td></tr>\n",
       "<tr><td><span class=\"c3col_left\">biotype('CDS')</span></td><td><span class=\"c3col_right\">521</span></td></tr>\n",
       "<tr><td><span class=\"c3col_left\">biotype('RNase_P_RNA')</span></td><td><span class=\"c3col_right\">1</span></td></tr>\n",
       "<tr><td><span class=\"c3col_left\">biotype('SRP_RNA')</span></td><td><span class=\"c3col_right\">1</span></td></tr>\n",
       "<tr><td><span class=\"c3col_left\">biotype('exon')</span></td><td><span class=\"c3col_right\">42</span></td></tr>\n",
       "<tr><td><span class=\"c3col_left\">biotype('gene')</span></td><td><span class=\"c3col_right\">546</span></td></tr>\n",
       "<tr><td><span class=\"c3col_left\">biotype('pseudogene')</span></td><td><span class=\"c3col_right\">17</span></td></tr>\n",
       "<tr><td><span class=\"c3col_left\">biotype('rRNA')</span></td><td><span class=\"c3col_right\">3</span></td></tr>\n",
       "<tr><td><span class=\"c3col_left\">biotype('region')</span></td><td><span class=\"c3col_right\">1</span></td></tr>\n",
       "<tr><td><span class=\"c3col_left\">biotype('tRNA')</span></td><td><span class=\"c3col_right\">36</span></td></tr>\n",
       "<tr><td><span class=\"c3col_left\">biotype('tmRNA')</span></td><td><span class=\"c3col_right\">1</span></td></tr>\n",
       "<tr><td><span class=\"c3col_left\">num_rows('gff')</span></td><td><span class=\"c3col_right\">1,169</span></td></tr>\n",
       "<tr><td><span class=\"c3col_left\">num_rows('user')</span></td><td><span class=\"c3col_right\">0</span></td></tr>\n",
       "</tbody>\n",
       "</table>\n",
       "<p>\n",
       "13 rows x 2 columns</p>\n",
       "</div>"
      ],
      "text/plain": [
       "===============================\n",
       "                          count\n",
       "-------------------------------\n",
       "seqid('NC_000908.2')      1,169\n",
       "biotype('CDS')              521\n",
       "biotype('RNase_P_RNA')        1\n",
       "biotype('SRP_RNA')            1\n",
       "biotype('exon')              42\n",
       "biotype('gene')             546\n",
       "biotype('pseudogene')        17\n",
       "biotype('rRNA')               3\n",
       "biotype('region')             1\n",
       "biotype('tRNA')              36\n",
       "biotype('tmRNA')              1\n",
       "num_rows('gff')           1,169\n",
       "num_rows('user')              0\n",
       "-------------------------------\n",
       "\n",
       "13 rows x 2 columns"
      ]
     },
     "execution_count": 5,
     "metadata": {},
     "output_type": "execute_result"
    }
   ],
   "source": [
    "summary = gff_db.describe\n",
    "summary"
   ]
  },
  {
   "cell_type": "code",
   "execution_count": 6,
   "id": "0db46a82",
   "metadata": {
    "execution": {
     "iopub.execute_input": "2023-07-17T11:20:42.810569Z",
     "iopub.status.busy": "2023-07-17T11:20:42.810502Z",
     "iopub.status.idle": "2023-07-17T11:20:42.812906Z",
     "shell.execute_reply": "2023-07-17T11:20:42.812679Z"
    }
   },
   "outputs": [
    {
     "data": {
      "text/html": [
       "\n",
       "<div class=\"c3table\">\n",
       "\n",
       "<style>\n",
       ".c3table table {margin: 10px 0;}\n",
       ".c3table tr:last-child {border-bottom: 1px solid #000;} \n",
       ".c3table tr > th {text-align: left; padding: 0 5px;}\n",
       ".c3table tr > td {text-align: left; padding: 5px;}\n",
       ".c3table tr:nth-child(even) {background: #f7f7f7 !important;}\n",
       ".c3table .ellipsis {background: rgba(0, 0, 0, .01);}\n",
       ".c3table .index {background: rgba(161, 195, 209, 0.0); margin: 10px; font-weight: 600;}\n",
       ".c3table .head_cell {background: rgba(161, 195, 209, 0.75); font-weight: bold; text-align: center;}\n",
       ".c3table caption {color: rgb(250, 250, 250); background: rgba(30, 140, 200, 1); padding: 3px; white-space: nowrap; caption-side: top;}\n",
       ".c3table .cell_title {font-weight: bold;}\n",
       ".c3col_left { text-align: left !important; display: block;}\n",
       ".c3col_right { text-align: right !important; display: block;}\n",
       ".c3col_center { text-align: center !important; display: block;}\n",
       "</style>\n",
       "\n",
       "<table>\n",
       "\n",
       "<thead class=\"head_cell\">\n",
       "<th></th><th>count</th>\n",
       "</thead>\n",
       "<tbody>\n",
       "<tr><td><span class=\"c3col_left\">seqid('NC_000908')</span></td><td><span class=\"c3col_right\">1</span></td></tr>\n",
       "<tr><td><span class=\"c3col_left\">biotype('gene')</span></td><td><span class=\"c3col_right\">1</span></td></tr>\n",
       "<tr><td><span class=\"c3col_left\">num_rows('user')</span></td><td><span class=\"c3col_right\">1</span></td></tr>\n",
       "</tbody>\n",
       "</table>\n",
       "<p>\n",
       "3 rows x 2 columns</p>\n",
       "</div>"
      ],
      "text/plain": [
       "===========================\n",
       "                      count\n",
       "---------------------------\n",
       "seqid('NC_000908')        1\n",
       "biotype('gene')           1\n",
       "num_rows('user')          1\n",
       "---------------------------\n",
       "\n",
       "3 rows x 2 columns"
      ]
     },
     "execution_count": 6,
     "metadata": {},
     "output_type": "execute_result"
    }
   ],
   "source": [
    " anno_db.add_feature(\n",
    "           seqid=\"NC_000908\",\n",
    "           biotype=\"gene\",\n",
    "           name=\"interesting_gene\",\n",
    "           spans=[(1, 4)],\n",
    "           strand=\"+\",\n",
    "            )\n",
    "anno_db.describe"
   ]
  },
  {
   "cell_type": "code",
   "execution_count": 7,
   "id": "7208475a",
   "metadata": {
    "execution": {
     "iopub.execute_input": "2023-07-17T11:20:42.813952Z",
     "iopub.status.busy": "2023-07-17T11:20:42.813890Z",
     "iopub.status.idle": "2023-07-17T11:20:42.816502Z",
     "shell.execute_reply": "2023-07-17T11:20:42.816292Z"
    }
   },
   "outputs": [
    {
     "data": {
      "text/html": [
       "\n",
       "<div class=\"c3table\">\n",
       "\n",
       "<style>\n",
       ".c3table table {margin: 10px 0;}\n",
       ".c3table tr:last-child {border-bottom: 1px solid #000;} \n",
       ".c3table tr > th {text-align: left; padding: 0 5px;}\n",
       ".c3table tr > td {text-align: left; padding: 5px;}\n",
       ".c3table tr:nth-child(even) {background: #f7f7f7 !important;}\n",
       ".c3table .ellipsis {background: rgba(0, 0, 0, .01);}\n",
       ".c3table .index {background: rgba(161, 195, 209, 0.0); margin: 10px; font-weight: 600;}\n",
       ".c3table .head_cell {background: rgba(161, 195, 209, 0.75); font-weight: bold; text-align: center;}\n",
       ".c3table caption {color: rgb(250, 250, 250); background: rgba(30, 140, 200, 1); padding: 3px; white-space: nowrap; caption-side: top;}\n",
       ".c3table .cell_title {font-weight: bold;}\n",
       ".c3col_left { text-align: left !important; display: block;}\n",
       ".c3col_right { text-align: right !important; display: block;}\n",
       ".c3col_center { text-align: center !important; display: block;}\n",
       "</style>\n",
       "\n",
       "<table>\n",
       "\n",
       "<thead class=\"head_cell\">\n",
       "<th></th><th>count</th>\n",
       "</thead>\n",
       "<tbody>\n",
       "<tr><td><span class=\"c3col_left\">num_rows('gff')</span></td><td><span class=\"c3col_right\">1,169</span></td></tr>\n",
       "<tr><td><span class=\"c3col_left\">num_rows('user')</span></td><td><span class=\"c3col_right\">1</span></td></tr>\n",
       "</tbody>\n",
       "</table>\n",
       "<p>\n",
       "2 rows x 2 columns</p>\n",
       "</div>"
      ],
      "text/plain": [
       "=========================\n",
       "                    count\n",
       "-------------------------\n",
       "num_rows('gff')     1,169\n",
       "num_rows('user')        1\n",
       "-------------------------\n",
       "\n",
       "2 rows x 2 columns"
      ]
     },
     "execution_count": 7,
     "metadata": {},
     "output_type": "execute_result"
    }
   ],
   "source": [
    "gff_db.add_feature(\n",
    "    seqid=\"seq1\",\n",
    "    biotype=\"gene\",\n",
    "    name=\"interesting_gene\",\n",
    "    spans=[(1, 4)],\n",
    "    strand=\"+\",\n",
    ")\n",
    "gff_db.describe[-2:, :] # showing just last two rows"
   ]
  },
  {
   "cell_type": "code",
   "execution_count": 8,
   "id": "6387ec49",
   "metadata": {
    "execution": {
     "iopub.execute_input": "2023-07-17T11:20:42.817499Z",
     "iopub.status.busy": "2023-07-17T11:20:42.817439Z",
     "iopub.status.idle": "2023-07-17T11:20:42.819568Z",
     "shell.execute_reply": "2023-07-17T11:20:42.819363Z"
    }
   },
   "outputs": [
    {
     "data": {
      "text/plain": [
       "[{'seqid': 'NC_000908',\n",
       "  'biotype': 'gene',\n",
       "  'spans': [(170011, 171529)],\n",
       "  'name': 'MG_RS00775',\n",
       "  'on_alignment': None,\n",
       "  'reversed': False}]"
      ]
     },
     "execution_count": 8,
     "metadata": {},
     "output_type": "execute_result"
    }
   ],
   "source": [
    "mg_16s = list(\n",
    "    gb_db.get_features_matching(\n",
    "        name=\"MG_RS00775\", biotype=\"gene\", seqid=\"NC_000908\"\n",
    "    )\n",
    ")\n",
    "mg_16s"
   ]
  },
  {
   "cell_type": "code",
   "execution_count": 9,
   "id": "aacff299",
   "metadata": {
    "execution": {
     "iopub.execute_input": "2023-07-17T11:20:42.820565Z",
     "iopub.status.busy": "2023-07-17T11:20:42.820509Z",
     "iopub.status.idle": "2023-07-17T11:20:42.822877Z",
     "shell.execute_reply": "2023-07-17T11:20:42.822665Z"
    }
   },
   "outputs": [
    {
     "data": {
      "text/plain": [
       "[{'seqid': 'NC_000908.2',\n",
       "  'biotype': 'pseudogene',\n",
       "  'spans': [(85561, 86589)],\n",
       "  'name': 'gene-MG_RS02910',\n",
       "  'on_alignment': None,\n",
       "  'reversed': False},\n",
       " {'seqid': 'NC_000908.2',\n",
       "  'biotype': 'pseudogene',\n",
       "  'spans': [(86784, 87549)],\n",
       "  'name': 'gene-MG_RS00385',\n",
       "  'on_alignment': None,\n",
       "  'reversed': False}]"
      ]
     },
     "execution_count": 9,
     "metadata": {},
     "output_type": "execute_result"
    }
   ],
   "source": [
    "pseudogenes = list(gff_db.get_features_matching(biotype=\"pseudogene\"))\n",
    "pseudogenes[:2] # showing just the first two"
   ]
  },
  {
   "cell_type": "code",
   "execution_count": 10,
   "id": "5dd998a6",
   "metadata": {
    "execution": {
     "iopub.execute_input": "2023-07-17T11:20:42.823871Z",
     "iopub.status.busy": "2023-07-17T11:20:42.823816Z",
     "iopub.status.idle": "2023-07-17T11:20:42.825983Z",
     "shell.execute_reply": "2023-07-17T11:20:42.825798Z"
    }
   },
   "outputs": [
    {
     "data": {
      "text/plain": [
       "[{'seqid': 'NC_000908.2',\n",
       "  'biotype': 'CDS',\n",
       "  'spans': [(220606, 221563)],\n",
       "  'name': 'cds-WP_009886005.1',\n",
       "  'on_alignment': None,\n",
       "  'reversed': False},\n",
       " {'seqid': 'NC_000908.2',\n",
       "  'biotype': 'CDS',\n",
       "  'spans': [(221569, 225904)],\n",
       "  'name': 'cds-WP_010869366.1',\n",
       "  'on_alignment': None,\n",
       "  'reversed': False},\n",
       " {'seqid': 'NC_000908.2',\n",
       "  'biotype': 'CDS',\n",
       "  'spans': [(225914, 229067)],\n",
       "  'name': 'cds-WP_041593683.1',\n",
       "  'on_alignment': None,\n",
       "  'reversed': False}]"
      ]
     },
     "execution_count": 10,
     "metadata": {},
     "output_type": "execute_result"
    }
   ],
   "source": [
    "operon_cds = list(\n",
    "    gff_db.get_features_matching(start=220600, end=229067, biotype=\"CDS\")\n",
    ")\n",
    "operon_cds"
   ]
  },
  {
   "cell_type": "code",
   "execution_count": 11,
   "id": "ca2f5439",
   "metadata": {
    "execution": {
     "iopub.execute_input": "2023-07-17T11:20:42.827020Z",
     "iopub.status.busy": "2023-07-17T11:20:42.826960Z",
     "iopub.status.idle": "2023-07-17T11:20:42.829390Z",
     "shell.execute_reply": "2023-07-17T11:20:42.829197Z"
    }
   },
   "outputs": [
    {
     "data": {
      "text/plain": [
       "{'seqid': 'NC_000908.2',\n",
       " 'source': 'Protein Homology',\n",
       " 'biotype': 'CDS',\n",
       " 'start': 685,\n",
       " 'end': 1828,\n",
       " 'score': '.',\n",
       " 'strand': '+',\n",
       " 'phase': '0',\n",
       " 'attributes': 'ID=cds-WP_009885562.1;Parent=gene-MG_RS00005;Dbxref=Genbank:WP_009885562.1;Name=WP_009885562.1;Ontology_term=GO:0006260,GO:0003887,GO:0009360;gbkey=CDS;gene=dnaN;go_component=DNA polymerase III complex|0009360||IEA;go_function=DNA-directed DNA polymerase activity|0003887||IEA;go_process=DNA replication|0006260||IEA;inference=COORDINATES: similar to AA sequence:RefSeq:WP_010874358.1;locus_tag=MG_RS00005;product=DNA polymerase III subunit beta;protein_id=WP_009885562.1;transl_table=4',\n",
       " 'comments': None,\n",
       " 'spans': array([[ 685, 1828]]),\n",
       " 'name': 'cds-WP_009885562.1',\n",
       " 'parent_id': 'gene-MG_RS00005'}"
      ]
     },
     "execution_count": 11,
     "metadata": {},
     "output_type": "execute_result"
    }
   ],
   "source": [
    "replication_records = list(\n",
    "    gff_db.get_records_matching(attributes=\"replication\", biotype=\"CDS\")\n",
    ")\n",
    "replication_records[0] # showing just the first match"
   ]
  },
  {
   "cell_type": "code",
   "execution_count": 12,
   "id": "db5d4ecb",
   "metadata": {
    "execution": {
     "iopub.execute_input": "2023-07-17T11:20:42.830432Z",
     "iopub.status.busy": "2023-07-17T11:20:42.830352Z",
     "iopub.status.idle": "2023-07-17T11:20:42.832219Z",
     "shell.execute_reply": "2023-07-17T11:20:42.832014Z"
    }
   },
   "outputs": [
    {
     "data": {
      "text/plain": [
       "563"
      ]
     },
     "execution_count": 12,
     "metadata": {},
     "output_type": "execute_result"
    }
   ],
   "source": [
    "gb_db.num_matches(biotype=\"gene\")"
   ]
  },
  {
   "cell_type": "code",
   "execution_count": 13,
   "id": "38f9421c",
   "metadata": {
    "execution": {
     "iopub.execute_input": "2023-07-17T11:20:42.833223Z",
     "iopub.status.busy": "2023-07-17T11:20:42.833165Z",
     "iopub.status.idle": "2023-07-17T11:20:42.835850Z",
     "shell.execute_reply": "2023-07-17T11:20:42.835632Z"
    }
   },
   "outputs": [
    {
     "data": {
      "text/plain": [
       "561"
      ]
     },
     "execution_count": 13,
     "metadata": {},
     "output_type": "execute_result"
    }
   ],
   "source": [
    "total_genes = gb_db.count_distinct(biotype=\"gene\", name=True)\n",
    "single_copy = total_genes[total_genes.columns[\"count\"] == 1, :]\n",
    "len(single_copy)"
   ]
  },
  {
   "cell_type": "code",
   "execution_count": 14,
   "id": "0eb0ab8d",
   "metadata": {
    "execution": {
     "iopub.execute_input": "2023-07-17T11:20:42.836920Z",
     "iopub.status.busy": "2023-07-17T11:20:42.836854Z",
     "iopub.status.idle": "2023-07-17T11:20:42.839735Z",
     "shell.execute_reply": "2023-07-17T11:20:42.839536Z"
    }
   },
   "outputs": [
    {
     "name": "stdout",
     "output_type": "stream",
     "text": [
      "total genes:  547\n",
      "single copy genes:  547\n"
     ]
    }
   ],
   "source": [
    "total_genes = gff_db.num_matches(biotype=\"gene\")\n",
    "print(\"total genes: \", total_genes)\n",
    "genes = gff_db.count_distinct(biotype=\"gene\", name=True)\n",
    "single_copy = genes[genes.columns[\"count\"] == 1, :]\n",
    "print(\"single copy genes: \", len(single_copy))"
   ]
  },
  {
   "cell_type": "code",
   "execution_count": 15,
   "id": "a84fc87d",
   "metadata": {
    "execution": {
     "iopub.execute_input": "2023-07-17T11:20:42.840737Z",
     "iopub.status.busy": "2023-07-17T11:20:42.840679Z",
     "iopub.status.idle": "2023-07-17T11:20:42.842845Z",
     "shell.execute_reply": "2023-07-17T11:20:42.842642Z"
    }
   },
   "outputs": [
    {
     "data": {
      "text/plain": [
       "[{'seqid': 'NC_000908.2',\n",
       "  'biotype': 'CDS',\n",
       "  'spans': [(9155, 9920)],\n",
       "  'name': 'cds-WP_009885556.1',\n",
       "  'on_alignment': None,\n",
       "  'reversed': False}]"
      ]
     },
     "execution_count": 15,
     "metadata": {},
     "output_type": "execute_result"
    }
   ],
   "source": [
    "children = list(gff_db.get_feature_children(name=\"gene-MG_RS00035\"))\n",
    "children"
   ]
  },
  {
   "cell_type": "code",
   "execution_count": 16,
   "id": "4a7b1677",
   "metadata": {
    "execution": {
     "iopub.execute_input": "2023-07-17T11:20:42.843820Z",
     "iopub.status.busy": "2023-07-17T11:20:42.843742Z",
     "iopub.status.idle": "2023-07-17T11:20:42.845927Z",
     "shell.execute_reply": "2023-07-17T11:20:42.845713Z"
    }
   },
   "outputs": [
    {
     "data": {
      "text/plain": [
       "[{'seqid': 'NC_000908.2',\n",
       "  'biotype': 'gene',\n",
       "  'spans': [(9155, 9920)],\n",
       "  'name': 'gene-MG_RS00035',\n",
       "  'on_alignment': None,\n",
       "  'reversed': False}]"
      ]
     },
     "execution_count": 16,
     "metadata": {},
     "output_type": "execute_result"
    }
   ],
   "source": [
    "parents = list(gff_db.get_feature_parent(name=\"cds-WP_009885556.1\"))\n",
    "parents"
   ]
  },
  {
   "cell_type": "code",
   "execution_count": 17,
   "id": "d10b9850",
   "metadata": {
    "execution": {
     "iopub.execute_input": "2023-07-17T11:20:42.846978Z",
     "iopub.status.busy": "2023-07-17T11:20:42.846908Z",
     "iopub.status.idle": "2023-07-17T11:20:42.848652Z",
     "shell.execute_reply": "2023-07-17T11:20:42.848454Z"
    }
   },
   "outputs": [
    {
     "data": {
      "text/plain": [
       "True"
      ]
     },
     "execution_count": 17,
     "metadata": {},
     "output_type": "execute_result"
    }
   ],
   "source": [
    "gff_db.compatible(anno_db)"
   ]
  },
  {
   "cell_type": "code",
   "execution_count": 18,
   "id": "503d24e2",
   "metadata": {
    "execution": {
     "iopub.execute_input": "2023-07-17T11:20:42.849634Z",
     "iopub.status.busy": "2023-07-17T11:20:42.849575Z",
     "iopub.status.idle": "2023-07-17T11:20:42.851363Z",
     "shell.execute_reply": "2023-07-17T11:20:42.851164Z"
    }
   },
   "outputs": [
    {
     "data": {
      "text/plain": [
       "False"
      ]
     },
     "execution_count": 18,
     "metadata": {},
     "output_type": "execute_result"
    }
   ],
   "source": [
    "gff_db.compatible(gb_db)"
   ]
  },
  {
   "cell_type": "code",
   "execution_count": 19,
   "id": "e65fbbbe",
   "metadata": {
    "execution": {
     "iopub.execute_input": "2023-07-17T11:20:42.852339Z",
     "iopub.status.busy": "2023-07-17T11:20:42.852282Z",
     "iopub.status.idle": "2023-07-17T11:20:42.863703Z",
     "shell.execute_reply": "2023-07-17T11:20:42.863505Z"
    }
   },
   "outputs": [
    {
     "data": {
      "text/html": [
       "\n",
       "<div class=\"c3table\">\n",
       "\n",
       "<style>\n",
       ".c3table table {margin: 10px 0;}\n",
       ".c3table tr:last-child {border-bottom: 1px solid #000;} \n",
       ".c3table tr > th {text-align: left; padding: 0 5px;}\n",
       ".c3table tr > td {text-align: left; padding: 5px;}\n",
       ".c3table tr:nth-child(even) {background: #f7f7f7 !important;}\n",
       ".c3table .ellipsis {background: rgba(0, 0, 0, .01);}\n",
       ".c3table .index {background: rgba(161, 195, 209, 0.0); margin: 10px; font-weight: 600;}\n",
       ".c3table .head_cell {background: rgba(161, 195, 209, 0.75); font-weight: bold; text-align: center;}\n",
       ".c3table caption {color: rgb(250, 250, 250); background: rgba(30, 140, 200, 1); padding: 3px; white-space: nowrap; caption-side: top;}\n",
       ".c3table .cell_title {font-weight: bold;}\n",
       ".c3col_left { text-align: left !important; display: block;}\n",
       ".c3col_right { text-align: right !important; display: block;}\n",
       ".c3col_center { text-align: center !important; display: block;}\n",
       "</style>\n",
       "\n",
       "<table>\n",
       "\n",
       "<thead class=\"head_cell\">\n",
       "<th></th><th>count</th>\n",
       "</thead>\n",
       "<tbody>\n",
       "<tr><td><span class=\"c3col_left\">num_rows('gb')</span></td><td><span class=\"c3col_right\">1,127</span></td></tr>\n",
       "<tr><td><span class=\"c3col_left\">num_rows('user')</span></td><td><span class=\"c3col_right\">1</span></td></tr>\n",
       "</tbody>\n",
       "</table>\n",
       "<p>\n",
       "2 rows x 2 columns</p>\n",
       "</div>"
      ],
      "text/plain": [
       "=========================\n",
       "                    count\n",
       "-------------------------\n",
       "num_rows('gb')      1,127\n",
       "num_rows('user')        1\n",
       "-------------------------\n",
       "\n",
       "2 rows x 2 columns"
      ]
     },
     "execution_count": 19,
     "metadata": {},
     "output_type": "execute_result"
    }
   ],
   "source": [
    "union_db = gb_db.union(anno_db)\n",
    "union_db.describe[-2:, :]"
   ]
  },
  {
   "cell_type": "code",
   "execution_count": 20,
   "id": "57530374",
   "metadata": {
    "execution": {
     "iopub.execute_input": "2023-07-17T11:20:42.864709Z",
     "iopub.status.busy": "2023-07-17T11:20:42.864651Z",
     "iopub.status.idle": "2023-07-17T11:20:42.867313Z",
     "shell.execute_reply": "2023-07-17T11:20:42.867102Z"
    }
   },
   "outputs": [
    {
     "data": {
      "text/html": [
       "\n",
       "<div class=\"c3table\">\n",
       "\n",
       "<style>\n",
       ".c3table table {margin: 10px 0;}\n",
       ".c3table tr:last-child {border-bottom: 1px solid #000;} \n",
       ".c3table tr > th {text-align: left; padding: 0 5px;}\n",
       ".c3table tr > td {text-align: left; padding: 5px;}\n",
       ".c3table tr:nth-child(even) {background: #f7f7f7 !important;}\n",
       ".c3table .ellipsis {background: rgba(0, 0, 0, .01);}\n",
       ".c3table .index {background: rgba(161, 195, 209, 0.0); margin: 10px; font-weight: 600;}\n",
       ".c3table .head_cell {background: rgba(161, 195, 209, 0.75); font-weight: bold; text-align: center;}\n",
       ".c3table caption {color: rgb(250, 250, 250); background: rgba(30, 140, 200, 1); padding: 3px; white-space: nowrap; caption-side: top;}\n",
       ".c3table .cell_title {font-weight: bold;}\n",
       ".c3col_left { text-align: left !important; display: block;}\n",
       ".c3col_right { text-align: right !important; display: block;}\n",
       ".c3col_center { text-align: center !important; display: block;}\n",
       "</style>\n",
       "\n",
       "<table>\n",
       "\n",
       "<thead class=\"head_cell\">\n",
       "<th></th><th>count</th>\n",
       "</thead>\n",
       "<tbody>\n",
       "<tr><td><span class=\"c3col_left\">num_rows('gff')</span></td><td><span class=\"c3col_right\">1,169</span></td></tr>\n",
       "<tr><td><span class=\"c3col_left\">num_rows('user')</span></td><td><span class=\"c3col_right\">2</span></td></tr>\n",
       "</tbody>\n",
       "</table>\n",
       "<p>\n",
       "2 rows x 2 columns</p>\n",
       "</div>"
      ],
      "text/plain": [
       "=========================\n",
       "                    count\n",
       "-------------------------\n",
       "num_rows('gff')     1,169\n",
       "num_rows('user')        2\n",
       "-------------------------\n",
       "\n",
       "2 rows x 2 columns"
      ]
     },
     "execution_count": 20,
     "metadata": {},
     "output_type": "execute_result"
    }
   ],
   "source": [
    "gff_db.update(anno_db)\n",
    "gff_db.describe[-2:, :]"
   ]
  },
  {
   "cell_type": "code",
   "execution_count": 21,
   "id": "8a211322",
   "metadata": {
    "execution": {
     "iopub.execute_input": "2023-07-17T11:20:42.868294Z",
     "iopub.status.busy": "2023-07-17T11:20:42.868234Z",
     "iopub.status.idle": "2023-07-17T11:20:42.871952Z",
     "shell.execute_reply": "2023-07-17T11:20:42.871754Z"
    }
   },
   "outputs": [
    {
     "data": {
      "text/plain": [
       "GenbankAnnotationDb(seqid='<multiple seqids>', source='m-genitalium-database.gbdb', namer=None, total_records=1)"
      ]
     },
     "execution_count": 21,
     "metadata": {},
     "output_type": "execute_result"
    }
   ],
   "source": [
    "from cogent3.core.annotation_db import GenbankAnnotationDb\n",
    "\n",
    "new_gb_db = GenbankAnnotationDb(source=\"m-genitalium-database.gbdb\", db=anno_db)\n",
    "new_gb_db"
   ]
  },
  {
   "cell_type": "code",
   "execution_count": 22,
   "id": "aefcccef",
   "metadata": {
    "execution": {
     "iopub.execute_input": "2023-07-17T11:20:42.872935Z",
     "iopub.status.busy": "2023-07-17T11:20:42.872882Z",
     "iopub.status.idle": "2023-07-17T11:20:42.874936Z",
     "shell.execute_reply": "2023-07-17T11:20:42.874782Z"
    }
   },
   "outputs": [
    {
     "data": {
      "text/plain": [
       "BasicAnnotationDb(source=':memory:', total_records=1)"
      ]
     },
     "execution_count": 22,
     "metadata": {},
     "output_type": "execute_result"
    }
   ],
   "source": [
    "from cogent3 import make_seq\n",
    "\n",
    "seq1 = make_seq(\n",
    "    \"AAGAAGAAGACCCCCAAAAAAAAAATTTTTTTTTTAAAAAGGGAACCCT\",\n",
    "    name=\"NC_000908\",\n",
    "    moltype=\"dna\",\n",
    ")\n",
    "\n",
    "seq1.annotation_db = anno_db\n",
    "seq1.annotation_db"
   ]
  },
  {
   "cell_type": "code",
   "execution_count": 23,
   "id": "7a855831",
   "metadata": {
    "execution": {
     "iopub.execute_input": "2023-07-17T11:20:42.875944Z",
     "iopub.status.busy": "2023-07-17T11:20:42.875877Z",
     "iopub.status.idle": "2023-07-17T11:20:42.915333Z",
     "shell.execute_reply": "2023-07-17T11:20:42.915123Z"
    }
   },
   "outputs": [
    {
     "data": {
      "text/plain": [
       "GenbankAnnotationDb(seqid='NC_000908', source=':memory:', namer=None, total_records=1127)"
      ]
     },
     "execution_count": 23,
     "metadata": {},
     "output_type": "execute_result"
    }
   ],
   "source": [
    "from cogent3 import load_seq\n",
    "\n",
    "gb_seq = load_seq(\"data/mycoplasma-genitalium.gb\")\n",
    "gb_seq.annotation_db"
   ]
  },
  {
   "cell_type": "code",
   "execution_count": 24,
   "id": "63ed543a",
   "metadata": {
    "execution": {
     "iopub.execute_input": "2023-07-17T11:20:42.916336Z",
     "iopub.status.busy": "2023-07-17T11:20:42.916272Z",
     "iopub.status.idle": "2023-07-17T11:20:42.924065Z",
     "shell.execute_reply": "2023-07-17T11:20:42.923889Z"
    }
   },
   "outputs": [
    {
     "data": {
      "text/plain": [
       "GffAnnotationDb(source=':memory:', total_records=0)"
      ]
     },
     "execution_count": 24,
     "metadata": {},
     "output_type": "execute_result"
    }
   ],
   "source": [
    "gff_seq = load_seq(\n",
    "    \"data/mycoplasma-genitalium.fa\",\n",
    "    annotation_path=\"data/mycoplasma-genitalium.gff\",\n",
    ")\n",
    "gff_seq.annotation_db"
   ]
  },
  {
   "cell_type": "code",
   "execution_count": 25,
   "id": "f92b50a4",
   "metadata": {
    "execution": {
     "iopub.execute_input": "2023-07-17T11:20:42.925091Z",
     "iopub.status.busy": "2023-07-17T11:20:42.925032Z",
     "iopub.status.idle": "2023-07-17T11:20:42.940337Z",
     "shell.execute_reply": "2023-07-17T11:20:42.940151Z"
    }
   },
   "outputs": [
    {
     "data": {
      "text/plain": [
       "GffAnnotationDb(source=':memory:', total_records=1169)"
      ]
     },
     "execution_count": 25,
     "metadata": {},
     "output_type": "execute_result"
    }
   ],
   "source": [
    "seq = load_seq(\n",
    "    \"data/mycoplasma-genitalium.fa\",\n",
    "    annotation_path=\"data/mycoplasma-genitalium.gff\",\n",
    "    label_to_name=lambda x: x.split()[0],\n",
    ")\n",
    "seq.annotation_db"
   ]
  },
  {
   "cell_type": "code",
   "execution_count": 26,
   "id": "eb8125dd",
   "metadata": {
    "execution": {
     "iopub.execute_input": "2023-07-17T11:20:42.941366Z",
     "iopub.status.busy": "2023-07-17T11:20:42.941307Z",
     "iopub.status.idle": "2023-07-17T11:20:42.942836Z",
     "shell.execute_reply": "2023-07-17T11:20:42.942630Z"
    }
   },
   "outputs": [],
   "source": [
    "import pathlib\n",
    "\n",
    "# clean up files\n",
    "\n",
    "path = pathlib.Path(\"m-genitalium-database.gbdb\")\n",
    "path.unlink()"
   ]
  }
 ],
 "metadata": {
  "kernelspec": {
   "display_name": "Python 3 (ipykernel)",
   "language": "python",
   "name": "python3"
  },
  "language_info": {
   "codemirror_mode": {
    "name": "ipython",
    "version": 3
   },
   "file_extension": ".py",
   "mimetype": "text/x-python",
   "name": "python",
   "nbconvert_exporter": "python",
   "pygments_lexer": "ipython3",
   "version": "3.11.4"
  }
 },
 "nbformat": 4,
 "nbformat_minor": 5
}