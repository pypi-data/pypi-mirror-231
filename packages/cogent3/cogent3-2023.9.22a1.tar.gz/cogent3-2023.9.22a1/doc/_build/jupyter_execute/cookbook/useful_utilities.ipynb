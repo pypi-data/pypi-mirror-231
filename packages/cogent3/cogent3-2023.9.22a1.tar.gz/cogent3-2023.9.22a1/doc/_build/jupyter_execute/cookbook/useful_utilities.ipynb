{
 "cells": [
  {
   "cell_type": "code",
   "execution_count": 1,
   "id": "e2f63a08",
   "metadata": {
    "execution": {
     "iopub.execute_input": "2023-07-17T11:21:50.077878Z",
     "iopub.status.busy": "2023-07-17T11:21:50.077381Z",
     "iopub.status.idle": "2023-07-17T11:21:50.946750Z",
     "shell.execute_reply": "2023-07-17T11:21:50.946461Z"
    }
   },
   "outputs": [
    {
     "data": {
      "text/plain": [
       "2"
      ]
     },
     "execution_count": 1,
     "metadata": {},
     "output_type": "execute_result"
    }
   ],
   "source": [
    "from cogent3.util.union_dict import UnionDict\n",
    "\n",
    "data = UnionDict(a=2, b={\"c\": 24, \"d\": [25]})\n",
    "data.a"
   ]
  },
  {
   "cell_type": "code",
   "execution_count": 2,
   "id": "4e929cfd",
   "metadata": {
    "execution": {
     "iopub.execute_input": "2023-07-17T11:21:50.948103Z",
     "iopub.status.busy": "2023-07-17T11:21:50.948010Z",
     "iopub.status.idle": "2023-07-17T11:21:50.949992Z",
     "shell.execute_reply": "2023-07-17T11:21:50.949774Z"
    }
   },
   "outputs": [
    {
     "data": {
      "text/plain": [
       "2"
      ]
     },
     "execution_count": 2,
     "metadata": {},
     "output_type": "execute_result"
    }
   ],
   "source": [
    "data[\"a\"]"
   ]
  },
  {
   "cell_type": "code",
   "execution_count": 3,
   "id": "0d6d456b",
   "metadata": {
    "execution": {
     "iopub.execute_input": "2023-07-17T11:21:50.951124Z",
     "iopub.status.busy": "2023-07-17T11:21:50.951059Z",
     "iopub.status.idle": "2023-07-17T11:21:50.952850Z",
     "shell.execute_reply": "2023-07-17T11:21:50.952636Z"
    }
   },
   "outputs": [
    {
     "data": {
      "text/plain": [
       "[25]"
      ]
     },
     "execution_count": 3,
     "metadata": {},
     "output_type": "execute_result"
    }
   ],
   "source": [
    "data.b.d"
   ]
  },
  {
   "cell_type": "code",
   "execution_count": 4,
   "id": "3eced580",
   "metadata": {
    "execution": {
     "iopub.execute_input": "2023-07-17T11:21:50.953927Z",
     "iopub.status.busy": "2023-07-17T11:21:50.953865Z",
     "iopub.status.idle": "2023-07-17T11:21:50.956061Z",
     "shell.execute_reply": "2023-07-17T11:21:50.955836Z"
    }
   },
   "outputs": [
    {
     "data": {
      "text/plain": [
       "{'c': 24, 'd': 25}"
      ]
     },
     "execution_count": 4,
     "metadata": {},
     "output_type": "execute_result"
    }
   ],
   "source": [
    "from cogent3.util.union_dict import UnionDict\n",
    "\n",
    "data = UnionDict(a=2, b={\"c\": 24, \"d\": [25]})\n",
    "data.b |= {\"d\": 25}\n",
    "data.b"
   ]
  },
  {
   "cell_type": "code",
   "execution_count": 5,
   "id": "09bb119c",
   "metadata": {
    "execution": {
     "iopub.execute_input": "2023-07-17T11:21:50.957145Z",
     "iopub.status.busy": "2023-07-17T11:21:50.957080Z",
     "iopub.status.idle": "2023-07-17T11:21:50.958539Z",
     "shell.execute_reply": "2023-07-17T11:21:50.958317Z"
    }
   },
   "outputs": [],
   "source": [
    "data.b.union({\"d\": [25]})"
   ]
  },
  {
   "cell_type": "code",
   "execution_count": 6,
   "id": "513156fb",
   "metadata": {
    "execution": {
     "iopub.execute_input": "2023-07-17T11:21:50.959644Z",
     "iopub.status.busy": "2023-07-17T11:21:50.959573Z",
     "iopub.status.idle": "2023-07-17T11:21:50.961320Z",
     "shell.execute_reply": "2023-07-17T11:21:50.961115Z"
    }
   },
   "outputs": [
    {
     "data": {
      "text/plain": [
       "{'c': 24, 'd': [25]}"
      ]
     },
     "execution_count": 6,
     "metadata": {},
     "output_type": "execute_result"
    }
   ],
   "source": [
    "data.b\n",
    "{\"c\": 24, \"d\": [25]}"
   ]
  },
  {
   "cell_type": "code",
   "execution_count": 7,
   "id": "3036dfb6",
   "metadata": {
    "execution": {
     "iopub.execute_input": "2023-07-17T11:21:50.962369Z",
     "iopub.status.busy": "2023-07-17T11:21:50.962286Z",
     "iopub.status.idle": "2023-07-17T11:21:51.107518Z",
     "shell.execute_reply": "2023-07-17T11:21:51.107263Z"
    }
   },
   "outputs": [
    {
     "ename": "KeyError",
     "evalue": "'k'",
     "output_type": "error",
     "traceback": [
      "\u001b[0;31m---------------------------------------------------------------------------\u001b[0m",
      "\u001b[0;31mKeyError\u001b[0m                                  Traceback (most recent call last)",
      "Cell \u001b[0;32mIn[7], line 4\u001b[0m\n\u001b[1;32m      1\u001b[0m \u001b[38;5;28;01mfrom\u001b[39;00m \u001b[38;5;21;01mcogent3\u001b[39;00m\u001b[38;5;21;01m.\u001b[39;00m\u001b[38;5;21;01mutil\u001b[39;00m\u001b[38;5;21;01m.\u001b[39;00m\u001b[38;5;21;01munion_dict\u001b[39;00m \u001b[38;5;28;01mimport\u001b[39;00m UnionDict\n\u001b[1;32m      3\u001b[0m data \u001b[38;5;241m=\u001b[39m UnionDict(a\u001b[38;5;241m=\u001b[39m\u001b[38;5;241m2\u001b[39m, b\u001b[38;5;241m=\u001b[39m{\u001b[38;5;124m\"\u001b[39m\u001b[38;5;124mc\u001b[39m\u001b[38;5;124m\"\u001b[39m: \u001b[38;5;241m24\u001b[39m, \u001b[38;5;124m\"\u001b[39m\u001b[38;5;124md\u001b[39m\u001b[38;5;124m\"\u001b[39m: [\u001b[38;5;241m25\u001b[39m]})\n\u001b[0;32m----> 4\u001b[0m \u001b[43mdata\u001b[49m\u001b[43m[\u001b[49m\u001b[38;5;124;43m\"\u001b[39;49m\u001b[38;5;124;43mk\u001b[39;49m\u001b[38;5;124;43m\"\u001b[39;49m\u001b[43m]\u001b[49m\n",
      "\u001b[0;31mKeyError\u001b[0m: 'k'"
     ]
    }
   ],
   "source": [
    "from cogent3.util.union_dict import UnionDict\n",
    "\n",
    "data = UnionDict(a=2, b={\"c\": 24, \"d\": [25]})\n",
    "data[\"k\"]"
   ]
  },
  {
   "cell_type": "code",
   "execution_count": 8,
   "id": "622bb714",
   "metadata": {
    "execution": {
     "iopub.execute_input": "2023-07-17T11:21:51.108660Z",
     "iopub.status.busy": "2023-07-17T11:21:51.108589Z",
     "iopub.status.idle": "2023-07-17T11:21:51.121671Z",
     "shell.execute_reply": "2023-07-17T11:21:51.121452Z"
    }
   },
   "outputs": [
    {
     "ename": "AttributeError",
     "evalue": "'k' not a key or attribute",
     "output_type": "error",
     "traceback": [
      "\u001b[0;31m---------------------------------------------------------------------------\u001b[0m",
      "\u001b[0;31mAttributeError\u001b[0m                            Traceback (most recent call last)",
      "File \u001b[0;32m~/miniconda3/envs/c3docs/lib/python3.11/site-packages/cogent3/util/union_dict.py:36\u001b[0m, in \u001b[0;36mUnionDict.__getattr__\u001b[0;34m(self, item)\u001b[0m\n\u001b[1;32m     35\u001b[0m \u001b[38;5;28;01mtry\u001b[39;00m:\n\u001b[0;32m---> 36\u001b[0m     \u001b[38;5;28;01mreturn\u001b[39;00m \u001b[38;5;28;43msuper\u001b[39;49m\u001b[43m(\u001b[49m\u001b[43m)\u001b[49m\u001b[38;5;241;43m.\u001b[39;49m\u001b[38;5;21;43m__getattr__\u001b[39;49m(item)\n\u001b[1;32m     37\u001b[0m \u001b[38;5;28;01mexcept\u001b[39;00m \u001b[38;5;167;01mAttributeError\u001b[39;00m:\n",
      "\u001b[0;31mAttributeError\u001b[0m: 'super' object has no attribute '__getattr__'",
      "\nDuring handling of the above exception, another exception occurred:\n",
      "\u001b[0;31mAttributeError\u001b[0m                            Traceback (most recent call last)",
      "Cell \u001b[0;32mIn[8], line 1\u001b[0m\n\u001b[0;32m----> 1\u001b[0m \u001b[43mdata\u001b[49m\u001b[38;5;241;43m.\u001b[39;49m\u001b[43mk\u001b[49m\n",
      "File \u001b[0;32m~/miniconda3/envs/c3docs/lib/python3.11/site-packages/cogent3/util/union_dict.py:38\u001b[0m, in \u001b[0;36mUnionDict.__getattr__\u001b[0;34m(self, item)\u001b[0m\n\u001b[1;32m     36\u001b[0m     \u001b[38;5;28;01mreturn\u001b[39;00m \u001b[38;5;28msuper\u001b[39m()\u001b[38;5;241m.\u001b[39m\u001b[38;5;21m__getattr__\u001b[39m(item)\n\u001b[1;32m     37\u001b[0m \u001b[38;5;28;01mexcept\u001b[39;00m \u001b[38;5;167;01mAttributeError\u001b[39;00m:\n\u001b[0;32m---> 38\u001b[0m     \u001b[38;5;28;01mraise\u001b[39;00m \u001b[38;5;167;01mAttributeError\u001b[39;00m(\u001b[38;5;124mf\u001b[39m\u001b[38;5;124m\"\u001b[39m\u001b[38;5;124m'\u001b[39m\u001b[38;5;132;01m{\u001b[39;00mitem\u001b[38;5;132;01m}\u001b[39;00m\u001b[38;5;124m'\u001b[39m\u001b[38;5;124m not a key or attribute\u001b[39m\u001b[38;5;124m\"\u001b[39m)\n",
      "\u001b[0;31mAttributeError\u001b[0m: 'k' not a key or attribute"
     ]
    }
   ],
   "source": [
    "data.k"
   ]
  },
  {
   "cell_type": "code",
   "execution_count": 9,
   "id": "c9d19c17",
   "metadata": {
    "execution": {
     "iopub.execute_input": "2023-07-17T11:21:51.122784Z",
     "iopub.status.busy": "2023-07-17T11:21:51.122721Z",
     "iopub.status.idle": "2023-07-17T11:21:51.124506Z",
     "shell.execute_reply": "2023-07-17T11:21:51.124283Z"
    }
   },
   "outputs": [],
   "source": [
    "import numpy\n",
    "\n",
    "def DiffOmega(omega):\n",
    "    def omega_from_S(S):\n",
    "        omega_est = S / (1 - numpy.e ** (-1 * S))\n",
    "        return abs(omega - omega_est) ** 2\n",
    "\n",
    "    return omega_from_S\n",
    "\n",
    "omega = 0.1\n",
    "f = DiffOmega(omega)"
   ]
  },
  {
   "cell_type": "code",
   "execution_count": 10,
   "id": "e1380c4b",
   "metadata": {
    "execution": {
     "iopub.execute_input": "2023-07-17T11:21:51.125623Z",
     "iopub.status.busy": "2023-07-17T11:21:51.125563Z",
     "iopub.status.idle": "2023-07-17T11:21:51.128728Z",
     "shell.execute_reply": "2023-07-17T11:21:51.128529Z"
    }
   },
   "outputs": [
    {
     "name": "stdout",
     "output_type": "stream",
     "text": [
      "S=-3.6150\n"
     ]
    }
   ],
   "source": [
    "from cogent3.maths.optimisers import maximise, minimise\n",
    "\n",
    "S = minimise(\n",
    "    f,  # the function\n",
    "    xinit=1.0,  # the initial value\n",
    "    bounds=(-100, 100),  # [lower,upper] bounds for the parameter\n",
    "    local=True,  # just local optimisation, not Simulated Annealing\n",
    "    show_progress=False,\n",
    ")\n",
    "assert 0.0 <= f(S) < 1e-6\n",
    "print(\"S=%.4f\" % S)"
   ]
  },
  {
   "cell_type": "code",
   "execution_count": 11,
   "id": "e72620d4",
   "metadata": {
    "execution": {
     "iopub.execute_input": "2023-07-17T11:21:51.129805Z",
     "iopub.status.busy": "2023-07-17T11:21:51.129746Z",
     "iopub.status.idle": "2023-07-17T11:21:51.135499Z",
     "shell.execute_reply": "2023-07-17T11:21:51.135286Z"
    }
   },
   "outputs": [
    {
     "ename": "TypeError",
     "evalue": "'int' object is not iterable",
     "output_type": "error",
     "traceback": [
      "\u001b[0;31m---------------------------------------------------------------------------\u001b[0m",
      "\u001b[0;31mTypeError\u001b[0m                                 Traceback (most recent call last)",
      "Cell \u001b[0;32mIn[11], line 4\u001b[0m\n\u001b[1;32m      1\u001b[0m \u001b[38;5;28;01mfrom\u001b[39;00m \u001b[38;5;21;01mcogent3\u001b[39;00m\u001b[38;5;21;01m.\u001b[39;00m\u001b[38;5;21;01mutil\u001b[39;00m\u001b[38;5;21;01m.\u001b[39;00m\u001b[38;5;21;01mmisc\u001b[39;00m \u001b[38;5;28;01mimport\u001b[39;00m iterable\n\u001b[1;32m      3\u001b[0m my_var \u001b[38;5;241m=\u001b[39m \u001b[38;5;241m10\u001b[39m\n\u001b[0;32m----> 4\u001b[0m \u001b[38;5;28;01mfor\u001b[39;00m i \u001b[38;5;129;01min\u001b[39;00m my_var:\n\u001b[1;32m      5\u001b[0m     \u001b[38;5;28mprint\u001b[39m(\u001b[38;5;124m\"\u001b[39m\u001b[38;5;124mwill not work\u001b[39m\u001b[38;5;124m\"\u001b[39m)\n\u001b[1;32m      7\u001b[0m \u001b[38;5;28;01mfor\u001b[39;00m i \u001b[38;5;129;01min\u001b[39;00m iterable(my_var):\n",
      "\u001b[0;31mTypeError\u001b[0m: 'int' object is not iterable"
     ]
    }
   ],
   "source": [
    "from cogent3.util.misc import iterable\n",
    "\n",
    "my_var = 10\n",
    "for i in my_var:\n",
    "    print(\"will not work\")\n",
    "\n",
    "for i in iterable(my_var):\n",
    "    print(i)"
   ]
  },
  {
   "cell_type": "code",
   "execution_count": 12,
   "id": "9b752069",
   "metadata": {
    "execution": {
     "iopub.execute_input": "2023-07-17T11:21:51.136569Z",
     "iopub.status.busy": "2023-07-17T11:21:51.136508Z",
     "iopub.status.idle": "2023-07-17T11:21:51.138548Z",
     "shell.execute_reply": "2023-07-17T11:21:51.138347Z"
    }
   },
   "outputs": [
    {
     "name": "stdout",
     "output_type": "stream",
     "text": [
      " curry(foo,5)\n",
      "== curried from foo ==\n",
      " Some function\n"
     ]
    },
    {
     "data": {
      "text/plain": [
       "15"
      ]
     },
     "execution_count": 12,
     "metadata": {},
     "output_type": "execute_result"
    }
   ],
   "source": [
    "from cogent3.util.misc import curry\n",
    "\n",
    "def foo(x, y):\n",
    "    \"\"\"Some function\"\"\"\n",
    "    return x + y\n",
    "\n",
    "bar = curry(foo, 5)\n",
    "print(bar.__doc__)\n",
    "bar(10)"
   ]
  },
  {
   "cell_type": "code",
   "execution_count": 13,
   "id": "89794b1e",
   "metadata": {
    "execution": {
     "iopub.execute_input": "2023-07-17T11:21:51.139784Z",
     "iopub.status.busy": "2023-07-17T11:21:51.139712Z",
     "iopub.status.idle": "2023-07-17T11:21:51.141698Z",
     "shell.execute_reply": "2023-07-17T11:21:51.141477Z"
    }
   },
   "outputs": [
    {
     "data": {
      "text/plain": [
       "True"
      ]
     },
     "execution_count": 13,
     "metadata": {},
     "output_type": "execute_result"
    }
   ],
   "source": [
    "from cogent3.util.misc import is_iterable\n",
    "\n",
    "can_iter = [1, 2, 3, 4]\n",
    "cannot_iter = 1.234\n",
    "is_iterable(can_iter)"
   ]
  },
  {
   "cell_type": "code",
   "execution_count": 14,
   "id": "7ee470e9",
   "metadata": {
    "execution": {
     "iopub.execute_input": "2023-07-17T11:21:51.142771Z",
     "iopub.status.busy": "2023-07-17T11:21:51.142712Z",
     "iopub.status.idle": "2023-07-17T11:21:51.144455Z",
     "shell.execute_reply": "2023-07-17T11:21:51.144259Z"
    }
   },
   "outputs": [
    {
     "data": {
      "text/plain": [
       "False"
      ]
     },
     "execution_count": 14,
     "metadata": {},
     "output_type": "execute_result"
    }
   ],
   "source": [
    "is_iterable(cannot_iter)"
   ]
  },
  {
   "cell_type": "code",
   "execution_count": 15,
   "id": "1aa8e0a8",
   "metadata": {
    "execution": {
     "iopub.execute_input": "2023-07-17T11:21:51.145478Z",
     "iopub.status.busy": "2023-07-17T11:21:51.145413Z",
     "iopub.status.idle": "2023-07-17T11:21:51.147249Z",
     "shell.execute_reply": "2023-07-17T11:21:51.147030Z"
    }
   },
   "outputs": [
    {
     "data": {
      "text/plain": [
       "True"
      ]
     },
     "execution_count": 15,
     "metadata": {},
     "output_type": "execute_result"
    }
   ],
   "source": [
    "from cogent3.util.misc import is_char\n",
    "\n",
    "class foo:\n",
    "    pass\n",
    "\n",
    "is_char(\"a\")"
   ]
  },
  {
   "cell_type": "code",
   "execution_count": 16,
   "id": "f885ad7f",
   "metadata": {
    "execution": {
     "iopub.execute_input": "2023-07-17T11:21:51.148438Z",
     "iopub.status.busy": "2023-07-17T11:21:51.148383Z",
     "iopub.status.idle": "2023-07-17T11:21:51.150008Z",
     "shell.execute_reply": "2023-07-17T11:21:51.149801Z"
    }
   },
   "outputs": [
    {
     "data": {
      "text/plain": [
       "False"
      ]
     },
     "execution_count": 16,
     "metadata": {},
     "output_type": "execute_result"
    }
   ],
   "source": [
    "is_char(\"ab\")"
   ]
  },
  {
   "cell_type": "code",
   "execution_count": 17,
   "id": "469219e9",
   "metadata": {
    "execution": {
     "iopub.execute_input": "2023-07-17T11:21:51.150996Z",
     "iopub.status.busy": "2023-07-17T11:21:51.150925Z",
     "iopub.status.idle": "2023-07-17T11:21:51.152555Z",
     "shell.execute_reply": "2023-07-17T11:21:51.152346Z"
    }
   },
   "outputs": [
    {
     "data": {
      "text/plain": [
       "False"
      ]
     },
     "execution_count": 17,
     "metadata": {},
     "output_type": "execute_result"
    }
   ],
   "source": [
    "is_char(foo())"
   ]
  },
  {
   "cell_type": "code",
   "execution_count": 18,
   "id": "7887b1a7",
   "metadata": {
    "execution": {
     "iopub.execute_input": "2023-07-17T11:21:51.153555Z",
     "iopub.status.busy": "2023-07-17T11:21:51.153498Z",
     "iopub.status.idle": "2023-07-17T11:21:51.155081Z",
     "shell.execute_reply": "2023-07-17T11:21:51.154874Z"
    }
   },
   "outputs": [],
   "source": [
    "from cogent3.util.misc import recursive_flatten\n",
    "\n",
    "l = [[[[1, 2], \"abcde\"], [5, 6]], [7, 8], [9, 10]]"
   ]
  },
  {
   "cell_type": "code",
   "execution_count": 19,
   "id": "9a2428c4",
   "metadata": {
    "execution": {
     "iopub.execute_input": "2023-07-17T11:21:51.156022Z",
     "iopub.status.busy": "2023-07-17T11:21:51.155966Z",
     "iopub.status.idle": "2023-07-17T11:21:51.157673Z",
     "shell.execute_reply": "2023-07-17T11:21:51.157455Z"
    }
   },
   "outputs": [
    {
     "data": {
      "text/plain": [
       "[1, 2, 'a', 'b', 'c', 'd', 'e', 5, 6, 7, 8, 9, 10]"
      ]
     },
     "execution_count": 19,
     "metadata": {},
     "output_type": "execute_result"
    }
   ],
   "source": [
    "recursive_flatten(l)"
   ]
  },
  {
   "cell_type": "code",
   "execution_count": 20,
   "id": "fd96c94d",
   "metadata": {
    "execution": {
     "iopub.execute_input": "2023-07-17T11:21:51.158727Z",
     "iopub.status.busy": "2023-07-17T11:21:51.158669Z",
     "iopub.status.idle": "2023-07-17T11:21:51.160371Z",
     "shell.execute_reply": "2023-07-17T11:21:51.160177Z"
    }
   },
   "outputs": [
    {
     "data": {
      "text/plain": [
       "True"
      ]
     },
     "execution_count": 20,
     "metadata": {},
     "output_type": "execute_result"
    }
   ],
   "source": [
    "from cogent3.util.misc import not_list_tuple\n",
    "\n",
    "not_list_tuple(1)"
   ]
  },
  {
   "cell_type": "code",
   "execution_count": 21,
   "id": "3b45bd96",
   "metadata": {
    "execution": {
     "iopub.execute_input": "2023-07-17T11:21:51.161367Z",
     "iopub.status.busy": "2023-07-17T11:21:51.161290Z",
     "iopub.status.idle": "2023-07-17T11:21:51.163097Z",
     "shell.execute_reply": "2023-07-17T11:21:51.162880Z"
    }
   },
   "outputs": [
    {
     "data": {
      "text/plain": [
       "False"
      ]
     },
     "execution_count": 21,
     "metadata": {},
     "output_type": "execute_result"
    }
   ],
   "source": [
    "not_list_tuple([1])"
   ]
  },
  {
   "cell_type": "code",
   "execution_count": 22,
   "id": "32801b06",
   "metadata": {
    "execution": {
     "iopub.execute_input": "2023-07-17T11:21:51.164162Z",
     "iopub.status.busy": "2023-07-17T11:21:51.164104Z",
     "iopub.status.idle": "2023-07-17T11:21:51.165865Z",
     "shell.execute_reply": "2023-07-17T11:21:51.165669Z"
    }
   },
   "outputs": [
    {
     "data": {
      "text/plain": [
       "True"
      ]
     },
     "execution_count": 22,
     "metadata": {},
     "output_type": "execute_result"
    }
   ],
   "source": [
    "not_list_tuple(\"ab\")"
   ]
  },
  {
   "cell_type": "code",
   "execution_count": 23,
   "id": "61288b74",
   "metadata": {
    "execution": {
     "iopub.execute_input": "2023-07-17T11:21:51.166866Z",
     "iopub.status.busy": "2023-07-17T11:21:51.166812Z",
     "iopub.status.idle": "2023-07-17T11:21:51.168721Z",
     "shell.execute_reply": "2023-07-17T11:21:51.168520Z"
    }
   },
   "outputs": [
    {
     "data": {
      "text/plain": [
       "{'A': 5, 'B': 6, 'C': 7, 'foo': 8, 42: 'life', 'a': 5, 'b': 6, 'c': 7}"
      ]
     },
     "execution_count": 23,
     "metadata": {},
     "output_type": "execute_result"
    }
   ],
   "source": [
    "from cogent3.util.misc import add_lowercase\n",
    "\n",
    "d = {\"A\": 5, \"B\": 6, \"C\": 7, \"foo\": 8, 42: \"life\"}\n",
    "add_lowercase(d)"
   ]
  },
  {
   "cell_type": "code",
   "execution_count": 24,
   "id": "90918f3e",
   "metadata": {
    "execution": {
     "iopub.execute_input": "2023-07-17T11:21:51.169771Z",
     "iopub.status.busy": "2023-07-17T11:21:51.169713Z",
     "iopub.status.idle": "2023-07-17T11:21:51.171781Z",
     "shell.execute_reply": "2023-07-17T11:21:51.171574Z"
    }
   },
   "outputs": [
    {
     "data": {
      "text/plain": [
       "1"
      ]
     },
     "execution_count": 24,
     "metadata": {},
     "output_type": "execute_result"
    }
   ],
   "source": [
    "from numpy import array\n",
    "\n",
    "from cogent3.util.misc import DistanceFromMatrix\n",
    "\n",
    "m = array([[1, 2, 3], [4, 5, 6], [7, 8, 9]])\n",
    "f = DistanceFromMatrix(m)\n",
    "f(0, 0)"
   ]
  },
  {
   "cell_type": "code",
   "execution_count": 25,
   "id": "dbc6bdbe",
   "metadata": {
    "execution": {
     "iopub.execute_input": "2023-07-17T11:21:51.172759Z",
     "iopub.status.busy": "2023-07-17T11:21:51.172697Z",
     "iopub.status.idle": "2023-07-17T11:21:51.174350Z",
     "shell.execute_reply": "2023-07-17T11:21:51.174144Z"
    }
   },
   "outputs": [
    {
     "data": {
      "text/plain": [
       "6"
      ]
     },
     "execution_count": 25,
     "metadata": {},
     "output_type": "execute_result"
    }
   ],
   "source": [
    "f(1, 2)"
   ]
  },
  {
   "cell_type": "code",
   "execution_count": 26,
   "id": "11222f02",
   "metadata": {
    "execution": {
     "iopub.execute_input": "2023-07-17T11:21:51.175392Z",
     "iopub.status.busy": "2023-07-17T11:21:51.175327Z",
     "iopub.status.idle": "2023-07-17T11:21:51.177525Z",
     "shell.execute_reply": "2023-07-17T11:21:51.177316Z"
    }
   },
   "outputs": [
    {
     "data": {
      "text/plain": [
       "True"
      ]
     },
     "execution_count": 26,
     "metadata": {},
     "output_type": "execute_result"
    }
   ],
   "source": [
    "from cogent3.util.misc import ClassChecker\n",
    "\n",
    "class not_okay(object):\n",
    "    pass\n",
    "\n",
    "no = not_okay()\n",
    "\n",
    "class okay(object):\n",
    "    pass\n",
    "\n",
    "o = okay()\n",
    "\n",
    "class my_dict(dict):\n",
    "    pass\n",
    "\n",
    "md = my_dict()\n",
    "cc = ClassChecker(str, okay, dict)\n",
    "o in cc"
   ]
  },
  {
   "cell_type": "code",
   "execution_count": 27,
   "id": "364f7ac2",
   "metadata": {
    "execution": {
     "iopub.execute_input": "2023-07-17T11:21:51.178494Z",
     "iopub.status.busy": "2023-07-17T11:21:51.178436Z",
     "iopub.status.idle": "2023-07-17T11:21:51.179990Z",
     "shell.execute_reply": "2023-07-17T11:21:51.179788Z"
    }
   },
   "outputs": [
    {
     "data": {
      "text/plain": [
       "False"
      ]
     },
     "execution_count": 27,
     "metadata": {},
     "output_type": "execute_result"
    }
   ],
   "source": [
    "no in cc"
   ]
  },
  {
   "cell_type": "code",
   "execution_count": 28,
   "id": "c19df4b7",
   "metadata": {
    "execution": {
     "iopub.execute_input": "2023-07-17T11:21:51.180967Z",
     "iopub.status.busy": "2023-07-17T11:21:51.180895Z",
     "iopub.status.idle": "2023-07-17T11:21:51.182516Z",
     "shell.execute_reply": "2023-07-17T11:21:51.182321Z"
    }
   },
   "outputs": [
    {
     "data": {
      "text/plain": [
       "False"
      ]
     },
     "execution_count": 28,
     "metadata": {},
     "output_type": "execute_result"
    }
   ],
   "source": [
    "5 in cc"
   ]
  },
  {
   "cell_type": "code",
   "execution_count": 29,
   "id": "215d35fe",
   "metadata": {
    "execution": {
     "iopub.execute_input": "2023-07-17T11:21:51.183549Z",
     "iopub.status.busy": "2023-07-17T11:21:51.183493Z",
     "iopub.status.idle": "2023-07-17T11:21:51.185269Z",
     "shell.execute_reply": "2023-07-17T11:21:51.185074Z"
    }
   },
   "outputs": [
    {
     "data": {
      "text/plain": [
       "True"
      ]
     },
     "execution_count": 29,
     "metadata": {},
     "output_type": "execute_result"
    }
   ],
   "source": [
    "{\"a\": 5} in cc"
   ]
  },
  {
   "cell_type": "code",
   "execution_count": 30,
   "id": "4bf6fea5",
   "metadata": {
    "execution": {
     "iopub.execute_input": "2023-07-17T11:21:51.186215Z",
     "iopub.status.busy": "2023-07-17T11:21:51.186160Z",
     "iopub.status.idle": "2023-07-17T11:21:51.187818Z",
     "shell.execute_reply": "2023-07-17T11:21:51.187596Z"
    }
   },
   "outputs": [
    {
     "data": {
      "text/plain": [
       "True"
      ]
     },
     "execution_count": 30,
     "metadata": {},
     "output_type": "execute_result"
    }
   ],
   "source": [
    "\"asasas\" in cc"
   ]
  },
  {
   "cell_type": "code",
   "execution_count": 31,
   "id": "0db59da4",
   "metadata": {
    "execution": {
     "iopub.execute_input": "2023-07-17T11:21:51.188828Z",
     "iopub.status.busy": "2023-07-17T11:21:51.188772Z",
     "iopub.status.idle": "2023-07-17T11:21:51.190364Z",
     "shell.execute_reply": "2023-07-17T11:21:51.190177Z"
    }
   },
   "outputs": [
    {
     "data": {
      "text/plain": [
       "True"
      ]
     },
     "execution_count": 31,
     "metadata": {},
     "output_type": "execute_result"
    }
   ],
   "source": [
    "md in cc"
   ]
  },
  {
   "cell_type": "code",
   "execution_count": 32,
   "id": "bcd8d04d",
   "metadata": {
    "execution": {
     "iopub.execute_input": "2023-07-17T11:21:51.191412Z",
     "iopub.status.busy": "2023-07-17T11:21:51.191341Z",
     "iopub.status.idle": "2023-07-17T11:21:51.193505Z",
     "shell.execute_reply": "2023-07-17T11:21:51.193318Z"
    }
   },
   "outputs": [
    {
     "data": {
      "text/plain": [
       "3"
      ]
     },
     "execution_count": 32,
     "metadata": {},
     "output_type": "execute_result"
    }
   ],
   "source": [
    "from cogent3.util.misc import Delegator\n",
    "\n",
    "class ListAndString(list, Delegator):\n",
    "    def __init__(self, items, string):\n",
    "        Delegator.__init__(self, string)\n",
    "        for i in items:\n",
    "            self.append(i)\n",
    "\n",
    "ls = ListAndString([1, 2, 3], \"ab_cd\")\n",
    "len(ls)"
   ]
  },
  {
   "cell_type": "code",
   "execution_count": 33,
   "id": "95804793",
   "metadata": {
    "execution": {
     "iopub.execute_input": "2023-07-17T11:21:51.194518Z",
     "iopub.status.busy": "2023-07-17T11:21:51.194445Z",
     "iopub.status.idle": "2023-07-17T11:21:51.196002Z",
     "shell.execute_reply": "2023-07-17T11:21:51.195798Z"
    }
   },
   "outputs": [
    {
     "data": {
      "text/plain": [
       "1"
      ]
     },
     "execution_count": 33,
     "metadata": {},
     "output_type": "execute_result"
    }
   ],
   "source": [
    "ls[0]"
   ]
  },
  {
   "cell_type": "code",
   "execution_count": 34,
   "id": "ec3f92f0",
   "metadata": {
    "execution": {
     "iopub.execute_input": "2023-07-17T11:21:51.196983Z",
     "iopub.status.busy": "2023-07-17T11:21:51.196929Z",
     "iopub.status.idle": "2023-07-17T11:21:51.198729Z",
     "shell.execute_reply": "2023-07-17T11:21:51.198524Z"
    }
   },
   "outputs": [
    {
     "data": {
      "text/plain": [
       "'AB_CD'"
      ]
     },
     "execution_count": 34,
     "metadata": {},
     "output_type": "execute_result"
    }
   ],
   "source": [
    "ls.upper()"
   ]
  },
  {
   "cell_type": "code",
   "execution_count": 35,
   "id": "5e78280f",
   "metadata": {
    "execution": {
     "iopub.execute_input": "2023-07-17T11:21:51.199780Z",
     "iopub.status.busy": "2023-07-17T11:21:51.199724Z",
     "iopub.status.idle": "2023-07-17T11:21:51.201445Z",
     "shell.execute_reply": "2023-07-17T11:21:51.201232Z"
    }
   },
   "outputs": [
    {
     "data": {
      "text/plain": [
       "['ab', 'cd']"
      ]
     },
     "execution_count": 35,
     "metadata": {},
     "output_type": "execute_result"
    }
   ],
   "source": [
    "ls.split(\"_\")"
   ]
  },
  {
   "cell_type": "code",
   "execution_count": 36,
   "id": "7029e4a3",
   "metadata": {
    "execution": {
     "iopub.execute_input": "2023-07-17T11:21:51.202423Z",
     "iopub.status.busy": "2023-07-17T11:21:51.202362Z",
     "iopub.status.idle": "2023-07-17T11:21:51.204085Z",
     "shell.execute_reply": "2023-07-17T11:21:51.203895Z"
    }
   },
   "outputs": [
    {
     "data": {
      "text/plain": [
       "<cogent3.util.misc.FunctionWrapper at 0x284d78f10>"
      ]
     },
     "execution_count": 36,
     "metadata": {},
     "output_type": "execute_result"
    }
   ],
   "source": [
    "from cogent3.util.misc import FunctionWrapper\n",
    "\n",
    "f = FunctionWrapper(str)\n",
    "f"
   ]
  },
  {
   "cell_type": "code",
   "execution_count": 37,
   "id": "134f6429",
   "metadata": {
    "execution": {
     "iopub.execute_input": "2023-07-17T11:21:51.205096Z",
     "iopub.status.busy": "2023-07-17T11:21:51.205026Z",
     "iopub.status.idle": "2023-07-17T11:21:51.206690Z",
     "shell.execute_reply": "2023-07-17T11:21:51.206483Z"
    }
   },
   "outputs": [
    {
     "data": {
      "text/plain": [
       "'123'"
      ]
     },
     "execution_count": 37,
     "metadata": {},
     "output_type": "execute_result"
    }
   ],
   "source": [
    "f(123)"
   ]
  },
  {
   "cell_type": "code",
   "execution_count": 38,
   "id": "ad2bd7ac",
   "metadata": {
    "execution": {
     "iopub.execute_input": "2023-07-17T11:21:51.207694Z",
     "iopub.status.busy": "2023-07-17T11:21:51.207639Z",
     "iopub.status.idle": "2023-07-17T11:21:51.209021Z",
     "shell.execute_reply": "2023-07-17T11:21:51.208824Z"
    }
   },
   "outputs": [],
   "source": [
    "from cogent3.util.misc import ConstraintError"
   ]
  },
  {
   "cell_type": "code",
   "execution_count": 39,
   "id": "9aff0838",
   "metadata": {
    "execution": {
     "iopub.execute_input": "2023-07-17T11:21:51.210025Z",
     "iopub.status.busy": "2023-07-17T11:21:51.209972Z",
     "iopub.status.idle": "2023-07-17T11:21:51.211810Z",
     "shell.execute_reply": "2023-07-17T11:21:51.211601Z"
    }
   },
   "outputs": [
    {
     "data": {
      "text/plain": [
       "{'a': 1, 'b': 2, 'c': 3}"
      ]
     },
     "execution_count": 39,
     "metadata": {},
     "output_type": "execute_result"
    }
   ],
   "source": [
    "from cogent3.util.misc import ConstrainedDict\n",
    "\n",
    "d = ConstrainedDict({\"a\": 1, \"b\": 2, \"c\": 3}, constraint=\"abc\")\n",
    "d"
   ]
  },
  {
   "cell_type": "code",
   "execution_count": 40,
   "id": "a44166e6",
   "metadata": {
    "execution": {
     "iopub.execute_input": "2023-07-17T11:21:51.212812Z",
     "iopub.status.busy": "2023-07-17T11:21:51.212753Z",
     "iopub.status.idle": "2023-07-17T11:21:51.236409Z",
     "shell.execute_reply": "2023-07-17T11:21:51.236200Z"
    }
   },
   "outputs": [
    {
     "ename": "ConstraintError",
     "evalue": "Item 'd' not in constraint 'abc'",
     "output_type": "error",
     "traceback": [
      "\u001b[0;31m---------------------------------------------------------------------------\u001b[0m",
      "\u001b[0;31mConstraintError\u001b[0m                           Traceback (most recent call last)",
      "Cell \u001b[0;32mIn[40], line 1\u001b[0m\n\u001b[0;32m----> 1\u001b[0m \u001b[43md\u001b[49m\u001b[43m[\u001b[49m\u001b[38;5;124;43m\"\u001b[39;49m\u001b[38;5;124;43md\u001b[39;49m\u001b[38;5;124;43m\"\u001b[39;49m\u001b[43m]\u001b[49m \u001b[38;5;241m=\u001b[39m \u001b[38;5;241m5\u001b[39m\n",
      "File \u001b[0;32m~/miniconda3/envs/c3docs/lib/python3.11/site-packages/cogent3/util/misc.py:688\u001b[0m, in \u001b[0;36mConstrainedDict.__setitem__\u001b[0;34m(self, key, value)\u001b[0m\n\u001b[1;32m    686\u001b[0m \u001b[38;5;250m\u001b[39m\u001b[38;5;124;03m\"\"\"Sets self[key] to value if value in constraint.\"\"\"\u001b[39;00m\n\u001b[1;32m    687\u001b[0m \u001b[38;5;28;01mif\u001b[39;00m \u001b[38;5;129;01mnot\u001b[39;00m \u001b[38;5;28mself\u001b[39m\u001b[38;5;241m.\u001b[39mitem_is_valid(key):\n\u001b[0;32m--> 688\u001b[0m     \u001b[38;5;28;01mraise\u001b[39;00m ConstraintError(\u001b[38;5;124mf\u001b[39m\u001b[38;5;124m\"\u001b[39m\u001b[38;5;124mItem \u001b[39m\u001b[38;5;124m'\u001b[39m\u001b[38;5;132;01m{\u001b[39;00mkey\u001b[38;5;132;01m}\u001b[39;00m\u001b[38;5;124m'\u001b[39m\u001b[38;5;124m not in constraint \u001b[39m\u001b[38;5;124m'\u001b[39m\u001b[38;5;132;01m{\u001b[39;00m\u001b[38;5;28mself\u001b[39m\u001b[38;5;241m.\u001b[39mconstraint\u001b[38;5;132;01m}\u001b[39;00m\u001b[38;5;124m'\u001b[39m\u001b[38;5;124m\"\u001b[39m)\n\u001b[1;32m    689\u001b[0m key, value \u001b[38;5;241m=\u001b[39m \u001b[38;5;28mself\u001b[39m\u001b[38;5;241m.\u001b[39mmask(key), \u001b[38;5;28mself\u001b[39m\u001b[38;5;241m.\u001b[39mvalue_mask(value)\n\u001b[1;32m    690\u001b[0m \u001b[38;5;28mdict\u001b[39m\u001b[38;5;241m.\u001b[39m\u001b[38;5;21m__setitem__\u001b[39m(\u001b[38;5;28mself\u001b[39m, key, value)\n",
      "\u001b[0;31mConstraintError\u001b[0m: Item 'd' not in constraint 'abc'"
     ]
    }
   ],
   "source": [
    "d[\"d\"] = 5"
   ]
  }
 ],
 "metadata": {
  "kernelspec": {
   "display_name": "Python 3 (ipykernel)",
   "language": "python",
   "name": "python3"
  },
  "language_info": {
   "codemirror_mode": {
    "name": "ipython",
    "version": 3
   },
   "file_extension": ".py",
   "mimetype": "text/x-python",
   "name": "python",
   "nbconvert_exporter": "python",
   "pygments_lexer": "ipython3",
   "version": "3.11.4"
  }
 },
 "nbformat": 4,
 "nbformat_minor": 5
}