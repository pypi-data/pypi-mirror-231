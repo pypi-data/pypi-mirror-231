{
 "cells": [
  {
   "cell_type": "code",
   "execution_count": 1,
   "id": "8bc5aaca",
   "metadata": {
    "execution": {
     "iopub.execute_input": "2023-07-17T11:21:43.087510Z",
     "iopub.status.busy": "2023-07-17T11:21:43.087122Z",
     "iopub.status.idle": "2023-07-17T11:21:43.105776Z",
     "shell.execute_reply": "2023-07-17T11:21:43.105211Z"
    }
   },
   "outputs": [],
   "source": [
    "import set_working_directory"
   ]
  },
  {
   "cell_type": "code",
   "execution_count": 2,
   "id": "81d1f2d5",
   "metadata": {
    "execution": {
     "iopub.execute_input": "2023-07-17T11:21:43.110747Z",
     "iopub.status.busy": "2023-07-17T11:21:43.110414Z",
     "iopub.status.idle": "2023-07-17T11:21:44.004962Z",
     "shell.execute_reply": "2023-07-17T11:21:44.004699Z"
    }
   },
   "outputs": [
    {
     "name": "stdout",
     "output_type": "stream",
     "text": [
      "                              /-Human\n",
      "                    /edge.0--|\n",
      "          /edge.1--|          \\-HowlerMon\n",
      "         |         |\n",
      "         |          \\-Mouse\n",
      "-root----|\n",
      "         |--NineBande\n",
      "         |\n",
      "          \\-DogFaced\n"
     ]
    }
   ],
   "source": [
    "from cogent3 import load_tree\n",
    "\n",
    "tr = load_tree(\"data/test.tree\")\n",
    "print(tr.ascii_art())"
   ]
  },
  {
   "cell_type": "code",
   "execution_count": 3,
   "id": "3b485f6f",
   "metadata": {
    "execution": {
     "iopub.execute_input": "2023-07-17T11:21:44.006194Z",
     "iopub.status.busy": "2023-07-17T11:21:44.006068Z",
     "iopub.status.idle": "2023-07-17T11:21:44.008528Z",
     "shell.execute_reply": "2023-07-17T11:21:44.008357Z"
    }
   },
   "outputs": [],
   "source": [
    "from cogent3 import load_tree\n",
    "\n",
    "tr = load_tree(\"data/test.tree\")\n",
    "tr.write(\"data/temp.tree\")"
   ]
  },
  {
   "cell_type": "code",
   "execution_count": 4,
   "id": "5169b35d",
   "metadata": {
    "execution": {
     "iopub.execute_input": "2023-07-17T11:21:44.009639Z",
     "iopub.status.busy": "2023-07-17T11:21:44.009575Z",
     "iopub.status.idle": "2023-07-17T11:21:44.012554Z",
     "shell.execute_reply": "2023-07-17T11:21:44.012352Z"
    }
   },
   "outputs": [
    {
     "data": {
      "text/plain": [
       "['root', 'edge.1', 'edge.0', 'Human']"
      ]
     },
     "execution_count": 4,
     "metadata": {},
     "output_type": "execute_result"
    }
   ],
   "source": [
    "from cogent3 import load_tree\n",
    "\n",
    "tr = load_tree(\"data/test.tree\")\n",
    "names = tr.get_node_names()\n",
    "names[:4]"
   ]
  },
  {
   "cell_type": "code",
   "execution_count": 5,
   "id": "5fa2f1a3",
   "metadata": {
    "execution": {
     "iopub.execute_input": "2023-07-17T11:21:44.013666Z",
     "iopub.status.busy": "2023-07-17T11:21:44.013584Z",
     "iopub.status.idle": "2023-07-17T11:21:44.015487Z",
     "shell.execute_reply": "2023-07-17T11:21:44.015281Z"
    }
   },
   "outputs": [
    {
     "data": {
      "text/plain": [
       "Tree(\"Human;\")"
      ]
     },
     "execution_count": 5,
     "metadata": {},
     "output_type": "execute_result"
    }
   ],
   "source": [
    "names[4:]\n",
    "names_nodes = tr.get_nodes_dict()\n",
    "names_nodes[\"Human\"]"
   ]
  },
  {
   "cell_type": "code",
   "execution_count": 6,
   "id": "ecaa204f",
   "metadata": {
    "execution": {
     "iopub.execute_input": "2023-07-17T11:21:44.016498Z",
     "iopub.status.busy": "2023-07-17T11:21:44.016429Z",
     "iopub.status.idle": "2023-07-17T11:21:44.018078Z",
     "shell.execute_reply": "2023-07-17T11:21:44.017876Z"
    }
   },
   "outputs": [
    {
     "data": {
      "text/plain": [
       "Tree(\"Mouse;\")"
      ]
     },
     "execution_count": 6,
     "metadata": {},
     "output_type": "execute_result"
    }
   ],
   "source": [
    "tr.get_node_matching_name(\"Mouse\")"
   ]
  },
  {
   "cell_type": "code",
   "execution_count": 7,
   "id": "01c24aca",
   "metadata": {
    "execution": {
     "iopub.execute_input": "2023-07-17T11:21:44.019072Z",
     "iopub.status.busy": "2023-07-17T11:21:44.019001Z",
     "iopub.status.idle": "2023-07-17T11:21:44.021126Z",
     "shell.execute_reply": "2023-07-17T11:21:44.020898Z"
    }
   },
   "outputs": [
    {
     "data": {
      "text/plain": [
       "'root'"
      ]
     },
     "execution_count": 7,
     "metadata": {},
     "output_type": "execute_result"
    }
   ],
   "source": [
    "from cogent3 import load_tree\n",
    "\n",
    "tr = load_tree(\"data/test.tree\")\n",
    "hu = tr.get_node_matching_name(\"Human\")\n",
    "tr.name"
   ]
  },
  {
   "cell_type": "code",
   "execution_count": 8,
   "id": "10d6e031",
   "metadata": {
    "execution": {
     "iopub.execute_input": "2023-07-17T11:21:44.022161Z",
     "iopub.status.busy": "2023-07-17T11:21:44.022101Z",
     "iopub.status.idle": "2023-07-17T11:21:44.023813Z",
     "shell.execute_reply": "2023-07-17T11:21:44.023607Z"
    }
   },
   "outputs": [
    {
     "data": {
      "text/plain": [
       "'Human'"
      ]
     },
     "execution_count": 8,
     "metadata": {},
     "output_type": "execute_result"
    }
   ],
   "source": [
    "hu.name"
   ]
  },
  {
   "cell_type": "code",
   "execution_count": 9,
   "id": "367f626b",
   "metadata": {
    "execution": {
     "iopub.execute_input": "2023-07-17T11:21:44.024847Z",
     "iopub.status.busy": "2023-07-17T11:21:44.024761Z",
     "iopub.status.idle": "2023-07-17T11:21:44.027128Z",
     "shell.execute_reply": "2023-07-17T11:21:44.026924Z"
    }
   },
   "outputs": [
    {
     "data": {
      "text/plain": [
       "cogent3.core.tree.PhyloNode"
      ]
     },
     "execution_count": 9,
     "metadata": {},
     "output_type": "execute_result"
    }
   ],
   "source": [
    "from cogent3 import load_tree\n",
    "\n",
    "tr = load_tree(\"data/test.tree\")\n",
    "nodes = tr.get_nodes_dict()\n",
    "hu = nodes[\"Human\"]\n",
    "type(hu)"
   ]
  },
  {
   "cell_type": "code",
   "execution_count": 10,
   "id": "70f90bbc",
   "metadata": {
    "execution": {
     "iopub.execute_input": "2023-07-17T11:21:44.028164Z",
     "iopub.status.busy": "2023-07-17T11:21:44.028088Z",
     "iopub.status.idle": "2023-07-17T11:21:44.029789Z",
     "shell.execute_reply": "2023-07-17T11:21:44.029573Z"
    }
   },
   "outputs": [
    {
     "data": {
      "text/plain": [
       "cogent3.core.tree.PhyloNode"
      ]
     },
     "execution_count": 10,
     "metadata": {},
     "output_type": "execute_result"
    }
   ],
   "source": [
    "type(tr)"
   ]
  },
  {
   "cell_type": "code",
   "execution_count": 11,
   "id": "9edfa9ff",
   "metadata": {
    "execution": {
     "iopub.execute_input": "2023-07-17T11:21:44.030859Z",
     "iopub.status.busy": "2023-07-17T11:21:44.030788Z",
     "iopub.status.idle": "2023-07-17T11:21:44.032839Z",
     "shell.execute_reply": "2023-07-17T11:21:44.032632Z"
    }
   },
   "outputs": [
    {
     "name": "stdout",
     "output_type": "stream",
     "text": [
      "('root', Tree(\"(((Human,HowlerMon),Mouse),NineBande,DogFaced);\"))\n",
      "('edge.1', Tree(\"((Human,HowlerMon),Mouse);\"))\n",
      "('edge.0', Tree(\"(Human,HowlerMon);\"))\n",
      "('Human', Tree(\"Human;\"))\n",
      "('HowlerMon', Tree(\"HowlerMon;\"))\n",
      "('Mouse', Tree(\"Mouse;\"))\n",
      "('NineBande', Tree(\"NineBande;\"))\n",
      "('DogFaced', Tree(\"DogFaced;\"))\n"
     ]
    }
   ],
   "source": [
    "from cogent3 import load_tree\n",
    "\n",
    "tr = load_tree(\"data/test.tree\")\n",
    "nodes = tr.get_nodes_dict()\n",
    "for n in nodes.items():\n",
    "    print(n)"
   ]
  },
  {
   "cell_type": "code",
   "execution_count": 12,
   "id": "131af8b4",
   "metadata": {
    "execution": {
     "iopub.execute_input": "2023-07-17T11:21:44.033830Z",
     "iopub.status.busy": "2023-07-17T11:21:44.033774Z",
     "iopub.status.idle": "2023-07-17T11:21:44.035283Z",
     "shell.execute_reply": "2023-07-17T11:21:44.035048Z"
    }
   },
   "outputs": [
    {
     "name": "stdout",
     "output_type": "stream",
     "text": [
      "Human:0.0311054096183;\n",
      "HowlerMon:0.0415847131449;\n",
      "Mouse:0.277353608988;\n",
      "NineBande:0.0939768158209;\n",
      "DogFaced:0.113211053859;\n"
     ]
    }
   ],
   "source": [
    "for n in tr.iter_tips():\n",
    "    print(n)"
   ]
  },
  {
   "cell_type": "code",
   "execution_count": 13,
   "id": "c028ad1a",
   "metadata": {
    "execution": {
     "iopub.execute_input": "2023-07-17T11:21:44.036291Z",
     "iopub.status.busy": "2023-07-17T11:21:44.036234Z",
     "iopub.status.idle": "2023-07-17T11:21:44.038129Z",
     "shell.execute_reply": "2023-07-17T11:21:44.037913Z"
    }
   },
   "outputs": [
    {
     "name": "stdout",
     "output_type": "stream",
     "text": [
      "((Human,HowlerMon),Mouse);\n",
      "(Human,HowlerMon);\n"
     ]
    }
   ],
   "source": [
    "from cogent3 import load_tree\n",
    "\n",
    "tr = load_tree(\"data/test.tree\")\n",
    "for n in tr.iter_nontips():\n",
    "    print(n.get_newick())"
   ]
  },
  {
   "cell_type": "code",
   "execution_count": 14,
   "id": "3f58513e",
   "metadata": {
    "execution": {
     "iopub.execute_input": "2023-07-17T11:21:44.039164Z",
     "iopub.status.busy": "2023-07-17T11:21:44.039107Z",
     "iopub.status.idle": "2023-07-17T11:21:44.040991Z",
     "shell.execute_reply": "2023-07-17T11:21:44.040789Z"
    }
   },
   "outputs": [
    {
     "name": "stdout",
     "output_type": "stream",
     "text": [
      "edge.1\n",
      "edge.0\n",
      "Human\n"
     ]
    }
   ],
   "source": [
    "from cogent3 import load_tree\n",
    "\n",
    "tr = load_tree(\"data/test.tree\")\n",
    "edges = tr.get_connecting_edges(\"edge.1\", \"Human\")\n",
    "for edge in edges:\n",
    "    print(edge.name)"
   ]
  },
  {
   "cell_type": "code",
   "execution_count": 15,
   "id": "8e65d483",
   "metadata": {
    "execution": {
     "iopub.execute_input": "2023-07-17T11:21:44.042011Z",
     "iopub.status.busy": "2023-07-17T11:21:44.041930Z",
     "iopub.status.idle": "2023-07-17T11:21:44.044219Z",
     "shell.execute_reply": "2023-07-17T11:21:44.044017Z"
    }
   },
   "outputs": [
    {
     "data": {
      "text/plain": [
       "True"
      ]
     },
     "execution_count": 15,
     "metadata": {},
     "output_type": "execute_result"
    }
   ],
   "source": [
    "from cogent3 import load_tree\n",
    "\n",
    "tr = load_tree(\"data/test.tree\")\n",
    "nodes = tr.get_nodes_dict()\n",
    "hu = nodes[\"Human\"]\n",
    "mu = nodes[\"Mouse\"]\n",
    "hu.distance(mu)\n",
    "hu.is_tip()"
   ]
  },
  {
   "cell_type": "code",
   "execution_count": 16,
   "id": "7608d734",
   "metadata": {
    "execution": {
     "iopub.execute_input": "2023-07-17T11:21:44.045390Z",
     "iopub.status.busy": "2023-07-17T11:21:44.045308Z",
     "iopub.status.idle": "2023-07-17T11:21:44.047668Z",
     "shell.execute_reply": "2023-07-17T11:21:44.047459Z"
    }
   },
   "outputs": [
    {
     "data": {
      "text/plain": [
       "Tree(\"((Human,HowlerMon),Mouse);\")"
      ]
     },
     "execution_count": 16,
     "metadata": {},
     "output_type": "execute_result"
    }
   ],
   "source": [
    "from cogent3 import load_tree\n",
    "\n",
    "tr = load_tree(\"data/test.tree\")\n",
    "nodes = tr.get_nodes_dict()\n",
    "hu = nodes[\"Human\"]\n",
    "mu = nodes[\"Mouse\"]\n",
    "lca = hu.last_common_ancestor(mu)\n",
    "lca"
   ]
  },
  {
   "cell_type": "code",
   "execution_count": 17,
   "id": "20369f8b",
   "metadata": {
    "execution": {
     "iopub.execute_input": "2023-07-17T11:21:44.048718Z",
     "iopub.status.busy": "2023-07-17T11:21:44.048629Z",
     "iopub.status.idle": "2023-07-17T11:21:44.050353Z",
     "shell.execute_reply": "2023-07-17T11:21:44.050142Z"
    }
   },
   "outputs": [
    {
     "data": {
      "text/plain": [
       "cogent3.core.tree.PhyloNode"
      ]
     },
     "execution_count": 17,
     "metadata": {},
     "output_type": "execute_result"
    }
   ],
   "source": [
    "type(lca)"
   ]
  },
  {
   "cell_type": "code",
   "execution_count": 18,
   "id": "89e87d40",
   "metadata": {
    "execution": {
     "iopub.execute_input": "2023-07-17T11:21:44.051326Z",
     "iopub.status.busy": "2023-07-17T11:21:44.051266Z",
     "iopub.status.idle": "2023-07-17T11:21:44.053318Z",
     "shell.execute_reply": "2023-07-17T11:21:44.053113Z"
    }
   },
   "outputs": [
    {
     "name": "stdout",
     "output_type": "stream",
     "text": [
      "edge.0\n",
      "edge.1\n",
      "root\n"
     ]
    }
   ],
   "source": [
    "from cogent3 import load_tree\n",
    "\n",
    "tr = load_tree(\"data/test.tree\")\n",
    "hu = tr.get_node_matching_name(\"Human\")\n",
    "for a in hu.ancestors():\n",
    "    print(a.name)"
   ]
  },
  {
   "cell_type": "code",
   "execution_count": 19,
   "id": "3cf002cc",
   "metadata": {
    "execution": {
     "iopub.execute_input": "2023-07-17T11:21:44.054401Z",
     "iopub.status.busy": "2023-07-17T11:21:44.054342Z",
     "iopub.status.idle": "2023-07-17T11:21:44.056410Z",
     "shell.execute_reply": "2023-07-17T11:21:44.056206Z"
    }
   },
   "outputs": [
    {
     "name": "stdout",
     "output_type": "stream",
     "text": [
      "Human\n",
      "HowlerMon\n",
      "Mouse\n",
      "edge.0\n"
     ]
    }
   ],
   "source": [
    "from cogent3 import load_tree\n",
    "\n",
    "tr = load_tree(\"data/test.tree\")\n",
    "node = tr.get_node_matching_name(\"edge.1\")\n",
    "children = list(node.iter_tips()) + list(node.iter_nontips())\n",
    "for child in children:\n",
    "    print(child.name)"
   ]
  },
  {
   "cell_type": "code",
   "execution_count": 20,
   "id": "4f644da6",
   "metadata": {
    "execution": {
     "iopub.execute_input": "2023-07-17T11:21:44.057406Z",
     "iopub.status.busy": "2023-07-17T11:21:44.057345Z",
     "iopub.status.idle": "2023-07-17T11:21:44.059145Z",
     "shell.execute_reply": "2023-07-17T11:21:44.058908Z"
    }
   },
   "outputs": [],
   "source": [
    "from cogent3 import load_tree\n",
    "\n",
    "tr = load_tree(\"data/test.tree\")\n",
    "dists = tr.get_distances()"
   ]
  },
  {
   "cell_type": "code",
   "execution_count": 21,
   "id": "051dc068",
   "metadata": {
    "execution": {
     "iopub.execute_input": "2023-07-17T11:21:44.060307Z",
     "iopub.status.busy": "2023-07-17T11:21:44.060242Z",
     "iopub.status.idle": "2023-07-17T11:21:44.061976Z",
     "shell.execute_reply": "2023-07-17T11:21:44.061770Z"
    }
   },
   "outputs": [
    {
     "name": "stdout",
     "output_type": "stream",
     "text": [
      "('Human', 'HowlerMon') 0.0726901227632\n",
      "('HowlerMon', 'Human') 0.0726901227632\n",
      "('Human', 'Mouse') 0.3467553610937\n",
      "('Mouse', 'Human') 0.3467553610937\n",
      "('Human', 'NineBande') 0.18310641816450002\n",
      "('NineBande', 'Human') 0.18310641816450002\n",
      "('Human', 'DogFaced') 0.2023406562026\n",
      "('DogFaced', 'Human') 0.2023406562026\n"
     ]
    }
   ],
   "source": [
    "human_dists = [names for names in dists if \"Human\" in names]\n",
    "for dist in human_dists:\n",
    "    print(dist, dists[dist])"
   ]
  },
  {
   "cell_type": "code",
   "execution_count": 22,
   "id": "f8f3e030",
   "metadata": {
    "execution": {
     "iopub.execute_input": "2023-07-17T11:21:44.063010Z",
     "iopub.status.busy": "2023-07-17T11:21:44.062953Z",
     "iopub.status.idle": "2023-07-17T11:21:44.065156Z",
     "shell.execute_reply": "2023-07-17T11:21:44.064949Z"
    }
   },
   "outputs": [
    {
     "data": {
      "text/plain": [
       "(0.4102925130849, ('Mouse', 'DogFaced'))"
      ]
     },
     "execution_count": 22,
     "metadata": {},
     "output_type": "execute_result"
    }
   ],
   "source": [
    "from cogent3 import load_tree\n",
    "\n",
    "tr = load_tree(\"data/test.tree\")\n",
    "tr.max_tip_tip_distance()"
   ]
  },
  {
   "cell_type": "code",
   "execution_count": 23,
   "id": "58e5d49b",
   "metadata": {
    "execution": {
     "iopub.execute_input": "2023-07-17T11:21:44.066213Z",
     "iopub.status.busy": "2023-07-17T11:21:44.066156Z",
     "iopub.status.idle": "2023-07-17T11:21:44.068469Z",
     "shell.execute_reply": "2023-07-17T11:21:44.068222Z"
    }
   },
   "outputs": [
    {
     "name": "stdout",
     "output_type": "stream",
     "text": [
      "HowlerMon:0.0415847131449;\n",
      "NineBande:0.0939768158209;\n"
     ]
    }
   ],
   "source": [
    "from cogent3 import load_tree\n",
    "\n",
    "tr = load_tree(\"data/test.tree\")\n",
    "hu = tr.get_node_matching_name(\"Human\")\n",
    "tips = hu.tips_within_distance(0.2)\n",
    "for t in tips:\n",
    "    print(t)"
   ]
  },
  {
   "cell_type": "code",
   "execution_count": 24,
   "id": "2cb19db3",
   "metadata": {
    "execution": {
     "iopub.execute_input": "2023-07-17T11:21:44.069565Z",
     "iopub.status.busy": "2023-07-17T11:21:44.069507Z",
     "iopub.status.idle": "2023-07-17T11:21:44.071482Z",
     "shell.execute_reply": "2023-07-17T11:21:44.071219Z"
    }
   },
   "outputs": [
    {
     "name": "stdout",
     "output_type": "stream",
     "text": [
      "          /-Human\n",
      "         |\n",
      "-root----|--HowlerMon\n",
      "         |\n",
      "         |          /-Mouse\n",
      "          \\edge.0--|\n",
      "                   |          /-NineBande\n",
      "                    \\edge.1--|\n",
      "                              \\-DogFaced\n"
     ]
    }
   ],
   "source": [
    "from cogent3 import load_tree\n",
    "\n",
    "tr = load_tree(\"data/test.tree\")\n",
    "print(tr.rooted_at(\"edge.0\").ascii_art())"
   ]
  },
  {
   "cell_type": "code",
   "execution_count": 25,
   "id": "e89e9584",
   "metadata": {
    "execution": {
     "iopub.execute_input": "2023-07-17T11:21:44.072500Z",
     "iopub.status.busy": "2023-07-17T11:21:44.072440Z",
     "iopub.status.idle": "2023-07-17T11:21:44.074336Z",
     "shell.execute_reply": "2023-07-17T11:21:44.074147Z"
    }
   },
   "outputs": [
    {
     "name": "stdout",
     "output_type": "stream",
     "text": [
      "          /-Mouse\n",
      "         |\n",
      "-root----|                    /-Human\n",
      "         |          /edge.0--|\n",
      "         |         |          \\-HowlerMon\n",
      "          \\edge.0.2|\n",
      "                   |          /-NineBande\n",
      "                    \\edge.1--|\n",
      "                              \\-DogFaced\n"
     ]
    }
   ],
   "source": [
    "from cogent3 import load_tree\n",
    "\n",
    "tr = load_tree(\"data/test.tree\")\n",
    "print(tr.root_at_midpoint().ascii_art())"
   ]
  },
  {
   "cell_type": "code",
   "execution_count": 26,
   "id": "1098e7cc",
   "metadata": {
    "execution": {
     "iopub.execute_input": "2023-07-17T11:21:44.075415Z",
     "iopub.status.busy": "2023-07-17T11:21:44.075340Z",
     "iopub.status.idle": "2023-07-17T11:21:44.076805Z",
     "shell.execute_reply": "2023-07-17T11:21:44.076598Z"
    }
   },
   "outputs": [
    {
     "name": "stdout",
     "output_type": "stream",
     "text": [
      "                              /-Human\n",
      "                    /edge.0--|\n",
      "          /edge.1--|          \\-HowlerMon\n",
      "         |         |\n",
      "         |          \\-------- /-Mouse\n",
      "-root----|\n",
      "         |--NineBande\n",
      "         |\n",
      "          \\-DogFaced\n"
     ]
    }
   ],
   "source": [
    "print(tr.ascii_art())"
   ]
  },
  {
   "cell_type": "code",
   "execution_count": 27,
   "id": "2624fdb3",
   "metadata": {
    "execution": {
     "iopub.execute_input": "2023-07-17T11:21:44.077788Z",
     "iopub.status.busy": "2023-07-17T11:21:44.077732Z",
     "iopub.status.idle": "2023-07-17T11:21:44.079530Z",
     "shell.execute_reply": "2023-07-17T11:21:44.079324Z"
    }
   },
   "outputs": [
    {
     "name": "stdout",
     "output_type": "stream",
     "text": [
      "                              /-Human\n",
      "                    /edge.0--|\n",
      "          /edge.1--|          \\-HowlerMon\n",
      "         |         |\n",
      "         |          \\-Mouse\n",
      "-root----|\n",
      "         |--NineBande\n",
      "         |\n",
      "          \\-DogFaced\n"
     ]
    }
   ],
   "source": [
    "from cogent3 import load_tree\n",
    "\n",
    "tr = load_tree(\"data/test.tree\")\n",
    "print(tr.ascii_art())"
   ]
  },
  {
   "cell_type": "code",
   "execution_count": 28,
   "id": "31eac292",
   "metadata": {
    "execution": {
     "iopub.execute_input": "2023-07-17T11:21:44.080535Z",
     "iopub.status.busy": "2023-07-17T11:21:44.080481Z",
     "iopub.status.idle": "2023-07-17T11:21:44.082008Z",
     "shell.execute_reply": "2023-07-17T11:21:44.081789Z"
    }
   },
   "outputs": [
    {
     "name": "stdout",
     "output_type": "stream",
     "text": [
      "                    /-Human\n",
      "          /edge.0--|\n",
      "         |          \\-HowlerMon\n",
      "         |\n",
      "-root----|--Mouse\n",
      "         |\n",
      "         |          /-NineBande\n",
      "          \\edge.1--|\n",
      "                    \\-DogFaced\n"
     ]
    }
   ],
   "source": [
    "print(tr.rooted_with_tip(\"Mouse\").ascii_art())"
   ]
  },
  {
   "cell_type": "code",
   "execution_count": 29,
   "id": "c8d56d07",
   "metadata": {
    "execution": {
     "iopub.execute_input": "2023-07-17T11:21:44.082961Z",
     "iopub.status.busy": "2023-07-17T11:21:44.082901Z",
     "iopub.status.idle": "2023-07-17T11:21:44.084978Z",
     "shell.execute_reply": "2023-07-17T11:21:44.084739Z"
    }
   },
   "outputs": [
    {
     "data": {
      "text/plain": [
       "'(((Human,HowlerMon),Mouse),NineBande,DogFaced);'"
      ]
     },
     "execution_count": 29,
     "metadata": {},
     "output_type": "execute_result"
    }
   ],
   "source": [
    "from cogent3 import load_tree\n",
    "\n",
    "tr = load_tree(\"data/test.tree\")\n",
    "tr.get_newick()"
   ]
  },
  {
   "cell_type": "code",
   "execution_count": 30,
   "id": "344325c4",
   "metadata": {
    "execution": {
     "iopub.execute_input": "2023-07-17T11:21:44.085966Z",
     "iopub.status.busy": "2023-07-17T11:21:44.085913Z",
     "iopub.status.idle": "2023-07-17T11:21:44.087598Z",
     "shell.execute_reply": "2023-07-17T11:21:44.087391Z"
    }
   },
   "outputs": [
    {
     "data": {
      "text/plain": [
       "'(((Human:0.0311054096183,HowlerMon:0.0415847131449):0.0382963424874,Mouse:0.277353608988):0.0197278502379,NineBande:0.0939768158209,DogFaced:0.113211053859);'"
      ]
     },
     "execution_count": 30,
     "metadata": {},
     "output_type": "execute_result"
    }
   ],
   "source": [
    "tr.get_newick(with_distances=True)"
   ]
  },
  {
   "cell_type": "code",
   "execution_count": 31,
   "id": "6df7365b",
   "metadata": {
    "execution": {
     "iopub.execute_input": "2023-07-17T11:21:44.088603Z",
     "iopub.status.busy": "2023-07-17T11:21:44.088532Z",
     "iopub.status.idle": "2023-07-17T11:21:44.090444Z",
     "shell.execute_reply": "2023-07-17T11:21:44.090241Z"
    }
   },
   "outputs": [
    {
     "name": "stdout",
     "output_type": "stream",
     "text": [
      "<?xml version=\"1.0\"?>\n",
      "<clade>\n",
      "  <clade>\n",
      "     <param><name>length</name><value>0.0197278502379</value></param>\n",
      "    <clade>\n",
      "       <param><name>length</name><value>0.0382963424874</value></param>\n",
      "      <clade>\n",
      "         <name>Human</name>\n",
      "         <param><name>length</name><value>0.0311054096183</value></param>\n",
      "      </clade>\n",
      "      <clade>\n",
      "         <name>HowlerMon</name>\n",
      "         <param><name>length</name><value>0.0415847131449</value></param>\n",
      "      </clade>\n",
      "    </clade>\n",
      "    <clade>\n",
      "       <name>Mouse</name>\n",
      "       <param><name>length</name><value>0.277353608988</value></param>\n",
      "    </clade>\n",
      "  </clade>\n",
      "  <clade>\n",
      "     <name>NineBande</name>\n",
      "     <param><name>length</name><value>0.0939768158209</value></param>\n",
      "  </clade>\n",
      "  <clade>\n",
      "     <name>DogFaced</name>\n",
      "     <param><name>length</name><value>0.113211053859</value></param>\n",
      "  </clade>\n",
      "</clade>\n"
     ]
    }
   ],
   "source": [
    "from cogent3 import load_tree\n",
    "\n",
    "tr = load_tree(\"data/test.tree\")\n",
    "xml = tr.get_xml()\n",
    "for line in xml.splitlines():\n",
    "    print(line)"
   ]
  },
  {
   "cell_type": "code",
   "execution_count": 32,
   "id": "5706965e",
   "metadata": {
    "execution": {
     "iopub.execute_input": "2023-07-17T11:21:44.091440Z",
     "iopub.status.busy": "2023-07-17T11:21:44.091383Z",
     "iopub.status.idle": "2023-07-17T11:21:44.093306Z",
     "shell.execute_reply": "2023-07-17T11:21:44.093100Z"
    }
   },
   "outputs": [
    {
     "name": "stdout",
     "output_type": "stream",
     "text": [
      "                              /-Human\n",
      "                    /edge.0--|\n",
      "          /edge.1--|          \\-HowlerMon\n",
      "         |         |\n",
      "         |          \\-Mouse\n",
      "-root----|\n",
      "         |--NineBande\n",
      "         |\n",
      "          \\-DogFaced\n"
     ]
    }
   ],
   "source": [
    "from cogent3 import load_tree\n",
    "\n",
    "tr = load_tree(\"data/test.tree\")\n",
    "print(tr.ascii_art())"
   ]
  },
  {
   "cell_type": "code",
   "execution_count": 33,
   "id": "a326b96c",
   "metadata": {
    "execution": {
     "iopub.execute_input": "2023-07-17T11:21:44.094297Z",
     "iopub.status.busy": "2023-07-17T11:21:44.094242Z",
     "iopub.status.idle": "2023-07-17T11:21:44.096196Z",
     "shell.execute_reply": "2023-07-17T11:21:44.095992Z"
    }
   },
   "outputs": [
    {
     "name": "stdout",
     "output_type": "stream",
     "text": [
      "(((Human,HowlerMon),Mouse),NineBande,DogFaced);\n",
      "((Human,HowlerMon),Mouse);\n",
      "(Human,HowlerMon);\n",
      "Human;\n",
      "HowlerMon;\n",
      "Mouse;\n",
      "NineBande;\n",
      "DogFaced;\n"
     ]
    }
   ],
   "source": [
    "from cogent3 import load_tree\n",
    "\n",
    "tr = load_tree(\"data/test.tree\")\n",
    "for t in tr.preorder():\n",
    "    print(t.get_newick())"
   ]
  },
  {
   "cell_type": "code",
   "execution_count": 34,
   "id": "d1175a21",
   "metadata": {
    "execution": {
     "iopub.execute_input": "2023-07-17T11:21:44.097186Z",
     "iopub.status.busy": "2023-07-17T11:21:44.097129Z",
     "iopub.status.idle": "2023-07-17T11:21:44.098839Z",
     "shell.execute_reply": "2023-07-17T11:21:44.098617Z"
    }
   },
   "outputs": [
    {
     "name": "stdout",
     "output_type": "stream",
     "text": [
      "Human;\n",
      "HowlerMon;\n",
      "(Human,HowlerMon);\n",
      "Mouse;\n",
      "((Human,HowlerMon),Mouse);\n",
      "NineBande;\n",
      "DogFaced;\n",
      "(((Human,HowlerMon),Mouse),NineBande,DogFaced);\n"
     ]
    }
   ],
   "source": [
    "from cogent3 import load_tree\n",
    "\n",
    "tr = load_tree(\"data/test.tree\")\n",
    "for t in tr.postorder():\n",
    "    print(t.get_newick())"
   ]
  },
  {
   "cell_type": "code",
   "execution_count": 35,
   "id": "f2d516a7",
   "metadata": {
    "execution": {
     "iopub.execute_input": "2023-07-17T11:21:44.100025Z",
     "iopub.status.busy": "2023-07-17T11:21:44.099945Z",
     "iopub.status.idle": "2023-07-17T11:21:44.101979Z",
     "shell.execute_reply": "2023-07-17T11:21:44.101778Z"
    }
   },
   "outputs": [
    {
     "name": "stdout",
     "output_type": "stream",
     "text": [
      "['Human', 'HowlerMon', 'Mouse']\n",
      "          /-Human\n",
      "         |\n",
      "-root----|--HowlerMon\n",
      "         |\n",
      "          \\-Mouse\n",
      "['Human', 'HowlerMon']\n",
      "          /-Human\n",
      "-root----|\n",
      "          \\-HowlerMon\n"
     ]
    }
   ],
   "source": [
    "from cogent3 import load_tree\n",
    "\n",
    "tr = load_tree(\"data/test.tree\")\n",
    "for tip in tr.iter_nontips():\n",
    "    tip_names = tip.get_tip_names()\n",
    "    print(tip_names)\n",
    "    sub_tree = tr.get_sub_tree(tip_names)\n",
    "    print(sub_tree.ascii_art())"
   ]
  },
  {
   "cell_type": "code",
   "execution_count": 36,
   "id": "0c683946",
   "metadata": {
    "execution": {
     "iopub.execute_input": "2023-07-17T11:21:44.102989Z",
     "iopub.status.busy": "2023-07-17T11:21:44.102932Z",
     "iopub.status.idle": "2023-07-17T11:21:44.104498Z",
     "shell.execute_reply": "2023-07-17T11:21:44.104307Z"
    }
   },
   "outputs": [],
   "source": [
    "from cogent3.util.io import remove_files\n",
    "\n",
    "remove_files([\"data/temp.tree\", \"data/temp.pdf\"], error_on_missing=False)"
   ]
  },
  {
   "cell_type": "code",
   "execution_count": 37,
   "id": "279e1651",
   "metadata": {
    "execution": {
     "iopub.execute_input": "2023-07-17T11:21:44.105515Z",
     "iopub.status.busy": "2023-07-17T11:21:44.105435Z",
     "iopub.status.idle": "2023-07-17T11:21:44.107007Z",
     "shell.execute_reply": "2023-07-17T11:21:44.106799Z"
    }
   },
   "outputs": [
    {
     "name": "stdout",
     "output_type": "stream",
     "text": [
      "          /-B\n",
      "-F-------|\n",
      "          \\E------- /-D\n"
     ]
    }
   ],
   "source": [
    "from cogent3 import make_tree\n",
    "\n",
    "simple_tree_string = \"(B:0.2,(D:0.4)E:0.5)F;\"\n",
    "simple_tree = make_tree(simple_tree_string)\n",
    "print(simple_tree.ascii_art())"
   ]
  },
  {
   "cell_type": "code",
   "execution_count": 38,
   "id": "f0f8cd1b",
   "metadata": {
    "execution": {
     "iopub.execute_input": "2023-07-17T11:21:44.108028Z",
     "iopub.status.busy": "2023-07-17T11:21:44.107958Z",
     "iopub.status.idle": "2023-07-17T11:21:44.109531Z",
     "shell.execute_reply": "2023-07-17T11:21:44.109330Z"
    }
   },
   "outputs": [
    {
     "name": "stdout",
     "output_type": "stream",
     "text": [
      "          /-B\n",
      "-F-------|\n",
      "          \\-D\n"
     ]
    }
   ],
   "source": [
    "simple_tree.prune()\n",
    "print(simple_tree.ascii_art())"
   ]
  },
  {
   "cell_type": "code",
   "execution_count": 39,
   "id": "be0dcb9d",
   "metadata": {
    "execution": {
     "iopub.execute_input": "2023-07-17T11:21:44.110495Z",
     "iopub.status.busy": "2023-07-17T11:21:44.110438Z",
     "iopub.status.idle": "2023-07-17T11:21:44.111857Z",
     "shell.execute_reply": "2023-07-17T11:21:44.111656Z"
    }
   },
   "outputs": [
    {
     "name": "stdout",
     "output_type": "stream",
     "text": [
      "(B:0.2,D:0.9)F;\n"
     ]
    }
   ],
   "source": [
    "print(simple_tree)"
   ]
  },
  {
   "cell_type": "code",
   "execution_count": 40,
   "id": "b94dba98",
   "metadata": {
    "execution": {
     "iopub.execute_input": "2023-07-17T11:21:44.112815Z",
     "iopub.status.busy": "2023-07-17T11:21:44.112759Z",
     "iopub.status.idle": "2023-07-17T11:21:44.114583Z",
     "shell.execute_reply": "2023-07-17T11:21:44.114410Z"
    }
   },
   "outputs": [
    {
     "name": "stdout",
     "output_type": "stream",
     "text": [
      "(((Human,HowlerMon),Mouse),NineBande,DogFaced);\n"
     ]
    }
   ],
   "source": [
    "from cogent3 import load_tree\n",
    "\n",
    "tr1 = load_tree(\"data/test.tree\")\n",
    "print(tr1.get_newick())"
   ]
  },
  {
   "cell_type": "code",
   "execution_count": 41,
   "id": "c69dec98",
   "metadata": {
    "execution": {
     "iopub.execute_input": "2023-07-17T11:21:44.115770Z",
     "iopub.status.busy": "2023-07-17T11:21:44.115671Z",
     "iopub.status.idle": "2023-07-17T11:21:44.117357Z",
     "shell.execute_reply": "2023-07-17T11:21:44.117146Z"
    }
   },
   "outputs": [
    {
     "name": "stdout",
     "output_type": "stream",
     "text": [
      "(((Human,HowlerMon),Mouse),NineBande,DogFaced);\n"
     ]
    }
   ],
   "source": [
    "tr2 = tr1.unrooted_deepcopy()\n",
    "print(tr2.get_newick())"
   ]
  },
  {
   "cell_type": "code",
   "execution_count": 42,
   "id": "f4b0e42a",
   "metadata": {
    "execution": {
     "iopub.execute_input": "2023-07-17T11:21:44.118483Z",
     "iopub.status.busy": "2023-07-17T11:21:44.118418Z",
     "iopub.status.idle": "2023-07-17T11:21:44.120159Z",
     "shell.execute_reply": "2023-07-17T11:21:44.119926Z"
    }
   },
   "outputs": [
    {
     "name": "stdout",
     "output_type": "stream",
     "text": [
      "          /-B\n",
      "         |\n",
      "         |--H\n",
      "-G-------|\n",
      "         |          /-C\n",
      "         |         |\n",
      "          \\F-------|--D\n",
      "                   |\n",
      "                    \\-E\n"
     ]
    }
   ],
   "source": [
    "from cogent3 import load_tree\n",
    "\n",
    "tree_string = \"(B:0.2,H:0.2,(C:0.3,D:0.4,E:0.1)F:0.5)G;\"\n",
    "tr = make_tree(tree_string)\n",
    "print(tr.ascii_art())"
   ]
  },
  {
   "cell_type": "code",
   "execution_count": 43,
   "id": "3b76dd02",
   "metadata": {
    "execution": {
     "iopub.execute_input": "2023-07-17T11:21:44.121142Z",
     "iopub.status.busy": "2023-07-17T11:21:44.121081Z",
     "iopub.status.idle": "2023-07-17T11:21:44.122652Z",
     "shell.execute_reply": "2023-07-17T11:21:44.122433Z"
    }
   },
   "outputs": [
    {
     "name": "stdout",
     "output_type": "stream",
     "text": [
      "          /-B\n",
      "-G-------|\n",
      "         |          /-H\n",
      "          \\--------|\n",
      "                   |          /-C\n",
      "                    \\F-------|\n",
      "                             |          /-D\n",
      "                              \\--------|\n",
      "                                        \\-E\n"
     ]
    }
   ],
   "source": [
    "print(tr.bifurcating().ascii_art())"
   ]
  },
  {
   "cell_type": "code",
   "execution_count": 44,
   "id": "dd68b4d7",
   "metadata": {
    "execution": {
     "iopub.execute_input": "2023-07-17T11:21:44.123630Z",
     "iopub.status.busy": "2023-07-17T11:21:44.123556Z",
     "iopub.status.idle": "2023-07-17T11:21:44.125497Z",
     "shell.execute_reply": "2023-07-17T11:21:44.125298Z"
    }
   },
   "outputs": [
    {
     "name": "stdout",
     "output_type": "stream",
     "text": [
      "                              /-Human\n",
      "                    /edge.0--|\n",
      "          /edge.1--|          \\-HowlerMon\n",
      "         |         |\n",
      "         |          \\-Mouse\n",
      "-root----|\n",
      "         |--NineBande\n",
      "         |\n",
      "          \\-DogFaced\n"
     ]
    }
   ],
   "source": [
    "from cogent3 import load_tree\n",
    "\n",
    "tr = load_tree(\"data/test.tree\")\n",
    "print(tr.ascii_art())"
   ]
  },
  {
   "cell_type": "code",
   "execution_count": 45,
   "id": "ed705ddf",
   "metadata": {
    "execution": {
     "iopub.execute_input": "2023-07-17T11:21:44.126485Z",
     "iopub.status.busy": "2023-07-17T11:21:44.126429Z",
     "iopub.status.idle": "2023-07-17T11:21:44.127978Z",
     "shell.execute_reply": "2023-07-17T11:21:44.127780Z"
    }
   },
   "outputs": [
    {
     "name": "stdout",
     "output_type": "stream",
     "text": [
      "                    /-Human\n",
      "          /edge.0--|\n",
      "         |          \\-HowlerMon\n",
      "         |\n",
      "-root----|--Mouse\n",
      "         |\n",
      "         |          /-NineBande\n",
      "          \\edge.1--|\n",
      "                    \\-DogFaced\n"
     ]
    }
   ],
   "source": [
    "print(tr.balanced().ascii_art())"
   ]
  },
  {
   "cell_type": "code",
   "execution_count": 46,
   "id": "3dabafb8",
   "metadata": {
    "execution": {
     "iopub.execute_input": "2023-07-17T11:21:44.128973Z",
     "iopub.status.busy": "2023-07-17T11:21:44.128902Z",
     "iopub.status.idle": "2023-07-17T11:21:44.130841Z",
     "shell.execute_reply": "2023-07-17T11:21:44.130610Z"
    }
   },
   "outputs": [
    {
     "data": {
      "text/plain": [
       "True"
      ]
     },
     "execution_count": 46,
     "metadata": {},
     "output_type": "execute_result"
    }
   ],
   "source": [
    "from cogent3 import load_tree\n",
    "\n",
    "tr1 = make_tree(\"(B:0.2,(C:0.2,D:0.2)F:0.2)G;\")\n",
    "tr2 = make_tree(\"((C:0.1,D:0.1)F:0.1,B:0.1)G;\")\n",
    "tr1.same_topology(tr2)"
   ]
  },
  {
   "cell_type": "code",
   "execution_count": 47,
   "id": "99f7b55b",
   "metadata": {
    "execution": {
     "iopub.execute_input": "2023-07-17T11:21:44.131906Z",
     "iopub.status.busy": "2023-07-17T11:21:44.131851Z",
     "iopub.status.idle": "2023-07-17T11:21:44.133550Z",
     "shell.execute_reply": "2023-07-17T11:21:44.133351Z"
    }
   },
   "outputs": [
    {
     "name": "stdout",
     "output_type": "stream",
     "text": [
      "          /-B\n",
      "-G-------|\n",
      "         |          /-C\n",
      "          \\F-------|\n",
      "                    \\-D\n"
     ]
    }
   ],
   "source": [
    "from cogent3 import load_tree\n",
    "\n",
    "tr = make_tree(\"(B:0.2,(C:0.3,D:0.4)F:0.5)G;\")\n",
    "print(tr.ascii_art())"
   ]
  },
  {
   "cell_type": "code",
   "execution_count": 48,
   "id": "fa7d374c",
   "metadata": {
    "execution": {
     "iopub.execute_input": "2023-07-17T11:21:44.134555Z",
     "iopub.status.busy": "2023-07-17T11:21:44.134501Z",
     "iopub.status.idle": "2023-07-17T11:21:44.136072Z",
     "shell.execute_reply": "2023-07-17T11:21:44.135873Z"
    }
   },
   "outputs": [
    {
     "name": "stdout",
     "output_type": "stream",
     "text": [
      "G 0.9\n",
      "B 0\n",
      "F 0.4\n",
      "C 0\n",
      "D 0\n"
     ]
    }
   ],
   "source": [
    "tr.set_tip_distances()\n",
    "for t in tr.preorder():\n",
    "    print(t.name, t.TipDistance)"
   ]
  },
  {
   "cell_type": "code",
   "execution_count": 49,
   "id": "b362fed5",
   "metadata": {
    "execution": {
     "iopub.execute_input": "2023-07-17T11:21:44.137029Z",
     "iopub.status.busy": "2023-07-17T11:21:44.136976Z",
     "iopub.status.idle": "2023-07-17T11:21:44.138486Z",
     "shell.execute_reply": "2023-07-17T11:21:44.138277Z"
    }
   },
   "outputs": [
    {
     "name": "stdout",
     "output_type": "stream",
     "text": [
      "(B:0.2,(C:0.3,D:0.4)F:0.5)G;\n"
     ]
    }
   ],
   "source": [
    "from cogent3 import load_tree\n",
    "\n",
    "tr = make_tree(\"(B:0.2,(C:0.3,D:0.4)F:0.5)G;\")\n",
    "print(tr)"
   ]
  },
  {
   "cell_type": "code",
   "execution_count": 50,
   "id": "adc2dece",
   "metadata": {
    "execution": {
     "iopub.execute_input": "2023-07-17T11:21:44.139473Z",
     "iopub.status.busy": "2023-07-17T11:21:44.139415Z",
     "iopub.status.idle": "2023-07-17T11:21:44.140985Z",
     "shell.execute_reply": "2023-07-17T11:21:44.140704Z"
    }
   },
   "outputs": [
    {
     "name": "stdout",
     "output_type": "stream",
     "text": [
      "(B:22,(C:33,D:44)F:56)G;\n"
     ]
    }
   ],
   "source": [
    "tr.scale_branch_lengths()\n",
    "print(tr)"
   ]
  },
  {
   "cell_type": "code",
   "execution_count": 51,
   "id": "4e41d6d6",
   "metadata": {
    "execution": {
     "iopub.execute_input": "2023-07-17T11:21:44.142070Z",
     "iopub.status.busy": "2023-07-17T11:21:44.142004Z",
     "iopub.status.idle": "2023-07-17T11:21:44.143869Z",
     "shell.execute_reply": "2023-07-17T11:21:44.143687Z"
    }
   },
   "outputs": [
    {
     "name": "stdout",
     "output_type": "stream",
     "text": [
      "B [ 0. 10. 12.]\n",
      "C [10.  0.  6.]\n",
      "D [12.  6.  0.]\n"
     ]
    }
   ],
   "source": [
    "from cogent3 import load_tree\n",
    "\n",
    "tr = make_tree(\"(B:3,(C:2,D:4)F:5)G;\")\n",
    "d, tips = tr.tip_to_tip_distances()\n",
    "for i, t in enumerate(tips):\n",
    "    print(t.name, d[i])"
   ]
  },
  {
   "cell_type": "code",
   "execution_count": 52,
   "id": "1007313f",
   "metadata": {
    "execution": {
     "iopub.execute_input": "2023-07-17T11:21:44.144816Z",
     "iopub.status.busy": "2023-07-17T11:21:44.144744Z",
     "iopub.status.idle": "2023-07-17T11:21:44.146904Z",
     "shell.execute_reply": "2023-07-17T11:21:44.146694Z"
    }
   },
   "outputs": [
    {
     "data": {
      "text/plain": [
       "0.08352668213457076"
      ]
     },
     "execution_count": 52,
     "metadata": {},
     "output_type": "execute_result"
    }
   ],
   "source": [
    "from cogent3 import load_tree\n",
    "\n",
    "tr1 = make_tree(\"(B:2,(C:3,D:4)F:5)G;\")\n",
    "tr2 = make_tree(\"(C:2,(B:3,D:4)F:5)G;\")\n",
    "tr1.compare_by_tip_distances(tr2)"
   ]
  }
 ],
 "metadata": {
  "kernelspec": {
   "display_name": "Python 3 (ipykernel)",
   "language": "python",
   "name": "python3"
  },
  "language_info": {
   "codemirror_mode": {
    "name": "ipython",
    "version": 3
   },
   "file_extension": ".py",
   "mimetype": "text/x-python",
   "name": "python",
   "nbconvert_exporter": "python",
   "pygments_lexer": "ipython3",
   "version": "3.11.4"
  }
 },
 "nbformat": 4,
 "nbformat_minor": 5
}