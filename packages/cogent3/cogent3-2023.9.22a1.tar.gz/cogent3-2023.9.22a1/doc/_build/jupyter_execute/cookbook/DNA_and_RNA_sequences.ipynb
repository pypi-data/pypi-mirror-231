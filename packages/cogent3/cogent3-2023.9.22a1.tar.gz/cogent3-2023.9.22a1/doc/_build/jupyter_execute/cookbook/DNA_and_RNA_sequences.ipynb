{
 "cells": [
  {
   "cell_type": "code",
   "execution_count": 1,
   "id": "440a09cb",
   "metadata": {
    "execution": {
     "iopub.execute_input": "2023-07-17T11:20:33.575130Z",
     "iopub.status.busy": "2023-07-17T11:20:33.574376Z",
     "iopub.status.idle": "2023-07-17T11:20:34.396776Z",
     "shell.execute_reply": "2023-07-17T11:20:34.396525Z"
    }
   },
   "outputs": [
    {
     "data": {
      "text/plain": [
       "'text'"
      ]
     },
     "execution_count": 1,
     "metadata": {},
     "output_type": "execute_result"
    }
   ],
   "source": [
    "from cogent3 import make_seq\n",
    "\n",
    "my_seq = make_seq(\"AGTACACTGGT\")\n",
    "my_seq.moltype.label"
   ]
  },
  {
   "cell_type": "code",
   "execution_count": 2,
   "id": "2c3aaacb",
   "metadata": {
    "execution": {
     "iopub.execute_input": "2023-07-17T11:20:34.397994Z",
     "iopub.status.busy": "2023-07-17T11:20:34.397892Z",
     "iopub.status.idle": "2023-07-17T11:20:34.400015Z",
     "shell.execute_reply": "2023-07-17T11:20:34.399796Z"
    }
   },
   "outputs": [
    {
     "data": {
      "text/html": [
       "<style>\n",
       ".c3seq table {margin: 10px 0;}\n",
       ".c3seq td { border: none !important; text-align: left !important; }\n",
       ".c3seq tr:not(.num_row) td span {margin: 0 2px;}\n",
       ".c3seq tr:nth-child(even) {background: #f7f7f7;}\n",
       ".c3seq .num_row {background-color:rgba(161, 195, 209, 0.5) !important; border-top: solid 1px black; }\n",
       ".c3seq .label { font-size: 12pt ; text-align: right !important; color: black !important; padding: 0 4px; }\n",
       ".c3seq .a_text{font-family: \"Lucida Console\",monospace !important; font-size: 12pt !important; color: black; }\n",
       ".c3seq .b_text{font-family: \"Lucida Console\",monospace !important; font-size: 12pt !important; color: black; }\n",
       ".c3seq .c_text{font-family: \"Lucida Console\",monospace !important; font-size: 12pt !important; color: black; }\n",
       ".c3seq .d_text{font-family: \"Lucida Console\",monospace !important; font-size: 12pt !important; color: black; }\n",
       ".c3seq .e_text{font-family: \"Lucida Console\",monospace !important; font-size: 12pt !important; color: black; }\n",
       ".c3seq .f_text{font-family: \"Lucida Console\",monospace !important; font-size: 12pt !important; color: black; }\n",
       ".c3seq .g_text{font-family: \"Lucida Console\",monospace !important; font-size: 12pt !important; color: black; }\n",
       ".c3seq .h_text{font-family: \"Lucida Console\",monospace !important; font-size: 12pt !important; color: black; }\n",
       ".c3seq .i_text{font-family: \"Lucida Console\",monospace !important; font-size: 12pt !important; color: black; }\n",
       ".c3seq .j_text{font-family: \"Lucida Console\",monospace !important; font-size: 12pt !important; color: black; }\n",
       ".c3seq .k_text{font-family: \"Lucida Console\",monospace !important; font-size: 12pt !important; color: black; }\n",
       ".c3seq .l_text{font-family: \"Lucida Console\",monospace !important; font-size: 12pt !important; color: black; }\n",
       ".c3seq .m_text{font-family: \"Lucida Console\",monospace !important; font-size: 12pt !important; color: black; }\n",
       ".c3seq .n_text{font-family: \"Lucida Console\",monospace !important; font-size: 12pt !important; color: black; }\n",
       ".c3seq .o_text{font-family: \"Lucida Console\",monospace !important; font-size: 12pt !important; color: black; }\n",
       ".c3seq .p_text{font-family: \"Lucida Console\",monospace !important; font-size: 12pt !important; color: black; }\n",
       ".c3seq .q_text{font-family: \"Lucida Console\",monospace !important; font-size: 12pt !important; color: black; }\n",
       ".c3seq .r_text{font-family: \"Lucida Console\",monospace !important; font-size: 12pt !important; color: black; }\n",
       ".c3seq .s_text{font-family: \"Lucida Console\",monospace !important; font-size: 12pt !important; color: black; }\n",
       ".c3seq .t_text{font-family: \"Lucida Console\",monospace !important; font-size: 12pt !important; color: black; }\n",
       ".c3seq .u_text{font-family: \"Lucida Console\",monospace !important; font-size: 12pt !important; color: black; }\n",
       ".c3seq .v_text{font-family: \"Lucida Console\",monospace !important; font-size: 12pt !important; color: black; }\n",
       ".c3seq .w_text{font-family: \"Lucida Console\",monospace !important; font-size: 12pt !important; color: black; }\n",
       ".c3seq .x_text{font-family: \"Lucida Console\",monospace !important; font-size: 12pt !important; color: black; }\n",
       ".c3seq .y_text{font-family: \"Lucida Console\",monospace !important; font-size: 12pt !important; color: black; }\n",
       ".c3seq .z_text{font-family: \"Lucida Console\",monospace !important; font-size: 12pt !important; color: black; }\n",
       ".c3seq .A_text{font-family: \"Lucida Console\",monospace !important; font-size: 12pt !important; color: black; }\n",
       ".c3seq .B_text{font-family: \"Lucida Console\",monospace !important; font-size: 12pt !important; color: black; }\n",
       ".c3seq .C_text{font-family: \"Lucida Console\",monospace !important; font-size: 12pt !important; color: black; }\n",
       ".c3seq .D_text{font-family: \"Lucida Console\",monospace !important; font-size: 12pt !important; color: black; }\n",
       ".c3seq .E_text{font-family: \"Lucida Console\",monospace !important; font-size: 12pt !important; color: black; }\n",
       ".c3seq .F_text{font-family: \"Lucida Console\",monospace !important; font-size: 12pt !important; color: black; }\n",
       ".c3seq .G_text{font-family: \"Lucida Console\",monospace !important; font-size: 12pt !important; color: black; }\n",
       ".c3seq .H_text{font-family: \"Lucida Console\",monospace !important; font-size: 12pt !important; color: black; }\n",
       ".c3seq .I_text{font-family: \"Lucida Console\",monospace !important; font-size: 12pt !important; color: black; }\n",
       ".c3seq .J_text{font-family: \"Lucida Console\",monospace !important; font-size: 12pt !important; color: black; }\n",
       ".c3seq .K_text{font-family: \"Lucida Console\",monospace !important; font-size: 12pt !important; color: black; }\n",
       ".c3seq .L_text{font-family: \"Lucida Console\",monospace !important; font-size: 12pt !important; color: black; }\n",
       ".c3seq .M_text{font-family: \"Lucida Console\",monospace !important; font-size: 12pt !important; color: black; }\n",
       ".c3seq .N_text{font-family: \"Lucida Console\",monospace !important; font-size: 12pt !important; color: black; }\n",
       ".c3seq .O_text{font-family: \"Lucida Console\",monospace !important; font-size: 12pt !important; color: black; }\n",
       ".c3seq .P_text{font-family: \"Lucida Console\",monospace !important; font-size: 12pt !important; color: black; }\n",
       ".c3seq .Q_text{font-family: \"Lucida Console\",monospace !important; font-size: 12pt !important; color: black; }\n",
       ".c3seq .R_text{font-family: \"Lucida Console\",monospace !important; font-size: 12pt !important; color: black; }\n",
       ".c3seq .S_text{font-family: \"Lucida Console\",monospace !important; font-size: 12pt !important; color: black; }\n",
       ".c3seq .T_text{font-family: \"Lucida Console\",monospace !important; font-size: 12pt !important; color: black; }\n",
       ".c3seq .U_text{font-family: \"Lucida Console\",monospace !important; font-size: 12pt !important; color: black; }\n",
       ".c3seq .V_text{font-family: \"Lucida Console\",monospace !important; font-size: 12pt !important; color: black; }\n",
       ".c3seq .W_text{font-family: \"Lucida Console\",monospace !important; font-size: 12pt !important; color: black; }\n",
       ".c3seq .X_text{font-family: \"Lucida Console\",monospace !important; font-size: 12pt !important; color: black; }\n",
       ".c3seq .Y_text{font-family: \"Lucida Console\",monospace !important; font-size: 12pt !important; color: black; }\n",
       ".c3seq .Z_text{font-family: \"Lucida Console\",monospace !important; font-size: 12pt !important; color: black; }\n",
       ".c3seq .terminal_ambig_text{font-family: \"Lucida Console\",monospace !important; font-size: 12pt !important; color: black; }\n",
       ".c3seq .ambig_text{font-family: \"Lucida Console\",monospace !important; font-size: 12pt !important; color: black; }\n",
       "</style>\n",
       "<div class=\"c3seq\">\n",
       "<table>\n",
       "<tr class=\"num_row\"><td></td><td><b>0</b></td></tr>\n",
       "<tr><td class=\"label\">None</td><td><span class=\"A_text\">A</span><span class=\"G_text\">G</span><span class=\"T_text\">T</span><span class=\"A_text\">A</span><span class=\"C_text\">C</span><span class=\"A_text\">A</span><span class=\"C_text\">C</span><span class=\"T_text\">T</span><span class=\"G_text\">G</span><span class=\"G_text\">G</span><span class=\"T_text\">T</span></td></tr>\n",
       "</table>\n",
       "<p><i>Sequence, length=11</i></p>\n",
       "</div>"
      ],
      "text/plain": [
       "Sequence(AGTACAC... 11)"
      ]
     },
     "execution_count": 2,
     "metadata": {},
     "output_type": "execute_result"
    }
   ],
   "source": [
    "my_seq"
   ]
  },
  {
   "cell_type": "code",
   "execution_count": 3,
   "id": "55d8384e",
   "metadata": {
    "execution": {
     "iopub.execute_input": "2023-07-17T11:20:34.401101Z",
     "iopub.status.busy": "2023-07-17T11:20:34.401040Z",
     "iopub.status.idle": "2023-07-17T11:20:34.403077Z",
     "shell.execute_reply": "2023-07-17T11:20:34.402863Z"
    }
   },
   "outputs": [
    {
     "data": {
      "text/plain": [
       "'bytes'"
      ]
     },
     "execution_count": 3,
     "metadata": {},
     "output_type": "execute_result"
    }
   ],
   "source": [
    "my_seq = make_seq(\"AGTACACTGGT\", moltype=\"bytes\")\n",
    "my_seq.moltype.label"
   ]
  },
  {
   "cell_type": "code",
   "execution_count": 4,
   "id": "df590b75",
   "metadata": {
    "execution": {
     "iopub.execute_input": "2023-07-17T11:20:34.404130Z",
     "iopub.status.busy": "2023-07-17T11:20:34.404056Z",
     "iopub.status.idle": "2023-07-17T11:20:34.406198Z",
     "shell.execute_reply": "2023-07-17T11:20:34.405981Z"
    }
   },
   "outputs": [
    {
     "data": {
      "text/html": [
       "<style>\n",
       ".c3seq table {margin: 10px 0;}\n",
       ".c3seq td { border: none !important; text-align: left !important; }\n",
       ".c3seq tr:not(.num_row) td span {margin: 0 2px;}\n",
       ".c3seq tr:nth-child(even) {background: #f7f7f7;}\n",
       ".c3seq .num_row {background-color:rgba(161, 195, 209, 0.5) !important; border-top: solid 1px black; }\n",
       ".c3seq .label { font-size: 12pt ; text-align: right !important; color: black !important; padding: 0 4px; }\n",
       ".c3seq .\u0000_bytes{font-family: \"Lucida Console\",monospace !important; font-size: 12pt !important; color: black; }\n",
       ".c3seq .\u0001_bytes{font-family: \"Lucida Console\",monospace !important; font-size: 12pt !important; color: black; }\n",
       ".c3seq .\u0002_bytes{font-family: \"Lucida Console\",monospace !important; font-size: 12pt !important; color: black; }\n",
       ".c3seq .\u0003_bytes{font-family: \"Lucida Console\",monospace !important; font-size: 12pt !important; color: black; }\n",
       ".c3seq .\u0004_bytes{font-family: \"Lucida Console\",monospace !important; font-size: 12pt !important; color: black; }\n",
       ".c3seq .\u0005_bytes{font-family: \"Lucida Console\",monospace !important; font-size: 12pt !important; color: black; }\n",
       ".c3seq .\u0006_bytes{font-family: \"Lucida Console\",monospace !important; font-size: 12pt !important; color: black; }\n",
       ".c3seq .\u0007_bytes{font-family: \"Lucida Console\",monospace !important; font-size: 12pt !important; color: black; }\n",
       ".c3seq .\b_bytes{font-family: \"Lucida Console\",monospace !important; font-size: 12pt !important; color: black; }\n",
       ".c3seq .\t_bytes{font-family: \"Lucida Console\",monospace !important; font-size: 12pt !important; color: black; }\n",
       ".c3seq .\n",
       "_bytes{font-family: \"Lucida Console\",monospace !important; font-size: 12pt !important; color: black; }\n",
       ".c3seq .\u000b",
       "_bytes{font-family: \"Lucida Console\",monospace !important; font-size: 12pt !important; color: black; }\n",
       ".c3seq .\f",
       "_bytes{font-family: \"Lucida Console\",monospace !important; font-size: 12pt !important; color: black; }\n",
       ".c3seq .\r",
       "_bytes{font-family: \"Lucida Console\",monospace !important; font-size: 12pt !important; color: black; }\n",
       ".c3seq .\u000e_bytes{font-family: \"Lucida Console\",monospace !important; font-size: 12pt !important; color: black; }\n",
       ".c3seq .\u000f_bytes{font-family: \"Lucida Console\",monospace !important; font-size: 12pt !important; color: black; }\n",
       ".c3seq .\u0010_bytes{font-family: \"Lucida Console\",monospace !important; font-size: 12pt !important; color: black; }\n",
       ".c3seq .\u0011_bytes{font-family: \"Lucida Console\",monospace !important; font-size: 12pt !important; color: black; }\n",
       ".c3seq .\u0012_bytes{font-family: \"Lucida Console\",monospace !important; font-size: 12pt !important; color: black; }\n",
       ".c3seq .\u0013_bytes{font-family: \"Lucida Console\",monospace !important; font-size: 12pt !important; color: black; }\n",
       ".c3seq .\u0014_bytes{font-family: \"Lucida Console\",monospace !important; font-size: 12pt !important; color: black; }\n",
       ".c3seq .\u0015_bytes{font-family: \"Lucida Console\",monospace !important; font-size: 12pt !important; color: black; }\n",
       ".c3seq .\u0016_bytes{font-family: \"Lucida Console\",monospace !important; font-size: 12pt !important; color: black; }\n",
       ".c3seq .\u0017_bytes{font-family: \"Lucida Console\",monospace !important; font-size: 12pt !important; color: black; }\n",
       ".c3seq .\u0018_bytes{font-family: \"Lucida Console\",monospace !important; font-size: 12pt !important; color: black; }\n",
       ".c3seq .\u0019_bytes{font-family: \"Lucida Console\",monospace !important; font-size: 12pt !important; color: black; }\n",
       ".c3seq .\u001a_bytes{font-family: \"Lucida Console\",monospace !important; font-size: 12pt !important; color: black; }\n",
       ".c3seq .\u001b_bytes{font-family: \"Lucida Console\",monospace !important; font-size: 12pt !important; color: black; }\n",
       ".c3seq .\u001c",
       "_bytes{font-family: \"Lucida Console\",monospace !important; font-size: 12pt !important; color: black; }\n",
       ".c3seq .\u001d",
       "_bytes{font-family: \"Lucida Console\",monospace !important; font-size: 12pt !important; color: black; }\n",
       ".c3seq .\u001e",
       "_bytes{font-family: \"Lucida Console\",monospace !important; font-size: 12pt !important; color: black; }\n",
       ".c3seq .\u001f_bytes{font-family: \"Lucida Console\",monospace !important; font-size: 12pt !important; color: black; }\n",
       ".c3seq . _bytes{font-family: \"Lucida Console\",monospace !important; font-size: 12pt !important; color: black; }\n",
       ".c3seq .!_bytes{font-family: \"Lucida Console\",monospace !important; font-size: 12pt !important; color: black; }\n",
       ".c3seq .\"_bytes{font-family: \"Lucida Console\",monospace !important; font-size: 12pt !important; color: black; }\n",
       ".c3seq .#_bytes{font-family: \"Lucida Console\",monospace !important; font-size: 12pt !important; color: black; }\n",
       ".c3seq .$_bytes{font-family: \"Lucida Console\",monospace !important; font-size: 12pt !important; color: black; }\n",
       ".c3seq .%_bytes{font-family: \"Lucida Console\",monospace !important; font-size: 12pt !important; color: black; }\n",
       ".c3seq .&_bytes{font-family: \"Lucida Console\",monospace !important; font-size: 12pt !important; color: black; }\n",
       ".c3seq .'_bytes{font-family: \"Lucida Console\",monospace !important; font-size: 12pt !important; color: black; }\n",
       ".c3seq .(_bytes{font-family: \"Lucida Console\",monospace !important; font-size: 12pt !important; color: black; }\n",
       ".c3seq .)_bytes{font-family: \"Lucida Console\",monospace !important; font-size: 12pt !important; color: black; }\n",
       ".c3seq .*_bytes{font-family: \"Lucida Console\",monospace !important; font-size: 12pt !important; color: black; }\n",
       ".c3seq .+_bytes{font-family: \"Lucida Console\",monospace !important; font-size: 12pt !important; color: black; }\n",
       ".c3seq .,_bytes{font-family: \"Lucida Console\",monospace !important; font-size: 12pt !important; color: black; }\n",
       ".c3seq .-_bytes{font-family: \"Lucida Console\",monospace !important; font-size: 12pt !important; color: black; }\n",
       ".c3seq .._bytes{font-family: \"Lucida Console\",monospace !important; font-size: 12pt !important; color: black; }\n",
       ".c3seq ./_bytes{font-family: \"Lucida Console\",monospace !important; font-size: 12pt !important; color: black; }\n",
       ".c3seq .0_bytes{font-family: \"Lucida Console\",monospace !important; font-size: 12pt !important; color: black; }\n",
       ".c3seq .1_bytes{font-family: \"Lucida Console\",monospace !important; font-size: 12pt !important; color: black; }\n",
       ".c3seq .2_bytes{font-family: \"Lucida Console\",monospace !important; font-size: 12pt !important; color: black; }\n",
       ".c3seq .3_bytes{font-family: \"Lucida Console\",monospace !important; font-size: 12pt !important; color: black; }\n",
       ".c3seq .4_bytes{font-family: \"Lucida Console\",monospace !important; font-size: 12pt !important; color: black; }\n",
       ".c3seq .5_bytes{font-family: \"Lucida Console\",monospace !important; font-size: 12pt !important; color: black; }\n",
       ".c3seq .6_bytes{font-family: \"Lucida Console\",monospace !important; font-size: 12pt !important; color: black; }\n",
       ".c3seq .7_bytes{font-family: \"Lucida Console\",monospace !important; font-size: 12pt !important; color: black; }\n",
       ".c3seq .8_bytes{font-family: \"Lucida Console\",monospace !important; font-size: 12pt !important; color: black; }\n",
       ".c3seq .9_bytes{font-family: \"Lucida Console\",monospace !important; font-size: 12pt !important; color: black; }\n",
       ".c3seq .:_bytes{font-family: \"Lucida Console\",monospace !important; font-size: 12pt !important; color: black; }\n",
       ".c3seq .;_bytes{font-family: \"Lucida Console\",monospace !important; font-size: 12pt !important; color: black; }\n",
       ".c3seq .<_bytes{font-family: \"Lucida Console\",monospace !important; font-size: 12pt !important; color: black; }\n",
       ".c3seq .=_bytes{font-family: \"Lucida Console\",monospace !important; font-size: 12pt !important; color: black; }\n",
       ".c3seq .>_bytes{font-family: \"Lucida Console\",monospace !important; font-size: 12pt !important; color: black; }\n",
       ".c3seq .?_bytes{font-family: \"Lucida Console\",monospace !important; font-size: 12pt !important; color: black; }\n",
       ".c3seq .@_bytes{font-family: \"Lucida Console\",monospace !important; font-size: 12pt !important; color: black; }\n",
       ".c3seq .A_bytes{font-family: \"Lucida Console\",monospace !important; font-size: 12pt !important; color: black; }\n",
       ".c3seq .B_bytes{font-family: \"Lucida Console\",monospace !important; font-size: 12pt !important; color: black; }\n",
       ".c3seq .C_bytes{font-family: \"Lucida Console\",monospace !important; font-size: 12pt !important; color: black; }\n",
       ".c3seq .D_bytes{font-family: \"Lucida Console\",monospace !important; font-size: 12pt !important; color: black; }\n",
       ".c3seq .E_bytes{font-family: \"Lucida Console\",monospace !important; font-size: 12pt !important; color: black; }\n",
       ".c3seq .F_bytes{font-family: \"Lucida Console\",monospace !important; font-size: 12pt !important; color: black; }\n",
       ".c3seq .G_bytes{font-family: \"Lucida Console\",monospace !important; font-size: 12pt !important; color: black; }\n",
       ".c3seq .H_bytes{font-family: \"Lucida Console\",monospace !important; font-size: 12pt !important; color: black; }\n",
       ".c3seq .I_bytes{font-family: \"Lucida Console\",monospace !important; font-size: 12pt !important; color: black; }\n",
       ".c3seq .J_bytes{font-family: \"Lucida Console\",monospace !important; font-size: 12pt !important; color: black; }\n",
       ".c3seq .K_bytes{font-family: \"Lucida Console\",monospace !important; font-size: 12pt !important; color: black; }\n",
       ".c3seq .L_bytes{font-family: \"Lucida Console\",monospace !important; font-size: 12pt !important; color: black; }\n",
       ".c3seq .M_bytes{font-family: \"Lucida Console\",monospace !important; font-size: 12pt !important; color: black; }\n",
       ".c3seq .N_bytes{font-family: \"Lucida Console\",monospace !important; font-size: 12pt !important; color: black; }\n",
       ".c3seq .O_bytes{font-family: \"Lucida Console\",monospace !important; font-size: 12pt !important; color: black; }\n",
       ".c3seq .P_bytes{font-family: \"Lucida Console\",monospace !important; font-size: 12pt !important; color: black; }\n",
       ".c3seq .Q_bytes{font-family: \"Lucida Console\",monospace !important; font-size: 12pt !important; color: black; }\n",
       ".c3seq .R_bytes{font-family: \"Lucida Console\",monospace !important; font-size: 12pt !important; color: black; }\n",
       ".c3seq .S_bytes{font-family: \"Lucida Console\",monospace !important; font-size: 12pt !important; color: black; }\n",
       ".c3seq .T_bytes{font-family: \"Lucida Console\",monospace !important; font-size: 12pt !important; color: black; }\n",
       ".c3seq .U_bytes{font-family: \"Lucida Console\",monospace !important; font-size: 12pt !important; color: black; }\n",
       ".c3seq .V_bytes{font-family: \"Lucida Console\",monospace !important; font-size: 12pt !important; color: black; }\n",
       ".c3seq .W_bytes{font-family: \"Lucida Console\",monospace !important; font-size: 12pt !important; color: black; }\n",
       ".c3seq .X_bytes{font-family: \"Lucida Console\",monospace !important; font-size: 12pt !important; color: black; }\n",
       ".c3seq .Y_bytes{font-family: \"Lucida Console\",monospace !important; font-size: 12pt !important; color: black; }\n",
       ".c3seq .Z_bytes{font-family: \"Lucida Console\",monospace !important; font-size: 12pt !important; color: black; }\n",
       ".c3seq .[_bytes{font-family: \"Lucida Console\",monospace !important; font-size: 12pt !important; color: black; }\n",
       ".c3seq .\\_bytes{font-family: \"Lucida Console\",monospace !important; font-size: 12pt !important; color: black; }\n",
       ".c3seq .]_bytes{font-family: \"Lucida Console\",monospace !important; font-size: 12pt !important; color: black; }\n",
       ".c3seq .^_bytes{font-family: \"Lucida Console\",monospace !important; font-size: 12pt !important; color: black; }\n",
       ".c3seq .__bytes{font-family: \"Lucida Console\",monospace !important; font-size: 12pt !important; color: black; }\n",
       ".c3seq .`_bytes{font-family: \"Lucida Console\",monospace !important; font-size: 12pt !important; color: black; }\n",
       ".c3seq .a_bytes{font-family: \"Lucida Console\",monospace !important; font-size: 12pt !important; color: black; }\n",
       ".c3seq .b_bytes{font-family: \"Lucida Console\",monospace !important; font-size: 12pt !important; color: black; }\n",
       ".c3seq .c_bytes{font-family: \"Lucida Console\",monospace !important; font-size: 12pt !important; color: black; }\n",
       ".c3seq .d_bytes{font-family: \"Lucida Console\",monospace !important; font-size: 12pt !important; color: black; }\n",
       ".c3seq .e_bytes{font-family: \"Lucida Console\",monospace !important; font-size: 12pt !important; color: black; }\n",
       ".c3seq .f_bytes{font-family: \"Lucida Console\",monospace !important; font-size: 12pt !important; color: black; }\n",
       ".c3seq .g_bytes{font-family: \"Lucida Console\",monospace !important; font-size: 12pt !important; color: black; }\n",
       ".c3seq .h_bytes{font-family: \"Lucida Console\",monospace !important; font-size: 12pt !important; color: black; }\n",
       ".c3seq .i_bytes{font-family: \"Lucida Console\",monospace !important; font-size: 12pt !important; color: black; }\n",
       ".c3seq .j_bytes{font-family: \"Lucida Console\",monospace !important; font-size: 12pt !important; color: black; }\n",
       ".c3seq .k_bytes{font-family: \"Lucida Console\",monospace !important; font-size: 12pt !important; color: black; }\n",
       ".c3seq .l_bytes{font-family: \"Lucida Console\",monospace !important; font-size: 12pt !important; color: black; }\n",
       ".c3seq .m_bytes{font-family: \"Lucida Console\",monospace !important; font-size: 12pt !important; color: black; }\n",
       ".c3seq .n_bytes{font-family: \"Lucida Console\",monospace !important; font-size: 12pt !important; color: black; }\n",
       ".c3seq .o_bytes{font-family: \"Lucida Console\",monospace !important; font-size: 12pt !important; color: black; }\n",
       ".c3seq .p_bytes{font-family: \"Lucida Console\",monospace !important; font-size: 12pt !important; color: black; }\n",
       ".c3seq .q_bytes{font-family: \"Lucida Console\",monospace !important; font-size: 12pt !important; color: black; }\n",
       ".c3seq .r_bytes{font-family: \"Lucida Console\",monospace !important; font-size: 12pt !important; color: black; }\n",
       ".c3seq .s_bytes{font-family: \"Lucida Console\",monospace !important; font-size: 12pt !important; color: black; }\n",
       ".c3seq .t_bytes{font-family: \"Lucida Console\",monospace !important; font-size: 12pt !important; color: black; }\n",
       ".c3seq .u_bytes{font-family: \"Lucida Console\",monospace !important; font-size: 12pt !important; color: black; }\n",
       ".c3seq .v_bytes{font-family: \"Lucida Console\",monospace !important; font-size: 12pt !important; color: black; }\n",
       ".c3seq .w_bytes{font-family: \"Lucida Console\",monospace !important; font-size: 12pt !important; color: black; }\n",
       ".c3seq .x_bytes{font-family: \"Lucida Console\",monospace !important; font-size: 12pt !important; color: black; }\n",
       ".c3seq .y_bytes{font-family: \"Lucida Console\",monospace !important; font-size: 12pt !important; color: black; }\n",
       ".c3seq .z_bytes{font-family: \"Lucida Console\",monospace !important; font-size: 12pt !important; color: black; }\n",
       ".c3seq .{_bytes{font-family: \"Lucida Console\",monospace !important; font-size: 12pt !important; color: black; }\n",
       ".c3seq .|_bytes{font-family: \"Lucida Console\",monospace !important; font-size: 12pt !important; color: black; }\n",
       ".c3seq .}_bytes{font-family: \"Lucida Console\",monospace !important; font-size: 12pt !important; color: black; }\n",
       ".c3seq .~_bytes{font-family: \"Lucida Console\",monospace !important; font-size: 12pt !important; color: black; }\n",
       ".c3seq ._bytes{font-family: \"Lucida Console\",monospace !important; font-size: 12pt !important; color: black; }\n",
       ".c3seq ._bytes{font-family: \"Lucida Console\",monospace !important; font-size: 12pt !important; color: black; }\n",
       ".c3seq ._bytes{font-family: \"Lucida Console\",monospace !important; font-size: 12pt !important; color: black; }\n",
       ".c3seq ._bytes{font-family: \"Lucida Console\",monospace !important; font-size: 12pt !important; color: black; }\n",
       ".c3seq ._bytes{font-family: \"Lucida Console\",monospace !important; font-size: 12pt !important; color: black; }\n",
       ".c3seq ._bytes{font-family: \"Lucida Console\",monospace !important; font-size: 12pt !important; color: black; }\n",
       ".c3seq .",
       "_bytes{font-family: \"Lucida Console\",monospace !important; font-size: 12pt !important; color: black; }\n",
       ".c3seq ._bytes{font-family: \"Lucida Console\",monospace !important; font-size: 12pt !important; color: black; }\n",
       ".c3seq ._bytes{font-family: \"Lucida Console\",monospace !important; font-size: 12pt !important; color: black; }\n",
       ".c3seq ._bytes{font-family: \"Lucida Console\",monospace !important; font-size: 12pt !important; color: black; }\n",
       ".c3seq ._bytes{font-family: \"Lucida Console\",monospace !important; font-size: 12pt !important; color: black; }\n",
       ".c3seq ._bytes{font-family: \"Lucida Console\",monospace !important; font-size: 12pt !important; color: black; }\n",
       ".c3seq ._bytes{font-family: \"Lucida Console\",monospace !important; font-size: 12pt !important; color: black; }\n",
       ".c3seq ._bytes{font-family: \"Lucida Console\",monospace !important; font-size: 12pt !important; color: black; }\n",
       ".c3seq ._bytes{font-family: \"Lucida Console\",monospace !important; font-size: 12pt !important; color: black; }\n",
       ".c3seq ._bytes{font-family: \"Lucida Console\",monospace !important; font-size: 12pt !important; color: black; }\n",
       ".c3seq ._bytes{font-family: \"Lucida Console\",monospace !important; font-size: 12pt !important; color: black; }\n",
       ".c3seq ._bytes{font-family: \"Lucida Console\",monospace !important; font-size: 12pt !important; color: black; }\n",
       ".c3seq ._bytes{font-family: \"Lucida Console\",monospace !important; font-size: 12pt !important; color: black; }\n",
       ".c3seq ._bytes{font-family: \"Lucida Console\",monospace !important; font-size: 12pt !important; color: black; }\n",
       ".c3seq ._bytes{font-family: \"Lucida Console\",monospace !important; font-size: 12pt !important; color: black; }\n",
       ".c3seq ._bytes{font-family: \"Lucida Console\",monospace !important; font-size: 12pt !important; color: black; }\n",
       ".c3seq ._bytes{font-family: \"Lucida Console\",monospace !important; font-size: 12pt !important; color: black; }\n",
       ".c3seq ._bytes{font-family: \"Lucida Console\",monospace !important; font-size: 12pt !important; color: black; }\n",
       ".c3seq ._bytes{font-family: \"Lucida Console\",monospace !important; font-size: 12pt !important; color: black; }\n",
       ".c3seq ._bytes{font-family: \"Lucida Console\",monospace !important; font-size: 12pt !important; color: black; }\n",
       ".c3seq ._bytes{font-family: \"Lucida Console\",monospace !important; font-size: 12pt !important; color: black; }\n",
       ".c3seq ._bytes{font-family: \"Lucida Console\",monospace !important; font-size: 12pt !important; color: black; }\n",
       ".c3seq ._bytes{font-family: \"Lucida Console\",monospace !important; font-size: 12pt !important; color: black; }\n",
       ".c3seq ._bytes{font-family: \"Lucida Console\",monospace !important; font-size: 12pt !important; color: black; }\n",
       ".c3seq ._bytes{font-family: \"Lucida Console\",monospace !important; font-size: 12pt !important; color: black; }\n",
       ".c3seq ._bytes{font-family: \"Lucida Console\",monospace !important; font-size: 12pt !important; color: black; }\n",
       ".c3seq ._bytes{font-family: \"Lucida Console\",monospace !important; font-size: 12pt !important; color: black; }\n",
       ".c3seq . _bytes{font-family: \"Lucida Console\",monospace !important; font-size: 12pt !important; color: black; }\n",
       ".c3seq .¡_bytes{font-family: \"Lucida Console\",monospace !important; font-size: 12pt !important; color: black; }\n",
       ".c3seq .¢_bytes{font-family: \"Lucida Console\",monospace !important; font-size: 12pt !important; color: black; }\n",
       ".c3seq .£_bytes{font-family: \"Lucida Console\",monospace !important; font-size: 12pt !important; color: black; }\n",
       ".c3seq .¤_bytes{font-family: \"Lucida Console\",monospace !important; font-size: 12pt !important; color: black; }\n",
       ".c3seq .¥_bytes{font-family: \"Lucida Console\",monospace !important; font-size: 12pt !important; color: black; }\n",
       ".c3seq .¦_bytes{font-family: \"Lucida Console\",monospace !important; font-size: 12pt !important; color: black; }\n",
       ".c3seq .§_bytes{font-family: \"Lucida Console\",monospace !important; font-size: 12pt !important; color: black; }\n",
       ".c3seq .¨_bytes{font-family: \"Lucida Console\",monospace !important; font-size: 12pt !important; color: black; }\n",
       ".c3seq .©_bytes{font-family: \"Lucida Console\",monospace !important; font-size: 12pt !important; color: black; }\n",
       ".c3seq .ª_bytes{font-family: \"Lucida Console\",monospace !important; font-size: 12pt !important; color: black; }\n",
       ".c3seq .«_bytes{font-family: \"Lucida Console\",monospace !important; font-size: 12pt !important; color: black; }\n",
       ".c3seq .¬_bytes{font-family: \"Lucida Console\",monospace !important; font-size: 12pt !important; color: black; }\n",
       ".c3seq .­_bytes{font-family: \"Lucida Console\",monospace !important; font-size: 12pt !important; color: black; }\n",
       ".c3seq .®_bytes{font-family: \"Lucida Console\",monospace !important; font-size: 12pt !important; color: black; }\n",
       ".c3seq .¯_bytes{font-family: \"Lucida Console\",monospace !important; font-size: 12pt !important; color: black; }\n",
       ".c3seq .°_bytes{font-family: \"Lucida Console\",monospace !important; font-size: 12pt !important; color: black; }\n",
       ".c3seq .±_bytes{font-family: \"Lucida Console\",monospace !important; font-size: 12pt !important; color: black; }\n",
       ".c3seq .²_bytes{font-family: \"Lucida Console\",monospace !important; font-size: 12pt !important; color: black; }\n",
       ".c3seq .³_bytes{font-family: \"Lucida Console\",monospace !important; font-size: 12pt !important; color: black; }\n",
       ".c3seq .´_bytes{font-family: \"Lucida Console\",monospace !important; font-size: 12pt !important; color: black; }\n",
       ".c3seq .µ_bytes{font-family: \"Lucida Console\",monospace !important; font-size: 12pt !important; color: black; }\n",
       ".c3seq .¶_bytes{font-family: \"Lucida Console\",monospace !important; font-size: 12pt !important; color: black; }\n",
       ".c3seq .·_bytes{font-family: \"Lucida Console\",monospace !important; font-size: 12pt !important; color: black; }\n",
       ".c3seq .¸_bytes{font-family: \"Lucida Console\",monospace !important; font-size: 12pt !important; color: black; }\n",
       ".c3seq .¹_bytes{font-family: \"Lucida Console\",monospace !important; font-size: 12pt !important; color: black; }\n",
       ".c3seq .º_bytes{font-family: \"Lucida Console\",monospace !important; font-size: 12pt !important; color: black; }\n",
       ".c3seq .»_bytes{font-family: \"Lucida Console\",monospace !important; font-size: 12pt !important; color: black; }\n",
       ".c3seq .¼_bytes{font-family: \"Lucida Console\",monospace !important; font-size: 12pt !important; color: black; }\n",
       ".c3seq .½_bytes{font-family: \"Lucida Console\",monospace !important; font-size: 12pt !important; color: black; }\n",
       ".c3seq .¾_bytes{font-family: \"Lucida Console\",monospace !important; font-size: 12pt !important; color: black; }\n",
       ".c3seq .¿_bytes{font-family: \"Lucida Console\",monospace !important; font-size: 12pt !important; color: black; }\n",
       ".c3seq .À_bytes{font-family: \"Lucida Console\",monospace !important; font-size: 12pt !important; color: black; }\n",
       ".c3seq .Á_bytes{font-family: \"Lucida Console\",monospace !important; font-size: 12pt !important; color: black; }\n",
       ".c3seq .Â_bytes{font-family: \"Lucida Console\",monospace !important; font-size: 12pt !important; color: black; }\n",
       ".c3seq .Ã_bytes{font-family: \"Lucida Console\",monospace !important; font-size: 12pt !important; color: black; }\n",
       ".c3seq .Ä_bytes{font-family: \"Lucida Console\",monospace !important; font-size: 12pt !important; color: black; }\n",
       ".c3seq .Å_bytes{font-family: \"Lucida Console\",monospace !important; font-size: 12pt !important; color: black; }\n",
       ".c3seq .Æ_bytes{font-family: \"Lucida Console\",monospace !important; font-size: 12pt !important; color: black; }\n",
       ".c3seq .Ç_bytes{font-family: \"Lucida Console\",monospace !important; font-size: 12pt !important; color: black; }\n",
       ".c3seq .È_bytes{font-family: \"Lucida Console\",monospace !important; font-size: 12pt !important; color: black; }\n",
       ".c3seq .É_bytes{font-family: \"Lucida Console\",monospace !important; font-size: 12pt !important; color: black; }\n",
       ".c3seq .Ê_bytes{font-family: \"Lucida Console\",monospace !important; font-size: 12pt !important; color: black; }\n",
       ".c3seq .Ë_bytes{font-family: \"Lucida Console\",monospace !important; font-size: 12pt !important; color: black; }\n",
       ".c3seq .Ì_bytes{font-family: \"Lucida Console\",monospace !important; font-size: 12pt !important; color: black; }\n",
       ".c3seq .Í_bytes{font-family: \"Lucida Console\",monospace !important; font-size: 12pt !important; color: black; }\n",
       ".c3seq .Î_bytes{font-family: \"Lucida Console\",monospace !important; font-size: 12pt !important; color: black; }\n",
       ".c3seq .Ï_bytes{font-family: \"Lucida Console\",monospace !important; font-size: 12pt !important; color: black; }\n",
       ".c3seq .Ð_bytes{font-family: \"Lucida Console\",monospace !important; font-size: 12pt !important; color: black; }\n",
       ".c3seq .Ñ_bytes{font-family: \"Lucida Console\",monospace !important; font-size: 12pt !important; color: black; }\n",
       ".c3seq .Ò_bytes{font-family: \"Lucida Console\",monospace !important; font-size: 12pt !important; color: black; }\n",
       ".c3seq .Ó_bytes{font-family: \"Lucida Console\",monospace !important; font-size: 12pt !important; color: black; }\n",
       ".c3seq .Ô_bytes{font-family: \"Lucida Console\",monospace !important; font-size: 12pt !important; color: black; }\n",
       ".c3seq .Õ_bytes{font-family: \"Lucida Console\",monospace !important; font-size: 12pt !important; color: black; }\n",
       ".c3seq .Ö_bytes{font-family: \"Lucida Console\",monospace !important; font-size: 12pt !important; color: black; }\n",
       ".c3seq .×_bytes{font-family: \"Lucida Console\",monospace !important; font-size: 12pt !important; color: black; }\n",
       ".c3seq .Ø_bytes{font-family: \"Lucida Console\",monospace !important; font-size: 12pt !important; color: black; }\n",
       ".c3seq .Ù_bytes{font-family: \"Lucida Console\",monospace !important; font-size: 12pt !important; color: black; }\n",
       ".c3seq .Ú_bytes{font-family: \"Lucida Console\",monospace !important; font-size: 12pt !important; color: black; }\n",
       ".c3seq .Û_bytes{font-family: \"Lucida Console\",monospace !important; font-size: 12pt !important; color: black; }\n",
       ".c3seq .Ü_bytes{font-family: \"Lucida Console\",monospace !important; font-size: 12pt !important; color: black; }\n",
       ".c3seq .Ý_bytes{font-family: \"Lucida Console\",monospace !important; font-size: 12pt !important; color: black; }\n",
       ".c3seq .Þ_bytes{font-family: \"Lucida Console\",monospace !important; font-size: 12pt !important; color: black; }\n",
       ".c3seq .ß_bytes{font-family: \"Lucida Console\",monospace !important; font-size: 12pt !important; color: black; }\n",
       ".c3seq .à_bytes{font-family: \"Lucida Console\",monospace !important; font-size: 12pt !important; color: black; }\n",
       ".c3seq .á_bytes{font-family: \"Lucida Console\",monospace !important; font-size: 12pt !important; color: black; }\n",
       ".c3seq .â_bytes{font-family: \"Lucida Console\",monospace !important; font-size: 12pt !important; color: black; }\n",
       ".c3seq .ã_bytes{font-family: \"Lucida Console\",monospace !important; font-size: 12pt !important; color: black; }\n",
       ".c3seq .ä_bytes{font-family: \"Lucida Console\",monospace !important; font-size: 12pt !important; color: black; }\n",
       ".c3seq .å_bytes{font-family: \"Lucida Console\",monospace !important; font-size: 12pt !important; color: black; }\n",
       ".c3seq .æ_bytes{font-family: \"Lucida Console\",monospace !important; font-size: 12pt !important; color: black; }\n",
       ".c3seq .ç_bytes{font-family: \"Lucida Console\",monospace !important; font-size: 12pt !important; color: black; }\n",
       ".c3seq .è_bytes{font-family: \"Lucida Console\",monospace !important; font-size: 12pt !important; color: black; }\n",
       ".c3seq .é_bytes{font-family: \"Lucida Console\",monospace !important; font-size: 12pt !important; color: black; }\n",
       ".c3seq .ê_bytes{font-family: \"Lucida Console\",monospace !important; font-size: 12pt !important; color: black; }\n",
       ".c3seq .ë_bytes{font-family: \"Lucida Console\",monospace !important; font-size: 12pt !important; color: black; }\n",
       ".c3seq .ì_bytes{font-family: \"Lucida Console\",monospace !important; font-size: 12pt !important; color: black; }\n",
       ".c3seq .í_bytes{font-family: \"Lucida Console\",monospace !important; font-size: 12pt !important; color: black; }\n",
       ".c3seq .î_bytes{font-family: \"Lucida Console\",monospace !important; font-size: 12pt !important; color: black; }\n",
       ".c3seq .ï_bytes{font-family: \"Lucida Console\",monospace !important; font-size: 12pt !important; color: black; }\n",
       ".c3seq .ð_bytes{font-family: \"Lucida Console\",monospace !important; font-size: 12pt !important; color: black; }\n",
       ".c3seq .ñ_bytes{font-family: \"Lucida Console\",monospace !important; font-size: 12pt !important; color: black; }\n",
       ".c3seq .ò_bytes{font-family: \"Lucida Console\",monospace !important; font-size: 12pt !important; color: black; }\n",
       ".c3seq .ó_bytes{font-family: \"Lucida Console\",monospace !important; font-size: 12pt !important; color: black; }\n",
       ".c3seq .ô_bytes{font-family: \"Lucida Console\",monospace !important; font-size: 12pt !important; color: black; }\n",
       ".c3seq .õ_bytes{font-family: \"Lucida Console\",monospace !important; font-size: 12pt !important; color: black; }\n",
       ".c3seq .ö_bytes{font-family: \"Lucida Console\",monospace !important; font-size: 12pt !important; color: black; }\n",
       ".c3seq .÷_bytes{font-family: \"Lucida Console\",monospace !important; font-size: 12pt !important; color: black; }\n",
       ".c3seq .ø_bytes{font-family: \"Lucida Console\",monospace !important; font-size: 12pt !important; color: black; }\n",
       ".c3seq .ù_bytes{font-family: \"Lucida Console\",monospace !important; font-size: 12pt !important; color: black; }\n",
       ".c3seq .ú_bytes{font-family: \"Lucida Console\",monospace !important; font-size: 12pt !important; color: black; }\n",
       ".c3seq .û_bytes{font-family: \"Lucida Console\",monospace !important; font-size: 12pt !important; color: black; }\n",
       ".c3seq .ü_bytes{font-family: \"Lucida Console\",monospace !important; font-size: 12pt !important; color: black; }\n",
       ".c3seq .ý_bytes{font-family: \"Lucida Console\",monospace !important; font-size: 12pt !important; color: black; }\n",
       ".c3seq .þ_bytes{font-family: \"Lucida Console\",monospace !important; font-size: 12pt !important; color: black; }\n",
       ".c3seq .ÿ_bytes{font-family: \"Lucida Console\",monospace !important; font-size: 12pt !important; color: black; }\n",
       ".c3seq .terminal_ambig_bytes{font-family: \"Lucida Console\",monospace !important; font-size: 12pt !important; color: black; }\n",
       ".c3seq .ambig_bytes{font-family: \"Lucida Console\",monospace !important; font-size: 12pt !important; color: black; }\n",
       "</style>\n",
       "<div class=\"c3seq\">\n",
       "<table>\n",
       "<tr class=\"num_row\"><td></td><td><b>0</b></td></tr>\n",
       "<tr><td class=\"label\">None</td><td><span class=\"A_bytes\">A</span><span class=\"G_bytes\">G</span><span class=\"T_bytes\">T</span><span class=\"A_bytes\">A</span><span class=\"C_bytes\">C</span><span class=\"A_bytes\">A</span><span class=\"C_bytes\">C</span><span class=\"T_bytes\">T</span><span class=\"G_bytes\">G</span><span class=\"G_bytes\">G</span><span class=\"T_bytes\">T</span></td></tr>\n",
       "</table>\n",
       "<p><i>ByteSequence, length=11</i></p>\n",
       "</div>"
      ],
      "text/plain": [
       "ByteSequence(AGTACAC... 11)"
      ]
     },
     "execution_count": 4,
     "metadata": {},
     "output_type": "execute_result"
    }
   ],
   "source": [
    "my_seq"
   ]
  },
  {
   "cell_type": "code",
   "execution_count": 5,
   "id": "12586132",
   "metadata": {
    "execution": {
     "iopub.execute_input": "2023-07-17T11:20:34.407239Z",
     "iopub.status.busy": "2023-07-17T11:20:34.407178Z",
     "iopub.status.idle": "2023-07-17T11:20:34.409304Z",
     "shell.execute_reply": "2023-07-17T11:20:34.409112Z"
    }
   },
   "outputs": [
    {
     "data": {
      "text/html": [
       "<style>\n",
       ".c3seq table {margin: 10px 0;}\n",
       ".c3seq td { border: none !important; text-align: left !important; }\n",
       ".c3seq tr:not(.num_row) td span {margin: 0 2px;}\n",
       ".c3seq tr:nth-child(even) {background: #f7f7f7;}\n",
       ".c3seq .num_row {background-color:rgba(161, 195, 209, 0.5) !important; border-top: solid 1px black; }\n",
       ".c3seq .label { font-size: 12pt ; text-align: right !important; color: black !important; padding: 0 4px; }\n",
       ".c3seq .T_dna{font-family: \"Lucida Console\",monospace !important; font-size: 12pt !important; color: blue; }\n",
       ".c3seq .C_dna{font-family: \"Lucida Console\",monospace !important; font-size: 12pt !important; color: black; }\n",
       ".c3seq .A_dna{font-family: \"Lucida Console\",monospace !important; font-size: 12pt !important; color: #FF0102; }\n",
       ".c3seq .G_dna{font-family: \"Lucida Console\",monospace !important; font-size: 12pt !important; color: green; }\n",
       ".c3seq .terminal_ambig_dna{font-family: \"Lucida Console\",monospace !important; font-size: 12pt !important; color: gray; }\n",
       ".c3seq .ambig_dna{font-family: \"Lucida Console\",monospace !important; font-size: 12pt !important; color: gray; }\n",
       "</style>\n",
       "<div class=\"c3seq\">\n",
       "<table>\n",
       "<tr class=\"num_row\"><td></td><td><b>0</b></td></tr>\n",
       "<tr><td class=\"label\">None</td><td><span class=\"A_dna\">A</span><span class=\"G_dna\">G</span><span class=\"T_dna\">T</span><span class=\"A_dna\">A</span><span class=\"C_dna\">C</span><span class=\"A_dna\">A</span><span class=\"C_dna\">C</span><span class=\"T_dna\">T</span><span class=\"G_dna\">G</span><span class=\"G_dna\">G</span><span class=\"T_dna\">T</span></td></tr>\n",
       "</table>\n",
       "<p><i>DnaSequence, length=11</i></p>\n",
       "</div>"
      ],
      "text/plain": [
       "DnaSequence(AGTACAC... 11)"
      ]
     },
     "execution_count": 5,
     "metadata": {},
     "output_type": "execute_result"
    }
   ],
   "source": [
    "from cogent3 import make_seq\n",
    "\n",
    "my_seq = make_seq(\"AGTACACTGGT\", moltype=\"dna\")\n",
    "my_seq"
   ]
  },
  {
   "cell_type": "code",
   "execution_count": 6,
   "id": "1d90238b",
   "metadata": {
    "execution": {
     "iopub.execute_input": "2023-07-17T11:20:34.410312Z",
     "iopub.status.busy": "2023-07-17T11:20:34.410253Z",
     "iopub.status.idle": "2023-07-17T11:20:34.411999Z",
     "shell.execute_reply": "2023-07-17T11:20:34.411771Z"
    }
   },
   "outputs": [],
   "source": [
    "from cogent3 import make_seq\n",
    "\n",
    "rnaseq = make_seq(\"ACGUACGUACGUACGU\", moltype=\"rna\")"
   ]
  },
  {
   "cell_type": "code",
   "execution_count": 7,
   "id": "e3675940",
   "metadata": {
    "execution": {
     "iopub.execute_input": "2023-07-17T11:20:34.413052Z",
     "iopub.status.busy": "2023-07-17T11:20:34.412993Z",
     "iopub.status.idle": "2023-07-17T11:20:34.415063Z",
     "shell.execute_reply": "2023-07-17T11:20:34.414841Z"
    }
   },
   "outputs": [
    {
     "data": {
      "text/html": [
       "<style>\n",
       ".c3seq table {margin: 10px 0;}\n",
       ".c3seq td { border: none !important; text-align: left !important; }\n",
       ".c3seq tr:not(.num_row) td span {margin: 0 2px;}\n",
       ".c3seq tr:nth-child(even) {background: #f7f7f7;}\n",
       ".c3seq .num_row {background-color:rgba(161, 195, 209, 0.5) !important; border-top: solid 1px black; }\n",
       ".c3seq .label { font-size: 12pt ; text-align: right !important; color: black !important; padding: 0 4px; }\n",
       ".c3seq .T_dna{font-family: \"Lucida Console\",monospace !important; font-size: 12pt !important; color: blue; }\n",
       ".c3seq .C_dna{font-family: \"Lucida Console\",monospace !important; font-size: 12pt !important; color: black; }\n",
       ".c3seq .A_dna{font-family: \"Lucida Console\",monospace !important; font-size: 12pt !important; color: #FF0102; }\n",
       ".c3seq .G_dna{font-family: \"Lucida Console\",monospace !important; font-size: 12pt !important; color: green; }\n",
       ".c3seq .terminal_ambig_dna{font-family: \"Lucida Console\",monospace !important; font-size: 12pt !important; color: gray; }\n",
       ".c3seq .ambig_dna{font-family: \"Lucida Console\",monospace !important; font-size: 12pt !important; color: gray; }\n",
       "</style>\n",
       "<div class=\"c3seq\">\n",
       "<table>\n",
       "<tr class=\"num_row\"><td></td><td><b>0</b></td></tr>\n",
       "<tr><td class=\"label\">None</td><td><span class=\"A_dna\">A</span><span class=\"G_dna\">G</span><span class=\"T_dna\">T</span><span class=\"A_dna\">A</span><span class=\"C_dna\">C</span><span class=\"A_dna\">A</span><span class=\"C_dna\">C</span><span class=\"T_dna\">T</span><span class=\"G_dna\">G</span><span class=\"G_dna\">G</span><span class=\"T_dna\">T</span></td></tr>\n",
       "</table>\n",
       "<p><i>DnaSequence, length=11</i></p>\n",
       "</div>"
      ],
      "text/plain": [
       "DnaSequence(AGTACAC... 11)"
      ]
     },
     "execution_count": 7,
     "metadata": {},
     "output_type": "execute_result"
    }
   ],
   "source": [
    "from cogent3 import make_seq\n",
    "\n",
    "my_seq = make_seq(\"AGTACACTGGT\", moltype=\"dna\")\n",
    "my_seq"
   ]
  },
  {
   "cell_type": "code",
   "execution_count": 8,
   "id": "94b2714e",
   "metadata": {
    "execution": {
     "iopub.execute_input": "2023-07-17T11:20:34.416105Z",
     "iopub.status.busy": "2023-07-17T11:20:34.416042Z",
     "iopub.status.idle": "2023-07-17T11:20:34.418095Z",
     "shell.execute_reply": "2023-07-17T11:20:34.417879Z"
    }
   },
   "outputs": [
    {
     "data": {
      "text/html": [
       "<style>\n",
       ".c3seq table {margin: 10px 0;}\n",
       ".c3seq td { border: none !important; text-align: left !important; }\n",
       ".c3seq tr:not(.num_row) td span {margin: 0 2px;}\n",
       ".c3seq tr:nth-child(even) {background: #f7f7f7;}\n",
       ".c3seq .num_row {background-color:rgba(161, 195, 209, 0.5) !important; border-top: solid 1px black; }\n",
       ".c3seq .label { font-size: 12pt ; text-align: right !important; color: black !important; padding: 0 4px; }\n",
       ".c3seq .U_rna{font-family: \"Lucida Console\",monospace !important; font-size: 12pt !important; color: blue; }\n",
       ".c3seq .C_rna{font-family: \"Lucida Console\",monospace !important; font-size: 12pt !important; color: black; }\n",
       ".c3seq .A_rna{font-family: \"Lucida Console\",monospace !important; font-size: 12pt !important; color: #FF0102; }\n",
       ".c3seq .G_rna{font-family: \"Lucida Console\",monospace !important; font-size: 12pt !important; color: green; }\n",
       ".c3seq .terminal_ambig_rna{font-family: \"Lucida Console\",monospace !important; font-size: 12pt !important; color: gray; }\n",
       ".c3seq .ambig_rna{font-family: \"Lucida Console\",monospace !important; font-size: 12pt !important; color: gray; }\n",
       "</style>\n",
       "<div class=\"c3seq\">\n",
       "<table>\n",
       "<tr class=\"num_row\"><td></td><td><b>0</b></td></tr>\n",
       "<tr><td class=\"label\">None</td><td><span class=\"A_rna\">A</span><span class=\"C_rna\">C</span><span class=\"G_rna\">G</span><span class=\"U_rna\">U</span><span class=\"A_rna\">A</span><span class=\"C_rna\">C</span><span class=\"G_rna\">G</span><span class=\"U_rna\">U</span><span class=\"A_rna\">A</span><span class=\"C_rna\">C</span><span class=\"G_rna\">G</span><span class=\"U_rna\">U</span><span class=\"A_rna\">A</span><span class=\"C_rna\">C</span><span class=\"G_rna\">G</span><span class=\"U_rna\">U</span></td></tr>\n",
       "</table>\n",
       "<p><i>RnaSequence, length=16</i></p>\n",
       "</div>"
      ],
      "text/plain": [
       "RnaSequence(ACGUACG... 16)"
      ]
     },
     "execution_count": 8,
     "metadata": {},
     "output_type": "execute_result"
    }
   ],
   "source": [
    "from cogent3 import make_seq\n",
    "\n",
    "rnaseq = make_seq(\"ACGUACGUACGUACGU\", moltype=\"rna\")\n",
    "rnaseq"
   ]
  },
  {
   "cell_type": "code",
   "execution_count": 9,
   "id": "40f42fec",
   "metadata": {
    "execution": {
     "iopub.execute_input": "2023-07-17T11:20:34.419082Z",
     "iopub.status.busy": "2023-07-17T11:20:34.419023Z",
     "iopub.status.idle": "2023-07-17T11:20:34.421128Z",
     "shell.execute_reply": "2023-07-17T11:20:34.420914Z"
    }
   },
   "outputs": [
    {
     "data": {
      "text/plain": [
       "cogent3.core.sequence.DnaSequence"
      ]
     },
     "execution_count": 9,
     "metadata": {},
     "output_type": "execute_result"
    }
   ],
   "source": [
    "from cogent3 import make_seq\n",
    "\n",
    "my_seq = make_seq(\"AGTACACTGGT\", \"my_gene\", moltype=\"dna\")\n",
    "my_seq\n",
    "type(my_seq)"
   ]
  },
  {
   "cell_type": "code",
   "execution_count": 10,
   "id": "bba91e35",
   "metadata": {
    "execution": {
     "iopub.execute_input": "2023-07-17T11:20:34.422071Z",
     "iopub.status.busy": "2023-07-17T11:20:34.422010Z",
     "iopub.status.idle": "2023-07-17T11:20:34.424179Z",
     "shell.execute_reply": "2023-07-17T11:20:34.423951Z"
    }
   },
   "outputs": [
    {
     "data": {
      "text/html": [
       "<style>\n",
       ".c3seq table {margin: 10px 0;}\n",
       ".c3seq td { border: none !important; text-align: left !important; }\n",
       ".c3seq tr:not(.num_row) td span {margin: 0 2px;}\n",
       ".c3seq tr:nth-child(even) {background: #f7f7f7;}\n",
       ".c3seq .num_row {background-color:rgba(161, 195, 209, 0.5) !important; border-top: solid 1px black; }\n",
       ".c3seq .label { font-size: 12pt ; text-align: right !important; color: black !important; padding: 0 4px; }\n",
       ".c3seq .T_dna{font-family: \"Lucida Console\",monospace !important; font-size: 12pt !important; color: blue; }\n",
       ".c3seq .C_dna{font-family: \"Lucida Console\",monospace !important; font-size: 12pt !important; color: black; }\n",
       ".c3seq .A_dna{font-family: \"Lucida Console\",monospace !important; font-size: 12pt !important; color: #FF0102; }\n",
       ".c3seq .G_dna{font-family: \"Lucida Console\",monospace !important; font-size: 12pt !important; color: green; }\n",
       ".c3seq .terminal_ambig_dna{font-family: \"Lucida Console\",monospace !important; font-size: 12pt !important; color: gray; }\n",
       ".c3seq .ambig_dna{font-family: \"Lucida Console\",monospace !important; font-size: 12pt !important; color: gray; }\n",
       "</style>\n",
       "<div class=\"c3seq\">\n",
       "<table>\n",
       "<tr class=\"num_row\"><td></td><td><b>0</b></td></tr>\n",
       "<tr><td class=\"label\">my_gene</td><td><span class=\"A_dna\">A</span><span class=\"G_dna\">G</span><span class=\"T_dna\">T</span><span class=\"A_dna\">A</span><span class=\"C_dna\">C</span><span class=\"A_dna\">A</span><span class=\"C_dna\">C</span><span class=\"T_dna\">T</span><span class=\"G_dna\">G</span><span class=\"G_dna\">G</span><span class=\"T_dna\">T</span></td></tr>\n",
       "</table>\n",
       "<p><i>DnaSequence, length=11</i></p>\n",
       "</div>"
      ],
      "text/plain": [
       "DnaSequence(AGTACAC... 11)"
      ]
     },
     "execution_count": 10,
     "metadata": {},
     "output_type": "execute_result"
    }
   ],
   "source": [
    "from cogent3 import make_seq\n",
    "\n",
    "my_seq = make_seq(\"AGTACACTGGT\", moltype=\"dna\")\n",
    "my_seq.name = \"my_gene\"\n",
    "my_seq"
   ]
  },
  {
   "cell_type": "code",
   "execution_count": 11,
   "id": "2a9aed49",
   "metadata": {
    "execution": {
     "iopub.execute_input": "2023-07-17T11:20:34.425197Z",
     "iopub.status.busy": "2023-07-17T11:20:34.425135Z",
     "iopub.status.idle": "2023-07-17T11:20:34.427454Z",
     "shell.execute_reply": "2023-07-17T11:20:34.427219Z"
    }
   },
   "outputs": [
    {
     "data": {
      "text/html": [
       "<style>\n",
       ".c3seq table {margin: 10px 0;}\n",
       ".c3seq td { border: none !important; text-align: left !important; }\n",
       ".c3seq tr:not(.num_row) td span {margin: 0 2px;}\n",
       ".c3seq tr:nth-child(even) {background: #f7f7f7;}\n",
       ".c3seq .num_row {background-color:rgba(161, 195, 209, 0.5) !important; border-top: solid 1px black; }\n",
       ".c3seq .label { font-size: 12pt ; text-align: right !important; color: black !important; padding: 0 4px; }\n",
       ".c3seq .T_dna{font-family: \"Lucida Console\",monospace !important; font-size: 12pt !important; color: blue; }\n",
       ".c3seq .C_dna{font-family: \"Lucida Console\",monospace !important; font-size: 12pt !important; color: black; }\n",
       ".c3seq .A_dna{font-family: \"Lucida Console\",monospace !important; font-size: 12pt !important; color: #FF0102; }\n",
       ".c3seq .G_dna{font-family: \"Lucida Console\",monospace !important; font-size: 12pt !important; color: green; }\n",
       ".c3seq .terminal_ambig_dna{font-family: \"Lucida Console\",monospace !important; font-size: 12pt !important; color: gray; }\n",
       ".c3seq .ambig_dna{font-family: \"Lucida Console\",monospace !important; font-size: 12pt !important; color: gray; }\n",
       "</style>\n",
       "<div class=\"c3seq\">\n",
       "<table>\n",
       "<tr class=\"num_row\"><td></td><td><b>0</b></td></tr>\n",
       "<tr><td class=\"label\">None</td><td><span class=\"T_dna\">T</span><span class=\"C_dna\">C</span><span class=\"A_dna\">A</span><span class=\"T_dna\">T</span><span class=\"G_dna\">G</span><span class=\"T_dna\">T</span><span class=\"G_dna\">G</span><span class=\"A_dna\">A</span><span class=\"C_dna\">C</span><span class=\"C_dna\">C</span><span class=\"A_dna\">A</span></td></tr>\n",
       "</table>\n",
       "<p><i>DnaSequence, length=11</i></p>\n",
       "</div>"
      ],
      "text/plain": [
       "DnaSequence(TCATGTG... 11)"
      ]
     },
     "execution_count": 11,
     "metadata": {},
     "output_type": "execute_result"
    }
   ],
   "source": [
    "from cogent3 import make_seq\n",
    "\n",
    "my_seq = make_seq(\"AGTACACTGGT\", moltype=\"dna\")\n",
    "my_seq.complement()"
   ]
  },
  {
   "cell_type": "code",
   "execution_count": 12,
   "id": "ff5e1408",
   "metadata": {
    "execution": {
     "iopub.execute_input": "2023-07-17T11:20:34.428526Z",
     "iopub.status.busy": "2023-07-17T11:20:34.428470Z",
     "iopub.status.idle": "2023-07-17T11:20:34.430433Z",
     "shell.execute_reply": "2023-07-17T11:20:34.430188Z"
    }
   },
   "outputs": [
    {
     "data": {
      "text/html": [
       "<style>\n",
       ".c3seq table {margin: 10px 0;}\n",
       ".c3seq td { border: none !important; text-align: left !important; }\n",
       ".c3seq tr:not(.num_row) td span {margin: 0 2px;}\n",
       ".c3seq tr:nth-child(even) {background: #f7f7f7;}\n",
       ".c3seq .num_row {background-color:rgba(161, 195, 209, 0.5) !important; border-top: solid 1px black; }\n",
       ".c3seq .label { font-size: 12pt ; text-align: right !important; color: black !important; padding: 0 4px; }\n",
       ".c3seq .T_dna{font-family: \"Lucida Console\",monospace !important; font-size: 12pt !important; color: blue; }\n",
       ".c3seq .C_dna{font-family: \"Lucida Console\",monospace !important; font-size: 12pt !important; color: black; }\n",
       ".c3seq .A_dna{font-family: \"Lucida Console\",monospace !important; font-size: 12pt !important; color: #FF0102; }\n",
       ".c3seq .G_dna{font-family: \"Lucida Console\",monospace !important; font-size: 12pt !important; color: green; }\n",
       ".c3seq .terminal_ambig_dna{font-family: \"Lucida Console\",monospace !important; font-size: 12pt !important; color: gray; }\n",
       ".c3seq .ambig_dna{font-family: \"Lucida Console\",monospace !important; font-size: 12pt !important; color: gray; }\n",
       "</style>\n",
       "<div class=\"c3seq\">\n",
       "<table>\n",
       "<tr class=\"num_row\"><td></td><td><b>0</b></td></tr>\n",
       "<tr><td class=\"label\">None</td><td><span class=\"A_dna\">A</span><span class=\"C_dna\">C</span><span class=\"C_dna\">C</span><span class=\"A_dna\">A</span><span class=\"G_dna\">G</span><span class=\"T_dna\">T</span><span class=\"G_dna\">G</span><span class=\"T_dna\">T</span><span class=\"A_dna\">A</span><span class=\"C_dna\">C</span><span class=\"T_dna\">T</span></td></tr>\n",
       "</table>\n",
       "<p><i>DnaSequence, length=11</i></p>\n",
       "</div>"
      ],
      "text/plain": [
       "DnaSequence(ACCAGTG... 11)"
      ]
     },
     "execution_count": 12,
     "metadata": {},
     "output_type": "execute_result"
    }
   ],
   "source": [
    "my_seq.rc()"
   ]
  },
  {
   "cell_type": "code",
   "execution_count": 13,
   "id": "f45bdf4d",
   "metadata": {
    "execution": {
     "iopub.execute_input": "2023-07-17T11:20:34.431419Z",
     "iopub.status.busy": "2023-07-17T11:20:34.431364Z",
     "iopub.status.idle": "2023-07-17T11:20:34.433906Z",
     "shell.execute_reply": "2023-07-17T11:20:34.433674Z"
    }
   },
   "outputs": [
    {
     "data": {
      "text/plain": [
       "cogent3.core.sequence.ProteinSequence"
      ]
     },
     "execution_count": 13,
     "metadata": {},
     "output_type": "execute_result"
    }
   ],
   "source": [
    "from cogent3 import make_seq\n",
    "\n",
    "my_seq = make_seq(\"GCTTGGGAAAGTCAAATGGAA\", name=\"s1\", moltype=\"dna\")\n",
    "pep = my_seq.get_translation()\n",
    "type(pep)"
   ]
  },
  {
   "cell_type": "code",
   "execution_count": 14,
   "id": "e9818415",
   "metadata": {
    "execution": {
     "iopub.execute_input": "2023-07-17T11:20:34.434939Z",
     "iopub.status.busy": "2023-07-17T11:20:34.434883Z",
     "iopub.status.idle": "2023-07-17T11:20:34.436617Z",
     "shell.execute_reply": "2023-07-17T11:20:34.436427Z"
    }
   },
   "outputs": [
    {
     "data": {
      "text/html": [
       "<style>\n",
       ".c3seq table {margin: 10px 0;}\n",
       ".c3seq td { border: none !important; text-align: left !important; }\n",
       ".c3seq tr:not(.num_row) td span {margin: 0 2px;}\n",
       ".c3seq tr:nth-child(even) {background: #f7f7f7;}\n",
       ".c3seq .num_row {background-color:rgba(161, 195, 209, 0.5) !important; border-top: solid 1px black; }\n",
       ".c3seq .label { font-size: 12pt ; text-align: right !important; color: black !important; padding: 0 4px; }\n",
       ".c3seq .A_protein{font-family: \"Lucida Console\",monospace !important; font-size: 12pt !important; color: #009999; }\n",
       ".c3seq .C_protein{font-family: \"Lucida Console\",monospace !important; font-size: 12pt !important; color: orange; }\n",
       ".c3seq .D_protein{font-family: \"Lucida Console\",monospace !important; font-size: 12pt !important; color: blue; }\n",
       ".c3seq .E_protein{font-family: \"Lucida Console\",monospace !important; font-size: 12pt !important; color: blue; }\n",
       ".c3seq .F_protein{font-family: \"Lucida Console\",monospace !important; font-size: 12pt !important; color: #ff6600; }\n",
       ".c3seq .G_protein{font-family: \"Lucida Console\",monospace !important; font-size: 12pt !important; color: #009999; }\n",
       ".c3seq .H_protein{font-family: \"Lucida Console\",monospace !important; font-size: 12pt !important; color: #FF0102; }\n",
       ".c3seq .I_protein{font-family: \"Lucida Console\",monospace !important; font-size: 12pt !important; color: #009999; }\n",
       ".c3seq .K_protein{font-family: \"Lucida Console\",monospace !important; font-size: 12pt !important; color: #FF0102; }\n",
       ".c3seq .L_protein{font-family: \"Lucida Console\",monospace !important; font-size: 12pt !important; color: #009999; }\n",
       ".c3seq .M_protein{font-family: \"Lucida Console\",monospace !important; font-size: 12pt !important; color: orange; }\n",
       ".c3seq .N_protein{font-family: \"Lucida Console\",monospace !important; font-size: 12pt !important; color: #993300; }\n",
       ".c3seq .P_protein{font-family: \"Lucida Console\",monospace !important; font-size: 12pt !important; color: #cc0099; }\n",
       ".c3seq .Q_protein{font-family: \"Lucida Console\",monospace !important; font-size: 12pt !important; color: #993300; }\n",
       ".c3seq .R_protein{font-family: \"Lucida Console\",monospace !important; font-size: 12pt !important; color: #FF0102; }\n",
       ".c3seq .S_protein{font-family: \"Lucida Console\",monospace !important; font-size: 12pt !important; color: #009900; }\n",
       ".c3seq .T_protein{font-family: \"Lucida Console\",monospace !important; font-size: 12pt !important; color: #009900; }\n",
       ".c3seq .U_protein{font-family: \"Lucida Console\",monospace !important; font-size: 12pt !important; color: gray; }\n",
       ".c3seq .V_protein{font-family: \"Lucida Console\",monospace !important; font-size: 12pt !important; color: #009999; }\n",
       ".c3seq .W_protein{font-family: \"Lucida Console\",monospace !important; font-size: 12pt !important; color: #ff6600; }\n",
       ".c3seq .Y_protein{font-family: \"Lucida Console\",monospace !important; font-size: 12pt !important; color: #ff6600; }\n",
       ".c3seq .terminal_ambig_protein{font-family: \"Lucida Console\",monospace !important; font-size: 12pt !important; color: gray; }\n",
       ".c3seq .ambig_protein{font-family: \"Lucida Console\",monospace !important; font-size: 12pt !important; color: gray; }\n",
       "</style>\n",
       "<div class=\"c3seq\">\n",
       "<table>\n",
       "<tr class=\"num_row\"><td></td><td><b>0</b></td></tr>\n",
       "<tr><td class=\"label\">s1</td><td><span class=\"A_protein\">A</span><span class=\"W_protein\">W</span><span class=\"E_protein\">E</span><span class=\"S_protein\">S</span><span class=\"Q_protein\">Q</span><span class=\"M_protein\">M</span><span class=\"E_protein\">E</span></td></tr>\n",
       "</table>\n",
       "<p><i>ProteinSequence, length=7</i></p>\n",
       "</div>"
      ],
      "text/plain": [
       "ProteinSequence(AWESQME)"
      ]
     },
     "execution_count": 14,
     "metadata": {},
     "output_type": "execute_result"
    }
   ],
   "source": [
    "pep"
   ]
  },
  {
   "cell_type": "code",
   "execution_count": 15,
   "id": "f9a44d9f",
   "metadata": {
    "execution": {
     "iopub.execute_input": "2023-07-17T11:20:34.437636Z",
     "iopub.status.busy": "2023-07-17T11:20:34.437562Z",
     "iopub.status.idle": "2023-07-17T11:20:34.439792Z",
     "shell.execute_reply": "2023-07-17T11:20:34.439567Z"
    }
   },
   "outputs": [
    {
     "data": {
      "text/html": [
       "<style>\n",
       ".c3seq table {margin: 10px 0;}\n",
       ".c3seq td { border: none !important; text-align: left !important; }\n",
       ".c3seq tr:not(.num_row) td span {margin: 0 2px;}\n",
       ".c3seq tr:nth-child(even) {background: #f7f7f7;}\n",
       ".c3seq .num_row {background-color:rgba(161, 195, 209, 0.5) !important; border-top: solid 1px black; }\n",
       ".c3seq .label { font-size: 12pt ; text-align: right !important; color: black !important; padding: 0 4px; }\n",
       ".c3seq .U_rna{font-family: \"Lucida Console\",monospace !important; font-size: 12pt !important; color: blue; }\n",
       ".c3seq .C_rna{font-family: \"Lucida Console\",monospace !important; font-size: 12pt !important; color: black; }\n",
       ".c3seq .A_rna{font-family: \"Lucida Console\",monospace !important; font-size: 12pt !important; color: #FF0102; }\n",
       ".c3seq .G_rna{font-family: \"Lucida Console\",monospace !important; font-size: 12pt !important; color: green; }\n",
       ".c3seq .terminal_ambig_rna{font-family: \"Lucida Console\",monospace !important; font-size: 12pt !important; color: gray; }\n",
       ".c3seq .ambig_rna{font-family: \"Lucida Console\",monospace !important; font-size: 12pt !important; color: gray; }\n",
       "</style>\n",
       "<div class=\"c3seq\">\n",
       "<table>\n",
       "<tr class=\"num_row\"><td></td><td><b>0</b></td></tr>\n",
       "<tr><td class=\"label\">None</td><td><span class=\"A_rna\">A</span><span class=\"C_rna\">C</span><span class=\"G_rna\">G</span><span class=\"U_rna\">U</span><span class=\"A_rna\">A</span><span class=\"C_rna\">C</span><span class=\"G_rna\">G</span><span class=\"U_rna\">U</span><span class=\"A_rna\">A</span><span class=\"C_rna\">C</span><span class=\"G_rna\">G</span><span class=\"U_rna\">U</span><span class=\"A_rna\">A</span><span class=\"C_rna\">C</span><span class=\"G_rna\">G</span><span class=\"U_rna\">U</span></td></tr>\n",
       "</table>\n",
       "<p><i>RnaSequence, length=16</i></p>\n",
       "</div>"
      ],
      "text/plain": [
       "RnaSequence(ACGUACG... 16)"
      ]
     },
     "execution_count": 15,
     "metadata": {},
     "output_type": "execute_result"
    }
   ],
   "source": [
    "from cogent3 import make_seq\n",
    "\n",
    "my_seq = make_seq(\"ACGTACGTACGTACGT\", moltype=\"dna\")\n",
    "rnaseq = my_seq.to_rna()\n",
    "rnaseq"
   ]
  },
  {
   "cell_type": "code",
   "execution_count": 16,
   "id": "21027cc2",
   "metadata": {
    "execution": {
     "iopub.execute_input": "2023-07-17T11:20:34.440863Z",
     "iopub.status.busy": "2023-07-17T11:20:34.440774Z",
     "iopub.status.idle": "2023-07-17T11:20:34.442995Z",
     "shell.execute_reply": "2023-07-17T11:20:34.442781Z"
    }
   },
   "outputs": [
    {
     "data": {
      "text/html": [
       "<style>\n",
       ".c3seq table {margin: 10px 0;}\n",
       ".c3seq td { border: none !important; text-align: left !important; }\n",
       ".c3seq tr:not(.num_row) td span {margin: 0 2px;}\n",
       ".c3seq tr:nth-child(even) {background: #f7f7f7;}\n",
       ".c3seq .num_row {background-color:rgba(161, 195, 209, 0.5) !important; border-top: solid 1px black; }\n",
       ".c3seq .label { font-size: 12pt ; text-align: right !important; color: black !important; padding: 0 4px; }\n",
       ".c3seq .T_dna{font-family: \"Lucida Console\",monospace !important; font-size: 12pt !important; color: blue; }\n",
       ".c3seq .C_dna{font-family: \"Lucida Console\",monospace !important; font-size: 12pt !important; color: black; }\n",
       ".c3seq .A_dna{font-family: \"Lucida Console\",monospace !important; font-size: 12pt !important; color: #FF0102; }\n",
       ".c3seq .G_dna{font-family: \"Lucida Console\",monospace !important; font-size: 12pt !important; color: green; }\n",
       ".c3seq .terminal_ambig_dna{font-family: \"Lucida Console\",monospace !important; font-size: 12pt !important; color: gray; }\n",
       ".c3seq .ambig_dna{font-family: \"Lucida Console\",monospace !important; font-size: 12pt !important; color: gray; }\n",
       "</style>\n",
       "<div class=\"c3seq\">\n",
       "<table>\n",
       "<tr class=\"num_row\"><td></td><td><b>0</b></td></tr>\n",
       "<tr><td class=\"label\">None</td><td><span class=\"A_dna\">A</span><span class=\"C_dna\">C</span><span class=\"G_dna\">G</span><span class=\"T_dna\">T</span><span class=\"A_dna\">A</span><span class=\"C_dna\">C</span><span class=\"G_dna\">G</span><span class=\"T_dna\">T</span><span class=\"A_dna\">A</span><span class=\"C_dna\">C</span><span class=\"G_dna\">G</span><span class=\"T_dna\">T</span><span class=\"A_dna\">A</span><span class=\"C_dna\">C</span><span class=\"G_dna\">G</span><span class=\"T_dna\">T</span></td></tr>\n",
       "</table>\n",
       "<p><i>DnaSequence, length=16</i></p>\n",
       "</div>"
      ],
      "text/plain": [
       "DnaSequence(ACGTACG... 16)"
      ]
     },
     "execution_count": 16,
     "metadata": {},
     "output_type": "execute_result"
    }
   ],
   "source": [
    "from cogent3 import make_seq\n",
    "\n",
    "rnaseq = make_seq(\"ACGUACGUACGUACGU\", moltype=\"rna\")\n",
    "dnaseq = rnaseq.to_dna()\n",
    "dnaseq"
   ]
  },
  {
   "cell_type": "code",
   "execution_count": 17,
   "id": "0daee3ec",
   "metadata": {
    "execution": {
     "iopub.execute_input": "2023-07-17T11:20:34.444069Z",
     "iopub.status.busy": "2023-07-17T11:20:34.443994Z",
     "iopub.status.idle": "2023-07-17T11:20:34.446303Z",
     "shell.execute_reply": "2023-07-17T11:20:34.446079Z"
    }
   },
   "outputs": [
    {
     "data": {
      "text/plain": [
       "False"
      ]
     },
     "execution_count": 17,
     "metadata": {},
     "output_type": "execute_result"
    }
   ],
   "source": [
    "from cogent3 import make_seq\n",
    "\n",
    "a = make_seq(\"AGTACACTGGT\", moltype=\"dna\")\n",
    "a.can_pair(a.complement())"
   ]
  },
  {
   "cell_type": "code",
   "execution_count": 18,
   "id": "c6e9a727",
   "metadata": {
    "execution": {
     "iopub.execute_input": "2023-07-17T11:20:34.447368Z",
     "iopub.status.busy": "2023-07-17T11:20:34.447296Z",
     "iopub.status.idle": "2023-07-17T11:20:34.449202Z",
     "shell.execute_reply": "2023-07-17T11:20:34.448985Z"
    }
   },
   "outputs": [
    {
     "data": {
      "text/plain": [
       "True"
      ]
     },
     "execution_count": 18,
     "metadata": {},
     "output_type": "execute_result"
    }
   ],
   "source": [
    "a.can_pair(a.rc())"
   ]
  },
  {
   "cell_type": "code",
   "execution_count": 19,
   "id": "8b3f56bf",
   "metadata": {
    "execution": {
     "iopub.execute_input": "2023-07-17T11:20:34.450246Z",
     "iopub.status.busy": "2023-07-17T11:20:34.450186Z",
     "iopub.status.idle": "2023-07-17T11:20:34.452631Z",
     "shell.execute_reply": "2023-07-17T11:20:34.452423Z"
    }
   },
   "outputs": [
    {
     "data": {
      "text/html": [
       "<style>\n",
       ".c3seq table {margin: 10px 0;}\n",
       ".c3seq td { border: none !important; text-align: left !important; }\n",
       ".c3seq tr:not(.num_row) td span {margin: 0 2px;}\n",
       ".c3seq tr:nth-child(even) {background: #f7f7f7;}\n",
       ".c3seq .num_row {background-color:rgba(161, 195, 209, 0.5) !important; border-top: solid 1px black; }\n",
       ".c3seq .label { font-size: 12pt ; text-align: right !important; color: black !important; padding: 0 4px; }\n",
       ".c3seq .T_dna{font-family: \"Lucida Console\",monospace !important; font-size: 12pt !important; color: blue; }\n",
       ".c3seq .C_dna{font-family: \"Lucida Console\",monospace !important; font-size: 12pt !important; color: black; }\n",
       ".c3seq .A_dna{font-family: \"Lucida Console\",monospace !important; font-size: 12pt !important; color: #FF0102; }\n",
       ".c3seq .G_dna{font-family: \"Lucida Console\",monospace !important; font-size: 12pt !important; color: green; }\n",
       ".c3seq .terminal_ambig_dna{font-family: \"Lucida Console\",monospace !important; font-size: 12pt !important; color: gray; }\n",
       ".c3seq .ambig_dna{font-family: \"Lucida Console\",monospace !important; font-size: 12pt !important; color: gray; }\n",
       "</style>\n",
       "<div class=\"c3seq\">\n",
       "<table>\n",
       "<tr class=\"num_row\"><td></td><td><b>0</b></td></tr>\n",
       "<tr><td class=\"label\">None</td><td><span class=\"A_dna\">A</span><span class=\"G_dna\">G</span><span class=\"T_dna\">T</span><span class=\"A_dna\">A</span><span class=\"C_dna\">C</span><span class=\"A_dna\">A</span><span class=\"C_dna\">C</span><span class=\"T_dna\">T</span><span class=\"G_dna\">G</span><span class=\"G_dna\">G</span><span class=\"T_dna\">T</span><span class=\"C_dna\">C</span><span class=\"T_dna\">T</span><span class=\"G_dna\">G</span><span class=\"A_dna\">A</span><span class=\"C_dna\">C</span></td></tr>\n",
       "</table>\n",
       "<p><i>DnaSequence, length=16</i></p>\n",
       "</div>"
      ],
      "text/plain": [
       "DnaSequence(AGTACAC... 16)"
      ]
     },
     "execution_count": 19,
     "metadata": {},
     "output_type": "execute_result"
    }
   ],
   "source": [
    "from cogent3 import make_seq\n",
    "\n",
    "my_seq = make_seq(\"AGTACACTGGT\", moltype=\"dna\")\n",
    "extra_seq = make_seq(\"CTGAC\", moltype=\"dna\")\n",
    "long_seq = my_seq + extra_seq\n",
    "long_seq"
   ]
  },
  {
   "cell_type": "code",
   "execution_count": 20,
   "id": "de887e2d",
   "metadata": {
    "execution": {
     "iopub.execute_input": "2023-07-17T11:20:34.453649Z",
     "iopub.status.busy": "2023-07-17T11:20:34.453589Z",
     "iopub.status.idle": "2023-07-17T11:20:34.455679Z",
     "shell.execute_reply": "2023-07-17T11:20:34.455481Z"
    }
   },
   "outputs": [
    {
     "data": {
      "text/html": [
       "<style>\n",
       ".c3seq table {margin: 10px 0;}\n",
       ".c3seq td { border: none !important; text-align: left !important; }\n",
       ".c3seq tr:not(.num_row) td span {margin: 0 2px;}\n",
       ".c3seq tr:nth-child(even) {background: #f7f7f7;}\n",
       ".c3seq .num_row {background-color:rgba(161, 195, 209, 0.5) !important; border-top: solid 1px black; }\n",
       ".c3seq .label { font-size: 12pt ; text-align: right !important; color: black !important; padding: 0 4px; }\n",
       ".c3seq .T_dna{font-family: \"Lucida Console\",monospace !important; font-size: 12pt !important; color: blue; }\n",
       ".c3seq .C_dna{font-family: \"Lucida Console\",monospace !important; font-size: 12pt !important; color: black; }\n",
       ".c3seq .A_dna{font-family: \"Lucida Console\",monospace !important; font-size: 12pt !important; color: #FF0102; }\n",
       ".c3seq .G_dna{font-family: \"Lucida Console\",monospace !important; font-size: 12pt !important; color: green; }\n",
       ".c3seq .terminal_ambig_dna{font-family: \"Lucida Console\",monospace !important; font-size: 12pt !important; color: gray; }\n",
       ".c3seq .ambig_dna{font-family: \"Lucida Console\",monospace !important; font-size: 12pt !important; color: gray; }\n",
       "</style>\n",
       "<div class=\"c3seq\">\n",
       "<table>\n",
       "<tr class=\"num_row\"><td></td><td><b>0</b></td></tr>\n",
       "<tr><td class=\"label\">None</td><td><span class=\"G_dna\">G</span><span class=\"T_dna\">T</span><span class=\"A_dna\">A</span><span class=\"C_dna\">C</span><span class=\"A_dna\">A</span></td></tr>\n",
       "</table>\n",
       "<p><i>DnaSequence, length=5</i></p>\n",
       "</div>"
      ],
      "text/plain": [
       "DnaSequence(GTACA)"
      ]
     },
     "execution_count": 20,
     "metadata": {},
     "output_type": "execute_result"
    }
   ],
   "source": [
    "my_seq[1:6]"
   ]
  },
  {
   "cell_type": "code",
   "execution_count": 21,
   "id": "e31ea69c",
   "metadata": {
    "execution": {
     "iopub.execute_input": "2023-07-17T11:20:34.456741Z",
     "iopub.status.busy": "2023-07-17T11:20:34.456685Z",
     "iopub.status.idle": "2023-07-17T11:20:34.458625Z",
     "shell.execute_reply": "2023-07-17T11:20:34.458416Z"
    }
   },
   "outputs": [],
   "source": [
    "from cogent3 import make_seq\n",
    "\n",
    "seq = make_seq(\"ATGATGATGATG\", moltype=\"dna\")\n",
    "pos3 = seq[2::3]\n",
    "assert str(pos3) == \"GGGG\""
   ]
  },
  {
   "cell_type": "code",
   "execution_count": 22,
   "id": "fb5bee0e",
   "metadata": {
    "execution": {
     "iopub.execute_input": "2023-07-17T11:20:34.459673Z",
     "iopub.status.busy": "2023-07-17T11:20:34.459609Z",
     "iopub.status.idle": "2023-07-17T11:20:34.462091Z",
     "shell.execute_reply": "2023-07-17T11:20:34.461903Z"
    }
   },
   "outputs": [],
   "source": [
    "from cogent3 import make_seq\n",
    "\n",
    "seq = make_seq(\"ATGATGATGATG\", moltype=\"dna\")\n",
    "indices = [(i, i + 2) for i in range(len(seq))[::3]]\n",
    "pos12 = seq.add_feature(biotype=\"pos12\", name=\"pos12\", spans=indices)\n",
    "pos12 = pos12.get_slice()\n",
    "assert str(pos12) == \"ATATATAT\""
   ]
  },
  {
   "cell_type": "code",
   "execution_count": 23,
   "id": "9dd4f30a",
   "metadata": {
    "execution": {
     "iopub.execute_input": "2023-07-17T11:20:34.463180Z",
     "iopub.status.busy": "2023-07-17T11:20:34.463120Z",
     "iopub.status.idle": "2023-07-17T11:20:34.464995Z",
     "shell.execute_reply": "2023-07-17T11:20:34.464798Z"
    }
   },
   "outputs": [
    {
     "data": {
      "text/html": [
       "<style>\n",
       ".c3seq table {margin: 10px 0;}\n",
       ".c3seq td { border: none !important; text-align: left !important; }\n",
       ".c3seq tr:not(.num_row) td span {margin: 0 2px;}\n",
       ".c3seq tr:nth-child(even) {background: #f7f7f7;}\n",
       ".c3seq .num_row {background-color:rgba(161, 195, 209, 0.5) !important; border-top: solid 1px black; }\n",
       ".c3seq .label { font-size: 12pt ; text-align: right !important; color: black !important; padding: 0 4px; }\n",
       ".c3seq .U_rna{font-family: \"Lucida Console\",monospace !important; font-size: 12pt !important; color: blue; }\n",
       ".c3seq .C_rna{font-family: \"Lucida Console\",monospace !important; font-size: 12pt !important; color: black; }\n",
       ".c3seq .A_rna{font-family: \"Lucida Console\",monospace !important; font-size: 12pt !important; color: #FF0102; }\n",
       ".c3seq .G_rna{font-family: \"Lucida Console\",monospace !important; font-size: 12pt !important; color: green; }\n",
       ".c3seq .terminal_ambig_rna{font-family: \"Lucida Console\",monospace !important; font-size: 12pt !important; color: gray; }\n",
       ".c3seq .ambig_rna{font-family: \"Lucida Console\",monospace !important; font-size: 12pt !important; color: gray; }\n",
       "</style>\n",
       "<div class=\"c3seq\">\n",
       "<table>\n",
       "<tr class=\"num_row\"><td></td><td><b>0</b></td></tr>\n",
       "<tr><td class=\"label\">None</td><td><span class=\"A_rna\">A</span><span class=\"U_rna\">U</span><span class=\"A_rna\">A</span><span class=\"G_rna\">G</span><span class=\"C_rna\">C</span><span class=\"C_rna\">C</span><span class=\"A_rna\">A</span><span class=\"C_rna\">C</span><span class=\"U_rna\">U</span><span class=\"G_rna\">G</span><span class=\"U_rna\">U</span><span class=\"G_rna\">G</span><span class=\"U_rna\">U</span><span class=\"G_rna\">G</span><span class=\"C_rna\">C</span><span class=\"A_rna\">A</span></td></tr>\n",
       "</table>\n",
       "<p><i>RnaSequence, length=16</i></p>\n",
       "</div>"
      ],
      "text/plain": [
       "RnaSequence(AUAGCCA... 16)"
      ]
     },
     "execution_count": 23,
     "metadata": {},
     "output_type": "execute_result"
    }
   ],
   "source": [
    "rnaseq.shuffle()"
   ]
  },
  {
   "cell_type": "code",
   "execution_count": 24,
   "id": "bdb305b5",
   "metadata": {
    "execution": {
     "iopub.execute_input": "2023-07-17T11:20:34.466034Z",
     "iopub.status.busy": "2023-07-17T11:20:34.465968Z",
     "iopub.status.idle": "2023-07-17T11:20:34.468249Z",
     "shell.execute_reply": "2023-07-17T11:20:34.468017Z"
    }
   },
   "outputs": [
    {
     "data": {
      "text/html": [
       "<style>\n",
       ".c3seq table {margin: 10px 0;}\n",
       ".c3seq td { border: none !important; text-align: left !important; }\n",
       ".c3seq tr:not(.num_row) td span {margin: 0 2px;}\n",
       ".c3seq tr:nth-child(even) {background: #f7f7f7;}\n",
       ".c3seq .num_row {background-color:rgba(161, 195, 209, 0.5) !important; border-top: solid 1px black; }\n",
       ".c3seq .label { font-size: 12pt ; text-align: right !important; color: black !important; padding: 0 4px; }\n",
       ".c3seq .U_rna{font-family: \"Lucida Console\",monospace !important; font-size: 12pt !important; color: blue; }\n",
       ".c3seq .C_rna{font-family: \"Lucida Console\",monospace !important; font-size: 12pt !important; color: black; }\n",
       ".c3seq .A_rna{font-family: \"Lucida Console\",monospace !important; font-size: 12pt !important; color: #FF0102; }\n",
       ".c3seq .G_rna{font-family: \"Lucida Console\",monospace !important; font-size: 12pt !important; color: green; }\n",
       ".c3seq .terminal_ambig_rna{font-family: \"Lucida Console\",monospace !important; font-size: 12pt !important; color: gray; }\n",
       ".c3seq .ambig_rna{font-family: \"Lucida Console\",monospace !important; font-size: 12pt !important; color: gray; }\n",
       "</style>\n",
       "<div class=\"c3seq\">\n",
       "<table>\n",
       "<tr class=\"num_row\"><td></td><td><b>0</b></td></tr>\n",
       "<tr><td class=\"label\">None</td><td><span class=\"A_rna\">A</span><span class=\"U_rna\">U</span><span class=\"U_rna\">U</span><span class=\"A_rna\">A</span><span class=\"U_rna\">U</span><span class=\"G_rna\">G</span><span class=\"C_rna\">C</span><span class=\"U_rna\">U</span><span class=\"A_rna\">A</span><span class=\"U_rna\">U</span><span class=\"U_rna\">U</span><span class=\"A_rna\">A</span><span class=\"U_rna\">U</span></td></tr>\n",
       "</table>\n",
       "<p><i>RnaSequence, length=13</i></p>\n",
       "</div>"
      ],
      "text/plain": [
       "RnaSequence(AUUAUGC... 13)"
      ]
     },
     "execution_count": 24,
     "metadata": {},
     "output_type": "execute_result"
    }
   ],
   "source": [
    "from cogent3 import make_seq\n",
    "\n",
    "s = make_seq(\"--AUUAUGCUAU-UAu--\", moltype=\"rna\")\n",
    "s.degap()"
   ]
  }
 ],
 "metadata": {
  "kernelspec": {
   "display_name": "Python 3 (ipykernel)",
   "language": "python",
   "name": "python3"
  },
  "language_info": {
   "codemirror_mode": {
    "name": "ipython",
    "version": 3
   },
   "file_extension": ".py",
   "mimetype": "text/x-python",
   "name": "python",
   "nbconvert_exporter": "python",
   "pygments_lexer": "ipython3",
   "version": "3.11.4"
  }
 },
 "nbformat": 4,
 "nbformat_minor": 5
}