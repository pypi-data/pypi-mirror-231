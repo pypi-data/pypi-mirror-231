{
 "cells": [
  {
   "cell_type": "code",
   "execution_count": 1,
   "id": "826fc5fb",
   "metadata": {
    "execution": {
     "iopub.execute_input": "2023-07-17T11:21:35.006004Z",
     "iopub.status.busy": "2023-07-17T11:21:35.005593Z",
     "iopub.status.idle": "2023-07-17T11:21:35.026902Z",
     "shell.execute_reply": "2023-07-17T11:21:35.026372Z"
    }
   },
   "outputs": [],
   "source": [
    "import set_working_directory"
   ]
  },
  {
   "cell_type": "code",
   "execution_count": 2,
   "id": "0adccd25",
   "metadata": {
    "execution": {
     "iopub.execute_input": "2023-07-17T11:21:35.029777Z",
     "iopub.status.busy": "2023-07-17T11:21:35.029550Z",
     "iopub.status.idle": "2023-07-17T11:21:36.260516Z",
     "shell.execute_reply": "2023-07-17T11:21:36.260200Z"
    }
   },
   "outputs": [
    {
     "data": {
      "text/html": [
       "\n",
       "<div class=\"c3table\">\n",
       "\n",
       "<style>\n",
       ".c3table table {margin: 10px 0;}\n",
       ".c3table tr:last-child {border-bottom: 1px solid #000;} \n",
       ".c3table tr > th {text-align: left; padding: 0 5px;}\n",
       ".c3table tr > td {text-align: left; padding: 5px;}\n",
       ".c3table tr:nth-child(even) {background: #f7f7f7 !important;}\n",
       ".c3table .ellipsis {background: rgba(0, 0, 0, .01);}\n",
       ".c3table .index {background: rgba(161, 195, 209, 0.0); margin: 10px; font-weight: 600;}\n",
       ".c3table .head_cell {background: rgba(161, 195, 209, 0.75); font-weight: bold; text-align: center;}\n",
       ".c3table caption {color: rgb(250, 250, 250); background: rgba(30, 140, 200, 1); padding: 3px; white-space: nowrap; caption-side: top;}\n",
       ".c3table .cell_title {font-weight: bold;}\n",
       ".c3col_left { text-align: left !important; display: block;}\n",
       ".c3col_right { text-align: right !important; display: block;}\n",
       ".c3col_center { text-align: center !important; display: block;}\n",
       "</style>\n",
       "\n",
       "<table>\n",
       "\n",
       "<thead class=\"head_cell\">\n",
       "<th>Locus</th><th>Region</th><th>Ratio</th>\n",
       "</thead>\n",
       "<tbody>\n",
       "<tr><td><span class=\"c3col_left\">NP_003077</span></td><td><span class=\"c3col_left\">Con</span></td><td><span class=\"c3col_right\">2.5386</span></td></tr>\n",
       "<tr><td><span class=\"c3col_left\">NP_004893</span></td><td><span class=\"c3col_left\">Con</span></td><td><span class=\"c3col_right\">121351.4264</span></td></tr>\n",
       "<tr><td><span class=\"c3col_left\">NP_005079</span></td><td><span class=\"c3col_left\">Con</span></td><td><span class=\"c3col_right\">9516594.9789</span></td></tr>\n",
       "<tr><td><span class=\"c3col_left\">NP_005500</span></td><td><span class=\"c3col_left\">NonCon</span></td><td><span class=\"c3col_right\">0.0000</span></td></tr>\n",
       "<tr><td><span class=\"c3col_left\">NP_055852</span></td><td><span class=\"c3col_left\">NonCon</span></td><td><span class=\"c3col_right\">10933217.7090</span></td></tr>\n",
       "</tbody>\n",
       "</table>\n",
       "<p>\n",
       "5 rows x 3 columns</p>\n",
       "</div>"
      ],
      "text/plain": [
       "====================================\n",
       "Locus        Region            Ratio\n",
       "------------------------------------\n",
       "NP_003077    Con              2.5386\n",
       "NP_004893    Con         121351.4264\n",
       "NP_005079    Con        9516594.9789\n",
       "NP_005500    NonCon           0.0000\n",
       "NP_055852    NonCon    10933217.7090\n",
       "------------------------------------\n",
       "\n",
       "5 rows x 3 columns"
      ]
     },
     "execution_count": 2,
     "metadata": {},
     "output_type": "execute_result"
    }
   ],
   "source": [
    "from cogent3 import load_table\n",
    "\n",
    "table = load_table(\"data/stats.tsv\")\n",
    "table"
   ]
  },
  {
   "cell_type": "code",
   "execution_count": 3,
   "id": "2fa1074e",
   "metadata": {
    "execution": {
     "iopub.execute_input": "2023-07-17T11:21:36.261898Z",
     "iopub.status.busy": "2023-07-17T11:21:36.261777Z",
     "iopub.status.idle": "2023-07-17T11:21:36.641367Z",
     "shell.execute_reply": "2023-07-17T11:21:36.640384Z"
    }
   },
   "outputs": [],
   "source": [
    "from cogent3 import load_table\n",
    "\n",
    "table = load_table(\"https://raw.githubusercontent.com/cogent3/cogent3/develop/doc/data/stats.tsv\")"
   ]
  },
  {
   "cell_type": "code",
   "execution_count": 4,
   "id": "79fbba99",
   "metadata": {
    "execution": {
     "iopub.execute_input": "2023-07-17T11:21:36.647617Z",
     "iopub.status.busy": "2023-07-17T11:21:36.647159Z",
     "iopub.status.idle": "2023-07-17T11:21:36.656209Z",
     "shell.execute_reply": "2023-07-17T11:21:36.655607Z"
    }
   },
   "outputs": [
    {
     "data": {
      "text/html": [
       "\n",
       "<div class=\"c3table\">\n",
       "\n",
       "<style>\n",
       ".c3table table {margin: 10px 0;}\n",
       ".c3table tr:last-child {border-bottom: 1px solid #000;} \n",
       ".c3table tr > th {text-align: left; padding: 0 5px;}\n",
       ".c3table tr > td {text-align: left; padding: 5px;}\n",
       ".c3table tr:nth-child(even) {background: #f7f7f7 !important;}\n",
       ".c3table .ellipsis {background: rgba(0, 0, 0, .01);}\n",
       ".c3table .index {background: rgba(161, 195, 209, 0.0); margin: 10px; font-weight: 600;}\n",
       ".c3table .head_cell {background: rgba(161, 195, 209, 0.75); font-weight: bold; text-align: center;}\n",
       ".c3table caption {color: rgb(250, 250, 250); background: rgba(30, 140, 200, 1); padding: 3px; white-space: nowrap; caption-side: top;}\n",
       ".c3table .cell_title {font-weight: bold;}\n",
       ".c3col_left { text-align: left !important; display: block;}\n",
       ".c3col_right { text-align: right !important; display: block;}\n",
       ".c3col_center { text-align: center !important; display: block;}\n",
       "</style>\n",
       "\n",
       "<table>\n",
       "\n",
       "<thead class=\"head_cell\">\n",
       "<th>Locus</th><th>Region</th><th>Ratio</th>\n",
       "</thead>\n",
       "<tbody>\n",
       "<tr><td><span class=\"c3col_left\">NP_003077</span></td><td><span class=\"c3col_left\">Con</span></td><td><span class=\"c3col_right\">2.5386</span></td></tr>\n",
       "<tr><td><span class=\"c3col_left\">NP_004893</span></td><td><span class=\"c3col_left\">Con</span></td><td><span class=\"c3col_right\">121351.4264</span></td></tr>\n",
       "<tr><td><span class=\"c3col_left\">NP_005079</span></td><td><span class=\"c3col_left\">Con</span></td><td><span class=\"c3col_right\">9516594.9789</span></td></tr>\n",
       "<tr><td><span class=\"c3col_left\">NP_005500</span></td><td><span class=\"c3col_left\">NonCon</span></td><td><span class=\"c3col_right\">0.0000</span></td></tr>\n",
       "<tr><td><span class=\"c3col_left\">NP_055852</span></td><td><span class=\"c3col_left\">NonCon</span></td><td><span class=\"c3col_right\">10933217.7090</span></td></tr>\n",
       "</tbody>\n",
       "</table>\n",
       "<p>\n",
       "5 rows x 3 columns</p>\n",
       "</div>"
      ],
      "text/plain": [
       "====================================\n",
       "Locus        Region            Ratio\n",
       "------------------------------------\n",
       "NP_003077    Con              2.5386\n",
       "NP_004893    Con         121351.4264\n",
       "NP_005079    Con        9516594.9789\n",
       "NP_005500    NonCon           0.0000\n",
       "NP_055852    NonCon    10933217.7090\n",
       "------------------------------------\n",
       "\n",
       "5 rows x 3 columns"
      ]
     },
     "execution_count": 4,
     "metadata": {},
     "output_type": "execute_result"
    }
   ],
   "source": [
    "from cogent3 import load_table\n",
    "\n",
    "table = load_table(\"data/stats.tsv\", sep=\"\\t\")\n",
    "table"
   ]
  },
  {
   "cell_type": "code",
   "execution_count": 5,
   "id": "dee6f562",
   "metadata": {
    "execution": {
     "iopub.execute_input": "2023-07-17T11:21:36.659143Z",
     "iopub.status.busy": "2023-07-17T11:21:36.658762Z",
     "iopub.status.idle": "2023-07-17T11:21:36.666257Z",
     "shell.execute_reply": "2023-07-17T11:21:36.665407Z"
    }
   },
   "outputs": [
    {
     "data": {
      "text/plain": [
       "[['chr1',\n",
       "  '29214',\n",
       "  '29566',\n",
       "  'chr1.1',\n",
       "  '626',\n",
       "  '.',\n",
       "  '0.0724',\n",
       "  '3.9',\n",
       "  '-1',\n",
       "  '159'],\n",
       " ['chr1',\n",
       "  '89933',\n",
       "  '90118',\n",
       "  'chr1.2',\n",
       "  '511',\n",
       "  '.',\n",
       "  '0.0313',\n",
       "  '1.59',\n",
       "  '-1',\n",
       "  '94'],\n",
       " ['chr1',\n",
       "  '545979',\n",
       "  '546193',\n",
       "  'chr1.3',\n",
       "  '543',\n",
       "  '.',\n",
       "  '0.0428',\n",
       "  '2.23',\n",
       "  '-1',\n",
       "  '100'],\n",
       " ['chr1',\n",
       "  '713797',\n",
       "  '714639',\n",
       "  'chr1.4',\n",
       "  '1000',\n",
       "  '.',\n",
       "  '0.3215',\n",
       "  '16.0',\n",
       "  '-1',\n",
       "  '380']]"
      ]
     },
     "execution_count": 5,
     "metadata": {},
     "output_type": "execute_result"
    }
   ],
   "source": [
    "from cogent3.parse.table import load_delimited\n",
    "\n",
    "header, rows, title, legend = load_delimited(\"data/CerebellumDukeDNaseSeq.pk\", header=False, sep=\"\\t\")\n",
    "rows[:4]"
   ]
  },
  {
   "cell_type": "code",
   "execution_count": 6,
   "id": "9546697d",
   "metadata": {
    "execution": {
     "iopub.execute_input": "2023-07-17T11:21:36.669650Z",
     "iopub.status.busy": "2023-07-17T11:21:36.669348Z",
     "iopub.status.idle": "2023-07-17T11:21:36.674554Z",
     "shell.execute_reply": "2023-07-17T11:21:36.674093Z"
    }
   },
   "outputs": [
    {
     "data": {
      "text/plain": [
       "[['chr1',\n",
       "  '29214',\n",
       "  '29566',\n",
       "  'chr1.1',\n",
       "  '626',\n",
       "  '.',\n",
       "  '0.0724',\n",
       "  '3.9',\n",
       "  '-1',\n",
       "  '159'],\n",
       " ['chr1',\n",
       "  '89933',\n",
       "  '90118',\n",
       "  'chr1.2',\n",
       "  '511',\n",
       "  '.',\n",
       "  '0.0313',\n",
       "  '1.59',\n",
       "  '-1',\n",
       "  '94'],\n",
       " ['chr1',\n",
       "  '545979',\n",
       "  '546193',\n",
       "  'chr1.3',\n",
       "  '543',\n",
       "  '.',\n",
       "  '0.0428',\n",
       "  '2.23',\n",
       "  '-1',\n",
       "  '100'],\n",
       " ['chr1',\n",
       "  '713797',\n",
       "  '714639',\n",
       "  'chr1.4',\n",
       "  '1000',\n",
       "  '.',\n",
       "  '0.3215',\n",
       "  '16.0',\n",
       "  '-1',\n",
       "  '380']]"
      ]
     },
     "execution_count": 6,
     "metadata": {},
     "output_type": "execute_result"
    }
   ],
   "source": [
    "from cogent3.parse.table import FilteringParser\n",
    "\n",
    "reader = FilteringParser(with_header=False, sep=\"\\t\")\n",
    "rows = list(reader(\"data/CerebellumDukeDNaseSeq.pk\"))\n",
    "rows[:4]"
   ]
  },
  {
   "cell_type": "code",
   "execution_count": 7,
   "id": "39d5d841",
   "metadata": {
    "execution": {
     "iopub.execute_input": "2023-07-17T11:21:36.676708Z",
     "iopub.status.busy": "2023-07-17T11:21:36.676537Z",
     "iopub.status.idle": "2023-07-17T11:21:36.680492Z",
     "shell.execute_reply": "2023-07-17T11:21:36.680140Z"
    }
   },
   "outputs": [
    {
     "data": {
      "text/html": [
       "\n",
       "<div class=\"c3table\">\n",
       "\n",
       "<style>\n",
       ".c3table table {margin: 10px 0;}\n",
       ".c3table tr:last-child {border-bottom: 1px solid #000;} \n",
       ".c3table tr > th {text-align: left; padding: 0 5px;}\n",
       ".c3table tr > td {text-align: left; padding: 5px;}\n",
       ".c3table tr:nth-child(even) {background: #f7f7f7 !important;}\n",
       ".c3table .ellipsis {background: rgba(0, 0, 0, .01);}\n",
       ".c3table .index {background: rgba(161, 195, 209, 0.0); margin: 10px; font-weight: 600;}\n",
       ".c3table .head_cell {background: rgba(161, 195, 209, 0.75); font-weight: bold; text-align: center;}\n",
       ".c3table caption {color: rgb(250, 250, 250); background: rgba(30, 140, 200, 1); padding: 3px; white-space: nowrap; caption-side: top;}\n",
       ".c3table .cell_title {font-weight: bold;}\n",
       ".c3col_left { text-align: left !important; display: block;}\n",
       ".c3col_right { text-align: right !important; display: block;}\n",
       ".c3col_center { text-align: center !important; display: block;}\n",
       "</style>\n",
       "\n",
       "<table>\n",
       "\n",
       "<thead class=\"head_cell\">\n",
       "<th>Locus</th><th>Region</th><th>Ratio</th>\n",
       "</thead>\n",
       "<tbody>\n",
       "<tr><td><span class=\"c3col_left\">NP_003077</span></td><td><span class=\"c3col_left\">Con</span></td><td><span class=\"c3col_right\">2.5386</span></td></tr>\n",
       "<tr><td><span class=\"c3col_left\">NP_004893</span></td><td><span class=\"c3col_left\">Con</span></td><td><span class=\"c3col_right\">121351.4264</span></td></tr>\n",
       "</tbody>\n",
       "</table>\n",
       "<p>\n",
       "2 rows x 3 columns</p>\n",
       "</div>"
      ],
      "text/plain": [
       "==================================\n",
       "Locus        Region          Ratio\n",
       "----------------------------------\n",
       "NP_003077    Con            2.5386\n",
       "NP_004893    Con       121351.4264\n",
       "----------------------------------\n",
       "\n",
       "2 rows x 3 columns"
      ]
     },
     "execution_count": 7,
     "metadata": {},
     "output_type": "execute_result"
    }
   ],
   "source": [
    "from cogent3 import load_table\n",
    "\n",
    "table = load_table(\"data/stats.tsv\", limit=2)\n",
    "table"
   ]
  },
  {
   "cell_type": "code",
   "execution_count": 8,
   "id": "8a71f9e4",
   "metadata": {
    "execution": {
     "iopub.execute_input": "2023-07-17T11:21:36.682263Z",
     "iopub.status.busy": "2023-07-17T11:21:36.682144Z",
     "iopub.status.idle": "2023-07-17T11:21:36.686386Z",
     "shell.execute_reply": "2023-07-17T11:21:36.686093Z"
    }
   },
   "outputs": [
    {
     "data": {
      "text/html": [
       "\n",
       "<div class=\"c3table\">\n",
       "\n",
       "<style>\n",
       ".c3table table {margin: 10px 0;}\n",
       ".c3table tr:last-child {border-bottom: 1px solid #000;} \n",
       ".c3table tr > th {text-align: left; padding: 0 5px;}\n",
       ".c3table tr > td {text-align: left; padding: 5px;}\n",
       ".c3table tr:nth-child(even) {background: #f7f7f7 !important;}\n",
       ".c3table .ellipsis {background: rgba(0, 0, 0, .01);}\n",
       ".c3table .index {background: rgba(161, 195, 209, 0.0); margin: 10px; font-weight: 600;}\n",
       ".c3table .head_cell {background: rgba(161, 195, 209, 0.75); font-weight: bold; text-align: center;}\n",
       ".c3table caption {color: rgb(250, 250, 250); background: rgba(30, 140, 200, 1); padding: 3px; white-space: nowrap; caption-side: top;}\n",
       ".c3table .cell_title {font-weight: bold;}\n",
       ".c3col_left { text-align: left !important; display: block;}\n",
       ".c3col_right { text-align: right !important; display: block;}\n",
       ".c3col_center { text-align: center !important; display: block;}\n",
       "</style>\n",
       "\n",
       "<table>\n",
       "\n",
       "<thead class=\"head_cell\">\n",
       "<th>Locus</th><th>Region</th><th>Ratio</th>\n",
       "</thead>\n",
       "<tbody>\n",
       "<tr><td><span class=\"c3col_left\">NP_003077</span></td><td><span class=\"c3col_left\">Con</span></td><td><span class=\"c3col_right\">2.5</span></td></tr>\n",
       "<tr><td><span class=\"c3col_left\">NP_005500</span></td><td><span class=\"c3col_left\">NonCon</span></td><td><span class=\"c3col_right\">0.0</span></td></tr>\n",
       "</tbody>\n",
       "</table>\n",
       "<p>\n",
       "2 rows x 3 columns</p>\n",
       "</div>"
      ],
      "text/plain": [
       "============================\n",
       "Locus        Region    Ratio\n",
       "----------------------------\n",
       "NP_003077    Con         2.5\n",
       "NP_005500    NonCon      0.0\n",
       "----------------------------\n",
       "\n",
       "2 rows x 3 columns"
      ]
     },
     "execution_count": 8,
     "metadata": {},
     "output_type": "execute_result"
    }
   ],
   "source": [
    "from cogent3.parse.table import FilteringParser\n",
    "\n",
    "reader = FilteringParser(\n",
    "    lambda line: float(line[2]) <= 10, with_header=True, sep=\"\\t\"\n",
    ")\n",
    "table = load_table(\"data/stats.tsv\", reader=reader, digits=1)\n",
    "table"
   ]
  },
  {
   "cell_type": "code",
   "execution_count": 9,
   "id": "67c1f487",
   "metadata": {
    "execution": {
     "iopub.execute_input": "2023-07-17T11:21:36.688067Z",
     "iopub.status.busy": "2023-07-17T11:21:36.687957Z",
     "iopub.status.idle": "2023-07-17T11:21:36.691519Z",
     "shell.execute_reply": "2023-07-17T11:21:36.691178Z"
    }
   },
   "outputs": [
    {
     "data": {
      "text/html": [
       "\n",
       "<div class=\"c3table\">\n",
       "\n",
       "<style>\n",
       ".c3table table {margin: 10px 0;}\n",
       ".c3table tr:last-child {border-bottom: 1px solid #000;} \n",
       ".c3table tr > th {text-align: left; padding: 0 5px;}\n",
       ".c3table tr > td {text-align: left; padding: 5px;}\n",
       ".c3table tr:nth-child(even) {background: #f7f7f7 !important;}\n",
       ".c3table .ellipsis {background: rgba(0, 0, 0, .01);}\n",
       ".c3table .index {background: rgba(161, 195, 209, 0.0); margin: 10px; font-weight: 600;}\n",
       ".c3table .head_cell {background: rgba(161, 195, 209, 0.75); font-weight: bold; text-align: center;}\n",
       ".c3table caption {color: rgb(250, 250, 250); background: rgba(30, 140, 200, 1); padding: 3px; white-space: nowrap; caption-side: top;}\n",
       ".c3table .cell_title {font-weight: bold;}\n",
       ".c3col_left { text-align: left !important; display: block;}\n",
       ".c3col_right { text-align: right !important; display: block;}\n",
       ".c3col_center { text-align: center !important; display: block;}\n",
       "</style>\n",
       "\n",
       "<table>\n",
       "\n",
       "<thead class=\"head_cell\">\n",
       "<th>Locus</th><th>Region</th><th>Ratio</th>\n",
       "</thead>\n",
       "<tbody>\n",
       "<tr><td><span class=\"c3col_left\">NP_004893</span></td><td><span class=\"c3col_left\">Con</span></td><td><span class=\"c3col_right\">121351.4</span></td></tr>\n",
       "<tr><td><span class=\"c3col_left\">NP_005079</span></td><td><span class=\"c3col_left\">Con</span></td><td><span class=\"c3col_right\">9516595.0</span></td></tr>\n",
       "<tr><td><span class=\"c3col_left\">NP_055852</span></td><td><span class=\"c3col_left\">NonCon</span></td><td><span class=\"c3col_right\">10933217.7</span></td></tr>\n",
       "</tbody>\n",
       "</table>\n",
       "<p>\n",
       "3 rows x 3 columns</p>\n",
       "</div>"
      ],
      "text/plain": [
       "=================================\n",
       "Locus        Region         Ratio\n",
       "---------------------------------\n",
       "NP_004893    Con         121351.4\n",
       "NP_005079    Con        9516595.0\n",
       "NP_055852    NonCon    10933217.7\n",
       "---------------------------------\n",
       "\n",
       "3 rows x 3 columns"
      ]
     },
     "execution_count": 9,
     "metadata": {},
     "output_type": "execute_result"
    }
   ],
   "source": [
    "reader = FilteringParser(\n",
    "    lambda line: float(line[2]) <= 10, with_header=True, sep=\"\\t\", negate=True\n",
    ")\n",
    "table = load_table(\"data/stats.tsv\", reader=reader, digits=1)\n",
    "table"
   ]
  },
  {
   "cell_type": "code",
   "execution_count": 10,
   "id": "5cd5795d",
   "metadata": {
    "execution": {
     "iopub.execute_input": "2023-07-17T11:21:36.693084Z",
     "iopub.status.busy": "2023-07-17T11:21:36.692986Z",
     "iopub.status.idle": "2023-07-17T11:21:36.696506Z",
     "shell.execute_reply": "2023-07-17T11:21:36.696213Z"
    }
   },
   "outputs": [
    {
     "data": {
      "text/html": [
       "\n",
       "<div class=\"c3table\">\n",
       "\n",
       "<style>\n",
       ".c3table table {margin: 10px 0;}\n",
       ".c3table tr:last-child {border-bottom: 1px solid #000;} \n",
       ".c3table tr > th {text-align: left; padding: 0 5px;}\n",
       ".c3table tr > td {text-align: left; padding: 5px;}\n",
       ".c3table tr:nth-child(even) {background: #f7f7f7 !important;}\n",
       ".c3table .ellipsis {background: rgba(0, 0, 0, .01);}\n",
       ".c3table .index {background: rgba(161, 195, 209, 0.0); margin: 10px; font-weight: 600;}\n",
       ".c3table .head_cell {background: rgba(161, 195, 209, 0.75); font-weight: bold; text-align: center;}\n",
       ".c3table caption {color: rgb(250, 250, 250); background: rgba(30, 140, 200, 1); padding: 3px; white-space: nowrap; caption-side: top;}\n",
       ".c3table .cell_title {font-weight: bold;}\n",
       ".c3col_left { text-align: left !important; display: block;}\n",
       ".c3col_right { text-align: right !important; display: block;}\n",
       ".c3col_center { text-align: center !important; display: block;}\n",
       "</style>\n",
       "\n",
       "<table>\n",
       "\n",
       "<thead class=\"head_cell\">\n",
       "<th>Locus</th><th>Ratio</th>\n",
       "</thead>\n",
       "<tbody>\n",
       "<tr><td><span class=\"c3col_left\">NP_003077</span></td><td><span class=\"c3col_right\">2.5386</span></td></tr>\n",
       "<tr><td><span class=\"c3col_left\">NP_004893</span></td><td><span class=\"c3col_right\">121351.4264</span></td></tr>\n",
       "<tr><td><span class=\"c3col_left\">NP_005079</span></td><td><span class=\"c3col_right\">9516594.9789</span></td></tr>\n",
       "<tr><td><span class=\"c3col_left\">NP_005500</span></td><td><span class=\"c3col_right\">0.0000</span></td></tr>\n",
       "<tr><td><span class=\"c3col_left\">NP_055852</span></td><td><span class=\"c3col_right\">10933217.7090</span></td></tr>\n",
       "</tbody>\n",
       "</table>\n",
       "<p>\n",
       "5 rows x 2 columns</p>\n",
       "</div>"
      ],
      "text/plain": [
       "==========================\n",
       "Locus                Ratio\n",
       "--------------------------\n",
       "NP_003077           2.5386\n",
       "NP_004893      121351.4264\n",
       "NP_005079     9516594.9789\n",
       "NP_005500           0.0000\n",
       "NP_055852    10933217.7090\n",
       "--------------------------\n",
       "\n",
       "5 rows x 2 columns"
      ]
     },
     "execution_count": 10,
     "metadata": {},
     "output_type": "execute_result"
    }
   ],
   "source": [
    "from cogent3.parse.table import FilteringParser\n",
    "\n",
    "reader = FilteringParser(columns=[\"Locus\", \"Ratio\"], with_header=True, sep=\"\\t\")\n",
    "table = load_table(\"data/stats.tsv\", reader=reader)\n",
    "table"
   ]
  },
  {
   "cell_type": "code",
   "execution_count": 11,
   "id": "fac77b7a",
   "metadata": {
    "execution": {
     "iopub.execute_input": "2023-07-17T11:21:36.697949Z",
     "iopub.status.busy": "2023-07-17T11:21:36.697861Z",
     "iopub.status.idle": "2023-07-17T11:21:36.701023Z",
     "shell.execute_reply": "2023-07-17T11:21:36.700753Z"
    }
   },
   "outputs": [
    {
     "data": {
      "text/html": [
       "\n",
       "<div class=\"c3table\">\n",
       "\n",
       "<style>\n",
       ".c3table table {margin: 10px 0;}\n",
       ".c3table tr:last-child {border-bottom: 1px solid #000;} \n",
       ".c3table tr > th {text-align: left; padding: 0 5px;}\n",
       ".c3table tr > td {text-align: left; padding: 5px;}\n",
       ".c3table tr:nth-child(even) {background: #f7f7f7 !important;}\n",
       ".c3table .ellipsis {background: rgba(0, 0, 0, .01);}\n",
       ".c3table .index {background: rgba(161, 195, 209, 0.0); margin: 10px; font-weight: 600;}\n",
       ".c3table .head_cell {background: rgba(161, 195, 209, 0.75); font-weight: bold; text-align: center;}\n",
       ".c3table caption {color: rgb(250, 250, 250); background: rgba(30, 140, 200, 1); padding: 3px; white-space: nowrap; caption-side: top;}\n",
       ".c3table .cell_title {font-weight: bold;}\n",
       ".c3col_left { text-align: left !important; display: block;}\n",
       ".c3col_right { text-align: right !important; display: block;}\n",
       ".c3col_center { text-align: center !important; display: block;}\n",
       "</style>\n",
       "\n",
       "<table>\n",
       "\n",
       "<thead class=\"head_cell\">\n",
       "<th>Locus</th><th>Ratio</th>\n",
       "</thead>\n",
       "<tbody>\n",
       "<tr><td><span class=\"c3col_left\">NP_003077</span></td><td><span class=\"c3col_right\">2.5386</span></td></tr>\n",
       "<tr><td><span class=\"c3col_left\">NP_004893</span></td><td><span class=\"c3col_right\">121351.4264</span></td></tr>\n",
       "<tr><td><span class=\"c3col_left\">NP_005079</span></td><td><span class=\"c3col_right\">9516594.9789</span></td></tr>\n",
       "<tr><td><span class=\"c3col_left\">NP_005500</span></td><td><span class=\"c3col_right\">0.0000</span></td></tr>\n",
       "<tr><td><span class=\"c3col_left\">NP_055852</span></td><td><span class=\"c3col_right\">10933217.7090</span></td></tr>\n",
       "</tbody>\n",
       "</table>\n",
       "<p>\n",
       "5 rows x 2 columns</p>\n",
       "</div>"
      ],
      "text/plain": [
       "==========================\n",
       "Locus                Ratio\n",
       "--------------------------\n",
       "NP_003077           2.5386\n",
       "NP_004893      121351.4264\n",
       "NP_005079     9516594.9789\n",
       "NP_005500           0.0000\n",
       "NP_055852    10933217.7090\n",
       "--------------------------\n",
       "\n",
       "5 rows x 2 columns"
      ]
     },
     "execution_count": 11,
     "metadata": {},
     "output_type": "execute_result"
    }
   ],
   "source": [
    "from cogent3.parse.table import FilteringParser\n",
    "\n",
    "reader = FilteringParser(columns=[0, -1], with_header=True, sep=\"\\t\")\n",
    "table = load_table(\"data/stats.tsv\", reader=reader)\n",
    "table"
   ]
  },
  {
   "cell_type": "code",
   "execution_count": 12,
   "id": "11b3eab5",
   "metadata": {
    "execution": {
     "iopub.execute_input": "2023-07-17T11:21:36.702294Z",
     "iopub.status.busy": "2023-07-17T11:21:36.702214Z",
     "iopub.status.idle": "2023-07-17T11:21:36.704268Z",
     "shell.execute_reply": "2023-07-17T11:21:36.704029Z"
    }
   },
   "outputs": [],
   "source": [
    "from cogent3.parse.table import FilteringParser\n",
    "\n",
    "reader = FilteringParser(with_header=True, sep=\"\\t\")\n",
    "data = list(reader(\"data/stats.tsv\"))"
   ]
  },
  {
   "cell_type": "code",
   "execution_count": 13,
   "id": "0e0a192f",
   "metadata": {
    "execution": {
     "iopub.execute_input": "2023-07-17T11:21:36.705584Z",
     "iopub.status.busy": "2023-07-17T11:21:36.705491Z",
     "iopub.status.idle": "2023-07-17T11:21:36.707653Z",
     "shell.execute_reply": "2023-07-17T11:21:36.707382Z"
    }
   },
   "outputs": [
    {
     "data": {
      "text/plain": [
       "[['Locus', 'Region', 'Ratio'], ['NP_003077', 'Con', '2.5386013224378985']]"
      ]
     },
     "execution_count": 13,
     "metadata": {},
     "output_type": "execute_result"
    }
   ],
   "source": [
    "data[:2]"
   ]
  },
  {
   "cell_type": "code",
   "execution_count": 14,
   "id": "00013259",
   "metadata": {
    "execution": {
     "iopub.execute_input": "2023-07-17T11:21:36.708837Z",
     "iopub.status.busy": "2023-07-17T11:21:36.708763Z",
     "iopub.status.idle": "2023-07-17T11:21:36.711617Z",
     "shell.execute_reply": "2023-07-17T11:21:36.711338Z"
    }
   },
   "outputs": [
    {
     "data": {
      "text/html": [
       "\n",
       "<div class=\"c3table\">\n",
       "\n",
       "<style>\n",
       ".c3table table {margin: 10px 0;}\n",
       ".c3table tr:last-child {border-bottom: 1px solid #000;} \n",
       ".c3table tr > th {text-align: left; padding: 0 5px;}\n",
       ".c3table tr > td {text-align: left; padding: 5px;}\n",
       ".c3table tr:nth-child(even) {background: #f7f7f7 !important;}\n",
       ".c3table .ellipsis {background: rgba(0, 0, 0, .01);}\n",
       ".c3table .index {background: rgba(161, 195, 209, 0.0); margin: 10px; font-weight: 600;}\n",
       ".c3table .head_cell {background: rgba(161, 195, 209, 0.75); font-weight: bold; text-align: center;}\n",
       ".c3table caption {color: rgb(250, 250, 250); background: rgba(30, 140, 200, 1); padding: 3px; white-space: nowrap; caption-side: top;}\n",
       ".c3table .cell_title {font-weight: bold;}\n",
       ".c3col_left { text-align: left !important; display: block;}\n",
       ".c3col_right { text-align: right !important; display: block;}\n",
       ".c3col_center { text-align: center !important; display: block;}\n",
       "</style>\n",
       "\n",
       "<table>\n",
       "\n",
       "<thead class=\"head_cell\">\n",
       "<th>A</th><th>B</th><th>C</th>\n",
       "</thead>\n",
       "<tbody>\n",
       "<tr><td><span class=\"c3col_right\">0</span></td><td><span class=\"c3col_right\">1</span></td><td><span class=\"c3col_right\">2</span></td></tr>\n",
       "<tr><td><span class=\"c3col_right\">3</span></td><td><span class=\"c3col_right\">4</span></td><td><span class=\"c3col_right\">5</span></td></tr>\n",
       "<tr><td><span class=\"c3col_right\">6</span></td><td><span class=\"c3col_right\">7</span></td><td><span class=\"c3col_right\">8</span></td></tr>\n",
       "<tr><td><span class=\"c3col_right\">9</span></td><td><span class=\"c3col_right\">10</span></td><td><span class=\"c3col_right\">11</span></td></tr>\n",
       "</tbody>\n",
       "</table>\n",
       "<p>\n",
       "4 rows x 3 columns</p>\n",
       "</div>"
      ],
      "text/plain": [
       "=============\n",
       "A     B     C\n",
       "-------------\n",
       "0     1     2\n",
       "3     4     5\n",
       "6     7     8\n",
       "9    10    11\n",
       "-------------\n",
       "\n",
       "4 rows x 3 columns"
      ]
     },
     "execution_count": 14,
     "metadata": {},
     "output_type": "execute_result"
    }
   ],
   "source": [
    "from cogent3 import make_table\n",
    "\n",
    "header = [\"A\", \"B\", \"C\"]\n",
    "rows = [range(3), range(3, 6), range(6, 9), range(9, 12)]\n",
    "table = make_table(header=[\"A\", \"B\", \"C\"], data=rows)\n",
    "table"
   ]
  },
  {
   "cell_type": "code",
   "execution_count": 15,
   "id": "96e7c862",
   "metadata": {
    "execution": {
     "iopub.execute_input": "2023-07-17T11:21:36.712934Z",
     "iopub.status.busy": "2023-07-17T11:21:36.712852Z",
     "iopub.status.idle": "2023-07-17T11:21:36.715443Z",
     "shell.execute_reply": "2023-07-17T11:21:36.715175Z"
    }
   },
   "outputs": [
    {
     "data": {
      "text/html": [
       "\n",
       "<div class=\"c3table\">\n",
       "\n",
       "<style>\n",
       ".c3table table {margin: 10px 0;}\n",
       ".c3table tr:last-child {border-bottom: 1px solid #000;} \n",
       ".c3table tr > th {text-align: left; padding: 0 5px;}\n",
       ".c3table tr > td {text-align: left; padding: 5px;}\n",
       ".c3table tr:nth-child(even) {background: #f7f7f7 !important;}\n",
       ".c3table .ellipsis {background: rgba(0, 0, 0, .01);}\n",
       ".c3table .index {background: rgba(161, 195, 209, 0.0); margin: 10px; font-weight: 600;}\n",
       ".c3table .head_cell {background: rgba(161, 195, 209, 0.75); font-weight: bold; text-align: center;}\n",
       ".c3table caption {color: rgb(250, 250, 250); background: rgba(30, 140, 200, 1); padding: 3px; white-space: nowrap; caption-side: top;}\n",
       ".c3table .cell_title {font-weight: bold;}\n",
       ".c3col_left { text-align: left !important; display: block;}\n",
       ".c3col_right { text-align: right !important; display: block;}\n",
       ".c3col_center { text-align: center !important; display: block;}\n",
       "</style>\n",
       "\n",
       "<table>\n",
       "\n",
       "<thead class=\"head_cell\">\n",
       "<th>A</th><th>B</th><th>C</th>\n",
       "</thead>\n",
       "<tbody>\n",
       "<tr><td><span class=\"c3col_right\">0</span></td><td><span class=\"c3col_right\">1</span></td><td><span class=\"c3col_right\">2</span></td></tr>\n",
       "<tr><td><span class=\"c3col_right\">3</span></td><td><span class=\"c3col_right\">4</span></td><td><span class=\"c3col_right\">5</span></td></tr>\n",
       "<tr><td><span class=\"c3col_right\">6</span></td><td><span class=\"c3col_right\">7</span></td><td><span class=\"c3col_right\">8</span></td></tr>\n",
       "</tbody>\n",
       "</table>\n",
       "<p>\n",
       "3 rows x 3 columns</p>\n",
       "</div>"
      ],
      "text/plain": [
       "===========\n",
       "A    B    C\n",
       "-----------\n",
       "0    1    2\n",
       "3    4    5\n",
       "6    7    8\n",
       "-----------\n",
       "\n",
       "3 rows x 3 columns"
      ]
     },
     "execution_count": 15,
     "metadata": {},
     "output_type": "execute_result"
    }
   ],
   "source": [
    "from cogent3 import make_table\n",
    "\n",
    "data = dict(A=[0, 3, 6], B=[1, 4, 7], C=[2, 5, 8])\n",
    "table = make_table(data=data)\n",
    "table"
   ]
  },
  {
   "cell_type": "code",
   "execution_count": 16,
   "id": "be8eb00c",
   "metadata": {
    "execution": {
     "iopub.execute_input": "2023-07-17T11:21:36.716739Z",
     "iopub.status.busy": "2023-07-17T11:21:36.716659Z",
     "iopub.status.idle": "2023-07-17T11:21:36.718883Z",
     "shell.execute_reply": "2023-07-17T11:21:36.718637Z"
    }
   },
   "outputs": [
    {
     "data": {
      "text/html": [
       "\n",
       "<div class=\"c3table\">\n",
       "\n",
       "<style>\n",
       ".c3table table {margin: 10px 0;}\n",
       ".c3table tr:last-child {border-bottom: 1px solid #000;} \n",
       ".c3table tr > th {text-align: left; padding: 0 5px;}\n",
       ".c3table tr > td {text-align: left; padding: 5px;}\n",
       ".c3table tr:nth-child(even) {background: #f7f7f7 !important;}\n",
       ".c3table .ellipsis {background: rgba(0, 0, 0, .01);}\n",
       ".c3table .index {background: rgba(161, 195, 209, 0.0); margin: 10px; font-weight: 600;}\n",
       ".c3table .head_cell {background: rgba(161, 195, 209, 0.75); font-weight: bold; text-align: center;}\n",
       ".c3table caption {color: rgb(250, 250, 250); background: rgba(30, 140, 200, 1); padding: 3px; white-space: nowrap; caption-side: top;}\n",
       ".c3table .cell_title {font-weight: bold;}\n",
       ".c3col_left { text-align: left !important; display: block;}\n",
       ".c3col_right { text-align: right !important; display: block;}\n",
       ".c3col_center { text-align: center !important; display: block;}\n",
       "</style>\n",
       "\n",
       "<table>\n",
       "\n",
       "<thead class=\"head_cell\">\n",
       "<th>C</th><th>A</th><th>B</th>\n",
       "</thead>\n",
       "<tbody>\n",
       "<tr><td><span class=\"c3col_right\">2</span></td><td><span class=\"c3col_right\">0</span></td><td><span class=\"c3col_right\">1</span></td></tr>\n",
       "<tr><td><span class=\"c3col_right\">5</span></td><td><span class=\"c3col_right\">3</span></td><td><span class=\"c3col_right\">4</span></td></tr>\n",
       "<tr><td><span class=\"c3col_right\">8</span></td><td><span class=\"c3col_right\">6</span></td><td><span class=\"c3col_right\">7</span></td></tr>\n",
       "</tbody>\n",
       "</table>\n",
       "<p>\n",
       "3 rows x 3 columns</p>\n",
       "</div>"
      ],
      "text/plain": [
       "===========\n",
       "C    A    B\n",
       "-----------\n",
       "2    0    1\n",
       "5    3    4\n",
       "8    6    7\n",
       "-----------\n",
       "\n",
       "3 rows x 3 columns"
      ]
     },
     "execution_count": 16,
     "metadata": {},
     "output_type": "execute_result"
    }
   ],
   "source": [
    "table = make_table(header=[\"C\", \"A\", \"B\"], data=data)\n",
    "table"
   ]
  },
  {
   "cell_type": "code",
   "execution_count": 17,
   "id": "4c7d6545",
   "metadata": {
    "execution": {
     "iopub.execute_input": "2023-07-17T11:21:36.720050Z",
     "iopub.status.busy": "2023-07-17T11:21:36.719982Z",
     "iopub.status.idle": "2023-07-17T11:21:36.722569Z",
     "shell.execute_reply": "2023-07-17T11:21:36.722346Z"
    }
   },
   "outputs": [
    {
     "data": {
      "text/html": [
       "\n",
       "<div class=\"c3table\">\n",
       "\n",
       "<style>\n",
       ".c3table table {margin: 10px 0;}\n",
       ".c3table tr:last-child {border-bottom: 1px solid #000;} \n",
       ".c3table tr > th {text-align: left; padding: 0 5px;}\n",
       ".c3table tr > td {text-align: left; padding: 5px;}\n",
       ".c3table tr:nth-child(even) {background: #f7f7f7 !important;}\n",
       ".c3table .ellipsis {background: rgba(0, 0, 0, .01);}\n",
       ".c3table .index {background: rgba(161, 195, 209, 0.25); margin: 10px; font-weight: 600;}\n",
       ".c3table .head_cell {background: rgba(161, 195, 209, 0.75); font-weight: bold; text-align: center;}\n",
       ".c3table caption {color: rgb(250, 250, 250); background: rgba(30, 140, 200, 1); padding: 3px; white-space: nowrap; caption-side: top;}\n",
       ".c3table .cell_title {font-weight: bold;}\n",
       ".c3col_left { text-align: left !important; display: block;}\n",
       ".c3col_right { text-align: right !important; display: block;}\n",
       ".c3col_center { text-align: center !important; display: block;}\n",
       "</style>\n",
       "\n",
       "<table>\n",
       "\n",
       "<thead class=\"head_cell\">\n",
       "<th>Locus</th><th>Region</th><th>Ratio</th>\n",
       "</thead>\n",
       "<tbody>\n",
       "<tr><td class=\"index\"><span class=\"c3col_left\">NP_055852</span></td><td><span class=\"c3col_left\">NonCon</span></td><td><span class=\"c3col_right\">10933217.7090</span></td></tr>\n",
       "</tbody>\n",
       "</table>\n",
       "<p>\n",
       "1 rows x 3 columns</p>\n",
       "</div>"
      ],
      "text/plain": [
       "====================================\n",
       "Locus        Region            Ratio\n",
       "------------------------------------\n",
       "NP_055852    NonCon    10933217.7090\n",
       "------------------------------------\n",
       "\n",
       "1 rows x 3 columns"
      ]
     },
     "execution_count": 17,
     "metadata": {},
     "output_type": "execute_result"
    }
   ],
   "source": [
    "table = load_table(\"data/stats.tsv\", index_name=\"Locus\")\n",
    "table[\"NP_055852\"]"
   ]
  },
  {
   "cell_type": "code",
   "execution_count": 18,
   "id": "c316e113",
   "metadata": {
    "execution": {
     "iopub.execute_input": "2023-07-17T11:21:36.723799Z",
     "iopub.status.busy": "2023-07-17T11:21:36.723699Z",
     "iopub.status.idle": "2023-07-17T11:21:36.725681Z",
     "shell.execute_reply": "2023-07-17T11:21:36.725454Z"
    }
   },
   "outputs": [
    {
     "data": {
      "text/plain": [
       "'NonCon'"
      ]
     },
     "execution_count": 18,
     "metadata": {},
     "output_type": "execute_result"
    }
   ],
   "source": [
    "table[\"NP_055852\", \"Region\"]"
   ]
  },
  {
   "cell_type": "code",
   "execution_count": 19,
   "id": "c1e1a701",
   "metadata": {
    "execution": {
     "iopub.execute_input": "2023-07-17T11:21:36.726814Z",
     "iopub.status.busy": "2023-07-17T11:21:36.726749Z",
     "iopub.status.idle": "2023-07-17T11:21:37.464469Z",
     "shell.execute_reply": "2023-07-17T11:21:37.464245Z"
    }
   },
   "outputs": [
    {
     "data": {
      "text/html": [
       "\n",
       "<div class=\"c3table\">\n",
       "\n",
       "<style>\n",
       ".c3table table {margin: 10px 0;}\n",
       ".c3table tr:last-child {border-bottom: 1px solid #000;} \n",
       ".c3table tr > th {text-align: left; padding: 0 5px;}\n",
       ".c3table tr > td {text-align: left; padding: 5px;}\n",
       ".c3table tr:nth-child(even) {background: #f7f7f7 !important;}\n",
       ".c3table .ellipsis {background: rgba(0, 0, 0, .01);}\n",
       ".c3table .index {background: rgba(161, 195, 209, 0.0); margin: 10px; font-weight: 600;}\n",
       ".c3table .head_cell {background: rgba(161, 195, 209, 0.75); font-weight: bold; text-align: center;}\n",
       ".c3table caption {color: rgb(250, 250, 250); background: rgba(30, 140, 200, 1); padding: 3px; white-space: nowrap; caption-side: top;}\n",
       ".c3table .cell_title {font-weight: bold;}\n",
       ".c3col_left { text-align: left !important; display: block;}\n",
       ".c3col_right { text-align: right !important; display: block;}\n",
       ".c3col_center { text-align: center !important; display: block;}\n",
       "</style>\n",
       "\n",
       "<table>\n",
       "\n",
       "<thead class=\"head_cell\">\n",
       "<th>a</th><th>b</th>\n",
       "</thead>\n",
       "<tbody>\n",
       "<tr><td><span class=\"c3col_right\">0</span></td><td><span class=\"c3col_left\">a</span></td></tr>\n",
       "<tr><td><span class=\"c3col_right\">3</span></td><td><span class=\"c3col_left\">c</span></td></tr>\n",
       "</tbody>\n",
       "</table>\n",
       "<p>\n",
       "2 rows x 2 columns</p>\n",
       "</div>"
      ],
      "text/plain": [
       "======\n",
       "a    b\n",
       "------\n",
       "0    a\n",
       "3    c\n",
       "------\n",
       "\n",
       "2 rows x 2 columns"
      ]
     },
     "execution_count": 19,
     "metadata": {},
     "output_type": "execute_result"
    }
   ],
   "source": [
    "from pandas import DataFrame\n",
    "\n",
    "from cogent3 import make_table\n",
    "\n",
    "data = dict(a=[0, 3], b=[\"a\", \"c\"])\n",
    "df = DataFrame(data=data)\n",
    "table = make_table(data_frame=df)\n",
    "table"
   ]
  },
  {
   "cell_type": "code",
   "execution_count": 20,
   "id": "d642ef28",
   "metadata": {
    "execution": {
     "iopub.execute_input": "2023-07-17T11:21:37.465595Z",
     "iopub.status.busy": "2023-07-17T11:21:37.465516Z",
     "iopub.status.idle": "2023-07-17T11:21:37.467611Z",
     "shell.execute_reply": "2023-07-17T11:21:37.467429Z"
    }
   },
   "outputs": [
    {
     "data": {
      "text/html": [
       "\n",
       "<div class=\"c3table\">\n",
       "\n",
       "<style>\n",
       ".c3table table {margin: 10px 0;}\n",
       ".c3table tr:last-child {border-bottom: 1px solid #000;} \n",
       ".c3table tr > th {text-align: left; padding: 0 5px;}\n",
       ".c3table tr > td {text-align: left; padding: 5px;}\n",
       ".c3table tr:nth-child(even) {background: #f7f7f7 !important;}\n",
       ".c3table .ellipsis {background: rgba(0, 0, 0, .01);}\n",
       ".c3table .index {background: rgba(161, 195, 209, 0.0); margin: 10px; font-weight: 600;}\n",
       ".c3table .head_cell {background: rgba(161, 195, 209, 0.75); font-weight: bold; text-align: center;}\n",
       ".c3table caption {color: rgb(250, 250, 250); background: rgba(30, 140, 200, 1); padding: 3px; white-space: nowrap; caption-side: top;}\n",
       ".c3table .cell_title {font-weight: bold;}\n",
       ".c3col_left { text-align: left !important; display: block;}\n",
       ".c3col_right { text-align: right !important; display: block;}\n",
       ".c3col_center { text-align: center !important; display: block;}\n",
       "</style>\n",
       "\n",
       "<table>\n",
       "\n",
       "<thead class=\"head_cell\">\n",
       "<th>a</th><th>b</th>\n",
       "</thead>\n",
       "<tbody>\n",
       "<tr><td><span class=\"c3col_right\">0</span></td><td><span class=\"c3col_left\">a</span></td></tr>\n",
       "<tr><td><span class=\"c3col_right\">3</span></td><td><span class=\"c3col_left\">c</span></td></tr>\n",
       "</tbody>\n",
       "</table>\n",
       "<p>\n",
       "2 rows x 2 columns</p>\n",
       "</div>"
      ],
      "text/plain": [
       "======\n",
       "a    b\n",
       "------\n",
       "0    a\n",
       "3    c\n",
       "------\n",
       "\n",
       "2 rows x 2 columns"
      ]
     },
     "execution_count": 20,
     "metadata": {},
     "output_type": "execute_result"
    }
   ],
   "source": [
    "from cogent3 import make_table\n",
    "\n",
    "table = make_table(header=[\"a\", \"b\"], data=[[0, \"a\"], [3, \"c\"]])\n",
    "table"
   ]
  },
  {
   "cell_type": "code",
   "execution_count": 21,
   "id": "425c839e",
   "metadata": {
    "execution": {
     "iopub.execute_input": "2023-07-17T11:21:37.468635Z",
     "iopub.status.busy": "2023-07-17T11:21:37.468556Z",
     "iopub.status.idle": "2023-07-17T11:21:37.470672Z",
     "shell.execute_reply": "2023-07-17T11:21:37.470486Z"
    }
   },
   "outputs": [
    {
     "data": {
      "text/html": [
       "\n",
       "<div class=\"c3table\">\n",
       "\n",
       "<style>\n",
       ".c3table table {margin: 10px 0;}\n",
       ".c3table tr:last-child {border-bottom: 1px solid #000;} \n",
       ".c3table tr > th {text-align: left; padding: 0 5px;}\n",
       ".c3table tr > td {text-align: left; padding: 5px;}\n",
       ".c3table tr:nth-child(even) {background: #f7f7f7 !important;}\n",
       ".c3table .ellipsis {background: rgba(0, 0, 0, .01);}\n",
       ".c3table .index {background: rgba(161, 195, 209, 0.0); margin: 10px; font-weight: 600;}\n",
       ".c3table .head_cell {background: rgba(161, 195, 209, 0.75); font-weight: bold; text-align: center;}\n",
       ".c3table caption {color: rgb(250, 250, 250); background: rgba(30, 140, 200, 1); padding: 3px; white-space: nowrap; caption-side: top;}\n",
       ".c3table .cell_title {font-weight: bold;}\n",
       ".c3col_left { text-align: left !important; display: block;}\n",
       ".c3col_right { text-align: right !important; display: block;}\n",
       ".c3col_center { text-align: center !important; display: block;}\n",
       "</style>\n",
       "\n",
       "<table>\n",
       "\n",
       "<thead class=\"head_cell\">\n",
       "<th>a</th><th>b</th>\n",
       "</thead>\n",
       "<tbody>\n",
       "<tr><td><span class=\"c3col_right\">0</span></td><td><span class=\"c3col_left\">a</span></td></tr>\n",
       "<tr><td><span class=\"c3col_right\">3</span></td><td><span class=\"c3col_left\">c</span></td></tr>\n",
       "</tbody>\n",
       "</table>\n",
       "<p>\n",
       "2 rows x 2 columns</p>\n",
       "</div>"
      ],
      "text/plain": [
       "======\n",
       "a    b\n",
       "------\n",
       "0    a\n",
       "3    c\n",
       "------\n",
       "\n",
       "2 rows x 2 columns"
      ]
     },
     "execution_count": 21,
     "metadata": {},
     "output_type": "execute_result"
    }
   ],
   "source": [
    "from cogent3 import make_table\n",
    "\n",
    "data = dict(a=[0, 3], b=[\"a\", \"c\"])\n",
    "table = make_table(data=data)\n",
    "table"
   ]
  },
  {
   "cell_type": "code",
   "execution_count": 22,
   "id": "f2609ed3",
   "metadata": {
    "execution": {
     "iopub.execute_input": "2023-07-17T11:21:37.471654Z",
     "iopub.status.busy": "2023-07-17T11:21:37.471588Z",
     "iopub.status.idle": "2023-07-17T11:21:37.473935Z",
     "shell.execute_reply": "2023-07-17T11:21:37.473744Z"
    }
   },
   "outputs": [
    {
     "data": {
      "text/html": [
       "\n",
       "<div class=\"c3table\">\n",
       "\n",
       "<style>\n",
       ".c3table table {margin: 10px 0;}\n",
       ".c3table tr:last-child {border-bottom: 1px solid #000;} \n",
       ".c3table tr > th {text-align: left; padding: 0 5px;}\n",
       ".c3table tr > td {text-align: left; padding: 5px;}\n",
       ".c3table tr:nth-child(even) {background: #f7f7f7 !important;}\n",
       ".c3table .ellipsis {background: rgba(0, 0, 0, .01);}\n",
       ".c3table .index {background: rgba(161, 195, 209, 0.0); margin: 10px; font-weight: 600;}\n",
       ".c3table .head_cell {background: rgba(161, 195, 209, 0.75); font-weight: bold; text-align: center;}\n",
       ".c3table caption {color: rgb(250, 250, 250); background: rgba(30, 140, 200, 1); padding: 3px; white-space: nowrap; caption-side: top;}\n",
       ".c3table .cell_title {font-weight: bold;}\n",
       ".c3col_left { text-align: left !important; display: block;}\n",
       ".c3col_right { text-align: right !important; display: block;}\n",
       ".c3col_center { text-align: center !important; display: block;}\n",
       "</style>\n",
       "\n",
       "<table>\n",
       "\n",
       "<thead class=\"head_cell\">\n",
       "<th>edge.parent</th><th>x</th><th>length</th>\n",
       "</thead>\n",
       "<tbody>\n",
       "<tr><td><span class=\"c3col_left\">root</span></td><td><span class=\"c3col_right\">1.0000</span></td><td><span class=\"c3col_right\">4.0000</span></td></tr>\n",
       "<tr><td><span class=\"c3col_left\">root</span></td><td><span class=\"c3col_right\">1.0000</span></td><td><span class=\"c3col_right\">4.0000</span></td></tr>\n",
       "<tr><td><span class=\"c3col_left\">root</span></td><td><span class=\"c3col_right\">1.0000</span></td><td><span class=\"c3col_right\">4.0000</span></td></tr>\n",
       "<tr><td><span class=\"c3col_left\">edge.0</span></td><td><span class=\"c3col_right\">1.0000</span></td><td><span class=\"c3col_right\">4.0000</span></td></tr>\n",
       "</tbody>\n",
       "</table>\n",
       "<p>\n",
       "4 rows x 3 columns</p>\n",
       "</div>"
      ],
      "text/plain": [
       "===============================\n",
       "edge.parent         x    length\n",
       "-------------------------------\n",
       "root           1.0000    4.0000\n",
       "root           1.0000    4.0000\n",
       "root           1.0000    4.0000\n",
       "edge.0         1.0000    4.0000\n",
       "-------------------------------\n",
       "\n",
       "4 rows x 3 columns"
      ]
     },
     "execution_count": 22,
     "metadata": {},
     "output_type": "execute_result"
    }
   ],
   "source": [
    "from cogent3 import make_table\n",
    "\n",
    "d2D = {\n",
    "    \"edge.parent\": {\n",
    "        \"NineBande\": \"root\",\n",
    "        \"edge.1\": \"root\",\n",
    "        \"DogFaced\": \"root\",\n",
    "        \"Human\": \"edge.0\",\n",
    "    },\n",
    "    \"x\": {\n",
    "        \"NineBande\": 1.0,\n",
    "        \"edge.1\": 1.0,\n",
    "        \"DogFaced\": 1.0,\n",
    "        \"Human\": 1.0,\n",
    "    },\n",
    "    \"length\": {\n",
    "        \"NineBande\": 4.0,\n",
    "        \"edge.1\": 4.0,\n",
    "        \"DogFaced\": 4.0,\n",
    "        \"Human\": 4.0,\n",
    "    },\n",
    "}\n",
    "table = make_table(\n",
    "    data=d2D,\n",
    ")\n",
    "table"
   ]
  },
  {
   "cell_type": "code",
   "execution_count": 23,
   "id": "b9efb6b3",
   "metadata": {
    "execution": {
     "iopub.execute_input": "2023-07-17T11:21:37.474901Z",
     "iopub.status.busy": "2023-07-17T11:21:37.474832Z",
     "iopub.status.idle": "2023-07-17T11:21:37.476908Z",
     "shell.execute_reply": "2023-07-17T11:21:37.476723Z"
    }
   },
   "outputs": [
    {
     "data": {
      "text/html": [
       "\n",
       "<div class=\"c3table\">\n",
       "\n",
       "<style>\n",
       ".c3table table {margin: 10px 0;}\n",
       ".c3table tr:last-child {border-bottom: 1px solid #000;} \n",
       ".c3table tr > th {text-align: left; padding: 0 5px;}\n",
       ".c3table tr > td {text-align: left; padding: 5px;}\n",
       ".c3table tr:nth-child(even) {background: #f7f7f7 !important;}\n",
       ".c3table .ellipsis {background: rgba(0, 0, 0, .01);}\n",
       ".c3table .index {background: rgba(161, 195, 209, 0.0); margin: 10px; font-weight: 600;}\n",
       ".c3table .head_cell {background: rgba(161, 195, 209, 0.75); font-weight: bold; text-align: center;}\n",
       ".c3table caption {color: rgb(250, 250, 250); background: rgba(30, 140, 200, 1); padding: 3px; white-space: nowrap; caption-side: top;}\n",
       ".c3table .cell_title {font-weight: bold;}\n",
       ".c3col_left { text-align: left !important; display: block;}\n",
       ".c3col_right { text-align: right !important; display: block;}\n",
       ".c3col_center { text-align: center !important; display: block;}\n",
       "</style>\n",
       "\n",
       "<table>\n",
       "\n",
       "<thead class=\"head_cell\">\n",
       "<th>abcd</th><th>data</th>\n",
       "</thead>\n",
       "<tbody>\n",
       "<tr><td><span class=\"c3col_left\">range(1, 6)</span></td><td><span class=\"c3col_left\">0</span></td></tr>\n",
       "<tr><td><span class=\"c3col_left\">x</span></td><td><span class=\"c3col_left\">5.0</span></td></tr>\n",
       "<tr><td><span class=\"c3col_left\">y</span></td><td><span class=\"c3col_left\">None</span></td></tr>\n",
       "</tbody>\n",
       "</table>\n",
       "<p>\n",
       "3 rows x 2 columns</p>\n",
       "</div>"
      ],
      "text/plain": [
       "===================\n",
       "abcd           data\n",
       "-------------------\n",
       "range(1, 6)    0   \n",
       "x              5.0 \n",
       "y              None\n",
       "-------------------\n",
       "\n",
       "3 rows x 2 columns"
      ]
     },
     "execution_count": 23,
     "metadata": {},
     "output_type": "execute_result"
    }
   ],
   "source": [
    "from cogent3 import make_table\n",
    "\n",
    "table = make_table(\n",
    "    header=[\"abcd\", \"data\"],\n",
    "    data=[[range(1, 6), \"0\"], [\"x\", 5.0], [\"y\", None]],\n",
    "    missing_data=\"*\",\n",
    "    digits=1,\n",
    ")\n",
    "table"
   ]
  },
  {
   "cell_type": "code",
   "execution_count": 24,
   "id": "5cad3ee6",
   "metadata": {
    "execution": {
     "iopub.execute_input": "2023-07-17T11:21:37.477850Z",
     "iopub.status.busy": "2023-07-17T11:21:37.477778Z",
     "iopub.status.idle": "2023-07-17T11:21:37.479576Z",
     "shell.execute_reply": "2023-07-17T11:21:37.479354Z"
    }
   },
   "outputs": [
    {
     "data": {
      "text/html": [
       "<p>\n",
       "0 rows x 0 columns</p>"
      ],
      "text/plain": [
       "0 rows x 0 columns"
      ]
     },
     "execution_count": 24,
     "metadata": {},
     "output_type": "execute_result"
    }
   ],
   "source": [
    "from cogent3 import make_table\n",
    "\n",
    "table = make_table()\n",
    "table"
   ]
  }
 ],
 "metadata": {
  "kernelspec": {
   "display_name": "Python 3 (ipykernel)",
   "language": "python",
   "name": "python3"
  },
  "language_info": {
   "codemirror_mode": {
    "name": "ipython",
    "version": 3
   },
   "file_extension": ".py",
   "mimetype": "text/x-python",
   "name": "python",
   "nbconvert_exporter": "python",
   "pygments_lexer": "ipython3",
   "version": "3.11.4"
  }
 },
 "nbformat": 4,
 "nbformat_minor": 5
}