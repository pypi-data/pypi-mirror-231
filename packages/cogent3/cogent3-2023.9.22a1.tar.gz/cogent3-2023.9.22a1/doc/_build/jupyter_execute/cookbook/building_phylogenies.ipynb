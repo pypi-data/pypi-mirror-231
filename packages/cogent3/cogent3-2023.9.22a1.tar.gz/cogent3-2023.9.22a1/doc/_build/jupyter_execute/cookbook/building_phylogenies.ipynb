{
 "cells": [
  {
   "cell_type": "code",
   "execution_count": 1,
   "id": "2b0b220c",
   "metadata": {
    "execution": {
     "iopub.execute_input": "2023-07-17T11:20:46.238611Z",
     "iopub.status.busy": "2023-07-17T11:20:46.238054Z",
     "iopub.status.idle": "2023-07-17T11:20:46.257068Z",
     "shell.execute_reply": "2023-07-17T11:20:46.256571Z"
    }
   },
   "outputs": [],
   "source": [
    "import set_working_directory"
   ]
  },
  {
   "cell_type": "code",
   "execution_count": 2,
   "id": "083944cf",
   "metadata": {
    "execution": {
     "iopub.execute_input": "2023-07-17T11:20:46.260308Z",
     "iopub.status.busy": "2023-07-17T11:20:46.260001Z",
     "iopub.status.idle": "2023-07-17T11:20:47.127692Z",
     "shell.execute_reply": "2023-07-17T11:20:47.127400Z"
    }
   },
   "outputs": [
    {
     "name": "stdout",
     "output_type": "stream",
     "text": [
      "                    /-Rhesus\n",
      "          /edge.1--|\n",
      "         |         |          /-Galago\n",
      "         |          \\edge.0--|\n",
      "         |                    \\-HowlerMon\n",
      "-root----|\n",
      "         |--Orangutan\n",
      "         |\n",
      "         |          /-Chimpanzee\n",
      "          \\edge.2--|\n",
      "                   |          /-Gorilla\n",
      "                    \\edge.3--|\n",
      "                              \\-Human\n"
     ]
    }
   ],
   "source": [
    "from cogent3 import load_aligned_seqs\n",
    "\n",
    "aln = load_aligned_seqs(\"data/primate_brca1.fasta\", moltype=\"dna\")\n",
    "tree = aln.quick_tree(calc=\"TN93\", show_progress=False)\n",
    "tree = tree.balanced()  # purely for display\n",
    "print(tree.ascii_art())"
   ]
  },
  {
   "cell_type": "code",
   "execution_count": 3,
   "id": "0f7b84d8",
   "metadata": {
    "execution": {
     "iopub.execute_input": "2023-07-17T11:20:47.129065Z",
     "iopub.status.busy": "2023-07-17T11:20:47.128962Z",
     "iopub.status.idle": "2023-07-17T11:20:47.365122Z",
     "shell.execute_reply": "2023-07-17T11:20:47.364837Z"
    }
   },
   "outputs": [],
   "source": [
    "tree = aln.quick_tree(calc=\"TN93\", bootstrap=100, show_progress=False)"
   ]
  },
  {
   "cell_type": "code",
   "execution_count": 4,
   "id": "1172802d",
   "metadata": {
    "execution": {
     "iopub.execute_input": "2023-07-17T11:20:47.366521Z",
     "iopub.status.busy": "2023-07-17T11:20:47.366443Z",
     "iopub.status.idle": "2023-07-17T11:20:47.372008Z",
     "shell.execute_reply": "2023-07-17T11:20:47.371781Z"
    }
   },
   "outputs": [
    {
     "name": "stdout",
     "output_type": "stream",
     "text": [
      "                    /-Rhesus\n",
      "          /edge.1--|\n",
      "         |         |          /-Galago\n",
      "         |          \\edge.0--|\n",
      "         |                    \\-HowlerMon\n",
      "-root----|\n",
      "         |--Orangutan\n",
      "         |\n",
      "         |          /-Chimpanzee\n",
      "          \\edge.2--|\n",
      "                   |          /-Gorilla\n",
      "                    \\edge.3--|\n",
      "                              \\-Human\n"
     ]
    }
   ],
   "source": [
    "from cogent3 import load_aligned_seqs\n",
    "\n",
    "aln = load_aligned_seqs(\"data/primate_brca1.fasta\", moltype=\"dna\")\n",
    "dists = aln.distance_matrix(calc=\"TN93\")\n",
    "tree = dists.quick_tree(show_progress=False)\n",
    "tree = tree.balanced()  # purely for display\n",
    "print(tree.ascii_art())"
   ]
  },
  {
   "cell_type": "code",
   "execution_count": 5,
   "id": "89224b04",
   "metadata": {
    "execution": {
     "iopub.execute_input": "2023-07-17T11:20:47.373110Z",
     "iopub.status.busy": "2023-07-17T11:20:47.373046Z",
     "iopub.status.idle": "2023-07-17T11:20:47.378327Z",
     "shell.execute_reply": "2023-07-17T11:20:47.378103Z"
    }
   },
   "outputs": [
    {
     "name": "stdout",
     "output_type": "stream",
     "text": [
      "                    /-Rhesus\n",
      "          /edge.1--|\n",
      "         |         |          /-Galago\n",
      "         |          \\edge.0--|\n",
      "         |                    \\-HowlerMon\n",
      "-root----|\n",
      "         |--Orangutan\n",
      "         |\n",
      "         |          /-Chimpanzee\n",
      "          \\edge.2--|\n",
      "                   |          /-Gorilla\n",
      "                    \\edge.3--|\n",
      "                              \\-Human\n"
     ]
    }
   ],
   "source": [
    "from cogent3 import load_aligned_seqs\n",
    "from cogent3.phylo import nj\n",
    "\n",
    "aln = load_aligned_seqs(\"data/primate_brca1.fasta\", moltype=\"dna\")\n",
    "dists = aln.distance_matrix(calc=\"TN93\")\n",
    "tree = nj.nj(dists, show_progress=False)\n",
    "tree = tree.balanced()  # purely for display\n",
    "print(tree.ascii_art())"
   ]
  },
  {
   "cell_type": "code",
   "execution_count": 6,
   "id": "1090868f",
   "metadata": {
    "execution": {
     "iopub.execute_input": "2023-07-17T11:20:47.379542Z",
     "iopub.status.busy": "2023-07-17T11:20:47.379476Z",
     "iopub.status.idle": "2023-07-17T11:20:47.381379Z",
     "shell.execute_reply": "2023-07-17T11:20:47.381153Z"
    }
   },
   "outputs": [
    {
     "name": "stdout",
     "output_type": "stream",
     "text": [
      "          /-a\n",
      "         |\n",
      "-root----|--c\n",
      "         |\n",
      "          \\-b\n"
     ]
    }
   ],
   "source": [
    "from cogent3.phylo import nj\n",
    "\n",
    "dists = {(\"a\", \"b\"): 2.7, (\"c\", \"b\"): 2.33, (\"c\", \"a\"): 0.73}\n",
    "tree = nj.nj(dists, show_progress=False)\n",
    "print(tree.ascii_art())"
   ]
  },
  {
   "cell_type": "code",
   "execution_count": 7,
   "id": "7e395a2f",
   "metadata": {
    "execution": {
     "iopub.execute_input": "2023-07-17T11:20:47.382433Z",
     "iopub.status.busy": "2023-07-17T11:20:47.382372Z",
     "iopub.status.idle": "2023-07-17T11:20:47.610493Z",
     "shell.execute_reply": "2023-07-17T11:20:47.609733Z"
    }
   },
   "outputs": [],
   "source": [
    "from cogent3.phylo.least_squares import WLS\n",
    "from cogent3.util.deserialise import deserialise_object\n",
    "\n",
    "dists = deserialise_object(\"data/dists_for_phylo.json\")\n",
    "ls = WLS(dists)\n",
    "stat, tree = ls.trex(a=5, k=5, show_progress=False)"
   ]
  },
  {
   "cell_type": "code",
   "execution_count": 8,
   "id": "7a8f3827",
   "metadata": {
    "execution": {
     "iopub.execute_input": "2023-07-17T11:20:47.614165Z",
     "iopub.status.busy": "2023-07-17T11:20:47.613869Z",
     "iopub.status.idle": "2023-07-17T11:20:47.620751Z",
     "shell.execute_reply": "2023-07-17T11:20:47.620138Z"
    }
   },
   "outputs": [],
   "source": [
    "from cogent3 import load_aligned_seqs\n",
    "from cogent3.evolve.models import F81\n",
    "from cogent3.phylo.maximum_likelihood import ML\n",
    "\n",
    "aln = load_aligned_seqs(\"data/primate_brca1.fasta\")\n",
    "ml = ML(F81(), aln)"
   ]
  }
 ],
 "metadata": {
  "kernelspec": {
   "display_name": "Python 3 (ipykernel)",
   "language": "python",
   "name": "python3"
  },
  "language_info": {
   "codemirror_mode": {
    "name": "ipython",
    "version": 3
   },
   "file_extension": ".py",
   "mimetype": "text/x-python",
   "name": "python",
   "nbconvert_exporter": "python",
   "pygments_lexer": "ipython3",
   "version": "3.11.4"
  }
 },
 "nbformat": 4,
 "nbformat_minor": 5
}