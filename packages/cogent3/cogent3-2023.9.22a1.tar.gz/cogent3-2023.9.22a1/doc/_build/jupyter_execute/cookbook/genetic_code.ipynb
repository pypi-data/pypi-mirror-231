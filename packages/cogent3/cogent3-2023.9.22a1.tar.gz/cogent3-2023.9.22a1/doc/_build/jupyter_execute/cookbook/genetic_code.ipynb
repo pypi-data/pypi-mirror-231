{
 "cells": [
  {
   "cell_type": "code",
   "execution_count": 1,
   "id": "64f43d90",
   "metadata": {
    "execution": {
     "iopub.execute_input": "2023-07-17T11:21:30.130572Z",
     "iopub.status.busy": "2023-07-17T11:21:30.130135Z",
     "iopub.status.idle": "2023-07-17T11:21:31.017415Z",
     "shell.execute_reply": "2023-07-17T11:21:31.017147Z"
    }
   },
   "outputs": [
    {
     "data": {
      "text/html": [
       "<style>\n",
       ".c3align table {margin: 10px 0;}\n",
       ".c3align td { border: none !important; text-align: left !important; }\n",
       ".c3align tr:not(.num_row) td span {margin: 0 2px;}\n",
       ".c3align tr:nth-child(even) {background: #f7f7f7;}\n",
       ".c3align .num_row {background-color:rgba(161, 195, 209, 0.5) !important; border-top: solid 1px black; }\n",
       ".c3align .label { font-size: 12pt ; text-align: right !important; color: black !important; padding: 0 4px; display: table-cell !important; font-weight: normal !important; }\n",
       ".c3align .T_dna{font-family: \"Lucida Console\",monospace !important; font-size: 12pt !important; color: blue; }\n",
       ".c3align .C_dna{font-family: \"Lucida Console\",monospace !important; font-size: 12pt !important; color: black; }\n",
       ".c3align .A_dna{font-family: \"Lucida Console\",monospace !important; font-size: 12pt !important; color: #FF0102; }\n",
       ".c3align .G_dna{font-family: \"Lucida Console\",monospace !important; font-size: 12pt !important; color: green; }\n",
       ".c3align .terminal_ambig_dna{font-family: \"Lucida Console\",monospace !important; font-size: 12pt !important; color: gray; }\n",
       ".c3align .ambig_dna{font-family: \"Lucida Console\",monospace !important; font-size: 12pt !important; color: gray; }\n",
       "</style>\n",
       "<div class=\"c3align\">\n",
       "<table>\n",
       "<tr class=\"num_row\"><td></td><td><b>0</b></td></tr>\n",
       "<tr><td class=\"label\">s2</td><td><span class=\"A_dna\">A</span><span class=\"C_dna\">C</span><span class=\"T_dna\">T</span><span class=\"C_dna\">C</span><span class=\"A_dna\">A</span><span class=\"T_dna\">T</span><span class=\"G_dna\">G</span><span class=\"C_dna\">C</span><span class=\"C_dna\">C</span><span class=\"A_dna\">A</span><span class=\"A_dna\">A</span><span class=\"C_dna\">C</span><span class=\"T_dna\">T</span><span class=\"C_dna\">C</span><span class=\"A_dna\">A</span><span class=\"T_dna\">T</span><span class=\"T_dna\">T</span><span class=\"A_dna\">A</span><span class=\"C_dna\">C</span><span class=\"A_dna\">A</span><span class=\"G_dna\">G</span><span class=\"C_dna\">C</span><span class=\"A_dna\">A</span><span class=\"T_dna\">T</span><span class=\"G_dna\">G</span><span class=\"A_dna\">A</span><span class=\"G_dna\">G</span><span class=\"A_dna\">A</span><span class=\"A_dna\">A</span><span class=\"C_dna\">C</span><span class=\"A_dna\">A</span><span class=\"G_dna\">G</span><span class=\"C_dna\">C</span><span class=\"A_dna\">A</span><span class=\"G_dna\">G</span><span class=\"T_dna\">T</span></td></tr>\n",
       "<tr><td class=\"label\">s1</td><td><span class=\"G_dna\">G</span><span class=\"C_dna\">.</span><span class=\"T_dna\">.</span><span class=\"C_dna\">.</span><span class=\"A_dna\">.</span><span class=\"T_dna\">.</span><span class=\"G_dna\">.</span><span class=\"C_dna\">.</span><span class=\"C_dna\">.</span><span class=\"A_dna\">.</span><span class=\"G_dna\">G</span><span class=\"C_dna\">.</span><span class=\"T_dna\">.</span><span class=\"C_dna\">.</span><span class=\"T_dna\">T</span><span class=\"T_dna\">.</span><span class=\"T_dna\">.</span><span class=\"A_dna\">.</span><span class=\"C_dna\">.</span><span class=\"A_dna\">.</span><span class=\"G_dna\">.</span><span class=\"C_dna\">.</span><span class=\"A_dna\">.</span><span class=\"T_dna\">.</span><span class=\"G_dna\">.</span><span class=\"A_dna\">.</span><span class=\"G_dna\">.</span><span class=\"A_dna\">.</span><span class=\"A_dna\">.</span><span class=\"C_dna\">.</span><span class=\"A_dna\">.</span><span class=\"ambig_dna\">-</span><span class=\"ambig_dna\">-</span><span class=\"A_dna\">.</span><span class=\"G_dna\">.</span><span class=\"T_dna\">.</span></td></tr>\n",
       "<tr><td class=\"label\">s3</td><td><span class=\"A_dna\">.</span><span class=\"C_dna\">.</span><span class=\"T_dna\">.</span><span class=\"C_dna\">.</span><span class=\"A_dna\">.</span><span class=\"T_dna\">.</span><span class=\"G_dna\">.</span><span class=\"C_dna\">.</span><span class=\"C_dna\">.</span><span class=\"A_dna\">.</span><span class=\"G_dna\">G</span><span class=\"C_dna\">.</span><span class=\"T_dna\">.</span><span class=\"C_dna\">.</span><span class=\"A_dna\">.</span><span class=\"T_dna\">.</span><span class=\"T_dna\">.</span><span class=\"A_dna\">.</span><span class=\"C_dna\">.</span><span class=\"A_dna\">.</span><span class=\"G_dna\">.</span><span class=\"C_dna\">.</span><span class=\"A_dna\">.</span><span class=\"T_dna\">.</span><span class=\"G_dna\">.</span><span class=\"A_dna\">.</span><span class=\"G_dna\">.</span><span class=\"A_dna\">.</span><span class=\"A_dna\">.</span><span class=\"C_dna\">.</span><span class=\"A_dna\">.</span><span class=\"G_dna\">.</span><span class=\"C_dna\">.</span><span class=\"A_dna\">.</span><span class=\"G_dna\">.</span><span class=\"T_dna\">.</span></td></tr>\n",
       "<tr><td class=\"label\">s4</td><td><span class=\"A_dna\">.</span><span class=\"C_dna\">.</span><span class=\"T_dna\">.</span><span class=\"C_dna\">.</span><span class=\"A_dna\">.</span><span class=\"T_dna\">.</span><span class=\"G_dna\">.</span><span class=\"C_dna\">.</span><span class=\"C_dna\">.</span><span class=\"A_dna\">.</span><span class=\"G_dna\">G</span><span class=\"C_dna\">.</span><span class=\"T_dna\">.</span><span class=\"C_dna\">.</span><span class=\"A_dna\">.</span><span class=\"T_dna\">.</span><span class=\"T_dna\">.</span><span class=\"A_dna\">.</span><span class=\"C_dna\">.</span><span class=\"A_dna\">.</span><span class=\"G_dna\">.</span><span class=\"C_dna\">.</span><span class=\"A_dna\">.</span><span class=\"T_dna\">.</span><span class=\"G_dna\">.</span><span class=\"A_dna\">.</span><span class=\"G_dna\">.</span><span class=\"A_dna\">.</span><span class=\"A_dna\">.</span><span class=\"C_dna\">.</span><span class=\"A_dna\">.</span><span class=\"G_dna\">.</span><span class=\"C_dna\">.</span><span class=\"A_dna\">.</span><span class=\"G_dna\">.</span><span class=\"T_dna\">.</span></td></tr>\n",
       "<tr><td class=\"label\">s5</td><td><span class=\"A_dna\">.</span><span class=\"C_dna\">.</span><span class=\"T_dna\">.</span><span class=\"C_dna\">.</span><span class=\"A_dna\">.</span><span class=\"T_dna\">.</span><span class=\"G_dna\">.</span><span class=\"C_dna\">.</span><span class=\"C_dna\">.</span><span class=\"A_dna\">.</span><span class=\"G_dna\">G</span><span class=\"C_dna\">.</span><span class=\"T_dna\">.</span><span class=\"C_dna\">.</span><span class=\"A_dna\">.</span><span class=\"G_dna\">G</span><span class=\"T_dna\">.</span><span class=\"A_dna\">.</span><span class=\"C_dna\">.</span><span class=\"A_dna\">.</span><span class=\"G_dna\">.</span><span class=\"C_dna\">.</span><span class=\"A_dna\">.</span><span class=\"T_dna\">.</span><span class=\"G_dna\">.</span><span class=\"A_dna\">.</span><span class=\"G_dna\">.</span><span class=\"A_dna\">.</span><span class=\"A_dna\">.</span><span class=\"C_dna\">.</span><span class=\"A_dna\">.</span><span class=\"G_dna\">.</span><span class=\"C_dna\">.</span><span class=\"A_dna\">.</span><span class=\"G_dna\">.</span><span class=\"T_dna\">.</span></td></tr>\n",
       "</table>\n",
       "<p><i>5 x 36 dna alignment</i></p>\n",
       "</div>"
      ],
      "text/plain": [
       "5 x 36 alignment: s1[GCTCATGCCAG...], s2[ACTCATGCCAA...], s3[ACTCATGCCAG...], ..."
      ]
     },
     "execution_count": 1,
     "metadata": {},
     "output_type": "execute_result"
    }
   ],
   "source": [
    "from cogent3 import make_aligned_seqs\n",
    "\n",
    "data = {\n",
    "    \"s1\": \"GCTCATGCCAGCTCTTTACAGCATGAGAACA--AGT\",\n",
    "    \"s2\": \"ACTCATGCCAACTCATTACAGCATGAGAACAGCAGT\",\n",
    "    \"s3\": \"ACTCATGCCAGCTCATTACAGCATGAGAACAGCAGT\",\n",
    "    \"s4\": \"ACTCATGCCAGCTCATTACAGCATGAGAACAGCAGT\",\n",
    "    \"s5\": \"ACTCATGCCAGCTCAGTACAGCATGAGAACAGCAGT\",\n",
    "}\n",
    "\n",
    "nt_seqs = make_aligned_seqs(data=data, moltype=\"dna\")\n",
    "nt_seqs"
   ]
  },
  {
   "cell_type": "code",
   "execution_count": 2,
   "id": "c7db6902",
   "metadata": {
    "execution": {
     "iopub.execute_input": "2023-07-17T11:21:31.018761Z",
     "iopub.status.busy": "2023-07-17T11:21:31.018667Z",
     "iopub.status.idle": "2023-07-17T11:21:31.024055Z",
     "shell.execute_reply": "2023-07-17T11:21:31.023837Z"
    }
   },
   "outputs": [
    {
     "data": {
      "text/html": [
       "<style>\n",
       ".c3align table {margin: 10px 0;}\n",
       ".c3align td { border: none !important; text-align: left !important; }\n",
       ".c3align tr:not(.num_row) td span {margin: 0 2px;}\n",
       ".c3align tr:nth-child(even) {background: #f7f7f7;}\n",
       ".c3align .num_row {background-color:rgba(161, 195, 209, 0.5) !important; border-top: solid 1px black; }\n",
       ".c3align .label { font-size: 12pt ; text-align: right !important; color: black !important; padding: 0 4px; display: table-cell !important; font-weight: normal !important; }\n",
       ".c3align .A_protein{font-family: \"Lucida Console\",monospace !important; font-size: 12pt !important; color: #009999; }\n",
       ".c3align .C_protein{font-family: \"Lucida Console\",monospace !important; font-size: 12pt !important; color: orange; }\n",
       ".c3align .D_protein{font-family: \"Lucida Console\",monospace !important; font-size: 12pt !important; color: blue; }\n",
       ".c3align .E_protein{font-family: \"Lucida Console\",monospace !important; font-size: 12pt !important; color: blue; }\n",
       ".c3align .F_protein{font-family: \"Lucida Console\",monospace !important; font-size: 12pt !important; color: #ff6600; }\n",
       ".c3align .G_protein{font-family: \"Lucida Console\",monospace !important; font-size: 12pt !important; color: #009999; }\n",
       ".c3align .H_protein{font-family: \"Lucida Console\",monospace !important; font-size: 12pt !important; color: #FF0102; }\n",
       ".c3align .I_protein{font-family: \"Lucida Console\",monospace !important; font-size: 12pt !important; color: #009999; }\n",
       ".c3align .K_protein{font-family: \"Lucida Console\",monospace !important; font-size: 12pt !important; color: #FF0102; }\n",
       ".c3align .L_protein{font-family: \"Lucida Console\",monospace !important; font-size: 12pt !important; color: #009999; }\n",
       ".c3align .M_protein{font-family: \"Lucida Console\",monospace !important; font-size: 12pt !important; color: orange; }\n",
       ".c3align .N_protein{font-family: \"Lucida Console\",monospace !important; font-size: 12pt !important; color: #993300; }\n",
       ".c3align .P_protein{font-family: \"Lucida Console\",monospace !important; font-size: 12pt !important; color: #cc0099; }\n",
       ".c3align .Q_protein{font-family: \"Lucida Console\",monospace !important; font-size: 12pt !important; color: #993300; }\n",
       ".c3align .R_protein{font-family: \"Lucida Console\",monospace !important; font-size: 12pt !important; color: #FF0102; }\n",
       ".c3align .S_protein{font-family: \"Lucida Console\",monospace !important; font-size: 12pt !important; color: #009900; }\n",
       ".c3align .T_protein{font-family: \"Lucida Console\",monospace !important; font-size: 12pt !important; color: #009900; }\n",
       ".c3align .U_protein{font-family: \"Lucida Console\",monospace !important; font-size: 12pt !important; color: gray; }\n",
       ".c3align .V_protein{font-family: \"Lucida Console\",monospace !important; font-size: 12pt !important; color: #009999; }\n",
       ".c3align .W_protein{font-family: \"Lucida Console\",monospace !important; font-size: 12pt !important; color: #ff6600; }\n",
       ".c3align .Y_protein{font-family: \"Lucida Console\",monospace !important; font-size: 12pt !important; color: #ff6600; }\n",
       ".c3align .terminal_ambig_protein{font-family: \"Lucida Console\",monospace !important; font-size: 12pt !important; color: gray; }\n",
       ".c3align .ambig_protein{font-family: \"Lucida Console\",monospace !important; font-size: 12pt !important; color: gray; }\n",
       "</style>\n",
       "<div class=\"c3align\">\n",
       "<table>\n",
       "<tr class=\"num_row\"><td></td><td><b>0</b></td></tr>\n",
       "<tr><td class=\"label\">s2</td><td><span class=\"T_protein\">T</span><span class=\"H_protein\">H</span><span class=\"A_protein\">A</span><span class=\"N_protein\">N</span><span class=\"S_protein\">S</span><span class=\"L_protein\">L</span><span class=\"Q_protein\">Q</span><span class=\"H_protein\">H</span><span class=\"E_protein\">E</span><span class=\"N_protein\">N</span><span class=\"S_protein\">S</span><span class=\"S_protein\">S</span></td></tr>\n",
       "<tr><td class=\"label\">s1</td><td><span class=\"A_protein\">A</span><span class=\"H_protein\">.</span><span class=\"A_protein\">.</span><span class=\"S_protein\">S</span><span class=\"S_protein\">.</span><span class=\"L_protein\">.</span><span class=\"Q_protein\">.</span><span class=\"H_protein\">.</span><span class=\"E_protein\">.</span><span class=\"N_protein\">.</span><span class=\"ambig_protein\">?</span><span class=\"S_protein\">.</span></td></tr>\n",
       "<tr><td class=\"label\">s3</td><td><span class=\"T_protein\">.</span><span class=\"H_protein\">.</span><span class=\"A_protein\">.</span><span class=\"S_protein\">S</span><span class=\"S_protein\">.</span><span class=\"L_protein\">.</span><span class=\"Q_protein\">.</span><span class=\"H_protein\">.</span><span class=\"E_protein\">.</span><span class=\"N_protein\">.</span><span class=\"S_protein\">.</span><span class=\"S_protein\">.</span></td></tr>\n",
       "<tr><td class=\"label\">s4</td><td><span class=\"T_protein\">.</span><span class=\"H_protein\">.</span><span class=\"A_protein\">.</span><span class=\"S_protein\">S</span><span class=\"S_protein\">.</span><span class=\"L_protein\">.</span><span class=\"Q_protein\">.</span><span class=\"H_protein\">.</span><span class=\"E_protein\">.</span><span class=\"N_protein\">.</span><span class=\"S_protein\">.</span><span class=\"S_protein\">.</span></td></tr>\n",
       "<tr><td class=\"label\">s5</td><td><span class=\"T_protein\">.</span><span class=\"H_protein\">.</span><span class=\"A_protein\">.</span><span class=\"S_protein\">S</span><span class=\"S_protein\">.</span><span class=\"V_protein\">V</span><span class=\"Q_protein\">.</span><span class=\"H_protein\">.</span><span class=\"E_protein\">.</span><span class=\"N_protein\">.</span><span class=\"S_protein\">.</span><span class=\"S_protein\">.</span></td></tr>\n",
       "</table>\n",
       "<p><i>5 x 12 protein alignment</i></p>\n",
       "</div>"
      ],
      "text/plain": [
       "5 x 12 alignment: s1[AHASSLQHEN?...], s2[THANSLQHENS...], s3[THASSLQHENS...], ..."
      ]
     },
     "execution_count": 2,
     "metadata": {},
     "output_type": "execute_result"
    }
   ],
   "source": [
    "nt_seqs.get_translation(gc=1, incomplete_ok=True)"
   ]
  },
  {
   "cell_type": "code",
   "execution_count": 3,
   "id": "71a99243",
   "metadata": {
    "execution": {
     "iopub.execute_input": "2023-07-17T11:21:31.025189Z",
     "iopub.status.busy": "2023-07-17T11:21:31.025128Z",
     "iopub.status.idle": "2023-07-17T11:21:31.026957Z",
     "shell.execute_reply": "2023-07-17T11:21:31.026753Z"
    }
   },
   "outputs": [
    {
     "data": {
      "text/plain": [
       "'FAN'"
      ]
     },
     "execution_count": 3,
     "metadata": {},
     "output_type": "execute_result"
    }
   ],
   "source": [
    "from cogent3 import get_code\n",
    "\n",
    "standard_code = get_code(1)\n",
    "standard_code.translate(\"TTTGCAAAC\")"
   ]
  },
  {
   "cell_type": "code",
   "execution_count": 4,
   "id": "90266829",
   "metadata": {
    "execution": {
     "iopub.execute_input": "2023-07-17T11:21:31.028129Z",
     "iopub.status.busy": "2023-07-17T11:21:31.028066Z",
     "iopub.status.idle": "2023-07-17T11:21:31.031482Z",
     "shell.execute_reply": "2023-07-17T11:21:31.031277Z"
    }
   },
   "outputs": [
    {
     "name": "stdout",
     "output_type": "stream",
     "text": [
      "['MLT*', 'C*HK', 'ANI', 'FMLA', 'LC*H', 'YVS']\n"
     ]
    }
   ],
   "source": [
    "from cogent3 import get_code, make_seq\n",
    "\n",
    "standard_code = get_code(1)\n",
    "seq = make_seq(\"ATGCTAACATAAA\", moltype=\"dna\")\n",
    "translations = standard_code.sixframes(seq)\n",
    "print(translations)"
   ]
  },
  {
   "cell_type": "code",
   "execution_count": 5,
   "id": "a4970258",
   "metadata": {
    "execution": {
     "iopub.execute_input": "2023-07-17T11:21:31.032578Z",
     "iopub.status.busy": "2023-07-17T11:21:31.032514Z",
     "iopub.status.idle": "2023-07-17T11:21:31.034824Z",
     "shell.execute_reply": "2023-07-17T11:21:31.034587Z"
    }
   },
   "outputs": [
    {
     "data": {
      "text/plain": [
       "[9]"
      ]
     },
     "execution_count": 5,
     "metadata": {},
     "output_type": "execute_result"
    }
   ],
   "source": [
    "from cogent3 import get_code, make_seq\n",
    "\n",
    "standard_code = get_code(1)\n",
    "seq = make_seq(\"ATGCTAACATAAA\", moltype=\"dna\")\n",
    "stops_frame1 = standard_code.get_stop_indices(seq, start=0)\n",
    "stops_frame1"
   ]
  },
  {
   "cell_type": "code",
   "execution_count": 6,
   "id": "c32ebf39",
   "metadata": {
    "execution": {
     "iopub.execute_input": "2023-07-17T11:21:31.035852Z",
     "iopub.status.busy": "2023-07-17T11:21:31.035793Z",
     "iopub.status.idle": "2023-07-17T11:21:31.037807Z",
     "shell.execute_reply": "2023-07-17T11:21:31.037599Z"
    }
   },
   "outputs": [
    {
     "data": {
      "text/html": [
       "<style>\n",
       ".c3seq table {margin: 10px 0;}\n",
       ".c3seq td { border: none !important; text-align: left !important; }\n",
       ".c3seq tr:not(.num_row) td span {margin: 0 2px;}\n",
       ".c3seq tr:nth-child(even) {background: #f7f7f7;}\n",
       ".c3seq .num_row {background-color:rgba(161, 195, 209, 0.5) !important; border-top: solid 1px black; }\n",
       ".c3seq .label { font-size: 12pt ; text-align: right !important; color: black !important; padding: 0 4px; }\n",
       ".c3seq .T_dna{font-family: \"Lucida Console\",monospace !important; font-size: 12pt !important; color: blue; }\n",
       ".c3seq .C_dna{font-family: \"Lucida Console\",monospace !important; font-size: 12pt !important; color: black; }\n",
       ".c3seq .A_dna{font-family: \"Lucida Console\",monospace !important; font-size: 12pt !important; color: #FF0102; }\n",
       ".c3seq .G_dna{font-family: \"Lucida Console\",monospace !important; font-size: 12pt !important; color: green; }\n",
       ".c3seq .terminal_ambig_dna{font-family: \"Lucida Console\",monospace !important; font-size: 12pt !important; color: gray; }\n",
       ".c3seq .ambig_dna{font-family: \"Lucida Console\",monospace !important; font-size: 12pt !important; color: gray; }\n",
       "</style>\n",
       "<div class=\"c3seq\">\n",
       "<table>\n",
       "<tr class=\"num_row\"><td></td><td><b>0</b></td></tr>\n",
       "<tr><td class=\"label\">None</td><td><span class=\"T_dna\">T</span><span class=\"A_dna\">A</span><span class=\"A_dna\">A</span></td></tr>\n",
       "</table>\n",
       "<p><i>DnaSequence, length=3</i></p>\n",
       "</div>"
      ],
      "text/plain": [
       "DnaSequence(TAA)"
      ]
     },
     "execution_count": 6,
     "metadata": {},
     "output_type": "execute_result"
    }
   ],
   "source": [
    "stop_index = stops_frame1[0]\n",
    "seq[stop_index : stop_index + 3]"
   ]
  },
  {
   "cell_type": "code",
   "execution_count": 7,
   "id": "db2a88f7",
   "metadata": {
    "execution": {
     "iopub.execute_input": "2023-07-17T11:21:31.038888Z",
     "iopub.status.busy": "2023-07-17T11:21:31.038829Z",
     "iopub.status.idle": "2023-07-17T11:21:31.040764Z",
     "shell.execute_reply": "2023-07-17T11:21:31.040546Z"
    }
   },
   "outputs": [
    {
     "data": {
      "text/plain": [
       "'F'"
      ]
     },
     "execution_count": 7,
     "metadata": {},
     "output_type": "execute_result"
    }
   ],
   "source": [
    "from cogent3 import get_code, make_seq\n",
    "\n",
    "standard_code = get_code(1)\n",
    "standard_code[\"TTT\"]"
   ]
  },
  {
   "cell_type": "code",
   "execution_count": 8,
   "id": "f52008ac",
   "metadata": {
    "execution": {
     "iopub.execute_input": "2023-07-17T11:21:31.041815Z",
     "iopub.status.busy": "2023-07-17T11:21:31.041750Z",
     "iopub.status.idle": "2023-07-17T11:21:31.043513Z",
     "shell.execute_reply": "2023-07-17T11:21:31.043307Z"
    }
   },
   "outputs": [
    {
     "data": {
      "text/plain": [
       "['GCT', 'GCC', 'GCA', 'GCG']"
      ]
     },
     "execution_count": 8,
     "metadata": {},
     "output_type": "execute_result"
    }
   ],
   "source": [
    "standard_code[\"A\"]"
   ]
  },
  {
   "cell_type": "code",
   "execution_count": 9,
   "id": "f72a666e",
   "metadata": {
    "execution": {
     "iopub.execute_input": "2023-07-17T11:21:31.044560Z",
     "iopub.status.busy": "2023-07-17T11:21:31.044494Z",
     "iopub.status.idle": "2023-07-17T11:21:31.046318Z",
     "shell.execute_reply": "2023-07-17T11:21:31.046089Z"
    }
   },
   "outputs": [
    {
     "data": {
      "text/plain": [
       "'F'"
      ]
     },
     "execution_count": 9,
     "metadata": {},
     "output_type": "execute_result"
    }
   ],
   "source": [
    "from cogent3 import get_code\n",
    "\n",
    "standard_code = get_code(1)\n",
    "standard_code[\"TTT\"]"
   ]
  },
  {
   "cell_type": "code",
   "execution_count": 10,
   "id": "8f629b52",
   "metadata": {
    "execution": {
     "iopub.execute_input": "2023-07-17T11:21:31.047351Z",
     "iopub.status.busy": "2023-07-17T11:21:31.047288Z",
     "iopub.status.idle": "2023-07-17T11:21:31.049061Z",
     "shell.execute_reply": "2023-07-17T11:21:31.048816Z"
    }
   },
   "outputs": [
    {
     "data": {
      "text/plain": [
       "['GCT', 'GCC', 'GCA', 'GCG']"
      ]
     },
     "execution_count": 10,
     "metadata": {},
     "output_type": "execute_result"
    }
   ],
   "source": [
    "from cogent3 import get_code\n",
    "\n",
    "standard_code = get_code(1)\n",
    "standard_code[\"A\"]"
   ]
  },
  {
   "cell_type": "code",
   "execution_count": 11,
   "id": "2f6c2dd9",
   "metadata": {
    "execution": {
     "iopub.execute_input": "2023-07-17T11:21:31.050095Z",
     "iopub.status.busy": "2023-07-17T11:21:31.050010Z",
     "iopub.status.idle": "2023-07-17T11:21:31.051686Z",
     "shell.execute_reply": "2023-07-17T11:21:31.051492Z"
    }
   },
   "outputs": [
    {
     "data": {
      "text/plain": [
       "[['GCT', 'GCC', 'GCA', 'GCG'], ['TGT', 'TGC']]"
      ]
     },
     "execution_count": 11,
     "metadata": {},
     "output_type": "execute_result"
    }
   ],
   "source": [
    "targets = [\"A\", \"C\"]\n",
    "codons = [standard_code[aa] for aa in targets]\n",
    "codons"
   ]
  },
  {
   "cell_type": "code",
   "execution_count": 12,
   "id": "07615431",
   "metadata": {
    "execution": {
     "iopub.execute_input": "2023-07-17T11:21:31.052660Z",
     "iopub.status.busy": "2023-07-17T11:21:31.052601Z",
     "iopub.status.idle": "2023-07-17T11:21:31.054422Z",
     "shell.execute_reply": "2023-07-17T11:21:31.054220Z"
    }
   },
   "outputs": [
    {
     "data": {
      "text/plain": [
       "['GCT', 'GCC', 'GCA', 'GCG', 'TGT', 'TGC']"
      ]
     },
     "execution_count": 12,
     "metadata": {},
     "output_type": "execute_result"
    }
   ],
   "source": [
    "flat_list = sum(codons, [])\n",
    "flat_list"
   ]
  },
  {
   "cell_type": "code",
   "execution_count": 13,
   "id": "c7999ce5",
   "metadata": {
    "execution": {
     "iopub.execute_input": "2023-07-17T11:21:31.055414Z",
     "iopub.status.busy": "2023-07-17T11:21:31.055358Z",
     "iopub.status.idle": "2023-07-17T11:21:31.056921Z",
     "shell.execute_reply": "2023-07-17T11:21:31.056692Z"
    }
   },
   "outputs": [
    {
     "name": "stdout",
     "output_type": "stream",
     "text": [
      "('TTT', 'TTC', 'TTA', 'TTG', 'TCT', 'TCC', 'TCA', 'TCG', 'TAT', 'TAC', 'TGT', 'TGC', 'TGG', 'CTT', 'CTC', 'CTA', 'CTG', 'CCT', 'CCC', 'CCA', 'CCG', 'CAT', 'CAC', 'CAA', 'CAG', 'CGT', 'CGC', 'CGA', 'CGG', 'ATT', 'ATC', 'ATA', 'ATG', 'ACT', 'ACC', 'ACA', 'ACG', 'AAT', 'AAC', 'AAA', 'AAG', 'AGT', 'AGC', 'AGA', 'AGG', 'GTT', 'GTC', 'GTA', 'GTG', 'GCT', 'GCC', 'GCA', 'GCG', 'GAT', 'GAC', 'GAA', 'GAG', 'GGT', 'GGC', 'GGA', 'GGG')\n"
     ]
    }
   ],
   "source": [
    "from cogent3 import get_code\n",
    "\n",
    "gc = get_code(1)\n",
    "alphabet = gc.get_alphabet()\n",
    "print(alphabet)"
   ]
  },
  {
   "cell_type": "code",
   "execution_count": 14,
   "id": "979417be",
   "metadata": {
    "execution": {
     "iopub.execute_input": "2023-07-17T11:21:31.057908Z",
     "iopub.status.busy": "2023-07-17T11:21:31.057852Z",
     "iopub.status.idle": "2023-07-17T11:21:31.059998Z",
     "shell.execute_reply": "2023-07-17T11:21:31.059789Z"
    }
   },
   "outputs": [
    {
     "data": {
      "text/plain": [
       "['ATG', 'CAC', 'TGG', 'TAA']"
      ]
     },
     "execution_count": 14,
     "metadata": {},
     "output_type": "execute_result"
    }
   ],
   "source": [
    "from cogent3 import make_seq\n",
    "\n",
    "my_seq = make_seq(\"ATGCACTGGTAA\", name=\"my_gene\", moltype=\"dna\")\n",
    "codons = my_seq.get_in_motif_size(3)\n",
    "codons"
   ]
  },
  {
   "cell_type": "code",
   "execution_count": 15,
   "id": "bbb4342e",
   "metadata": {
    "execution": {
     "iopub.execute_input": "2023-07-17T11:21:31.061029Z",
     "iopub.status.busy": "2023-07-17T11:21:31.060973Z",
     "iopub.status.idle": "2023-07-17T11:21:31.063454Z",
     "shell.execute_reply": "2023-07-17T11:21:31.063250Z"
    }
   },
   "outputs": [
    {
     "data": {
      "text/html": [
       "<style>\n",
       ".c3seq table {margin: 10px 0;}\n",
       ".c3seq td { border: none !important; text-align: left !important; }\n",
       ".c3seq tr:not(.num_row) td span {margin: 0 2px;}\n",
       ".c3seq tr:nth-child(even) {background: #f7f7f7;}\n",
       ".c3seq .num_row {background-color:rgba(161, 195, 209, 0.5) !important; border-top: solid 1px black; }\n",
       ".c3seq .label { font-size: 12pt ; text-align: right !important; color: black !important; padding: 0 4px; }\n",
       ".c3seq .A_protein{font-family: \"Lucida Console\",monospace !important; font-size: 12pt !important; color: #009999; }\n",
       ".c3seq .C_protein{font-family: \"Lucida Console\",monospace !important; font-size: 12pt !important; color: orange; }\n",
       ".c3seq .D_protein{font-family: \"Lucida Console\",monospace !important; font-size: 12pt !important; color: blue; }\n",
       ".c3seq .E_protein{font-family: \"Lucida Console\",monospace !important; font-size: 12pt !important; color: blue; }\n",
       ".c3seq .F_protein{font-family: \"Lucida Console\",monospace !important; font-size: 12pt !important; color: #ff6600; }\n",
       ".c3seq .G_protein{font-family: \"Lucida Console\",monospace !important; font-size: 12pt !important; color: #009999; }\n",
       ".c3seq .H_protein{font-family: \"Lucida Console\",monospace !important; font-size: 12pt !important; color: #FF0102; }\n",
       ".c3seq .I_protein{font-family: \"Lucida Console\",monospace !important; font-size: 12pt !important; color: #009999; }\n",
       ".c3seq .K_protein{font-family: \"Lucida Console\",monospace !important; font-size: 12pt !important; color: #FF0102; }\n",
       ".c3seq .L_protein{font-family: \"Lucida Console\",monospace !important; font-size: 12pt !important; color: #009999; }\n",
       ".c3seq .M_protein{font-family: \"Lucida Console\",monospace !important; font-size: 12pt !important; color: orange; }\n",
       ".c3seq .N_protein{font-family: \"Lucida Console\",monospace !important; font-size: 12pt !important; color: #993300; }\n",
       ".c3seq .P_protein{font-family: \"Lucida Console\",monospace !important; font-size: 12pt !important; color: #cc0099; }\n",
       ".c3seq .Q_protein{font-family: \"Lucida Console\",monospace !important; font-size: 12pt !important; color: #993300; }\n",
       ".c3seq .R_protein{font-family: \"Lucida Console\",monospace !important; font-size: 12pt !important; color: #FF0102; }\n",
       ".c3seq .S_protein{font-family: \"Lucida Console\",monospace !important; font-size: 12pt !important; color: #009900; }\n",
       ".c3seq .T_protein{font-family: \"Lucida Console\",monospace !important; font-size: 12pt !important; color: #009900; }\n",
       ".c3seq .U_protein{font-family: \"Lucida Console\",monospace !important; font-size: 12pt !important; color: gray; }\n",
       ".c3seq .V_protein{font-family: \"Lucida Console\",monospace !important; font-size: 12pt !important; color: #009999; }\n",
       ".c3seq .W_protein{font-family: \"Lucida Console\",monospace !important; font-size: 12pt !important; color: #ff6600; }\n",
       ".c3seq .Y_protein{font-family: \"Lucida Console\",monospace !important; font-size: 12pt !important; color: #ff6600; }\n",
       ".c3seq .terminal_ambig_protein{font-family: \"Lucida Console\",monospace !important; font-size: 12pt !important; color: gray; }\n",
       ".c3seq .ambig_protein{font-family: \"Lucida Console\",monospace !important; font-size: 12pt !important; color: gray; }\n",
       "</style>\n",
       "<div class=\"c3seq\">\n",
       "<table>\n",
       "<tr class=\"num_row\"><td></td><td><b>0</b></td></tr>\n",
       "<tr><td class=\"label\">my_gene</td><td><span class=\"M_protein\">M</span><span class=\"H_protein\">H</span><span class=\"W_protein\">W</span></td></tr>\n",
       "</table>\n",
       "<p><i>ProteinSequence, length=3</i></p>\n",
       "</div>"
      ],
      "text/plain": [
       "ProteinSequence(MHW)"
      ]
     },
     "execution_count": 15,
     "metadata": {},
     "output_type": "execute_result"
    }
   ],
   "source": [
    "pep = my_seq.get_translation()\n",
    "pep"
   ]
  },
  {
   "cell_type": "code",
   "execution_count": 16,
   "id": "716eb020",
   "metadata": {
    "execution": {
     "iopub.execute_input": "2023-07-17T11:21:31.064464Z",
     "iopub.status.busy": "2023-07-17T11:21:31.064406Z",
     "iopub.status.idle": "2023-07-17T11:21:31.065803Z",
     "shell.execute_reply": "2023-07-17T11:21:31.065616Z"
    }
   },
   "outputs": [],
   "source": [
    "from cogent3.core.alphabet import AlphabetError"
   ]
  },
  {
   "cell_type": "code",
   "execution_count": 17,
   "id": "25a8b88e",
   "metadata": {
    "execution": {
     "iopub.execute_input": "2023-07-17T11:21:31.066863Z",
     "iopub.status.busy": "2023-07-17T11:21:31.066790Z",
     "iopub.status.idle": "2023-07-17T11:21:31.068411Z",
     "shell.execute_reply": "2023-07-17T11:21:31.068181Z"
    }
   },
   "outputs": [],
   "source": [
    "from cogent3 import make_seq\n",
    "\n",
    "seq = make_seq(\"ATGTGATGGTAA\", name=\"s1\", moltype=\"dna\")"
   ]
  },
  {
   "cell_type": "code",
   "execution_count": 18,
   "id": "bf069732",
   "metadata": {
    "execution": {
     "iopub.execute_input": "2023-07-17T11:21:31.069367Z",
     "iopub.status.busy": "2023-07-17T11:21:31.069306Z",
     "iopub.status.idle": "2023-07-17T11:21:31.278509Z",
     "shell.execute_reply": "2023-07-17T11:21:31.278253Z"
    }
   },
   "outputs": [
    {
     "ename": "AlphabetError",
     "evalue": "unresolvable codon 'TGA' in s1",
     "output_type": "error",
     "traceback": [
      "\u001b[0;31m---------------------------------------------------------------------------\u001b[0m",
      "\u001b[0;31mAlphabetError\u001b[0m                             Traceback (most recent call last)",
      "File \u001b[0;32m~/miniconda3/envs/c3docs/lib/python3.11/site-packages/cogent3/core/sequence.py:1798\u001b[0m, in \u001b[0;36mNucleicAcidSequence.get_translation\u001b[0;34m(self, gc, incomplete_ok, include_stop, trim_stop)\u001b[0m\n\u001b[1;32m   1797\u001b[0m \u001b[38;5;28;01mtry\u001b[39;00m:\n\u001b[0;32m-> 1798\u001b[0m     resolved \u001b[38;5;241m=\u001b[39m \u001b[43mcodon_alphabet\u001b[49m\u001b[38;5;241;43m.\u001b[39;49m\u001b[43mresolve_ambiguity\u001b[49m\u001b[43m(\u001b[49m\u001b[43morig_codon\u001b[49m\u001b[43m)\u001b[49m\n\u001b[1;32m   1799\u001b[0m \u001b[38;5;28;01mexcept\u001b[39;00m AlphabetError:\n",
      "File \u001b[0;32m~/miniconda3/envs/c3docs/lib/python3.11/site-packages/cogent3/core/alphabet.py:617\u001b[0m, in \u001b[0;36mAlphabet.resolve_ambiguity\u001b[0;34m(self, ambig_motif)\u001b[0m\n\u001b[1;32m    616\u001b[0m \u001b[38;5;28;01mif\u001b[39;00m \u001b[38;5;129;01mnot\u001b[39;00m motif_set:\n\u001b[0;32m--> 617\u001b[0m     \u001b[38;5;28;01mraise\u001b[39;00m AlphabetError(ambig_motif)\n\u001b[1;32m    619\u001b[0m \u001b[38;5;28;01mreturn\u001b[39;00m \u001b[38;5;28mtuple\u001b[39m(motif_set)\n",
      "\u001b[0;31mAlphabetError\u001b[0m: TGA",
      "\nDuring handling of the above exception, another exception occurred:\n",
      "\u001b[0;31mAlphabetError\u001b[0m                             Traceback (most recent call last)",
      "Cell \u001b[0;32mIn[18], line 1\u001b[0m\n\u001b[0;32m----> 1\u001b[0m pep \u001b[38;5;241m=\u001b[39m \u001b[43mseq\u001b[49m\u001b[38;5;241;43m.\u001b[39;49m\u001b[43mget_translation\u001b[49m\u001b[43m(\u001b[49m\u001b[43m)\u001b[49m\n",
      "File \u001b[0;32m~/miniconda3/envs/c3docs/lib/python3.11/site-packages/cogent3/core/sequence.py:1801\u001b[0m, in \u001b[0;36mNucleicAcidSequence.get_translation\u001b[0;34m(self, gc, incomplete_ok, include_stop, trim_stop)\u001b[0m\n\u001b[1;32m   1799\u001b[0m \u001b[38;5;28;01mexcept\u001b[39;00m AlphabetError:\n\u001b[1;32m   1800\u001b[0m     \u001b[38;5;28;01mif\u001b[39;00m \u001b[38;5;129;01mnot\u001b[39;00m incomplete_ok \u001b[38;5;129;01mor\u001b[39;00m \u001b[38;5;124m\"\u001b[39m\u001b[38;5;124m-\u001b[39m\u001b[38;5;124m\"\u001b[39m \u001b[38;5;129;01mnot\u001b[39;00m \u001b[38;5;129;01min\u001b[39;00m orig_codon:\n\u001b[0;32m-> 1801\u001b[0m         \u001b[38;5;28;01mraise\u001b[39;00m AlphabetError(\n\u001b[1;32m   1802\u001b[0m             \u001b[38;5;124mf\u001b[39m\u001b[38;5;124m\"\u001b[39m\u001b[38;5;124munresolvable codon \u001b[39m\u001b[38;5;132;01m{\u001b[39;00morig_codon\u001b[38;5;132;01m!r}\u001b[39;00m\u001b[38;5;124m in \u001b[39m\u001b[38;5;132;01m{\u001b[39;00m\u001b[38;5;28mself\u001b[39m\u001b[38;5;241m.\u001b[39mname\u001b[38;5;132;01m}\u001b[39;00m\u001b[38;5;124m\"\u001b[39m\n\u001b[1;32m   1803\u001b[0m         )\n\u001b[1;32m   1804\u001b[0m     resolved \u001b[38;5;241m=\u001b[39m (orig_codon,)\n\u001b[1;32m   1805\u001b[0m trans \u001b[38;5;241m=\u001b[39m []\n",
      "\u001b[0;31mAlphabetError\u001b[0m: unresolvable codon 'TGA' in s1"
     ]
    }
   ],
   "source": [
    "pep = seq.get_translation()"
   ]
  },
  {
   "cell_type": "code",
   "execution_count": 19,
   "id": "09fa4e79",
   "metadata": {
    "execution": {
     "iopub.execute_input": "2023-07-17T11:21:31.279811Z",
     "iopub.status.busy": "2023-07-17T11:21:31.279731Z",
     "iopub.status.idle": "2023-07-17T11:21:31.282160Z",
     "shell.execute_reply": "2023-07-17T11:21:31.281956Z"
    }
   },
   "outputs": [
    {
     "data": {
      "text/html": [
       "<style>\n",
       ".c3seq table {margin: 10px 0;}\n",
       ".c3seq td { border: none !important; text-align: left !important; }\n",
       ".c3seq tr:not(.num_row) td span {margin: 0 2px;}\n",
       ".c3seq tr:nth-child(even) {background: #f7f7f7;}\n",
       ".c3seq .num_row {background-color:rgba(161, 195, 209, 0.5) !important; border-top: solid 1px black; }\n",
       ".c3seq .label { font-size: 12pt ; text-align: right !important; color: black !important; padding: 0 4px; }\n",
       ".c3seq .A_protein_with_stop{font-family: \"Lucida Console\",monospace !important; font-size: 12pt !important; color: #009999; }\n",
       ".c3seq .C_protein_with_stop{font-family: \"Lucida Console\",monospace !important; font-size: 12pt !important; color: orange; }\n",
       ".c3seq .D_protein_with_stop{font-family: \"Lucida Console\",monospace !important; font-size: 12pt !important; color: blue; }\n",
       ".c3seq .E_protein_with_stop{font-family: \"Lucida Console\",monospace !important; font-size: 12pt !important; color: blue; }\n",
       ".c3seq .F_protein_with_stop{font-family: \"Lucida Console\",monospace !important; font-size: 12pt !important; color: #ff6600; }\n",
       ".c3seq .G_protein_with_stop{font-family: \"Lucida Console\",monospace !important; font-size: 12pt !important; color: #009999; }\n",
       ".c3seq .H_protein_with_stop{font-family: \"Lucida Console\",monospace !important; font-size: 12pt !important; color: #FF0102; }\n",
       ".c3seq .I_protein_with_stop{font-family: \"Lucida Console\",monospace !important; font-size: 12pt !important; color: #009999; }\n",
       ".c3seq .K_protein_with_stop{font-family: \"Lucida Console\",monospace !important; font-size: 12pt !important; color: #FF0102; }\n",
       ".c3seq .L_protein_with_stop{font-family: \"Lucida Console\",monospace !important; font-size: 12pt !important; color: #009999; }\n",
       ".c3seq .M_protein_with_stop{font-family: \"Lucida Console\",monospace !important; font-size: 12pt !important; color: orange; }\n",
       ".c3seq .N_protein_with_stop{font-family: \"Lucida Console\",monospace !important; font-size: 12pt !important; color: #993300; }\n",
       ".c3seq .P_protein_with_stop{font-family: \"Lucida Console\",monospace !important; font-size: 12pt !important; color: #cc0099; }\n",
       ".c3seq .Q_protein_with_stop{font-family: \"Lucida Console\",monospace !important; font-size: 12pt !important; color: #993300; }\n",
       ".c3seq .R_protein_with_stop{font-family: \"Lucida Console\",monospace !important; font-size: 12pt !important; color: #FF0102; }\n",
       ".c3seq .S_protein_with_stop{font-family: \"Lucida Console\",monospace !important; font-size: 12pt !important; color: #009900; }\n",
       ".c3seq .T_protein_with_stop{font-family: \"Lucida Console\",monospace !important; font-size: 12pt !important; color: #009900; }\n",
       ".c3seq .U_protein_with_stop{font-family: \"Lucida Console\",monospace !important; font-size: 12pt !important; color: gray; }\n",
       ".c3seq .V_protein_with_stop{font-family: \"Lucida Console\",monospace !important; font-size: 12pt !important; color: #009999; }\n",
       ".c3seq .W_protein_with_stop{font-family: \"Lucida Console\",monospace !important; font-size: 12pt !important; color: #ff6600; }\n",
       ".c3seq .Y_protein_with_stop{font-family: \"Lucida Console\",monospace !important; font-size: 12pt !important; color: #ff6600; }\n",
       ".c3seq .*_protein_with_stop{font-family: \"Lucida Console\",monospace !important; font-size: 12pt !important; color: gray; }\n",
       ".c3seq .terminal_ambig_protein_with_stop{font-family: \"Lucida Console\",monospace !important; font-size: 12pt !important; color: gray; }\n",
       ".c3seq .ambig_protein_with_stop{font-family: \"Lucida Console\",monospace !important; font-size: 12pt !important; color: gray; }\n",
       "</style>\n",
       "<div class=\"c3seq\">\n",
       "<table>\n",
       "<tr class=\"num_row\"><td></td><td><b>0</b></td></tr>\n",
       "<tr><td class=\"label\">s1</td><td><span class=\"M_protein_with_stop\">M</span><span class=\"*_protein_with_stop\">*</span><span class=\"W_protein_with_stop\">W</span><span class=\"*_protein_with_stop\">*</span></td></tr>\n",
       "</table>\n",
       "<p><i>ProteinWithStopSequence, length=4</i></p>\n",
       "</div>"
      ],
      "text/plain": [
       "ProteinWithStopSequence(M*W*)"
      ]
     },
     "execution_count": 19,
     "metadata": {},
     "output_type": "execute_result"
    }
   ],
   "source": [
    "pep = seq.get_translation(include_stop=True)\n",
    "pep"
   ]
  }
 ],
 "metadata": {
  "kernelspec": {
   "display_name": "Python 3 (ipykernel)",
   "language": "python",
   "name": "python3"
  },
  "language_info": {
   "codemirror_mode": {
    "name": "ipython",
    "version": 3
   },
   "file_extension": ".py",
   "mimetype": "text/x-python",
   "name": "python",
   "nbconvert_exporter": "python",
   "pygments_lexer": "ipython3",
   "version": "3.11.4"
  }
 },
 "nbformat": 4,
 "nbformat_minor": 5
}