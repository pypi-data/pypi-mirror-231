{
 "cells": [
  {
   "cell_type": "code",
   "execution_count": 1,
   "id": "b8486129",
   "metadata": {
    "execution": {
     "iopub.execute_input": "2023-07-17T11:21:47.845362Z",
     "iopub.status.busy": "2023-07-17T11:21:47.845249Z",
     "iopub.status.idle": "2023-07-17T11:21:48.732899Z",
     "shell.execute_reply": "2023-07-17T11:21:48.732627Z"
    }
   },
   "outputs": [
    {
     "data": {
      "text/plain": [
       "2"
      ]
     },
     "execution_count": 1,
     "metadata": {},
     "output_type": "execute_result"
    }
   ],
   "source": [
    "from cogent3.util.union_dict import UnionDict\n",
    "\n",
    "data = UnionDict(a=2, b={\"c\": 24, \"d\": [25]})\n",
    "data.a"
   ]
  },
  {
   "cell_type": "code",
   "execution_count": 2,
   "id": "e9118d23",
   "metadata": {
    "execution": {
     "iopub.execute_input": "2023-07-17T11:21:48.734350Z",
     "iopub.status.busy": "2023-07-17T11:21:48.734219Z",
     "iopub.status.idle": "2023-07-17T11:21:48.736188Z",
     "shell.execute_reply": "2023-07-17T11:21:48.735974Z"
    }
   },
   "outputs": [
    {
     "data": {
      "text/plain": [
       "2"
      ]
     },
     "execution_count": 2,
     "metadata": {},
     "output_type": "execute_result"
    }
   ],
   "source": [
    "data[\"a\"]"
   ]
  },
  {
   "cell_type": "code",
   "execution_count": 3,
   "id": "ec39f62e",
   "metadata": {
    "execution": {
     "iopub.execute_input": "2023-07-17T11:21:48.737316Z",
     "iopub.status.busy": "2023-07-17T11:21:48.737235Z",
     "iopub.status.idle": "2023-07-17T11:21:48.739113Z",
     "shell.execute_reply": "2023-07-17T11:21:48.738883Z"
    }
   },
   "outputs": [
    {
     "data": {
      "text/plain": [
       "[25]"
      ]
     },
     "execution_count": 3,
     "metadata": {},
     "output_type": "execute_result"
    }
   ],
   "source": [
    "data.b.d"
   ]
  },
  {
   "cell_type": "code",
   "execution_count": 4,
   "id": "de4cfabc",
   "metadata": {
    "execution": {
     "iopub.execute_input": "2023-07-17T11:21:48.740291Z",
     "iopub.status.busy": "2023-07-17T11:21:48.740225Z",
     "iopub.status.idle": "2023-07-17T11:21:48.742267Z",
     "shell.execute_reply": "2023-07-17T11:21:48.742074Z"
    }
   },
   "outputs": [
    {
     "data": {
      "text/plain": [
       "{'c': 24, 'd': 25}"
      ]
     },
     "execution_count": 4,
     "metadata": {},
     "output_type": "execute_result"
    }
   ],
   "source": [
    "from cogent3.util.union_dict import UnionDict\n",
    "\n",
    "data = UnionDict(a=2, b={\"c\": 24, \"d\": [25]})\n",
    "data.b |= {\"d\": 25}\n",
    "data.b"
   ]
  },
  {
   "cell_type": "code",
   "execution_count": 5,
   "id": "b23b4d65",
   "metadata": {
    "execution": {
     "iopub.execute_input": "2023-07-17T11:21:48.743448Z",
     "iopub.status.busy": "2023-07-17T11:21:48.743368Z",
     "iopub.status.idle": "2023-07-17T11:21:48.744995Z",
     "shell.execute_reply": "2023-07-17T11:21:48.744740Z"
    }
   },
   "outputs": [],
   "source": [
    "data.b.union({\"d\": [25]})"
   ]
  },
  {
   "cell_type": "code",
   "execution_count": 6,
   "id": "84c7275b",
   "metadata": {
    "execution": {
     "iopub.execute_input": "2023-07-17T11:21:48.746140Z",
     "iopub.status.busy": "2023-07-17T11:21:48.746062Z",
     "iopub.status.idle": "2023-07-17T11:21:48.748133Z",
     "shell.execute_reply": "2023-07-17T11:21:48.747912Z"
    }
   },
   "outputs": [
    {
     "data": {
      "text/plain": [
       "{'c': 24, 'd': [25]}"
      ]
     },
     "execution_count": 6,
     "metadata": {},
     "output_type": "execute_result"
    }
   ],
   "source": [
    "data.b\n",
    "{\"c\": 24, \"d\": [25]}"
   ]
  },
  {
   "cell_type": "code",
   "execution_count": 7,
   "id": "4eaf5a54",
   "metadata": {
    "execution": {
     "iopub.execute_input": "2023-07-17T11:21:48.749254Z",
     "iopub.status.busy": "2023-07-17T11:21:48.749186Z",
     "iopub.status.idle": "2023-07-17T11:21:48.901344Z",
     "shell.execute_reply": "2023-07-17T11:21:48.901106Z"
    }
   },
   "outputs": [
    {
     "ename": "KeyError",
     "evalue": "'k'",
     "output_type": "error",
     "traceback": [
      "\u001b[0;31m---------------------------------------------------------------------------\u001b[0m",
      "\u001b[0;31mKeyError\u001b[0m                                  Traceback (most recent call last)",
      "Cell \u001b[0;32mIn[7], line 4\u001b[0m\n\u001b[1;32m      1\u001b[0m \u001b[38;5;28;01mfrom\u001b[39;00m \u001b[38;5;21;01mcogent3\u001b[39;00m\u001b[38;5;21;01m.\u001b[39;00m\u001b[38;5;21;01mutil\u001b[39;00m\u001b[38;5;21;01m.\u001b[39;00m\u001b[38;5;21;01munion_dict\u001b[39;00m \u001b[38;5;28;01mimport\u001b[39;00m UnionDict\n\u001b[1;32m      3\u001b[0m data \u001b[38;5;241m=\u001b[39m UnionDict(a\u001b[38;5;241m=\u001b[39m\u001b[38;5;241m2\u001b[39m, b\u001b[38;5;241m=\u001b[39m{\u001b[38;5;124m\"\u001b[39m\u001b[38;5;124mc\u001b[39m\u001b[38;5;124m\"\u001b[39m: \u001b[38;5;241m24\u001b[39m, \u001b[38;5;124m\"\u001b[39m\u001b[38;5;124md\u001b[39m\u001b[38;5;124m\"\u001b[39m: [\u001b[38;5;241m25\u001b[39m]})\n\u001b[0;32m----> 4\u001b[0m \u001b[43mdata\u001b[49m\u001b[43m[\u001b[49m\u001b[38;5;124;43m\"\u001b[39;49m\u001b[38;5;124;43mk\u001b[39;49m\u001b[38;5;124;43m\"\u001b[39;49m\u001b[43m]\u001b[49m\n",
      "\u001b[0;31mKeyError\u001b[0m: 'k'"
     ]
    }
   ],
   "source": [
    "from cogent3.util.union_dict import UnionDict\n",
    "\n",
    "data = UnionDict(a=2, b={\"c\": 24, \"d\": [25]})\n",
    "data[\"k\"]"
   ]
  },
  {
   "cell_type": "code",
   "execution_count": 8,
   "id": "469e4c47",
   "metadata": {
    "execution": {
     "iopub.execute_input": "2023-07-17T11:21:48.902605Z",
     "iopub.status.busy": "2023-07-17T11:21:48.902533Z",
     "iopub.status.idle": "2023-07-17T11:21:48.915534Z",
     "shell.execute_reply": "2023-07-17T11:21:48.915324Z"
    }
   },
   "outputs": [
    {
     "ename": "AttributeError",
     "evalue": "'k' not a key or attribute",
     "output_type": "error",
     "traceback": [
      "\u001b[0;31m---------------------------------------------------------------------------\u001b[0m",
      "\u001b[0;31mAttributeError\u001b[0m                            Traceback (most recent call last)",
      "File \u001b[0;32m~/miniconda3/envs/c3docs/lib/python3.11/site-packages/cogent3/util/union_dict.py:36\u001b[0m, in \u001b[0;36mUnionDict.__getattr__\u001b[0;34m(self, item)\u001b[0m\n\u001b[1;32m     35\u001b[0m \u001b[38;5;28;01mtry\u001b[39;00m:\n\u001b[0;32m---> 36\u001b[0m     \u001b[38;5;28;01mreturn\u001b[39;00m \u001b[38;5;28;43msuper\u001b[39;49m\u001b[43m(\u001b[49m\u001b[43m)\u001b[49m\u001b[38;5;241;43m.\u001b[39;49m\u001b[38;5;21;43m__getattr__\u001b[39;49m(item)\n\u001b[1;32m     37\u001b[0m \u001b[38;5;28;01mexcept\u001b[39;00m \u001b[38;5;167;01mAttributeError\u001b[39;00m:\n",
      "\u001b[0;31mAttributeError\u001b[0m: 'super' object has no attribute '__getattr__'",
      "\nDuring handling of the above exception, another exception occurred:\n",
      "\u001b[0;31mAttributeError\u001b[0m                            Traceback (most recent call last)",
      "Cell \u001b[0;32mIn[8], line 1\u001b[0m\n\u001b[0;32m----> 1\u001b[0m \u001b[43mdata\u001b[49m\u001b[38;5;241;43m.\u001b[39;49m\u001b[43mk\u001b[49m\n",
      "File \u001b[0;32m~/miniconda3/envs/c3docs/lib/python3.11/site-packages/cogent3/util/union_dict.py:38\u001b[0m, in \u001b[0;36mUnionDict.__getattr__\u001b[0;34m(self, item)\u001b[0m\n\u001b[1;32m     36\u001b[0m     \u001b[38;5;28;01mreturn\u001b[39;00m \u001b[38;5;28msuper\u001b[39m()\u001b[38;5;241m.\u001b[39m\u001b[38;5;21m__getattr__\u001b[39m(item)\n\u001b[1;32m     37\u001b[0m \u001b[38;5;28;01mexcept\u001b[39;00m \u001b[38;5;167;01mAttributeError\u001b[39;00m:\n\u001b[0;32m---> 38\u001b[0m     \u001b[38;5;28;01mraise\u001b[39;00m \u001b[38;5;167;01mAttributeError\u001b[39;00m(\u001b[38;5;124mf\u001b[39m\u001b[38;5;124m\"\u001b[39m\u001b[38;5;124m'\u001b[39m\u001b[38;5;132;01m{\u001b[39;00mitem\u001b[38;5;132;01m}\u001b[39;00m\u001b[38;5;124m'\u001b[39m\u001b[38;5;124m not a key or attribute\u001b[39m\u001b[38;5;124m\"\u001b[39m)\n",
      "\u001b[0;31mAttributeError\u001b[0m: 'k' not a key or attribute"
     ]
    }
   ],
   "source": [
    "data.k"
   ]
  }
 ],
 "metadata": {
  "kernelspec": {
   "display_name": "Python 3 (ipykernel)",
   "language": "python",
   "name": "python3"
  },
  "language_info": {
   "codemirror_mode": {
    "name": "ipython",
    "version": 3
   },
   "file_extension": ".py",
   "mimetype": "text/x-python",
   "name": "python",
   "nbconvert_exporter": "python",
   "pygments_lexer": "ipython3",
   "version": "3.11.4"
  }
 },
 "nbformat": 4,
 "nbformat_minor": 5
}