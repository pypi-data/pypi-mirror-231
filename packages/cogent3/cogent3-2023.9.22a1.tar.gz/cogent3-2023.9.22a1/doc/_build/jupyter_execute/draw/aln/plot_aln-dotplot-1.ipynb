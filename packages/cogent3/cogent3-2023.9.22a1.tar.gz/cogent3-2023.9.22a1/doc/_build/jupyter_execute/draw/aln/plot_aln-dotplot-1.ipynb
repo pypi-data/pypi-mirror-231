{
 "cells": [
  {
   "cell_type": "code",
   "execution_count": 1,
   "id": "a85d7dea",
   "metadata": {
    "execution": {
     "iopub.execute_input": "2023-07-17T11:21:59.800621Z",
     "iopub.status.busy": "2023-07-17T11:21:59.800251Z",
     "iopub.status.idle": "2023-07-17T11:21:59.822543Z",
     "shell.execute_reply": "2023-07-17T11:21:59.821981Z"
    }
   },
   "outputs": [],
   "source": [
    "import set_working_directory"
   ]
  },
  {
   "cell_type": "code",
   "execution_count": 2,
   "id": "1bfbd7f2",
   "metadata": {
    "execution": {
     "iopub.execute_input": "2023-07-17T11:21:59.825601Z",
     "iopub.status.busy": "2023-07-17T11:21:59.825383Z",
     "iopub.status.idle": "2023-07-17T11:22:00.799467Z",
     "shell.execute_reply": "2023-07-17T11:22:00.799201Z"
    }
   },
   "outputs": [
    {
     "data": {
      "text/html": [
       "<script type=\"text/javascript\">\n",
       "window.PlotlyConfig = {MathJaxConfig: 'local'};\n",
       "if (window.MathJax && window.MathJax.Hub && window.MathJax.Hub.Config) {window.MathJax.Hub.Config({SVG: {font: \"STIX-Web\"}});}\n",
       "if (typeof require !== 'undefined') {\n",
       "require.undef(\"plotly\");\n",
       "requirejs.config({\n",
       "    paths: {\n",
       "        'plotly': ['https://cdn.plot.ly/plotly-2.24.1.min']\n",
       "    }\n",
       "});\n",
       "require(['plotly'], function(Plotly) {\n",
       "    window._Plotly = Plotly;\n",
       "});\n",
       "}\n",
       "</script>\n"
      ]
     },
     "metadata": {},
     "output_type": "display_data"
    },
    {
     "data": {
      "application/vnd.plotly.v1+json": {
       "config": {
        "plotlyServerURL": "https://plot.ly"
       },
       "data": [
        {
         "line": {
          "color": "blue"
         },
         "mode": "lines",
         "name": "+ strand",
         "showlegend": true,
         "type": "scatter",
         "x": [
          0,
          643,
          null,
          879,
          2421,
          null,
          820,
          2421,
          null,
          759,
          2421,
          null,
          687,
          2421,
          null,
          647,
          2421,
          null,
          597,
          2421,
          null,
          293,
          315,
          null,
          87,
          109,
          null,
          95,
          115,
          null,
          1133,
          1153,
          null,
          259,
          290,
          null,
          497,
          528,
          null,
          1579,
          1600,
          null,
          1590,
          1611,
          null,
          148,
          173,
          null,
          471,
          496,
          null,
          323,
          352,
          null,
          1944,
          1967,
          null,
          259,
          280,
          null,
          1663,
          1684,
          null,
          260,
          284,
          null,
          288,
          311,
          null,
          1656,
          1679,
          null,
          329,
          357,
          null,
          679,
          705,
          null,
          435,
          463,
          null,
          472,
          495,
          null,
          1657,
          1680,
          null,
          579,
          639,
          null,
          578,
          636,
          null,
          577,
          634,
          null,
          576,
          631,
          null,
          576,
          629,
          null,
          576,
          626,
          null,
          576,
          623,
          null,
          576,
          620,
          null,
          576,
          617,
          null,
          576,
          614,
          null,
          576,
          611,
          null,
          576,
          608,
          null,
          582,
          647,
          null,
          584,
          650,
          null,
          586,
          653,
          null,
          588,
          656,
          null,
          591,
          660,
          null,
          594,
          666,
          null,
          603,
          671,
          null,
          606,
          668,
          null,
          617,
          666,
          null,
          619,
          666,
          null,
          612,
          666,
          null,
          613,
          666,
          null,
          610,
          667,
          null,
          624,
          666,
          null,
          624,
          666,
          null,
          627,
          666,
          null,
          630,
          666,
          null,
          633,
          666,
          null,
          636,
          666,
          null,
          985,
          1017,
          null,
          1397,
          1419,
          null,
          1464,
          1484,
          null,
          2132,
          2153,
          null,
          1793,
          1822,
          null,
          2039,
          2069
         ],
         "xaxis": "x",
         "y": [
          0,
          643,
          null,
          858,
          2400,
          null,
          799,
          2400,
          null,
          738,
          2400,
          null,
          666,
          2400,
          null,
          626,
          2400,
          null,
          576,
          2400,
          null,
          59,
          81,
          null,
          1659,
          1681,
          null,
          1112,
          1132,
          null,
          95,
          115,
          null,
          497,
          528,
          null,
          259,
          290,
          null,
          142,
          163,
          null,
          145,
          166,
          null,
          471,
          496,
          null,
          148,
          173,
          null,
          179,
          208,
          null,
          652,
          675,
          null,
          1642,
          1663,
          null,
          259,
          280,
          null,
          678,
          702,
          null,
          1635,
          1658,
          null,
          288,
          311,
          null,
          656,
          684,
          null,
          331,
          357,
          null,
          666,
          694,
          null,
          1636,
          1659,
          null,
          472,
          495,
          null,
          582,
          642,
          null,
          584,
          642,
          null,
          586,
          643,
          null,
          588,
          643,
          null,
          591,
          644,
          null,
          594,
          644,
          null,
          597,
          644,
          null,
          600,
          644,
          null,
          603,
          644,
          null,
          606,
          644,
          null,
          609,
          644,
          null,
          612,
          644,
          null,
          579,
          644,
          null,
          578,
          644,
          null,
          577,
          644,
          null,
          576,
          644,
          null,
          576,
          645,
          null,
          576,
          648,
          null,
          579,
          647,
          null,
          579,
          641,
          null,
          575,
          624,
          null,
          580,
          627,
          null,
          576,
          630,
          null,
          580,
          633,
          null,
          580,
          637,
          null,
          579,
          621,
          null,
          576,
          618,
          null,
          576,
          615,
          null,
          576,
          612,
          null,
          576,
          609,
          null,
          576,
          606,
          null,
          1123,
          1155,
          null,
          410,
          432,
          null,
          2112,
          2132,
          null,
          1442,
          1463,
          null,
          2018,
          2047,
          null,
          1772,
          1802
         ],
         "yaxis": "y"
        },
        {
         "line": {
          "color": "black",
          "dash": "dot"
         },
         "mode": "lines",
         "name": "Alignment",
         "showlegend": true,
         "type": "scatter",
         "x": [],
         "xaxis": "x",
         "y": [],
         "yaxis": "y"
        }
       ],
       "layout": {
        "autosize": false,
        "font": {
         "family": "Balto",
         "size": 14
        },
        "height": 496.9021065675341,
        "hovermode": "closest",
        "margin": {
         "b": 50,
         "l": 50,
         "pad": 4,
         "r": 50,
         "t": 50
        },
        "showlegend": true,
        "template": {
         "data": {
          "bar": [
           {
            "error_x": {
             "color": "#2a3f5f"
            },
            "error_y": {
             "color": "#2a3f5f"
            },
            "marker": {
             "line": {
              "color": "#E5ECF6",
              "width": 0.5
             },
             "pattern": {
              "fillmode": "overlay",
              "size": 10,
              "solidity": 0.2
             }
            },
            "type": "bar"
           }
          ],
          "barpolar": [
           {
            "marker": {
             "line": {
              "color": "#E5ECF6",
              "width": 0.5
             },
             "pattern": {
              "fillmode": "overlay",
              "size": 10,
              "solidity": 0.2
             }
            },
            "type": "barpolar"
           }
          ],
          "carpet": [
           {
            "aaxis": {
             "endlinecolor": "#2a3f5f",
             "gridcolor": "white",
             "linecolor": "white",
             "minorgridcolor": "white",
             "startlinecolor": "#2a3f5f"
            },
            "baxis": {
             "endlinecolor": "#2a3f5f",
             "gridcolor": "white",
             "linecolor": "white",
             "minorgridcolor": "white",
             "startlinecolor": "#2a3f5f"
            },
            "type": "carpet"
           }
          ],
          "choropleth": [
           {
            "colorbar": {
             "outlinewidth": 0,
             "ticks": ""
            },
            "type": "choropleth"
           }
          ],
          "contour": [
           {
            "colorbar": {
             "outlinewidth": 0,
             "ticks": ""
            },
            "colorscale": [
             [
              0.0,
              "#0d0887"
             ],
             [
              0.1111111111111111,
              "#46039f"
             ],
             [
              0.2222222222222222,
              "#7201a8"
             ],
             [
              0.3333333333333333,
              "#9c179e"
             ],
             [
              0.4444444444444444,
              "#bd3786"
             ],
             [
              0.5555555555555556,
              "#d8576b"
             ],
             [
              0.6666666666666666,
              "#ed7953"
             ],
             [
              0.7777777777777778,
              "#fb9f3a"
             ],
             [
              0.8888888888888888,
              "#fdca26"
             ],
             [
              1.0,
              "#f0f921"
             ]
            ],
            "type": "contour"
           }
          ],
          "contourcarpet": [
           {
            "colorbar": {
             "outlinewidth": 0,
             "ticks": ""
            },
            "type": "contourcarpet"
           }
          ],
          "heatmap": [
           {
            "colorbar": {
             "outlinewidth": 0,
             "ticks": ""
            },
            "colorscale": [
             [
              0.0,
              "#0d0887"
             ],
             [
              0.1111111111111111,
              "#46039f"
             ],
             [
              0.2222222222222222,
              "#7201a8"
             ],
             [
              0.3333333333333333,
              "#9c179e"
             ],
             [
              0.4444444444444444,
              "#bd3786"
             ],
             [
              0.5555555555555556,
              "#d8576b"
             ],
             [
              0.6666666666666666,
              "#ed7953"
             ],
             [
              0.7777777777777778,
              "#fb9f3a"
             ],
             [
              0.8888888888888888,
              "#fdca26"
             ],
             [
              1.0,
              "#f0f921"
             ]
            ],
            "type": "heatmap"
           }
          ],
          "heatmapgl": [
           {
            "colorbar": {
             "outlinewidth": 0,
             "ticks": ""
            },
            "colorscale": [
             [
              0.0,
              "#0d0887"
             ],
             [
              0.1111111111111111,
              "#46039f"
             ],
             [
              0.2222222222222222,
              "#7201a8"
             ],
             [
              0.3333333333333333,
              "#9c179e"
             ],
             [
              0.4444444444444444,
              "#bd3786"
             ],
             [
              0.5555555555555556,
              "#d8576b"
             ],
             [
              0.6666666666666666,
              "#ed7953"
             ],
             [
              0.7777777777777778,
              "#fb9f3a"
             ],
             [
              0.8888888888888888,
              "#fdca26"
             ],
             [
              1.0,
              "#f0f921"
             ]
            ],
            "type": "heatmapgl"
           }
          ],
          "histogram": [
           {
            "marker": {
             "pattern": {
              "fillmode": "overlay",
              "size": 10,
              "solidity": 0.2
             }
            },
            "type": "histogram"
           }
          ],
          "histogram2d": [
           {
            "colorbar": {
             "outlinewidth": 0,
             "ticks": ""
            },
            "colorscale": [
             [
              0.0,
              "#0d0887"
             ],
             [
              0.1111111111111111,
              "#46039f"
             ],
             [
              0.2222222222222222,
              "#7201a8"
             ],
             [
              0.3333333333333333,
              "#9c179e"
             ],
             [
              0.4444444444444444,
              "#bd3786"
             ],
             [
              0.5555555555555556,
              "#d8576b"
             ],
             [
              0.6666666666666666,
              "#ed7953"
             ],
             [
              0.7777777777777778,
              "#fb9f3a"
             ],
             [
              0.8888888888888888,
              "#fdca26"
             ],
             [
              1.0,
              "#f0f921"
             ]
            ],
            "type": "histogram2d"
           }
          ],
          "histogram2dcontour": [
           {
            "colorbar": {
             "outlinewidth": 0,
             "ticks": ""
            },
            "colorscale": [
             [
              0.0,
              "#0d0887"
             ],
             [
              0.1111111111111111,
              "#46039f"
             ],
             [
              0.2222222222222222,
              "#7201a8"
             ],
             [
              0.3333333333333333,
              "#9c179e"
             ],
             [
              0.4444444444444444,
              "#bd3786"
             ],
             [
              0.5555555555555556,
              "#d8576b"
             ],
             [
              0.6666666666666666,
              "#ed7953"
             ],
             [
              0.7777777777777778,
              "#fb9f3a"
             ],
             [
              0.8888888888888888,
              "#fdca26"
             ],
             [
              1.0,
              "#f0f921"
             ]
            ],
            "type": "histogram2dcontour"
           }
          ],
          "mesh3d": [
           {
            "colorbar": {
             "outlinewidth": 0,
             "ticks": ""
            },
            "type": "mesh3d"
           }
          ],
          "parcoords": [
           {
            "line": {
             "colorbar": {
              "outlinewidth": 0,
              "ticks": ""
             }
            },
            "type": "parcoords"
           }
          ],
          "pie": [
           {
            "automargin": true,
            "type": "pie"
           }
          ],
          "scatter": [
           {
            "fillpattern": {
             "fillmode": "overlay",
             "size": 10,
             "solidity": 0.2
            },
            "type": "scatter"
           }
          ],
          "scatter3d": [
           {
            "line": {
             "colorbar": {
              "outlinewidth": 0,
              "ticks": ""
             }
            },
            "marker": {
             "colorbar": {
              "outlinewidth": 0,
              "ticks": ""
             }
            },
            "type": "scatter3d"
           }
          ],
          "scattercarpet": [
           {
            "marker": {
             "colorbar": {
              "outlinewidth": 0,
              "ticks": ""
             }
            },
            "type": "scattercarpet"
           }
          ],
          "scattergeo": [
           {
            "marker": {
             "colorbar": {
              "outlinewidth": 0,
              "ticks": ""
             }
            },
            "type": "scattergeo"
           }
          ],
          "scattergl": [
           {
            "marker": {
             "colorbar": {
              "outlinewidth": 0,
              "ticks": ""
             }
            },
            "type": "scattergl"
           }
          ],
          "scattermapbox": [
           {
            "marker": {
             "colorbar": {
              "outlinewidth": 0,
              "ticks": ""
             }
            },
            "type": "scattermapbox"
           }
          ],
          "scatterpolar": [
           {
            "marker": {
             "colorbar": {
              "outlinewidth": 0,
              "ticks": ""
             }
            },
            "type": "scatterpolar"
           }
          ],
          "scatterpolargl": [
           {
            "marker": {
             "colorbar": {
              "outlinewidth": 0,
              "ticks": ""
             }
            },
            "type": "scatterpolargl"
           }
          ],
          "scatterternary": [
           {
            "marker": {
             "colorbar": {
              "outlinewidth": 0,
              "ticks": ""
             }
            },
            "type": "scatterternary"
           }
          ],
          "surface": [
           {
            "colorbar": {
             "outlinewidth": 0,
             "ticks": ""
            },
            "colorscale": [
             [
              0.0,
              "#0d0887"
             ],
             [
              0.1111111111111111,
              "#46039f"
             ],
             [
              0.2222222222222222,
              "#7201a8"
             ],
             [
              0.3333333333333333,
              "#9c179e"
             ],
             [
              0.4444444444444444,
              "#bd3786"
             ],
             [
              0.5555555555555556,
              "#d8576b"
             ],
             [
              0.6666666666666666,
              "#ed7953"
             ],
             [
              0.7777777777777778,
              "#fb9f3a"
             ],
             [
              0.8888888888888888,
              "#fdca26"
             ],
             [
              1.0,
              "#f0f921"
             ]
            ],
            "type": "surface"
           }
          ],
          "table": [
           {
            "cells": {
             "fill": {
              "color": "#EBF0F8"
             },
             "line": {
              "color": "white"
             }
            },
            "header": {
             "fill": {
              "color": "#C8D4E3"
             },
             "line": {
              "color": "white"
             }
            },
            "type": "table"
           }
          ]
         },
         "layout": {
          "annotationdefaults": {
           "arrowcolor": "#2a3f5f",
           "arrowhead": 0,
           "arrowwidth": 1
          },
          "autotypenumbers": "strict",
          "coloraxis": {
           "colorbar": {
            "outlinewidth": 0,
            "ticks": ""
           }
          },
          "colorscale": {
           "diverging": [
            [
             0,
             "#8e0152"
            ],
            [
             0.1,
             "#c51b7d"
            ],
            [
             0.2,
             "#de77ae"
            ],
            [
             0.3,
             "#f1b6da"
            ],
            [
             0.4,
             "#fde0ef"
            ],
            [
             0.5,
             "#f7f7f7"
            ],
            [
             0.6,
             "#e6f5d0"
            ],
            [
             0.7,
             "#b8e186"
            ],
            [
             0.8,
             "#7fbc41"
            ],
            [
             0.9,
             "#4d9221"
            ],
            [
             1,
             "#276419"
            ]
           ],
           "sequential": [
            [
             0.0,
             "#0d0887"
            ],
            [
             0.1111111111111111,
             "#46039f"
            ],
            [
             0.2222222222222222,
             "#7201a8"
            ],
            [
             0.3333333333333333,
             "#9c179e"
            ],
            [
             0.4444444444444444,
             "#bd3786"
            ],
            [
             0.5555555555555556,
             "#d8576b"
            ],
            [
             0.6666666666666666,
             "#ed7953"
            ],
            [
             0.7777777777777778,
             "#fb9f3a"
            ],
            [
             0.8888888888888888,
             "#fdca26"
            ],
            [
             1.0,
             "#f0f921"
            ]
           ],
           "sequentialminus": [
            [
             0.0,
             "#0d0887"
            ],
            [
             0.1111111111111111,
             "#46039f"
            ],
            [
             0.2222222222222222,
             "#7201a8"
            ],
            [
             0.3333333333333333,
             "#9c179e"
            ],
            [
             0.4444444444444444,
             "#bd3786"
            ],
            [
             0.5555555555555556,
             "#d8576b"
            ],
            [
             0.6666666666666666,
             "#ed7953"
            ],
            [
             0.7777777777777778,
             "#fb9f3a"
            ],
            [
             0.8888888888888888,
             "#fdca26"
            ],
            [
             1.0,
             "#f0f921"
            ]
           ]
          },
          "colorway": [
           "#636efa",
           "#EF553B",
           "#00cc96",
           "#ab63fa",
           "#FFA15A",
           "#19d3f3",
           "#FF6692",
           "#B6E880",
           "#FF97FF",
           "#FECB52"
          ],
          "font": {
           "color": "#2a3f5f"
          },
          "geo": {
           "bgcolor": "white",
           "lakecolor": "white",
           "landcolor": "#E5ECF6",
           "showlakes": true,
           "showland": true,
           "subunitcolor": "white"
          },
          "hoverlabel": {
           "align": "left"
          },
          "hovermode": "closest",
          "mapbox": {
           "style": "light"
          },
          "paper_bgcolor": "white",
          "plot_bgcolor": "#E5ECF6",
          "polar": {
           "angularaxis": {
            "gridcolor": "white",
            "linecolor": "white",
            "ticks": ""
           },
           "bgcolor": "#E5ECF6",
           "radialaxis": {
            "gridcolor": "white",
            "linecolor": "white",
            "ticks": ""
           }
          },
          "scene": {
           "xaxis": {
            "backgroundcolor": "#E5ECF6",
            "gridcolor": "white",
            "gridwidth": 2,
            "linecolor": "white",
            "showbackground": true,
            "ticks": "",
            "zerolinecolor": "white"
           },
           "yaxis": {
            "backgroundcolor": "#E5ECF6",
            "gridcolor": "white",
            "gridwidth": 2,
            "linecolor": "white",
            "showbackground": true,
            "ticks": "",
            "zerolinecolor": "white"
           },
           "zaxis": {
            "backgroundcolor": "#E5ECF6",
            "gridcolor": "white",
            "gridwidth": 2,
            "linecolor": "white",
            "showbackground": true,
            "ticks": "",
            "zerolinecolor": "white"
           }
          },
          "shapedefaults": {
           "line": {
            "color": "#2a3f5f"
           }
          },
          "ternary": {
           "aaxis": {
            "gridcolor": "white",
            "linecolor": "white",
            "ticks": ""
           },
           "baxis": {
            "gridcolor": "white",
            "linecolor": "white",
            "ticks": ""
           },
           "bgcolor": "#E5ECF6",
           "caxis": {
            "gridcolor": "white",
            "linecolor": "white",
            "ticks": ""
           }
          },
          "title": {
           "x": 0.05
          },
          "xaxis": {
           "automargin": true,
           "gridcolor": "white",
           "linecolor": "white",
           "ticks": "",
           "title": {
            "standoff": 15
           },
           "zerolinecolor": "white",
           "zerolinewidth": 2
          },
          "yaxis": {
           "automargin": true,
           "gridcolor": "white",
           "linecolor": "white",
           "ticks": "",
           "title": {
            "standoff": 15
           },
           "zerolinecolor": "white",
           "zerolinewidth": 2
          }
         }
        },
        "title": {
         "text": "Window=20, Matched ≥ 14/20 & Gap ≤ 0"
        },
        "width": 500,
        "xaxis": {
         "mirror": true,
         "range": [
          0,
          2421
         ],
         "showgrid": false,
         "showline": true,
         "title": {
          "text": "Chimp"
         },
         "visible": true
        },
        "yaxis": {
         "mirror": true,
         "range": [
          0,
          2406
         ],
         "showgrid": false,
         "showline": true,
         "title": {
          "text": "Macaque"
         },
         "visible": true
        }
       }
      },
      "text/html": [
       "<div>                            <div id=\"f259ab43-70b9-43bc-a21c-152b961dc8ee\" class=\"plotly-graph-div\" style=\"height:496.9021065675341px; width:500px;\"></div>            <script type=\"text/javascript\">                require([\"plotly\"], function(Plotly) {                    window.PLOTLYENV=window.PLOTLYENV || {};                                    if (document.getElementById(\"f259ab43-70b9-43bc-a21c-152b961dc8ee\")) {                    Plotly.newPlot(                        \"f259ab43-70b9-43bc-a21c-152b961dc8ee\",                        [{\"line\":{\"color\":\"blue\"},\"mode\":\"lines\",\"name\":\"+ strand\",\"showlegend\":true,\"x\":[0,643,null,879,2421,null,820,2421,null,759,2421,null,687,2421,null,647,2421,null,597,2421,null,293,315,null,87,109,null,95,115,null,1133,1153,null,259,290,null,497,528,null,1579,1600,null,1590,1611,null,148,173,null,471,496,null,323,352,null,1944,1967,null,259,280,null,1663,1684,null,260,284,null,288,311,null,1656,1679,null,329,357,null,679,705,null,435,463,null,472,495,null,1657,1680,null,579,639,null,578,636,null,577,634,null,576,631,null,576,629,null,576,626,null,576,623,null,576,620,null,576,617,null,576,614,null,576,611,null,576,608,null,582,647,null,584,650,null,586,653,null,588,656,null,591,660,null,594,666,null,603,671,null,606,668,null,617,666,null,619,666,null,612,666,null,613,666,null,610,667,null,624,666,null,624,666,null,627,666,null,630,666,null,633,666,null,636,666,null,985,1017,null,1397,1419,null,1464,1484,null,2132,2153,null,1793,1822,null,2039,2069],\"xaxis\":\"x\",\"y\":[0,643,null,858,2400,null,799,2400,null,738,2400,null,666,2400,null,626,2400,null,576,2400,null,59,81,null,1659,1681,null,1112,1132,null,95,115,null,497,528,null,259,290,null,142,163,null,145,166,null,471,496,null,148,173,null,179,208,null,652,675,null,1642,1663,null,259,280,null,678,702,null,1635,1658,null,288,311,null,656,684,null,331,357,null,666,694,null,1636,1659,null,472,495,null,582,642,null,584,642,null,586,643,null,588,643,null,591,644,null,594,644,null,597,644,null,600,644,null,603,644,null,606,644,null,609,644,null,612,644,null,579,644,null,578,644,null,577,644,null,576,644,null,576,645,null,576,648,null,579,647,null,579,641,null,575,624,null,580,627,null,576,630,null,580,633,null,580,637,null,579,621,null,576,618,null,576,615,null,576,612,null,576,609,null,576,606,null,1123,1155,null,410,432,null,2112,2132,null,1442,1463,null,2018,2047,null,1772,1802],\"yaxis\":\"y\",\"type\":\"scatter\"},{\"line\":{\"color\":\"black\",\"dash\":\"dot\"},\"mode\":\"lines\",\"name\":\"Alignment\",\"showlegend\":true,\"x\":[],\"xaxis\":\"x\",\"y\":[],\"yaxis\":\"y\",\"type\":\"scatter\"}],                        {\"autosize\":false,\"font\":{\"family\":\"Balto\",\"size\":14},\"height\":496.9021065675341,\"hovermode\":\"closest\",\"margin\":{\"b\":50,\"l\":50,\"pad\":4,\"r\":50,\"t\":50},\"showlegend\":true,\"title\":{\"text\":\"Window=20, Matched \\u2265 14\\u002f20 & Gap \\u2264 0\"},\"width\":500,\"xaxis\":{\"mirror\":true,\"range\":[0,2421],\"showgrid\":false,\"showline\":true,\"title\":{\"text\":\"Chimp\"},\"visible\":true},\"yaxis\":{\"mirror\":true,\"range\":[0,2406],\"showgrid\":false,\"showline\":true,\"title\":{\"text\":\"Macaque\"},\"visible\":true},\"template\":{\"data\":{\"histogram2dcontour\":[{\"type\":\"histogram2dcontour\",\"colorbar\":{\"outlinewidth\":0,\"ticks\":\"\"},\"colorscale\":[[0.0,\"#0d0887\"],[0.1111111111111111,\"#46039f\"],[0.2222222222222222,\"#7201a8\"],[0.3333333333333333,\"#9c179e\"],[0.4444444444444444,\"#bd3786\"],[0.5555555555555556,\"#d8576b\"],[0.6666666666666666,\"#ed7953\"],[0.7777777777777778,\"#fb9f3a\"],[0.8888888888888888,\"#fdca26\"],[1.0,\"#f0f921\"]]}],\"choropleth\":[{\"type\":\"choropleth\",\"colorbar\":{\"outlinewidth\":0,\"ticks\":\"\"}}],\"histogram2d\":[{\"type\":\"histogram2d\",\"colorbar\":{\"outlinewidth\":0,\"ticks\":\"\"},\"colorscale\":[[0.0,\"#0d0887\"],[0.1111111111111111,\"#46039f\"],[0.2222222222222222,\"#7201a8\"],[0.3333333333333333,\"#9c179e\"],[0.4444444444444444,\"#bd3786\"],[0.5555555555555556,\"#d8576b\"],[0.6666666666666666,\"#ed7953\"],[0.7777777777777778,\"#fb9f3a\"],[0.8888888888888888,\"#fdca26\"],[1.0,\"#f0f921\"]]}],\"heatmap\":[{\"type\":\"heatmap\",\"colorbar\":{\"outlinewidth\":0,\"ticks\":\"\"},\"colorscale\":[[0.0,\"#0d0887\"],[0.1111111111111111,\"#46039f\"],[0.2222222222222222,\"#7201a8\"],[0.3333333333333333,\"#9c179e\"],[0.4444444444444444,\"#bd3786\"],[0.5555555555555556,\"#d8576b\"],[0.6666666666666666,\"#ed7953\"],[0.7777777777777778,\"#fb9f3a\"],[0.8888888888888888,\"#fdca26\"],[1.0,\"#f0f921\"]]}],\"heatmapgl\":[{\"type\":\"heatmapgl\",\"colorbar\":{\"outlinewidth\":0,\"ticks\":\"\"},\"colorscale\":[[0.0,\"#0d0887\"],[0.1111111111111111,\"#46039f\"],[0.2222222222222222,\"#7201a8\"],[0.3333333333333333,\"#9c179e\"],[0.4444444444444444,\"#bd3786\"],[0.5555555555555556,\"#d8576b\"],[0.6666666666666666,\"#ed7953\"],[0.7777777777777778,\"#fb9f3a\"],[0.8888888888888888,\"#fdca26\"],[1.0,\"#f0f921\"]]}],\"contourcarpet\":[{\"type\":\"contourcarpet\",\"colorbar\":{\"outlinewidth\":0,\"ticks\":\"\"}}],\"contour\":[{\"type\":\"contour\",\"colorbar\":{\"outlinewidth\":0,\"ticks\":\"\"},\"colorscale\":[[0.0,\"#0d0887\"],[0.1111111111111111,\"#46039f\"],[0.2222222222222222,\"#7201a8\"],[0.3333333333333333,\"#9c179e\"],[0.4444444444444444,\"#bd3786\"],[0.5555555555555556,\"#d8576b\"],[0.6666666666666666,\"#ed7953\"],[0.7777777777777778,\"#fb9f3a\"],[0.8888888888888888,\"#fdca26\"],[1.0,\"#f0f921\"]]}],\"surface\":[{\"type\":\"surface\",\"colorbar\":{\"outlinewidth\":0,\"ticks\":\"\"},\"colorscale\":[[0.0,\"#0d0887\"],[0.1111111111111111,\"#46039f\"],[0.2222222222222222,\"#7201a8\"],[0.3333333333333333,\"#9c179e\"],[0.4444444444444444,\"#bd3786\"],[0.5555555555555556,\"#d8576b\"],[0.6666666666666666,\"#ed7953\"],[0.7777777777777778,\"#fb9f3a\"],[0.8888888888888888,\"#fdca26\"],[1.0,\"#f0f921\"]]}],\"mesh3d\":[{\"type\":\"mesh3d\",\"colorbar\":{\"outlinewidth\":0,\"ticks\":\"\"}}],\"scatter\":[{\"fillpattern\":{\"fillmode\":\"overlay\",\"size\":10,\"solidity\":0.2},\"type\":\"scatter\"}],\"parcoords\":[{\"type\":\"parcoords\",\"line\":{\"colorbar\":{\"outlinewidth\":0,\"ticks\":\"\"}}}],\"scatterpolargl\":[{\"type\":\"scatterpolargl\",\"marker\":{\"colorbar\":{\"outlinewidth\":0,\"ticks\":\"\"}}}],\"bar\":[{\"error_x\":{\"color\":\"#2a3f5f\"},\"error_y\":{\"color\":\"#2a3f5f\"},\"marker\":{\"line\":{\"color\":\"#E5ECF6\",\"width\":0.5},\"pattern\":{\"fillmode\":\"overlay\",\"size\":10,\"solidity\":0.2}},\"type\":\"bar\"}],\"scattergeo\":[{\"type\":\"scattergeo\",\"marker\":{\"colorbar\":{\"outlinewidth\":0,\"ticks\":\"\"}}}],\"scatterpolar\":[{\"type\":\"scatterpolar\",\"marker\":{\"colorbar\":{\"outlinewidth\":0,\"ticks\":\"\"}}}],\"histogram\":[{\"marker\":{\"pattern\":{\"fillmode\":\"overlay\",\"size\":10,\"solidity\":0.2}},\"type\":\"histogram\"}],\"scattergl\":[{\"type\":\"scattergl\",\"marker\":{\"colorbar\":{\"outlinewidth\":0,\"ticks\":\"\"}}}],\"scatter3d\":[{\"type\":\"scatter3d\",\"line\":{\"colorbar\":{\"outlinewidth\":0,\"ticks\":\"\"}},\"marker\":{\"colorbar\":{\"outlinewidth\":0,\"ticks\":\"\"}}}],\"scattermapbox\":[{\"type\":\"scattermapbox\",\"marker\":{\"colorbar\":{\"outlinewidth\":0,\"ticks\":\"\"}}}],\"scatterternary\":[{\"type\":\"scatterternary\",\"marker\":{\"colorbar\":{\"outlinewidth\":0,\"ticks\":\"\"}}}],\"scattercarpet\":[{\"type\":\"scattercarpet\",\"marker\":{\"colorbar\":{\"outlinewidth\":0,\"ticks\":\"\"}}}],\"carpet\":[{\"aaxis\":{\"endlinecolor\":\"#2a3f5f\",\"gridcolor\":\"white\",\"linecolor\":\"white\",\"minorgridcolor\":\"white\",\"startlinecolor\":\"#2a3f5f\"},\"baxis\":{\"endlinecolor\":\"#2a3f5f\",\"gridcolor\":\"white\",\"linecolor\":\"white\",\"minorgridcolor\":\"white\",\"startlinecolor\":\"#2a3f5f\"},\"type\":\"carpet\"}],\"table\":[{\"cells\":{\"fill\":{\"color\":\"#EBF0F8\"},\"line\":{\"color\":\"white\"}},\"header\":{\"fill\":{\"color\":\"#C8D4E3\"},\"line\":{\"color\":\"white\"}},\"type\":\"table\"}],\"barpolar\":[{\"marker\":{\"line\":{\"color\":\"#E5ECF6\",\"width\":0.5},\"pattern\":{\"fillmode\":\"overlay\",\"size\":10,\"solidity\":0.2}},\"type\":\"barpolar\"}],\"pie\":[{\"automargin\":true,\"type\":\"pie\"}]},\"layout\":{\"autotypenumbers\":\"strict\",\"colorway\":[\"#636efa\",\"#EF553B\",\"#00cc96\",\"#ab63fa\",\"#FFA15A\",\"#19d3f3\",\"#FF6692\",\"#B6E880\",\"#FF97FF\",\"#FECB52\"],\"font\":{\"color\":\"#2a3f5f\"},\"hovermode\":\"closest\",\"hoverlabel\":{\"align\":\"left\"},\"paper_bgcolor\":\"white\",\"plot_bgcolor\":\"#E5ECF6\",\"polar\":{\"bgcolor\":\"#E5ECF6\",\"angularaxis\":{\"gridcolor\":\"white\",\"linecolor\":\"white\",\"ticks\":\"\"},\"radialaxis\":{\"gridcolor\":\"white\",\"linecolor\":\"white\",\"ticks\":\"\"}},\"ternary\":{\"bgcolor\":\"#E5ECF6\",\"aaxis\":{\"gridcolor\":\"white\",\"linecolor\":\"white\",\"ticks\":\"\"},\"baxis\":{\"gridcolor\":\"white\",\"linecolor\":\"white\",\"ticks\":\"\"},\"caxis\":{\"gridcolor\":\"white\",\"linecolor\":\"white\",\"ticks\":\"\"}},\"coloraxis\":{\"colorbar\":{\"outlinewidth\":0,\"ticks\":\"\"}},\"colorscale\":{\"sequential\":[[0.0,\"#0d0887\"],[0.1111111111111111,\"#46039f\"],[0.2222222222222222,\"#7201a8\"],[0.3333333333333333,\"#9c179e\"],[0.4444444444444444,\"#bd3786\"],[0.5555555555555556,\"#d8576b\"],[0.6666666666666666,\"#ed7953\"],[0.7777777777777778,\"#fb9f3a\"],[0.8888888888888888,\"#fdca26\"],[1.0,\"#f0f921\"]],\"sequentialminus\":[[0.0,\"#0d0887\"],[0.1111111111111111,\"#46039f\"],[0.2222222222222222,\"#7201a8\"],[0.3333333333333333,\"#9c179e\"],[0.4444444444444444,\"#bd3786\"],[0.5555555555555556,\"#d8576b\"],[0.6666666666666666,\"#ed7953\"],[0.7777777777777778,\"#fb9f3a\"],[0.8888888888888888,\"#fdca26\"],[1.0,\"#f0f921\"]],\"diverging\":[[0,\"#8e0152\"],[0.1,\"#c51b7d\"],[0.2,\"#de77ae\"],[0.3,\"#f1b6da\"],[0.4,\"#fde0ef\"],[0.5,\"#f7f7f7\"],[0.6,\"#e6f5d0\"],[0.7,\"#b8e186\"],[0.8,\"#7fbc41\"],[0.9,\"#4d9221\"],[1,\"#276419\"]]},\"xaxis\":{\"gridcolor\":\"white\",\"linecolor\":\"white\",\"ticks\":\"\",\"title\":{\"standoff\":15},\"zerolinecolor\":\"white\",\"automargin\":true,\"zerolinewidth\":2},\"yaxis\":{\"gridcolor\":\"white\",\"linecolor\":\"white\",\"ticks\":\"\",\"title\":{\"standoff\":15},\"zerolinecolor\":\"white\",\"automargin\":true,\"zerolinewidth\":2},\"scene\":{\"xaxis\":{\"backgroundcolor\":\"#E5ECF6\",\"gridcolor\":\"white\",\"linecolor\":\"white\",\"showbackground\":true,\"ticks\":\"\",\"zerolinecolor\":\"white\",\"gridwidth\":2},\"yaxis\":{\"backgroundcolor\":\"#E5ECF6\",\"gridcolor\":\"white\",\"linecolor\":\"white\",\"showbackground\":true,\"ticks\":\"\",\"zerolinecolor\":\"white\",\"gridwidth\":2},\"zaxis\":{\"backgroundcolor\":\"#E5ECF6\",\"gridcolor\":\"white\",\"linecolor\":\"white\",\"showbackground\":true,\"ticks\":\"\",\"zerolinecolor\":\"white\",\"gridwidth\":2}},\"shapedefaults\":{\"line\":{\"color\":\"#2a3f5f\"}},\"annotationdefaults\":{\"arrowcolor\":\"#2a3f5f\",\"arrowhead\":0,\"arrowwidth\":1},\"geo\":{\"bgcolor\":\"white\",\"landcolor\":\"#E5ECF6\",\"subunitcolor\":\"white\",\"showland\":true,\"showlakes\":true,\"lakecolor\":\"white\"},\"title\":{\"x\":0.05},\"mapbox\":{\"style\":\"light\"}}}},                        {\"responsive\": true}                    ).then(function(){\n",
       "\n",
       "var gd = document.getElementById('f259ab43-70b9-43bc-a21c-152b961dc8ee');\n",
       "var x = new MutationObserver(function (mutations, observer) {{\n",
       "        var display = window.getComputedStyle(gd).display;\n",
       "        if (!display || display === 'none') {{\n",
       "            console.log([gd, 'removed!']);\n",
       "            Plotly.purge(gd);\n",
       "            observer.disconnect();\n",
       "        }}\n",
       "}});\n",
       "\n",
       "// Listen for the removal of the full notebook cells\n",
       "var notebookContainer = gd.closest('#notebook-container');\n",
       "if (notebookContainer) {{\n",
       "    x.observe(notebookContainer, {childList: true});\n",
       "}}\n",
       "\n",
       "// Listen for the clearing of the current output cell\n",
       "var outputEl = gd.closest('.output');\n",
       "if (outputEl) {{\n",
       "    x.observe(outputEl, {childList: true});\n",
       "}}\n",
       "\n",
       "                        })                };                });            </script>        </div>"
      ]
     },
     "metadata": {},
     "output_type": "display_data"
    }
   ],
   "source": [
    "import os\n",
    "\n",
    "from cogent3 import load_unaligned_seqs\n",
    "\n",
    "seqs = load_unaligned_seqs(\"data/SCA1-cds.fasta\", moltype=\"dna\")\n",
    "draw = seqs.dotplot()\n",
    "draw.show()"
   ]
  },
  {
   "cell_type": "code",
   "execution_count": 3,
   "id": "ff092411",
   "metadata": {
    "execution": {
     "iopub.execute_input": "2023-07-17T11:22:00.800809Z",
     "iopub.status.busy": "2023-07-17T11:22:00.800721Z",
     "iopub.status.idle": "2023-07-17T11:22:01.162053Z",
     "shell.execute_reply": "2023-07-17T11:22:01.161469Z"
    }
   },
   "outputs": [],
   "source": [
    "outpath = set_working_directory.get_thumbnail_dir() / \"plot_aln-dotplot-1.png\"\n",
    "\n",
    "draw.write(outpath)"
   ]
  },
  {
   "cell_type": "code",
   "execution_count": 4,
   "id": "38abed68",
   "metadata": {
    "execution": {
     "iopub.execute_input": "2023-07-17T11:22:01.163858Z",
     "iopub.status.busy": "2023-07-17T11:22:01.163744Z",
     "iopub.status.idle": "2023-07-17T11:22:01.177960Z",
     "shell.execute_reply": "2023-07-17T11:22:01.177632Z"
    }
   },
   "outputs": [
    {
     "data": {
      "text/html": [
       "<script type=\"text/javascript\">\n",
       "window.PlotlyConfig = {MathJaxConfig: 'local'};\n",
       "if (window.MathJax && window.MathJax.Hub && window.MathJax.Hub.Config) {window.MathJax.Hub.Config({SVG: {font: \"STIX-Web\"}});}\n",
       "if (typeof require !== 'undefined') {\n",
       "require.undef(\"plotly\");\n",
       "requirejs.config({\n",
       "    paths: {\n",
       "        'plotly': ['https://cdn.plot.ly/plotly-2.24.1.min']\n",
       "    }\n",
       "});\n",
       "require(['plotly'], function(Plotly) {\n",
       "    window._Plotly = Plotly;\n",
       "});\n",
       "}\n",
       "</script>\n"
      ]
     },
     "metadata": {},
     "output_type": "display_data"
    },
    {
     "data": {
      "application/vnd.plotly.v1+json": {
       "config": {
        "plotlyServerURL": "https://plot.ly"
       },
       "data": [
        {
         "line": {
          "color": "blue"
         },
         "mode": "lines",
         "name": "+ strand",
         "showlegend": true,
         "type": "scatter",
         "x": [
          0,
          47,
          null,
          51,
          72,
          null,
          78,
          90,
          null,
          96,
          114,
          null,
          117,
          125,
          null,
          132,
          140,
          null,
          186,
          194,
          null,
          206,
          216,
          null,
          593,
          602,
          null,
          714,
          722,
          null,
          11,
          20,
          null,
          1582,
          1591,
          null,
          1581,
          1604,
          null,
          858,
          866,
          null,
          1704,
          1712,
          null,
          1649,
          1664,
          null,
          1744,
          1760,
          null,
          665,
          674,
          null,
          1394,
          1421,
          null,
          1437,
          1454,
          null,
          724,
          741,
          null,
          747,
          755,
          null,
          801,
          812,
          null,
          819,
          833,
          null,
          1299,
          1319,
          null,
          840,
          854,
          null,
          892,
          902,
          null,
          927,
          936,
          null,
          940,
          950,
          null,
          957,
          965,
          null,
          966,
          974,
          null,
          978,
          989,
          null,
          1032,
          1041,
          null,
          1068,
          1079,
          null,
          1080,
          1094,
          null,
          1905,
          1919,
          null,
          1102,
          1122,
          null,
          1128,
          1136,
          null,
          1140,
          1151,
          null,
          1179,
          1189,
          null,
          1212,
          1220,
          null,
          1347,
          1364,
          null,
          1224,
          1232,
          null,
          1242,
          1250,
          null,
          1252,
          1262,
          null,
          1287,
          1319,
          null,
          1320,
          1328,
          null,
          1329,
          1340,
          null,
          1344,
          1364,
          null,
          1368,
          1376,
          null,
          1377,
          1421,
          null,
          1461,
          1481,
          null,
          1489,
          1499,
          null,
          1506,
          1515,
          null,
          1527,
          1535,
          null,
          1536,
          1553,
          null,
          1554,
          1565,
          null,
          1566,
          1580,
          null,
          1611,
          1625,
          null,
          1626,
          1664,
          null,
          1665,
          1682,
          null,
          1719,
          1743,
          null,
          1788,
          1811,
          null,
          1761,
          1772,
          null,
          1824,
          1838,
          null,
          1875,
          1892,
          null,
          12,
          21,
          null,
          1583,
          1591,
          null,
          2270,
          2278,
          null,
          17,
          25,
          null,
          1812,
          1820,
          null,
          304,
          312,
          null,
          1707,
          1716,
          null,
          36,
          44,
          null,
          394,
          402,
          null,
          387,
          410,
          null,
          486,
          506,
          null,
          331,
          347,
          null,
          225,
          233,
          null,
          247,
          257,
          null,
          258,
          266,
          null,
          507,
          527,
          null,
          276,
          284,
          null,
          299,
          308,
          null,
          351,
          362,
          null,
          375,
          410,
          null,
          435,
          444,
          null,
          462,
          476,
          null,
          528,
          536,
          null,
          537,
          567,
          null,
          596,
          605,
          null,
          1580,
          1588,
          null,
          1448,
          1456,
          null,
          261,
          269,
          null,
          717,
          726,
          null,
          70,
          78,
          null,
          77,
          85,
          null,
          93,
          101,
          null,
          94,
          103,
          null,
          1151,
          1160,
          null,
          266,
          274,
          null,
          757,
          765,
          null,
          116,
          124,
          null,
          141,
          149,
          null,
          150,
          158,
          null,
          157,
          165,
          null,
          1362,
          1371,
          null,
          187,
          195,
          null,
          198,
          206,
          null,
          207,
          215,
          null,
          225,
          233,
          null,
          611,
          620,
          null,
          246,
          256,
          null,
          1956,
          1985,
          null,
          641,
          650,
          null,
          2340,
          2354,
          null,
          2055,
          2075,
          null,
          1914,
          1922,
          null,
          2223,
          2243,
          null,
          1932,
          1955,
          null,
          2109,
          2129,
          null,
          1992,
          2010,
          null,
          2011,
          2030,
          null,
          2031,
          2039,
          null,
          2040,
          2054,
          null,
          2076,
          2099,
          null,
          2151,
          2165,
          null,
          2172,
          2198,
          null,
          2209,
          2243,
          null,
          2250,
          2264,
          null,
          2265,
          2275,
          null,
          2276,
          2288,
          null,
          2304,
          2330,
          null,
          2364,
          2381,
          null,
          2382,
          2390,
          null,
          2394,
          2414,
          null,
          2421,
          2429,
          null,
          247,
          255,
          null,
          1962,
          1971,
          null,
          1962,
          1970,
          null,
          269,
          281,
          null,
          275,
          283,
          null,
          275,
          283,
          null,
          858,
          866,
          null,
          859,
          867,
          null,
          1912,
          1922,
          null,
          283,
          291,
          null,
          293,
          302,
          null,
          911,
          919,
          null,
          295,
          303,
          null,
          298,
          308,
          null,
          1704,
          1712,
          null,
          343,
          351,
          null,
          351,
          359,
          null,
          352,
          360,
          null,
          359,
          367,
          null,
          838,
          848,
          null,
          363,
          372,
          null,
          366,
          374,
          null,
          369,
          377,
          null,
          749,
          758,
          null,
          411,
          419,
          null,
          422,
          432,
          null,
          429,
          439,
          null,
          442,
          450,
          null,
          1533,
          1541,
          null,
          477,
          486,
          null,
          484,
          492,
          null,
          499,
          508,
          null,
          502,
          510,
          null,
          513,
          522,
          null,
          515,
          523,
          null,
          519,
          528,
          null,
          539,
          549,
          null,
          1744,
          1752,
          null,
          585,
          594,
          null,
          589,
          597,
          null,
          592,
          600,
          null,
          595,
          603,
          null,
          598,
          606,
          null,
          601,
          609,
          null,
          1925,
          1933,
          null,
          604,
          612,
          null,
          607,
          615,
          null,
          610,
          618,
          null,
          613,
          621,
          null,
          1203,
          1211,
          null,
          616,
          624,
          null,
          634,
          642,
          null,
          637,
          645,
          null,
          640,
          648,
          null,
          643,
          651,
          null,
          646,
          654,
          null,
          649,
          657,
          null,
          652,
          660,
          null,
          655,
          663,
          null,
          658,
          666,
          null,
          661,
          669,
          null,
          664,
          672,
          null,
          667,
          675,
          null,
          587,
          596,
          null,
          590,
          599,
          null,
          599,
          608,
          null,
          602,
          611,
          null,
          605,
          614,
          null,
          608,
          617,
          null,
          1735,
          1743,
          null,
          614,
          623,
          null,
          617,
          626,
          null,
          635,
          644,
          null,
          638,
          647,
          null,
          1639,
          1647,
          null,
          644,
          653,
          null,
          647,
          656,
          null,
          650,
          659,
          null,
          653,
          662,
          null,
          656,
          665,
          null,
          659,
          668,
          null,
          662,
          671,
          null,
          668,
          690,
          null,
          704,
          716,
          null,
          588,
          596,
          null,
          591,
          599,
          null,
          594,
          602,
          null,
          597,
          605,
          null,
          600,
          608,
          null,
          603,
          611,
          null,
          606,
          614,
          null,
          609,
          617,
          null,
          612,
          620,
          null,
          615,
          623,
          null,
          618,
          626,
          null,
          633,
          641,
          null,
          633,
          641,
          null,
          636,
          644,
          null,
          671,
          680,
          null,
          639,
          647,
          null,
          642,
          650,
          null,
          645,
          653,
          null,
          648,
          656,
          null,
          651,
          659,
          null,
          654,
          662,
          null,
          657,
          665,
          null,
          660,
          668,
          null,
          663,
          671,
          null,
          666,
          674,
          null,
          669,
          677,
          null,
          1401,
          1409,
          null,
          670,
          678,
          null,
          671,
          679,
          null,
          1437,
          1445,
          null,
          677,
          685,
          null,
          679,
          688,
          null,
          682,
          690,
          null,
          687,
          695,
          null,
          688,
          696,
          null,
          697,
          707,
          null,
          703,
          712,
          null,
          705,
          714,
          null,
          710,
          718,
          null,
          713,
          721,
          null,
          714,
          723,
          null,
          812,
          820,
          null,
          1507,
          1516,
          null,
          812,
          821,
          null,
          719,
          727,
          null,
          722,
          733,
          null,
          723,
          733,
          null,
          1989,
          1997,
          null,
          764,
          772,
          null,
          780,
          788,
          null,
          790,
          798,
          null,
          793,
          801,
          null,
          806,
          815,
          null,
          826,
          834,
          null,
          831,
          839,
          null,
          845,
          853,
          null,
          853,
          861,
          null,
          908,
          917,
          null,
          916,
          924,
          null,
          932,
          940,
          null,
          937,
          945,
          null,
          939,
          947,
          null,
          941,
          949,
          null,
          982,
          990,
          null,
          1011,
          1019,
          null,
          1012,
          1027,
          null,
          1030,
          1038,
          null,
          1072,
          1080,
          null,
          1081,
          1089,
          null,
          1085,
          1093,
          null,
          1092,
          1100,
          null,
          1163,
          1171,
          null,
          1195,
          1203,
          null,
          1195,
          1203,
          null,
          1679,
          1688,
          null,
          1218,
          1226,
          null,
          1224,
          1232,
          null,
          2055,
          2063,
          null,
          1240,
          1248,
          null,
          1253,
          1261,
          null,
          1258,
          1266,
          null,
          1284,
          1292,
          null,
          1302,
          1310,
          null,
          1322,
          1330,
          null,
          1330,
          1340,
          null,
          1341,
          1349,
          null,
          1345,
          1353,
          null,
          1391,
          1400,
          null,
          1394,
          1402,
          null,
          2288,
          2296,
          null,
          1425,
          1433,
          null,
          1434,
          1444,
          null,
          1834,
          1842,
          null,
          1459,
          1468,
          null,
          1470,
          1478,
          null,
          1472,
          1482,
          null,
          1510,
          1519,
          null,
          1539,
          1549,
          null,
          1549,
          1559,
          null,
          1576,
          1585,
          null,
          1578,
          1587,
          null,
          1666,
          1674,
          null,
          1645,
          1653,
          null,
          2202,
          2210,
          null,
          1661,
          1669,
          null,
          1673,
          1681,
          null,
          1694,
          1702,
          null,
          1702,
          1710,
          null,
          1730,
          1738,
          null,
          1792,
          1800,
          null,
          1751,
          1759,
          null,
          1898,
          1907,
          null,
          1898,
          1906,
          null,
          1818,
          1828,
          null,
          1819,
          1828,
          null,
          2065,
          2074,
          null,
          1880,
          1888,
          null,
          1911,
          1919,
          null,
          1974,
          1982,
          null,
          2116,
          2124,
          null,
          1985,
          1993,
          null,
          1991,
          1999,
          null,
          1992,
          2000,
          null,
          1997,
          2005,
          null,
          2041,
          2049,
          null,
          2057,
          2065,
          null,
          2067,
          2075,
          null,
          2098,
          2107,
          null,
          2103,
          2111,
          null,
          2126,
          2134,
          null,
          2133,
          2141,
          null,
          2142,
          2150,
          null,
          2153,
          2161,
          null,
          2153,
          2161,
          null,
          2218,
          2226,
          null,
          2273,
          2281,
          null,
          2285,
          2293,
          null,
          2364,
          2372,
          null,
          2395,
          2403,
          null,
          2437,
          2445
         ],
         "xaxis": "x",
         "y": [
          0,
          47,
          null,
          51,
          72,
          null,
          78,
          90,
          null,
          96,
          114,
          null,
          117,
          125,
          null,
          132,
          140,
          null,
          186,
          194,
          null,
          206,
          216,
          null,
          593,
          602,
          null,
          714,
          722,
          null,
          1510,
          1519,
          null,
          11,
          20,
          null,
          1509,
          1532,
          null,
          786,
          794,
          null,
          1632,
          1640,
          null,
          1577,
          1592,
          null,
          1672,
          1688,
          null,
          593,
          602,
          null,
          1322,
          1349,
          null,
          1365,
          1382,
          null,
          652,
          669,
          null,
          675,
          683,
          null,
          729,
          740,
          null,
          747,
          761,
          null,
          1227,
          1247,
          null,
          768,
          782,
          null,
          820,
          830,
          null,
          855,
          864,
          null,
          868,
          878,
          null,
          885,
          893,
          null,
          894,
          902,
          null,
          906,
          917,
          null,
          960,
          969,
          null,
          996,
          1007,
          null,
          1008,
          1022,
          null,
          1833,
          1847,
          null,
          1030,
          1050,
          null,
          1056,
          1064,
          null,
          1068,
          1079,
          null,
          1107,
          1117,
          null,
          1140,
          1148,
          null,
          1275,
          1292,
          null,
          1152,
          1160,
          null,
          1170,
          1178,
          null,
          1180,
          1190,
          null,
          1215,
          1247,
          null,
          1248,
          1256,
          null,
          1257,
          1268,
          null,
          1272,
          1292,
          null,
          1296,
          1304,
          null,
          1305,
          1349,
          null,
          1389,
          1409,
          null,
          1417,
          1427,
          null,
          1434,
          1443,
          null,
          1455,
          1463,
          null,
          1464,
          1481,
          null,
          1482,
          1493,
          null,
          1494,
          1508,
          null,
          1539,
          1553,
          null,
          1554,
          1592,
          null,
          1593,
          1610,
          null,
          1647,
          1671,
          null,
          1716,
          1739,
          null,
          1689,
          1700,
          null,
          1752,
          1766,
          null,
          1803,
          1820,
          null,
          1163,
          1172,
          null,
          1163,
          1171,
          null,
          1850,
          1858,
          null,
          2121,
          2129,
          null,
          21,
          29,
          null,
          30,
          38,
          null,
          33,
          42,
          null,
          391,
          399,
          null,
          36,
          44,
          null,
          384,
          407,
          null,
          483,
          503,
          null,
          328,
          344,
          null,
          222,
          230,
          null,
          244,
          254,
          null,
          255,
          263,
          null,
          504,
          524,
          null,
          273,
          281,
          null,
          296,
          305,
          null,
          348,
          359,
          null,
          372,
          407,
          null,
          432,
          441,
          null,
          459,
          473,
          null,
          525,
          533,
          null,
          534,
          564,
          null,
          593,
          602,
          null,
          38,
          46,
          null,
          53,
          61,
          null,
          55,
          63,
          null,
          61,
          70,
          null,
          388,
          396,
          null,
          1781,
          1789,
          null,
          2056,
          2064,
          null,
          1504,
          1513,
          null,
          1505,
          1514,
          null,
          98,
          106,
          null,
          589,
          597,
          null,
          1694,
          1702,
          null,
          450,
          458,
          null,
          1802,
          1810,
          null,
          486,
          494,
          null,
          186,
          195,
          null,
          328,
          336,
          null,
          945,
          953,
          null,
          222,
          230,
          null,
          207,
          215,
          null,
          593,
          602,
          null,
          1913,
          1923,
          null,
          1908,
          1937,
          null,
          593,
          602,
          null,
          2292,
          2306,
          null,
          2007,
          2027,
          null,
          1866,
          1874,
          null,
          2175,
          2195,
          null,
          1884,
          1907,
          null,
          2061,
          2081,
          null,
          1944,
          1962,
          null,
          1963,
          1982,
          null,
          1983,
          1991,
          null,
          1992,
          2006,
          null,
          2028,
          2051,
          null,
          2103,
          2117,
          null,
          2124,
          2150,
          null,
          2161,
          2195,
          null,
          2202,
          2216,
          null,
          2217,
          2227,
          null,
          2228,
          2240,
          null,
          2256,
          2282,
          null,
          2316,
          2333,
          null,
          2334,
          2342,
          null,
          2346,
          2366,
          null,
          2373,
          2381,
          null,
          608,
          616,
          null,
          244,
          253,
          null,
          608,
          616,
          null,
          504,
          516,
          null,
          786,
          794,
          null,
          1378,
          1386,
          null,
          1378,
          1386,
          null,
          273,
          281,
          null,
          273,
          283,
          null,
          1209,
          1217,
          null,
          488,
          497,
          null,
          488,
          496,
          null,
          1615,
          1623,
          null,
          1630,
          1640,
          null,
          297,
          305,
          null,
          1210,
          1218,
          null,
          466,
          474,
          null,
          1475,
          1483,
          null,
          2002,
          2010,
          null,
          2002,
          2012,
          null,
          1584,
          1593,
          null,
          1359,
          1367,
          null,
          759,
          767,
          null,
          375,
          384,
          null,
          1344,
          1352,
          null,
          781,
          791,
          null,
          498,
          508,
          null,
          1212,
          1220,
          null,
          1212,
          1220,
          null,
          1440,
          1449,
          null,
          241,
          249,
          null,
          735,
          744,
          null,
          784,
          792,
          null,
          429,
          438,
          null,
          1667,
          1675,
          null,
          1110,
          1119,
          null,
          1670,
          1680,
          null,
          538,
          546,
          null,
          857,
          866,
          null,
          858,
          866,
          null,
          858,
          866,
          null,
          858,
          866,
          null,
          858,
          866,
          null,
          858,
          866,
          null,
          2182,
          2190,
          null,
          858,
          866,
          null,
          858,
          866,
          null,
          858,
          866,
          null,
          858,
          866,
          null,
          1448,
          1456,
          null,
          858,
          866,
          null,
          858,
          866,
          null,
          858,
          866,
          null,
          858,
          866,
          null,
          858,
          866,
          null,
          858,
          866,
          null,
          858,
          866,
          null,
          858,
          866,
          null,
          858,
          866,
          null,
          858,
          866,
          null,
          858,
          866,
          null,
          858,
          866,
          null,
          858,
          866,
          null,
          593,
          602,
          null,
          593,
          602,
          null,
          593,
          602,
          null,
          593,
          602,
          null,
          593,
          602,
          null,
          593,
          602,
          null,
          1720,
          1728,
          null,
          593,
          602,
          null,
          593,
          602,
          null,
          593,
          602,
          null,
          593,
          602,
          null,
          1594,
          1602,
          null,
          593,
          602,
          null,
          593,
          602,
          null,
          593,
          602,
          null,
          593,
          602,
          null,
          593,
          602,
          null,
          593,
          602,
          null,
          593,
          602,
          null,
          593,
          615,
          null,
          629,
          641,
          null,
          1329,
          1337,
          null,
          1329,
          1337,
          null,
          1329,
          1337,
          null,
          1329,
          1337,
          null,
          1329,
          1337,
          null,
          1329,
          1337,
          null,
          1329,
          1337,
          null,
          1329,
          1337,
          null,
          1329,
          1337,
          null,
          1329,
          1337,
          null,
          1329,
          1337,
          null,
          594,
          602,
          null,
          1329,
          1337,
          null,
          1329,
          1337,
          null,
          1364,
          1373,
          null,
          1329,
          1337,
          null,
          1329,
          1337,
          null,
          1329,
          1337,
          null,
          1329,
          1337,
          null,
          1329,
          1337,
          null,
          1329,
          1337,
          null,
          1329,
          1337,
          null,
          1329,
          1337,
          null,
          1329,
          1337,
          null,
          1329,
          1337,
          null,
          1329,
          1337,
          null,
          594,
          602,
          null,
          1089,
          1097,
          null,
          2211,
          2219,
          null,
          597,
          605,
          null,
          2222,
          2230,
          null,
          183,
          192,
          null,
          243,
          251,
          null,
          694,
          702,
          null,
          1052,
          1060,
          null,
          1458,
          1468,
          null,
          1796,
          1805,
          null,
          1054,
          1063,
          null,
          1211,
          1219,
          null,
          1213,
          1221,
          null,
          1612,
          1621,
          null,
          714,
          722,
          null,
          1409,
          1418,
          null,
          1612,
          1621,
          null,
          1387,
          1395,
          null,
          1023,
          1034,
          null,
          1116,
          1126,
          null,
          658,
          666,
          null,
          1830,
          1838,
          null,
          1253,
          1261,
          null,
          1444,
          1452,
          null,
          737,
          745,
          null,
          642,
          651,
          null,
          1375,
          1383,
          null,
          1234,
          1242,
          null,
          1431,
          1439,
          null,
          585,
          593,
          null,
          816,
          825,
          null,
          40,
          48,
          null,
          65,
          73,
          null,
          611,
          619,
          null,
          2209,
          2217,
          null,
          859,
          867,
          null,
          2296,
          2304,
          null,
          2221,
          2229,
          null,
          1099,
          1114,
          null,
          2389,
          2397,
          null,
          560,
          568,
          null,
          1352,
          1360,
          null,
          728,
          736,
          null,
          1835,
          1843,
          null,
          293,
          301,
          null,
          85,
          93,
          null,
          818,
          826,
          null,
          1139,
          1148,
          null,
          1282,
          1290,
          null,
          2007,
          2015,
          null,
          1152,
          1160,
          null,
          126,
          134,
          null,
          2146,
          2154,
          null,
          2094,
          2102,
          null,
          1461,
          1469,
          null,
          1122,
          1130,
          null,
          1786,
          1794,
          null,
          1402,
          1412,
          null,
          2059,
          2067,
          null,
          2251,
          2259,
          null,
          1935,
          1944,
          null,
          1166,
          1174,
          null,
          1332,
          1340,
          null,
          1436,
          1444,
          null,
          137,
          147,
          null,
          139,
          147,
          null,
          1791,
          1800,
          null,
          985,
          993,
          null,
          722,
          732,
          null,
          1793,
          1802,
          null,
          1815,
          1825,
          null,
          979,
          989,
          null,
          425,
          434,
          null,
          2328,
          2337,
          null,
          1567,
          1575,
          null,
          1114,
          1122,
          null,
          1575,
          1583,
          null,
          2048,
          2056,
          null,
          1059,
          1067,
          null,
          133,
          141,
          null,
          1286,
          1294,
          null,
          496,
          504,
          null,
          1663,
          1671,
          null,
          197,
          205,
          null,
          197,
          206,
          null,
          1679,
          1687,
          null,
          1701,
          1711,
          null,
          2017,
          2026,
          null,
          1702,
          1711,
          null,
          1044,
          1052,
          null,
          2154,
          2162,
          null,
          2068,
          2076,
          null,
          1926,
          1934,
          null,
          1772,
          1780,
          null,
          1386,
          1394,
          null,
          1271,
          1279,
          null,
          679,
          687,
          null,
          2365,
          2373,
          null,
          1748,
          1756,
          null,
          1686,
          1694,
          null,
          1061,
          1070,
          null,
          755,
          763,
          null,
          1294,
          1302,
          null,
          2374,
          2382,
          null,
          128,
          136,
          null,
          1027,
          1035,
          null,
          1119,
          1127,
          null,
          2023,
          2031,
          null,
          842,
          850,
          null,
          651,
          659,
          null,
          359,
          367,
          null,
          2220,
          2228,
          null,
          958,
          966
         ],
         "yaxis": "y"
        },
        {
         "line": {
          "color": "black",
          "dash": "dot"
         },
         "mode": "lines",
         "name": "Alignment",
         "showlegend": true,
         "type": "scatter",
         "x": [],
         "xaxis": "x",
         "y": [],
         "yaxis": "y"
        }
       ],
       "layout": {
        "autosize": false,
        "font": {
         "family": "Balto",
         "size": 14
        },
        "height": 490.18404907975463,
        "hovermode": "closest",
        "margin": {
         "b": 50,
         "l": 50,
         "pad": 4,
         "r": 50,
         "t": 50
        },
        "showlegend": true,
        "template": {
         "data": {
          "bar": [
           {
            "error_x": {
             "color": "#2a3f5f"
            },
            "error_y": {
             "color": "#2a3f5f"
            },
            "marker": {
             "line": {
              "color": "#E5ECF6",
              "width": 0.5
             },
             "pattern": {
              "fillmode": "overlay",
              "size": 10,
              "solidity": 0.2
             }
            },
            "type": "bar"
           }
          ],
          "barpolar": [
           {
            "marker": {
             "line": {
              "color": "#E5ECF6",
              "width": 0.5
             },
             "pattern": {
              "fillmode": "overlay",
              "size": 10,
              "solidity": 0.2
             }
            },
            "type": "barpolar"
           }
          ],
          "carpet": [
           {
            "aaxis": {
             "endlinecolor": "#2a3f5f",
             "gridcolor": "white",
             "linecolor": "white",
             "minorgridcolor": "white",
             "startlinecolor": "#2a3f5f"
            },
            "baxis": {
             "endlinecolor": "#2a3f5f",
             "gridcolor": "white",
             "linecolor": "white",
             "minorgridcolor": "white",
             "startlinecolor": "#2a3f5f"
            },
            "type": "carpet"
           }
          ],
          "choropleth": [
           {
            "colorbar": {
             "outlinewidth": 0,
             "ticks": ""
            },
            "type": "choropleth"
           }
          ],
          "contour": [
           {
            "colorbar": {
             "outlinewidth": 0,
             "ticks": ""
            },
            "colorscale": [
             [
              0.0,
              "#0d0887"
             ],
             [
              0.1111111111111111,
              "#46039f"
             ],
             [
              0.2222222222222222,
              "#7201a8"
             ],
             [
              0.3333333333333333,
              "#9c179e"
             ],
             [
              0.4444444444444444,
              "#bd3786"
             ],
             [
              0.5555555555555556,
              "#d8576b"
             ],
             [
              0.6666666666666666,
              "#ed7953"
             ],
             [
              0.7777777777777778,
              "#fb9f3a"
             ],
             [
              0.8888888888888888,
              "#fdca26"
             ],
             [
              1.0,
              "#f0f921"
             ]
            ],
            "type": "contour"
           }
          ],
          "contourcarpet": [
           {
            "colorbar": {
             "outlinewidth": 0,
             "ticks": ""
            },
            "type": "contourcarpet"
           }
          ],
          "heatmap": [
           {
            "colorbar": {
             "outlinewidth": 0,
             "ticks": ""
            },
            "colorscale": [
             [
              0.0,
              "#0d0887"
             ],
             [
              0.1111111111111111,
              "#46039f"
             ],
             [
              0.2222222222222222,
              "#7201a8"
             ],
             [
              0.3333333333333333,
              "#9c179e"
             ],
             [
              0.4444444444444444,
              "#bd3786"
             ],
             [
              0.5555555555555556,
              "#d8576b"
             ],
             [
              0.6666666666666666,
              "#ed7953"
             ],
             [
              0.7777777777777778,
              "#fb9f3a"
             ],
             [
              0.8888888888888888,
              "#fdca26"
             ],
             [
              1.0,
              "#f0f921"
             ]
            ],
            "type": "heatmap"
           }
          ],
          "heatmapgl": [
           {
            "colorbar": {
             "outlinewidth": 0,
             "ticks": ""
            },
            "colorscale": [
             [
              0.0,
              "#0d0887"
             ],
             [
              0.1111111111111111,
              "#46039f"
             ],
             [
              0.2222222222222222,
              "#7201a8"
             ],
             [
              0.3333333333333333,
              "#9c179e"
             ],
             [
              0.4444444444444444,
              "#bd3786"
             ],
             [
              0.5555555555555556,
              "#d8576b"
             ],
             [
              0.6666666666666666,
              "#ed7953"
             ],
             [
              0.7777777777777778,
              "#fb9f3a"
             ],
             [
              0.8888888888888888,
              "#fdca26"
             ],
             [
              1.0,
              "#f0f921"
             ]
            ],
            "type": "heatmapgl"
           }
          ],
          "histogram": [
           {
            "marker": {
             "pattern": {
              "fillmode": "overlay",
              "size": 10,
              "solidity": 0.2
             }
            },
            "type": "histogram"
           }
          ],
          "histogram2d": [
           {
            "colorbar": {
             "outlinewidth": 0,
             "ticks": ""
            },
            "colorscale": [
             [
              0.0,
              "#0d0887"
             ],
             [
              0.1111111111111111,
              "#46039f"
             ],
             [
              0.2222222222222222,
              "#7201a8"
             ],
             [
              0.3333333333333333,
              "#9c179e"
             ],
             [
              0.4444444444444444,
              "#bd3786"
             ],
             [
              0.5555555555555556,
              "#d8576b"
             ],
             [
              0.6666666666666666,
              "#ed7953"
             ],
             [
              0.7777777777777778,
              "#fb9f3a"
             ],
             [
              0.8888888888888888,
              "#fdca26"
             ],
             [
              1.0,
              "#f0f921"
             ]
            ],
            "type": "histogram2d"
           }
          ],
          "histogram2dcontour": [
           {
            "colorbar": {
             "outlinewidth": 0,
             "ticks": ""
            },
            "colorscale": [
             [
              0.0,
              "#0d0887"
             ],
             [
              0.1111111111111111,
              "#46039f"
             ],
             [
              0.2222222222222222,
              "#7201a8"
             ],
             [
              0.3333333333333333,
              "#9c179e"
             ],
             [
              0.4444444444444444,
              "#bd3786"
             ],
             [
              0.5555555555555556,
              "#d8576b"
             ],
             [
              0.6666666666666666,
              "#ed7953"
             ],
             [
              0.7777777777777778,
              "#fb9f3a"
             ],
             [
              0.8888888888888888,
              "#fdca26"
             ],
             [
              1.0,
              "#f0f921"
             ]
            ],
            "type": "histogram2dcontour"
           }
          ],
          "mesh3d": [
           {
            "colorbar": {
             "outlinewidth": 0,
             "ticks": ""
            },
            "type": "mesh3d"
           }
          ],
          "parcoords": [
           {
            "line": {
             "colorbar": {
              "outlinewidth": 0,
              "ticks": ""
             }
            },
            "type": "parcoords"
           }
          ],
          "pie": [
           {
            "automargin": true,
            "type": "pie"
           }
          ],
          "scatter": [
           {
            "fillpattern": {
             "fillmode": "overlay",
             "size": 10,
             "solidity": 0.2
            },
            "type": "scatter"
           }
          ],
          "scatter3d": [
           {
            "line": {
             "colorbar": {
              "outlinewidth": 0,
              "ticks": ""
             }
            },
            "marker": {
             "colorbar": {
              "outlinewidth": 0,
              "ticks": ""
             }
            },
            "type": "scatter3d"
           }
          ],
          "scattercarpet": [
           {
            "marker": {
             "colorbar": {
              "outlinewidth": 0,
              "ticks": ""
             }
            },
            "type": "scattercarpet"
           }
          ],
          "scattergeo": [
           {
            "marker": {
             "colorbar": {
              "outlinewidth": 0,
              "ticks": ""
             }
            },
            "type": "scattergeo"
           }
          ],
          "scattergl": [
           {
            "marker": {
             "colorbar": {
              "outlinewidth": 0,
              "ticks": ""
             }
            },
            "type": "scattergl"
           }
          ],
          "scattermapbox": [
           {
            "marker": {
             "colorbar": {
              "outlinewidth": 0,
              "ticks": ""
             }
            },
            "type": "scattermapbox"
           }
          ],
          "scatterpolar": [
           {
            "marker": {
             "colorbar": {
              "outlinewidth": 0,
              "ticks": ""
             }
            },
            "type": "scatterpolar"
           }
          ],
          "scatterpolargl": [
           {
            "marker": {
             "colorbar": {
              "outlinewidth": 0,
              "ticks": ""
             }
            },
            "type": "scatterpolargl"
           }
          ],
          "scatterternary": [
           {
            "marker": {
             "colorbar": {
              "outlinewidth": 0,
              "ticks": ""
             }
            },
            "type": "scatterternary"
           }
          ],
          "surface": [
           {
            "colorbar": {
             "outlinewidth": 0,
             "ticks": ""
            },
            "colorscale": [
             [
              0.0,
              "#0d0887"
             ],
             [
              0.1111111111111111,
              "#46039f"
             ],
             [
              0.2222222222222222,
              "#7201a8"
             ],
             [
              0.3333333333333333,
              "#9c179e"
             ],
             [
              0.4444444444444444,
              "#bd3786"
             ],
             [
              0.5555555555555556,
              "#d8576b"
             ],
             [
              0.6666666666666666,
              "#ed7953"
             ],
             [
              0.7777777777777778,
              "#fb9f3a"
             ],
             [
              0.8888888888888888,
              "#fdca26"
             ],
             [
              1.0,
              "#f0f921"
             ]
            ],
            "type": "surface"
           }
          ],
          "table": [
           {
            "cells": {
             "fill": {
              "color": "#EBF0F8"
             },
             "line": {
              "color": "white"
             }
            },
            "header": {
             "fill": {
              "color": "#C8D4E3"
             },
             "line": {
              "color": "white"
             }
            },
            "type": "table"
           }
          ]
         },
         "layout": {
          "annotationdefaults": {
           "arrowcolor": "#2a3f5f",
           "arrowhead": 0,
           "arrowwidth": 1
          },
          "autotypenumbers": "strict",
          "coloraxis": {
           "colorbar": {
            "outlinewidth": 0,
            "ticks": ""
           }
          },
          "colorscale": {
           "diverging": [
            [
             0,
             "#8e0152"
            ],
            [
             0.1,
             "#c51b7d"
            ],
            [
             0.2,
             "#de77ae"
            ],
            [
             0.3,
             "#f1b6da"
            ],
            [
             0.4,
             "#fde0ef"
            ],
            [
             0.5,
             "#f7f7f7"
            ],
            [
             0.6,
             "#e6f5d0"
            ],
            [
             0.7,
             "#b8e186"
            ],
            [
             0.8,
             "#7fbc41"
            ],
            [
             0.9,
             "#4d9221"
            ],
            [
             1,
             "#276419"
            ]
           ],
           "sequential": [
            [
             0.0,
             "#0d0887"
            ],
            [
             0.1111111111111111,
             "#46039f"
            ],
            [
             0.2222222222222222,
             "#7201a8"
            ],
            [
             0.3333333333333333,
             "#9c179e"
            ],
            [
             0.4444444444444444,
             "#bd3786"
            ],
            [
             0.5555555555555556,
             "#d8576b"
            ],
            [
             0.6666666666666666,
             "#ed7953"
            ],
            [
             0.7777777777777778,
             "#fb9f3a"
            ],
            [
             0.8888888888888888,
             "#fdca26"
            ],
            [
             1.0,
             "#f0f921"
            ]
           ],
           "sequentialminus": [
            [
             0.0,
             "#0d0887"
            ],
            [
             0.1111111111111111,
             "#46039f"
            ],
            [
             0.2222222222222222,
             "#7201a8"
            ],
            [
             0.3333333333333333,
             "#9c179e"
            ],
            [
             0.4444444444444444,
             "#bd3786"
            ],
            [
             0.5555555555555556,
             "#d8576b"
            ],
            [
             0.6666666666666666,
             "#ed7953"
            ],
            [
             0.7777777777777778,
             "#fb9f3a"
            ],
            [
             0.8888888888888888,
             "#fdca26"
            ],
            [
             1.0,
             "#f0f921"
            ]
           ]
          },
          "colorway": [
           "#636efa",
           "#EF553B",
           "#00cc96",
           "#ab63fa",
           "#FFA15A",
           "#19d3f3",
           "#FF6692",
           "#B6E880",
           "#FF97FF",
           "#FECB52"
          ],
          "font": {
           "color": "#2a3f5f"
          },
          "geo": {
           "bgcolor": "white",
           "lakecolor": "white",
           "landcolor": "#E5ECF6",
           "showlakes": true,
           "showland": true,
           "subunitcolor": "white"
          },
          "hoverlabel": {
           "align": "left"
          },
          "hovermode": "closest",
          "mapbox": {
           "style": "light"
          },
          "paper_bgcolor": "white",
          "plot_bgcolor": "#E5ECF6",
          "polar": {
           "angularaxis": {
            "gridcolor": "white",
            "linecolor": "white",
            "ticks": ""
           },
           "bgcolor": "#E5ECF6",
           "radialaxis": {
            "gridcolor": "white",
            "linecolor": "white",
            "ticks": ""
           }
          },
          "scene": {
           "xaxis": {
            "backgroundcolor": "#E5ECF6",
            "gridcolor": "white",
            "gridwidth": 2,
            "linecolor": "white",
            "showbackground": true,
            "ticks": "",
            "zerolinecolor": "white"
           },
           "yaxis": {
            "backgroundcolor": "#E5ECF6",
            "gridcolor": "white",
            "gridwidth": 2,
            "linecolor": "white",
            "showbackground": true,
            "ticks": "",
            "zerolinecolor": "white"
           },
           "zaxis": {
            "backgroundcolor": "#E5ECF6",
            "gridcolor": "white",
            "gridwidth": 2,
            "linecolor": "white",
            "showbackground": true,
            "ticks": "",
            "zerolinecolor": "white"
           }
          },
          "shapedefaults": {
           "line": {
            "color": "#2a3f5f"
           }
          },
          "ternary": {
           "aaxis": {
            "gridcolor": "white",
            "linecolor": "white",
            "ticks": ""
           },
           "baxis": {
            "gridcolor": "white",
            "linecolor": "white",
            "ticks": ""
           },
           "bgcolor": "#E5ECF6",
           "caxis": {
            "gridcolor": "white",
            "linecolor": "white",
            "ticks": ""
           }
          },
          "title": {
           "x": 0.05
          },
          "xaxis": {
           "automargin": true,
           "gridcolor": "white",
           "linecolor": "white",
           "ticks": "",
           "title": {
            "standoff": 15
           },
           "zerolinecolor": "white",
           "zerolinewidth": 2
          },
          "yaxis": {
           "automargin": true,
           "gridcolor": "white",
           "linecolor": "white",
           "ticks": "",
           "title": {
            "standoff": 15
           },
           "zerolinecolor": "white",
           "zerolinewidth": 2
          }
         }
        },
        "title": {
         "text": "Window=8, Matched ≥ 8/8 & Gap ≤ 0"
        },
        "width": 500,
        "xaxis": {
         "mirror": true,
         "range": [
          0,
          2445
         ],
         "showgrid": false,
         "showline": true,
         "title": {
          "text": "Human"
         },
         "visible": true
        },
        "yaxis": {
         "mirror": true,
         "range": [
          0,
          2397
         ],
         "showgrid": false,
         "showline": true,
         "title": {
          "text": "Mouse"
         },
         "visible": true
        }
       }
      },
      "text/html": [
       "<div>                            <div id=\"aaf205e2-854a-427d-86d5-dbd65aacbdfd\" class=\"plotly-graph-div\" style=\"height:490.18404907975463px; width:500px;\"></div>            <script type=\"text/javascript\">                require([\"plotly\"], function(Plotly) {                    window.PLOTLYENV=window.PLOTLYENV || {};                                    if (document.getElementById(\"aaf205e2-854a-427d-86d5-dbd65aacbdfd\")) {                    Plotly.newPlot(                        \"aaf205e2-854a-427d-86d5-dbd65aacbdfd\",                        [{\"line\":{\"color\":\"blue\"},\"mode\":\"lines\",\"name\":\"+ strand\",\"showlegend\":true,\"x\":[0,47,null,51,72,null,78,90,null,96,114,null,117,125,null,132,140,null,186,194,null,206,216,null,593,602,null,714,722,null,11,20,null,1582,1591,null,1581,1604,null,858,866,null,1704,1712,null,1649,1664,null,1744,1760,null,665,674,null,1394,1421,null,1437,1454,null,724,741,null,747,755,null,801,812,null,819,833,null,1299,1319,null,840,854,null,892,902,null,927,936,null,940,950,null,957,965,null,966,974,null,978,989,null,1032,1041,null,1068,1079,null,1080,1094,null,1905,1919,null,1102,1122,null,1128,1136,null,1140,1151,null,1179,1189,null,1212,1220,null,1347,1364,null,1224,1232,null,1242,1250,null,1252,1262,null,1287,1319,null,1320,1328,null,1329,1340,null,1344,1364,null,1368,1376,null,1377,1421,null,1461,1481,null,1489,1499,null,1506,1515,null,1527,1535,null,1536,1553,null,1554,1565,null,1566,1580,null,1611,1625,null,1626,1664,null,1665,1682,null,1719,1743,null,1788,1811,null,1761,1772,null,1824,1838,null,1875,1892,null,12,21,null,1583,1591,null,2270,2278,null,17,25,null,1812,1820,null,304,312,null,1707,1716,null,36,44,null,394,402,null,387,410,null,486,506,null,331,347,null,225,233,null,247,257,null,258,266,null,507,527,null,276,284,null,299,308,null,351,362,null,375,410,null,435,444,null,462,476,null,528,536,null,537,567,null,596,605,null,1580,1588,null,1448,1456,null,261,269,null,717,726,null,70,78,null,77,85,null,93,101,null,94,103,null,1151,1160,null,266,274,null,757,765,null,116,124,null,141,149,null,150,158,null,157,165,null,1362,1371,null,187,195,null,198,206,null,207,215,null,225,233,null,611,620,null,246,256,null,1956,1985,null,641,650,null,2340,2354,null,2055,2075,null,1914,1922,null,2223,2243,null,1932,1955,null,2109,2129,null,1992,2010,null,2011,2030,null,2031,2039,null,2040,2054,null,2076,2099,null,2151,2165,null,2172,2198,null,2209,2243,null,2250,2264,null,2265,2275,null,2276,2288,null,2304,2330,null,2364,2381,null,2382,2390,null,2394,2414,null,2421,2429,null,247,255,null,1962,1971,null,1962,1970,null,269,281,null,275,283,null,275,283,null,858,866,null,859,867,null,1912,1922,null,283,291,null,293,302,null,911,919,null,295,303,null,298,308,null,1704,1712,null,343,351,null,351,359,null,352,360,null,359,367,null,838,848,null,363,372,null,366,374,null,369,377,null,749,758,null,411,419,null,422,432,null,429,439,null,442,450,null,1533,1541,null,477,486,null,484,492,null,499,508,null,502,510,null,513,522,null,515,523,null,519,528,null,539,549,null,1744,1752,null,585,594,null,589,597,null,592,600,null,595,603,null,598,606,null,601,609,null,1925,1933,null,604,612,null,607,615,null,610,618,null,613,621,null,1203,1211,null,616,624,null,634,642,null,637,645,null,640,648,null,643,651,null,646,654,null,649,657,null,652,660,null,655,663,null,658,666,null,661,669,null,664,672,null,667,675,null,587,596,null,590,599,null,599,608,null,602,611,null,605,614,null,608,617,null,1735,1743,null,614,623,null,617,626,null,635,644,null,638,647,null,1639,1647,null,644,653,null,647,656,null,650,659,null,653,662,null,656,665,null,659,668,null,662,671,null,668,690,null,704,716,null,588,596,null,591,599,null,594,602,null,597,605,null,600,608,null,603,611,null,606,614,null,609,617,null,612,620,null,615,623,null,618,626,null,633,641,null,633,641,null,636,644,null,671,680,null,639,647,null,642,650,null,645,653,null,648,656,null,651,659,null,654,662,null,657,665,null,660,668,null,663,671,null,666,674,null,669,677,null,1401,1409,null,670,678,null,671,679,null,1437,1445,null,677,685,null,679,688,null,682,690,null,687,695,null,688,696,null,697,707,null,703,712,null,705,714,null,710,718,null,713,721,null,714,723,null,812,820,null,1507,1516,null,812,821,null,719,727,null,722,733,null,723,733,null,1989,1997,null,764,772,null,780,788,null,790,798,null,793,801,null,806,815,null,826,834,null,831,839,null,845,853,null,853,861,null,908,917,null,916,924,null,932,940,null,937,945,null,939,947,null,941,949,null,982,990,null,1011,1019,null,1012,1027,null,1030,1038,null,1072,1080,null,1081,1089,null,1085,1093,null,1092,1100,null,1163,1171,null,1195,1203,null,1195,1203,null,1679,1688,null,1218,1226,null,1224,1232,null,2055,2063,null,1240,1248,null,1253,1261,null,1258,1266,null,1284,1292,null,1302,1310,null,1322,1330,null,1330,1340,null,1341,1349,null,1345,1353,null,1391,1400,null,1394,1402,null,2288,2296,null,1425,1433,null,1434,1444,null,1834,1842,null,1459,1468,null,1470,1478,null,1472,1482,null,1510,1519,null,1539,1549,null,1549,1559,null,1576,1585,null,1578,1587,null,1666,1674,null,1645,1653,null,2202,2210,null,1661,1669,null,1673,1681,null,1694,1702,null,1702,1710,null,1730,1738,null,1792,1800,null,1751,1759,null,1898,1907,null,1898,1906,null,1818,1828,null,1819,1828,null,2065,2074,null,1880,1888,null,1911,1919,null,1974,1982,null,2116,2124,null,1985,1993,null,1991,1999,null,1992,2000,null,1997,2005,null,2041,2049,null,2057,2065,null,2067,2075,null,2098,2107,null,2103,2111,null,2126,2134,null,2133,2141,null,2142,2150,null,2153,2161,null,2153,2161,null,2218,2226,null,2273,2281,null,2285,2293,null,2364,2372,null,2395,2403,null,2437,2445],\"xaxis\":\"x\",\"y\":[0,47,null,51,72,null,78,90,null,96,114,null,117,125,null,132,140,null,186,194,null,206,216,null,593,602,null,714,722,null,1510,1519,null,11,20,null,1509,1532,null,786,794,null,1632,1640,null,1577,1592,null,1672,1688,null,593,602,null,1322,1349,null,1365,1382,null,652,669,null,675,683,null,729,740,null,747,761,null,1227,1247,null,768,782,null,820,830,null,855,864,null,868,878,null,885,893,null,894,902,null,906,917,null,960,969,null,996,1007,null,1008,1022,null,1833,1847,null,1030,1050,null,1056,1064,null,1068,1079,null,1107,1117,null,1140,1148,null,1275,1292,null,1152,1160,null,1170,1178,null,1180,1190,null,1215,1247,null,1248,1256,null,1257,1268,null,1272,1292,null,1296,1304,null,1305,1349,null,1389,1409,null,1417,1427,null,1434,1443,null,1455,1463,null,1464,1481,null,1482,1493,null,1494,1508,null,1539,1553,null,1554,1592,null,1593,1610,null,1647,1671,null,1716,1739,null,1689,1700,null,1752,1766,null,1803,1820,null,1163,1172,null,1163,1171,null,1850,1858,null,2121,2129,null,21,29,null,30,38,null,33,42,null,391,399,null,36,44,null,384,407,null,483,503,null,328,344,null,222,230,null,244,254,null,255,263,null,504,524,null,273,281,null,296,305,null,348,359,null,372,407,null,432,441,null,459,473,null,525,533,null,534,564,null,593,602,null,38,46,null,53,61,null,55,63,null,61,70,null,388,396,null,1781,1789,null,2056,2064,null,1504,1513,null,1505,1514,null,98,106,null,589,597,null,1694,1702,null,450,458,null,1802,1810,null,486,494,null,186,195,null,328,336,null,945,953,null,222,230,null,207,215,null,593,602,null,1913,1923,null,1908,1937,null,593,602,null,2292,2306,null,2007,2027,null,1866,1874,null,2175,2195,null,1884,1907,null,2061,2081,null,1944,1962,null,1963,1982,null,1983,1991,null,1992,2006,null,2028,2051,null,2103,2117,null,2124,2150,null,2161,2195,null,2202,2216,null,2217,2227,null,2228,2240,null,2256,2282,null,2316,2333,null,2334,2342,null,2346,2366,null,2373,2381,null,608,616,null,244,253,null,608,616,null,504,516,null,786,794,null,1378,1386,null,1378,1386,null,273,281,null,273,283,null,1209,1217,null,488,497,null,488,496,null,1615,1623,null,1630,1640,null,297,305,null,1210,1218,null,466,474,null,1475,1483,null,2002,2010,null,2002,2012,null,1584,1593,null,1359,1367,null,759,767,null,375,384,null,1344,1352,null,781,791,null,498,508,null,1212,1220,null,1212,1220,null,1440,1449,null,241,249,null,735,744,null,784,792,null,429,438,null,1667,1675,null,1110,1119,null,1670,1680,null,538,546,null,857,866,null,858,866,null,858,866,null,858,866,null,858,866,null,858,866,null,2182,2190,null,858,866,null,858,866,null,858,866,null,858,866,null,1448,1456,null,858,866,null,858,866,null,858,866,null,858,866,null,858,866,null,858,866,null,858,866,null,858,866,null,858,866,null,858,866,null,858,866,null,858,866,null,858,866,null,593,602,null,593,602,null,593,602,null,593,602,null,593,602,null,593,602,null,1720,1728,null,593,602,null,593,602,null,593,602,null,593,602,null,1594,1602,null,593,602,null,593,602,null,593,602,null,593,602,null,593,602,null,593,602,null,593,602,null,593,615,null,629,641,null,1329,1337,null,1329,1337,null,1329,1337,null,1329,1337,null,1329,1337,null,1329,1337,null,1329,1337,null,1329,1337,null,1329,1337,null,1329,1337,null,1329,1337,null,594,602,null,1329,1337,null,1329,1337,null,1364,1373,null,1329,1337,null,1329,1337,null,1329,1337,null,1329,1337,null,1329,1337,null,1329,1337,null,1329,1337,null,1329,1337,null,1329,1337,null,1329,1337,null,1329,1337,null,594,602,null,1089,1097,null,2211,2219,null,597,605,null,2222,2230,null,183,192,null,243,251,null,694,702,null,1052,1060,null,1458,1468,null,1796,1805,null,1054,1063,null,1211,1219,null,1213,1221,null,1612,1621,null,714,722,null,1409,1418,null,1612,1621,null,1387,1395,null,1023,1034,null,1116,1126,null,658,666,null,1830,1838,null,1253,1261,null,1444,1452,null,737,745,null,642,651,null,1375,1383,null,1234,1242,null,1431,1439,null,585,593,null,816,825,null,40,48,null,65,73,null,611,619,null,2209,2217,null,859,867,null,2296,2304,null,2221,2229,null,1099,1114,null,2389,2397,null,560,568,null,1352,1360,null,728,736,null,1835,1843,null,293,301,null,85,93,null,818,826,null,1139,1148,null,1282,1290,null,2007,2015,null,1152,1160,null,126,134,null,2146,2154,null,2094,2102,null,1461,1469,null,1122,1130,null,1786,1794,null,1402,1412,null,2059,2067,null,2251,2259,null,1935,1944,null,1166,1174,null,1332,1340,null,1436,1444,null,137,147,null,139,147,null,1791,1800,null,985,993,null,722,732,null,1793,1802,null,1815,1825,null,979,989,null,425,434,null,2328,2337,null,1567,1575,null,1114,1122,null,1575,1583,null,2048,2056,null,1059,1067,null,133,141,null,1286,1294,null,496,504,null,1663,1671,null,197,205,null,197,206,null,1679,1687,null,1701,1711,null,2017,2026,null,1702,1711,null,1044,1052,null,2154,2162,null,2068,2076,null,1926,1934,null,1772,1780,null,1386,1394,null,1271,1279,null,679,687,null,2365,2373,null,1748,1756,null,1686,1694,null,1061,1070,null,755,763,null,1294,1302,null,2374,2382,null,128,136,null,1027,1035,null,1119,1127,null,2023,2031,null,842,850,null,651,659,null,359,367,null,2220,2228,null,958,966],\"yaxis\":\"y\",\"type\":\"scatter\"},{\"line\":{\"color\":\"black\",\"dash\":\"dot\"},\"mode\":\"lines\",\"name\":\"Alignment\",\"showlegend\":true,\"x\":[],\"xaxis\":\"x\",\"y\":[],\"yaxis\":\"y\",\"type\":\"scatter\"}],                        {\"autosize\":false,\"font\":{\"family\":\"Balto\",\"size\":14},\"height\":490.18404907975463,\"hovermode\":\"closest\",\"margin\":{\"b\":50,\"l\":50,\"pad\":4,\"r\":50,\"t\":50},\"showlegend\":true,\"title\":{\"text\":\"Window=8, Matched \\u2265 8\\u002f8 & Gap \\u2264 0\"},\"width\":500,\"xaxis\":{\"mirror\":true,\"range\":[0,2445],\"showgrid\":false,\"showline\":true,\"title\":{\"text\":\"Human\"},\"visible\":true},\"yaxis\":{\"mirror\":true,\"range\":[0,2397],\"showgrid\":false,\"showline\":true,\"title\":{\"text\":\"Mouse\"},\"visible\":true},\"template\":{\"data\":{\"histogram2dcontour\":[{\"type\":\"histogram2dcontour\",\"colorbar\":{\"outlinewidth\":0,\"ticks\":\"\"},\"colorscale\":[[0.0,\"#0d0887\"],[0.1111111111111111,\"#46039f\"],[0.2222222222222222,\"#7201a8\"],[0.3333333333333333,\"#9c179e\"],[0.4444444444444444,\"#bd3786\"],[0.5555555555555556,\"#d8576b\"],[0.6666666666666666,\"#ed7953\"],[0.7777777777777778,\"#fb9f3a\"],[0.8888888888888888,\"#fdca26\"],[1.0,\"#f0f921\"]]}],\"choropleth\":[{\"type\":\"choropleth\",\"colorbar\":{\"outlinewidth\":0,\"ticks\":\"\"}}],\"histogram2d\":[{\"type\":\"histogram2d\",\"colorbar\":{\"outlinewidth\":0,\"ticks\":\"\"},\"colorscale\":[[0.0,\"#0d0887\"],[0.1111111111111111,\"#46039f\"],[0.2222222222222222,\"#7201a8\"],[0.3333333333333333,\"#9c179e\"],[0.4444444444444444,\"#bd3786\"],[0.5555555555555556,\"#d8576b\"],[0.6666666666666666,\"#ed7953\"],[0.7777777777777778,\"#fb9f3a\"],[0.8888888888888888,\"#fdca26\"],[1.0,\"#f0f921\"]]}],\"heatmap\":[{\"type\":\"heatmap\",\"colorbar\":{\"outlinewidth\":0,\"ticks\":\"\"},\"colorscale\":[[0.0,\"#0d0887\"],[0.1111111111111111,\"#46039f\"],[0.2222222222222222,\"#7201a8\"],[0.3333333333333333,\"#9c179e\"],[0.4444444444444444,\"#bd3786\"],[0.5555555555555556,\"#d8576b\"],[0.6666666666666666,\"#ed7953\"],[0.7777777777777778,\"#fb9f3a\"],[0.8888888888888888,\"#fdca26\"],[1.0,\"#f0f921\"]]}],\"heatmapgl\":[{\"type\":\"heatmapgl\",\"colorbar\":{\"outlinewidth\":0,\"ticks\":\"\"},\"colorscale\":[[0.0,\"#0d0887\"],[0.1111111111111111,\"#46039f\"],[0.2222222222222222,\"#7201a8\"],[0.3333333333333333,\"#9c179e\"],[0.4444444444444444,\"#bd3786\"],[0.5555555555555556,\"#d8576b\"],[0.6666666666666666,\"#ed7953\"],[0.7777777777777778,\"#fb9f3a\"],[0.8888888888888888,\"#fdca26\"],[1.0,\"#f0f921\"]]}],\"contourcarpet\":[{\"type\":\"contourcarpet\",\"colorbar\":{\"outlinewidth\":0,\"ticks\":\"\"}}],\"contour\":[{\"type\":\"contour\",\"colorbar\":{\"outlinewidth\":0,\"ticks\":\"\"},\"colorscale\":[[0.0,\"#0d0887\"],[0.1111111111111111,\"#46039f\"],[0.2222222222222222,\"#7201a8\"],[0.3333333333333333,\"#9c179e\"],[0.4444444444444444,\"#bd3786\"],[0.5555555555555556,\"#d8576b\"],[0.6666666666666666,\"#ed7953\"],[0.7777777777777778,\"#fb9f3a\"],[0.8888888888888888,\"#fdca26\"],[1.0,\"#f0f921\"]]}],\"surface\":[{\"type\":\"surface\",\"colorbar\":{\"outlinewidth\":0,\"ticks\":\"\"},\"colorscale\":[[0.0,\"#0d0887\"],[0.1111111111111111,\"#46039f\"],[0.2222222222222222,\"#7201a8\"],[0.3333333333333333,\"#9c179e\"],[0.4444444444444444,\"#bd3786\"],[0.5555555555555556,\"#d8576b\"],[0.6666666666666666,\"#ed7953\"],[0.7777777777777778,\"#fb9f3a\"],[0.8888888888888888,\"#fdca26\"],[1.0,\"#f0f921\"]]}],\"mesh3d\":[{\"type\":\"mesh3d\",\"colorbar\":{\"outlinewidth\":0,\"ticks\":\"\"}}],\"scatter\":[{\"fillpattern\":{\"fillmode\":\"overlay\",\"size\":10,\"solidity\":0.2},\"type\":\"scatter\"}],\"parcoords\":[{\"type\":\"parcoords\",\"line\":{\"colorbar\":{\"outlinewidth\":0,\"ticks\":\"\"}}}],\"scatterpolargl\":[{\"type\":\"scatterpolargl\",\"marker\":{\"colorbar\":{\"outlinewidth\":0,\"ticks\":\"\"}}}],\"bar\":[{\"error_x\":{\"color\":\"#2a3f5f\"},\"error_y\":{\"color\":\"#2a3f5f\"},\"marker\":{\"line\":{\"color\":\"#E5ECF6\",\"width\":0.5},\"pattern\":{\"fillmode\":\"overlay\",\"size\":10,\"solidity\":0.2}},\"type\":\"bar\"}],\"scattergeo\":[{\"type\":\"scattergeo\",\"marker\":{\"colorbar\":{\"outlinewidth\":0,\"ticks\":\"\"}}}],\"scatterpolar\":[{\"type\":\"scatterpolar\",\"marker\":{\"colorbar\":{\"outlinewidth\":0,\"ticks\":\"\"}}}],\"histogram\":[{\"marker\":{\"pattern\":{\"fillmode\":\"overlay\",\"size\":10,\"solidity\":0.2}},\"type\":\"histogram\"}],\"scattergl\":[{\"type\":\"scattergl\",\"marker\":{\"colorbar\":{\"outlinewidth\":0,\"ticks\":\"\"}}}],\"scatter3d\":[{\"type\":\"scatter3d\",\"line\":{\"colorbar\":{\"outlinewidth\":0,\"ticks\":\"\"}},\"marker\":{\"colorbar\":{\"outlinewidth\":0,\"ticks\":\"\"}}}],\"scattermapbox\":[{\"type\":\"scattermapbox\",\"marker\":{\"colorbar\":{\"outlinewidth\":0,\"ticks\":\"\"}}}],\"scatterternary\":[{\"type\":\"scatterternary\",\"marker\":{\"colorbar\":{\"outlinewidth\":0,\"ticks\":\"\"}}}],\"scattercarpet\":[{\"type\":\"scattercarpet\",\"marker\":{\"colorbar\":{\"outlinewidth\":0,\"ticks\":\"\"}}}],\"carpet\":[{\"aaxis\":{\"endlinecolor\":\"#2a3f5f\",\"gridcolor\":\"white\",\"linecolor\":\"white\",\"minorgridcolor\":\"white\",\"startlinecolor\":\"#2a3f5f\"},\"baxis\":{\"endlinecolor\":\"#2a3f5f\",\"gridcolor\":\"white\",\"linecolor\":\"white\",\"minorgridcolor\":\"white\",\"startlinecolor\":\"#2a3f5f\"},\"type\":\"carpet\"}],\"table\":[{\"cells\":{\"fill\":{\"color\":\"#EBF0F8\"},\"line\":{\"color\":\"white\"}},\"header\":{\"fill\":{\"color\":\"#C8D4E3\"},\"line\":{\"color\":\"white\"}},\"type\":\"table\"}],\"barpolar\":[{\"marker\":{\"line\":{\"color\":\"#E5ECF6\",\"width\":0.5},\"pattern\":{\"fillmode\":\"overlay\",\"size\":10,\"solidity\":0.2}},\"type\":\"barpolar\"}],\"pie\":[{\"automargin\":true,\"type\":\"pie\"}]},\"layout\":{\"autotypenumbers\":\"strict\",\"colorway\":[\"#636efa\",\"#EF553B\",\"#00cc96\",\"#ab63fa\",\"#FFA15A\",\"#19d3f3\",\"#FF6692\",\"#B6E880\",\"#FF97FF\",\"#FECB52\"],\"font\":{\"color\":\"#2a3f5f\"},\"hovermode\":\"closest\",\"hoverlabel\":{\"align\":\"left\"},\"paper_bgcolor\":\"white\",\"plot_bgcolor\":\"#E5ECF6\",\"polar\":{\"bgcolor\":\"#E5ECF6\",\"angularaxis\":{\"gridcolor\":\"white\",\"linecolor\":\"white\",\"ticks\":\"\"},\"radialaxis\":{\"gridcolor\":\"white\",\"linecolor\":\"white\",\"ticks\":\"\"}},\"ternary\":{\"bgcolor\":\"#E5ECF6\",\"aaxis\":{\"gridcolor\":\"white\",\"linecolor\":\"white\",\"ticks\":\"\"},\"baxis\":{\"gridcolor\":\"white\",\"linecolor\":\"white\",\"ticks\":\"\"},\"caxis\":{\"gridcolor\":\"white\",\"linecolor\":\"white\",\"ticks\":\"\"}},\"coloraxis\":{\"colorbar\":{\"outlinewidth\":0,\"ticks\":\"\"}},\"colorscale\":{\"sequential\":[[0.0,\"#0d0887\"],[0.1111111111111111,\"#46039f\"],[0.2222222222222222,\"#7201a8\"],[0.3333333333333333,\"#9c179e\"],[0.4444444444444444,\"#bd3786\"],[0.5555555555555556,\"#d8576b\"],[0.6666666666666666,\"#ed7953\"],[0.7777777777777778,\"#fb9f3a\"],[0.8888888888888888,\"#fdca26\"],[1.0,\"#f0f921\"]],\"sequentialminus\":[[0.0,\"#0d0887\"],[0.1111111111111111,\"#46039f\"],[0.2222222222222222,\"#7201a8\"],[0.3333333333333333,\"#9c179e\"],[0.4444444444444444,\"#bd3786\"],[0.5555555555555556,\"#d8576b\"],[0.6666666666666666,\"#ed7953\"],[0.7777777777777778,\"#fb9f3a\"],[0.8888888888888888,\"#fdca26\"],[1.0,\"#f0f921\"]],\"diverging\":[[0,\"#8e0152\"],[0.1,\"#c51b7d\"],[0.2,\"#de77ae\"],[0.3,\"#f1b6da\"],[0.4,\"#fde0ef\"],[0.5,\"#f7f7f7\"],[0.6,\"#e6f5d0\"],[0.7,\"#b8e186\"],[0.8,\"#7fbc41\"],[0.9,\"#4d9221\"],[1,\"#276419\"]]},\"xaxis\":{\"gridcolor\":\"white\",\"linecolor\":\"white\",\"ticks\":\"\",\"title\":{\"standoff\":15},\"zerolinecolor\":\"white\",\"automargin\":true,\"zerolinewidth\":2},\"yaxis\":{\"gridcolor\":\"white\",\"linecolor\":\"white\",\"ticks\":\"\",\"title\":{\"standoff\":15},\"zerolinecolor\":\"white\",\"automargin\":true,\"zerolinewidth\":2},\"scene\":{\"xaxis\":{\"backgroundcolor\":\"#E5ECF6\",\"gridcolor\":\"white\",\"linecolor\":\"white\",\"showbackground\":true,\"ticks\":\"\",\"zerolinecolor\":\"white\",\"gridwidth\":2},\"yaxis\":{\"backgroundcolor\":\"#E5ECF6\",\"gridcolor\":\"white\",\"linecolor\":\"white\",\"showbackground\":true,\"ticks\":\"\",\"zerolinecolor\":\"white\",\"gridwidth\":2},\"zaxis\":{\"backgroundcolor\":\"#E5ECF6\",\"gridcolor\":\"white\",\"linecolor\":\"white\",\"showbackground\":true,\"ticks\":\"\",\"zerolinecolor\":\"white\",\"gridwidth\":2}},\"shapedefaults\":{\"line\":{\"color\":\"#2a3f5f\"}},\"annotationdefaults\":{\"arrowcolor\":\"#2a3f5f\",\"arrowhead\":0,\"arrowwidth\":1},\"geo\":{\"bgcolor\":\"white\",\"landcolor\":\"#E5ECF6\",\"subunitcolor\":\"white\",\"showland\":true,\"showlakes\":true,\"lakecolor\":\"white\"},\"title\":{\"x\":0.05},\"mapbox\":{\"style\":\"light\"}}}},                        {\"responsive\": true}                    ).then(function(){\n",
       "\n",
       "var gd = document.getElementById('aaf205e2-854a-427d-86d5-dbd65aacbdfd');\n",
       "var x = new MutationObserver(function (mutations, observer) {{\n",
       "        var display = window.getComputedStyle(gd).display;\n",
       "        if (!display || display === 'none') {{\n",
       "            console.log([gd, 'removed!']);\n",
       "            Plotly.purge(gd);\n",
       "            observer.disconnect();\n",
       "        }}\n",
       "}});\n",
       "\n",
       "// Listen for the removal of the full notebook cells\n",
       "var notebookContainer = gd.closest('#notebook-container');\n",
       "if (notebookContainer) {{\n",
       "    x.observe(notebookContainer, {childList: true});\n",
       "}}\n",
       "\n",
       "// Listen for the clearing of the current output cell\n",
       "var outputEl = gd.closest('.output');\n",
       "if (outputEl) {{\n",
       "    x.observe(outputEl, {childList: true});\n",
       "}}\n",
       "\n",
       "                        })                };                });            </script>        </div>"
      ]
     },
     "metadata": {},
     "output_type": "display_data"
    }
   ],
   "source": [
    "draw = seqs.dotplot(name1=\"Human\", name2=\"Mouse\", window=8, threshold=8)\n",
    "draw.show()"
   ]
  },
  {
   "cell_type": "code",
   "execution_count": 5,
   "id": "c368ea58",
   "metadata": {
    "execution": {
     "iopub.execute_input": "2023-07-17T11:22:01.179152Z",
     "iopub.status.busy": "2023-07-17T11:22:01.179072Z",
     "iopub.status.idle": "2023-07-17T11:22:01.197595Z",
     "shell.execute_reply": "2023-07-17T11:22:01.197371Z"
    }
   },
   "outputs": [
    {
     "data": {
      "text/html": [
       "<script type=\"text/javascript\">\n",
       "window.PlotlyConfig = {MathJaxConfig: 'local'};\n",
       "if (window.MathJax && window.MathJax.Hub && window.MathJax.Hub.Config) {window.MathJax.Hub.Config({SVG: {font: \"STIX-Web\"}});}\n",
       "if (typeof require !== 'undefined') {\n",
       "require.undef(\"plotly\");\n",
       "requirejs.config({\n",
       "    paths: {\n",
       "        'plotly': ['https://cdn.plot.ly/plotly-2.24.1.min']\n",
       "    }\n",
       "});\n",
       "require(['plotly'], function(Plotly) {\n",
       "    window._Plotly = Plotly;\n",
       "});\n",
       "}\n",
       "</script>\n"
      ]
     },
     "metadata": {},
     "output_type": "display_data"
    },
    {
     "data": {
      "application/vnd.plotly.v1+json": {
       "config": {
        "plotlyServerURL": "https://plot.ly"
       },
       "data": [
        {
         "line": {
          "color": "blue"
         },
         "mode": "lines",
         "name": "+ strand",
         "showlegend": true,
         "type": "scatter",
         "x": [
          0,
          158,
          null,
          168,
          221,
          null,
          1564,
          1698,
          null,
          1194,
          1698,
          null,
          825,
          881,
          null,
          1857,
          1928,
          null,
          1690,
          1928,
          null,
          778,
          881,
          null,
          1164,
          1698,
          null,
          911,
          1018,
          null,
          662,
          685,
          null,
          1110,
          1698,
          null,
          710,
          779,
          null,
          1068,
          1698,
          null,
          880,
          1698,
          null,
          2236,
          2445,
          null,
          1974,
          2445,
          null,
          1943,
          2445,
          null,
          1910,
          2445,
          null,
          376,
          425,
          null,
          474,
          595,
          null,
          314,
          425,
          null,
          211,
          323,
          null,
          451,
          595,
          null,
          417,
          595,
          null,
          910,
          937,
          null,
          1144,
          1171,
          null,
          179,
          209,
          null,
          665,
          732,
          null,
          269,
          289,
          null,
          294,
          316,
          null,
          1330,
          1351,
          null,
          342,
          374,
          null,
          731,
          758,
          null,
          1447,
          1470,
          null,
          663,
          690,
          null,
          1003,
          1033,
          null,
          697,
          717,
          null,
          1080,
          1103,
          null,
          1388,
          1415,
          null,
          1701,
          1725,
          null,
          2273,
          2293
         ],
         "xaxis": "x",
         "y": [
          0,
          158,
          null,
          168,
          221,
          null,
          1492,
          1626,
          null,
          1122,
          1626,
          null,
          753,
          809,
          null,
          1785,
          1856,
          null,
          1618,
          1856,
          null,
          706,
          809,
          null,
          1092,
          1626,
          null,
          839,
          946,
          null,
          590,
          613,
          null,
          1038,
          1626,
          null,
          638,
          707,
          null,
          996,
          1626,
          null,
          808,
          1626,
          null,
          2188,
          2397,
          null,
          1926,
          2397,
          null,
          1895,
          2397,
          null,
          1862,
          2397,
          null,
          373,
          422,
          null,
          471,
          592,
          null,
          311,
          422,
          null,
          208,
          320,
          null,
          448,
          592,
          null,
          414,
          592,
          null,
          34,
          61,
          null,
          1498,
          1525,
          null,
          320,
          350,
          null,
          590,
          657,
          null,
          504,
          524,
          null,
          1614,
          1636,
          null,
          1402,
          1423,
          null,
          457,
          489,
          null,
          347,
          374,
          null,
          754,
          777,
          null,
          1085,
          1112,
          null,
          1090,
          1120,
          null,
          1458,
          1478,
          null,
          1351,
          1374,
          null,
          1160,
          1187,
          null,
          1285,
          1309,
          null,
          842,
          862
         ],
         "yaxis": "y"
        },
        {
         "line": {
          "color": "red"
         },
         "mode": "lines",
         "name": "- strand",
         "showlegend": true,
         "type": "scatter",
         "x": [
          148,
          168,
          null,
          1347,
          1367,
          null,
          1962,
          1982,
          null,
          262,
          283,
          null,
          465,
          493,
          null,
          934,
          954,
          null,
          1351,
          1371,
          null,
          1397,
          1419,
          null,
          1465,
          1485,
          null,
          1741,
          1763
         ],
         "xaxis": "x",
         "y": [
          68,
          48,
          null,
          1610,
          1590,
          null,
          1420,
          1400,
          null,
          707,
          686,
          null,
          101,
          73,
          null,
          73,
          53,
          null,
          2381,
          2361,
          null,
          544,
          522,
          null,
          192,
          172,
          null,
          547,
          525
         ],
         "yaxis": "y"
        },
        {
         "line": {
          "color": "black",
          "dash": "dot"
         },
         "mode": "lines",
         "name": "Alignment",
         "showlegend": true,
         "type": "scatter",
         "x": [],
         "xaxis": "x",
         "y": [],
         "yaxis": "y"
        }
       ],
       "layout": {
        "autosize": false,
        "font": {
         "family": "Balto",
         "size": 14
        },
        "height": 490.18404907975463,
        "hovermode": "closest",
        "margin": {
         "b": 50,
         "l": 50,
         "pad": 4,
         "r": 50,
         "t": 50
        },
        "showlegend": true,
        "template": {
         "data": {
          "bar": [
           {
            "error_x": {
             "color": "#2a3f5f"
            },
            "error_y": {
             "color": "#2a3f5f"
            },
            "marker": {
             "line": {
              "color": "#E5ECF6",
              "width": 0.5
             },
             "pattern": {
              "fillmode": "overlay",
              "size": 10,
              "solidity": 0.2
             }
            },
            "type": "bar"
           }
          ],
          "barpolar": [
           {
            "marker": {
             "line": {
              "color": "#E5ECF6",
              "width": 0.5
             },
             "pattern": {
              "fillmode": "overlay",
              "size": 10,
              "solidity": 0.2
             }
            },
            "type": "barpolar"
           }
          ],
          "carpet": [
           {
            "aaxis": {
             "endlinecolor": "#2a3f5f",
             "gridcolor": "white",
             "linecolor": "white",
             "minorgridcolor": "white",
             "startlinecolor": "#2a3f5f"
            },
            "baxis": {
             "endlinecolor": "#2a3f5f",
             "gridcolor": "white",
             "linecolor": "white",
             "minorgridcolor": "white",
             "startlinecolor": "#2a3f5f"
            },
            "type": "carpet"
           }
          ],
          "choropleth": [
           {
            "colorbar": {
             "outlinewidth": 0,
             "ticks": ""
            },
            "type": "choropleth"
           }
          ],
          "contour": [
           {
            "colorbar": {
             "outlinewidth": 0,
             "ticks": ""
            },
            "colorscale": [
             [
              0.0,
              "#0d0887"
             ],
             [
              0.1111111111111111,
              "#46039f"
             ],
             [
              0.2222222222222222,
              "#7201a8"
             ],
             [
              0.3333333333333333,
              "#9c179e"
             ],
             [
              0.4444444444444444,
              "#bd3786"
             ],
             [
              0.5555555555555556,
              "#d8576b"
             ],
             [
              0.6666666666666666,
              "#ed7953"
             ],
             [
              0.7777777777777778,
              "#fb9f3a"
             ],
             [
              0.8888888888888888,
              "#fdca26"
             ],
             [
              1.0,
              "#f0f921"
             ]
            ],
            "type": "contour"
           }
          ],
          "contourcarpet": [
           {
            "colorbar": {
             "outlinewidth": 0,
             "ticks": ""
            },
            "type": "contourcarpet"
           }
          ],
          "heatmap": [
           {
            "colorbar": {
             "outlinewidth": 0,
             "ticks": ""
            },
            "colorscale": [
             [
              0.0,
              "#0d0887"
             ],
             [
              0.1111111111111111,
              "#46039f"
             ],
             [
              0.2222222222222222,
              "#7201a8"
             ],
             [
              0.3333333333333333,
              "#9c179e"
             ],
             [
              0.4444444444444444,
              "#bd3786"
             ],
             [
              0.5555555555555556,
              "#d8576b"
             ],
             [
              0.6666666666666666,
              "#ed7953"
             ],
             [
              0.7777777777777778,
              "#fb9f3a"
             ],
             [
              0.8888888888888888,
              "#fdca26"
             ],
             [
              1.0,
              "#f0f921"
             ]
            ],
            "type": "heatmap"
           }
          ],
          "heatmapgl": [
           {
            "colorbar": {
             "outlinewidth": 0,
             "ticks": ""
            },
            "colorscale": [
             [
              0.0,
              "#0d0887"
             ],
             [
              0.1111111111111111,
              "#46039f"
             ],
             [
              0.2222222222222222,
              "#7201a8"
             ],
             [
              0.3333333333333333,
              "#9c179e"
             ],
             [
              0.4444444444444444,
              "#bd3786"
             ],
             [
              0.5555555555555556,
              "#d8576b"
             ],
             [
              0.6666666666666666,
              "#ed7953"
             ],
             [
              0.7777777777777778,
              "#fb9f3a"
             ],
             [
              0.8888888888888888,
              "#fdca26"
             ],
             [
              1.0,
              "#f0f921"
             ]
            ],
            "type": "heatmapgl"
           }
          ],
          "histogram": [
           {
            "marker": {
             "pattern": {
              "fillmode": "overlay",
              "size": 10,
              "solidity": 0.2
             }
            },
            "type": "histogram"
           }
          ],
          "histogram2d": [
           {
            "colorbar": {
             "outlinewidth": 0,
             "ticks": ""
            },
            "colorscale": [
             [
              0.0,
              "#0d0887"
             ],
             [
              0.1111111111111111,
              "#46039f"
             ],
             [
              0.2222222222222222,
              "#7201a8"
             ],
             [
              0.3333333333333333,
              "#9c179e"
             ],
             [
              0.4444444444444444,
              "#bd3786"
             ],
             [
              0.5555555555555556,
              "#d8576b"
             ],
             [
              0.6666666666666666,
              "#ed7953"
             ],
             [
              0.7777777777777778,
              "#fb9f3a"
             ],
             [
              0.8888888888888888,
              "#fdca26"
             ],
             [
              1.0,
              "#f0f921"
             ]
            ],
            "type": "histogram2d"
           }
          ],
          "histogram2dcontour": [
           {
            "colorbar": {
             "outlinewidth": 0,
             "ticks": ""
            },
            "colorscale": [
             [
              0.0,
              "#0d0887"
             ],
             [
              0.1111111111111111,
              "#46039f"
             ],
             [
              0.2222222222222222,
              "#7201a8"
             ],
             [
              0.3333333333333333,
              "#9c179e"
             ],
             [
              0.4444444444444444,
              "#bd3786"
             ],
             [
              0.5555555555555556,
              "#d8576b"
             ],
             [
              0.6666666666666666,
              "#ed7953"
             ],
             [
              0.7777777777777778,
              "#fb9f3a"
             ],
             [
              0.8888888888888888,
              "#fdca26"
             ],
             [
              1.0,
              "#f0f921"
             ]
            ],
            "type": "histogram2dcontour"
           }
          ],
          "mesh3d": [
           {
            "colorbar": {
             "outlinewidth": 0,
             "ticks": ""
            },
            "type": "mesh3d"
           }
          ],
          "parcoords": [
           {
            "line": {
             "colorbar": {
              "outlinewidth": 0,
              "ticks": ""
             }
            },
            "type": "parcoords"
           }
          ],
          "pie": [
           {
            "automargin": true,
            "type": "pie"
           }
          ],
          "scatter": [
           {
            "fillpattern": {
             "fillmode": "overlay",
             "size": 10,
             "solidity": 0.2
            },
            "type": "scatter"
           }
          ],
          "scatter3d": [
           {
            "line": {
             "colorbar": {
              "outlinewidth": 0,
              "ticks": ""
             }
            },
            "marker": {
             "colorbar": {
              "outlinewidth": 0,
              "ticks": ""
             }
            },
            "type": "scatter3d"
           }
          ],
          "scattercarpet": [
           {
            "marker": {
             "colorbar": {
              "outlinewidth": 0,
              "ticks": ""
             }
            },
            "type": "scattercarpet"
           }
          ],
          "scattergeo": [
           {
            "marker": {
             "colorbar": {
              "outlinewidth": 0,
              "ticks": ""
             }
            },
            "type": "scattergeo"
           }
          ],
          "scattergl": [
           {
            "marker": {
             "colorbar": {
              "outlinewidth": 0,
              "ticks": ""
             }
            },
            "type": "scattergl"
           }
          ],
          "scattermapbox": [
           {
            "marker": {
             "colorbar": {
              "outlinewidth": 0,
              "ticks": ""
             }
            },
            "type": "scattermapbox"
           }
          ],
          "scatterpolar": [
           {
            "marker": {
             "colorbar": {
              "outlinewidth": 0,
              "ticks": ""
             }
            },
            "type": "scatterpolar"
           }
          ],
          "scatterpolargl": [
           {
            "marker": {
             "colorbar": {
              "outlinewidth": 0,
              "ticks": ""
             }
            },
            "type": "scatterpolargl"
           }
          ],
          "scatterternary": [
           {
            "marker": {
             "colorbar": {
              "outlinewidth": 0,
              "ticks": ""
             }
            },
            "type": "scatterternary"
           }
          ],
          "surface": [
           {
            "colorbar": {
             "outlinewidth": 0,
             "ticks": ""
            },
            "colorscale": [
             [
              0.0,
              "#0d0887"
             ],
             [
              0.1111111111111111,
              "#46039f"
             ],
             [
              0.2222222222222222,
              "#7201a8"
             ],
             [
              0.3333333333333333,
              "#9c179e"
             ],
             [
              0.4444444444444444,
              "#bd3786"
             ],
             [
              0.5555555555555556,
              "#d8576b"
             ],
             [
              0.6666666666666666,
              "#ed7953"
             ],
             [
              0.7777777777777778,
              "#fb9f3a"
             ],
             [
              0.8888888888888888,
              "#fdca26"
             ],
             [
              1.0,
              "#f0f921"
             ]
            ],
            "type": "surface"
           }
          ],
          "table": [
           {
            "cells": {
             "fill": {
              "color": "#EBF0F8"
             },
             "line": {
              "color": "white"
             }
            },
            "header": {
             "fill": {
              "color": "#C8D4E3"
             },
             "line": {
              "color": "white"
             }
            },
            "type": "table"
           }
          ]
         },
         "layout": {
          "annotationdefaults": {
           "arrowcolor": "#2a3f5f",
           "arrowhead": 0,
           "arrowwidth": 1
          },
          "autotypenumbers": "strict",
          "coloraxis": {
           "colorbar": {
            "outlinewidth": 0,
            "ticks": ""
           }
          },
          "colorscale": {
           "diverging": [
            [
             0,
             "#8e0152"
            ],
            [
             0.1,
             "#c51b7d"
            ],
            [
             0.2,
             "#de77ae"
            ],
            [
             0.3,
             "#f1b6da"
            ],
            [
             0.4,
             "#fde0ef"
            ],
            [
             0.5,
             "#f7f7f7"
            ],
            [
             0.6,
             "#e6f5d0"
            ],
            [
             0.7,
             "#b8e186"
            ],
            [
             0.8,
             "#7fbc41"
            ],
            [
             0.9,
             "#4d9221"
            ],
            [
             1,
             "#276419"
            ]
           ],
           "sequential": [
            [
             0.0,
             "#0d0887"
            ],
            [
             0.1111111111111111,
             "#46039f"
            ],
            [
             0.2222222222222222,
             "#7201a8"
            ],
            [
             0.3333333333333333,
             "#9c179e"
            ],
            [
             0.4444444444444444,
             "#bd3786"
            ],
            [
             0.5555555555555556,
             "#d8576b"
            ],
            [
             0.6666666666666666,
             "#ed7953"
            ],
            [
             0.7777777777777778,
             "#fb9f3a"
            ],
            [
             0.8888888888888888,
             "#fdca26"
            ],
            [
             1.0,
             "#f0f921"
            ]
           ],
           "sequentialminus": [
            [
             0.0,
             "#0d0887"
            ],
            [
             0.1111111111111111,
             "#46039f"
            ],
            [
             0.2222222222222222,
             "#7201a8"
            ],
            [
             0.3333333333333333,
             "#9c179e"
            ],
            [
             0.4444444444444444,
             "#bd3786"
            ],
            [
             0.5555555555555556,
             "#d8576b"
            ],
            [
             0.6666666666666666,
             "#ed7953"
            ],
            [
             0.7777777777777778,
             "#fb9f3a"
            ],
            [
             0.8888888888888888,
             "#fdca26"
            ],
            [
             1.0,
             "#f0f921"
            ]
           ]
          },
          "colorway": [
           "#636efa",
           "#EF553B",
           "#00cc96",
           "#ab63fa",
           "#FFA15A",
           "#19d3f3",
           "#FF6692",
           "#B6E880",
           "#FF97FF",
           "#FECB52"
          ],
          "font": {
           "color": "#2a3f5f"
          },
          "geo": {
           "bgcolor": "white",
           "lakecolor": "white",
           "landcolor": "#E5ECF6",
           "showlakes": true,
           "showland": true,
           "subunitcolor": "white"
          },
          "hoverlabel": {
           "align": "left"
          },
          "hovermode": "closest",
          "mapbox": {
           "style": "light"
          },
          "paper_bgcolor": "white",
          "plot_bgcolor": "#E5ECF6",
          "polar": {
           "angularaxis": {
            "gridcolor": "white",
            "linecolor": "white",
            "ticks": ""
           },
           "bgcolor": "#E5ECF6",
           "radialaxis": {
            "gridcolor": "white",
            "linecolor": "white",
            "ticks": ""
           }
          },
          "scene": {
           "xaxis": {
            "backgroundcolor": "#E5ECF6",
            "gridcolor": "white",
            "gridwidth": 2,
            "linecolor": "white",
            "showbackground": true,
            "ticks": "",
            "zerolinecolor": "white"
           },
           "yaxis": {
            "backgroundcolor": "#E5ECF6",
            "gridcolor": "white",
            "gridwidth": 2,
            "linecolor": "white",
            "showbackground": true,
            "ticks": "",
            "zerolinecolor": "white"
           },
           "zaxis": {
            "backgroundcolor": "#E5ECF6",
            "gridcolor": "white",
            "gridwidth": 2,
            "linecolor": "white",
            "showbackground": true,
            "ticks": "",
            "zerolinecolor": "white"
           }
          },
          "shapedefaults": {
           "line": {
            "color": "#2a3f5f"
           }
          },
          "ternary": {
           "aaxis": {
            "gridcolor": "white",
            "linecolor": "white",
            "ticks": ""
           },
           "baxis": {
            "gridcolor": "white",
            "linecolor": "white",
            "ticks": ""
           },
           "bgcolor": "#E5ECF6",
           "caxis": {
            "gridcolor": "white",
            "linecolor": "white",
            "ticks": ""
           }
          },
          "title": {
           "x": 0.05
          },
          "xaxis": {
           "automargin": true,
           "gridcolor": "white",
           "linecolor": "white",
           "ticks": "",
           "title": {
            "standoff": 15
           },
           "zerolinecolor": "white",
           "zerolinewidth": 2
          },
          "yaxis": {
           "automargin": true,
           "gridcolor": "white",
           "linecolor": "white",
           "ticks": "",
           "title": {
            "standoff": 15
           },
           "zerolinecolor": "white",
           "zerolinewidth": 2
          }
         }
        },
        "title": {
         "text": "Window=20, Matched ≥ 14/20 & Gap ≤ 0"
        },
        "width": 500,
        "xaxis": {
         "mirror": true,
         "range": [
          0,
          2445
         ],
         "showgrid": false,
         "showline": true,
         "title": {
          "text": "Human"
         },
         "visible": true
        },
        "yaxis": {
         "mirror": true,
         "range": [
          0,
          2397
         ],
         "showgrid": false,
         "showline": true,
         "title": {
          "text": "Mouse"
         },
         "visible": true
        }
       }
      },
      "text/html": [
       "<div>                            <div id=\"5a28eee3-3e9f-49a7-a033-35c12146e32d\" class=\"plotly-graph-div\" style=\"height:490.18404907975463px; width:500px;\"></div>            <script type=\"text/javascript\">                require([\"plotly\"], function(Plotly) {                    window.PLOTLYENV=window.PLOTLYENV || {};                                    if (document.getElementById(\"5a28eee3-3e9f-49a7-a033-35c12146e32d\")) {                    Plotly.newPlot(                        \"5a28eee3-3e9f-49a7-a033-35c12146e32d\",                        [{\"line\":{\"color\":\"blue\"},\"mode\":\"lines\",\"name\":\"+ strand\",\"showlegend\":true,\"x\":[0,158,null,168,221,null,1564,1698,null,1194,1698,null,825,881,null,1857,1928,null,1690,1928,null,778,881,null,1164,1698,null,911,1018,null,662,685,null,1110,1698,null,710,779,null,1068,1698,null,880,1698,null,2236,2445,null,1974,2445,null,1943,2445,null,1910,2445,null,376,425,null,474,595,null,314,425,null,211,323,null,451,595,null,417,595,null,910,937,null,1144,1171,null,179,209,null,665,732,null,269,289,null,294,316,null,1330,1351,null,342,374,null,731,758,null,1447,1470,null,663,690,null,1003,1033,null,697,717,null,1080,1103,null,1388,1415,null,1701,1725,null,2273,2293],\"xaxis\":\"x\",\"y\":[0,158,null,168,221,null,1492,1626,null,1122,1626,null,753,809,null,1785,1856,null,1618,1856,null,706,809,null,1092,1626,null,839,946,null,590,613,null,1038,1626,null,638,707,null,996,1626,null,808,1626,null,2188,2397,null,1926,2397,null,1895,2397,null,1862,2397,null,373,422,null,471,592,null,311,422,null,208,320,null,448,592,null,414,592,null,34,61,null,1498,1525,null,320,350,null,590,657,null,504,524,null,1614,1636,null,1402,1423,null,457,489,null,347,374,null,754,777,null,1085,1112,null,1090,1120,null,1458,1478,null,1351,1374,null,1160,1187,null,1285,1309,null,842,862],\"yaxis\":\"y\",\"type\":\"scatter\"},{\"line\":{\"color\":\"red\"},\"mode\":\"lines\",\"name\":\"- strand\",\"showlegend\":true,\"x\":[148,168,null,1347,1367,null,1962,1982,null,262,283,null,465,493,null,934,954,null,1351,1371,null,1397,1419,null,1465,1485,null,1741,1763],\"xaxis\":\"x\",\"y\":[68,48,null,1610,1590,null,1420,1400,null,707,686,null,101,73,null,73,53,null,2381,2361,null,544,522,null,192,172,null,547,525],\"yaxis\":\"y\",\"type\":\"scatter\"},{\"line\":{\"color\":\"black\",\"dash\":\"dot\"},\"mode\":\"lines\",\"name\":\"Alignment\",\"showlegend\":true,\"x\":[],\"xaxis\":\"x\",\"y\":[],\"yaxis\":\"y\",\"type\":\"scatter\"}],                        {\"autosize\":false,\"font\":{\"family\":\"Balto\",\"size\":14},\"height\":490.18404907975463,\"hovermode\":\"closest\",\"margin\":{\"b\":50,\"l\":50,\"pad\":4,\"r\":50,\"t\":50},\"showlegend\":true,\"title\":{\"text\":\"Window=20, Matched \\u2265 14\\u002f20 & Gap \\u2264 0\"},\"width\":500,\"xaxis\":{\"mirror\":true,\"range\":[0,2445],\"showgrid\":false,\"showline\":true,\"title\":{\"text\":\"Human\"},\"visible\":true},\"yaxis\":{\"mirror\":true,\"range\":[0,2397],\"showgrid\":false,\"showline\":true,\"title\":{\"text\":\"Mouse\"},\"visible\":true},\"template\":{\"data\":{\"histogram2dcontour\":[{\"type\":\"histogram2dcontour\",\"colorbar\":{\"outlinewidth\":0,\"ticks\":\"\"},\"colorscale\":[[0.0,\"#0d0887\"],[0.1111111111111111,\"#46039f\"],[0.2222222222222222,\"#7201a8\"],[0.3333333333333333,\"#9c179e\"],[0.4444444444444444,\"#bd3786\"],[0.5555555555555556,\"#d8576b\"],[0.6666666666666666,\"#ed7953\"],[0.7777777777777778,\"#fb9f3a\"],[0.8888888888888888,\"#fdca26\"],[1.0,\"#f0f921\"]]}],\"choropleth\":[{\"type\":\"choropleth\",\"colorbar\":{\"outlinewidth\":0,\"ticks\":\"\"}}],\"histogram2d\":[{\"type\":\"histogram2d\",\"colorbar\":{\"outlinewidth\":0,\"ticks\":\"\"},\"colorscale\":[[0.0,\"#0d0887\"],[0.1111111111111111,\"#46039f\"],[0.2222222222222222,\"#7201a8\"],[0.3333333333333333,\"#9c179e\"],[0.4444444444444444,\"#bd3786\"],[0.5555555555555556,\"#d8576b\"],[0.6666666666666666,\"#ed7953\"],[0.7777777777777778,\"#fb9f3a\"],[0.8888888888888888,\"#fdca26\"],[1.0,\"#f0f921\"]]}],\"heatmap\":[{\"type\":\"heatmap\",\"colorbar\":{\"outlinewidth\":0,\"ticks\":\"\"},\"colorscale\":[[0.0,\"#0d0887\"],[0.1111111111111111,\"#46039f\"],[0.2222222222222222,\"#7201a8\"],[0.3333333333333333,\"#9c179e\"],[0.4444444444444444,\"#bd3786\"],[0.5555555555555556,\"#d8576b\"],[0.6666666666666666,\"#ed7953\"],[0.7777777777777778,\"#fb9f3a\"],[0.8888888888888888,\"#fdca26\"],[1.0,\"#f0f921\"]]}],\"heatmapgl\":[{\"type\":\"heatmapgl\",\"colorbar\":{\"outlinewidth\":0,\"ticks\":\"\"},\"colorscale\":[[0.0,\"#0d0887\"],[0.1111111111111111,\"#46039f\"],[0.2222222222222222,\"#7201a8\"],[0.3333333333333333,\"#9c179e\"],[0.4444444444444444,\"#bd3786\"],[0.5555555555555556,\"#d8576b\"],[0.6666666666666666,\"#ed7953\"],[0.7777777777777778,\"#fb9f3a\"],[0.8888888888888888,\"#fdca26\"],[1.0,\"#f0f921\"]]}],\"contourcarpet\":[{\"type\":\"contourcarpet\",\"colorbar\":{\"outlinewidth\":0,\"ticks\":\"\"}}],\"contour\":[{\"type\":\"contour\",\"colorbar\":{\"outlinewidth\":0,\"ticks\":\"\"},\"colorscale\":[[0.0,\"#0d0887\"],[0.1111111111111111,\"#46039f\"],[0.2222222222222222,\"#7201a8\"],[0.3333333333333333,\"#9c179e\"],[0.4444444444444444,\"#bd3786\"],[0.5555555555555556,\"#d8576b\"],[0.6666666666666666,\"#ed7953\"],[0.7777777777777778,\"#fb9f3a\"],[0.8888888888888888,\"#fdca26\"],[1.0,\"#f0f921\"]]}],\"surface\":[{\"type\":\"surface\",\"colorbar\":{\"outlinewidth\":0,\"ticks\":\"\"},\"colorscale\":[[0.0,\"#0d0887\"],[0.1111111111111111,\"#46039f\"],[0.2222222222222222,\"#7201a8\"],[0.3333333333333333,\"#9c179e\"],[0.4444444444444444,\"#bd3786\"],[0.5555555555555556,\"#d8576b\"],[0.6666666666666666,\"#ed7953\"],[0.7777777777777778,\"#fb9f3a\"],[0.8888888888888888,\"#fdca26\"],[1.0,\"#f0f921\"]]}],\"mesh3d\":[{\"type\":\"mesh3d\",\"colorbar\":{\"outlinewidth\":0,\"ticks\":\"\"}}],\"scatter\":[{\"fillpattern\":{\"fillmode\":\"overlay\",\"size\":10,\"solidity\":0.2},\"type\":\"scatter\"}],\"parcoords\":[{\"type\":\"parcoords\",\"line\":{\"colorbar\":{\"outlinewidth\":0,\"ticks\":\"\"}}}],\"scatterpolargl\":[{\"type\":\"scatterpolargl\",\"marker\":{\"colorbar\":{\"outlinewidth\":0,\"ticks\":\"\"}}}],\"bar\":[{\"error_x\":{\"color\":\"#2a3f5f\"},\"error_y\":{\"color\":\"#2a3f5f\"},\"marker\":{\"line\":{\"color\":\"#E5ECF6\",\"width\":0.5},\"pattern\":{\"fillmode\":\"overlay\",\"size\":10,\"solidity\":0.2}},\"type\":\"bar\"}],\"scattergeo\":[{\"type\":\"scattergeo\",\"marker\":{\"colorbar\":{\"outlinewidth\":0,\"ticks\":\"\"}}}],\"scatterpolar\":[{\"type\":\"scatterpolar\",\"marker\":{\"colorbar\":{\"outlinewidth\":0,\"ticks\":\"\"}}}],\"histogram\":[{\"marker\":{\"pattern\":{\"fillmode\":\"overlay\",\"size\":10,\"solidity\":0.2}},\"type\":\"histogram\"}],\"scattergl\":[{\"type\":\"scattergl\",\"marker\":{\"colorbar\":{\"outlinewidth\":0,\"ticks\":\"\"}}}],\"scatter3d\":[{\"type\":\"scatter3d\",\"line\":{\"colorbar\":{\"outlinewidth\":0,\"ticks\":\"\"}},\"marker\":{\"colorbar\":{\"outlinewidth\":0,\"ticks\":\"\"}}}],\"scattermapbox\":[{\"type\":\"scattermapbox\",\"marker\":{\"colorbar\":{\"outlinewidth\":0,\"ticks\":\"\"}}}],\"scatterternary\":[{\"type\":\"scatterternary\",\"marker\":{\"colorbar\":{\"outlinewidth\":0,\"ticks\":\"\"}}}],\"scattercarpet\":[{\"type\":\"scattercarpet\",\"marker\":{\"colorbar\":{\"outlinewidth\":0,\"ticks\":\"\"}}}],\"carpet\":[{\"aaxis\":{\"endlinecolor\":\"#2a3f5f\",\"gridcolor\":\"white\",\"linecolor\":\"white\",\"minorgridcolor\":\"white\",\"startlinecolor\":\"#2a3f5f\"},\"baxis\":{\"endlinecolor\":\"#2a3f5f\",\"gridcolor\":\"white\",\"linecolor\":\"white\",\"minorgridcolor\":\"white\",\"startlinecolor\":\"#2a3f5f\"},\"type\":\"carpet\"}],\"table\":[{\"cells\":{\"fill\":{\"color\":\"#EBF0F8\"},\"line\":{\"color\":\"white\"}},\"header\":{\"fill\":{\"color\":\"#C8D4E3\"},\"line\":{\"color\":\"white\"}},\"type\":\"table\"}],\"barpolar\":[{\"marker\":{\"line\":{\"color\":\"#E5ECF6\",\"width\":0.5},\"pattern\":{\"fillmode\":\"overlay\",\"size\":10,\"solidity\":0.2}},\"type\":\"barpolar\"}],\"pie\":[{\"automargin\":true,\"type\":\"pie\"}]},\"layout\":{\"autotypenumbers\":\"strict\",\"colorway\":[\"#636efa\",\"#EF553B\",\"#00cc96\",\"#ab63fa\",\"#FFA15A\",\"#19d3f3\",\"#FF6692\",\"#B6E880\",\"#FF97FF\",\"#FECB52\"],\"font\":{\"color\":\"#2a3f5f\"},\"hovermode\":\"closest\",\"hoverlabel\":{\"align\":\"left\"},\"paper_bgcolor\":\"white\",\"plot_bgcolor\":\"#E5ECF6\",\"polar\":{\"bgcolor\":\"#E5ECF6\",\"angularaxis\":{\"gridcolor\":\"white\",\"linecolor\":\"white\",\"ticks\":\"\"},\"radialaxis\":{\"gridcolor\":\"white\",\"linecolor\":\"white\",\"ticks\":\"\"}},\"ternary\":{\"bgcolor\":\"#E5ECF6\",\"aaxis\":{\"gridcolor\":\"white\",\"linecolor\":\"white\",\"ticks\":\"\"},\"baxis\":{\"gridcolor\":\"white\",\"linecolor\":\"white\",\"ticks\":\"\"},\"caxis\":{\"gridcolor\":\"white\",\"linecolor\":\"white\",\"ticks\":\"\"}},\"coloraxis\":{\"colorbar\":{\"outlinewidth\":0,\"ticks\":\"\"}},\"colorscale\":{\"sequential\":[[0.0,\"#0d0887\"],[0.1111111111111111,\"#46039f\"],[0.2222222222222222,\"#7201a8\"],[0.3333333333333333,\"#9c179e\"],[0.4444444444444444,\"#bd3786\"],[0.5555555555555556,\"#d8576b\"],[0.6666666666666666,\"#ed7953\"],[0.7777777777777778,\"#fb9f3a\"],[0.8888888888888888,\"#fdca26\"],[1.0,\"#f0f921\"]],\"sequentialminus\":[[0.0,\"#0d0887\"],[0.1111111111111111,\"#46039f\"],[0.2222222222222222,\"#7201a8\"],[0.3333333333333333,\"#9c179e\"],[0.4444444444444444,\"#bd3786\"],[0.5555555555555556,\"#d8576b\"],[0.6666666666666666,\"#ed7953\"],[0.7777777777777778,\"#fb9f3a\"],[0.8888888888888888,\"#fdca26\"],[1.0,\"#f0f921\"]],\"diverging\":[[0,\"#8e0152\"],[0.1,\"#c51b7d\"],[0.2,\"#de77ae\"],[0.3,\"#f1b6da\"],[0.4,\"#fde0ef\"],[0.5,\"#f7f7f7\"],[0.6,\"#e6f5d0\"],[0.7,\"#b8e186\"],[0.8,\"#7fbc41\"],[0.9,\"#4d9221\"],[1,\"#276419\"]]},\"xaxis\":{\"gridcolor\":\"white\",\"linecolor\":\"white\",\"ticks\":\"\",\"title\":{\"standoff\":15},\"zerolinecolor\":\"white\",\"automargin\":true,\"zerolinewidth\":2},\"yaxis\":{\"gridcolor\":\"white\",\"linecolor\":\"white\",\"ticks\":\"\",\"title\":{\"standoff\":15},\"zerolinecolor\":\"white\",\"automargin\":true,\"zerolinewidth\":2},\"scene\":{\"xaxis\":{\"backgroundcolor\":\"#E5ECF6\",\"gridcolor\":\"white\",\"linecolor\":\"white\",\"showbackground\":true,\"ticks\":\"\",\"zerolinecolor\":\"white\",\"gridwidth\":2},\"yaxis\":{\"backgroundcolor\":\"#E5ECF6\",\"gridcolor\":\"white\",\"linecolor\":\"white\",\"showbackground\":true,\"ticks\":\"\",\"zerolinecolor\":\"white\",\"gridwidth\":2},\"zaxis\":{\"backgroundcolor\":\"#E5ECF6\",\"gridcolor\":\"white\",\"linecolor\":\"white\",\"showbackground\":true,\"ticks\":\"\",\"zerolinecolor\":\"white\",\"gridwidth\":2}},\"shapedefaults\":{\"line\":{\"color\":\"#2a3f5f\"}},\"annotationdefaults\":{\"arrowcolor\":\"#2a3f5f\",\"arrowhead\":0,\"arrowwidth\":1},\"geo\":{\"bgcolor\":\"white\",\"landcolor\":\"#E5ECF6\",\"subunitcolor\":\"white\",\"showland\":true,\"showlakes\":true,\"lakecolor\":\"white\"},\"title\":{\"x\":0.05},\"mapbox\":{\"style\":\"light\"}}}},                        {\"responsive\": true}                    ).then(function(){\n",
       "\n",
       "var gd = document.getElementById('5a28eee3-3e9f-49a7-a033-35c12146e32d');\n",
       "var x = new MutationObserver(function (mutations, observer) {{\n",
       "        var display = window.getComputedStyle(gd).display;\n",
       "        if (!display || display === 'none') {{\n",
       "            console.log([gd, 'removed!']);\n",
       "            Plotly.purge(gd);\n",
       "            observer.disconnect();\n",
       "        }}\n",
       "}});\n",
       "\n",
       "// Listen for the removal of the full notebook cells\n",
       "var notebookContainer = gd.closest('#notebook-container');\n",
       "if (notebookContainer) {{\n",
       "    x.observe(notebookContainer, {childList: true});\n",
       "}}\n",
       "\n",
       "// Listen for the clearing of the current output cell\n",
       "var outputEl = gd.closest('.output');\n",
       "if (outputEl) {{\n",
       "    x.observe(outputEl, {childList: true});\n",
       "}}\n",
       "\n",
       "                        })                };                });            </script>        </div>"
      ]
     },
     "metadata": {},
     "output_type": "display_data"
    }
   ],
   "source": [
    "draw = seqs.dotplot(name1=\"Human\", name2=\"Mouse\", rc=True)\n",
    "draw.show()"
   ]
  },
  {
   "cell_type": "code",
   "execution_count": 6,
   "id": "7102219d",
   "metadata": {
    "execution": {
     "iopub.execute_input": "2023-07-17T11:22:01.198759Z",
     "iopub.status.busy": "2023-07-17T11:22:01.198674Z",
     "iopub.status.idle": "2023-07-17T11:22:01.216958Z",
     "shell.execute_reply": "2023-07-17T11:22:01.216743Z"
    }
   },
   "outputs": [
    {
     "data": {
      "text/html": [
       "<script type=\"text/javascript\">\n",
       "window.PlotlyConfig = {MathJaxConfig: 'local'};\n",
       "if (window.MathJax && window.MathJax.Hub && window.MathJax.Hub.Config) {window.MathJax.Hub.Config({SVG: {font: \"STIX-Web\"}});}\n",
       "if (typeof require !== 'undefined') {\n",
       "require.undef(\"plotly\");\n",
       "requirejs.config({\n",
       "    paths: {\n",
       "        'plotly': ['https://cdn.plot.ly/plotly-2.24.1.min']\n",
       "    }\n",
       "});\n",
       "require(['plotly'], function(Plotly) {\n",
       "    window._Plotly = Plotly;\n",
       "});\n",
       "}\n",
       "</script>\n"
      ]
     },
     "metadata": {},
     "output_type": "display_data"
    },
    {
     "data": {
      "application/vnd.plotly.v1+json": {
       "config": {
        "plotlyServerURL": "https://plot.ly"
       },
       "data": [
        {
         "line": {
          "color": "blue"
         },
         "mode": "lines",
         "name": "+ strand",
         "showlegend": true,
         "type": "scatter",
         "x": [
          0,
          158,
          null,
          168,
          221,
          null,
          1564,
          1698,
          null,
          1194,
          1698,
          null,
          825,
          881,
          null,
          1857,
          1928,
          null,
          1690,
          1928,
          null,
          778,
          881,
          null,
          1164,
          1698,
          null,
          911,
          1018,
          null,
          662,
          685,
          null,
          1110,
          1698,
          null,
          710,
          779,
          null,
          1068,
          1698,
          null,
          880,
          1698,
          null,
          2236,
          2445,
          null,
          1974,
          2445,
          null,
          1943,
          2445,
          null,
          1910,
          2445,
          null,
          376,
          425,
          null,
          474,
          595,
          null,
          314,
          425,
          null,
          211,
          323,
          null,
          451,
          595,
          null,
          417,
          595,
          null,
          910,
          937,
          null,
          1144,
          1171,
          null,
          179,
          209,
          null,
          665,
          732,
          null,
          269,
          289,
          null,
          294,
          316,
          null,
          1330,
          1351,
          null,
          342,
          374,
          null,
          731,
          758,
          null,
          1447,
          1470,
          null,
          663,
          690,
          null,
          1003,
          1033,
          null,
          697,
          717,
          null,
          1080,
          1103,
          null,
          1388,
          1415,
          null,
          1701,
          1725,
          null,
          2273,
          2293
         ],
         "xaxis": "x",
         "y": [
          0,
          158,
          null,
          168,
          221,
          null,
          1492,
          1626,
          null,
          1122,
          1626,
          null,
          753,
          809,
          null,
          1785,
          1856,
          null,
          1618,
          1856,
          null,
          706,
          809,
          null,
          1092,
          1626,
          null,
          839,
          946,
          null,
          590,
          613,
          null,
          1038,
          1626,
          null,
          638,
          707,
          null,
          996,
          1626,
          null,
          808,
          1626,
          null,
          2188,
          2397,
          null,
          1926,
          2397,
          null,
          1895,
          2397,
          null,
          1862,
          2397,
          null,
          373,
          422,
          null,
          471,
          592,
          null,
          311,
          422,
          null,
          208,
          320,
          null,
          448,
          592,
          null,
          414,
          592,
          null,
          34,
          61,
          null,
          1498,
          1525,
          null,
          320,
          350,
          null,
          590,
          657,
          null,
          504,
          524,
          null,
          1614,
          1636,
          null,
          1402,
          1423,
          null,
          457,
          489,
          null,
          347,
          374,
          null,
          754,
          777,
          null,
          1085,
          1112,
          null,
          1090,
          1120,
          null,
          1458,
          1478,
          null,
          1351,
          1374,
          null,
          1160,
          1187,
          null,
          1285,
          1309,
          null,
          842,
          862
         ],
         "yaxis": "y"
        },
        {
         "line": {
          "color": "red"
         },
         "mode": "lines",
         "name": "- strand",
         "showlegend": true,
         "type": "scatter",
         "x": [
          148,
          168,
          null,
          1347,
          1367,
          null,
          1962,
          1982,
          null,
          262,
          283,
          null,
          465,
          493,
          null,
          934,
          954,
          null,
          1351,
          1371,
          null,
          1397,
          1419,
          null,
          1465,
          1485,
          null,
          1741,
          1763
         ],
         "xaxis": "x",
         "y": [
          68,
          48,
          null,
          1610,
          1590,
          null,
          1420,
          1400,
          null,
          707,
          686,
          null,
          101,
          73,
          null,
          73,
          53,
          null,
          2381,
          2361,
          null,
          544,
          522,
          null,
          192,
          172,
          null,
          547,
          525
         ],
         "yaxis": "y"
        },
        {
         "line": {
          "color": "black",
          "dash": "dot"
         },
         "mode": "lines",
         "name": "Alignment",
         "showlegend": true,
         "type": "scatter",
         "x": [],
         "xaxis": "x",
         "y": [],
         "yaxis": "y"
        }
       ],
       "layout": {
        "autosize": false,
        "font": {
         "family": "Balto",
         "size": 14
        },
        "height": 392.14723926380367,
        "hovermode": "closest",
        "margin": {
         "b": 50,
         "l": 50,
         "pad": 4,
         "r": 50,
         "t": 50
        },
        "showlegend": true,
        "template": {
         "data": {
          "bar": [
           {
            "error_x": {
             "color": "#2a3f5f"
            },
            "error_y": {
             "color": "#2a3f5f"
            },
            "marker": {
             "line": {
              "color": "#E5ECF6",
              "width": 0.5
             },
             "pattern": {
              "fillmode": "overlay",
              "size": 10,
              "solidity": 0.2
             }
            },
            "type": "bar"
           }
          ],
          "barpolar": [
           {
            "marker": {
             "line": {
              "color": "#E5ECF6",
              "width": 0.5
             },
             "pattern": {
              "fillmode": "overlay",
              "size": 10,
              "solidity": 0.2
             }
            },
            "type": "barpolar"
           }
          ],
          "carpet": [
           {
            "aaxis": {
             "endlinecolor": "#2a3f5f",
             "gridcolor": "white",
             "linecolor": "white",
             "minorgridcolor": "white",
             "startlinecolor": "#2a3f5f"
            },
            "baxis": {
             "endlinecolor": "#2a3f5f",
             "gridcolor": "white",
             "linecolor": "white",
             "minorgridcolor": "white",
             "startlinecolor": "#2a3f5f"
            },
            "type": "carpet"
           }
          ],
          "choropleth": [
           {
            "colorbar": {
             "outlinewidth": 0,
             "ticks": ""
            },
            "type": "choropleth"
           }
          ],
          "contour": [
           {
            "colorbar": {
             "outlinewidth": 0,
             "ticks": ""
            },
            "colorscale": [
             [
              0.0,
              "#0d0887"
             ],
             [
              0.1111111111111111,
              "#46039f"
             ],
             [
              0.2222222222222222,
              "#7201a8"
             ],
             [
              0.3333333333333333,
              "#9c179e"
             ],
             [
              0.4444444444444444,
              "#bd3786"
             ],
             [
              0.5555555555555556,
              "#d8576b"
             ],
             [
              0.6666666666666666,
              "#ed7953"
             ],
             [
              0.7777777777777778,
              "#fb9f3a"
             ],
             [
              0.8888888888888888,
              "#fdca26"
             ],
             [
              1.0,
              "#f0f921"
             ]
            ],
            "type": "contour"
           }
          ],
          "contourcarpet": [
           {
            "colorbar": {
             "outlinewidth": 0,
             "ticks": ""
            },
            "type": "contourcarpet"
           }
          ],
          "heatmap": [
           {
            "colorbar": {
             "outlinewidth": 0,
             "ticks": ""
            },
            "colorscale": [
             [
              0.0,
              "#0d0887"
             ],
             [
              0.1111111111111111,
              "#46039f"
             ],
             [
              0.2222222222222222,
              "#7201a8"
             ],
             [
              0.3333333333333333,
              "#9c179e"
             ],
             [
              0.4444444444444444,
              "#bd3786"
             ],
             [
              0.5555555555555556,
              "#d8576b"
             ],
             [
              0.6666666666666666,
              "#ed7953"
             ],
             [
              0.7777777777777778,
              "#fb9f3a"
             ],
             [
              0.8888888888888888,
              "#fdca26"
             ],
             [
              1.0,
              "#f0f921"
             ]
            ],
            "type": "heatmap"
           }
          ],
          "heatmapgl": [
           {
            "colorbar": {
             "outlinewidth": 0,
             "ticks": ""
            },
            "colorscale": [
             [
              0.0,
              "#0d0887"
             ],
             [
              0.1111111111111111,
              "#46039f"
             ],
             [
              0.2222222222222222,
              "#7201a8"
             ],
             [
              0.3333333333333333,
              "#9c179e"
             ],
             [
              0.4444444444444444,
              "#bd3786"
             ],
             [
              0.5555555555555556,
              "#d8576b"
             ],
             [
              0.6666666666666666,
              "#ed7953"
             ],
             [
              0.7777777777777778,
              "#fb9f3a"
             ],
             [
              0.8888888888888888,
              "#fdca26"
             ],
             [
              1.0,
              "#f0f921"
             ]
            ],
            "type": "heatmapgl"
           }
          ],
          "histogram": [
           {
            "marker": {
             "pattern": {
              "fillmode": "overlay",
              "size": 10,
              "solidity": 0.2
             }
            },
            "type": "histogram"
           }
          ],
          "histogram2d": [
           {
            "colorbar": {
             "outlinewidth": 0,
             "ticks": ""
            },
            "colorscale": [
             [
              0.0,
              "#0d0887"
             ],
             [
              0.1111111111111111,
              "#46039f"
             ],
             [
              0.2222222222222222,
              "#7201a8"
             ],
             [
              0.3333333333333333,
              "#9c179e"
             ],
             [
              0.4444444444444444,
              "#bd3786"
             ],
             [
              0.5555555555555556,
              "#d8576b"
             ],
             [
              0.6666666666666666,
              "#ed7953"
             ],
             [
              0.7777777777777778,
              "#fb9f3a"
             ],
             [
              0.8888888888888888,
              "#fdca26"
             ],
             [
              1.0,
              "#f0f921"
             ]
            ],
            "type": "histogram2d"
           }
          ],
          "histogram2dcontour": [
           {
            "colorbar": {
             "outlinewidth": 0,
             "ticks": ""
            },
            "colorscale": [
             [
              0.0,
              "#0d0887"
             ],
             [
              0.1111111111111111,
              "#46039f"
             ],
             [
              0.2222222222222222,
              "#7201a8"
             ],
             [
              0.3333333333333333,
              "#9c179e"
             ],
             [
              0.4444444444444444,
              "#bd3786"
             ],
             [
              0.5555555555555556,
              "#d8576b"
             ],
             [
              0.6666666666666666,
              "#ed7953"
             ],
             [
              0.7777777777777778,
              "#fb9f3a"
             ],
             [
              0.8888888888888888,
              "#fdca26"
             ],
             [
              1.0,
              "#f0f921"
             ]
            ],
            "type": "histogram2dcontour"
           }
          ],
          "mesh3d": [
           {
            "colorbar": {
             "outlinewidth": 0,
             "ticks": ""
            },
            "type": "mesh3d"
           }
          ],
          "parcoords": [
           {
            "line": {
             "colorbar": {
              "outlinewidth": 0,
              "ticks": ""
             }
            },
            "type": "parcoords"
           }
          ],
          "pie": [
           {
            "automargin": true,
            "type": "pie"
           }
          ],
          "scatter": [
           {
            "fillpattern": {
             "fillmode": "overlay",
             "size": 10,
             "solidity": 0.2
            },
            "type": "scatter"
           }
          ],
          "scatter3d": [
           {
            "line": {
             "colorbar": {
              "outlinewidth": 0,
              "ticks": ""
             }
            },
            "marker": {
             "colorbar": {
              "outlinewidth": 0,
              "ticks": ""
             }
            },
            "type": "scatter3d"
           }
          ],
          "scattercarpet": [
           {
            "marker": {
             "colorbar": {
              "outlinewidth": 0,
              "ticks": ""
             }
            },
            "type": "scattercarpet"
           }
          ],
          "scattergeo": [
           {
            "marker": {
             "colorbar": {
              "outlinewidth": 0,
              "ticks": ""
             }
            },
            "type": "scattergeo"
           }
          ],
          "scattergl": [
           {
            "marker": {
             "colorbar": {
              "outlinewidth": 0,
              "ticks": ""
             }
            },
            "type": "scattergl"
           }
          ],
          "scattermapbox": [
           {
            "marker": {
             "colorbar": {
              "outlinewidth": 0,
              "ticks": ""
             }
            },
            "type": "scattermapbox"
           }
          ],
          "scatterpolar": [
           {
            "marker": {
             "colorbar": {
              "outlinewidth": 0,
              "ticks": ""
             }
            },
            "type": "scatterpolar"
           }
          ],
          "scatterpolargl": [
           {
            "marker": {
             "colorbar": {
              "outlinewidth": 0,
              "ticks": ""
             }
            },
            "type": "scatterpolargl"
           }
          ],
          "scatterternary": [
           {
            "marker": {
             "colorbar": {
              "outlinewidth": 0,
              "ticks": ""
             }
            },
            "type": "scatterternary"
           }
          ],
          "surface": [
           {
            "colorbar": {
             "outlinewidth": 0,
             "ticks": ""
            },
            "colorscale": [
             [
              0.0,
              "#0d0887"
             ],
             [
              0.1111111111111111,
              "#46039f"
             ],
             [
              0.2222222222222222,
              "#7201a8"
             ],
             [
              0.3333333333333333,
              "#9c179e"
             ],
             [
              0.4444444444444444,
              "#bd3786"
             ],
             [
              0.5555555555555556,
              "#d8576b"
             ],
             [
              0.6666666666666666,
              "#ed7953"
             ],
             [
              0.7777777777777778,
              "#fb9f3a"
             ],
             [
              0.8888888888888888,
              "#fdca26"
             ],
             [
              1.0,
              "#f0f921"
             ]
            ],
            "type": "surface"
           }
          ],
          "table": [
           {
            "cells": {
             "fill": {
              "color": "#EBF0F8"
             },
             "line": {
              "color": "white"
             }
            },
            "header": {
             "fill": {
              "color": "#C8D4E3"
             },
             "line": {
              "color": "white"
             }
            },
            "type": "table"
           }
          ]
         },
         "layout": {
          "annotationdefaults": {
           "arrowcolor": "#2a3f5f",
           "arrowhead": 0,
           "arrowwidth": 1
          },
          "autotypenumbers": "strict",
          "coloraxis": {
           "colorbar": {
            "outlinewidth": 0,
            "ticks": ""
           }
          },
          "colorscale": {
           "diverging": [
            [
             0,
             "#8e0152"
            ],
            [
             0.1,
             "#c51b7d"
            ],
            [
             0.2,
             "#de77ae"
            ],
            [
             0.3,
             "#f1b6da"
            ],
            [
             0.4,
             "#fde0ef"
            ],
            [
             0.5,
             "#f7f7f7"
            ],
            [
             0.6,
             "#e6f5d0"
            ],
            [
             0.7,
             "#b8e186"
            ],
            [
             0.8,
             "#7fbc41"
            ],
            [
             0.9,
             "#4d9221"
            ],
            [
             1,
             "#276419"
            ]
           ],
           "sequential": [
            [
             0.0,
             "#0d0887"
            ],
            [
             0.1111111111111111,
             "#46039f"
            ],
            [
             0.2222222222222222,
             "#7201a8"
            ],
            [
             0.3333333333333333,
             "#9c179e"
            ],
            [
             0.4444444444444444,
             "#bd3786"
            ],
            [
             0.5555555555555556,
             "#d8576b"
            ],
            [
             0.6666666666666666,
             "#ed7953"
            ],
            [
             0.7777777777777778,
             "#fb9f3a"
            ],
            [
             0.8888888888888888,
             "#fdca26"
            ],
            [
             1.0,
             "#f0f921"
            ]
           ],
           "sequentialminus": [
            [
             0.0,
             "#0d0887"
            ],
            [
             0.1111111111111111,
             "#46039f"
            ],
            [
             0.2222222222222222,
             "#7201a8"
            ],
            [
             0.3333333333333333,
             "#9c179e"
            ],
            [
             0.4444444444444444,
             "#bd3786"
            ],
            [
             0.5555555555555556,
             "#d8576b"
            ],
            [
             0.6666666666666666,
             "#ed7953"
            ],
            [
             0.7777777777777778,
             "#fb9f3a"
            ],
            [
             0.8888888888888888,
             "#fdca26"
            ],
            [
             1.0,
             "#f0f921"
            ]
           ]
          },
          "colorway": [
           "#636efa",
           "#EF553B",
           "#00cc96",
           "#ab63fa",
           "#FFA15A",
           "#19d3f3",
           "#FF6692",
           "#B6E880",
           "#FF97FF",
           "#FECB52"
          ],
          "font": {
           "color": "#2a3f5f"
          },
          "geo": {
           "bgcolor": "white",
           "lakecolor": "white",
           "landcolor": "#E5ECF6",
           "showlakes": true,
           "showland": true,
           "subunitcolor": "white"
          },
          "hoverlabel": {
           "align": "left"
          },
          "hovermode": "closest",
          "mapbox": {
           "style": "light"
          },
          "paper_bgcolor": "white",
          "plot_bgcolor": "#E5ECF6",
          "polar": {
           "angularaxis": {
            "gridcolor": "white",
            "linecolor": "white",
            "ticks": ""
           },
           "bgcolor": "#E5ECF6",
           "radialaxis": {
            "gridcolor": "white",
            "linecolor": "white",
            "ticks": ""
           }
          },
          "scene": {
           "xaxis": {
            "backgroundcolor": "#E5ECF6",
            "gridcolor": "white",
            "gridwidth": 2,
            "linecolor": "white",
            "showbackground": true,
            "ticks": "",
            "zerolinecolor": "white"
           },
           "yaxis": {
            "backgroundcolor": "#E5ECF6",
            "gridcolor": "white",
            "gridwidth": 2,
            "linecolor": "white",
            "showbackground": true,
            "ticks": "",
            "zerolinecolor": "white"
           },
           "zaxis": {
            "backgroundcolor": "#E5ECF6",
            "gridcolor": "white",
            "gridwidth": 2,
            "linecolor": "white",
            "showbackground": true,
            "ticks": "",
            "zerolinecolor": "white"
           }
          },
          "shapedefaults": {
           "line": {
            "color": "#2a3f5f"
           }
          },
          "ternary": {
           "aaxis": {
            "gridcolor": "white",
            "linecolor": "white",
            "ticks": ""
           },
           "baxis": {
            "gridcolor": "white",
            "linecolor": "white",
            "ticks": ""
           },
           "bgcolor": "#E5ECF6",
           "caxis": {
            "gridcolor": "white",
            "linecolor": "white",
            "ticks": ""
           }
          },
          "title": {
           "x": 0.05
          },
          "xaxis": {
           "automargin": true,
           "gridcolor": "white",
           "linecolor": "white",
           "ticks": "",
           "title": {
            "standoff": 15
           },
           "zerolinecolor": "white",
           "zerolinewidth": 2
          },
          "yaxis": {
           "automargin": true,
           "gridcolor": "white",
           "linecolor": "white",
           "ticks": "",
           "title": {
            "standoff": 15
           },
           "zerolinecolor": "white",
           "zerolinewidth": 2
          }
         }
        },
        "title": {
         "text": "SCA1"
        },
        "width": 400,
        "xaxis": {
         "mirror": true,
         "range": [
          0,
          2445
         ],
         "showgrid": false,
         "showline": true,
         "title": {
          "text": "Human"
         },
         "visible": true
        },
        "yaxis": {
         "mirror": true,
         "range": [
          0,
          2397
         ],
         "showgrid": false,
         "showline": true,
         "title": {
          "text": "Mouse"
         },
         "visible": true
        }
       }
      },
      "text/html": [
       "<div>                            <div id=\"499ae0e3-0e29-480f-a44b-f09d376d6c7c\" class=\"plotly-graph-div\" style=\"height:392.14723926380367px; width:400px;\"></div>            <script type=\"text/javascript\">                require([\"plotly\"], function(Plotly) {                    window.PLOTLYENV=window.PLOTLYENV || {};                                    if (document.getElementById(\"499ae0e3-0e29-480f-a44b-f09d376d6c7c\")) {                    Plotly.newPlot(                        \"499ae0e3-0e29-480f-a44b-f09d376d6c7c\",                        [{\"line\":{\"color\":\"blue\"},\"mode\":\"lines\",\"name\":\"+ strand\",\"showlegend\":true,\"x\":[0,158,null,168,221,null,1564,1698,null,1194,1698,null,825,881,null,1857,1928,null,1690,1928,null,778,881,null,1164,1698,null,911,1018,null,662,685,null,1110,1698,null,710,779,null,1068,1698,null,880,1698,null,2236,2445,null,1974,2445,null,1943,2445,null,1910,2445,null,376,425,null,474,595,null,314,425,null,211,323,null,451,595,null,417,595,null,910,937,null,1144,1171,null,179,209,null,665,732,null,269,289,null,294,316,null,1330,1351,null,342,374,null,731,758,null,1447,1470,null,663,690,null,1003,1033,null,697,717,null,1080,1103,null,1388,1415,null,1701,1725,null,2273,2293],\"xaxis\":\"x\",\"y\":[0,158,null,168,221,null,1492,1626,null,1122,1626,null,753,809,null,1785,1856,null,1618,1856,null,706,809,null,1092,1626,null,839,946,null,590,613,null,1038,1626,null,638,707,null,996,1626,null,808,1626,null,2188,2397,null,1926,2397,null,1895,2397,null,1862,2397,null,373,422,null,471,592,null,311,422,null,208,320,null,448,592,null,414,592,null,34,61,null,1498,1525,null,320,350,null,590,657,null,504,524,null,1614,1636,null,1402,1423,null,457,489,null,347,374,null,754,777,null,1085,1112,null,1090,1120,null,1458,1478,null,1351,1374,null,1160,1187,null,1285,1309,null,842,862],\"yaxis\":\"y\",\"type\":\"scatter\"},{\"line\":{\"color\":\"red\"},\"mode\":\"lines\",\"name\":\"- strand\",\"showlegend\":true,\"x\":[148,168,null,1347,1367,null,1962,1982,null,262,283,null,465,493,null,934,954,null,1351,1371,null,1397,1419,null,1465,1485,null,1741,1763],\"xaxis\":\"x\",\"y\":[68,48,null,1610,1590,null,1420,1400,null,707,686,null,101,73,null,73,53,null,2381,2361,null,544,522,null,192,172,null,547,525],\"yaxis\":\"y\",\"type\":\"scatter\"},{\"line\":{\"color\":\"black\",\"dash\":\"dot\"},\"mode\":\"lines\",\"name\":\"Alignment\",\"showlegend\":true,\"x\":[],\"xaxis\":\"x\",\"y\":[],\"yaxis\":\"y\",\"type\":\"scatter\"}],                        {\"autosize\":false,\"font\":{\"family\":\"Balto\",\"size\":14},\"height\":392.14723926380367,\"hovermode\":\"closest\",\"margin\":{\"b\":50,\"l\":50,\"pad\":4,\"r\":50,\"t\":50},\"showlegend\":true,\"title\":{\"text\":\"SCA1\"},\"width\":400,\"xaxis\":{\"mirror\":true,\"range\":[0,2445],\"showgrid\":false,\"showline\":true,\"title\":{\"text\":\"Human\"},\"visible\":true},\"yaxis\":{\"mirror\":true,\"range\":[0,2397],\"showgrid\":false,\"showline\":true,\"title\":{\"text\":\"Mouse\"},\"visible\":true},\"template\":{\"data\":{\"histogram2dcontour\":[{\"type\":\"histogram2dcontour\",\"colorbar\":{\"outlinewidth\":0,\"ticks\":\"\"},\"colorscale\":[[0.0,\"#0d0887\"],[0.1111111111111111,\"#46039f\"],[0.2222222222222222,\"#7201a8\"],[0.3333333333333333,\"#9c179e\"],[0.4444444444444444,\"#bd3786\"],[0.5555555555555556,\"#d8576b\"],[0.6666666666666666,\"#ed7953\"],[0.7777777777777778,\"#fb9f3a\"],[0.8888888888888888,\"#fdca26\"],[1.0,\"#f0f921\"]]}],\"choropleth\":[{\"type\":\"choropleth\",\"colorbar\":{\"outlinewidth\":0,\"ticks\":\"\"}}],\"histogram2d\":[{\"type\":\"histogram2d\",\"colorbar\":{\"outlinewidth\":0,\"ticks\":\"\"},\"colorscale\":[[0.0,\"#0d0887\"],[0.1111111111111111,\"#46039f\"],[0.2222222222222222,\"#7201a8\"],[0.3333333333333333,\"#9c179e\"],[0.4444444444444444,\"#bd3786\"],[0.5555555555555556,\"#d8576b\"],[0.6666666666666666,\"#ed7953\"],[0.7777777777777778,\"#fb9f3a\"],[0.8888888888888888,\"#fdca26\"],[1.0,\"#f0f921\"]]}],\"heatmap\":[{\"type\":\"heatmap\",\"colorbar\":{\"outlinewidth\":0,\"ticks\":\"\"},\"colorscale\":[[0.0,\"#0d0887\"],[0.1111111111111111,\"#46039f\"],[0.2222222222222222,\"#7201a8\"],[0.3333333333333333,\"#9c179e\"],[0.4444444444444444,\"#bd3786\"],[0.5555555555555556,\"#d8576b\"],[0.6666666666666666,\"#ed7953\"],[0.7777777777777778,\"#fb9f3a\"],[0.8888888888888888,\"#fdca26\"],[1.0,\"#f0f921\"]]}],\"heatmapgl\":[{\"type\":\"heatmapgl\",\"colorbar\":{\"outlinewidth\":0,\"ticks\":\"\"},\"colorscale\":[[0.0,\"#0d0887\"],[0.1111111111111111,\"#46039f\"],[0.2222222222222222,\"#7201a8\"],[0.3333333333333333,\"#9c179e\"],[0.4444444444444444,\"#bd3786\"],[0.5555555555555556,\"#d8576b\"],[0.6666666666666666,\"#ed7953\"],[0.7777777777777778,\"#fb9f3a\"],[0.8888888888888888,\"#fdca26\"],[1.0,\"#f0f921\"]]}],\"contourcarpet\":[{\"type\":\"contourcarpet\",\"colorbar\":{\"outlinewidth\":0,\"ticks\":\"\"}}],\"contour\":[{\"type\":\"contour\",\"colorbar\":{\"outlinewidth\":0,\"ticks\":\"\"},\"colorscale\":[[0.0,\"#0d0887\"],[0.1111111111111111,\"#46039f\"],[0.2222222222222222,\"#7201a8\"],[0.3333333333333333,\"#9c179e\"],[0.4444444444444444,\"#bd3786\"],[0.5555555555555556,\"#d8576b\"],[0.6666666666666666,\"#ed7953\"],[0.7777777777777778,\"#fb9f3a\"],[0.8888888888888888,\"#fdca26\"],[1.0,\"#f0f921\"]]}],\"surface\":[{\"type\":\"surface\",\"colorbar\":{\"outlinewidth\":0,\"ticks\":\"\"},\"colorscale\":[[0.0,\"#0d0887\"],[0.1111111111111111,\"#46039f\"],[0.2222222222222222,\"#7201a8\"],[0.3333333333333333,\"#9c179e\"],[0.4444444444444444,\"#bd3786\"],[0.5555555555555556,\"#d8576b\"],[0.6666666666666666,\"#ed7953\"],[0.7777777777777778,\"#fb9f3a\"],[0.8888888888888888,\"#fdca26\"],[1.0,\"#f0f921\"]]}],\"mesh3d\":[{\"type\":\"mesh3d\",\"colorbar\":{\"outlinewidth\":0,\"ticks\":\"\"}}],\"scatter\":[{\"fillpattern\":{\"fillmode\":\"overlay\",\"size\":10,\"solidity\":0.2},\"type\":\"scatter\"}],\"parcoords\":[{\"type\":\"parcoords\",\"line\":{\"colorbar\":{\"outlinewidth\":0,\"ticks\":\"\"}}}],\"scatterpolargl\":[{\"type\":\"scatterpolargl\",\"marker\":{\"colorbar\":{\"outlinewidth\":0,\"ticks\":\"\"}}}],\"bar\":[{\"error_x\":{\"color\":\"#2a3f5f\"},\"error_y\":{\"color\":\"#2a3f5f\"},\"marker\":{\"line\":{\"color\":\"#E5ECF6\",\"width\":0.5},\"pattern\":{\"fillmode\":\"overlay\",\"size\":10,\"solidity\":0.2}},\"type\":\"bar\"}],\"scattergeo\":[{\"type\":\"scattergeo\",\"marker\":{\"colorbar\":{\"outlinewidth\":0,\"ticks\":\"\"}}}],\"scatterpolar\":[{\"type\":\"scatterpolar\",\"marker\":{\"colorbar\":{\"outlinewidth\":0,\"ticks\":\"\"}}}],\"histogram\":[{\"marker\":{\"pattern\":{\"fillmode\":\"overlay\",\"size\":10,\"solidity\":0.2}},\"type\":\"histogram\"}],\"scattergl\":[{\"type\":\"scattergl\",\"marker\":{\"colorbar\":{\"outlinewidth\":0,\"ticks\":\"\"}}}],\"scatter3d\":[{\"type\":\"scatter3d\",\"line\":{\"colorbar\":{\"outlinewidth\":0,\"ticks\":\"\"}},\"marker\":{\"colorbar\":{\"outlinewidth\":0,\"ticks\":\"\"}}}],\"scattermapbox\":[{\"type\":\"scattermapbox\",\"marker\":{\"colorbar\":{\"outlinewidth\":0,\"ticks\":\"\"}}}],\"scatterternary\":[{\"type\":\"scatterternary\",\"marker\":{\"colorbar\":{\"outlinewidth\":0,\"ticks\":\"\"}}}],\"scattercarpet\":[{\"type\":\"scattercarpet\",\"marker\":{\"colorbar\":{\"outlinewidth\":0,\"ticks\":\"\"}}}],\"carpet\":[{\"aaxis\":{\"endlinecolor\":\"#2a3f5f\",\"gridcolor\":\"white\",\"linecolor\":\"white\",\"minorgridcolor\":\"white\",\"startlinecolor\":\"#2a3f5f\"},\"baxis\":{\"endlinecolor\":\"#2a3f5f\",\"gridcolor\":\"white\",\"linecolor\":\"white\",\"minorgridcolor\":\"white\",\"startlinecolor\":\"#2a3f5f\"},\"type\":\"carpet\"}],\"table\":[{\"cells\":{\"fill\":{\"color\":\"#EBF0F8\"},\"line\":{\"color\":\"white\"}},\"header\":{\"fill\":{\"color\":\"#C8D4E3\"},\"line\":{\"color\":\"white\"}},\"type\":\"table\"}],\"barpolar\":[{\"marker\":{\"line\":{\"color\":\"#E5ECF6\",\"width\":0.5},\"pattern\":{\"fillmode\":\"overlay\",\"size\":10,\"solidity\":0.2}},\"type\":\"barpolar\"}],\"pie\":[{\"automargin\":true,\"type\":\"pie\"}]},\"layout\":{\"autotypenumbers\":\"strict\",\"colorway\":[\"#636efa\",\"#EF553B\",\"#00cc96\",\"#ab63fa\",\"#FFA15A\",\"#19d3f3\",\"#FF6692\",\"#B6E880\",\"#FF97FF\",\"#FECB52\"],\"font\":{\"color\":\"#2a3f5f\"},\"hovermode\":\"closest\",\"hoverlabel\":{\"align\":\"left\"},\"paper_bgcolor\":\"white\",\"plot_bgcolor\":\"#E5ECF6\",\"polar\":{\"bgcolor\":\"#E5ECF6\",\"angularaxis\":{\"gridcolor\":\"white\",\"linecolor\":\"white\",\"ticks\":\"\"},\"radialaxis\":{\"gridcolor\":\"white\",\"linecolor\":\"white\",\"ticks\":\"\"}},\"ternary\":{\"bgcolor\":\"#E5ECF6\",\"aaxis\":{\"gridcolor\":\"white\",\"linecolor\":\"white\",\"ticks\":\"\"},\"baxis\":{\"gridcolor\":\"white\",\"linecolor\":\"white\",\"ticks\":\"\"},\"caxis\":{\"gridcolor\":\"white\",\"linecolor\":\"white\",\"ticks\":\"\"}},\"coloraxis\":{\"colorbar\":{\"outlinewidth\":0,\"ticks\":\"\"}},\"colorscale\":{\"sequential\":[[0.0,\"#0d0887\"],[0.1111111111111111,\"#46039f\"],[0.2222222222222222,\"#7201a8\"],[0.3333333333333333,\"#9c179e\"],[0.4444444444444444,\"#bd3786\"],[0.5555555555555556,\"#d8576b\"],[0.6666666666666666,\"#ed7953\"],[0.7777777777777778,\"#fb9f3a\"],[0.8888888888888888,\"#fdca26\"],[1.0,\"#f0f921\"]],\"sequentialminus\":[[0.0,\"#0d0887\"],[0.1111111111111111,\"#46039f\"],[0.2222222222222222,\"#7201a8\"],[0.3333333333333333,\"#9c179e\"],[0.4444444444444444,\"#bd3786\"],[0.5555555555555556,\"#d8576b\"],[0.6666666666666666,\"#ed7953\"],[0.7777777777777778,\"#fb9f3a\"],[0.8888888888888888,\"#fdca26\"],[1.0,\"#f0f921\"]],\"diverging\":[[0,\"#8e0152\"],[0.1,\"#c51b7d\"],[0.2,\"#de77ae\"],[0.3,\"#f1b6da\"],[0.4,\"#fde0ef\"],[0.5,\"#f7f7f7\"],[0.6,\"#e6f5d0\"],[0.7,\"#b8e186\"],[0.8,\"#7fbc41\"],[0.9,\"#4d9221\"],[1,\"#276419\"]]},\"xaxis\":{\"gridcolor\":\"white\",\"linecolor\":\"white\",\"ticks\":\"\",\"title\":{\"standoff\":15},\"zerolinecolor\":\"white\",\"automargin\":true,\"zerolinewidth\":2},\"yaxis\":{\"gridcolor\":\"white\",\"linecolor\":\"white\",\"ticks\":\"\",\"title\":{\"standoff\":15},\"zerolinecolor\":\"white\",\"automargin\":true,\"zerolinewidth\":2},\"scene\":{\"xaxis\":{\"backgroundcolor\":\"#E5ECF6\",\"gridcolor\":\"white\",\"linecolor\":\"white\",\"showbackground\":true,\"ticks\":\"\",\"zerolinecolor\":\"white\",\"gridwidth\":2},\"yaxis\":{\"backgroundcolor\":\"#E5ECF6\",\"gridcolor\":\"white\",\"linecolor\":\"white\",\"showbackground\":true,\"ticks\":\"\",\"zerolinecolor\":\"white\",\"gridwidth\":2},\"zaxis\":{\"backgroundcolor\":\"#E5ECF6\",\"gridcolor\":\"white\",\"linecolor\":\"white\",\"showbackground\":true,\"ticks\":\"\",\"zerolinecolor\":\"white\",\"gridwidth\":2}},\"shapedefaults\":{\"line\":{\"color\":\"#2a3f5f\"}},\"annotationdefaults\":{\"arrowcolor\":\"#2a3f5f\",\"arrowhead\":0,\"arrowwidth\":1},\"geo\":{\"bgcolor\":\"white\",\"landcolor\":\"#E5ECF6\",\"subunitcolor\":\"white\",\"showland\":true,\"showlakes\":true,\"lakecolor\":\"white\"},\"title\":{\"x\":0.05},\"mapbox\":{\"style\":\"light\"}}}},                        {\"responsive\": true}                    ).then(function(){\n",
       "\n",
       "var gd = document.getElementById('499ae0e3-0e29-480f-a44b-f09d376d6c7c');\n",
       "var x = new MutationObserver(function (mutations, observer) {{\n",
       "        var display = window.getComputedStyle(gd).display;\n",
       "        if (!display || display === 'none') {{\n",
       "            console.log([gd, 'removed!']);\n",
       "            Plotly.purge(gd);\n",
       "            observer.disconnect();\n",
       "        }}\n",
       "}});\n",
       "\n",
       "// Listen for the removal of the full notebook cells\n",
       "var notebookContainer = gd.closest('#notebook-container');\n",
       "if (notebookContainer) {{\n",
       "    x.observe(notebookContainer, {childList: true});\n",
       "}}\n",
       "\n",
       "// Listen for the clearing of the current output cell\n",
       "var outputEl = gd.closest('.output');\n",
       "if (outputEl) {{\n",
       "    x.observe(outputEl, {childList: true});\n",
       "}}\n",
       "\n",
       "                        })                };                });            </script>        </div>"
      ]
     },
     "metadata": {},
     "output_type": "display_data"
    }
   ],
   "source": [
    "draw = seqs.dotplot(name1=\"Human\", name2=\"Mouse\", rc=True, title=\"SCA1\", width=400)\n",
    "draw.show()"
   ]
  }
 ],
 "metadata": {
  "kernelspec": {
   "display_name": "Python 3 (ipykernel)",
   "language": "python",
   "name": "python3"
  },
  "language_info": {
   "codemirror_mode": {
    "name": "ipython",
    "version": 3
   },
   "file_extension": ".py",
   "mimetype": "text/x-python",
   "name": "python",
   "nbconvert_exporter": "python",
   "pygments_lexer": "ipython3",
   "version": "3.11.4"
  }
 },
 "nbformat": 4,
 "nbformat_minor": 5
}