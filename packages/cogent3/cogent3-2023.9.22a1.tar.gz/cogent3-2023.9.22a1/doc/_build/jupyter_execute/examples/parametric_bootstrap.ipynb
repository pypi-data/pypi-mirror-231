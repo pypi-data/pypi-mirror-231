{
 "cells": [
  {
   "cell_type": "code",
   "execution_count": 1,
   "id": "3710f2af",
   "metadata": {
    "execution": {
     "iopub.execute_input": "2023-07-17T11:23:41.444504Z",
     "iopub.status.busy": "2023-07-17T11:23:41.443939Z",
     "iopub.status.idle": "2023-07-17T11:23:41.462400Z",
     "shell.execute_reply": "2023-07-17T11:23:41.461695Z"
    }
   },
   "outputs": [],
   "source": [
    "import set_working_directory"
   ]
  },
  {
   "cell_type": "code",
   "execution_count": 2,
   "id": "36dbb842",
   "metadata": {
    "execution": {
     "iopub.execute_input": "2023-07-17T11:23:41.465869Z",
     "iopub.status.busy": "2023-07-17T11:23:41.465568Z",
     "iopub.status.idle": "2023-07-17T11:23:42.386652Z",
     "shell.execute_reply": "2023-07-17T11:23:42.386296Z"
    }
   },
   "outputs": [],
   "source": [
    "from cogent3 import load_aligned_seqs, load_tree\n",
    "from cogent3.evolve import bootstrap\n",
    "from cogent3.evolve.models import HKY85"
   ]
  },
  {
   "cell_type": "code",
   "execution_count": 3,
   "id": "ce1e2789",
   "metadata": {
    "execution": {
     "iopub.execute_input": "2023-07-17T11:23:42.388153Z",
     "iopub.status.busy": "2023-07-17T11:23:42.388057Z",
     "iopub.status.idle": "2023-07-17T11:23:42.389873Z",
     "shell.execute_reply": "2023-07-17T11:23:42.389620Z"
    }
   },
   "outputs": [],
   "source": [
    "def create_alt_function():\n",
    "    t = load_tree(\"data/test.tree\")\n",
    "    sm = HKY85()\n",
    "    return sm.make_likelihood_function(t)"
   ]
  },
  {
   "cell_type": "code",
   "execution_count": 4,
   "id": "e8ffa2b6",
   "metadata": {
    "execution": {
     "iopub.execute_input": "2023-07-17T11:23:42.391003Z",
     "iopub.status.busy": "2023-07-17T11:23:42.390918Z",
     "iopub.status.idle": "2023-07-17T11:23:42.392638Z",
     "shell.execute_reply": "2023-07-17T11:23:42.392427Z"
    }
   },
   "outputs": [],
   "source": [
    "def create_null_function():\n",
    "    lf = create_alt_function()\n",
    "    # set the local clock for humans & howler monkey\n",
    "    lf.set_local_clock(\"Human\", \"HowlerMon\")\n",
    "    return lf"
   ]
  },
  {
   "cell_type": "code",
   "execution_count": 5,
   "id": "a2025ea5",
   "metadata": {
    "execution": {
     "iopub.execute_input": "2023-07-17T11:23:42.393757Z",
     "iopub.status.busy": "2023-07-17T11:23:42.393695Z",
     "iopub.status.idle": "2023-07-17T11:23:42.396221Z",
     "shell.execute_reply": "2023-07-17T11:23:42.396015Z"
    }
   },
   "outputs": [],
   "source": [
    "aln = load_aligned_seqs(\"data/long_testseqs.fasta\")"
   ]
  },
  {
   "cell_type": "code",
   "execution_count": 6,
   "id": "69f1162e",
   "metadata": {
    "execution": {
     "iopub.execute_input": "2023-07-17T11:23:42.397228Z",
     "iopub.status.busy": "2023-07-17T11:23:42.397165Z",
     "iopub.status.idle": "2023-07-17T11:23:42.402053Z",
     "shell.execute_reply": "2023-07-17T11:23:42.401742Z"
    }
   },
   "outputs": [
    {
     "name": "stderr",
     "output_type": "stream",
     "text": [
      "/Users/gavin/miniconda3/envs/c3docs/lib/python3.11/site-packages/cogent3/evolve/parameter_controller.py:403: UserWarning: Used mean of 2 length values\n",
      "  self.assign_all(\n"
     ]
    }
   ],
   "source": [
    "estimateP = bootstrap.EstimateProbability(\n",
    "    create_null_function(), create_alt_function(), aln\n",
    ")"
   ]
  },
  {
   "cell_type": "code",
   "execution_count": 7,
   "id": "6ec9c0e7",
   "metadata": {
    "execution": {
     "iopub.execute_input": "2023-07-17T11:23:42.403556Z",
     "iopub.status.busy": "2023-07-17T11:23:42.403452Z",
     "iopub.status.idle": "2023-07-17T11:23:42.405159Z",
     "shell.execute_reply": "2023-07-17T11:23:42.404894Z"
    }
   },
   "outputs": [],
   "source": [
    "estimateP.set_num_replicates(5)"
   ]
  },
  {
   "cell_type": "code",
   "execution_count": 8,
   "id": "9e53b88e",
   "metadata": {
    "execution": {
     "iopub.execute_input": "2023-07-17T11:23:42.406383Z",
     "iopub.status.busy": "2023-07-17T11:23:42.406312Z",
     "iopub.status.idle": "2023-07-17T11:23:43.386890Z",
     "shell.execute_reply": "2023-07-17T11:23:43.386600Z"
    }
   },
   "outputs": [
    {
     "name": "stderr",
     "output_type": "stream",
     "text": [
      "/Users/gavin/miniconda3/envs/c3docs/lib/python3.11/site-packages/cogent3/maths/optimisers.py:180: UserWarning: Unused arg for local alignment: random_series\n",
      "  warnings.warn(\"Unused arg for local alignment: \" + k)\n"
     ]
    }
   ],
   "source": [
    "estimateP.run(show_progress=False)"
   ]
  },
  {
   "cell_type": "code",
   "execution_count": 9,
   "id": "2c0f06df",
   "metadata": {
    "execution": {
     "iopub.execute_input": "2023-07-17T11:23:43.388434Z",
     "iopub.status.busy": "2023-07-17T11:23:43.388343Z",
     "iopub.status.idle": "2023-07-17T11:23:43.390112Z",
     "shell.execute_reply": "2023-07-17T11:23:43.389859Z"
    }
   },
   "outputs": [],
   "source": [
    "p = estimateP.get_estimated_prob()"
   ]
  },
  {
   "cell_type": "code",
   "execution_count": 10,
   "id": "dd2d55a4",
   "metadata": {
    "execution": {
     "iopub.execute_input": "2023-07-17T11:23:43.391281Z",
     "iopub.status.busy": "2023-07-17T11:23:43.391219Z",
     "iopub.status.idle": "2023-07-17T11:23:43.392930Z",
     "shell.execute_reply": "2023-07-17T11:23:43.392688Z"
    }
   },
   "outputs": [
    {
     "name": "stdout",
     "output_type": "stream",
     "text": [
      "-8751.94, -8750.59\n"
     ]
    }
   ],
   "source": [
    "print(\"%.2f, %.2f\" % estimateP.get_observed_lnL())"
   ]
  }
 ],
 "metadata": {
  "kernelspec": {
   "display_name": "Python 3 (ipykernel)",
   "language": "python",
   "name": "python3"
  },
  "language_info": {
   "codemirror_mode": {
    "name": "ipython",
    "version": 3
   },
   "file_extension": ".py",
   "mimetype": "text/x-python",
   "name": "python",
   "nbconvert_exporter": "python",
   "pygments_lexer": "ipython3",
   "version": "3.11.4"
  }
 },
 "nbformat": 4,
 "nbformat_minor": 5
}