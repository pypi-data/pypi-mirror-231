{
 "cells": [
  {
   "cell_type": "code",
   "execution_count": 1,
   "id": "86514d5b",
   "metadata": {
    "execution": {
     "iopub.execute_input": "2023-07-17T11:22:35.369020Z",
     "iopub.status.busy": "2023-07-17T11:22:35.368683Z",
     "iopub.status.idle": "2023-07-17T11:22:35.382303Z",
     "shell.execute_reply": "2023-07-17T11:22:35.381912Z"
    }
   },
   "outputs": [],
   "source": [
    "import set_working_directory"
   ]
  },
  {
   "cell_type": "code",
   "execution_count": 2,
   "id": "0a1bd4e4",
   "metadata": {
    "execution": {
     "iopub.execute_input": "2023-07-17T11:22:35.384370Z",
     "iopub.status.busy": "2023-07-17T11:22:35.384196Z",
     "iopub.status.idle": "2023-07-17T11:22:36.197997Z",
     "shell.execute_reply": "2023-07-17T11:22:36.197596Z"
    }
   },
   "outputs": [],
   "source": [
    "from cogent3 import load_aligned_seqs\n",
    "from cogent3.evolve import distance"
   ]
  },
  {
   "cell_type": "code",
   "execution_count": 3,
   "id": "9924cf1e",
   "metadata": {
    "execution": {
     "iopub.execute_input": "2023-07-17T11:22:36.199614Z",
     "iopub.status.busy": "2023-07-17T11:22:36.199515Z",
     "iopub.status.idle": "2023-07-17T11:22:36.201185Z",
     "shell.execute_reply": "2023-07-17T11:22:36.200958Z"
    }
   },
   "outputs": [],
   "source": [
    "from cogent3.evolve.models import HKY85"
   ]
  },
  {
   "cell_type": "code",
   "execution_count": 4,
   "id": "dfb3690e",
   "metadata": {
    "execution": {
     "iopub.execute_input": "2023-07-17T11:22:36.202325Z",
     "iopub.status.busy": "2023-07-17T11:22:36.202253Z",
     "iopub.status.idle": "2023-07-17T11:22:36.204869Z",
     "shell.execute_reply": "2023-07-17T11:22:36.204652Z"
    }
   },
   "outputs": [],
   "source": [
    "al = load_aligned_seqs(\"data/long_testseqs.fasta\")"
   ]
  },
  {
   "cell_type": "code",
   "execution_count": 5,
   "id": "4c5fa920",
   "metadata": {
    "execution": {
     "iopub.execute_input": "2023-07-17T11:22:36.205969Z",
     "iopub.status.busy": "2023-07-17T11:22:36.205909Z",
     "iopub.status.idle": "2023-07-17T11:22:36.364445Z",
     "shell.execute_reply": "2023-07-17T11:22:36.364151Z"
    }
   },
   "outputs": [
    {
     "data": {
      "text/html": [
       "\n",
       "<div class=\"c3table\">\n",
       "\n",
       "<style>\n",
       ".c3table table {margin: 10px 0;}\n",
       ".c3table tr:last-child {border-bottom: 1px solid #000;} \n",
       ".c3table tr > th {text-align: left; padding: 0 5px;}\n",
       ".c3table tr > td {text-align: left; padding: 5px;}\n",
       ".c3table tr:nth-child(even) {background: #f7f7f7 !important;}\n",
       ".c3table .ellipsis {background: rgba(0, 0, 0, .01);}\n",
       ".c3table .index {background: rgba(161, 195, 209, 0.25); margin: 10px; font-weight: 600;}\n",
       ".c3table .head_cell {background: rgba(161, 195, 209, 0.75); font-weight: bold; text-align: center;}\n",
       ".c3table caption {color: rgb(250, 250, 250); background: rgba(30, 140, 200, 1); padding: 3px; white-space: nowrap; caption-side: top;}\n",
       ".c3table .cell_title {font-weight: bold;}\n",
       ".c3col_left { text-align: left !important; display: block;}\n",
       ".c3col_right { text-align: right !important; display: block;}\n",
       ".c3col_center { text-align: center !important; display: block;}\n",
       "</style>\n",
       "\n",
       "<table>\n",
       "\n",
       "<thead class=\"head_cell\">\n",
       "<th>names</th><th>DogFaced</th><th>HowlerMon</th><th>Human</th><th>Mouse</th><th>NineBande</th>\n",
       "</thead>\n",
       "<tbody>\n",
       "<tr><td class=\"index\"><span class=\"c3col_left\">DogFaced</span></td><td><span class=\"c3col_right\">0.0000</span></td><td><span class=\"c3col_right\">0.2078</span></td><td><span class=\"c3col_right\">0.1972</span></td><td><span class=\"c3col_right\">0.4022</span></td><td><span class=\"c3col_right\">0.2019</span></td></tr>\n",
       "<tr><td class=\"index\"><span class=\"c3col_left\">HowlerMon</span></td><td><span class=\"c3col_right\">0.2078</span></td><td><span class=\"c3col_right\">0.0000</span></td><td><span class=\"c3col_right\">0.0730</span></td><td><span class=\"c3col_right\">0.3487</span></td><td><span class=\"c3col_right\">0.1865</span></td></tr>\n",
       "<tr><td class=\"index\"><span class=\"c3col_left\">Human</span></td><td><span class=\"c3col_right\">0.1972</span></td><td><span class=\"c3col_right\">0.0730</span></td><td><span class=\"c3col_right\">0.0000</span></td><td><span class=\"c3col_right\">0.3363</span></td><td><span class=\"c3col_right\">0.1804</span></td></tr>\n",
       "<tr><td class=\"index\"><span class=\"c3col_left\">Mouse</span></td><td><span class=\"c3col_right\">0.4022</span></td><td><span class=\"c3col_right\">0.3487</span></td><td><span class=\"c3col_right\">0.3363</span></td><td><span class=\"c3col_right\">0.0000</span></td><td><span class=\"c3col_right\">0.3813</span></td></tr>\n",
       "<tr><td class=\"index\"><span class=\"c3col_left\">NineBande</span></td><td><span class=\"c3col_right\">0.2019</span></td><td><span class=\"c3col_right\">0.1865</span></td><td><span class=\"c3col_right\">0.1804</span></td><td><span class=\"c3col_right\">0.3813</span></td><td><span class=\"c3col_right\">0.0000</span></td></tr>\n",
       "</tbody>\n",
       "</table>\n",
       "\n",
       "</div>"
      ],
      "text/plain": [
       "===================================================================\n",
       "names        DogFaced    HowlerMon     Human     Mouse    NineBande\n",
       "-------------------------------------------------------------------\n",
       "DogFaced       0.0000       0.2078    0.1972    0.4022       0.2019\n",
       "HowlerMon      0.2078       0.0000    0.0730    0.3487       0.1865\n",
       "Human          0.1972       0.0730    0.0000    0.3363       0.1804\n",
       "Mouse          0.4022       0.3487    0.3363    0.0000       0.3813\n",
       "NineBande      0.2019       0.1865    0.1804    0.3813       0.0000\n",
       "-------------------------------------------------------------------"
      ]
     },
     "execution_count": 5,
     "metadata": {},
     "output_type": "execute_result"
    }
   ],
   "source": [
    "d = distance.EstimateDistances(al, submodel=HKY85())\n",
    "d.run(show_progress=False)\n",
    "d.get_pairwise_distances()"
   ]
  },
  {
   "cell_type": "code",
   "execution_count": 6,
   "id": "63df66a4",
   "metadata": {
    "execution": {
     "iopub.execute_input": "2023-07-17T11:22:36.365718Z",
     "iopub.status.busy": "2023-07-17T11:22:36.365640Z",
     "iopub.status.idle": "2023-07-17T11:22:36.368296Z",
     "shell.execute_reply": "2023-07-17T11:22:36.368100Z"
    }
   },
   "outputs": [],
   "source": [
    "d.write(\"dists_for_phylo.phylip\", format=\"phylip\")"
   ]
  },
  {
   "cell_type": "code",
   "execution_count": 7,
   "id": "b6062eac",
   "metadata": {
    "execution": {
     "iopub.execute_input": "2023-07-17T11:22:36.369664Z",
     "iopub.status.busy": "2023-07-17T11:22:36.369584Z",
     "iopub.status.idle": "2023-07-17T11:22:36.371480Z",
     "shell.execute_reply": "2023-07-17T11:22:36.371242Z"
    }
   },
   "outputs": [],
   "source": [
    "import pickle\n",
    "\n",
    "with open(\"dists_for_phylo.pickle\", \"wb\") as f:\n",
    "    pickle.dump(d.get_pairwise_distances(), f)"
   ]
  },
  {
   "cell_type": "code",
   "execution_count": 8,
   "id": "1ff1245a",
   "metadata": {
    "execution": {
     "iopub.execute_input": "2023-07-17T11:22:36.372877Z",
     "iopub.status.busy": "2023-07-17T11:22:36.372780Z",
     "iopub.status.idle": "2023-07-17T11:22:36.374675Z",
     "shell.execute_reply": "2023-07-17T11:22:36.374425Z"
    }
   },
   "outputs": [],
   "source": [
    "import os\n",
    "\n",
    "for file_name in \"dists_for_phylo.phylip\", \"dists_for_phylo.pickle\":\n",
    "    os.remove(file_name)"
   ]
  }
 ],
 "metadata": {
  "kernelspec": {
   "display_name": "Python 3 (ipykernel)",
   "language": "python",
   "name": "python3"
  },
  "language_info": {
   "codemirror_mode": {
    "name": "ipython",
    "version": 3
   },
   "file_extension": ".py",
   "mimetype": "text/x-python",
   "name": "python",
   "nbconvert_exporter": "python",
   "pygments_lexer": "ipython3",
   "version": "3.11.4"
  }
 },
 "nbformat": 4,
 "nbformat_minor": 5
}