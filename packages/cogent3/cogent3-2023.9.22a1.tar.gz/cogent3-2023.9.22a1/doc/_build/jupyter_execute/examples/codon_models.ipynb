{
 "cells": [
  {
   "cell_type": "code",
   "execution_count": 1,
   "id": "8c6fb81c",
   "metadata": {
    "execution": {
     "iopub.execute_input": "2023-07-17T11:22:37.495679Z",
     "iopub.status.busy": "2023-07-17T11:22:37.495456Z",
     "iopub.status.idle": "2023-07-17T11:22:37.509789Z",
     "shell.execute_reply": "2023-07-17T11:22:37.509354Z"
    }
   },
   "outputs": [],
   "source": [
    "import set_working_directory"
   ]
  },
  {
   "cell_type": "code",
   "execution_count": 2,
   "id": "78ca3f12",
   "metadata": {
    "execution": {
     "iopub.execute_input": "2023-07-17T11:22:37.511989Z",
     "iopub.status.busy": "2023-07-17T11:22:37.511804Z",
     "iopub.status.idle": "2023-07-17T11:22:38.312488Z",
     "shell.execute_reply": "2023-07-17T11:22:38.312136Z"
    }
   },
   "outputs": [],
   "source": [
    "from cogent3.evolve.models import get_model"
   ]
  },
  {
   "cell_type": "code",
   "execution_count": 3,
   "id": "eaa63142",
   "metadata": {
    "execution": {
     "iopub.execute_input": "2023-07-17T11:22:38.314019Z",
     "iopub.status.busy": "2023-07-17T11:22:38.313902Z",
     "iopub.status.idle": "2023-07-17T11:22:38.983082Z",
     "shell.execute_reply": "2023-07-17T11:22:38.972487Z"
    }
   },
   "outputs": [],
   "source": [
    "tf = get_model(\"GY94\")\n",
    "nf = get_model(\"MG94GTR\")\n",
    "cnf = get_model(\"CNFGTR\")"
   ]
  },
  {
   "cell_type": "code",
   "execution_count": 4,
   "id": "63e91a9f",
   "metadata": {
    "execution": {
     "iopub.execute_input": "2023-07-17T11:22:39.013961Z",
     "iopub.status.busy": "2023-07-17T11:22:39.013833Z",
     "iopub.status.idle": "2023-07-17T11:22:39.045509Z",
     "shell.execute_reply": "2023-07-17T11:22:39.038748Z"
    }
   },
   "outputs": [],
   "source": [
    "from cogent3 import load_aligned_seqs, load_tree\n",
    "\n",
    "aln = load_aligned_seqs(\"data/primate_brca1.fasta\", moltype=\"dna\")\n",
    "tree = load_tree(\"data/primate_brca1.tree\")"
   ]
  },
  {
   "cell_type": "code",
   "execution_count": 5,
   "id": "f29d5280",
   "metadata": {
    "execution": {
     "iopub.execute_input": "2023-07-17T11:22:39.073283Z",
     "iopub.status.busy": "2023-07-17T11:22:39.072683Z",
     "iopub.status.idle": "2023-07-17T11:22:39.113578Z",
     "shell.execute_reply": "2023-07-17T11:22:39.100862Z"
    }
   },
   "outputs": [],
   "source": [
    "lf = cnf.make_likelihood_function(tree, digits=2, space=3)\n",
    "lf.set_param_rule(\"omega\", is_constant=True, value=1.0)"
   ]
  },
  {
   "cell_type": "code",
   "execution_count": 6,
   "id": "71cda5c3",
   "metadata": {
    "execution": {
     "iopub.execute_input": "2023-07-17T11:22:39.137048Z",
     "iopub.status.busy": "2023-07-17T11:22:39.131091Z",
     "iopub.status.idle": "2023-07-17T11:22:41.685002Z",
     "shell.execute_reply": "2023-07-17T11:22:41.675225Z"
    }
   },
   "outputs": [
    {
     "data": {
      "text/html": [
       "<h4>CNFGTR</h4>\n",
       "<p>log-likelihood = -6767.0980</p>\n",
       "<p>number of free parameters = 16</p>\n",
       "\n",
       "<div class=\"c3table\">\n",
       "\n",
       "<style>\n",
       ".c3table table {margin: 10px 0;}\n",
       ".c3table tr:last-child {border-bottom: 1px solid #000;} \n",
       ".c3table tr > th {text-align: left; padding: 0 5px;}\n",
       ".c3table tr > td {text-align: left; padding: 5px;}\n",
       ".c3table tr:nth-child(even) {background: #f7f7f7 !important;}\n",
       ".c3table .ellipsis {background: rgba(0, 0, 0, .01);}\n",
       ".c3table .index {background: rgba(161, 195, 209, 0.0); margin: 10px; font-weight: 600;}\n",
       ".c3table .head_cell {background: rgba(161, 195, 209, 0.75); font-weight: bold; text-align: center;}\n",
       ".c3table caption {color: rgb(250, 250, 250); background: rgba(30, 140, 200, 1); padding: 3px; white-space: nowrap; caption-side: top;}\n",
       ".c3table .cell_title {font-weight: bold;}\n",
       ".c3col_left { text-align: left !important; display: block;}\n",
       ".c3col_right { text-align: right !important; display: block;}\n",
       ".c3col_center { text-align: center !important; display: block;}\n",
       "</style>\n",
       "\n",
       "<table>\n",
       "\n",
       "<caption>\n",
       "<span class=\"cell_title\">Global params</span>\n",
       "</caption>\n",
       "<thead class=\"head_cell\">\n",
       "<th>A/C</th><th>A/G</th><th>A/T</th><th>C/G</th><th>C/T</th><th>omega</th>\n",
       "</thead>\n",
       "<tbody>\n",
       "<tr><td><span class=\"c3col_right\">1.10</span></td><td><span class=\"c3col_right\">4.07</span></td><td><span class=\"c3col_right\">0.84</span></td><td><span class=\"c3col_right\">1.95</span></td><td><span class=\"c3col_right\">4.58</span></td><td><span class=\"c3col_right\">1.00</span></td></tr>\n",
       "</tbody>\n",
       "</table>\n",
       "\n",
       "</div>\n",
       "\n",
       "<div class=\"c3table\">\n",
       "\n",
       "<style>\n",
       ".c3table table {margin: 10px 0;}\n",
       ".c3table tr:last-child {border-bottom: 1px solid #000;} \n",
       ".c3table tr > th {text-align: left; padding: 0 5px;}\n",
       ".c3table tr > td {text-align: left; padding: 5px;}\n",
       ".c3table tr:nth-child(even) {background: #f7f7f7 !important;}\n",
       ".c3table .ellipsis {background: rgba(0, 0, 0, .01);}\n",
       ".c3table .index {background: rgba(161, 195, 209, 0.0); margin: 10px; font-weight: 600;}\n",
       ".c3table .head_cell {background: rgba(161, 195, 209, 0.75); font-weight: bold; text-align: center;}\n",
       ".c3table caption {color: rgb(250, 250, 250); background: rgba(30, 140, 200, 1); padding: 3px; white-space: nowrap; caption-side: top;}\n",
       ".c3table .cell_title {font-weight: bold;}\n",
       ".c3col_left { text-align: left !important; display: block;}\n",
       ".c3col_right { text-align: right !important; display: block;}\n",
       ".c3col_center { text-align: center !important; display: block;}\n",
       "</style>\n",
       "\n",
       "<table>\n",
       "\n",
       "<caption>\n",
       "<span class=\"cell_title\">Edge params</span>\n",
       "</caption>\n",
       "<thead class=\"head_cell\">\n",
       "<th>edge</th><th>parent</th><th>length</th>\n",
       "</thead>\n",
       "<tbody>\n",
       "<tr><td><span class=\"c3col_left\">Galago</span></td><td><span class=\"c3col_left\">root</span></td><td><span class=\"c3col_right\">0.53</span></td></tr>\n",
       "<tr><td><span class=\"c3col_left\">HowlerMon</span></td><td><span class=\"c3col_left\">root</span></td><td><span class=\"c3col_right\">0.14</span></td></tr>\n",
       "<tr><td><span class=\"c3col_left\">Rhesus</span></td><td><span class=\"c3col_left\">edge.3</span></td><td><span class=\"c3col_right\">0.07</span></td></tr>\n",
       "<tr><td><span class=\"c3col_left\">Orangutan</span></td><td><span class=\"c3col_left\">edge.2</span></td><td><span class=\"c3col_right\">0.02</span></td></tr>\n",
       "<tr><td><span class=\"c3col_left\">Gorilla</span></td><td><span class=\"c3col_left\">edge.1</span></td><td><span class=\"c3col_right\">0.01</span></td></tr>\n",
       "<tr><td><span class=\"c3col_left\">Human</span></td><td><span class=\"c3col_left\">edge.0</span></td><td><span class=\"c3col_right\">0.02</span></td></tr>\n",
       "<tr><td><span class=\"c3col_left\">Chimpanzee</span></td><td><span class=\"c3col_left\">edge.0</span></td><td><span class=\"c3col_right\">0.01</span></td></tr>\n",
       "<tr><td><span class=\"c3col_left\">edge.0</span></td><td><span class=\"c3col_left\">edge.1</span></td><td><span class=\"c3col_right\">0.00</span></td></tr>\n",
       "<tr><td><span class=\"c3col_left\">edge.1</span></td><td><span class=\"c3col_left\">edge.2</span></td><td><span class=\"c3col_right\">0.01</span></td></tr>\n",
       "<tr><td><span class=\"c3col_left\">edge.2</span></td><td><span class=\"c3col_left\">edge.3</span></td><td><span class=\"c3col_right\">0.04</span></td></tr>\n",
       "<tr><td><span class=\"c3col_left\">edge.3</span></td><td><span class=\"c3col_left\">root</span></td><td><span class=\"c3col_right\">0.02</span></td></tr>\n",
       "</tbody>\n",
       "</table>\n",
       "\n",
       "</div>\n",
       "\n",
       "<div class=\"c3table\">\n",
       "\n",
       "<style>\n",
       ".c3table table {margin: 10px 0;}\n",
       ".c3table tr:last-child {border-bottom: 1px solid #000;} \n",
       ".c3table tr > th {text-align: left; padding: 0 5px;}\n",
       ".c3table tr > td {text-align: left; padding: 5px;}\n",
       ".c3table tr:nth-child(even) {background: #f7f7f7 !important;}\n",
       ".c3table .ellipsis {background: rgba(0, 0, 0, .01);}\n",
       ".c3table .index {background: rgba(161, 195, 209, 0.0); margin: 10px; font-weight: 600;}\n",
       ".c3table .head_cell {background: rgba(161, 195, 209, 0.75); font-weight: bold; text-align: center;}\n",
       ".c3table caption {color: rgb(250, 250, 250); background: rgba(30, 140, 200, 1); padding: 3px; white-space: nowrap; caption-side: top;}\n",
       ".c3table .cell_title {font-weight: bold;}\n",
       ".c3col_left { text-align: left !important; display: block;}\n",
       ".c3col_right { text-align: right !important; display: block;}\n",
       ".c3col_center { text-align: center !important; display: block;}\n",
       "</style>\n",
       "\n",
       "<table>\n",
       "\n",
       "<caption>\n",
       "<span class=\"cell_title\">Motif params</span>\n",
       "</caption>\n",
       "<thead class=\"head_cell\">\n",
       "<th>AAA</th><th>AAC</th><th>AAG</th><th>AAT</th><th>ACA</th><th>ACC</th><th>ACG</th><th>ACT</th><th>AGA</th><th>AGC</th><th>AGG</th><th>AGT</th><th>ATA</th>\n",
       "</thead>\n",
       "<tbody>\n",
       "<tr><td><span class=\"c3col_right\">0.06</span></td><td><span class=\"c3col_right\">0.02</span></td><td><span class=\"c3col_right\">0.03</span></td><td><span class=\"c3col_right\">0.06</span></td><td><span class=\"c3col_right\">0.02</span></td><td><span class=\"c3col_right\">0.00</span></td><td><span class=\"c3col_right\">0.00</span></td><td><span class=\"c3col_right\">0.03</span></td><td><span class=\"c3col_right\">0.02</span></td><td><span class=\"c3col_right\">0.03</span></td><td><span class=\"c3col_right\">0.01</span></td><td><span class=\"c3col_right\">0.04</span></td><td><span class=\"c3col_right\">0.02</span></td></tr>\n",
       "</tbody>\n",
       "</table>\n",
       "\n",
       "<table>\n",
       "\n",
       "<caption>\n",
       "<span class=\"cell_title\">continuation</span>\n",
       "</caption>\n",
       "<thead class=\"head_cell\">\n",
       "<th>ATC</th><th>ATG</th><th>ATT</th><th>CAA</th><th>CAC</th><th>CAG</th><th>CAT</th><th>CCA</th><th>CCC</th><th>CCG</th><th>CCT</th><th>CGA</th><th>CGC</th>\n",
       "</thead>\n",
       "<tbody>\n",
       "<tr><td><span class=\"c3col_right\">0.01</span></td><td><span class=\"c3col_right\">0.01</span></td><td><span class=\"c3col_right\">0.02</span></td><td><span class=\"c3col_right\">0.02</span></td><td><span class=\"c3col_right\">0.01</span></td><td><span class=\"c3col_right\">0.02</span></td><td><span class=\"c3col_right\">0.02</span></td><td><span class=\"c3col_right\">0.02</span></td><td><span class=\"c3col_right\">0.01</span></td><td><span class=\"c3col_right\">0.00</span></td><td><span class=\"c3col_right\">0.03</span></td><td><span class=\"c3col_right\">0.00</span></td><td><span class=\"c3col_right\">0.00</span></td></tr>\n",
       "</tbody>\n",
       "</table>\n",
       "\n",
       "<table>\n",
       "\n",
       "<caption>\n",
       "<span class=\"cell_title\">continuation</span>\n",
       "</caption>\n",
       "<thead class=\"head_cell\">\n",
       "<th>CGG</th><th>CGT</th><th>CTA</th><th>CTC</th><th>CTG</th><th>CTT</th><th>GAA</th><th>GAC</th><th>GAG</th><th>GAT</th><th>GCA</th><th>GCC</th><th>GCG</th>\n",
       "</thead>\n",
       "<tbody>\n",
       "<tr><td><span class=\"c3col_right\">0.00</span></td><td><span class=\"c3col_right\">0.00</span></td><td><span class=\"c3col_right\">0.01</span></td><td><span class=\"c3col_right\">0.01</span></td><td><span class=\"c3col_right\">0.01</span></td><td><span class=\"c3col_right\">0.01</span></td><td><span class=\"c3col_right\">0.08</span></td><td><span class=\"c3col_right\">0.01</span></td><td><span class=\"c3col_right\">0.03</span></td><td><span class=\"c3col_right\">0.03</span></td><td><span class=\"c3col_right\">0.02</span></td><td><span class=\"c3col_right\">0.01</span></td><td><span class=\"c3col_right\">0.00</span></td></tr>\n",
       "</tbody>\n",
       "</table>\n",
       "\n",
       "<table>\n",
       "\n",
       "<caption>\n",
       "<span class=\"cell_title\">continuation</span>\n",
       "</caption>\n",
       "<thead class=\"head_cell\">\n",
       "<th>GCT</th><th>GGA</th><th>GGC</th><th>GGG</th><th>GGT</th><th>GTA</th><th>GTC</th><th>GTG</th><th>GTT</th><th>TAC</th><th>TAT</th><th>TCA</th><th>TCC</th>\n",
       "</thead>\n",
       "<tbody>\n",
       "<tr><td><span class=\"c3col_right\">0.01</span></td><td><span class=\"c3col_right\">0.02</span></td><td><span class=\"c3col_right\">0.01</span></td><td><span class=\"c3col_right\">0.01</span></td><td><span class=\"c3col_right\">0.01</span></td><td><span class=\"c3col_right\">0.01</span></td><td><span class=\"c3col_right\">0.01</span></td><td><span class=\"c3col_right\">0.01</span></td><td><span class=\"c3col_right\">0.02</span></td><td><span class=\"c3col_right\">0.00</span></td><td><span class=\"c3col_right\">0.01</span></td><td><span class=\"c3col_right\">0.02</span></td><td><span class=\"c3col_right\">0.01</span></td></tr>\n",
       "</tbody>\n",
       "</table>\n",
       "\n",
       "<table>\n",
       "\n",
       "<caption>\n",
       "<span class=\"cell_title\">continuation</span>\n",
       "</caption>\n",
       "<thead class=\"head_cell\">\n",
       "<th>TCG</th><th>TCT</th><th>TGC</th><th>TGG</th><th>TGT</th><th>TTA</th><th>TTC</th><th>TTG</th><th>TTT</th>\n",
       "</thead>\n",
       "<tbody>\n",
       "<tr><td><span class=\"c3col_right\">0.00</span></td><td><span class=\"c3col_right\">0.03</span></td><td><span class=\"c3col_right\">0.00</span></td><td><span class=\"c3col_right\">0.00</span></td><td><span class=\"c3col_right\">0.02</span></td><td><span class=\"c3col_right\">0.02</span></td><td><span class=\"c3col_right\">0.01</span></td><td><span class=\"c3col_right\">0.01</span></td><td><span class=\"c3col_right\">0.02</span></td></tr>\n",
       "</tbody>\n",
       "</table>\n",
       "\n",
       "</div>"
      ],
      "text/plain": [
       "CNFGTR\n",
       "log-likelihood = -6767.0980\n",
       "number of free parameters = 16\n",
       "========================================\n",
       " A/C    A/G    A/T    C/G    C/T   omega\n",
       "----------------------------------------\n",
       "1.10   4.07   0.84   1.95   4.58    1.00\n",
       "----------------------------------------\n",
       "============================\n",
       "edge         parent   length\n",
       "----------------------------\n",
       "Galago       root       0.53\n",
       "HowlerMon    root       0.14\n",
       "Rhesus       edge.3     0.07\n",
       "Orangutan    edge.2     0.02\n",
       "Gorilla      edge.1     0.01\n",
       "Human        edge.0     0.02\n",
       "Chimpanzee   edge.0     0.01\n",
       "edge.0       edge.1     0.00\n",
       "edge.1       edge.2     0.01\n",
       "edge.2       edge.3     0.04\n",
       "edge.3       root       0.02\n",
       "----------------------------\n",
       "==========================================================================\n",
       " AAA    AAC    AAG    AAT    ACA    ACC    ACG    ACT    AGA    AGC    AGG\n",
       "--------------------------------------------------------------------------\n",
       "0.06   0.02   0.03   0.06   0.02   0.00   0.00   0.03   0.02   0.03   0.01\n",
       "--------------------------------------------------------------------------\n",
       "\n",
       "continued: \n",
       "==========================================================================\n",
       " AGT    ATA    ATC    ATG    ATT    CAA    CAC    CAG    CAT    CCA    CCC\n",
       "--------------------------------------------------------------------------\n",
       "0.04   0.02   0.01   0.01   0.02   0.02   0.01   0.02   0.02   0.02   0.01\n",
       "--------------------------------------------------------------------------\n",
       "\n",
       "continued: \n",
       "==========================================================================\n",
       " CCG    CCT    CGA    CGC    CGG    CGT    CTA    CTC    CTG    CTT    GAA\n",
       "--------------------------------------------------------------------------\n",
       "0.00   0.03   0.00   0.00   0.00   0.00   0.01   0.01   0.01   0.01   0.08\n",
       "--------------------------------------------------------------------------\n",
       "\n",
       "continued: \n",
       "==========================================================================\n",
       " GAC    GAG    GAT    GCA    GCC    GCG    GCT    GGA    GGC    GGG    GGT\n",
       "--------------------------------------------------------------------------\n",
       "0.01   0.03   0.03   0.02   0.01   0.00   0.01   0.02   0.01   0.01   0.01\n",
       "--------------------------------------------------------------------------\n",
       "\n",
       "continued: \n",
       "==========================================================================\n",
       " GTA    GTC    GTG    GTT    TAC    TAT    TCA    TCC    TCG    TCT    TGC\n",
       "--------------------------------------------------------------------------\n",
       "0.01   0.01   0.01   0.02   0.00   0.01   0.02   0.01   0.00   0.03   0.00\n",
       "--------------------------------------------------------------------------\n",
       "\n",
       "continued: \n",
       "=======================================\n",
       " TGG    TGT    TTA    TTC    TTG    TTT\n",
       "---------------------------------------\n",
       "0.00   0.02   0.02   0.01   0.01   0.02\n",
       "---------------------------------------"
      ]
     },
     "execution_count": 6,
     "metadata": {},
     "output_type": "execute_result"
    }
   ],
   "source": [
    "optimiser_args = dict(\n",
    "    local=True, max_restarts=5, tolerance=1e-8, show_progress=False\n",
    ")\n",
    "lf.set_alignment(aln)\n",
    "lf.optimise(**optimiser_args)\n",
    "lf"
   ]
  },
  {
   "cell_type": "code",
   "execution_count": 7,
   "id": "48a085d1",
   "metadata": {
    "execution": {
     "iopub.execute_input": "2023-07-17T11:22:41.700484Z",
     "iopub.status.busy": "2023-07-17T11:22:41.700389Z",
     "iopub.status.idle": "2023-07-17T11:22:43.908134Z",
     "shell.execute_reply": "2023-07-17T11:22:43.907666Z"
    }
   },
   "outputs": [
    {
     "data": {
      "text/html": [
       "<h4>CNFGTR</h4>\n",
       "<p>log-likelihood = -6762.5761</p>\n",
       "<p>number of free parameters = 17</p>\n",
       "\n",
       "<div class=\"c3table\">\n",
       "\n",
       "<style>\n",
       ".c3table table {margin: 10px 0;}\n",
       ".c3table tr:last-child {border-bottom: 1px solid #000;} \n",
       ".c3table tr > th {text-align: left; padding: 0 5px;}\n",
       ".c3table tr > td {text-align: left; padding: 5px;}\n",
       ".c3table tr:nth-child(even) {background: #f7f7f7 !important;}\n",
       ".c3table .ellipsis {background: rgba(0, 0, 0, .01);}\n",
       ".c3table .index {background: rgba(161, 195, 209, 0.0); margin: 10px; font-weight: 600;}\n",
       ".c3table .head_cell {background: rgba(161, 195, 209, 0.75); font-weight: bold; text-align: center;}\n",
       ".c3table caption {color: rgb(250, 250, 250); background: rgba(30, 140, 200, 1); padding: 3px; white-space: nowrap; caption-side: top;}\n",
       ".c3table .cell_title {font-weight: bold;}\n",
       ".c3col_left { text-align: left !important; display: block;}\n",
       ".c3col_right { text-align: right !important; display: block;}\n",
       ".c3col_center { text-align: center !important; display: block;}\n",
       "</style>\n",
       "\n",
       "<table>\n",
       "\n",
       "<caption>\n",
       "<span class=\"cell_title\">Global params</span>\n",
       "</caption>\n",
       "<thead class=\"head_cell\">\n",
       "<th>A/C</th><th>A/G</th><th>A/T</th><th>C/G</th><th>C/T</th><th>omega</th>\n",
       "</thead>\n",
       "<tbody>\n",
       "<tr><td><span class=\"c3col_right\">1.08</span></td><td><span class=\"c3col_right\">3.86</span></td><td><span class=\"c3col_right\">0.78</span></td><td><span class=\"c3col_right\">1.96</span></td><td><span class=\"c3col_right\">4.08</span></td><td><span class=\"c3col_right\">0.75</span></td></tr>\n",
       "</tbody>\n",
       "</table>\n",
       "\n",
       "</div>\n",
       "\n",
       "<div class=\"c3table\">\n",
       "\n",
       "<style>\n",
       ".c3table table {margin: 10px 0;}\n",
       ".c3table tr:last-child {border-bottom: 1px solid #000;} \n",
       ".c3table tr > th {text-align: left; padding: 0 5px;}\n",
       ".c3table tr > td {text-align: left; padding: 5px;}\n",
       ".c3table tr:nth-child(even) {background: #f7f7f7 !important;}\n",
       ".c3table .ellipsis {background: rgba(0, 0, 0, .01);}\n",
       ".c3table .index {background: rgba(161, 195, 209, 0.0); margin: 10px; font-weight: 600;}\n",
       ".c3table .head_cell {background: rgba(161, 195, 209, 0.75); font-weight: bold; text-align: center;}\n",
       ".c3table caption {color: rgb(250, 250, 250); background: rgba(30, 140, 200, 1); padding: 3px; white-space: nowrap; caption-side: top;}\n",
       ".c3table .cell_title {font-weight: bold;}\n",
       ".c3col_left { text-align: left !important; display: block;}\n",
       ".c3col_right { text-align: right !important; display: block;}\n",
       ".c3col_center { text-align: center !important; display: block;}\n",
       "</style>\n",
       "\n",
       "<table>\n",
       "\n",
       "<caption>\n",
       "<span class=\"cell_title\">Edge params</span>\n",
       "</caption>\n",
       "<thead class=\"head_cell\">\n",
       "<th>edge</th><th>parent</th><th>length</th>\n",
       "</thead>\n",
       "<tbody>\n",
       "<tr><td><span class=\"c3col_left\">Galago</span></td><td><span class=\"c3col_left\">root</span></td><td><span class=\"c3col_right\">0.53</span></td></tr>\n",
       "<tr><td><span class=\"c3col_left\">HowlerMon</span></td><td><span class=\"c3col_left\">root</span></td><td><span class=\"c3col_right\">0.14</span></td></tr>\n",
       "<tr><td><span class=\"c3col_left\">Rhesus</span></td><td><span class=\"c3col_left\">edge.3</span></td><td><span class=\"c3col_right\">0.07</span></td></tr>\n",
       "<tr><td><span class=\"c3col_left\">Orangutan</span></td><td><span class=\"c3col_left\">edge.2</span></td><td><span class=\"c3col_right\">0.02</span></td></tr>\n",
       "<tr><td><span class=\"c3col_left\">Gorilla</span></td><td><span class=\"c3col_left\">edge.1</span></td><td><span class=\"c3col_right\">0.01</span></td></tr>\n",
       "<tr><td><span class=\"c3col_left\">Human</span></td><td><span class=\"c3col_left\">edge.0</span></td><td><span class=\"c3col_right\">0.02</span></td></tr>\n",
       "<tr><td><span class=\"c3col_left\">Chimpanzee</span></td><td><span class=\"c3col_left\">edge.0</span></td><td><span class=\"c3col_right\">0.01</span></td></tr>\n",
       "<tr><td><span class=\"c3col_left\">edge.0</span></td><td><span class=\"c3col_left\">edge.1</span></td><td><span class=\"c3col_right\">0.00</span></td></tr>\n",
       "<tr><td><span class=\"c3col_left\">edge.1</span></td><td><span class=\"c3col_left\">edge.2</span></td><td><span class=\"c3col_right\">0.01</span></td></tr>\n",
       "<tr><td><span class=\"c3col_left\">edge.2</span></td><td><span class=\"c3col_left\">edge.3</span></td><td><span class=\"c3col_right\">0.03</span></td></tr>\n",
       "<tr><td><span class=\"c3col_left\">edge.3</span></td><td><span class=\"c3col_left\">root</span></td><td><span class=\"c3col_right\">0.02</span></td></tr>\n",
       "</tbody>\n",
       "</table>\n",
       "\n",
       "</div>\n",
       "\n",
       "<div class=\"c3table\">\n",
       "\n",
       "<style>\n",
       ".c3table table {margin: 10px 0;}\n",
       ".c3table tr:last-child {border-bottom: 1px solid #000;} \n",
       ".c3table tr > th {text-align: left; padding: 0 5px;}\n",
       ".c3table tr > td {text-align: left; padding: 5px;}\n",
       ".c3table tr:nth-child(even) {background: #f7f7f7 !important;}\n",
       ".c3table .ellipsis {background: rgba(0, 0, 0, .01);}\n",
       ".c3table .index {background: rgba(161, 195, 209, 0.0); margin: 10px; font-weight: 600;}\n",
       ".c3table .head_cell {background: rgba(161, 195, 209, 0.75); font-weight: bold; text-align: center;}\n",
       ".c3table caption {color: rgb(250, 250, 250); background: rgba(30, 140, 200, 1); padding: 3px; white-space: nowrap; caption-side: top;}\n",
       ".c3table .cell_title {font-weight: bold;}\n",
       ".c3col_left { text-align: left !important; display: block;}\n",
       ".c3col_right { text-align: right !important; display: block;}\n",
       ".c3col_center { text-align: center !important; display: block;}\n",
       "</style>\n",
       "\n",
       "<table>\n",
       "\n",
       "<caption>\n",
       "<span class=\"cell_title\">Motif params</span>\n",
       "</caption>\n",
       "<thead class=\"head_cell\">\n",
       "<th>AAA</th><th>AAC</th><th>AAG</th><th>AAT</th><th>ACA</th><th>ACC</th><th>ACG</th><th>ACT</th><th>AGA</th><th>AGC</th><th>AGG</th><th>AGT</th><th>ATA</th>\n",
       "</thead>\n",
       "<tbody>\n",
       "<tr><td><span class=\"c3col_right\">0.06</span></td><td><span class=\"c3col_right\">0.02</span></td><td><span class=\"c3col_right\">0.03</span></td><td><span class=\"c3col_right\">0.06</span></td><td><span class=\"c3col_right\">0.02</span></td><td><span class=\"c3col_right\">0.00</span></td><td><span class=\"c3col_right\">0.00</span></td><td><span class=\"c3col_right\">0.03</span></td><td><span class=\"c3col_right\">0.02</span></td><td><span class=\"c3col_right\">0.03</span></td><td><span class=\"c3col_right\">0.01</span></td><td><span class=\"c3col_right\">0.04</span></td><td><span class=\"c3col_right\">0.02</span></td></tr>\n",
       "</tbody>\n",
       "</table>\n",
       "\n",
       "<table>\n",
       "\n",
       "<caption>\n",
       "<span class=\"cell_title\">continuation</span>\n",
       "</caption>\n",
       "<thead class=\"head_cell\">\n",
       "<th>ATC</th><th>ATG</th><th>ATT</th><th>CAA</th><th>CAC</th><th>CAG</th><th>CAT</th><th>CCA</th><th>CCC</th><th>CCG</th><th>CCT</th><th>CGA</th><th>CGC</th>\n",
       "</thead>\n",
       "<tbody>\n",
       "<tr><td><span class=\"c3col_right\">0.01</span></td><td><span class=\"c3col_right\">0.01</span></td><td><span class=\"c3col_right\">0.02</span></td><td><span class=\"c3col_right\">0.02</span></td><td><span class=\"c3col_right\">0.01</span></td><td><span class=\"c3col_right\">0.02</span></td><td><span class=\"c3col_right\">0.02</span></td><td><span class=\"c3col_right\">0.02</span></td><td><span class=\"c3col_right\">0.01</span></td><td><span class=\"c3col_right\">0.00</span></td><td><span class=\"c3col_right\">0.03</span></td><td><span class=\"c3col_right\">0.00</span></td><td><span class=\"c3col_right\">0.00</span></td></tr>\n",
       "</tbody>\n",
       "</table>\n",
       "\n",
       "<table>\n",
       "\n",
       "<caption>\n",
       "<span class=\"cell_title\">continuation</span>\n",
       "</caption>\n",
       "<thead class=\"head_cell\">\n",
       "<th>CGG</th><th>CGT</th><th>CTA</th><th>CTC</th><th>CTG</th><th>CTT</th><th>GAA</th><th>GAC</th><th>GAG</th><th>GAT</th><th>GCA</th><th>GCC</th><th>GCG</th>\n",
       "</thead>\n",
       "<tbody>\n",
       "<tr><td><span class=\"c3col_right\">0.00</span></td><td><span class=\"c3col_right\">0.00</span></td><td><span class=\"c3col_right\">0.01</span></td><td><span class=\"c3col_right\">0.01</span></td><td><span class=\"c3col_right\">0.01</span></td><td><span class=\"c3col_right\">0.01</span></td><td><span class=\"c3col_right\">0.08</span></td><td><span class=\"c3col_right\">0.01</span></td><td><span class=\"c3col_right\">0.03</span></td><td><span class=\"c3col_right\">0.03</span></td><td><span class=\"c3col_right\">0.02</span></td><td><span class=\"c3col_right\">0.01</span></td><td><span class=\"c3col_right\">0.00</span></td></tr>\n",
       "</tbody>\n",
       "</table>\n",
       "\n",
       "<table>\n",
       "\n",
       "<caption>\n",
       "<span class=\"cell_title\">continuation</span>\n",
       "</caption>\n",
       "<thead class=\"head_cell\">\n",
       "<th>GCT</th><th>GGA</th><th>GGC</th><th>GGG</th><th>GGT</th><th>GTA</th><th>GTC</th><th>GTG</th><th>GTT</th><th>TAC</th><th>TAT</th><th>TCA</th><th>TCC</th>\n",
       "</thead>\n",
       "<tbody>\n",
       "<tr><td><span class=\"c3col_right\">0.01</span></td><td><span class=\"c3col_right\">0.02</span></td><td><span class=\"c3col_right\">0.01</span></td><td><span class=\"c3col_right\">0.01</span></td><td><span class=\"c3col_right\">0.01</span></td><td><span class=\"c3col_right\">0.01</span></td><td><span class=\"c3col_right\">0.01</span></td><td><span class=\"c3col_right\">0.01</span></td><td><span class=\"c3col_right\">0.02</span></td><td><span class=\"c3col_right\">0.00</span></td><td><span class=\"c3col_right\">0.01</span></td><td><span class=\"c3col_right\">0.02</span></td><td><span class=\"c3col_right\">0.01</span></td></tr>\n",
       "</tbody>\n",
       "</table>\n",
       "\n",
       "<table>\n",
       "\n",
       "<caption>\n",
       "<span class=\"cell_title\">continuation</span>\n",
       "</caption>\n",
       "<thead class=\"head_cell\">\n",
       "<th>TCG</th><th>TCT</th><th>TGC</th><th>TGG</th><th>TGT</th><th>TTA</th><th>TTC</th><th>TTG</th><th>TTT</th>\n",
       "</thead>\n",
       "<tbody>\n",
       "<tr><td><span class=\"c3col_right\">0.00</span></td><td><span class=\"c3col_right\">0.03</span></td><td><span class=\"c3col_right\">0.00</span></td><td><span class=\"c3col_right\">0.00</span></td><td><span class=\"c3col_right\">0.02</span></td><td><span class=\"c3col_right\">0.02</span></td><td><span class=\"c3col_right\">0.01</span></td><td><span class=\"c3col_right\">0.01</span></td><td><span class=\"c3col_right\">0.02</span></td></tr>\n",
       "</tbody>\n",
       "</table>\n",
       "\n",
       "</div>"
      ],
      "text/plain": [
       "CNFGTR\n",
       "log-likelihood = -6762.5761\n",
       "number of free parameters = 17\n",
       "========================================\n",
       " A/C    A/G    A/T    C/G    C/T   omega\n",
       "----------------------------------------\n",
       "1.08   3.86   0.78   1.96   4.08    0.75\n",
       "----------------------------------------\n",
       "============================\n",
       "edge         parent   length\n",
       "----------------------------\n",
       "Galago       root       0.53\n",
       "HowlerMon    root       0.14\n",
       "Rhesus       edge.3     0.07\n",
       "Orangutan    edge.2     0.02\n",
       "Gorilla      edge.1     0.01\n",
       "Human        edge.0     0.02\n",
       "Chimpanzee   edge.0     0.01\n",
       "edge.0       edge.1     0.00\n",
       "edge.1       edge.2     0.01\n",
       "edge.2       edge.3     0.03\n",
       "edge.3       root       0.02\n",
       "----------------------------\n",
       "==========================================================================\n",
       " AAA    AAC    AAG    AAT    ACA    ACC    ACG    ACT    AGA    AGC    AGG\n",
       "--------------------------------------------------------------------------\n",
       "0.06   0.02   0.03   0.06   0.02   0.00   0.00   0.03   0.02   0.03   0.01\n",
       "--------------------------------------------------------------------------\n",
       "\n",
       "continued: \n",
       "==========================================================================\n",
       " AGT    ATA    ATC    ATG    ATT    CAA    CAC    CAG    CAT    CCA    CCC\n",
       "--------------------------------------------------------------------------\n",
       "0.04   0.02   0.01   0.01   0.02   0.02   0.01   0.02   0.02   0.02   0.01\n",
       "--------------------------------------------------------------------------\n",
       "\n",
       "continued: \n",
       "==========================================================================\n",
       " CCG    CCT    CGA    CGC    CGG    CGT    CTA    CTC    CTG    CTT    GAA\n",
       "--------------------------------------------------------------------------\n",
       "0.00   0.03   0.00   0.00   0.00   0.00   0.01   0.01   0.01   0.01   0.08\n",
       "--------------------------------------------------------------------------\n",
       "\n",
       "continued: \n",
       "==========================================================================\n",
       " GAC    GAG    GAT    GCA    GCC    GCG    GCT    GGA    GGC    GGG    GGT\n",
       "--------------------------------------------------------------------------\n",
       "0.01   0.03   0.03   0.02   0.01   0.00   0.01   0.02   0.01   0.01   0.01\n",
       "--------------------------------------------------------------------------\n",
       "\n",
       "continued: \n",
       "==========================================================================\n",
       " GTA    GTC    GTG    GTT    TAC    TAT    TCA    TCC    TCG    TCT    TGC\n",
       "--------------------------------------------------------------------------\n",
       "0.01   0.01   0.01   0.02   0.00   0.01   0.02   0.01   0.00   0.03   0.00\n",
       "--------------------------------------------------------------------------\n",
       "\n",
       "continued: \n",
       "=======================================\n",
       " TGG    TGT    TTA    TTC    TTG    TTT\n",
       "---------------------------------------\n",
       "0.00   0.02   0.02   0.01   0.01   0.02\n",
       "---------------------------------------"
      ]
     },
     "execution_count": 7,
     "metadata": {},
     "output_type": "execute_result"
    }
   ],
   "source": [
    "neutral_lnL = lf.get_log_likelihood()\n",
    "neutral_nfp = lf.get_num_free_params()\n",
    "lf.set_param_rule(\"omega\", is_constant=False)\n",
    "lf.optimise(**optimiser_args)\n",
    "non_neutral_lnL = lf.get_log_likelihood()\n",
    "non_neutral_nfp = lf.get_num_free_params()\n",
    "lf"
   ]
  },
  {
   "cell_type": "code",
   "execution_count": 8,
   "id": "f0b00bd6",
   "metadata": {
    "execution": {
     "iopub.execute_input": "2023-07-17T11:22:43.910179Z",
     "iopub.status.busy": "2023-07-17T11:22:43.910043Z",
     "iopub.status.idle": "2023-07-17T11:22:43.912825Z",
     "shell.execute_reply": "2023-07-17T11:22:43.912460Z"
    }
   },
   "outputs": [
    {
     "name": "stdout",
     "output_type": "stream",
     "text": [
      "0.0026357631763416077\n"
     ]
    }
   ],
   "source": [
    "from scipy.stats.distributions import chi2\n",
    "\n",
    "LR = 2 * (non_neutral_lnL - neutral_lnL)\n",
    "df = non_neutral_nfp - neutral_nfp\n",
    "print(chi2.sf(LR, df))"
   ]
  },
  {
   "cell_type": "code",
   "execution_count": 9,
   "id": "8def5d23",
   "metadata": {
    "execution": {
     "iopub.execute_input": "2023-07-17T11:22:43.914660Z",
     "iopub.status.busy": "2023-07-17T11:22:43.914581Z",
     "iopub.status.idle": "2023-07-17T11:22:46.571783Z",
     "shell.execute_reply": "2023-07-17T11:22:46.569834Z"
    }
   },
   "outputs": [],
   "source": [
    "lf.set_param_rule(\n",
    "    \"omega\", tip_names=[\"Chimpanzee\", \"Human\"], outgroup_name=\"Galago\", clade=True\n",
    ")\n",
    "lf.optimise(**optimiser_args)\n",
    "lf\n",
    "chimp_human_clade_lnL = lf.get_log_likelihood()\n",
    "chimp_human_clade_nfp = lf.get_num_free_params()"
   ]
  },
  {
   "cell_type": "code",
   "execution_count": 10,
   "id": "a50e20f2",
   "metadata": {
    "execution": {
     "iopub.execute_input": "2023-07-17T11:22:46.579897Z",
     "iopub.status.busy": "2023-07-17T11:22:46.576632Z",
     "iopub.status.idle": "2023-07-17T11:22:46.592550Z",
     "shell.execute_reply": "2023-07-17T11:22:46.583671Z"
    }
   },
   "outputs": [
    {
     "name": "stdout",
     "output_type": "stream",
     "text": [
      "0.028426324899987754\n"
     ]
    }
   ],
   "source": [
    "LR = 2 * (chimp_human_clade_lnL - non_neutral_lnL)\n",
    "df = chimp_human_clade_nfp - non_neutral_nfp\n",
    "print(chi2.sf(LR, df))"
   ]
  },
  {
   "cell_type": "code",
   "execution_count": 11,
   "id": "2e223bb8",
   "metadata": {
    "execution": {
     "iopub.execute_input": "2023-07-17T11:22:46.602779Z",
     "iopub.status.busy": "2023-07-17T11:22:46.602692Z",
     "iopub.status.idle": "2023-07-17T11:22:49.090184Z",
     "shell.execute_reply": "2023-07-17T11:22:49.079768Z"
    }
   },
   "outputs": [],
   "source": [
    "lf = cnf.make_likelihood_function(tree, digits=2, space=3)\n",
    "lf.set_alignment(aln)\n",
    "lf.optimise(**optimiser_args)\n",
    "non_neutral_lnL = lf.get_log_likelihood()\n",
    "non_neutral_nfp = lf.get_num_free_params()"
   ]
  },
  {
   "cell_type": "code",
   "execution_count": 12,
   "id": "29e124c6",
   "metadata": {
    "execution": {
     "iopub.execute_input": "2023-07-17T11:22:49.110507Z",
     "iopub.status.busy": "2023-07-17T11:22:49.110420Z",
     "iopub.status.idle": "2023-07-17T11:22:49.130330Z",
     "shell.execute_reply": "2023-07-17T11:22:49.120290Z"
    }
   },
   "outputs": [],
   "source": [
    "annot_tree = lf.get_annotated_tree()\n",
    "omega_mle = lf.get_param_value(\"omega\")"
   ]
  },
  {
   "cell_type": "code",
   "execution_count": 13,
   "id": "94b3efd0",
   "metadata": {
    "execution": {
     "iopub.execute_input": "2023-07-17T11:22:49.151179Z",
     "iopub.status.busy": "2023-07-17T11:22:49.151089Z",
     "iopub.status.idle": "2023-07-17T11:22:49.172694Z",
     "shell.execute_reply": "2023-07-17T11:22:49.170064Z"
    }
   },
   "outputs": [],
   "source": [
    "rate_lf = cnf.make_likelihood_function(\n",
    "    annot_tree, bins=[\"neutral\", \"adaptive\"], digits=2, space=3\n",
    ")"
   ]
  },
  {
   "cell_type": "code",
   "execution_count": 14,
   "id": "ab00881d",
   "metadata": {
    "execution": {
     "iopub.execute_input": "2023-07-17T11:22:49.202248Z",
     "iopub.status.busy": "2023-07-17T11:22:49.198684Z",
     "iopub.status.idle": "2023-07-17T11:22:49.222714Z",
     "shell.execute_reply": "2023-07-17T11:22:49.217178Z"
    }
   },
   "outputs": [],
   "source": [
    "epsilon = 1e-6"
   ]
  },
  {
   "cell_type": "code",
   "execution_count": 15,
   "id": "e4b229b2",
   "metadata": {
    "execution": {
     "iopub.execute_input": "2023-07-17T11:22:49.253280Z",
     "iopub.status.busy": "2023-07-17T11:22:49.253195Z",
     "iopub.status.idle": "2023-07-17T11:22:49.269098Z",
     "shell.execute_reply": "2023-07-17T11:22:49.265620Z"
    }
   },
   "outputs": [],
   "source": [
    "rate_lf.set_param_rule(\"omega\", bin=\"neutral\", upper=1, init=omega_mle)\n",
    "rate_lf.set_param_rule(\n",
    "    \"omega\", bin=\"adaptive\", lower=1 + epsilon, upper=100, init=1 + 2 * epsilon\n",
    ")"
   ]
  },
  {
   "cell_type": "code",
   "execution_count": 16,
   "id": "6bca40ed",
   "metadata": {
    "execution": {
     "iopub.execute_input": "2023-07-17T11:22:49.284881Z",
     "iopub.status.busy": "2023-07-17T11:22:49.283550Z",
     "iopub.status.idle": "2023-07-17T11:22:49.300796Z",
     "shell.execute_reply": "2023-07-17T11:22:49.295299Z"
    }
   },
   "outputs": [],
   "source": [
    "rate_lf.set_param_rule(\"bprobs\", init=[1 - epsilon, epsilon])"
   ]
  },
  {
   "cell_type": "code",
   "execution_count": 17,
   "id": "58e5f956",
   "metadata": {
    "execution": {
     "iopub.execute_input": "2023-07-17T11:22:49.325518Z",
     "iopub.status.busy": "2023-07-17T11:22:49.324275Z",
     "iopub.status.idle": "2023-07-17T11:23:01.522090Z",
     "shell.execute_reply": "2023-07-17T11:23:01.521512Z"
    }
   },
   "outputs": [
    {
     "data": {
      "text/html": [
       "<h4>CNFGTR</h4>\n",
       "<p>log-likelihood = -6755.4520</p>\n",
       "<p>number of free parameters = 19</p>\n",
       "\n",
       "<div class=\"c3table\">\n",
       "\n",
       "<style>\n",
       ".c3table table {margin: 10px 0;}\n",
       ".c3table tr:last-child {border-bottom: 1px solid #000;} \n",
       ".c3table tr > th {text-align: left; padding: 0 5px;}\n",
       ".c3table tr > td {text-align: left; padding: 5px;}\n",
       ".c3table tr:nth-child(even) {background: #f7f7f7 !important;}\n",
       ".c3table .ellipsis {background: rgba(0, 0, 0, .01);}\n",
       ".c3table .index {background: rgba(161, 195, 209, 0.0); margin: 10px; font-weight: 600;}\n",
       ".c3table .head_cell {background: rgba(161, 195, 209, 0.75); font-weight: bold; text-align: center;}\n",
       ".c3table caption {color: rgb(250, 250, 250); background: rgba(30, 140, 200, 1); padding: 3px; white-space: nowrap; caption-side: top;}\n",
       ".c3table .cell_title {font-weight: bold;}\n",
       ".c3col_left { text-align: left !important; display: block;}\n",
       ".c3col_right { text-align: right !important; display: block;}\n",
       ".c3col_center { text-align: center !important; display: block;}\n",
       "</style>\n",
       "\n",
       "<table>\n",
       "\n",
       "<caption>\n",
       "<span class=\"cell_title\">Global params</span>\n",
       "</caption>\n",
       "<thead class=\"head_cell\">\n",
       "<th>A/C</th><th>A/G</th><th>A/T</th><th>C/G</th><th>C/T</th>\n",
       "</thead>\n",
       "<tbody>\n",
       "<tr><td><span class=\"c3col_right\">1.07</span></td><td><span class=\"c3col_right\">3.96</span></td><td><span class=\"c3col_right\">0.78</span></td><td><span class=\"c3col_right\">1.96</span></td><td><span class=\"c3col_right\">4.20</span></td></tr>\n",
       "</tbody>\n",
       "</table>\n",
       "\n",
       "</div>\n",
       "\n",
       "<div class=\"c3table\">\n",
       "\n",
       "<style>\n",
       ".c3table table {margin: 10px 0;}\n",
       ".c3table tr:last-child {border-bottom: 1px solid #000;} \n",
       ".c3table tr > th {text-align: left; padding: 0 5px;}\n",
       ".c3table tr > td {text-align: left; padding: 5px;}\n",
       ".c3table tr:nth-child(even) {background: #f7f7f7 !important;}\n",
       ".c3table .ellipsis {background: rgba(0, 0, 0, .01);}\n",
       ".c3table .index {background: rgba(161, 195, 209, 0.0); margin: 10px; font-weight: 600;}\n",
       ".c3table .head_cell {background: rgba(161, 195, 209, 0.75); font-weight: bold; text-align: center;}\n",
       ".c3table caption {color: rgb(250, 250, 250); background: rgba(30, 140, 200, 1); padding: 3px; white-space: nowrap; caption-side: top;}\n",
       ".c3table .cell_title {font-weight: bold;}\n",
       ".c3col_left { text-align: left !important; display: block;}\n",
       ".c3col_right { text-align: right !important; display: block;}\n",
       ".c3col_center { text-align: center !important; display: block;}\n",
       "</style>\n",
       "\n",
       "<table>\n",
       "\n",
       "<caption>\n",
       "<span class=\"cell_title\">Bin params</span>\n",
       "</caption>\n",
       "<thead class=\"head_cell\">\n",
       "<th>bin</th><th>bprobs</th><th>omega</th>\n",
       "</thead>\n",
       "<tbody>\n",
       "<tr><td><span class=\"c3col_left\">neutral</span></td><td><span class=\"c3col_right\">0.14</span></td><td><span class=\"c3col_right\">0.01</span></td></tr>\n",
       "<tr><td><span class=\"c3col_left\">adaptive</span></td><td><span class=\"c3col_right\">0.86</span></td><td><span class=\"c3col_right\">1.17</span></td></tr>\n",
       "</tbody>\n",
       "</table>\n",
       "\n",
       "</div>\n",
       "\n",
       "<div class=\"c3table\">\n",
       "\n",
       "<style>\n",
       ".c3table table {margin: 10px 0;}\n",
       ".c3table tr:last-child {border-bottom: 1px solid #000;} \n",
       ".c3table tr > th {text-align: left; padding: 0 5px;}\n",
       ".c3table tr > td {text-align: left; padding: 5px;}\n",
       ".c3table tr:nth-child(even) {background: #f7f7f7 !important;}\n",
       ".c3table .ellipsis {background: rgba(0, 0, 0, .01);}\n",
       ".c3table .index {background: rgba(161, 195, 209, 0.0); margin: 10px; font-weight: 600;}\n",
       ".c3table .head_cell {background: rgba(161, 195, 209, 0.75); font-weight: bold; text-align: center;}\n",
       ".c3table caption {color: rgb(250, 250, 250); background: rgba(30, 140, 200, 1); padding: 3px; white-space: nowrap; caption-side: top;}\n",
       ".c3table .cell_title {font-weight: bold;}\n",
       ".c3col_left { text-align: left !important; display: block;}\n",
       ".c3col_right { text-align: right !important; display: block;}\n",
       ".c3col_center { text-align: center !important; display: block;}\n",
       "</style>\n",
       "\n",
       "<table>\n",
       "\n",
       "<caption>\n",
       "<span class=\"cell_title\">Edge params</span>\n",
       "</caption>\n",
       "<thead class=\"head_cell\">\n",
       "<th>edge</th><th>parent</th><th>length</th>\n",
       "</thead>\n",
       "<tbody>\n",
       "<tr><td><span class=\"c3col_left\">Galago</span></td><td><span class=\"c3col_left\">root</span></td><td><span class=\"c3col_right\">0.56</span></td></tr>\n",
       "<tr><td><span class=\"c3col_left\">HowlerMon</span></td><td><span class=\"c3col_left\">root</span></td><td><span class=\"c3col_right\">0.14</span></td></tr>\n",
       "<tr><td><span class=\"c3col_left\">Rhesus</span></td><td><span class=\"c3col_left\">edge.3</span></td><td><span class=\"c3col_right\">0.07</span></td></tr>\n",
       "<tr><td><span class=\"c3col_left\">Orangutan</span></td><td><span class=\"c3col_left\">edge.2</span></td><td><span class=\"c3col_right\">0.02</span></td></tr>\n",
       "<tr><td><span class=\"c3col_left\">Gorilla</span></td><td><span class=\"c3col_left\">edge.1</span></td><td><span class=\"c3col_right\">0.01</span></td></tr>\n",
       "<tr><td><span class=\"c3col_left\">Human</span></td><td><span class=\"c3col_left\">edge.0</span></td><td><span class=\"c3col_right\">0.02</span></td></tr>\n",
       "<tr><td><span class=\"c3col_left\">Chimpanzee</span></td><td><span class=\"c3col_left\">edge.0</span></td><td><span class=\"c3col_right\">0.01</span></td></tr>\n",
       "<tr><td><span class=\"c3col_left\">edge.0</span></td><td><span class=\"c3col_left\">edge.1</span></td><td><span class=\"c3col_right\">0.00</span></td></tr>\n",
       "<tr><td><span class=\"c3col_left\">edge.1</span></td><td><span class=\"c3col_left\">edge.2</span></td><td><span class=\"c3col_right\">0.01</span></td></tr>\n",
       "<tr><td><span class=\"c3col_left\">edge.2</span></td><td><span class=\"c3col_left\">edge.3</span></td><td><span class=\"c3col_right\">0.03</span></td></tr>\n",
       "<tr><td><span class=\"c3col_left\">edge.3</span></td><td><span class=\"c3col_left\">root</span></td><td><span class=\"c3col_right\">0.02</span></td></tr>\n",
       "</tbody>\n",
       "</table>\n",
       "\n",
       "</div>\n",
       "\n",
       "<div class=\"c3table\">\n",
       "\n",
       "<style>\n",
       ".c3table table {margin: 10px 0;}\n",
       ".c3table tr:last-child {border-bottom: 1px solid #000;} \n",
       ".c3table tr > th {text-align: left; padding: 0 5px;}\n",
       ".c3table tr > td {text-align: left; padding: 5px;}\n",
       ".c3table tr:nth-child(even) {background: #f7f7f7 !important;}\n",
       ".c3table .ellipsis {background: rgba(0, 0, 0, .01);}\n",
       ".c3table .index {background: rgba(161, 195, 209, 0.0); margin: 10px; font-weight: 600;}\n",
       ".c3table .head_cell {background: rgba(161, 195, 209, 0.75); font-weight: bold; text-align: center;}\n",
       ".c3table caption {color: rgb(250, 250, 250); background: rgba(30, 140, 200, 1); padding: 3px; white-space: nowrap; caption-side: top;}\n",
       ".c3table .cell_title {font-weight: bold;}\n",
       ".c3col_left { text-align: left !important; display: block;}\n",
       ".c3col_right { text-align: right !important; display: block;}\n",
       ".c3col_center { text-align: center !important; display: block;}\n",
       "</style>\n",
       "\n",
       "<table>\n",
       "\n",
       "<caption>\n",
       "<span class=\"cell_title\">Motif params</span>\n",
       "</caption>\n",
       "<thead class=\"head_cell\">\n",
       "<th>AAA</th><th>AAC</th><th>AAG</th><th>AAT</th><th>ACA</th><th>ACC</th><th>ACG</th><th>ACT</th><th>AGA</th><th>AGC</th><th>AGG</th><th>AGT</th><th>ATA</th>\n",
       "</thead>\n",
       "<tbody>\n",
       "<tr><td><span class=\"c3col_right\">0.06</span></td><td><span class=\"c3col_right\">0.02</span></td><td><span class=\"c3col_right\">0.03</span></td><td><span class=\"c3col_right\">0.06</span></td><td><span class=\"c3col_right\">0.02</span></td><td><span class=\"c3col_right\">0.00</span></td><td><span class=\"c3col_right\">0.00</span></td><td><span class=\"c3col_right\">0.03</span></td><td><span class=\"c3col_right\">0.02</span></td><td><span class=\"c3col_right\">0.03</span></td><td><span class=\"c3col_right\">0.01</span></td><td><span class=\"c3col_right\">0.04</span></td><td><span class=\"c3col_right\">0.02</span></td></tr>\n",
       "</tbody>\n",
       "</table>\n",
       "\n",
       "<table>\n",
       "\n",
       "<caption>\n",
       "<span class=\"cell_title\">continuation</span>\n",
       "</caption>\n",
       "<thead class=\"head_cell\">\n",
       "<th>ATC</th><th>ATG</th><th>ATT</th><th>CAA</th><th>CAC</th><th>CAG</th><th>CAT</th><th>CCA</th><th>CCC</th><th>CCG</th><th>CCT</th><th>CGA</th><th>CGC</th>\n",
       "</thead>\n",
       "<tbody>\n",
       "<tr><td><span class=\"c3col_right\">0.01</span></td><td><span class=\"c3col_right\">0.01</span></td><td><span class=\"c3col_right\">0.02</span></td><td><span class=\"c3col_right\">0.02</span></td><td><span class=\"c3col_right\">0.01</span></td><td><span class=\"c3col_right\">0.02</span></td><td><span class=\"c3col_right\">0.02</span></td><td><span class=\"c3col_right\">0.02</span></td><td><span class=\"c3col_right\">0.01</span></td><td><span class=\"c3col_right\">0.00</span></td><td><span class=\"c3col_right\">0.03</span></td><td><span class=\"c3col_right\">0.00</span></td><td><span class=\"c3col_right\">0.00</span></td></tr>\n",
       "</tbody>\n",
       "</table>\n",
       "\n",
       "<table>\n",
       "\n",
       "<caption>\n",
       "<span class=\"cell_title\">continuation</span>\n",
       "</caption>\n",
       "<thead class=\"head_cell\">\n",
       "<th>CGG</th><th>CGT</th><th>CTA</th><th>CTC</th><th>CTG</th><th>CTT</th><th>GAA</th><th>GAC</th><th>GAG</th><th>GAT</th><th>GCA</th><th>GCC</th><th>GCG</th>\n",
       "</thead>\n",
       "<tbody>\n",
       "<tr><td><span class=\"c3col_right\">0.00</span></td><td><span class=\"c3col_right\">0.00</span></td><td><span class=\"c3col_right\">0.01</span></td><td><span class=\"c3col_right\">0.01</span></td><td><span class=\"c3col_right\">0.01</span></td><td><span class=\"c3col_right\">0.01</span></td><td><span class=\"c3col_right\">0.08</span></td><td><span class=\"c3col_right\">0.01</span></td><td><span class=\"c3col_right\">0.03</span></td><td><span class=\"c3col_right\">0.03</span></td><td><span class=\"c3col_right\">0.02</span></td><td><span class=\"c3col_right\">0.01</span></td><td><span class=\"c3col_right\">0.00</span></td></tr>\n",
       "</tbody>\n",
       "</table>\n",
       "\n",
       "<table>\n",
       "\n",
       "<caption>\n",
       "<span class=\"cell_title\">continuation</span>\n",
       "</caption>\n",
       "<thead class=\"head_cell\">\n",
       "<th>GCT</th><th>GGA</th><th>GGC</th><th>GGG</th><th>GGT</th><th>GTA</th><th>GTC</th><th>GTG</th><th>GTT</th><th>TAC</th><th>TAT</th><th>TCA</th><th>TCC</th>\n",
       "</thead>\n",
       "<tbody>\n",
       "<tr><td><span class=\"c3col_right\">0.01</span></td><td><span class=\"c3col_right\">0.02</span></td><td><span class=\"c3col_right\">0.01</span></td><td><span class=\"c3col_right\">0.01</span></td><td><span class=\"c3col_right\">0.01</span></td><td><span class=\"c3col_right\">0.01</span></td><td><span class=\"c3col_right\">0.01</span></td><td><span class=\"c3col_right\">0.01</span></td><td><span class=\"c3col_right\">0.02</span></td><td><span class=\"c3col_right\">0.00</span></td><td><span class=\"c3col_right\">0.01</span></td><td><span class=\"c3col_right\">0.02</span></td><td><span class=\"c3col_right\">0.01</span></td></tr>\n",
       "</tbody>\n",
       "</table>\n",
       "\n",
       "<table>\n",
       "\n",
       "<caption>\n",
       "<span class=\"cell_title\">continuation</span>\n",
       "</caption>\n",
       "<thead class=\"head_cell\">\n",
       "<th>TCG</th><th>TCT</th><th>TGC</th><th>TGG</th><th>TGT</th><th>TTA</th><th>TTC</th><th>TTG</th><th>TTT</th>\n",
       "</thead>\n",
       "<tbody>\n",
       "<tr><td><span class=\"c3col_right\">0.00</span></td><td><span class=\"c3col_right\">0.03</span></td><td><span class=\"c3col_right\">0.00</span></td><td><span class=\"c3col_right\">0.00</span></td><td><span class=\"c3col_right\">0.02</span></td><td><span class=\"c3col_right\">0.02</span></td><td><span class=\"c3col_right\">0.01</span></td><td><span class=\"c3col_right\">0.01</span></td><td><span class=\"c3col_right\">0.02</span></td></tr>\n",
       "</tbody>\n",
       "</table>\n",
       "\n",
       "</div>"
      ],
      "text/plain": [
       "CNFGTR\n",
       "log-likelihood = -6755.4520\n",
       "number of free parameters = 19\n",
       "================================\n",
       " A/C    A/G    A/T    C/G    C/T\n",
       "--------------------------------\n",
       "1.07   3.96   0.78   1.96   4.20\n",
       "--------------------------------\n",
       "=========================\n",
       "bin        bprobs   omega\n",
       "-------------------------\n",
       "neutral      0.14    0.01\n",
       "adaptive     0.86    1.17\n",
       "-------------------------\n",
       "============================\n",
       "edge         parent   length\n",
       "----------------------------\n",
       "Galago       root       0.56\n",
       "HowlerMon    root       0.14\n",
       "Rhesus       edge.3     0.07\n",
       "Orangutan    edge.2     0.02\n",
       "Gorilla      edge.1     0.01\n",
       "Human        edge.0     0.02\n",
       "Chimpanzee   edge.0     0.01\n",
       "edge.0       edge.1     0.00\n",
       "edge.1       edge.2     0.01\n",
       "edge.2       edge.3     0.03\n",
       "edge.3       root       0.02\n",
       "----------------------------\n",
       "==========================================================================\n",
       " AAA    AAC    AAG    AAT    ACA    ACC    ACG    ACT    AGA    AGC    AGG\n",
       "--------------------------------------------------------------------------\n",
       "0.06   0.02   0.03   0.06   0.02   0.00   0.00   0.03   0.02   0.03   0.01\n",
       "--------------------------------------------------------------------------\n",
       "\n",
       "continued: \n",
       "==========================================================================\n",
       " AGT    ATA    ATC    ATG    ATT    CAA    CAC    CAG    CAT    CCA    CCC\n",
       "--------------------------------------------------------------------------\n",
       "0.04   0.02   0.01   0.01   0.02   0.02   0.01   0.02   0.02   0.02   0.01\n",
       "--------------------------------------------------------------------------\n",
       "\n",
       "continued: \n",
       "==========================================================================\n",
       " CCG    CCT    CGA    CGC    CGG    CGT    CTA    CTC    CTG    CTT    GAA\n",
       "--------------------------------------------------------------------------\n",
       "0.00   0.03   0.00   0.00   0.00   0.00   0.01   0.01   0.01   0.01   0.08\n",
       "--------------------------------------------------------------------------\n",
       "\n",
       "continued: \n",
       "==========================================================================\n",
       " GAC    GAG    GAT    GCA    GCC    GCG    GCT    GGA    GGC    GGG    GGT\n",
       "--------------------------------------------------------------------------\n",
       "0.01   0.03   0.03   0.02   0.01   0.00   0.01   0.02   0.01   0.01   0.01\n",
       "--------------------------------------------------------------------------\n",
       "\n",
       "continued: \n",
       "==========================================================================\n",
       " GTA    GTC    GTG    GTT    TAC    TAT    TCA    TCC    TCG    TCT    TGC\n",
       "--------------------------------------------------------------------------\n",
       "0.01   0.01   0.01   0.02   0.00   0.01   0.02   0.01   0.00   0.03   0.00\n",
       "--------------------------------------------------------------------------\n",
       "\n",
       "continued: \n",
       "=======================================\n",
       " TGG    TGT    TTA    TTC    TTG    TTT\n",
       "---------------------------------------\n",
       "0.00   0.02   0.02   0.01   0.01   0.02\n",
       "---------------------------------------"
      ]
     },
     "execution_count": 17,
     "metadata": {},
     "output_type": "execute_result"
    }
   ],
   "source": [
    "rate_lf.set_alignment(aln)\n",
    "rate_lf.optimise(**optimiser_args)\n",
    "rate_lnL = rate_lf.get_log_likelihood()\n",
    "rate_nfp = rate_lf.get_num_free_params()\n",
    "LR = 2 * (rate_lnL - non_neutral_lnL)\n",
    "df = rate_nfp - non_neutral_nfp\n",
    "rate_lf"
   ]
  },
  {
   "cell_type": "code",
   "execution_count": 18,
   "id": "aedc5403",
   "metadata": {
    "execution": {
     "iopub.execute_input": "2023-07-17T11:23:01.524579Z",
     "iopub.status.busy": "2023-07-17T11:23:01.524389Z",
     "iopub.status.idle": "2023-07-17T11:23:01.527562Z",
     "shell.execute_reply": "2023-07-17T11:23:01.527023Z"
    }
   },
   "outputs": [
    {
     "name": "stdout",
     "output_type": "stream",
     "text": [
      "0.0008054431249015225\n"
     ]
    }
   ],
   "source": [
    "print(chi2.sf(LR, df))"
   ]
  },
  {
   "cell_type": "code",
   "execution_count": 19,
   "id": "c5bdbe78",
   "metadata": {
    "execution": {
     "iopub.execute_input": "2023-07-17T11:23:01.530174Z",
     "iopub.status.busy": "2023-07-17T11:23:01.529975Z",
     "iopub.status.idle": "2023-07-17T11:23:01.534189Z",
     "shell.execute_reply": "2023-07-17T11:23:01.533566Z"
    }
   },
   "outputs": [],
   "source": [
    "pp = rate_lf.get_bin_probs()"
   ]
  },
  {
   "cell_type": "code",
   "execution_count": 20,
   "id": "12128b45",
   "metadata": {
    "execution": {
     "iopub.execute_input": "2023-07-17T11:23:01.536712Z",
     "iopub.status.busy": "2023-07-17T11:23:01.536524Z",
     "iopub.status.idle": "2023-07-17T11:23:01.542231Z",
     "shell.execute_reply": "2023-07-17T11:23:01.541812Z"
    }
   },
   "outputs": [
    {
     "data": {
      "text/plain": [
       "<IPython.core.display.HTML object>"
      ]
     },
     "execution_count": 20,
     "metadata": {},
     "output_type": "execute_result"
    }
   ],
   "source": [
    "from IPython.core.display import HTML\n",
    "from numpy import array\n",
    "\n",
    "from cogent3 import make_table\n",
    "\n",
    "header = ['Site Class', 'Proportion', 'Background Edges', 'Foreground Edges']\n",
    "data = {'Site Class': array(['0', '1', '2a', '2b'], dtype='<U2'), 'Proportion': array(['p0', 'p1', 'p2', 'p3'], dtype='<U2'), 'Background Edges': array(['0 < omega0 < 1', 'omega1 = 1', '0 < omega0 < 1', 'omega1 = 1'],\n",
    "  dtype='<U14'), 'Foreground Edges': array(['0 < omega0 < 1', 'omega1 = 1', '0 < omega2 > 1', '0 < omega0 < 1'],\n",
    "  dtype='<U14')}\n",
    "data = {k: array(data[k], dtype='U') for k in data}\n",
    "table = make_table(header, data=data)\n",
    "HTML(table.set_repr_policy(show_shape=False))"
   ]
  },
  {
   "cell_type": "code",
   "execution_count": 21,
   "id": "9e7d8fb2",
   "metadata": {
    "execution": {
     "iopub.execute_input": "2023-07-17T11:23:01.544620Z",
     "iopub.status.busy": "2023-07-17T11:23:01.544406Z",
     "iopub.status.idle": "2023-07-17T11:23:10.299180Z",
     "shell.execute_reply": "2023-07-17T11:23:10.298513Z"
    }
   },
   "outputs": [
    {
     "name": "stdout",
     "output_type": "stream",
     "text": [
      "bin params\n",
      "====================\n",
      "bin   bprobs   omega\n",
      "--------------------\n",
      "0       0.11   0.00 \n",
      "1       0.89   1.00 \n",
      "--------------------\n"
     ]
    }
   ],
   "source": [
    "rate_lf = cnf.make_likelihood_function(tree, bins=[\"0\", \"1\"], digits=2, space=3)\n",
    "rate_lf.set_param_rule(\"omega\", bin=\"0\", upper=1.0 - epsilon, init=1 - epsilon)\n",
    "rate_lf.set_param_rule(\"omega\", bins=\"1\", is_constant=True, value=1.0)\n",
    "rate_lf.set_alignment(aln)\n",
    "rate_lf.optimise(**optimiser_args)\n",
    "tables = rate_lf.get_statistics(with_titles=True)\n",
    "for table in tables:\n",
    "    if \"bin\" in table.title:\n",
    "        print(table)"
   ]
  },
  {
   "cell_type": "code",
   "execution_count": 22,
   "id": "e279c9d8",
   "metadata": {
    "execution": {
     "iopub.execute_input": "2023-07-17T11:23:10.301971Z",
     "iopub.status.busy": "2023-07-17T11:23:10.301793Z",
     "iopub.status.idle": "2023-07-17T11:23:10.306540Z",
     "shell.execute_reply": "2023-07-17T11:23:10.305994Z"
    }
   },
   "outputs": [],
   "source": [
    "globals = [t for t in tables if \"global\" in t.title][0]\n",
    "globals = dict(zip(globals.header, globals.tolist()[0]))\n",
    "bin_params = [t for t in tables if \"bin\" in t.title][0]\n",
    "rate_class_omegas = dict(bin_params.tolist([\"bin\", \"omega\"]))\n",
    "rate_class_probs = dict(bin_params.tolist([\"bin\", \"bprobs\"]))\n",
    "lengths = [t for t in tables if \"edge\" in t.title][0]\n",
    "lengths = dict(lengths.tolist([\"edge\", \"length\"]))"
   ]
  },
  {
   "cell_type": "code",
   "execution_count": 23,
   "id": "d19cc529",
   "metadata": {
    "execution": {
     "iopub.execute_input": "2023-07-17T11:23:10.308786Z",
     "iopub.status.busy": "2023-07-17T11:23:10.308577Z",
     "iopub.status.idle": "2023-07-17T11:23:10.318253Z",
     "shell.execute_reply": "2023-07-17T11:23:10.317755Z"
    }
   },
   "outputs": [],
   "source": [
    "rate_branch_lf = cnf.make_likelihood_function(\n",
    "    tree, bins=[\"0\", \"1\", \"2a\", \"2b\"], digits=2, space=3\n",
    ")"
   ]
  },
  {
   "cell_type": "code",
   "execution_count": 24,
   "id": "0e322626",
   "metadata": {
    "execution": {
     "iopub.execute_input": "2023-07-17T11:23:10.320676Z",
     "iopub.status.busy": "2023-07-17T11:23:10.320483Z",
     "iopub.status.idle": "2023-07-17T11:23:10.340022Z",
     "shell.execute_reply": "2023-07-17T11:23:10.337801Z"
    }
   },
   "outputs": [],
   "source": [
    "for branch, length in lengths.items():\n",
    "    rate_branch_lf.set_param_rule(\"length\", edge=branch, init=length)"
   ]
  },
  {
   "cell_type": "code",
   "execution_count": 25,
   "id": "ccd423f9",
   "metadata": {
    "execution": {
     "iopub.execute_input": "2023-07-17T11:23:10.342968Z",
     "iopub.status.busy": "2023-07-17T11:23:10.342763Z",
     "iopub.status.idle": "2023-07-17T11:23:10.369674Z",
     "shell.execute_reply": "2023-07-17T11:23:10.362139Z"
    }
   },
   "outputs": [],
   "source": [
    "for param, mle in globals.items():\n",
    "    rate_branch_lf.set_param_rule(param, init=mle)"
   ]
  },
  {
   "cell_type": "code",
   "execution_count": 26,
   "id": "995c77bb",
   "metadata": {
    "execution": {
     "iopub.execute_input": "2023-07-17T11:23:10.373415Z",
     "iopub.status.busy": "2023-07-17T11:23:10.373159Z",
     "iopub.status.idle": "2023-07-17T11:23:10.400972Z",
     "shell.execute_reply": "2023-07-17T11:23:10.399579Z"
    }
   },
   "outputs": [],
   "source": [
    "rate_branch_lf.set_param_rule(\n",
    "    \"omega\", bins=[\"0\", \"2a\"], upper=1.0, init=rate_class_omegas[\"0\"]\n",
    ")\n",
    "rate_branch_lf.set_param_rule(\n",
    "    \"omega\", bins=[\"1\", \"2b\"], is_constant=True, value=1.0\n",
    ")\n",
    "rate_branch_lf.set_param_rule(\n",
    "    \"omega\",\n",
    "    bins=[\"2a\", \"2b\"],\n",
    "    edges=[\"Chimpanzee\", \"Human\"],\n",
    "    init=99,\n",
    "    lower=1.0,\n",
    "    upper=100.0,\n",
    "    is_constant=False,\n",
    ")"
   ]
  },
  {
   "cell_type": "code",
   "execution_count": 27,
   "id": "986f8a67",
   "metadata": {
    "execution": {
     "iopub.execute_input": "2023-07-17T11:23:10.404724Z",
     "iopub.status.busy": "2023-07-17T11:23:10.404515Z",
     "iopub.status.idle": "2023-07-17T11:23:10.407974Z",
     "shell.execute_reply": "2023-07-17T11:23:10.407299Z"
    }
   },
   "outputs": [],
   "source": [
    "rate_branch_lf.set_param_rule(\n",
    "    \"bprobs\",\n",
    "    init=[\n",
    "        rate_class_probs[\"0\"] - epsilon,\n",
    "        rate_class_probs[\"1\"] - epsilon,\n",
    "        epsilon,\n",
    "        epsilon,\n",
    "    ],\n",
    ")"
   ]
  },
  {
   "cell_type": "code",
   "execution_count": 28,
   "id": "497583c1",
   "metadata": {
    "execution": {
     "iopub.execute_input": "2023-07-17T11:23:10.410848Z",
     "iopub.status.busy": "2023-07-17T11:23:10.410497Z",
     "iopub.status.idle": "2023-07-17T11:23:10.440717Z",
     "shell.execute_reply": "2023-07-17T11:23:10.440154Z"
    }
   },
   "outputs": [],
   "source": [
    "rate_branch_lf.set_alignment(aln)"
   ]
  }
 ],
 "metadata": {
  "kernelspec": {
   "display_name": "Python 3 (ipykernel)",
   "language": "python",
   "name": "python3"
  },
  "language_info": {
   "codemirror_mode": {
    "name": "ipython",
    "version": 3
   },
   "file_extension": ".py",
   "mimetype": "text/x-python",
   "name": "python",
   "nbconvert_exporter": "python",
   "pygments_lexer": "ipython3",
   "version": "3.11.4"
  }
 },
 "nbformat": 4,
 "nbformat_minor": 5
}