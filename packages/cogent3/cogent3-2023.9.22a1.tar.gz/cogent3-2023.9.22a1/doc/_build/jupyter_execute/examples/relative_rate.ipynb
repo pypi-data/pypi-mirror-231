{
 "cells": [
  {
   "cell_type": "code",
   "execution_count": 1,
   "id": "a2cc780b",
   "metadata": {
    "execution": {
     "iopub.execute_input": "2023-07-17T11:23:52.300774Z",
     "iopub.status.busy": "2023-07-17T11:23:52.300332Z",
     "iopub.status.idle": "2023-07-17T11:23:52.321003Z",
     "shell.execute_reply": "2023-07-17T11:23:52.320093Z"
    }
   },
   "outputs": [],
   "source": [
    "import set_working_directory"
   ]
  },
  {
   "cell_type": "code",
   "execution_count": 2,
   "id": "df9d5673",
   "metadata": {
    "execution": {
     "iopub.execute_input": "2023-07-17T11:23:52.326107Z",
     "iopub.status.busy": "2023-07-17T11:23:52.325805Z",
     "iopub.status.idle": "2023-07-17T11:23:53.192333Z",
     "shell.execute_reply": "2023-07-17T11:23:53.191948Z"
    }
   },
   "outputs": [],
   "source": [
    "from cogent3 import load_aligned_seqs, load_tree\n",
    "from cogent3.evolve.models import get_model\n",
    "from scipy.stats.distributions import chi2"
   ]
  },
  {
   "cell_type": "code",
   "execution_count": 3,
   "id": "99918bfe",
   "metadata": {
    "execution": {
     "iopub.execute_input": "2023-07-17T11:23:53.193839Z",
     "iopub.status.busy": "2023-07-17T11:23:53.193747Z",
     "iopub.status.idle": "2023-07-17T11:23:53.196708Z",
     "shell.execute_reply": "2023-07-17T11:23:53.196503Z"
    }
   },
   "outputs": [],
   "source": [
    "aln = load_aligned_seqs(\"data/long_testseqs.fasta\")\n",
    "t = load_tree(filename=\"data/test.tree\")"
   ]
  },
  {
   "cell_type": "code",
   "execution_count": 4,
   "id": "0c94d7b3",
   "metadata": {
    "execution": {
     "iopub.execute_input": "2023-07-17T11:23:53.197870Z",
     "iopub.status.busy": "2023-07-17T11:23:53.197799Z",
     "iopub.status.idle": "2023-07-17T11:23:53.199794Z",
     "shell.execute_reply": "2023-07-17T11:23:53.199568Z"
    }
   },
   "outputs": [],
   "source": [
    "sm = get_model(\"HKY85\")"
   ]
  },
  {
   "cell_type": "code",
   "execution_count": 5,
   "id": "b73fc5ec",
   "metadata": {
    "execution": {
     "iopub.execute_input": "2023-07-17T11:23:53.200897Z",
     "iopub.status.busy": "2023-07-17T11:23:53.200835Z",
     "iopub.status.idle": "2023-07-17T11:23:53.203636Z",
     "shell.execute_reply": "2023-07-17T11:23:53.203362Z"
    }
   },
   "outputs": [],
   "source": [
    "lf = sm.make_likelihood_function(t, digits=2, space=3)"
   ]
  },
  {
   "cell_type": "code",
   "execution_count": 6,
   "id": "02f55890",
   "metadata": {
    "execution": {
     "iopub.execute_input": "2023-07-17T11:23:53.204970Z",
     "iopub.status.busy": "2023-07-17T11:23:53.204875Z",
     "iopub.status.idle": "2023-07-17T11:23:53.207230Z",
     "shell.execute_reply": "2023-07-17T11:23:53.207000Z"
    }
   },
   "outputs": [
    {
     "name": "stderr",
     "output_type": "stream",
     "text": [
      "/Users/gavin/miniconda3/envs/c3docs/lib/python3.11/site-packages/cogent3/evolve/parameter_controller.py:403: UserWarning: Used mean of 2 length values\n",
      "  self.assign_all(\n"
     ]
    }
   ],
   "source": [
    "lf.set_local_clock(\"Human\", \"HowlerMon\")"
   ]
  },
  {
   "cell_type": "code",
   "execution_count": 7,
   "id": "ff35bfab",
   "metadata": {
    "execution": {
     "iopub.execute_input": "2023-07-17T11:23:53.208605Z",
     "iopub.status.busy": "2023-07-17T11:23:53.208500Z",
     "iopub.status.idle": "2023-07-17T11:23:53.222335Z",
     "shell.execute_reply": "2023-07-17T11:23:53.222109Z"
    }
   },
   "outputs": [],
   "source": [
    "lf.set_alignment(aln)"
   ]
  },
  {
   "cell_type": "code",
   "execution_count": 8,
   "id": "fd80d883",
   "metadata": {
    "execution": {
     "iopub.execute_input": "2023-07-17T11:23:53.223640Z",
     "iopub.status.busy": "2023-07-17T11:23:53.223568Z",
     "iopub.status.idle": "2023-07-17T11:23:53.257906Z",
     "shell.execute_reply": "2023-07-17T11:23:53.257624Z"
    }
   },
   "outputs": [],
   "source": [
    "lf.optimise(show_progress=False)"
   ]
  },
  {
   "cell_type": "code",
   "execution_count": 9,
   "id": "11ad085e",
   "metadata": {
    "execution": {
     "iopub.execute_input": "2023-07-17T11:23:53.259067Z",
     "iopub.status.busy": "2023-07-17T11:23:53.259005Z",
     "iopub.status.idle": "2023-07-17T11:23:53.262652Z",
     "shell.execute_reply": "2023-07-17T11:23:53.262449Z"
    }
   },
   "outputs": [
    {
     "data": {
      "text/html": [
       "<h4>clock</h4>\n",
       "<p>log-likelihood = -8751.9425</p>\n",
       "<p>number of free parameters = 7</p>\n",
       "\n",
       "<div class=\"c3table\">\n",
       "\n",
       "<style>\n",
       ".c3table table {margin: 10px 0;}\n",
       ".c3table tr:last-child {border-bottom: 1px solid #000;} \n",
       ".c3table tr > th {text-align: left; padding: 0 5px;}\n",
       ".c3table tr > td {text-align: left; padding: 5px;}\n",
       ".c3table tr:nth-child(even) {background: #f7f7f7 !important;}\n",
       ".c3table .ellipsis {background: rgba(0, 0, 0, .01);}\n",
       ".c3table .index {background: rgba(161, 195, 209, 0.0); margin: 10px; font-weight: 600;}\n",
       ".c3table .head_cell {background: rgba(161, 195, 209, 0.75); font-weight: bold; text-align: center;}\n",
       ".c3table caption {color: rgb(250, 250, 250); background: rgba(30, 140, 200, 1); padding: 3px; white-space: nowrap; caption-side: top;}\n",
       ".c3table .cell_title {font-weight: bold;}\n",
       ".c3col_left { text-align: left !important; display: block;}\n",
       ".c3col_right { text-align: right !important; display: block;}\n",
       ".c3col_center { text-align: center !important; display: block;}\n",
       "</style>\n",
       "\n",
       "<table>\n",
       "\n",
       "<caption>\n",
       "<span class=\"cell_title\">Global params</span>\n",
       "</caption>\n",
       "<thead class=\"head_cell\">\n",
       "<th>kappa</th>\n",
       "</thead>\n",
       "<tbody>\n",
       "<tr><td><span class=\"c3col_right\">4.10</span></td></tr>\n",
       "</tbody>\n",
       "</table>\n",
       "\n",
       "</div>\n",
       "\n",
       "<div class=\"c3table\">\n",
       "\n",
       "<style>\n",
       ".c3table table {margin: 10px 0;}\n",
       ".c3table tr:last-child {border-bottom: 1px solid #000;} \n",
       ".c3table tr > th {text-align: left; padding: 0 5px;}\n",
       ".c3table tr > td {text-align: left; padding: 5px;}\n",
       ".c3table tr:nth-child(even) {background: #f7f7f7 !important;}\n",
       ".c3table .ellipsis {background: rgba(0, 0, 0, .01);}\n",
       ".c3table .index {background: rgba(161, 195, 209, 0.0); margin: 10px; font-weight: 600;}\n",
       ".c3table .head_cell {background: rgba(161, 195, 209, 0.75); font-weight: bold; text-align: center;}\n",
       ".c3table caption {color: rgb(250, 250, 250); background: rgba(30, 140, 200, 1); padding: 3px; white-space: nowrap; caption-side: top;}\n",
       ".c3table .cell_title {font-weight: bold;}\n",
       ".c3col_left { text-align: left !important; display: block;}\n",
       ".c3col_right { text-align: right !important; display: block;}\n",
       ".c3col_center { text-align: center !important; display: block;}\n",
       "</style>\n",
       "\n",
       "<table>\n",
       "\n",
       "<caption>\n",
       "<span class=\"cell_title\">Edge params</span>\n",
       "</caption>\n",
       "<thead class=\"head_cell\">\n",
       "<th>edge</th><th>parent</th><th>length</th>\n",
       "</thead>\n",
       "<tbody>\n",
       "<tr><td><span class=\"c3col_left\">Human</span></td><td><span class=\"c3col_left\">edge.0</span></td><td><span class=\"c3col_right\">0.04</span></td></tr>\n",
       "<tr><td><span class=\"c3col_left\">HowlerMon</span></td><td><span class=\"c3col_left\">edge.0</span></td><td><span class=\"c3col_right\">0.04</span></td></tr>\n",
       "<tr><td><span class=\"c3col_left\">edge.0</span></td><td><span class=\"c3col_left\">edge.1</span></td><td><span class=\"c3col_right\">0.04</span></td></tr>\n",
       "<tr><td><span class=\"c3col_left\">Mouse</span></td><td><span class=\"c3col_left\">edge.1</span></td><td><span class=\"c3col_right\">0.28</span></td></tr>\n",
       "<tr><td><span class=\"c3col_left\">edge.1</span></td><td><span class=\"c3col_left\">root</span></td><td><span class=\"c3col_right\">0.02</span></td></tr>\n",
       "<tr><td><span class=\"c3col_left\">NineBande</span></td><td><span class=\"c3col_left\">root</span></td><td><span class=\"c3col_right\">0.09</span></td></tr>\n",
       "<tr><td><span class=\"c3col_left\">DogFaced</span></td><td><span class=\"c3col_left\">root</span></td><td><span class=\"c3col_right\">0.11</span></td></tr>\n",
       "</tbody>\n",
       "</table>\n",
       "\n",
       "</div>\n",
       "\n",
       "<div class=\"c3table\">\n",
       "\n",
       "<style>\n",
       ".c3table table {margin: 10px 0;}\n",
       ".c3table tr:last-child {border-bottom: 1px solid #000;} \n",
       ".c3table tr > th {text-align: left; padding: 0 5px;}\n",
       ".c3table tr > td {text-align: left; padding: 5px;}\n",
       ".c3table tr:nth-child(even) {background: #f7f7f7 !important;}\n",
       ".c3table .ellipsis {background: rgba(0, 0, 0, .01);}\n",
       ".c3table .index {background: rgba(161, 195, 209, 0.0); margin: 10px; font-weight: 600;}\n",
       ".c3table .head_cell {background: rgba(161, 195, 209, 0.75); font-weight: bold; text-align: center;}\n",
       ".c3table caption {color: rgb(250, 250, 250); background: rgba(30, 140, 200, 1); padding: 3px; white-space: nowrap; caption-side: top;}\n",
       ".c3table .cell_title {font-weight: bold;}\n",
       ".c3col_left { text-align: left !important; display: block;}\n",
       ".c3col_right { text-align: right !important; display: block;}\n",
       ".c3col_center { text-align: center !important; display: block;}\n",
       "</style>\n",
       "\n",
       "<table>\n",
       "\n",
       "<caption>\n",
       "<span class=\"cell_title\">Motif params</span>\n",
       "</caption>\n",
       "<thead class=\"head_cell\">\n",
       "<th>A</th><th>C</th><th>G</th><th>T</th>\n",
       "</thead>\n",
       "<tbody>\n",
       "<tr><td><span class=\"c3col_right\">0.37</span></td><td><span class=\"c3col_right\">0.19</span></td><td><span class=\"c3col_right\">0.21</span></td><td><span class=\"c3col_right\">0.23</span></td></tr>\n",
       "</tbody>\n",
       "</table>\n",
       "\n",
       "</div>"
      ],
      "text/plain": [
       "clock\n",
       "log-likelihood = -8751.9425\n",
       "number of free parameters = 7\n",
       "=====\n",
       "kappa\n",
       "-----\n",
       " 4.10\n",
       "-----\n",
       "===========================\n",
       "edge        parent   length\n",
       "---------------------------\n",
       "Human       edge.0     0.04\n",
       "HowlerMon   edge.0     0.04\n",
       "edge.0      edge.1     0.04\n",
       "Mouse       edge.1     0.28\n",
       "edge.1      root       0.02\n",
       "NineBande   root       0.09\n",
       "DogFaced    root       0.11\n",
       "---------------------------\n",
       "=========================\n",
       "   A      C      G      T\n",
       "-------------------------\n",
       "0.37   0.19   0.21   0.23\n",
       "-------------------------"
      ]
     },
     "execution_count": 9,
     "metadata": {},
     "output_type": "execute_result"
    }
   ],
   "source": [
    "lf.set_name(\"clock\")\n",
    "lf"
   ]
  },
  {
   "cell_type": "code",
   "execution_count": 10,
   "id": "e81e57a0",
   "metadata": {
    "execution": {
     "iopub.execute_input": "2023-07-17T11:23:53.263717Z",
     "iopub.status.busy": "2023-07-17T11:23:53.263657Z",
     "iopub.status.idle": "2023-07-17T11:23:53.265145Z",
     "shell.execute_reply": "2023-07-17T11:23:53.264947Z"
    }
   },
   "outputs": [],
   "source": [
    "null_lnL = lf.get_log_likelihood()\n",
    "null_nfp = lf.get_num_free_params()"
   ]
  },
  {
   "cell_type": "code",
   "execution_count": 11,
   "id": "e239ae16",
   "metadata": {
    "execution": {
     "iopub.execute_input": "2023-07-17T11:23:53.266105Z",
     "iopub.status.busy": "2023-07-17T11:23:53.266051Z",
     "iopub.status.idle": "2023-07-17T11:23:53.267735Z",
     "shell.execute_reply": "2023-07-17T11:23:53.267535Z"
    }
   },
   "outputs": [],
   "source": [
    "lf.set_param_rule(\"length\", is_independent=True)"
   ]
  },
  {
   "cell_type": "code",
   "execution_count": 12,
   "id": "81c5d947",
   "metadata": {
    "execution": {
     "iopub.execute_input": "2023-07-17T11:23:53.268933Z",
     "iopub.status.busy": "2023-07-17T11:23:53.268869Z",
     "iopub.status.idle": "2023-07-17T11:23:53.298436Z",
     "shell.execute_reply": "2023-07-17T11:23:53.298174Z"
    }
   },
   "outputs": [],
   "source": [
    "lf.optimise(show_progress=False)"
   ]
  },
  {
   "cell_type": "code",
   "execution_count": 13,
   "id": "56b19d23",
   "metadata": {
    "execution": {
     "iopub.execute_input": "2023-07-17T11:23:53.299753Z",
     "iopub.status.busy": "2023-07-17T11:23:53.299690Z",
     "iopub.status.idle": "2023-07-17T11:23:53.302567Z",
     "shell.execute_reply": "2023-07-17T11:23:53.302348Z"
    }
   },
   "outputs": [
    {
     "data": {
      "text/html": [
       "<h4>non clock</h4>\n",
       "<p>log-likelihood = -8750.5889</p>\n",
       "<p>number of free parameters = 8</p>\n",
       "\n",
       "<div class=\"c3table\">\n",
       "\n",
       "<style>\n",
       ".c3table table {margin: 10px 0;}\n",
       ".c3table tr:last-child {border-bottom: 1px solid #000;} \n",
       ".c3table tr > th {text-align: left; padding: 0 5px;}\n",
       ".c3table tr > td {text-align: left; padding: 5px;}\n",
       ".c3table tr:nth-child(even) {background: #f7f7f7 !important;}\n",
       ".c3table .ellipsis {background: rgba(0, 0, 0, .01);}\n",
       ".c3table .index {background: rgba(161, 195, 209, 0.0); margin: 10px; font-weight: 600;}\n",
       ".c3table .head_cell {background: rgba(161, 195, 209, 0.75); font-weight: bold; text-align: center;}\n",
       ".c3table caption {color: rgb(250, 250, 250); background: rgba(30, 140, 200, 1); padding: 3px; white-space: nowrap; caption-side: top;}\n",
       ".c3table .cell_title {font-weight: bold;}\n",
       ".c3col_left { text-align: left !important; display: block;}\n",
       ".c3col_right { text-align: right !important; display: block;}\n",
       ".c3col_center { text-align: center !important; display: block;}\n",
       "</style>\n",
       "\n",
       "<table>\n",
       "\n",
       "<caption>\n",
       "<span class=\"cell_title\">Global params</span>\n",
       "</caption>\n",
       "<thead class=\"head_cell\">\n",
       "<th>kappa</th>\n",
       "</thead>\n",
       "<tbody>\n",
       "<tr><td><span class=\"c3col_right\">4.10</span></td></tr>\n",
       "</tbody>\n",
       "</table>\n",
       "\n",
       "</div>\n",
       "\n",
       "<div class=\"c3table\">\n",
       "\n",
       "<style>\n",
       ".c3table table {margin: 10px 0;}\n",
       ".c3table tr:last-child {border-bottom: 1px solid #000;} \n",
       ".c3table tr > th {text-align: left; padding: 0 5px;}\n",
       ".c3table tr > td {text-align: left; padding: 5px;}\n",
       ".c3table tr:nth-child(even) {background: #f7f7f7 !important;}\n",
       ".c3table .ellipsis {background: rgba(0, 0, 0, .01);}\n",
       ".c3table .index {background: rgba(161, 195, 209, 0.0); margin: 10px; font-weight: 600;}\n",
       ".c3table .head_cell {background: rgba(161, 195, 209, 0.75); font-weight: bold; text-align: center;}\n",
       ".c3table caption {color: rgb(250, 250, 250); background: rgba(30, 140, 200, 1); padding: 3px; white-space: nowrap; caption-side: top;}\n",
       ".c3table .cell_title {font-weight: bold;}\n",
       ".c3col_left { text-align: left !important; display: block;}\n",
       ".c3col_right { text-align: right !important; display: block;}\n",
       ".c3col_center { text-align: center !important; display: block;}\n",
       "</style>\n",
       "\n",
       "<table>\n",
       "\n",
       "<caption>\n",
       "<span class=\"cell_title\">Edge params</span>\n",
       "</caption>\n",
       "<thead class=\"head_cell\">\n",
       "<th>edge</th><th>parent</th><th>length</th>\n",
       "</thead>\n",
       "<tbody>\n",
       "<tr><td><span class=\"c3col_left\">Human</span></td><td><span class=\"c3col_left\">edge.0</span></td><td><span class=\"c3col_right\">0.03</span></td></tr>\n",
       "<tr><td><span class=\"c3col_left\">HowlerMon</span></td><td><span class=\"c3col_left\">edge.0</span></td><td><span class=\"c3col_right\">0.04</span></td></tr>\n",
       "<tr><td><span class=\"c3col_left\">edge.0</span></td><td><span class=\"c3col_left\">edge.1</span></td><td><span class=\"c3col_right\">0.04</span></td></tr>\n",
       "<tr><td><span class=\"c3col_left\">Mouse</span></td><td><span class=\"c3col_left\">edge.1</span></td><td><span class=\"c3col_right\">0.28</span></td></tr>\n",
       "<tr><td><span class=\"c3col_left\">edge.1</span></td><td><span class=\"c3col_left\">root</span></td><td><span class=\"c3col_right\">0.02</span></td></tr>\n",
       "<tr><td><span class=\"c3col_left\">NineBande</span></td><td><span class=\"c3col_left\">root</span></td><td><span class=\"c3col_right\">0.09</span></td></tr>\n",
       "<tr><td><span class=\"c3col_left\">DogFaced</span></td><td><span class=\"c3col_left\">root</span></td><td><span class=\"c3col_right\">0.11</span></td></tr>\n",
       "</tbody>\n",
       "</table>\n",
       "\n",
       "</div>\n",
       "\n",
       "<div class=\"c3table\">\n",
       "\n",
       "<style>\n",
       ".c3table table {margin: 10px 0;}\n",
       ".c3table tr:last-child {border-bottom: 1px solid #000;} \n",
       ".c3table tr > th {text-align: left; padding: 0 5px;}\n",
       ".c3table tr > td {text-align: left; padding: 5px;}\n",
       ".c3table tr:nth-child(even) {background: #f7f7f7 !important;}\n",
       ".c3table .ellipsis {background: rgba(0, 0, 0, .01);}\n",
       ".c3table .index {background: rgba(161, 195, 209, 0.0); margin: 10px; font-weight: 600;}\n",
       ".c3table .head_cell {background: rgba(161, 195, 209, 0.75); font-weight: bold; text-align: center;}\n",
       ".c3table caption {color: rgb(250, 250, 250); background: rgba(30, 140, 200, 1); padding: 3px; white-space: nowrap; caption-side: top;}\n",
       ".c3table .cell_title {font-weight: bold;}\n",
       ".c3col_left { text-align: left !important; display: block;}\n",
       ".c3col_right { text-align: right !important; display: block;}\n",
       ".c3col_center { text-align: center !important; display: block;}\n",
       "</style>\n",
       "\n",
       "<table>\n",
       "\n",
       "<caption>\n",
       "<span class=\"cell_title\">Motif params</span>\n",
       "</caption>\n",
       "<thead class=\"head_cell\">\n",
       "<th>A</th><th>C</th><th>G</th><th>T</th>\n",
       "</thead>\n",
       "<tbody>\n",
       "<tr><td><span class=\"c3col_right\">0.37</span></td><td><span class=\"c3col_right\">0.19</span></td><td><span class=\"c3col_right\">0.21</span></td><td><span class=\"c3col_right\">0.23</span></td></tr>\n",
       "</tbody>\n",
       "</table>\n",
       "\n",
       "</div>"
      ],
      "text/plain": [
       "non clock\n",
       "log-likelihood = -8750.5889\n",
       "number of free parameters = 8\n",
       "=====\n",
       "kappa\n",
       "-----\n",
       " 4.10\n",
       "-----\n",
       "===========================\n",
       "edge        parent   length\n",
       "---------------------------\n",
       "Human       edge.0     0.03\n",
       "HowlerMon   edge.0     0.04\n",
       "edge.0      edge.1     0.04\n",
       "Mouse       edge.1     0.28\n",
       "edge.1      root       0.02\n",
       "NineBande   root       0.09\n",
       "DogFaced    root       0.11\n",
       "---------------------------\n",
       "=========================\n",
       "   A      C      G      T\n",
       "-------------------------\n",
       "0.37   0.19   0.21   0.23\n",
       "-------------------------"
      ]
     },
     "execution_count": 13,
     "metadata": {},
     "output_type": "execute_result"
    }
   ],
   "source": [
    "lf.set_name(\"non clock\")\n",
    "lf"
   ]
  },
  {
   "cell_type": "code",
   "execution_count": 14,
   "id": "c84ef673",
   "metadata": {
    "execution": {
     "iopub.execute_input": "2023-07-17T11:23:53.303653Z",
     "iopub.status.busy": "2023-07-17T11:23:53.303591Z",
     "iopub.status.idle": "2023-07-17T11:23:53.305421Z",
     "shell.execute_reply": "2023-07-17T11:23:53.305213Z"
    }
   },
   "outputs": [],
   "source": [
    "LR = 2 * (lf.get_log_likelihood() - null_lnL)\n",
    "df = lf.get_num_free_params() - null_nfp\n",
    "P = chi2.sf(LR, df)"
   ]
  },
  {
   "cell_type": "code",
   "execution_count": 15,
   "id": "41238947",
   "metadata": {
    "execution": {
     "iopub.execute_input": "2023-07-17T11:23:53.306471Z",
     "iopub.status.busy": "2023-07-17T11:23:53.306394Z",
     "iopub.status.idle": "2023-07-17T11:23:53.308114Z",
     "shell.execute_reply": "2023-07-17T11:23:53.307915Z"
    }
   },
   "outputs": [
    {
     "name": "stdout",
     "output_type": "stream",
     "text": [
      "Likelihood ratio statistic =  2.707164528896101\n",
      "degrees-of-freedom =  1\n",
      "probability =  0.09989841173504217\n"
     ]
    }
   ],
   "source": [
    "print(\"Likelihood ratio statistic = \", LR)\n",
    "print(\"degrees-of-freedom = \", df)\n",
    "print(\"probability = \", P)"
   ]
  }
 ],
 "metadata": {
  "kernelspec": {
   "display_name": "Python 3 (ipykernel)",
   "language": "python",
   "name": "python3"
  },
  "language_info": {
   "codemirror_mode": {
    "name": "ipython",
    "version": 3
   },
   "file_extension": ".py",
   "mimetype": "text/x-python",
   "name": "python",
   "nbconvert_exporter": "python",
   "pygments_lexer": "ipython3",
   "version": "3.11.4"
  }
 },
 "nbformat": 4,
 "nbformat_minor": 5
}