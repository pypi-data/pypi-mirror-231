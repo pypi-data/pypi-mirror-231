{
 "cells": [
  {
   "cell_type": "code",
   "execution_count": 1,
   "id": "9bf683c8",
   "metadata": {
    "execution": {
     "iopub.execute_input": "2023-07-17T11:23:11.831830Z",
     "iopub.status.busy": "2023-07-17T11:23:11.831068Z",
     "iopub.status.idle": "2023-07-17T11:23:12.747800Z",
     "shell.execute_reply": "2023-07-17T11:23:12.747525Z"
    }
   },
   "outputs": [],
   "source": [
    "from cogent3 import make_aligned_seqs\n",
    "from cogent3.core.alignment import ArrayAlignment\n",
    "from cogent3.evolve.coevolution import validate_alignment\n",
    "\n",
    "aln = make_aligned_seqs(\n",
    "    {\"1\": \"GAA\", \"2\": \"CTA\", \"3\": \"CTC\", \"4\": \"-TC\"},\n",
    "    moltype=\"protein\",\n",
    "    array_align=True,\n",
    ")\n",
    "validate_alignment(aln)"
   ]
  },
  {
   "cell_type": "code",
   "execution_count": 2,
   "id": "8b45e421",
   "metadata": {
    "execution": {
     "iopub.execute_input": "2023-07-17T11:23:12.749425Z",
     "iopub.status.busy": "2023-07-17T11:23:12.749322Z",
     "iopub.status.idle": "2023-07-17T11:23:12.751294Z",
     "shell.execute_reply": "2023-07-17T11:23:12.751049Z"
    }
   },
   "outputs": [],
   "source": [
    "from cogent3 import make_aligned_seqs\n",
    "from cogent3.core.alignment import ArrayAlignment\n",
    "\n",
    "aln = make_aligned_seqs(\n",
    "    {\"1\": \"AAA\", \"2\": \"CTA\", \"3\": \"CTC\", \"4\": \"-TC\"},\n",
    "    moltype=\"protein\",\n",
    "    array_align=True,\n",
    ")"
   ]
  },
  {
   "cell_type": "code",
   "execution_count": 3,
   "id": "b729f501",
   "metadata": {
    "execution": {
     "iopub.execute_input": "2023-07-17T11:23:12.752358Z",
     "iopub.status.busy": "2023-07-17T11:23:12.752289Z",
     "iopub.status.idle": "2023-07-17T11:23:12.755728Z",
     "shell.execute_reply": "2023-07-17T11:23:12.755532Z"
    }
   },
   "outputs": [
    {
     "data": {
      "text/plain": [
       "0.31127812445913294"
      ]
     },
     "execution_count": 3,
     "metadata": {},
     "output_type": "execute_result"
    }
   ],
   "source": [
    "from cogent3.evolve.coevolution import (\n",
    "    coevolve_pair,\n",
    "    coevolve_pair_functions,\n",
    ")\n",
    "\n",
    "coevolve_pair(coevolve_pair_functions[\"mi\"], aln, pos1=1, pos2=2)"
   ]
  },
  {
   "cell_type": "code",
   "execution_count": 4,
   "id": "7cbf481c",
   "metadata": {
    "execution": {
     "iopub.execute_input": "2023-07-17T11:23:12.756854Z",
     "iopub.status.busy": "2023-07-17T11:23:12.756784Z",
     "iopub.status.idle": "2023-07-17T11:23:12.759377Z",
     "shell.execute_reply": "2023-07-17T11:23:12.759166Z"
    }
   },
   "outputs": [
    {
     "data": {
      "text/plain": [
       "0.980536895536287"
      ]
     },
     "execution_count": 4,
     "metadata": {},
     "output_type": "execute_result"
    }
   ],
   "source": [
    "from cogent3.evolve.coevolution import (\n",
    "    coevolve_pair,\n",
    "    coevolve_pair_functions,\n",
    ")\n",
    "\n",
    "coevolve_pair(coevolve_pair_functions[\"sca\"], aln, pos1=1, pos2=2, cutoff=0.5)"
   ]
  },
  {
   "cell_type": "code",
   "execution_count": 5,
   "id": "ad89f545",
   "metadata": {
    "execution": {
     "iopub.execute_input": "2023-07-17T11:23:12.760460Z",
     "iopub.status.busy": "2023-07-17T11:23:12.760391Z",
     "iopub.status.idle": "2023-07-17T11:23:12.762660Z",
     "shell.execute_reply": "2023-07-17T11:23:12.762447Z"
    }
   },
   "outputs": [
    {
     "data": {
      "text/plain": [
       "array([       nan, 0.81127812, 0.31127812])"
      ]
     },
     "execution_count": 5,
     "metadata": {},
     "output_type": "execute_result"
    }
   ],
   "source": [
    "from cogent3.evolve.coevolution import (\n",
    "    coevolve_position,\n",
    "    coevolve_position_functions,\n",
    ")\n",
    "\n",
    "coevolve_position(coevolve_position_functions[\"mi\"], aln, position=1)"
   ]
  },
  {
   "cell_type": "code",
   "execution_count": 6,
   "id": "ed7bab23",
   "metadata": {
    "execution": {
     "iopub.execute_input": "2023-07-17T11:23:12.763707Z",
     "iopub.status.busy": "2023-07-17T11:23:12.763643Z",
     "iopub.status.idle": "2023-07-17T11:23:12.766536Z",
     "shell.execute_reply": "2023-07-17T11:23:12.766315Z"
    }
   },
   "outputs": [
    {
     "data": {
      "text/plain": [
       "array([[       nan,        nan,        nan],\n",
       "       [       nan, 0.81127812, 0.31127812],\n",
       "       [       nan, 0.31127812, 1.        ]])"
      ]
     },
     "execution_count": 6,
     "metadata": {},
     "output_type": "execute_result"
    }
   ],
   "source": [
    "from cogent3.evolve.coevolution import (\n",
    "    coevolve_alignment,\n",
    "    coevolve_alignment_functions,\n",
    ")\n",
    "\n",
    "coevolve_alignment(coevolve_alignment_functions[\"mi\"], aln)"
   ]
  },
  {
   "cell_type": "code",
   "execution_count": 7,
   "id": "544187ff",
   "metadata": {
    "execution": {
     "iopub.execute_input": "2023-07-17T11:23:12.767636Z",
     "iopub.status.busy": "2023-07-17T11:23:12.767574Z",
     "iopub.status.idle": "2023-07-17T11:23:12.769200Z",
     "shell.execute_reply": "2023-07-17T11:23:12.768966Z"
    }
   },
   "outputs": [
    {
     "name": "stdout",
     "output_type": "stream",
     "text": [
      "dict_keys(['mi', 'nmi', 'rmi', 'sca', 'an'])\n"
     ]
    }
   ],
   "source": [
    "print(coevolve_pair_functions.keys())"
   ]
  },
  {
   "cell_type": "code",
   "execution_count": 8,
   "id": "839646dd",
   "metadata": {
    "execution": {
     "iopub.execute_input": "2023-07-17T11:23:12.770264Z",
     "iopub.status.busy": "2023-07-17T11:23:12.770203Z",
     "iopub.status.idle": "2023-07-17T11:23:12.774897Z",
     "shell.execute_reply": "2023-07-17T11:23:12.774684Z"
    }
   },
   "outputs": [
    {
     "data": {
      "text/plain": [
       "array([[       nan,        nan,        nan],\n",
       "       [       nan, 0.12255625, 0.31127812],\n",
       "       [       nan, 0.31127812, 0.        ],\n",
       "       [       nan, 0.31127812, 0.        ]])"
      ]
     },
     "execution_count": 8,
     "metadata": {},
     "output_type": "execute_result"
    }
   ],
   "source": [
    "from cogent3.evolve.coevolution import (\n",
    "    coevolve_alignment_functions,\n",
    "    coevolve_alignments,\n",
    ")\n",
    "\n",
    "aln1 = make_aligned_seqs(\n",
    "    {\n",
    "        \"human+protein1\": \"AAA\",\n",
    "        \"pig+protein1\": \"CTA\",\n",
    "        \"chicken+protein1\": \"CTC\",\n",
    "        \"echidna+weird_db_identifier\": \"-TC\",\n",
    "    },\n",
    "    moltype=\"protein\",\n",
    "    array_align=True,\n",
    ")\n",
    "aln2 = make_aligned_seqs(\n",
    "    {\n",
    "        \"pig+protein2\": \"AAAY\",\n",
    "        \"chicken+protein2\": \"CTAY\",\n",
    "        \"echidna+protein2\": \"CTCF\",\n",
    "        \"human+protein2\": \"-TCF\",\n",
    "    },\n",
    "    moltype=\"protein\",\n",
    "    array_align=True,\n",
    ")\n",
    "coevolve_alignments(coevolve_alignment_functions[\"mi\"], aln1, aln2)"
   ]
  }
 ],
 "metadata": {
  "kernelspec": {
   "display_name": "Python 3 (ipykernel)",
   "language": "python",
   "name": "python3"
  },
  "language_info": {
   "codemirror_mode": {
    "name": "ipython",
    "version": 3
   },
   "file_extension": ".py",
   "mimetype": "text/x-python",
   "name": "python",
   "nbconvert_exporter": "python",
   "pygments_lexer": "ipython3",
   "version": "3.11.4"
  }
 },
 "nbformat": 4,
 "nbformat_minor": 5
}