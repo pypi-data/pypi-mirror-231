{
 "cells": [
  {
   "cell_type": "code",
   "execution_count": 1,
   "id": "6f973929",
   "metadata": {
    "execution": {
     "iopub.execute_input": "2023-07-17T11:23:23.860227Z",
     "iopub.status.busy": "2023-07-17T11:23:23.859759Z",
     "iopub.status.idle": "2023-07-17T11:23:24.791460Z",
     "shell.execute_reply": "2023-07-17T11:23:24.791116Z"
    }
   },
   "outputs": [],
   "source": [
    "from cogent3 import load_tree, make_tree\n",
    "from cogent3.core.tree import PhyloNode\n",
    "from cogent3.parse.tree import DndParser"
   ]
  },
  {
   "cell_type": "code",
   "execution_count": 2,
   "id": "a9306aaf",
   "metadata": {
    "execution": {
     "iopub.execute_input": "2023-07-17T11:23:24.793031Z",
     "iopub.status.busy": "2023-07-17T11:23:24.792936Z",
     "iopub.status.idle": "2023-07-17T11:23:24.795041Z",
     "shell.execute_reply": "2023-07-17T11:23:24.794833Z"
    }
   },
   "outputs": [],
   "source": [
    "simple_tree_string = \"(B:0.2,(C:0.3,D:0.4)E:0.5)F;\"\n",
    "complex_tree_string = \"(((363564 AB294167.1 Alkalibacterium putridalgicola:0.0028006,55874 AB083411.1 Marinilactibacillus psychrotolerans:0.0022089):0.40998,(15050 Y10772.1 Facklamia hominis:0.32304,(132509 AY707780.1 Aerococcus viridans:0.58815,((143063 AY879307.1 Abiotrophia defectiva:0.5807,83619 AB042060.1 Bacillus schlegelii:0.23569):0.03586,169722 AB275483.1 Fibrobacter succinogenes:0.38272):0.06516):0.03492):0.14265):0.63594,(3589 M62687.1 Fibrobacter intestinalis:0.65866,314063 CP001146.1 Dictyoglomus thermophilum:0.38791):0.32147,276579 EU652053.1 Thermus scotoductus:0.57336);\"\n",
    "simple_tree = make_tree(simple_tree_string)\n",
    "complex_tree = DndParser(complex_tree_string, PhyloNode)"
   ]
  },
  {
   "cell_type": "code",
   "execution_count": 3,
   "id": "bbbd310b",
   "metadata": {
    "execution": {
     "iopub.execute_input": "2023-07-17T11:23:24.796226Z",
     "iopub.status.busy": "2023-07-17T11:23:24.796159Z",
     "iopub.status.idle": "2023-07-17T11:23:24.797933Z",
     "shell.execute_reply": "2023-07-17T11:23:24.797685Z"
    }
   },
   "outputs": [
    {
     "name": "stdout",
     "output_type": "stream",
     "text": [
      "          /-B\n",
      "-F-------|\n",
      "         |          /-C\n",
      "          \\E-------|\n",
      "                    \\-D\n"
     ]
    }
   ],
   "source": [
    "print(simple_tree.ascii_art())"
   ]
  },
  {
   "cell_type": "code",
   "execution_count": 4,
   "id": "82f17da4",
   "metadata": {
    "execution": {
     "iopub.execute_input": "2023-07-17T11:23:24.799088Z",
     "iopub.status.busy": "2023-07-17T11:23:24.799015Z",
     "iopub.status.idle": "2023-07-17T11:23:24.800524Z",
     "shell.execute_reply": "2023-07-17T11:23:24.800297Z"
    }
   },
   "outputs": [],
   "source": [
    "A_node = PhyloNode(name=\"A\", Length=0.1)"
   ]
  },
  {
   "cell_type": "code",
   "execution_count": 5,
   "id": "7b5b5e8a",
   "metadata": {
    "execution": {
     "iopub.execute_input": "2023-07-17T11:23:24.801579Z",
     "iopub.status.busy": "2023-07-17T11:23:24.801517Z",
     "iopub.status.idle": "2023-07-17T11:23:24.803086Z",
     "shell.execute_reply": "2023-07-17T11:23:24.802867Z"
    }
   },
   "outputs": [
    {
     "name": "stdout",
     "output_type": "stream",
     "text": [
      "[Tree(\"B;\"), Tree(\"(C,D)E;\")]\n"
     ]
    }
   ],
   "source": [
    "print(simple_tree.children)"
   ]
  },
  {
   "cell_type": "code",
   "execution_count": 6,
   "id": "9a81c820",
   "metadata": {
    "execution": {
     "iopub.execute_input": "2023-07-17T11:23:24.804138Z",
     "iopub.status.busy": "2023-07-17T11:23:24.804065Z",
     "iopub.status.idle": "2023-07-17T11:23:24.806544Z",
     "shell.execute_reply": "2023-07-17T11:23:24.806321Z"
    }
   },
   "outputs": [
    {
     "data": {
      "text/plain": [
       "True"
      ]
     },
     "execution_count": 6,
     "metadata": {},
     "output_type": "execute_result"
    }
   ],
   "source": [
    "simple_tree.children[1].remove(\"C\")"
   ]
  },
  {
   "cell_type": "code",
   "execution_count": 7,
   "id": "a943d75a",
   "metadata": {
    "execution": {
     "iopub.execute_input": "2023-07-17T11:23:24.807631Z",
     "iopub.status.busy": "2023-07-17T11:23:24.807558Z",
     "iopub.status.idle": "2023-07-17T11:23:24.808980Z",
     "shell.execute_reply": "2023-07-17T11:23:24.808777Z"
    }
   },
   "outputs": [],
   "source": [
    "simple_tree.children[1].insert(0, A_node)"
   ]
  },
  {
   "cell_type": "code",
   "execution_count": 8,
   "id": "cec24bab",
   "metadata": {
    "execution": {
     "iopub.execute_input": "2023-07-17T11:23:24.810027Z",
     "iopub.status.busy": "2023-07-17T11:23:24.809957Z",
     "iopub.status.idle": "2023-07-17T11:23:24.811371Z",
     "shell.execute_reply": "2023-07-17T11:23:24.811166Z"
    }
   },
   "outputs": [
    {
     "name": "stdout",
     "output_type": "stream",
     "text": [
      "          /-B\n",
      "-F-------|\n",
      "         |          /-A\n",
      "          \\E-------|\n",
      "                    \\-D\n"
     ]
    }
   ],
   "source": [
    "print(simple_tree.ascii_art())"
   ]
  },
  {
   "cell_type": "code",
   "execution_count": 9,
   "id": "40872df2",
   "metadata": {
    "execution": {
     "iopub.execute_input": "2023-07-17T11:23:24.812374Z",
     "iopub.status.busy": "2023-07-17T11:23:24.812315Z",
     "iopub.status.idle": "2023-07-17T11:23:24.813832Z",
     "shell.execute_reply": "2023-07-17T11:23:24.813616Z"
    }
   },
   "outputs": [
    {
     "name": "stdout",
     "output_type": "stream",
     "text": [
      "          /-B\n",
      "-F-------|\n",
      "          \\E------- /-D\n"
     ]
    }
   ],
   "source": [
    "simple_tree.children[1].remove(\"A\")\n",
    "print(simple_tree.ascii_art())"
   ]
  },
  {
   "cell_type": "code",
   "execution_count": 10,
   "id": "c3afa737",
   "metadata": {
    "execution": {
     "iopub.execute_input": "2023-07-17T11:23:24.814873Z",
     "iopub.status.busy": "2023-07-17T11:23:24.814800Z",
     "iopub.status.idle": "2023-07-17T11:23:24.816305Z",
     "shell.execute_reply": "2023-07-17T11:23:24.816085Z"
    }
   },
   "outputs": [
    {
     "name": "stdout",
     "output_type": "stream",
     "text": [
      "          /-B\n",
      "-F-------|\n",
      "          \\-D\n"
     ]
    }
   ],
   "source": [
    "simple_tree.prune()\n",
    "print(simple_tree.ascii_art())"
   ]
  },
  {
   "cell_type": "code",
   "execution_count": 11,
   "id": "2d0b08b7",
   "metadata": {
    "execution": {
     "iopub.execute_input": "2023-07-17T11:23:24.817311Z",
     "iopub.status.busy": "2023-07-17T11:23:24.817256Z",
     "iopub.status.idle": "2023-07-17T11:23:24.818810Z",
     "shell.execute_reply": "2023-07-17T11:23:24.818607Z"
    }
   },
   "outputs": [],
   "source": [
    "for n in complex_tree.iter_tips():\n",
    "    n.name = n.name.split()[2] + \" \" + n.name.split()[3]"
   ]
  },
  {
   "cell_type": "code",
   "execution_count": 12,
   "id": "6555ae41",
   "metadata": {
    "execution": {
     "iopub.execute_input": "2023-07-17T11:23:24.819866Z",
     "iopub.status.busy": "2023-07-17T11:23:24.819812Z",
     "iopub.status.idle": "2023-07-17T11:23:24.821352Z",
     "shell.execute_reply": "2023-07-17T11:23:24.821122Z"
    }
   },
   "outputs": [
    {
     "name": "stdout",
     "output_type": "stream",
     "text": [
      "                              /-Alkalibacterium putridalgicola\n",
      "                    /--------|\n",
      "                   |          \\-Marinilactibacillus psychrotolerans\n",
      "          /--------|\n",
      "         |         |          /-Facklamia hominis\n",
      "         |         |         |\n",
      "         |          \\--------|          /-Aerococcus viridans\n",
      "         |                   |         |\n",
      "         |                    \\--------|                    /-Abiotrophia defectiva\n",
      "         |                             |          /--------|\n",
      "---------|                              \\--------|          \\-Bacillus schlegelii\n",
      "         |                                       |\n",
      "         |                                        \\-Fibrobacter succinogenes\n",
      "         |\n",
      "         |          /-Fibrobacter intestinalis\n",
      "         |---------|\n",
      "         |          \\-Dictyoglomus thermophilum\n",
      "         |\n",
      "          \\-Thermus scotoductus\n"
     ]
    }
   ],
   "source": [
    "print(complex_tree.ascii_art(show_internal=False))"
   ]
  },
  {
   "cell_type": "code",
   "execution_count": 13,
   "id": "5a6467a2",
   "metadata": {
    "execution": {
     "iopub.execute_input": "2023-07-17T11:23:24.822359Z",
     "iopub.status.busy": "2023-07-17T11:23:24.822300Z",
     "iopub.status.idle": "2023-07-17T11:23:24.823654Z",
     "shell.execute_reply": "2023-07-17T11:23:24.823455Z"
    }
   },
   "outputs": [],
   "source": [
    "tips = complex_tree.tips()"
   ]
  },
  {
   "cell_type": "code",
   "execution_count": 14,
   "id": "b8bfad86",
   "metadata": {
    "execution": {
     "iopub.execute_input": "2023-07-17T11:23:24.824635Z",
     "iopub.status.busy": "2023-07-17T11:23:24.824563Z",
     "iopub.status.idle": "2023-07-17T11:23:24.826153Z",
     "shell.execute_reply": "2023-07-17T11:23:24.825955Z"
    }
   },
   "outputs": [],
   "source": [
    "tips_to_delete = []\n",
    "AEROCOCCUS_INDEX = 3\n",
    "for n in tips:\n",
    "    if tips[AEROCOCCUS_INDEX].distance(n) > 1.8:\n",
    "        tips_to_delete.append(n)"
   ]
  },
  {
   "cell_type": "code",
   "execution_count": 15,
   "id": "ff4fdf36",
   "metadata": {
    "execution": {
     "iopub.execute_input": "2023-07-17T11:23:24.827159Z",
     "iopub.status.busy": "2023-07-17T11:23:24.827100Z",
     "iopub.status.idle": "2023-07-17T11:23:24.828529Z",
     "shell.execute_reply": "2023-07-17T11:23:24.828344Z"
    }
   },
   "outputs": [],
   "source": [
    "for n in tips_to_delete:\n",
    "    n.parent.remove(n)\n",
    "    complex_tree.prune()"
   ]
  },
  {
   "cell_type": "code",
   "execution_count": 16,
   "id": "4612c3b8",
   "metadata": {
    "execution": {
     "iopub.execute_input": "2023-07-17T11:23:24.829524Z",
     "iopub.status.busy": "2023-07-17T11:23:24.829469Z",
     "iopub.status.idle": "2023-07-17T11:23:24.830833Z",
     "shell.execute_reply": "2023-07-17T11:23:24.830617Z"
    }
   },
   "outputs": [
    {
     "name": "stdout",
     "output_type": "stream",
     "text": [
      "                              /-Alkalibacterium putridalgicola\n",
      "                    /--------|\n",
      "                   |          \\-Marinilactibacillus psychrotolerans\n",
      "--------- /--------|\n",
      "                   |          /-Facklamia hominis\n",
      "                   |         |\n",
      "                    \\--------|          /-Aerococcus viridans\n",
      "                             |         |\n",
      "                              \\--------|                    /-Abiotrophia defectiva\n",
      "                                       |          /--------|\n",
      "                                        \\--------|          \\-Bacillus schlegelii\n",
      "                                                 |\n",
      "                                                  \\-Fibrobacter succinogenes\n"
     ]
    }
   ],
   "source": [
    "print(complex_tree.ascii_art(show_internal=False))"
   ]
  }
 ],
 "metadata": {
  "kernelspec": {
   "display_name": "Python 3 (ipykernel)",
   "language": "python",
   "name": "python3"
  },
  "language_info": {
   "codemirror_mode": {
    "name": "ipython",
    "version": 3
   },
   "file_extension": ".py",
   "mimetype": "text/x-python",
   "name": "python",
   "nbconvert_exporter": "python",
   "pygments_lexer": "ipython3",
   "version": "3.11.4"
  }
 },
 "nbformat": 4,
 "nbformat_minor": 5
}