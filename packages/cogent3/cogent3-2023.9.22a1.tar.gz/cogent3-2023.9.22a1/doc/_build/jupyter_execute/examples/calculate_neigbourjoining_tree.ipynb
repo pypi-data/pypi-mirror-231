{
 "cells": [
  {
   "cell_type": "code",
   "execution_count": 1,
   "id": "e0191ab9",
   "metadata": {
    "execution": {
     "iopub.execute_input": "2023-07-17T11:22:33.209202Z",
     "iopub.status.busy": "2023-07-17T11:22:33.208963Z",
     "iopub.status.idle": "2023-07-17T11:22:33.223616Z",
     "shell.execute_reply": "2023-07-17T11:22:33.223144Z"
    }
   },
   "outputs": [],
   "source": [
    "import set_working_directory"
   ]
  },
  {
   "cell_type": "code",
   "execution_count": 2,
   "id": "9cd97f5e",
   "metadata": {
    "execution": {
     "iopub.execute_input": "2023-07-17T11:22:33.226059Z",
     "iopub.status.busy": "2023-07-17T11:22:33.225889Z",
     "iopub.status.idle": "2023-07-17T11:22:34.029161Z",
     "shell.execute_reply": "2023-07-17T11:22:34.028801Z"
    }
   },
   "outputs": [],
   "source": [
    "from cogent3 import load_aligned_seqs\n",
    "from cogent3.evolve import distance\n",
    "from cogent3.phylo import nj"
   ]
  },
  {
   "cell_type": "code",
   "execution_count": 3,
   "id": "79ed2088",
   "metadata": {
    "execution": {
     "iopub.execute_input": "2023-07-17T11:22:34.030663Z",
     "iopub.status.busy": "2023-07-17T11:22:34.030559Z",
     "iopub.status.idle": "2023-07-17T11:22:34.032265Z",
     "shell.execute_reply": "2023-07-17T11:22:34.032026Z"
    }
   },
   "outputs": [],
   "source": [
    "from cogent3.evolve.models import get_model"
   ]
  },
  {
   "cell_type": "code",
   "execution_count": 4,
   "id": "31a98590",
   "metadata": {
    "execution": {
     "iopub.execute_input": "2023-07-17T11:22:34.033427Z",
     "iopub.status.busy": "2023-07-17T11:22:34.033354Z",
     "iopub.status.idle": "2023-07-17T11:22:34.035925Z",
     "shell.execute_reply": "2023-07-17T11:22:34.035715Z"
    }
   },
   "outputs": [],
   "source": [
    "al = load_aligned_seqs(\"data/long_testseqs.fasta\")"
   ]
  },
  {
   "cell_type": "code",
   "execution_count": 5,
   "id": "125b1d77",
   "metadata": {
    "execution": {
     "iopub.execute_input": "2023-07-17T11:22:34.036916Z",
     "iopub.status.busy": "2023-07-17T11:22:34.036855Z",
     "iopub.status.idle": "2023-07-17T11:22:34.196966Z",
     "shell.execute_reply": "2023-07-17T11:22:34.196605Z"
    }
   },
   "outputs": [],
   "source": [
    "d = distance.EstimateDistances(al, submodel=get_model(\"HKY85\"))\n",
    "d.run(show_progress=False)"
   ]
  },
  {
   "cell_type": "code",
   "execution_count": 6,
   "id": "b2479cc9",
   "metadata": {
    "execution": {
     "iopub.execute_input": "2023-07-17T11:22:34.198798Z",
     "iopub.status.busy": "2023-07-17T11:22:34.198684Z",
     "iopub.status.idle": "2023-07-17T11:22:34.201154Z",
     "shell.execute_reply": "2023-07-17T11:22:34.200807Z"
    }
   },
   "outputs": [
    {
     "name": "stdout",
     "output_type": "stream",
     "text": [
      "          /-Mouse\n",
      "         |\n",
      "         |          /-Human\n",
      "-root----|-edge.0--|\n",
      "         |          \\-HowlerMon\n",
      "         |\n",
      "         |          /-DogFaced\n",
      "          \\edge.1--|\n",
      "                    \\-NineBande\n"
     ]
    }
   ],
   "source": [
    "mytree = nj.nj(d.get_pairwise_distances(), show_progress=False)\n",
    "print(mytree.ascii_art())"
   ]
  },
  {
   "cell_type": "code",
   "execution_count": 7,
   "id": "df2a3160",
   "metadata": {
    "execution": {
     "iopub.execute_input": "2023-07-17T11:22:34.202922Z",
     "iopub.status.busy": "2023-07-17T11:22:34.202813Z",
     "iopub.status.idle": "2023-07-17T11:22:34.205421Z",
     "shell.execute_reply": "2023-07-17T11:22:34.205143Z"
    }
   },
   "outputs": [],
   "source": [
    "mytree.write(\"test_nj.tree\")"
   ]
  },
  {
   "cell_type": "code",
   "execution_count": 8,
   "id": "b84915c9",
   "metadata": {
    "execution": {
     "iopub.execute_input": "2023-07-17T11:22:34.207002Z",
     "iopub.status.busy": "2023-07-17T11:22:34.206700Z",
     "iopub.status.idle": "2023-07-17T11:22:34.208584Z",
     "shell.execute_reply": "2023-07-17T11:22:34.208320Z"
    }
   },
   "outputs": [],
   "source": [
    "import os\n",
    "\n",
    "os.remove(\"test_nj.tree\")"
   ]
  }
 ],
 "metadata": {
  "kernelspec": {
   "display_name": "Python 3 (ipykernel)",
   "language": "python",
   "name": "python3"
  },
  "language_info": {
   "codemirror_mode": {
    "name": "ipython",
    "version": 3
   },
   "file_extension": ".py",
   "mimetype": "text/x-python",
   "name": "python",
   "nbconvert_exporter": "python",
   "pygments_lexer": "ipython3",
   "version": "3.11.4"
  }
 },
 "nbformat": 4,
 "nbformat_minor": 5
}