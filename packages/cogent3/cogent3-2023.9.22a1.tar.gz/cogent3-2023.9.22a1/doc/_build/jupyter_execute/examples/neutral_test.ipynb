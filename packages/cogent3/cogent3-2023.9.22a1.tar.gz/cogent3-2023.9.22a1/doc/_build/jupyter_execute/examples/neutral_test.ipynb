{
 "cells": [
  {
   "cell_type": "code",
   "execution_count": 1,
   "id": "798086e9",
   "metadata": {
    "execution": {
     "iopub.execute_input": "2023-07-17T11:23:26.064957Z",
     "iopub.status.busy": "2023-07-17T11:23:26.064597Z",
     "iopub.status.idle": "2023-07-17T11:23:26.085101Z",
     "shell.execute_reply": "2023-07-17T11:23:26.084346Z"
    }
   },
   "outputs": [],
   "source": [
    "import set_working_directory"
   ]
  },
  {
   "cell_type": "code",
   "execution_count": 2,
   "id": "52ad2867",
   "metadata": {
    "execution": {
     "iopub.execute_input": "2023-07-17T11:23:26.089149Z",
     "iopub.status.busy": "2023-07-17T11:23:26.088837Z",
     "iopub.status.idle": "2023-07-17T11:23:27.001842Z",
     "shell.execute_reply": "2023-07-17T11:23:27.001575Z"
    }
   },
   "outputs": [],
   "source": [
    "from cogent3 import load_aligned_seqs, load_tree\n",
    "from cogent3.evolve.models import get_model\n",
    "from scipy.stats.distributions import chi2"
   ]
  },
  {
   "cell_type": "code",
   "execution_count": 3,
   "id": "04733743",
   "metadata": {
    "execution": {
     "iopub.execute_input": "2023-07-17T11:23:27.003310Z",
     "iopub.status.busy": "2023-07-17T11:23:27.003213Z",
     "iopub.status.idle": "2023-07-17T11:23:27.006139Z",
     "shell.execute_reply": "2023-07-17T11:23:27.005920Z"
    }
   },
   "outputs": [],
   "source": [
    "al = load_aligned_seqs(\"data/long_testseqs.fasta\")\n",
    "t = load_tree(\"data/test.tree\")"
   ]
  },
  {
   "cell_type": "code",
   "execution_count": 4,
   "id": "4726c16b",
   "metadata": {
    "execution": {
     "iopub.execute_input": "2023-07-17T11:23:27.007223Z",
     "iopub.status.busy": "2023-07-17T11:23:27.007161Z",
     "iopub.status.idle": "2023-07-17T11:23:27.370996Z",
     "shell.execute_reply": "2023-07-17T11:23:27.370395Z"
    }
   },
   "outputs": [],
   "source": [
    "sm = get_model(\"MG94GTR\")"
   ]
  },
  {
   "cell_type": "code",
   "execution_count": 5,
   "id": "dd224f39",
   "metadata": {
    "execution": {
     "iopub.execute_input": "2023-07-17T11:23:27.375604Z",
     "iopub.status.busy": "2023-07-17T11:23:27.375313Z",
     "iopub.status.idle": "2023-07-17T11:23:27.392087Z",
     "shell.execute_reply": "2023-07-17T11:23:27.390155Z"
    }
   },
   "outputs": [],
   "source": [
    "lf = sm.make_likelihood_function(t, digits=2, space=2)"
   ]
  },
  {
   "cell_type": "code",
   "execution_count": 6,
   "id": "bb8ae0a2",
   "metadata": {
    "execution": {
     "iopub.execute_input": "2023-07-17T11:23:27.403628Z",
     "iopub.status.busy": "2023-07-17T11:23:27.402377Z",
     "iopub.status.idle": "2023-07-17T11:23:27.438659Z",
     "shell.execute_reply": "2023-07-17T11:23:27.438037Z"
    }
   },
   "outputs": [],
   "source": [
    "lf.set_alignment(al)"
   ]
  },
  {
   "cell_type": "code",
   "execution_count": 7,
   "id": "49f56fae",
   "metadata": {
    "execution": {
     "iopub.execute_input": "2023-07-17T11:23:27.442818Z",
     "iopub.status.busy": "2023-07-17T11:23:27.442408Z",
     "iopub.status.idle": "2023-07-17T11:23:30.784392Z",
     "shell.execute_reply": "2023-07-17T11:23:30.777262Z"
    }
   },
   "outputs": [],
   "source": [
    "lf.optimise(global_tolerance=1.0, show_progress=False)"
   ]
  },
  {
   "cell_type": "code",
   "execution_count": 8,
   "id": "f60f5b44",
   "metadata": {
    "execution": {
     "iopub.execute_input": "2023-07-17T11:23:30.793096Z",
     "iopub.status.busy": "2023-07-17T11:23:30.792553Z",
     "iopub.status.idle": "2023-07-17T11:23:30.808714Z",
     "shell.execute_reply": "2023-07-17T11:23:30.807664Z"
    }
   },
   "outputs": [
    {
     "data": {
      "text/html": [
       "<h4>MG94GTR</h4>\n",
       "<p>log-likelihood = -8636.1801</p>\n",
       "<p>number of free parameters = 13</p>\n",
       "\n",
       "<div class=\"c3table\">\n",
       "\n",
       "<style>\n",
       ".c3table table {margin: 10px 0;}\n",
       ".c3table tr:last-child {border-bottom: 1px solid #000;} \n",
       ".c3table tr > th {text-align: left; padding: 0 5px;}\n",
       ".c3table tr > td {text-align: left; padding: 5px;}\n",
       ".c3table tr:nth-child(even) {background: #f7f7f7 !important;}\n",
       ".c3table .ellipsis {background: rgba(0, 0, 0, .01);}\n",
       ".c3table .index {background: rgba(161, 195, 209, 0.0); margin: 10px; font-weight: 600;}\n",
       ".c3table .head_cell {background: rgba(161, 195, 209, 0.75); font-weight: bold; text-align: center;}\n",
       ".c3table caption {color: rgb(250, 250, 250); background: rgba(30, 140, 200, 1); padding: 3px; white-space: nowrap; caption-side: top;}\n",
       ".c3table .cell_title {font-weight: bold;}\n",
       ".c3col_left { text-align: left !important; display: block;}\n",
       ".c3col_right { text-align: right !important; display: block;}\n",
       ".c3col_center { text-align: center !important; display: block;}\n",
       "</style>\n",
       "\n",
       "<table>\n",
       "\n",
       "<caption>\n",
       "<span class=\"cell_title\">Global params</span>\n",
       "</caption>\n",
       "<thead class=\"head_cell\">\n",
       "<th>A/C</th><th>A/G</th><th>A/T</th><th>C/G</th><th>C/T</th><th>omega</th>\n",
       "</thead>\n",
       "<tbody>\n",
       "<tr><td><span class=\"c3col_right\">1.02</span></td><td><span class=\"c3col_right\">3.36</span></td><td><span class=\"c3col_right\">0.73</span></td><td><span class=\"c3col_right\">0.95</span></td><td><span class=\"c3col_right\">3.71</span></td><td><span class=\"c3col_right\">0.90</span></td></tr>\n",
       "</tbody>\n",
       "</table>\n",
       "\n",
       "</div>\n",
       "\n",
       "<div class=\"c3table\">\n",
       "\n",
       "<style>\n",
       ".c3table table {margin: 10px 0;}\n",
       ".c3table tr:last-child {border-bottom: 1px solid #000;} \n",
       ".c3table tr > th {text-align: left; padding: 0 5px;}\n",
       ".c3table tr > td {text-align: left; padding: 5px;}\n",
       ".c3table tr:nth-child(even) {background: #f7f7f7 !important;}\n",
       ".c3table .ellipsis {background: rgba(0, 0, 0, .01);}\n",
       ".c3table .index {background: rgba(161, 195, 209, 0.0); margin: 10px; font-weight: 600;}\n",
       ".c3table .head_cell {background: rgba(161, 195, 209, 0.75); font-weight: bold; text-align: center;}\n",
       ".c3table caption {color: rgb(250, 250, 250); background: rgba(30, 140, 200, 1); padding: 3px; white-space: nowrap; caption-side: top;}\n",
       ".c3table .cell_title {font-weight: bold;}\n",
       ".c3col_left { text-align: left !important; display: block;}\n",
       ".c3col_right { text-align: right !important; display: block;}\n",
       ".c3col_center { text-align: center !important; display: block;}\n",
       "</style>\n",
       "\n",
       "<table>\n",
       "\n",
       "<caption>\n",
       "<span class=\"cell_title\">Edge params</span>\n",
       "</caption>\n",
       "<thead class=\"head_cell\">\n",
       "<th>edge</th><th>parent</th><th>length</th>\n",
       "</thead>\n",
       "<tbody>\n",
       "<tr><td><span class=\"c3col_left\">Human</span></td><td><span class=\"c3col_left\">edge.0</span></td><td><span class=\"c3col_right\">0.09</span></td></tr>\n",
       "<tr><td><span class=\"c3col_left\">HowlerMon</span></td><td><span class=\"c3col_left\">edge.0</span></td><td><span class=\"c3col_right\">0.12</span></td></tr>\n",
       "<tr><td><span class=\"c3col_left\">edge.0</span></td><td><span class=\"c3col_left\">edge.1</span></td><td><span class=\"c3col_right\">0.12</span></td></tr>\n",
       "<tr><td><span class=\"c3col_left\">Mouse</span></td><td><span class=\"c3col_left\">edge.1</span></td><td><span class=\"c3col_right\">0.84</span></td></tr>\n",
       "<tr><td><span class=\"c3col_left\">edge.1</span></td><td><span class=\"c3col_left\">root</span></td><td><span class=\"c3col_right\">0.06</span></td></tr>\n",
       "<tr><td><span class=\"c3col_left\">NineBande</span></td><td><span class=\"c3col_left\">root</span></td><td><span class=\"c3col_right\">0.28</span></td></tr>\n",
       "<tr><td><span class=\"c3col_left\">DogFaced</span></td><td><span class=\"c3col_left\">root</span></td><td><span class=\"c3col_right\">0.34</span></td></tr>\n",
       "</tbody>\n",
       "</table>\n",
       "\n",
       "</div>\n",
       "\n",
       "<div class=\"c3table\">\n",
       "\n",
       "<style>\n",
       ".c3table table {margin: 10px 0;}\n",
       ".c3table tr:last-child {border-bottom: 1px solid #000;} \n",
       ".c3table tr > th {text-align: left; padding: 0 5px;}\n",
       ".c3table tr > td {text-align: left; padding: 5px;}\n",
       ".c3table tr:nth-child(even) {background: #f7f7f7 !important;}\n",
       ".c3table .ellipsis {background: rgba(0, 0, 0, .01);}\n",
       ".c3table .index {background: rgba(161, 195, 209, 0.0); margin: 10px; font-weight: 600;}\n",
       ".c3table .head_cell {background: rgba(161, 195, 209, 0.75); font-weight: bold; text-align: center;}\n",
       ".c3table caption {color: rgb(250, 250, 250); background: rgba(30, 140, 200, 1); padding: 3px; white-space: nowrap; caption-side: top;}\n",
       ".c3table .cell_title {font-weight: bold;}\n",
       ".c3col_left { text-align: left !important; display: block;}\n",
       ".c3col_right { text-align: right !important; display: block;}\n",
       ".c3col_center { text-align: center !important; display: block;}\n",
       "</style>\n",
       "\n",
       "<table>\n",
       "\n",
       "<caption>\n",
       "<span class=\"cell_title\">Motif params</span>\n",
       "</caption>\n",
       "<thead class=\"head_cell\">\n",
       "<th>A</th><th>C</th><th>G</th><th>T</th>\n",
       "</thead>\n",
       "<tbody>\n",
       "<tr><td><span class=\"c3col_right\">0.37</span></td><td><span class=\"c3col_right\">0.19</span></td><td><span class=\"c3col_right\">0.21</span></td><td><span class=\"c3col_right\">0.23</span></td></tr>\n",
       "</tbody>\n",
       "</table>\n",
       "\n",
       "</div>"
      ],
      "text/plain": [
       "MG94GTR\n",
       "log-likelihood = -8636.1801\n",
       "number of free parameters = 13\n",
       "===================================\n",
       " A/C   A/G   A/T   C/G   C/T  omega\n",
       "-----------------------------------\n",
       "1.02  3.36  0.73  0.95  3.71   0.90\n",
       "-----------------------------------\n",
       "=========================\n",
       "edge       parent  length\n",
       "-------------------------\n",
       "Human      edge.0    0.09\n",
       "HowlerMon  edge.0    0.12\n",
       "edge.0     edge.1    0.12\n",
       "Mouse      edge.1    0.84\n",
       "edge.1     root      0.06\n",
       "NineBande  root      0.28\n",
       "DogFaced   root      0.34\n",
       "-------------------------\n",
       "======================\n",
       "   A     C     G     T\n",
       "----------------------\n",
       "0.37  0.19  0.21  0.23\n",
       "----------------------"
      ]
     },
     "execution_count": 8,
     "metadata": {},
     "output_type": "execute_result"
    }
   ],
   "source": [
    "lf"
   ]
  },
  {
   "cell_type": "code",
   "execution_count": 9,
   "id": "b36bef70",
   "metadata": {
    "execution": {
     "iopub.execute_input": "2023-07-17T11:23:30.823609Z",
     "iopub.status.busy": "2023-07-17T11:23:30.822934Z",
     "iopub.status.idle": "2023-07-17T11:23:30.831715Z",
     "shell.execute_reply": "2023-07-17T11:23:30.826672Z"
    }
   },
   "outputs": [],
   "source": [
    "null_lnL = lf.get_log_likelihood()\n",
    "null_nfp = lf.get_num_free_params()"
   ]
  },
  {
   "cell_type": "code",
   "execution_count": 10,
   "id": "01e0d40e",
   "metadata": {
    "execution": {
     "iopub.execute_input": "2023-07-17T11:23:30.839331Z",
     "iopub.status.busy": "2023-07-17T11:23:30.838994Z",
     "iopub.status.idle": "2023-07-17T11:23:30.858046Z",
     "shell.execute_reply": "2023-07-17T11:23:30.855583Z"
    }
   },
   "outputs": [],
   "source": [
    "lf.set_param_rule(\"omega\", is_independent=True)"
   ]
  },
  {
   "cell_type": "code",
   "execution_count": 11,
   "id": "33415276",
   "metadata": {
    "execution": {
     "iopub.execute_input": "2023-07-17T11:23:30.861131Z",
     "iopub.status.busy": "2023-07-17T11:23:30.860763Z",
     "iopub.status.idle": "2023-07-17T11:23:40.137240Z",
     "shell.execute_reply": "2023-07-17T11:23:40.136677Z"
    }
   },
   "outputs": [],
   "source": [
    "lf.optimise(local=True, show_progress=False)"
   ]
  },
  {
   "cell_type": "code",
   "execution_count": 12,
   "id": "99c30b18",
   "metadata": {
    "execution": {
     "iopub.execute_input": "2023-07-17T11:23:40.139939Z",
     "iopub.status.busy": "2023-07-17T11:23:40.139762Z",
     "iopub.status.idle": "2023-07-17T11:23:40.147890Z",
     "shell.execute_reply": "2023-07-17T11:23:40.146953Z"
    }
   },
   "outputs": [
    {
     "data": {
      "text/html": [
       "<h4>MG94GTR</h4>\n",
       "<p>log-likelihood = -8632.1355</p>\n",
       "<p>number of free parameters = 19</p>\n",
       "\n",
       "<div class=\"c3table\">\n",
       "\n",
       "<style>\n",
       ".c3table table {margin: 10px 0;}\n",
       ".c3table tr:last-child {border-bottom: 1px solid #000;} \n",
       ".c3table tr > th {text-align: left; padding: 0 5px;}\n",
       ".c3table tr > td {text-align: left; padding: 5px;}\n",
       ".c3table tr:nth-child(even) {background: #f7f7f7 !important;}\n",
       ".c3table .ellipsis {background: rgba(0, 0, 0, .01);}\n",
       ".c3table .index {background: rgba(161, 195, 209, 0.0); margin: 10px; font-weight: 600;}\n",
       ".c3table .head_cell {background: rgba(161, 195, 209, 0.75); font-weight: bold; text-align: center;}\n",
       ".c3table caption {color: rgb(250, 250, 250); background: rgba(30, 140, 200, 1); padding: 3px; white-space: nowrap; caption-side: top;}\n",
       ".c3table .cell_title {font-weight: bold;}\n",
       ".c3col_left { text-align: left !important; display: block;}\n",
       ".c3col_right { text-align: right !important; display: block;}\n",
       ".c3col_center { text-align: center !important; display: block;}\n",
       "</style>\n",
       "\n",
       "<table>\n",
       "\n",
       "<caption>\n",
       "<span class=\"cell_title\">Global params</span>\n",
       "</caption>\n",
       "<thead class=\"head_cell\">\n",
       "<th>A/C</th><th>A/G</th><th>A/T</th><th>C/G</th><th>C/T</th>\n",
       "</thead>\n",
       "<tbody>\n",
       "<tr><td><span class=\"c3col_right\">1.03</span></td><td><span class=\"c3col_right\">3.38</span></td><td><span class=\"c3col_right\">0.73</span></td><td><span class=\"c3col_right\">0.95</span></td><td><span class=\"c3col_right\">3.72</span></td></tr>\n",
       "</tbody>\n",
       "</table>\n",
       "\n",
       "</div>\n",
       "\n",
       "<div class=\"c3table\">\n",
       "\n",
       "<style>\n",
       ".c3table table {margin: 10px 0;}\n",
       ".c3table tr:last-child {border-bottom: 1px solid #000;} \n",
       ".c3table tr > th {text-align: left; padding: 0 5px;}\n",
       ".c3table tr > td {text-align: left; padding: 5px;}\n",
       ".c3table tr:nth-child(even) {background: #f7f7f7 !important;}\n",
       ".c3table .ellipsis {background: rgba(0, 0, 0, .01);}\n",
       ".c3table .index {background: rgba(161, 195, 209, 0.0); margin: 10px; font-weight: 600;}\n",
       ".c3table .head_cell {background: rgba(161, 195, 209, 0.75); font-weight: bold; text-align: center;}\n",
       ".c3table caption {color: rgb(250, 250, 250); background: rgba(30, 140, 200, 1); padding: 3px; white-space: nowrap; caption-side: top;}\n",
       ".c3table .cell_title {font-weight: bold;}\n",
       ".c3col_left { text-align: left !important; display: block;}\n",
       ".c3col_right { text-align: right !important; display: block;}\n",
       ".c3col_center { text-align: center !important; display: block;}\n",
       "</style>\n",
       "\n",
       "<table>\n",
       "\n",
       "<caption>\n",
       "<span class=\"cell_title\">Edge params</span>\n",
       "</caption>\n",
       "<thead class=\"head_cell\">\n",
       "<th>edge</th><th>parent</th><th>length</th><th>omega</th>\n",
       "</thead>\n",
       "<tbody>\n",
       "<tr><td><span class=\"c3col_left\">Human</span></td><td><span class=\"c3col_left\">edge.0</span></td><td><span class=\"c3col_right\">0.09</span></td><td><span class=\"c3col_right\">0.59</span></td></tr>\n",
       "<tr><td><span class=\"c3col_left\">HowlerMon</span></td><td><span class=\"c3col_left\">edge.0</span></td><td><span class=\"c3col_right\">0.12</span></td><td><span class=\"c3col_right\">0.96</span></td></tr>\n",
       "<tr><td><span class=\"c3col_left\">edge.0</span></td><td><span class=\"c3col_left\">edge.1</span></td><td><span class=\"c3col_right\">0.11</span></td><td><span class=\"c3col_right\">1.13</span></td></tr>\n",
       "<tr><td><span class=\"c3col_left\">Mouse</span></td><td><span class=\"c3col_left\">edge.1</span></td><td><span class=\"c3col_right\">0.83</span></td><td><span class=\"c3col_right\">0.92</span></td></tr>\n",
       "<tr><td><span class=\"c3col_left\">edge.1</span></td><td><span class=\"c3col_left\">root</span></td><td><span class=\"c3col_right\">0.06</span></td><td><span class=\"c3col_right\">0.39</span></td></tr>\n",
       "<tr><td><span class=\"c3col_left\">NineBande</span></td><td><span class=\"c3col_left\">root</span></td><td><span class=\"c3col_right\">0.28</span></td><td><span class=\"c3col_right\">1.28</span></td></tr>\n",
       "<tr><td><span class=\"c3col_left\">DogFaced</span></td><td><span class=\"c3col_left\">root</span></td><td><span class=\"c3col_right\">0.34</span></td><td><span class=\"c3col_right\">0.84</span></td></tr>\n",
       "</tbody>\n",
       "</table>\n",
       "\n",
       "</div>\n",
       "\n",
       "<div class=\"c3table\">\n",
       "\n",
       "<style>\n",
       ".c3table table {margin: 10px 0;}\n",
       ".c3table tr:last-child {border-bottom: 1px solid #000;} \n",
       ".c3table tr > th {text-align: left; padding: 0 5px;}\n",
       ".c3table tr > td {text-align: left; padding: 5px;}\n",
       ".c3table tr:nth-child(even) {background: #f7f7f7 !important;}\n",
       ".c3table .ellipsis {background: rgba(0, 0, 0, .01);}\n",
       ".c3table .index {background: rgba(161, 195, 209, 0.0); margin: 10px; font-weight: 600;}\n",
       ".c3table .head_cell {background: rgba(161, 195, 209, 0.75); font-weight: bold; text-align: center;}\n",
       ".c3table caption {color: rgb(250, 250, 250); background: rgba(30, 140, 200, 1); padding: 3px; white-space: nowrap; caption-side: top;}\n",
       ".c3table .cell_title {font-weight: bold;}\n",
       ".c3col_left { text-align: left !important; display: block;}\n",
       ".c3col_right { text-align: right !important; display: block;}\n",
       ".c3col_center { text-align: center !important; display: block;}\n",
       "</style>\n",
       "\n",
       "<table>\n",
       "\n",
       "<caption>\n",
       "<span class=\"cell_title\">Motif params</span>\n",
       "</caption>\n",
       "<thead class=\"head_cell\">\n",
       "<th>A</th><th>C</th><th>G</th><th>T</th>\n",
       "</thead>\n",
       "<tbody>\n",
       "<tr><td><span class=\"c3col_right\">0.37</span></td><td><span class=\"c3col_right\">0.19</span></td><td><span class=\"c3col_right\">0.21</span></td><td><span class=\"c3col_right\">0.23</span></td></tr>\n",
       "</tbody>\n",
       "</table>\n",
       "\n",
       "</div>"
      ],
      "text/plain": [
       "MG94GTR\n",
       "log-likelihood = -8632.1355\n",
       "number of free parameters = 19\n",
       "============================\n",
       " A/C   A/G   A/T   C/G   C/T\n",
       "----------------------------\n",
       "1.03  3.38  0.73  0.95  3.72\n",
       "----------------------------\n",
       "================================\n",
       "edge       parent  length  omega\n",
       "--------------------------------\n",
       "Human      edge.0    0.09   0.59\n",
       "HowlerMon  edge.0    0.12   0.96\n",
       "edge.0     edge.1    0.11   1.13\n",
       "Mouse      edge.1    0.83   0.92\n",
       "edge.1     root      0.06   0.39\n",
       "NineBande  root      0.28   1.28\n",
       "DogFaced   root      0.34   0.84\n",
       "--------------------------------\n",
       "======================\n",
       "   A     C     G     T\n",
       "----------------------\n",
       "0.37  0.19  0.21  0.23\n",
       "----------------------"
      ]
     },
     "execution_count": 12,
     "metadata": {},
     "output_type": "execute_result"
    }
   ],
   "source": [
    "lf"
   ]
  },
  {
   "cell_type": "code",
   "execution_count": 13,
   "id": "7ab9f2db",
   "metadata": {
    "execution": {
     "iopub.execute_input": "2023-07-17T11:23:40.150571Z",
     "iopub.status.busy": "2023-07-17T11:23:40.150349Z",
     "iopub.status.idle": "2023-07-17T11:23:40.156060Z",
     "shell.execute_reply": "2023-07-17T11:23:40.155603Z"
    }
   },
   "outputs": [],
   "source": [
    "at = lf.get_annotated_tree()"
   ]
  },
  {
   "cell_type": "code",
   "execution_count": 14,
   "id": "1da8cb79",
   "metadata": {
    "execution": {
     "iopub.execute_input": "2023-07-17T11:23:40.158200Z",
     "iopub.status.busy": "2023-07-17T11:23:40.158031Z",
     "iopub.status.idle": "2023-07-17T11:23:40.161578Z",
     "shell.execute_reply": "2023-07-17T11:23:40.160825Z"
    }
   },
   "outputs": [],
   "source": [
    "LR = 2 * (lf.get_log_likelihood() - null_lnL)\n",
    "df = lf.get_num_free_params() - null_nfp\n",
    "P = chi2.sf(LR, df)"
   ]
  },
  {
   "cell_type": "code",
   "execution_count": 15,
   "id": "d52cdb8c",
   "metadata": {
    "execution": {
     "iopub.execute_input": "2023-07-17T11:23:40.163764Z",
     "iopub.status.busy": "2023-07-17T11:23:40.163599Z",
     "iopub.status.idle": "2023-07-17T11:23:40.167841Z",
     "shell.execute_reply": "2023-07-17T11:23:40.166531Z"
    }
   },
   "outputs": [
    {
     "name": "stdout",
     "output_type": "stream",
     "text": [
      "Likelihood ratio statistic = 8.089238559528894\n",
      "degrees-of-freedom = 6\n",
      "probability = 0.23163811497208261\n"
     ]
    }
   ],
   "source": [
    "print(f\"Likelihood ratio statistic = {LR}\")\n",
    "print(f\"degrees-of-freedom = {df}\")\n",
    "print(f\"probability = {P}\")"
   ]
  }
 ],
 "metadata": {
  "kernelspec": {
   "display_name": "Python 3 (ipykernel)",
   "language": "python",
   "name": "python3"
  },
  "language_info": {
   "codemirror_mode": {
    "name": "ipython",
    "version": 3
   },
   "file_extension": ".py",
   "mimetype": "text/x-python",
   "name": "python",
   "nbconvert_exporter": "python",
   "pygments_lexer": "ipython3",
   "version": "3.11.4"
  }
 },
 "nbformat": 4,
 "nbformat_minor": 5
}