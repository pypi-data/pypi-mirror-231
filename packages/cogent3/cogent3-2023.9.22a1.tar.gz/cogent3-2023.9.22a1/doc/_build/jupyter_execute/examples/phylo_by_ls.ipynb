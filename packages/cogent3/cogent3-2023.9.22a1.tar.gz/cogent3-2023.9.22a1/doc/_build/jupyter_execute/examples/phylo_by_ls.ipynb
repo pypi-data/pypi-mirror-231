{
 "cells": [
  {
   "cell_type": "code",
   "execution_count": 1,
   "id": "7e598daf",
   "metadata": {
    "execution": {
     "iopub.execute_input": "2023-07-17T11:23:46.632302Z",
     "iopub.status.busy": "2023-07-17T11:23:46.631140Z",
     "iopub.status.idle": "2023-07-17T11:23:46.652639Z",
     "shell.execute_reply": "2023-07-17T11:23:46.651725Z"
    }
   },
   "outputs": [],
   "source": [
    "import set_working_directory"
   ]
  },
  {
   "cell_type": "code",
   "execution_count": 2,
   "id": "e827e20a",
   "metadata": {
    "execution": {
     "iopub.execute_input": "2023-07-17T11:23:46.657178Z",
     "iopub.status.busy": "2023-07-17T11:23:46.656620Z",
     "iopub.status.idle": "2023-07-17T11:23:47.718871Z",
     "shell.execute_reply": "2023-07-17T11:23:47.718564Z"
    }
   },
   "outputs": [],
   "source": [
    "import pickle\n",
    "\n",
    "from cogent3 import load_aligned_seqs\n",
    "from cogent3.evolve import distance\n",
    "from cogent3.evolve.fast_distance import DistanceMatrix\n",
    "from cogent3.evolve.models import HKY85\n",
    "\n",
    "al = load_aligned_seqs(\"data/long_testseqs.fasta\")\n",
    "d = distance.EstimateDistances(al, submodel=HKY85())\n",
    "d.run(show_progress=False)\n",
    "\n",
    "with open(\"dists_for_phylo.pickle\", \"wb\") as f:\n",
    "    pickle.dump(d.get_pairwise_distances(), f)"
   ]
  },
  {
   "cell_type": "code",
   "execution_count": 3,
   "id": "0326ea4b",
   "metadata": {
    "execution": {
     "iopub.execute_input": "2023-07-17T11:23:47.720575Z",
     "iopub.status.busy": "2023-07-17T11:23:47.720460Z",
     "iopub.status.idle": "2023-07-17T11:23:47.723919Z",
     "shell.execute_reply": "2023-07-17T11:23:47.723657Z"
    }
   },
   "outputs": [],
   "source": [
    "import pickle\n",
    "\n",
    "from cogent3.phylo import least_squares"
   ]
  },
  {
   "cell_type": "code",
   "execution_count": 4,
   "id": "63199040",
   "metadata": {
    "execution": {
     "iopub.execute_input": "2023-07-17T11:23:47.725205Z",
     "iopub.status.busy": "2023-07-17T11:23:47.725123Z",
     "iopub.status.idle": "2023-07-17T11:23:47.726958Z",
     "shell.execute_reply": "2023-07-17T11:23:47.726739Z"
    }
   },
   "outputs": [],
   "source": [
    "with open(\"dists_for_phylo.pickle\", \"rb\") as f:\n",
    "    dists = pickle.load(f)"
   ]
  },
  {
   "cell_type": "code",
   "execution_count": 5,
   "id": "bb493b63",
   "metadata": {
    "execution": {
     "iopub.execute_input": "2023-07-17T11:23:47.728012Z",
     "iopub.status.busy": "2023-07-17T11:23:47.727949Z",
     "iopub.status.idle": "2023-07-17T11:23:47.729594Z",
     "shell.execute_reply": "2023-07-17T11:23:47.729339Z"
    }
   },
   "outputs": [],
   "source": [
    "ls = least_squares.WLS(dists)"
   ]
  },
  {
   "cell_type": "code",
   "execution_count": 6,
   "id": "a0ea8498",
   "metadata": {
    "execution": {
     "iopub.execute_input": "2023-07-17T11:23:47.730758Z",
     "iopub.status.busy": "2023-07-17T11:23:47.730675Z",
     "iopub.status.idle": "2023-07-17T11:23:47.732431Z",
     "shell.execute_reply": "2023-07-17T11:23:47.732201Z"
    }
   },
   "outputs": [],
   "source": [
    "ls_distance_matrix = least_squares.WLS(DistanceMatrix(dists))\n",
    "ls_pairwise_matrix = least_squares.WLS(dists.to_dict())"
   ]
  },
  {
   "cell_type": "code",
   "execution_count": 7,
   "id": "c2634398",
   "metadata": {
    "execution": {
     "iopub.execute_input": "2023-07-17T11:23:47.733494Z",
     "iopub.status.busy": "2023-07-17T11:23:47.733435Z",
     "iopub.status.idle": "2023-07-17T11:23:47.736156Z",
     "shell.execute_reply": "2023-07-17T11:23:47.735912Z"
    }
   },
   "outputs": [],
   "source": [
    "score, tree = ls.trex(a=5, k=1, show_progress=False)\n",
    "assert score < 1e-4"
   ]
  },
  {
   "cell_type": "code",
   "execution_count": 8,
   "id": "e3dc5d35",
   "metadata": {
    "execution": {
     "iopub.execute_input": "2023-07-17T11:23:47.737407Z",
     "iopub.status.busy": "2023-07-17T11:23:47.737334Z",
     "iopub.status.idle": "2023-07-17T11:23:47.740340Z",
     "shell.execute_reply": "2023-07-17T11:23:47.740128Z"
    }
   },
   "outputs": [],
   "source": [
    "trees = ls.trex(a=5, k=5, return_all=True, show_progress=False)"
   ]
  },
  {
   "cell_type": "code",
   "execution_count": 9,
   "id": "6f6ff1d2",
   "metadata": {
    "execution": {
     "iopub.execute_input": "2023-07-17T11:23:47.741422Z",
     "iopub.status.busy": "2023-07-17T11:23:47.741354Z",
     "iopub.status.idle": "2023-07-17T11:23:47.743015Z",
     "shell.execute_reply": "2023-07-17T11:23:47.742792Z"
    }
   },
   "outputs": [
    {
     "name": "stdout",
     "output_type": "stream",
     "text": [
      "5\n"
     ]
    }
   ],
   "source": [
    "print(len(trees))"
   ]
  },
  {
   "cell_type": "code",
   "execution_count": 10,
   "id": "7b18a13d",
   "metadata": {
    "execution": {
     "iopub.execute_input": "2023-07-17T11:23:47.743990Z",
     "iopub.status.busy": "2023-07-17T11:23:47.743931Z",
     "iopub.status.idle": "2023-07-17T11:23:47.745442Z",
     "shell.execute_reply": "2023-07-17T11:23:47.745257Z"
    }
   },
   "outputs": [],
   "source": [
    "wls_stats = [tree[0] for tree in trees]"
   ]
  },
  {
   "cell_type": "code",
   "execution_count": 11,
   "id": "2023dcdd",
   "metadata": {
    "execution": {
     "iopub.execute_input": "2023-07-17T11:23:47.746438Z",
     "iopub.status.busy": "2023-07-17T11:23:47.746336Z",
     "iopub.status.idle": "2023-07-17T11:23:47.748043Z",
     "shell.execute_reply": "2023-07-17T11:23:47.747768Z"
    }
   },
   "outputs": [
    {
     "name": "stdout",
     "output_type": "stream",
     "text": [
      "          /-Mouse\n",
      "         |\n",
      "         |          /-DogFaced\n",
      "-root----|-edge.0--|\n",
      "         |          \\-NineBande\n",
      "         |\n",
      "         |          /-HowlerMon\n",
      "          \\edge.1--|\n",
      "                    \\-Human\n"
     ]
    }
   ],
   "source": [
    "t1 = trees[0][1].balanced()\n",
    "t2 = trees[1][1].balanced()\n",
    "print(t1.ascii_art())"
   ]
  },
  {
   "cell_type": "code",
   "execution_count": 12,
   "id": "4f5e5d14",
   "metadata": {
    "execution": {
     "iopub.execute_input": "2023-07-17T11:23:47.749236Z",
     "iopub.status.busy": "2023-07-17T11:23:47.749172Z",
     "iopub.status.idle": "2023-07-17T11:23:47.751050Z",
     "shell.execute_reply": "2023-07-17T11:23:47.750821Z"
    }
   },
   "outputs": [
    {
     "name": "stdout",
     "output_type": "stream",
     "text": [
      "          /-DogFaced\n",
      "         |\n",
      "         |          /-Mouse\n",
      "-root----|-edge.0--|\n",
      "         |          \\-NineBande\n",
      "         |\n",
      "         |          /-HowlerMon\n",
      "          \\edge.1--|\n",
      "                    \\-Human\n"
     ]
    }
   ],
   "source": [
    "print(t2.ascii_art())"
   ]
  },
  {
   "cell_type": "code",
   "execution_count": 13,
   "id": "bfc9700c",
   "metadata": {
    "execution": {
     "iopub.execute_input": "2023-07-17T11:23:47.752350Z",
     "iopub.status.busy": "2023-07-17T11:23:47.752281Z",
     "iopub.status.idle": "2023-07-17T11:23:47.754281Z",
     "shell.execute_reply": "2023-07-17T11:23:47.754095Z"
    }
   },
   "outputs": [],
   "source": [
    "from cogent3 import make_tree\n",
    "\n",
    "query_tree = make_tree(\n",
    "    \"((Human:.2,DogFaced:.2):.3,(NineBande:.1, Mouse:.5):.2,HowlerMon:.1)\"\n",
    ")"
   ]
  },
  {
   "cell_type": "code",
   "execution_count": 14,
   "id": "a1947753",
   "metadata": {
    "execution": {
     "iopub.execute_input": "2023-07-17T11:23:47.755372Z",
     "iopub.status.busy": "2023-07-17T11:23:47.755298Z",
     "iopub.status.idle": "2023-07-17T11:23:47.757887Z",
     "shell.execute_reply": "2023-07-17T11:23:47.757688Z"
    }
   },
   "outputs": [
    {
     "data": {
      "text/plain": [
       "2.8938102730180066"
      ]
     },
     "execution_count": 14,
     "metadata": {},
     "output_type": "execute_result"
    }
   ],
   "source": [
    "ls.evaluate_tree(query_tree)"
   ]
  },
  {
   "cell_type": "code",
   "execution_count": 15,
   "id": "e9e6670a",
   "metadata": {
    "execution": {
     "iopub.execute_input": "2023-07-17T11:23:47.758976Z",
     "iopub.status.busy": "2023-07-17T11:23:47.758923Z",
     "iopub.status.idle": "2023-07-17T11:23:47.760546Z",
     "shell.execute_reply": "2023-07-17T11:23:47.760348Z"
    }
   },
   "outputs": [],
   "source": [
    "wls, t = ls.evaluate_topology(query_tree)\n",
    "assert \"%.4f\" % wls == \"0.0084\""
   ]
  },
  {
   "cell_type": "code",
   "execution_count": 16,
   "id": "7fa648b5",
   "metadata": {
    "execution": {
     "iopub.execute_input": "2023-07-17T11:23:47.761561Z",
     "iopub.status.busy": "2023-07-17T11:23:47.761495Z",
     "iopub.status.idle": "2023-07-17T11:23:47.763095Z",
     "shell.execute_reply": "2023-07-17T11:23:47.762883Z"
    }
   },
   "outputs": [],
   "source": [
    "import os\n",
    "\n",
    "os.remove(\"dists_for_phylo.pickle\")"
   ]
  }
 ],
 "metadata": {
  "kernelspec": {
   "display_name": "Python 3 (ipykernel)",
   "language": "python",
   "name": "python3"
  },
  "language_info": {
   "codemirror_mode": {
    "name": "ipython",
    "version": 3
   },
   "file_extension": ".py",
   "mimetype": "text/x-python",
   "name": "python",
   "nbconvert_exporter": "python",
   "pygments_lexer": "ipython3",
   "version": "3.11.4"
  }
 },
 "nbformat": 4,
 "nbformat_minor": 5
}