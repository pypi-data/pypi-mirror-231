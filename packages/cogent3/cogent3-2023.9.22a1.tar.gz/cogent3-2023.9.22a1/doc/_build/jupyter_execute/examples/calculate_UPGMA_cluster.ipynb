{
 "cells": [
  {
   "cell_type": "code",
   "execution_count": 1,
   "id": "8d209b70",
   "metadata": {
    "execution": {
     "iopub.execute_input": "2023-07-17T11:22:31.212299Z",
     "iopub.status.busy": "2023-07-17T11:22:31.212054Z",
     "iopub.status.idle": "2023-07-17T11:22:31.226183Z",
     "shell.execute_reply": "2023-07-17T11:22:31.225764Z"
    }
   },
   "outputs": [],
   "source": [
    "import set_working_directory"
   ]
  },
  {
   "cell_type": "code",
   "execution_count": 2,
   "id": "42eb9cd9",
   "metadata": {
    "execution": {
     "iopub.execute_input": "2023-07-17T11:22:31.228489Z",
     "iopub.status.busy": "2023-07-17T11:22:31.228314Z",
     "iopub.status.idle": "2023-07-17T11:22:32.035573Z",
     "shell.execute_reply": "2023-07-17T11:22:32.035193Z"
    }
   },
   "outputs": [],
   "source": [
    "from cogent3 import load_aligned_seqs\n",
    "from cogent3.cluster.UPGMA import upgma\n",
    "from cogent3.evolve import distance"
   ]
  },
  {
   "cell_type": "code",
   "execution_count": 3,
   "id": "475a7450",
   "metadata": {
    "execution": {
     "iopub.execute_input": "2023-07-17T11:22:32.037061Z",
     "iopub.status.busy": "2023-07-17T11:22:32.036959Z",
     "iopub.status.idle": "2023-07-17T11:22:32.038701Z",
     "shell.execute_reply": "2023-07-17T11:22:32.038485Z"
    }
   },
   "outputs": [],
   "source": [
    "from cogent3.evolve.models import HKY85"
   ]
  },
  {
   "cell_type": "code",
   "execution_count": 4,
   "id": "5cbefe06",
   "metadata": {
    "execution": {
     "iopub.execute_input": "2023-07-17T11:22:32.039750Z",
     "iopub.status.busy": "2023-07-17T11:22:32.039685Z",
     "iopub.status.idle": "2023-07-17T11:22:32.041583Z",
     "shell.execute_reply": "2023-07-17T11:22:32.041365Z"
    }
   },
   "outputs": [],
   "source": [
    "al = load_aligned_seqs(\"data/test.paml\")"
   ]
  },
  {
   "cell_type": "code",
   "execution_count": 5,
   "id": "d44cc2ca",
   "metadata": {
    "execution": {
     "iopub.execute_input": "2023-07-17T11:22:32.042626Z",
     "iopub.status.busy": "2023-07-17T11:22:32.042551Z",
     "iopub.status.idle": "2023-07-17T11:22:32.127463Z",
     "shell.execute_reply": "2023-07-17T11:22:32.127217Z"
    }
   },
   "outputs": [],
   "source": [
    "d = distance.EstimateDistances(al, submodel=HKY85())\n",
    "d.run(show_progress=False)"
   ]
  },
  {
   "cell_type": "code",
   "execution_count": 6,
   "id": "28488ddc",
   "metadata": {
    "execution": {
     "iopub.execute_input": "2023-07-17T11:22:32.128822Z",
     "iopub.status.busy": "2023-07-17T11:22:32.128750Z",
     "iopub.status.idle": "2023-07-17T11:22:32.130877Z",
     "shell.execute_reply": "2023-07-17T11:22:32.130647Z"
    }
   },
   "outputs": [
    {
     "name": "stdout",
     "output_type": "stream",
     "text": [
      "                    /-DogFaced\n",
      "                   |\n",
      "          /edge.0--|                    /-HowlerMon\n",
      "         |         |          /edge.2--|\n",
      "         |          \\edge.1--|          \\-Human\n",
      "-root----|                   |\n",
      "         |                    \\-NineBande\n",
      "         |\n",
      "          \\-Mouse\n"
     ]
    }
   ],
   "source": [
    "mycluster = upgma(d.get_pairwise_distances())\n",
    "print(mycluster.ascii_art())"
   ]
  },
  {
   "cell_type": "code",
   "execution_count": 7,
   "id": "3cd23d44",
   "metadata": {
    "execution": {
     "iopub.execute_input": "2023-07-17T11:22:32.132020Z",
     "iopub.status.busy": "2023-07-17T11:22:32.131948Z",
     "iopub.status.idle": "2023-07-17T11:22:32.134150Z",
     "shell.execute_reply": "2023-07-17T11:22:32.133946Z"
    }
   },
   "outputs": [],
   "source": [
    "mycluster.write(\"test_upgma.tree\")"
   ]
  },
  {
   "cell_type": "code",
   "execution_count": 8,
   "id": "592f62df",
   "metadata": {
    "execution": {
     "iopub.execute_input": "2023-07-17T11:22:32.135233Z",
     "iopub.status.busy": "2023-07-17T11:22:32.135172Z",
     "iopub.status.idle": "2023-07-17T11:22:32.136736Z",
     "shell.execute_reply": "2023-07-17T11:22:32.136544Z"
    }
   },
   "outputs": [],
   "source": [
    "import os\n",
    "\n",
    "os.remove(\"test_upgma.tree\")"
   ]
  }
 ],
 "metadata": {
  "kernelspec": {
   "display_name": "Python 3 (ipykernel)",
   "language": "python",
   "name": "python3"
  },
  "language_info": {
   "codemirror_mode": {
    "name": "ipython",
    "version": 3
   },
   "file_extension": ".py",
   "mimetype": "text/x-python",
   "name": "python",
   "nbconvert_exporter": "python",
   "pygments_lexer": "ipython3",
   "version": "3.11.4"
  }
 },
 "nbformat": 4,
 "nbformat_minor": 5
}