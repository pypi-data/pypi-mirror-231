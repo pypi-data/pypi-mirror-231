{
 "cells": [
  {
   "cell_type": "code",
   "execution_count": 1,
   "id": "c275a05f",
   "metadata": {
    "execution": {
     "iopub.execute_input": "2023-07-17T11:24:05.210179Z",
     "iopub.status.busy": "2023-07-17T11:24:05.209876Z",
     "iopub.status.idle": "2023-07-17T11:24:05.232031Z",
     "shell.execute_reply": "2023-07-17T11:24:05.231436Z"
    }
   },
   "outputs": [],
   "source": [
    "import set_working_directory"
   ]
  },
  {
   "cell_type": "code",
   "execution_count": 2,
   "id": "fa131af5",
   "metadata": {
    "execution": {
     "iopub.execute_input": "2023-07-17T11:24:05.235138Z",
     "iopub.status.busy": "2023-07-17T11:24:05.234867Z",
     "iopub.status.idle": "2023-07-17T11:24:06.114942Z",
     "shell.execute_reply": "2023-07-17T11:24:06.114575Z"
    }
   },
   "outputs": [],
   "source": [
    "from cogent3 import load_aligned_seqs, make_table, make_tree\n",
    "from cogent3.evolve.models import HKY85\n",
    "from scipy.stats.distributions import chi2\n",
    "from cogent3.recalculation.scope import ALL, EACH\n",
    "\n",
    "aln = load_aligned_seqs(\"data/long_testseqs.fasta\")\n",
    "half = len(aln) // 2\n",
    "aln1 = aln[:half]\n",
    "aln2 = aln[half:]"
   ]
  },
  {
   "cell_type": "code",
   "execution_count": 3,
   "id": "2abbc791",
   "metadata": {
    "execution": {
     "iopub.execute_input": "2023-07-17T11:24:06.116473Z",
     "iopub.status.busy": "2023-07-17T11:24:06.116371Z",
     "iopub.status.idle": "2023-07-17T11:24:06.118536Z",
     "shell.execute_reply": "2023-07-17T11:24:06.118254Z"
    }
   },
   "outputs": [],
   "source": [
    "loci_names = [\"1st-half\", \"2nd-half\"]\n",
    "loci = [aln1, aln2]\n",
    "tree = make_tree(tip_names=aln.names)\n",
    "mod = HKY85()"
   ]
  },
  {
   "cell_type": "code",
   "execution_count": 4,
   "id": "fdd6bf0d",
   "metadata": {
    "execution": {
     "iopub.execute_input": "2023-07-17T11:24:06.119647Z",
     "iopub.status.busy": "2023-07-17T11:24:06.119572Z",
     "iopub.status.idle": "2023-07-17T11:24:06.162474Z",
     "shell.execute_reply": "2023-07-17T11:24:06.162209Z"
    }
   },
   "outputs": [
    {
     "data": {
      "text/html": [
       "<h4>HKY85</h4>\n",
       "<p>log-likelihood = -9168.3331</p>\n",
       "<p>number of free parameters = 2</p>\n",
       "\n",
       "<div class=\"c3table\">\n",
       "\n",
       "<style>\n",
       ".c3table table {margin: 10px 0;}\n",
       ".c3table tr:last-child {border-bottom: 1px solid #000;} \n",
       ".c3table tr > th {text-align: left; padding: 0 5px;}\n",
       ".c3table tr > td {text-align: left; padding: 5px;}\n",
       ".c3table tr:nth-child(even) {background: #f7f7f7 !important;}\n",
       ".c3table .ellipsis {background: rgba(0, 0, 0, .01);}\n",
       ".c3table .index {background: rgba(161, 195, 209, 0.0); margin: 10px; font-weight: 600;}\n",
       ".c3table .head_cell {background: rgba(161, 195, 209, 0.75); font-weight: bold; text-align: center;}\n",
       ".c3table caption {color: rgb(250, 250, 250); background: rgba(30, 140, 200, 1); padding: 3px; white-space: nowrap; caption-side: top;}\n",
       ".c3table .cell_title {font-weight: bold;}\n",
       ".c3col_left { text-align: left !important; display: block;}\n",
       ".c3col_right { text-align: right !important; display: block;}\n",
       ".c3col_center { text-align: center !important; display: block;}\n",
       "</style>\n",
       "\n",
       "<table>\n",
       "\n",
       "<caption>\n",
       "<span class=\"cell_title\">Global params</span>\n",
       "</caption>\n",
       "<thead class=\"head_cell\">\n",
       "<th>kappa</th><th>length</th>\n",
       "</thead>\n",
       "<tbody>\n",
       "<tr><td><span class=\"c3col_right\">3.98</span></td><td><span class=\"c3col_right\">0.13</span></td></tr>\n",
       "</tbody>\n",
       "</table>\n",
       "\n",
       "</div>\n",
       "\n",
       "<div class=\"c3table\">\n",
       "\n",
       "<style>\n",
       ".c3table table {margin: 10px 0;}\n",
       ".c3table tr:last-child {border-bottom: 1px solid #000;} \n",
       ".c3table tr > th {text-align: left; padding: 0 5px;}\n",
       ".c3table tr > td {text-align: left; padding: 5px;}\n",
       ".c3table tr:nth-child(even) {background: #f7f7f7 !important;}\n",
       ".c3table .ellipsis {background: rgba(0, 0, 0, .01);}\n",
       ".c3table .index {background: rgba(161, 195, 209, 0.0); margin: 10px; font-weight: 600;}\n",
       ".c3table .head_cell {background: rgba(161, 195, 209, 0.75); font-weight: bold; text-align: center;}\n",
       ".c3table caption {color: rgb(250, 250, 250); background: rgba(30, 140, 200, 1); padding: 3px; white-space: nowrap; caption-side: top;}\n",
       ".c3table .cell_title {font-weight: bold;}\n",
       ".c3col_left { text-align: left !important; display: block;}\n",
       ".c3col_right { text-align: right !important; display: block;}\n",
       ".c3col_center { text-align: center !important; display: block;}\n",
       "</style>\n",
       "\n",
       "<table>\n",
       "\n",
       "<caption>\n",
       "<span class=\"cell_title\">Locus motif params</span>\n",
       "</caption>\n",
       "<thead class=\"head_cell\">\n",
       "<th>locus</th><th>A</th><th>C</th><th>G</th><th>T</th>\n",
       "</thead>\n",
       "<tbody>\n",
       "<tr><td><span class=\"c3col_left\">1st-half</span></td><td><span class=\"c3col_right\">0.38</span></td><td><span class=\"c3col_right\">0.18</span></td><td><span class=\"c3col_right\">0.21</span></td><td><span class=\"c3col_right\">0.22</span></td></tr>\n",
       "<tr><td><span class=\"c3col_left\">2nd-half</span></td><td><span class=\"c3col_right\">0.35</span></td><td><span class=\"c3col_right\">0.19</span></td><td><span class=\"c3col_right\">0.22</span></td><td><span class=\"c3col_right\">0.24</span></td></tr>\n",
       "</tbody>\n",
       "</table>\n",
       "\n",
       "</div>"
      ],
      "text/plain": [
       "HKY85\n",
       "log-likelihood = -9168.3331\n",
       "number of free parameters = 2\n",
       "==============\n",
       "kappa   length\n",
       "--------------\n",
       " 3.98     0.13\n",
       "--------------\n",
       "====================================\n",
       "locus         A      C      G      T\n",
       "------------------------------------\n",
       "1st-half   0.38   0.18   0.21   0.22\n",
       "2nd-half   0.35   0.19   0.22   0.24\n",
       "------------------------------------"
      ]
     },
     "execution_count": 4,
     "metadata": {},
     "output_type": "execute_result"
    }
   ],
   "source": [
    "lf = mod.make_likelihood_function(tree, loci=loci_names, digits=2, space=3)\n",
    "lf.set_param_rule(\"length\", is_independent=False)\n",
    "lf.set_param_rule(\"kappa\", loci=ALL)\n",
    "lf.set_alignment(loci)\n",
    "lf.optimise(show_progress=False)\n",
    "lf"
   ]
  },
  {
   "cell_type": "code",
   "execution_count": 5,
   "id": "f6151f7d",
   "metadata": {
    "execution": {
     "iopub.execute_input": "2023-07-17T11:24:06.163881Z",
     "iopub.status.busy": "2023-07-17T11:24:06.163814Z",
     "iopub.status.idle": "2023-07-17T11:24:06.184432Z",
     "shell.execute_reply": "2023-07-17T11:24:06.184140Z"
    }
   },
   "outputs": [
    {
     "data": {
      "text/html": [
       "<h4>HKY85</h4>\n",
       "<p>log-likelihood = -9167.5373</p>\n",
       "<p>number of free parameters = 3</p>\n",
       "\n",
       "<div class=\"c3table\">\n",
       "\n",
       "<style>\n",
       ".c3table table {margin: 10px 0;}\n",
       ".c3table tr:last-child {border-bottom: 1px solid #000;} \n",
       ".c3table tr > th {text-align: left; padding: 0 5px;}\n",
       ".c3table tr > td {text-align: left; padding: 5px;}\n",
       ".c3table tr:nth-child(even) {background: #f7f7f7 !important;}\n",
       ".c3table .ellipsis {background: rgba(0, 0, 0, .01);}\n",
       ".c3table .index {background: rgba(161, 195, 209, 0.0); margin: 10px; font-weight: 600;}\n",
       ".c3table .head_cell {background: rgba(161, 195, 209, 0.75); font-weight: bold; text-align: center;}\n",
       ".c3table caption {color: rgb(250, 250, 250); background: rgba(30, 140, 200, 1); padding: 3px; white-space: nowrap; caption-side: top;}\n",
       ".c3table .cell_title {font-weight: bold;}\n",
       ".c3col_left { text-align: left !important; display: block;}\n",
       ".c3col_right { text-align: right !important; display: block;}\n",
       ".c3col_center { text-align: center !important; display: block;}\n",
       "</style>\n",
       "\n",
       "<table>\n",
       "\n",
       "<caption>\n",
       "<span class=\"cell_title\">Global params</span>\n",
       "</caption>\n",
       "<thead class=\"head_cell\">\n",
       "<th>length</th>\n",
       "</thead>\n",
       "<tbody>\n",
       "<tr><td><span class=\"c3col_right\">0.13</span></td></tr>\n",
       "</tbody>\n",
       "</table>\n",
       "\n",
       "</div>\n",
       "\n",
       "<div class=\"c3table\">\n",
       "\n",
       "<style>\n",
       ".c3table table {margin: 10px 0;}\n",
       ".c3table tr:last-child {border-bottom: 1px solid #000;} \n",
       ".c3table tr > th {text-align: left; padding: 0 5px;}\n",
       ".c3table tr > td {text-align: left; padding: 5px;}\n",
       ".c3table tr:nth-child(even) {background: #f7f7f7 !important;}\n",
       ".c3table .ellipsis {background: rgba(0, 0, 0, .01);}\n",
       ".c3table .index {background: rgba(161, 195, 209, 0.0); margin: 10px; font-weight: 600;}\n",
       ".c3table .head_cell {background: rgba(161, 195, 209, 0.75); font-weight: bold; text-align: center;}\n",
       ".c3table caption {color: rgb(250, 250, 250); background: rgba(30, 140, 200, 1); padding: 3px; white-space: nowrap; caption-side: top;}\n",
       ".c3table .cell_title {font-weight: bold;}\n",
       ".c3col_left { text-align: left !important; display: block;}\n",
       ".c3col_right { text-align: right !important; display: block;}\n",
       ".c3col_center { text-align: center !important; display: block;}\n",
       "</style>\n",
       "\n",
       "<table>\n",
       "\n",
       "<caption>\n",
       "<span class=\"cell_title\">Locus params</span>\n",
       "</caption>\n",
       "<thead class=\"head_cell\">\n",
       "<th>locus</th><th>kappa</th>\n",
       "</thead>\n",
       "<tbody>\n",
       "<tr><td><span class=\"c3col_left\">1st-half</span></td><td><span class=\"c3col_right\">4.33</span></td></tr>\n",
       "<tr><td><span class=\"c3col_left\">2nd-half</span></td><td><span class=\"c3col_right\">3.74</span></td></tr>\n",
       "</tbody>\n",
       "</table>\n",
       "\n",
       "</div>\n",
       "\n",
       "<div class=\"c3table\">\n",
       "\n",
       "<style>\n",
       ".c3table table {margin: 10px 0;}\n",
       ".c3table tr:last-child {border-bottom: 1px solid #000;} \n",
       ".c3table tr > th {text-align: left; padding: 0 5px;}\n",
       ".c3table tr > td {text-align: left; padding: 5px;}\n",
       ".c3table tr:nth-child(even) {background: #f7f7f7 !important;}\n",
       ".c3table .ellipsis {background: rgba(0, 0, 0, .01);}\n",
       ".c3table .index {background: rgba(161, 195, 209, 0.0); margin: 10px; font-weight: 600;}\n",
       ".c3table .head_cell {background: rgba(161, 195, 209, 0.75); font-weight: bold; text-align: center;}\n",
       ".c3table caption {color: rgb(250, 250, 250); background: rgba(30, 140, 200, 1); padding: 3px; white-space: nowrap; caption-side: top;}\n",
       ".c3table .cell_title {font-weight: bold;}\n",
       ".c3col_left { text-align: left !important; display: block;}\n",
       ".c3col_right { text-align: right !important; display: block;}\n",
       ".c3col_center { text-align: center !important; display: block;}\n",
       "</style>\n",
       "\n",
       "<table>\n",
       "\n",
       "<caption>\n",
       "<span class=\"cell_title\">Locus motif params</span>\n",
       "</caption>\n",
       "<thead class=\"head_cell\">\n",
       "<th>locus</th><th>A</th><th>C</th><th>G</th><th>T</th>\n",
       "</thead>\n",
       "<tbody>\n",
       "<tr><td><span class=\"c3col_left\">1st-half</span></td><td><span class=\"c3col_right\">0.38</span></td><td><span class=\"c3col_right\">0.18</span></td><td><span class=\"c3col_right\">0.21</span></td><td><span class=\"c3col_right\">0.22</span></td></tr>\n",
       "<tr><td><span class=\"c3col_left\">2nd-half</span></td><td><span class=\"c3col_right\">0.35</span></td><td><span class=\"c3col_right\">0.19</span></td><td><span class=\"c3col_right\">0.22</span></td><td><span class=\"c3col_right\">0.24</span></td></tr>\n",
       "</tbody>\n",
       "</table>\n",
       "\n",
       "</div>"
      ],
      "text/plain": [
       "HKY85\n",
       "log-likelihood = -9167.5373\n",
       "number of free parameters = 3\n",
       "======\n",
       "length\n",
       "------\n",
       "  0.13\n",
       "------\n",
       "================\n",
       "locus      kappa\n",
       "----------------\n",
       "1st-half    4.33\n",
       "2nd-half    3.74\n",
       "----------------\n",
       "====================================\n",
       "locus         A      C      G      T\n",
       "------------------------------------\n",
       "1st-half   0.38   0.18   0.21   0.22\n",
       "2nd-half   0.35   0.19   0.22   0.24\n",
       "------------------------------------"
      ]
     },
     "execution_count": 5,
     "metadata": {},
     "output_type": "execute_result"
    }
   ],
   "source": [
    "all_lnL = lf.lnL\n",
    "all_nfp = lf.nfp\n",
    "lf.set_param_rule(\"kappa\", loci=EACH)\n",
    "lf.optimise(show_progress=False)\n",
    "lf"
   ]
  },
  {
   "cell_type": "code",
   "execution_count": 6,
   "id": "e88544cf",
   "metadata": {
    "execution": {
     "iopub.execute_input": "2023-07-17T11:24:06.185681Z",
     "iopub.status.busy": "2023-07-17T11:24:06.185612Z",
     "iopub.status.idle": "2023-07-17T11:24:06.187253Z",
     "shell.execute_reply": "2023-07-17T11:24:06.187037Z"
    }
   },
   "outputs": [],
   "source": [
    "each_lnL = lf.lnL\n",
    "each_nfp = lf.nfp\n",
    "LR = 2 * (each_lnL - all_lnL)\n",
    "df = each_nfp - all_nfp"
   ]
  },
  {
   "cell_type": "code",
   "execution_count": 7,
   "id": "a781a7d6",
   "metadata": {
    "execution": {
     "iopub.execute_input": "2023-07-17T11:24:06.188303Z",
     "iopub.status.busy": "2023-07-17T11:24:06.188245Z",
     "iopub.status.idle": "2023-07-17T11:24:06.190626Z",
     "shell.execute_reply": "2023-07-17T11:24:06.190440Z"
    }
   },
   "outputs": [
    {
     "data": {
      "text/html": [
       "\n",
       "<div class=\"c3table\">\n",
       "\n",
       "<style>\n",
       ".c3table table {margin: 10px 0;}\n",
       ".c3table tr:last-child {border-bottom: 1px solid #000;} \n",
       ".c3table tr > th {text-align: left; padding: 0 5px;}\n",
       ".c3table tr > td {text-align: left; padding: 5px;}\n",
       ".c3table tr:nth-child(even) {background: #f7f7f7 !important;}\n",
       ".c3table .ellipsis {background: rgba(0, 0, 0, .01);}\n",
       ".c3table .index {background: rgba(161, 195, 209, 0.0); margin: 10px; font-weight: 600;}\n",
       ".c3table .head_cell {background: rgba(161, 195, 209, 0.75); font-weight: bold; text-align: center;}\n",
       ".c3table caption {color: rgb(250, 250, 250); background: rgba(30, 140, 200, 1); padding: 3px; white-space: nowrap; caption-side: top;}\n",
       ".c3table .cell_title {font-weight: bold;}\n",
       ".c3col_left { text-align: left !important; display: block;}\n",
       ".c3col_right { text-align: right !important; display: block;}\n",
       ".c3col_center { text-align: center !important; display: block;}\n",
       "</style>\n",
       "\n",
       "<table>\n",
       "\n",
       "<thead class=\"head_cell\">\n",
       "<th>LR</th><th>df</th><th>p</th>\n",
       "</thead>\n",
       "<tbody>\n",
       "<tr><td><span class=\"c3col_right\">1.59</span></td><td><span class=\"c3col_right\">1</span></td><td><span class=\"c3col_right\">0.21</span></td></tr>\n",
       "</tbody>\n",
       "</table>\n",
       "<p>\n",
       "1 rows x 3 columns</p>\n",
       "</div>"
      ],
      "text/plain": [
       "================\n",
       "  LR   df      p\n",
       "----------------\n",
       "1.59    1   0.21\n",
       "----------------\n",
       "\n",
       "1 rows x 3 columns"
      ]
     },
     "execution_count": 7,
     "metadata": {},
     "output_type": "execute_result"
    }
   ],
   "source": [
    "make_table(\n",
    "    header=[\"LR\", \"df\", \"p\"], rows=[[LR, df, chi2.sf(LR, df)]], digits=2, space=3,\n",
    ")"
   ]
  }
 ],
 "metadata": {
  "kernelspec": {
   "display_name": "Python 3 (ipykernel)",
   "language": "python",
   "name": "python3"
  },
  "language_info": {
   "codemirror_mode": {
    "name": "ipython",
    "version": 3
   },
   "file_extension": ".py",
   "mimetype": "text/x-python",
   "name": "python",
   "nbconvert_exporter": "python",
   "pygments_lexer": "ipython3",
   "version": "3.11.4"
  }
 },
 "nbformat": 4,
 "nbformat_minor": 5
}