{
 "cells": [
  {
   "cell_type": "code",
   "execution_count": 1,
   "id": "10145309",
   "metadata": {
    "execution": {
     "iopub.execute_input": "2023-07-17T11:16:23.712232Z",
     "iopub.status.busy": "2023-07-17T11:16:23.711841Z",
     "iopub.status.idle": "2023-07-17T11:16:23.721451Z",
     "shell.execute_reply": "2023-07-17T11:16:23.721189Z"
    }
   },
   "outputs": [],
   "source": [
    "import set_working_directory"
   ]
  },
  {
   "cell_type": "code",
   "execution_count": 2,
   "id": "d4004ea4",
   "metadata": {
    "execution": {
     "iopub.execute_input": "2023-07-17T11:16:23.722711Z",
     "iopub.status.busy": "2023-07-17T11:16:23.722631Z",
     "iopub.status.idle": "2023-07-17T11:16:24.611421Z",
     "shell.execute_reply": "2023-07-17T11:16:24.611139Z"
    }
   },
   "outputs": [
    {
     "data": {
      "text/plain": [
       "['Human', 'Rhesus', 'Galago']"
      ]
     },
     "execution_count": 2,
     "metadata": {},
     "output_type": "execute_result"
    }
   ],
   "source": [
    "from cogent3 import get_app\n",
    "\n",
    "loader = get_app(\"load_aligned\", format=\"fasta\", moltype=\"dna\")\n",
    "select_seqs = get_app(\"take_named_seqs\", \"Human\", \"Rhesus\", \"Galago\")\n",
    "process = loader + select_seqs\n",
    "aln = process(\"data/primate_brca1.fasta\")\n",
    "aln.names"
   ]
  },
  {
   "cell_type": "code",
   "execution_count": 3,
   "id": "3a15364d",
   "metadata": {
    "execution": {
     "iopub.execute_input": "2023-07-17T11:16:24.612743Z",
     "iopub.status.busy": "2023-07-17T11:16:24.612643Z",
     "iopub.status.idle": "2023-07-17T11:16:24.615821Z",
     "shell.execute_reply": "2023-07-17T11:16:24.615591Z"
    }
   },
   "outputs": [
    {
     "data": {
      "text/plain": [
       "model(sm='GN', tree=None, unique_trees=False, name=None,\n",
       "optimise_motif_probs=False, sm_args=None, lf_args=None, time_het=None,\n",
       "param_rules=None, opt_args=None, lower=1e-06, upper=50, split_codons=False,\n",
       "show_progress=False, verbose=False)"
      ]
     },
     "execution_count": 3,
     "metadata": {},
     "output_type": "execute_result"
    }
   ],
   "source": [
    "gn = get_app(\"model\", \"GN\")\n",
    "gn"
   ]
  },
  {
   "cell_type": "code",
   "execution_count": 4,
   "id": "f8851813",
   "metadata": {
    "execution": {
     "iopub.execute_input": "2023-07-17T11:16:24.617001Z",
     "iopub.status.busy": "2023-07-17T11:16:24.616929Z",
     "iopub.status.idle": "2023-07-17T11:16:24.767293Z",
     "shell.execute_reply": "2023-07-17T11:16:24.767009Z"
    }
   },
   "outputs": [
    {
     "data": {
      "text/plain": [
       "cogent3.app.result.model_result"
      ]
     },
     "execution_count": 4,
     "metadata": {},
     "output_type": "execute_result"
    }
   ],
   "source": [
    "fitted = gn(aln)\n",
    "type(fitted)"
   ]
  },
  {
   "cell_type": "code",
   "execution_count": 5,
   "id": "c38045d6",
   "metadata": {
    "execution": {
     "iopub.execute_input": "2023-07-17T11:16:24.768628Z",
     "iopub.status.busy": "2023-07-17T11:16:24.768555Z",
     "iopub.status.idle": "2023-07-17T11:16:24.771913Z",
     "shell.execute_reply": "2023-07-17T11:16:24.771714Z"
    }
   },
   "outputs": [
    {
     "data": {
      "text/html": [
       "\n",
       "<div class=\"c3table\">\n",
       "\n",
       "<style>\n",
       ".c3table table {margin: 10px 0;}\n",
       ".c3table tr:last-child {border-bottom: 1px solid #000;} \n",
       ".c3table tr > th {text-align: left; padding: 0 5px;}\n",
       ".c3table tr > td {text-align: left; padding: 5px;}\n",
       ".c3table tr:nth-child(even) {background: #f7f7f7 !important;}\n",
       ".c3table .ellipsis {background: rgba(0, 0, 0, .01);}\n",
       ".c3table .index {background: rgba(161, 195, 209, 0.0); margin: 10px; font-weight: 600;}\n",
       ".c3table .head_cell {background: rgba(161, 195, 209, 0.75); font-weight: bold; text-align: center;}\n",
       ".c3table caption {color: rgb(250, 250, 250); background: rgba(30, 140, 200, 1); padding: 3px; white-space: nowrap; caption-side: top;}\n",
       ".c3table .cell_title {font-weight: bold;}\n",
       ".c3col_left { text-align: left !important; display: block;}\n",
       ".c3col_right { text-align: right !important; display: block;}\n",
       ".c3col_center { text-align: center !important; display: block;}\n",
       "</style>\n",
       "\n",
       "<table>\n",
       "\n",
       "<caption>\n",
       "<span class=\"cell_title\">GN</span>\n",
       "</caption>\n",
       "<thead class=\"head_cell\">\n",
       "<th>key</th><th>lnL</th><th>nfp</th><th>DLC</th><th>unique_Q</th>\n",
       "</thead>\n",
       "<tbody>\n",
       "<tr><td><span class=\"c3col_left\">'GN'</span></td><td><span class=\"c3col_right\">-5964.2583</span></td><td><span class=\"c3col_right\">14</span></td><td><span class=\"c3col_left\">True</span></td><td><span class=\"c3col_left\">True</span></td></tr>\n",
       "</tbody>\n",
       "</table>\n",
       "\n",
       "</div>"
      ],
      "text/plain": [
       "GN\n",
       "=============================================\n",
       "key            lnL    nfp    DLC     unique_Q\n",
       "---------------------------------------------\n",
       "'GN'    -5964.2583     14    True    True    \n",
       "---------------------------------------------\n",
       "\n",
       "1 rows x 5 columns"
      ]
     },
     "execution_count": 5,
     "metadata": {},
     "output_type": "execute_result"
    }
   ],
   "source": [
    "fitted"
   ]
  },
  {
   "cell_type": "code",
   "execution_count": 6,
   "id": "76a109ce",
   "metadata": {
    "execution": {
     "iopub.execute_input": "2023-07-17T11:16:24.772994Z",
     "iopub.status.busy": "2023-07-17T11:16:24.772937Z",
     "iopub.status.idle": "2023-07-17T11:16:24.775857Z",
     "shell.execute_reply": "2023-07-17T11:16:24.775634Z"
    }
   },
   "outputs": [
    {
     "data": {
      "text/html": [
       "<h4>GN</h4>\n",
       "<p>log-likelihood = -5964.2583</p>\n",
       "<p>number of free parameters = 14</p>\n",
       "\n",
       "<div class=\"c3table\">\n",
       "\n",
       "<style>\n",
       ".c3table table {margin: 10px 0;}\n",
       ".c3table tr:last-child {border-bottom: 1px solid #000;} \n",
       ".c3table tr > th {text-align: left; padding: 0 5px;}\n",
       ".c3table tr > td {text-align: left; padding: 5px;}\n",
       ".c3table tr:nth-child(even) {background: #f7f7f7 !important;}\n",
       ".c3table .ellipsis {background: rgba(0, 0, 0, .01);}\n",
       ".c3table .index {background: rgba(161, 195, 209, 0.0); margin: 10px; font-weight: 600;}\n",
       ".c3table .head_cell {background: rgba(161, 195, 209, 0.75); font-weight: bold; text-align: center;}\n",
       ".c3table caption {color: rgb(250, 250, 250); background: rgba(30, 140, 200, 1); padding: 3px; white-space: nowrap; caption-side: top;}\n",
       ".c3table .cell_title {font-weight: bold;}\n",
       ".c3col_left { text-align: left !important; display: block;}\n",
       ".c3col_right { text-align: right !important; display: block;}\n",
       ".c3col_center { text-align: center !important; display: block;}\n",
       "</style>\n",
       "\n",
       "<table>\n",
       "\n",
       "<caption>\n",
       "<span class=\"cell_title\">Global params</span>\n",
       "</caption>\n",
       "<thead class=\"head_cell\">\n",
       "<th>A>C</th><th>A>G</th><th>A>T</th><th>C>A</th><th>C>G</th><th>C>T</th><th>G>A</th><th>G>C</th><th>G>T</th><th>T>A</th>\n",
       "</thead>\n",
       "<tbody>\n",
       "<tr><td><span class=\"c3col_right\">1.0636</span></td><td><span class=\"c3col_right\">3.1947</span></td><td><span class=\"c3col_right\">1.0209</span></td><td><span class=\"c3col_right\">1.7945</span></td><td><span class=\"c3col_right\">2.3268</span></td><td><span class=\"c3col_right\">5.6769</span></td><td><span class=\"c3col_right\">9.0617</span></td><td><span class=\"c3col_right\">1.1127</span></td><td><span class=\"c3col_right\">0.8312</span></td><td><span class=\"c3col_right\">1.5002</span></td></tr>\n",
       "</tbody>\n",
       "</table>\n",
       "\n",
       "<table>\n",
       "\n",
       "<caption>\n",
       "<span class=\"cell_title\">continuation</span>\n",
       "</caption>\n",
       "<thead class=\"head_cell\">\n",
       "<th>T>C</th>\n",
       "</thead>\n",
       "<tbody>\n",
       "<tr><td><span class=\"c3col_right\">3.5618</span></td></tr>\n",
       "</tbody>\n",
       "</table>\n",
       "\n",
       "</div>\n",
       "\n",
       "<div class=\"c3table\">\n",
       "\n",
       "<style>\n",
       ".c3table table {margin: 10px 0;}\n",
       ".c3table tr:last-child {border-bottom: 1px solid #000;} \n",
       ".c3table tr > th {text-align: left; padding: 0 5px;}\n",
       ".c3table tr > td {text-align: left; padding: 5px;}\n",
       ".c3table tr:nth-child(even) {background: #f7f7f7 !important;}\n",
       ".c3table .ellipsis {background: rgba(0, 0, 0, .01);}\n",
       ".c3table .index {background: rgba(161, 195, 209, 0.0); margin: 10px; font-weight: 600;}\n",
       ".c3table .head_cell {background: rgba(161, 195, 209, 0.75); font-weight: bold; text-align: center;}\n",
       ".c3table caption {color: rgb(250, 250, 250); background: rgba(30, 140, 200, 1); padding: 3px; white-space: nowrap; caption-side: top;}\n",
       ".c3table .cell_title {font-weight: bold;}\n",
       ".c3col_left { text-align: left !important; display: block;}\n",
       ".c3col_right { text-align: right !important; display: block;}\n",
       ".c3col_center { text-align: center !important; display: block;}\n",
       "</style>\n",
       "\n",
       "<table>\n",
       "\n",
       "<caption>\n",
       "<span class=\"cell_title\">Edge params</span>\n",
       "</caption>\n",
       "<thead class=\"head_cell\">\n",
       "<th>edge</th><th>parent</th><th>length</th>\n",
       "</thead>\n",
       "<tbody>\n",
       "<tr><td><span class=\"c3col_left\">Human</span></td><td><span class=\"c3col_left\">root</span></td><td><span class=\"c3col_right\">0.0213</span></td></tr>\n",
       "<tr><td><span class=\"c3col_left\">Rhesus</span></td><td><span class=\"c3col_left\">root</span></td><td><span class=\"c3col_right\">0.0207</span></td></tr>\n",
       "<tr><td><span class=\"c3col_left\">Galago</span></td><td><span class=\"c3col_left\">root</span></td><td><span class=\"c3col_right\">0.1773</span></td></tr>\n",
       "</tbody>\n",
       "</table>\n",
       "\n",
       "</div>\n",
       "\n",
       "<div class=\"c3table\">\n",
       "\n",
       "<style>\n",
       ".c3table table {margin: 10px 0;}\n",
       ".c3table tr:last-child {border-bottom: 1px solid #000;} \n",
       ".c3table tr > th {text-align: left; padding: 0 5px;}\n",
       ".c3table tr > td {text-align: left; padding: 5px;}\n",
       ".c3table tr:nth-child(even) {background: #f7f7f7 !important;}\n",
       ".c3table .ellipsis {background: rgba(0, 0, 0, .01);}\n",
       ".c3table .index {background: rgba(161, 195, 209, 0.0); margin: 10px; font-weight: 600;}\n",
       ".c3table .head_cell {background: rgba(161, 195, 209, 0.75); font-weight: bold; text-align: center;}\n",
       ".c3table caption {color: rgb(250, 250, 250); background: rgba(30, 140, 200, 1); padding: 3px; white-space: nowrap; caption-side: top;}\n",
       ".c3table .cell_title {font-weight: bold;}\n",
       ".c3col_left { text-align: left !important; display: block;}\n",
       ".c3col_right { text-align: right !important; display: block;}\n",
       ".c3col_center { text-align: center !important; display: block;}\n",
       "</style>\n",
       "\n",
       "<table>\n",
       "\n",
       "<caption>\n",
       "<span class=\"cell_title\">Motif params</span>\n",
       "</caption>\n",
       "<thead class=\"head_cell\">\n",
       "<th>A</th><th>C</th><th>G</th><th>T</th>\n",
       "</thead>\n",
       "<tbody>\n",
       "<tr><td><span class=\"c3col_right\">0.3793</span></td><td><span class=\"c3col_right\">0.1734</span></td><td><span class=\"c3col_right\">0.2058</span></td><td><span class=\"c3col_right\">0.2415</span></td></tr>\n",
       "</tbody>\n",
       "</table>\n",
       "\n",
       "</div>"
      ],
      "text/plain": [
       "GN\n",
       "log-likelihood = -5964.2583\n",
       "number of free parameters = 14\n",
       "============================================================================\n",
       "   A>C       A>G       A>T       C>A       C>G       C>T       G>A       G>C\n",
       "----------------------------------------------------------------------------\n",
       "1.0636    3.1947    1.0209    1.7945    2.3268    5.6769    9.0617    1.1127\n",
       "----------------------------------------------------------------------------\n",
       "\n",
       "continued: \n",
       "==========================\n",
       "   G>T       T>A       T>C\n",
       "--------------------------\n",
       "0.8312    1.5002    3.5618\n",
       "--------------------------\n",
       "\n",
       "==========================\n",
       "edge      parent    length\n",
       "--------------------------\n",
       "Human     root      0.0213\n",
       "Rhesus    root      0.0207\n",
       "Galago    root      0.1773\n",
       "--------------------------\n",
       "====================================\n",
       "     A         C         G         T\n",
       "------------------------------------\n",
       "0.3793    0.1734    0.2058    0.2415\n",
       "------------------------------------"
      ]
     },
     "execution_count": 6,
     "metadata": {},
     "output_type": "execute_result"
    }
   ],
   "source": [
    "fitted.lf"
   ]
  },
  {
   "cell_type": "code",
   "execution_count": 7,
   "id": "6dd3d5f2",
   "metadata": {
    "execution": {
     "iopub.execute_input": "2023-07-17T11:16:24.777036Z",
     "iopub.status.busy": "2023-07-17T11:16:24.776955Z",
     "iopub.status.idle": "2023-07-17T11:16:24.778815Z",
     "shell.execute_reply": "2023-07-17T11:16:24.778615Z"
    }
   },
   "outputs": [
    {
     "data": {
      "text/plain": [
       "(-5964.258307123589, 14)"
      ]
     },
     "execution_count": 7,
     "metadata": {},
     "output_type": "execute_result"
    }
   ],
   "source": [
    "fitted.lnL, fitted.nfp"
   ]
  },
  {
   "cell_type": "code",
   "execution_count": 8,
   "id": "b7a4a66d",
   "metadata": {
    "execution": {
     "iopub.execute_input": "2023-07-17T11:16:24.779771Z",
     "iopub.status.busy": "2023-07-17T11:16:24.779710Z",
     "iopub.status.idle": "2023-07-17T11:16:24.781545Z",
     "shell.execute_reply": "2023-07-17T11:16:24.781278Z"
    }
   },
   "outputs": [
    {
     "data": {
      "text/plain": [
       "'primate_brca1.fasta'"
      ]
     },
     "execution_count": 8,
     "metadata": {},
     "output_type": "execute_result"
    }
   ],
   "source": [
    "fitted.source"
   ]
  },
  {
   "cell_type": "code",
   "execution_count": 9,
   "id": "5389ab51",
   "metadata": {
    "execution": {
     "iopub.execute_input": "2023-07-17T11:16:24.782743Z",
     "iopub.status.busy": "2023-07-17T11:16:24.782670Z",
     "iopub.status.idle": "2023-07-17T11:16:24.785798Z",
     "shell.execute_reply": "2023-07-17T11:16:24.785578Z"
    }
   },
   "outputs": [
    {
     "data": {
      "text/plain": [
       "(Tree(\"(Human,Rhesus,Galago)root;\"),\n",
       " 3 x 2814 alignment: Human[TGTGGCACAAA...], Rhesus[TGTGGCACAAA...], Galago[TGTGGCAAAAA...])"
      ]
     },
     "execution_count": 9,
     "metadata": {},
     "output_type": "execute_result"
    }
   ],
   "source": [
    "fitted.tree, fitted.alignment"
   ]
  },
  {
   "cell_type": "code",
   "execution_count": 10,
   "id": "807b62ee",
   "metadata": {
    "execution": {
     "iopub.execute_input": "2023-07-17T11:16:24.787061Z",
     "iopub.status.busy": "2023-07-17T11:16:24.786983Z",
     "iopub.status.idle": "2023-07-17T11:16:24.789852Z",
     "shell.execute_reply": "2023-07-17T11:16:24.789553Z"
    }
   },
   "outputs": [
    {
     "data": {
      "text/plain": [
       "0.9292257327512687"
      ]
     },
     "execution_count": 10,
     "metadata": {},
     "output_type": "execute_result"
    }
   ],
   "source": [
    "fitted.total_length(length_as=\"paralinear\")"
   ]
  },
  {
   "cell_type": "code",
   "execution_count": 11,
   "id": "8ae1032f",
   "metadata": {
    "execution": {
     "iopub.execute_input": "2023-07-17T11:16:24.791167Z",
     "iopub.status.busy": "2023-07-17T11:16:24.791089Z",
     "iopub.status.idle": "2023-07-17T11:16:25.292710Z",
     "shell.execute_reply": "2023-07-17T11:16:25.292496Z"
    }
   },
   "outputs": [
    {
     "data": {
      "text/html": [
       "\n",
       "<div class=\"c3table\">\n",
       "\n",
       "<style>\n",
       ".c3table table {margin: 10px 0;}\n",
       ".c3table tr:last-child {border-bottom: 1px solid #000;} \n",
       ".c3table tr > th {text-align: left; padding: 0 5px;}\n",
       ".c3table tr > td {text-align: left; padding: 5px;}\n",
       ".c3table tr:nth-child(even) {background: #f7f7f7 !important;}\n",
       ".c3table .ellipsis {background: rgba(0, 0, 0, .01);}\n",
       ".c3table .index {background: rgba(161, 195, 209, 0.0); margin: 10px; font-weight: 600;}\n",
       ".c3table .head_cell {background: rgba(161, 195, 209, 0.75); font-weight: bold; text-align: center;}\n",
       ".c3table caption {color: rgb(250, 250, 250); background: rgba(30, 140, 200, 1); padding: 3px; white-space: nowrap; caption-side: top;}\n",
       ".c3table .cell_title {font-weight: bold;}\n",
       ".c3col_left { text-align: left !important; display: block;}\n",
       ".c3col_right { text-align: right !important; display: block;}\n",
       ".c3col_center { text-align: center !important; display: block;}\n",
       "</style>\n",
       "\n",
       "<table>\n",
       "\n",
       "<caption>\n",
       "<span class=\"cell_title\">GN</span>\n",
       "</caption>\n",
       "<thead class=\"head_cell\">\n",
       "<th>key</th><th>lnL</th><th>nfp</th><th>DLC</th><th>unique_Q</th>\n",
       "</thead>\n",
       "<tbody>\n",
       "<tr><td><span class=\"c3col_left\">''</span></td><td><span class=\"c3col_right\">-5867.4461</span></td><td><span class=\"c3col_right\">42</span></td><td><span class=\"c3col_left\">True</span></td><td><span class=\"c3col_left\">True</span></td></tr>\n",
       "<tr><td><span class=\"c3col_left\">1</span></td><td><span class=\"c3col_right\">-1955.7571</span></td><td><span class=\"c3col_right\">14</span></td><td><span class=\"c3col_left\"></span></td><td><span class=\"c3col_left\"></span></td></tr>\n",
       "<tr><td><span class=\"c3col_left\">2</span></td><td><span class=\"c3col_right\">-1934.2690</span></td><td><span class=\"c3col_right\">14</span></td><td><span class=\"c3col_left\"></span></td><td><span class=\"c3col_left\"></span></td></tr>\n",
       "<tr><td><span class=\"c3col_left\">3</span></td><td><span class=\"c3col_right\">-1977.4200</span></td><td><span class=\"c3col_right\">14</span></td><td><span class=\"c3col_left\"></span></td><td><span class=\"c3col_left\"></span></td></tr>\n",
       "</tbody>\n",
       "</table>\n",
       "\n",
       "</div>"
      ],
      "text/plain": [
       "GN\n",
       "===========================================\n",
       "key           lnL    nfp    DLC    unique_Q\n",
       "-------------------------------------------\n",
       "''     -5867.4461     42    1      1       \n",
       "1      -1955.7571     14                   \n",
       "2      -1934.2690     14                   \n",
       "3      -1977.4200     14                   \n",
       "-------------------------------------------\n",
       "\n",
       "4 rows x 5 columns"
      ]
     },
     "execution_count": 11,
     "metadata": {},
     "output_type": "execute_result"
    }
   ],
   "source": [
    "gn = get_app(\"model\", \"GN\", split_codons=True)\n",
    "\n",
    "fitted = gn(aln)\n",
    "fitted"
   ]
  },
  {
   "cell_type": "code",
   "execution_count": 12,
   "id": "efb0b9d0",
   "metadata": {
    "execution": {
     "iopub.execute_input": "2023-07-17T11:16:25.293885Z",
     "iopub.status.busy": "2023-07-17T11:16:25.293821Z",
     "iopub.status.idle": "2023-07-17T11:16:25.296808Z",
     "shell.execute_reply": "2023-07-17T11:16:25.296609Z"
    }
   },
   "outputs": [
    {
     "data": {
      "text/html": [
       "<h4>LF id: 3</h4>\n",
       "<p>log-likelihood = -1977.4200</p>\n",
       "<p>number of free parameters = 14</p>\n",
       "\n",
       "<div class=\"c3table\">\n",
       "\n",
       "<style>\n",
       ".c3table table {margin: 10px 0;}\n",
       ".c3table tr:last-child {border-bottom: 1px solid #000;} \n",
       ".c3table tr > th {text-align: left; padding: 0 5px;}\n",
       ".c3table tr > td {text-align: left; padding: 5px;}\n",
       ".c3table tr:nth-child(even) {background: #f7f7f7 !important;}\n",
       ".c3table .ellipsis {background: rgba(0, 0, 0, .01);}\n",
       ".c3table .index {background: rgba(161, 195, 209, 0.0); margin: 10px; font-weight: 600;}\n",
       ".c3table .head_cell {background: rgba(161, 195, 209, 0.75); font-weight: bold; text-align: center;}\n",
       ".c3table caption {color: rgb(250, 250, 250); background: rgba(30, 140, 200, 1); padding: 3px; white-space: nowrap; caption-side: top;}\n",
       ".c3table .cell_title {font-weight: bold;}\n",
       ".c3col_left { text-align: left !important; display: block;}\n",
       ".c3col_right { text-align: right !important; display: block;}\n",
       ".c3col_center { text-align: center !important; display: block;}\n",
       "</style>\n",
       "\n",
       "<table>\n",
       "\n",
       "<caption>\n",
       "<span class=\"cell_title\">Global params</span>\n",
       "</caption>\n",
       "<thead class=\"head_cell\">\n",
       "<th>A>C</th><th>A>G</th><th>A>T</th><th>C>A</th><th>C>G</th><th>C>T</th><th>G>A</th><th>G>C</th><th>G>T</th>\n",
       "</thead>\n",
       "<tbody>\n",
       "<tr><td><span class=\"c3col_right\">1.7529</span></td><td><span class=\"c3col_right\">3.4660</span></td><td><span class=\"c3col_right\">2.4151</span></td><td><span class=\"c3col_right\">2.3739</span></td><td><span class=\"c3col_right\">3.4118</span></td><td><span class=\"c3col_right\">16.1258</span></td><td><span class=\"c3col_right\">16.8499</span></td><td><span class=\"c3col_right\">2.0220</span></td><td><span class=\"c3col_right\">1.7348</span></td></tr>\n",
       "</tbody>\n",
       "</table>\n",
       "\n",
       "<table>\n",
       "\n",
       "<caption>\n",
       "<span class=\"cell_title\">continuation</span>\n",
       "</caption>\n",
       "<thead class=\"head_cell\">\n",
       "<th>T>A</th><th>T>C</th>\n",
       "</thead>\n",
       "<tbody>\n",
       "<tr><td><span class=\"c3col_right\">1.9255</span></td><td><span class=\"c3col_right\">5.2915</span></td></tr>\n",
       "</tbody>\n",
       "</table>\n",
       "\n",
       "</div>\n",
       "\n",
       "<div class=\"c3table\">\n",
       "\n",
       "<style>\n",
       ".c3table table {margin: 10px 0;}\n",
       ".c3table tr:last-child {border-bottom: 1px solid #000;} \n",
       ".c3table tr > th {text-align: left; padding: 0 5px;}\n",
       ".c3table tr > td {text-align: left; padding: 5px;}\n",
       ".c3table tr:nth-child(even) {background: #f7f7f7 !important;}\n",
       ".c3table .ellipsis {background: rgba(0, 0, 0, .01);}\n",
       ".c3table .index {background: rgba(161, 195, 209, 0.0); margin: 10px; font-weight: 600;}\n",
       ".c3table .head_cell {background: rgba(161, 195, 209, 0.75); font-weight: bold; text-align: center;}\n",
       ".c3table caption {color: rgb(250, 250, 250); background: rgba(30, 140, 200, 1); padding: 3px; white-space: nowrap; caption-side: top;}\n",
       ".c3table .cell_title {font-weight: bold;}\n",
       ".c3col_left { text-align: left !important; display: block;}\n",
       ".c3col_right { text-align: right !important; display: block;}\n",
       ".c3col_center { text-align: center !important; display: block;}\n",
       "</style>\n",
       "\n",
       "<table>\n",
       "\n",
       "<caption>\n",
       "<span class=\"cell_title\">Edge params</span>\n",
       "</caption>\n",
       "<thead class=\"head_cell\">\n",
       "<th>edge</th><th>parent</th><th>length</th>\n",
       "</thead>\n",
       "<tbody>\n",
       "<tr><td><span class=\"c3col_left\">Human</span></td><td><span class=\"c3col_left\">root</span></td><td><span class=\"c3col_right\">0.0239</span></td></tr>\n",
       "<tr><td><span class=\"c3col_left\">Rhesus</span></td><td><span class=\"c3col_left\">root</span></td><td><span class=\"c3col_right\">0.0316</span></td></tr>\n",
       "<tr><td><span class=\"c3col_left\">Galago</span></td><td><span class=\"c3col_left\">root</span></td><td><span class=\"c3col_right\">0.1777</span></td></tr>\n",
       "</tbody>\n",
       "</table>\n",
       "\n",
       "</div>\n",
       "\n",
       "<div class=\"c3table\">\n",
       "\n",
       "<style>\n",
       ".c3table table {margin: 10px 0;}\n",
       ".c3table tr:last-child {border-bottom: 1px solid #000;} \n",
       ".c3table tr > th {text-align: left; padding: 0 5px;}\n",
       ".c3table tr > td {text-align: left; padding: 5px;}\n",
       ".c3table tr:nth-child(even) {background: #f7f7f7 !important;}\n",
       ".c3table .ellipsis {background: rgba(0, 0, 0, .01);}\n",
       ".c3table .index {background: rgba(161, 195, 209, 0.0); margin: 10px; font-weight: 600;}\n",
       ".c3table .head_cell {background: rgba(161, 195, 209, 0.75); font-weight: bold; text-align: center;}\n",
       ".c3table caption {color: rgb(250, 250, 250); background: rgba(30, 140, 200, 1); padding: 3px; white-space: nowrap; caption-side: top;}\n",
       ".c3table .cell_title {font-weight: bold;}\n",
       ".c3col_left { text-align: left !important; display: block;}\n",
       ".c3col_right { text-align: right !important; display: block;}\n",
       ".c3col_center { text-align: center !important; display: block;}\n",
       "</style>\n",
       "\n",
       "<table>\n",
       "\n",
       "<caption>\n",
       "<span class=\"cell_title\">Motif params</span>\n",
       "</caption>\n",
       "<thead class=\"head_cell\">\n",
       "<th>A</th><th>C</th><th>G</th><th>T</th>\n",
       "</thead>\n",
       "<tbody>\n",
       "<tr><td><span class=\"c3col_right\">0.3443</span></td><td><span class=\"c3col_right\">0.1382</span></td><td><span class=\"c3col_right\">0.1567</span></td><td><span class=\"c3col_right\">0.3607</span></td></tr>\n",
       "</tbody>\n",
       "</table>\n",
       "\n",
       "</div>"
      ],
      "text/plain": [
       "LF id: 3\n",
       "log-likelihood = -1977.4200\n",
       "number of free parameters = 14\n",
       "====================================================================\n",
       "   A>C       A>G       A>T       C>A       C>G        C>T        G>A\n",
       "--------------------------------------------------------------------\n",
       "1.7529    3.4660    2.4151    2.3739    3.4118    16.1258    16.8499\n",
       "--------------------------------------------------------------------\n",
       "\n",
       "continued: \n",
       "====================================\n",
       "   G>C       G>T       T>A       T>C\n",
       "------------------------------------\n",
       "2.0220    1.7348    1.9255    5.2915\n",
       "------------------------------------\n",
       "\n",
       "==========================\n",
       "edge      parent    length\n",
       "--------------------------\n",
       "Human     root      0.0239\n",
       "Rhesus    root      0.0316\n",
       "Galago    root      0.1777\n",
       "--------------------------\n",
       "====================================\n",
       "     A         C         G         T\n",
       "------------------------------------\n",
       "0.3443    0.1382    0.1567    0.3607\n",
       "------------------------------------"
      ]
     },
     "execution_count": 12,
     "metadata": {},
     "output_type": "execute_result"
    }
   ],
   "source": [
    "fitted[3]"
   ]
  }
 ],
 "metadata": {
  "kernelspec": {
   "display_name": "Python 3 (ipykernel)",
   "language": "python",
   "name": "python3"
  },
  "language_info": {
   "codemirror_mode": {
    "name": "ipython",
    "version": 3
   },
   "file_extension": ".py",
   "mimetype": "text/x-python",
   "name": "python",
   "nbconvert_exporter": "python",
   "pygments_lexer": "ipython3",
   "version": "3.11.4"
  }
 },
 "nbformat": 4,
 "nbformat_minor": 5
}