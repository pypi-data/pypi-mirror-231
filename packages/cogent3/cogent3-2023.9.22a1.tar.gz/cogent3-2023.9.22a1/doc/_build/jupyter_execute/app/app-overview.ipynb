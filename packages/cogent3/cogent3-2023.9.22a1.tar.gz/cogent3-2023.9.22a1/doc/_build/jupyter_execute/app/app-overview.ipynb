{
 "cells": [
  {
   "cell_type": "code",
   "execution_count": 1,
   "id": "d5a40537",
   "metadata": {
    "execution": {
     "iopub.execute_input": "2023-07-17T11:15:57.611315Z",
     "iopub.status.busy": "2023-07-17T11:15:57.610580Z",
     "iopub.status.idle": "2023-07-17T11:15:57.624523Z",
     "shell.execute_reply": "2023-07-17T11:15:57.624124Z"
    }
   },
   "outputs": [],
   "source": [
    "import set_working_directory"
   ]
  },
  {
   "cell_type": "code",
   "execution_count": 2,
   "id": "860e06e1",
   "metadata": {
    "execution": {
     "iopub.execute_input": "2023-07-17T11:15:57.627012Z",
     "iopub.status.busy": "2023-07-17T11:15:57.626833Z",
     "iopub.status.idle": "2023-07-17T11:15:57.629725Z",
     "shell.execute_reply": "2023-07-17T11:15:57.629370Z"
    }
   },
   "outputs": [],
   "source": [
    "from pathlib import Path\n",
    "from tempfile import TemporaryDirectory\n",
    "\n",
    "tmpdir = TemporaryDirectory(dir=\".\")\n",
    "path_to_dir = tmpdir.name"
   ]
  },
  {
   "cell_type": "code",
   "execution_count": 3,
   "id": "6588dc55",
   "metadata": {
    "execution": {
     "iopub.execute_input": "2023-07-17T11:15:57.631605Z",
     "iopub.status.busy": "2023-07-17T11:15:57.631457Z",
     "iopub.status.idle": "2023-07-17T11:15:58.509933Z",
     "shell.execute_reply": "2023-07-17T11:15:58.509597Z"
    }
   },
   "outputs": [],
   "source": [
    "from cogent3 import get_app, open_data_store\n",
    "\n",
    "out_dstore = open_data_store(path_to_dir, suffix=\"fa\", mode=\"w\")\n",
    "\n",
    "loader = get_app(\"load_aligned\", format=\"fasta\", moltype=\"dna\")\n",
    "cpos3 = get_app(\"take_codon_positions\", 3)\n",
    "writer = get_app(\"write_seqs\", out_dstore, format=\"fasta\")"
   ]
  },
  {
   "cell_type": "code",
   "execution_count": 4,
   "id": "228e4946",
   "metadata": {
    "execution": {
     "iopub.execute_input": "2023-07-17T11:15:58.511385Z",
     "iopub.status.busy": "2023-07-17T11:15:58.511287Z",
     "iopub.status.idle": "2023-07-17T11:15:58.516704Z",
     "shell.execute_reply": "2023-07-17T11:15:58.516493Z"
    }
   },
   "outputs": [],
   "source": [
    "data = loader(\"data/primate_brca1.fasta\")\n",
    "just3rd = cpos3(data)\n",
    "m = writer(just3rd)"
   ]
  },
  {
   "cell_type": "code",
   "execution_count": 5,
   "id": "841aadce",
   "metadata": {
    "execution": {
     "iopub.execute_input": "2023-07-17T11:15:58.517860Z",
     "iopub.status.busy": "2023-07-17T11:15:58.517792Z",
     "iopub.status.idle": "2023-07-17T11:15:58.521461Z",
     "shell.execute_reply": "2023-07-17T11:15:58.521229Z"
    }
   },
   "outputs": [],
   "source": [
    "process = loader + cpos3 + writer\n",
    "m = process(\"data/primate_brca1.fasta\")"
   ]
  },
  {
   "cell_type": "code",
   "execution_count": 6,
   "id": "1dd1fa59",
   "metadata": {
    "execution": {
     "iopub.execute_input": "2023-07-17T11:15:58.522490Z",
     "iopub.status.busy": "2023-07-17T11:15:58.522428Z",
     "iopub.status.idle": "2023-07-17T11:15:58.557042Z",
     "shell.execute_reply": "2023-07-17T11:15:58.556843Z"
    }
   },
   "outputs": [],
   "source": [
    "dstore = open_data_store(\"data\", suffix=\"fasta\", mode=\"r\")\n",
    "result = process.apply_to(dstore)"
   ]
  },
  {
   "cell_type": "code",
   "execution_count": 7,
   "id": "a3242736",
   "metadata": {
    "execution": {
     "iopub.execute_input": "2023-07-17T11:15:58.558172Z",
     "iopub.status.busy": "2023-07-17T11:15:58.558098Z",
     "iopub.status.idle": "2023-07-17T11:15:58.563180Z",
     "shell.execute_reply": "2023-07-17T11:15:58.562983Z"
    }
   },
   "outputs": [
    {
     "data": {
      "text/html": [
       "\n",
       "<div class=\"c3table\">\n",
       "\n",
       "<style>\n",
       ".c3table table {margin: 10px 0;}\n",
       ".c3table tr:last-child {border-bottom: 1px solid #000;} \n",
       ".c3table tr > th {text-align: left; padding: 0 5px;}\n",
       ".c3table tr > td {text-align: left; padding: 5px;}\n",
       ".c3table tr:nth-child(even) {background: #f7f7f7 !important;}\n",
       ".c3table .ellipsis {background: rgba(0, 0, 0, .01);}\n",
       ".c3table .index {background: rgba(161, 195, 209, 0.0); margin: 10px; font-weight: 600;}\n",
       ".c3table .head_cell {background: rgba(161, 195, 209, 0.75); font-weight: bold; text-align: center;}\n",
       ".c3table caption {color: rgb(250, 250, 250); background: rgba(30, 140, 200, 1); padding: 3px; white-space: nowrap; caption-side: top;}\n",
       ".c3table .cell_title {font-weight: bold;}\n",
       ".c3col_left { text-align: left !important; display: block;}\n",
       ".c3col_right { text-align: right !important; display: block;}\n",
       ".c3col_center { text-align: center !important; display: block;}\n",
       "</style>\n",
       "\n",
       "<table>\n",
       "\n",
       "<caption>\n",
       "<span class=\"cell_title\">summary of log files</span>\n",
       "</caption>\n",
       "<thead class=\"head_cell\">\n",
       "<th>time</th><th>name</th><th>python version</th><th>who</th><th>command</th><th>composable</th>\n",
       "</thead>\n",
       "<tbody>\n",
       "<tr><td><span class=\"c3col_left\">2023-07-17 21:15:58</span></td><td><span class=\"c3col_left\">logs/load_aligned-take_codon_positions-write_seqs-9e65afc7.log</span></td><td><span class=\"c3col_left\">3.11.4</span></td><td><span class=\"c3col_left\">gavin</span></td><td><span class=\"c3col_left\">/Users/gavin/miniconda3/envs/c3docs/lib/python3.11/site-packages/ipykernel_launcher.py -f /private/var/folders/ng/j9jf_xhs4ws3vntgsq9hnnp00000gp/T/tmpwv1by2em.json --HistoryManager.hist_file=:memory:</span></td><td><span class=\"c3col_left\">load_aligned(moltype='dna', format='fasta') +take_codon_positions(positions=(3,), fourfold_degenerate=False, gc='Standard',moltype='dna') +write_seqs(data_store=DataStoreDirectory(source=/Users/gavin/repos/Cogent3/doc/tmp2d0u2tdb,mode=Mode.w, suffix=fa, limit=None, verbose=False), id_from_source=<functionget_unique_id at 0x129d1c680>, format='fasta')</span></td></tr>\n",
       "</tbody>\n",
       "</table>\n",
       "<p>\n",
       "1 rows x 6 columns</p>\n",
       "</div>"
      ],
      "text/plain": [
       "summary of log files\n",
       "===============================================================================================================================================================================================================================================================================================================================================================================================================================================================================================================================================================================================================================================================================================\n",
       "time                   name                                                              python version    who      command                                                                                                                                                                                                    composable                                                                                                                                                                                                                                                                                                                                                      \n",
       "-----------------------------------------------------------------------------------------------------------------------------------------------------------------------------------------------------------------------------------------------------------------------------------------------------------------------------------------------------------------------------------------------------------------------------------------------------------------------------------------------------------------------------------------------------------------------------------------------------------------------------------------------------------------------------------------------\n",
       "2023-07-17 21:15:58    logs/load_aligned-take_codon_positions-write_seqs-9e65afc7.log    3.11.4            gavin    /Users/gavin/miniconda3/envs/c3docs/lib/python3.11/site-packages/ipykernel_launcher.py -f /private/var/folders/ng/j9jf_xhs4ws3vntgsq9hnnp00000gp/T/tmpwv1by2em.json --HistoryManager.hist_file=:memory:    load_aligned(moltype='dna', format='fasta') +take_codon_positions(positions=(3,), fourfold_degenerate=False, gc='Standard',moltype='dna') +write_seqs(data_store=DataStoreDirectory(source=/Users/gavin/repos/Cogent3/doc/tmp2d0u2tdb,mode=Mode.w, suffix=fa, limit=None, verbose=False), id_from_source=<functionget_unique_id at 0x129d1c680>, format='fasta')\n",
       "-----------------------------------------------------------------------------------------------------------------------------------------------------------------------------------------------------------------------------------------------------------------------------------------------------------------------------------------------------------------------------------------------------------------------------------------------------------------------------------------------------------------------------------------------------------------------------------------------------------------------------------------------------------------------------------------------\n",
       "\n",
       "1 rows x 6 columns"
      ]
     },
     "execution_count": 7,
     "metadata": {},
     "output_type": "execute_result"
    }
   ],
   "source": [
    "out_dstore.summary_logs"
   ]
  },
  {
   "cell_type": "code",
   "execution_count": 8,
   "id": "e991e871",
   "metadata": {
    "execution": {
     "iopub.execute_input": "2023-07-17T11:15:58.564215Z",
     "iopub.status.busy": "2023-07-17T11:15:58.564140Z",
     "iopub.status.idle": "2023-07-17T11:15:58.566221Z",
     "shell.execute_reply": "2023-07-17T11:15:58.566045Z"
    }
   },
   "outputs": [
    {
     "data": {
      "text/html": [
       "\n",
       "<div class=\"c3table\">\n",
       "\n",
       "<style>\n",
       ".c3table table {margin: 10px 0;}\n",
       ".c3table tr:last-child {border-bottom: 1px solid #000;} \n",
       ".c3table tr > th {text-align: left; padding: 0 5px;}\n",
       ".c3table tr > td {text-align: left; padding: 5px;}\n",
       ".c3table tr:nth-child(even) {background: #f7f7f7 !important;}\n",
       ".c3table .ellipsis {background: rgba(0, 0, 0, .01);}\n",
       ".c3table .index {background: rgba(161, 195, 209, 0.0); margin: 10px; font-weight: 600;}\n",
       ".c3table .head_cell {background: rgba(161, 195, 209, 0.75); font-weight: bold; text-align: center;}\n",
       ".c3table caption {color: rgb(250, 250, 250); background: rgba(30, 140, 200, 1); padding: 3px; white-space: nowrap; caption-side: top;}\n",
       ".c3table .cell_title {font-weight: bold;}\n",
       ".c3col_left { text-align: left !important; display: block;}\n",
       ".c3col_right { text-align: right !important; display: block;}\n",
       ".c3col_center { text-align: center !important; display: block;}\n",
       "</style>\n",
       "\n",
       "<table>\n",
       "\n",
       "<caption>\n",
       "<span class=\"cell_title\">Directory datastore</span>\n",
       "</caption>\n",
       "<thead class=\"head_cell\">\n",
       "<th>record type</th><th>number</th>\n",
       "</thead>\n",
       "<tbody>\n",
       "<tr><td><span class=\"c3col_left\">completed</span></td><td><span class=\"c3col_right\">7</span></td></tr>\n",
       "<tr><td><span class=\"c3col_left\">not_completed</span></td><td><span class=\"c3col_right\">6</span></td></tr>\n",
       "<tr><td><span class=\"c3col_left\">logs</span></td><td><span class=\"c3col_right\">1</span></td></tr>\n",
       "</tbody>\n",
       "</table>\n",
       "<p>\n",
       "3 rows x 2 columns</p>\n",
       "</div>"
      ],
      "text/plain": [
       "Directory datastore\n",
       "=======================\n",
       "record type      number\n",
       "-----------------------\n",
       "completed             7\n",
       "not_completed         6\n",
       "logs                  1\n",
       "-----------------------\n",
       "\n",
       "3 rows x 2 columns"
      ]
     },
     "execution_count": 8,
     "metadata": {},
     "output_type": "execute_result"
    }
   ],
   "source": [
    "out_dstore.describe"
   ]
  },
  {
   "cell_type": "code",
   "execution_count": 9,
   "id": "b8c89c91",
   "metadata": {
    "execution": {
     "iopub.execute_input": "2023-07-17T11:15:58.567199Z",
     "iopub.status.busy": "2023-07-17T11:15:58.567141Z",
     "iopub.status.idle": "2023-07-17T11:15:58.627575Z",
     "shell.execute_reply": "2023-07-17T11:15:58.627325Z"
    }
   },
   "outputs": [
    {
     "data": {
      "text/html": [
       "\n",
       "<div class=\"c3table\">\n",
       "\n",
       "<style>\n",
       ".c3table table {margin: 10px 0;}\n",
       ".c3table tr:last-child {border-bottom: 1px solid #000;} \n",
       ".c3table tr > th {text-align: left; padding: 0 5px;}\n",
       ".c3table tr > td {text-align: left; padding: 5px;}\n",
       ".c3table tr:nth-child(even) {background: #f7f7f7 !important;}\n",
       ".c3table .ellipsis {background: rgba(0, 0, 0, .01);}\n",
       ".c3table .index {background: rgba(161, 195, 209, 0.0); margin: 10px; font-weight: 600;}\n",
       ".c3table .head_cell {background: rgba(161, 195, 209, 0.75); font-weight: bold; text-align: center;}\n",
       ".c3table caption {color: rgb(250, 250, 250); background: rgba(30, 140, 200, 1); padding: 3px; white-space: nowrap; caption-side: top;}\n",
       ".c3table .cell_title {font-weight: bold;}\n",
       ".c3col_left { text-align: left !important; display: block;}\n",
       ".c3col_right { text-align: right !important; display: block;}\n",
       ".c3col_center { text-align: center !important; display: block;}\n",
       "</style>\n",
       "\n",
       "<table>\n",
       "\n",
       "<caption>\n",
       "<span class=\"cell_title\">not completed records</span>\n",
       "</caption>\n",
       "<thead class=\"head_cell\">\n",
       "<th>type</th><th>origin</th><th>message</th><th>num</th><th>source</th>\n",
       "</thead>\n",
       "<tbody>\n",
       "<tr><td><span class=\"c3col_left\">ERROR</span></td><td><span class=\"c3col_left\">load_aligned</span></td><td><span class=\"c3col_left\">\"ValueError: not all ...ength, KeyError: 'U'\"</span></td><td><span class=\"c3col_right\">6</span></td><td><span class=\"c3col_left\">SCA1-cds.fasta, inseqs_protein.fasta, ...</span></td></tr>\n",
       "</tbody>\n",
       "</table>\n",
       "<p>\n",
       "1 rows x 5 columns</p>\n",
       "</div>"
      ],
      "text/plain": [
       "not completed records\n",
       "==========================================================================================================================\n",
       "type     origin          message                                          num    source                                   \n",
       "--------------------------------------------------------------------------------------------------------------------------\n",
       "ERROR    load_aligned    \"ValueError: not all ...ength, KeyError: 'U'\"      6    SCA1-cds.fasta, inseqs_protein.fasta, ...\n",
       "--------------------------------------------------------------------------------------------------------------------------\n",
       "\n",
       "1 rows x 5 columns"
      ]
     },
     "execution_count": 9,
     "metadata": {},
     "output_type": "execute_result"
    }
   ],
   "source": [
    "out_dstore.summary_not_completed"
   ]
  },
  {
   "cell_type": "code",
   "execution_count": 10,
   "id": "72584f9b",
   "metadata": {
    "execution": {
     "iopub.execute_input": "2023-07-17T11:15:58.628871Z",
     "iopub.status.busy": "2023-07-17T11:15:58.628792Z",
     "iopub.status.idle": "2023-07-17T11:15:58.775861Z",
     "shell.execute_reply": "2023-07-17T11:15:58.775526Z"
    }
   },
   "outputs": [
    {
     "data": {
      "application/vnd.jupyter.widget-view+json": {
       "model_id": "7fa2a7c374eb452c9de81e123bc3abc0",
       "version_major": 2,
       "version_minor": 0
      },
      "text/plain": [
       "   0%|                                                                                                        …"
      ]
     },
     "metadata": {},
     "output_type": "display_data"
    }
   ],
   "source": [
    "result = process.apply_to(dstore, show_progress=True)"
   ]
  },
  {
   "cell_type": "code",
   "execution_count": 11,
   "id": "507c7db2",
   "metadata": {
    "execution": {
     "iopub.execute_input": "2023-07-17T11:15:58.777662Z",
     "iopub.status.busy": "2023-07-17T11:15:58.777521Z",
     "iopub.status.idle": "2023-07-17T11:15:58.781844Z",
     "shell.execute_reply": "2023-07-17T11:15:58.781561Z"
    }
   },
   "outputs": [],
   "source": [
    "import shutil\n",
    "\n",
    "shutil.rmtree(path_to_dir, ignore_errors=True)"
   ]
  }
 ],
 "metadata": {
  "kernelspec": {
   "display_name": "Python 3 (ipykernel)",
   "language": "python",
   "name": "python3"
  },
  "language_info": {
   "codemirror_mode": {
    "name": "ipython",
    "version": 3
   },
   "file_extension": ".py",
   "mimetype": "text/x-python",
   "name": "python",
   "nbconvert_exporter": "python",
   "pygments_lexer": "ipython3",
   "version": "3.11.4"
  },
  "widgets": {
   "application/vnd.jupyter.widget-state+json": {
    "state": {
     "038653da3ed24604b6282bec744816b4": {
      "model_module": "@jupyter-widgets/controls",
      "model_module_version": "2.0.0",
      "model_name": "HTMLStyleModel",
      "state": {
       "_model_module": "@jupyter-widgets/controls",
       "_model_module_version": "2.0.0",
       "_model_name": "HTMLStyleModel",
       "_view_count": null,
       "_view_module": "@jupyter-widgets/base",
       "_view_module_version": "2.0.0",
       "_view_name": "StyleView",
       "background": null,
       "description_width": "",
       "font_size": null,
       "text_color": null
      }
     },
     "05533d209d6c43b5ac19bc0a494b2aea": {
      "model_module": "@jupyter-widgets/controls",
      "model_module_version": "2.0.0",
      "model_name": "ProgressStyleModel",
      "state": {
       "_model_module": "@jupyter-widgets/controls",
       "_model_module_version": "2.0.0",
       "_model_name": "ProgressStyleModel",
       "_view_count": null,
       "_view_module": "@jupyter-widgets/base",
       "_view_module_version": "2.0.0",
       "_view_name": "StyleView",
       "bar_color": null,
       "description_width": ""
      }
     },
     "073d3aa285f44438b03d0695b977aa9b": {
      "model_module": "@jupyter-widgets/base",
      "model_module_version": "2.0.0",
      "model_name": "LayoutModel",
      "state": {
       "_model_module": "@jupyter-widgets/base",
       "_model_module_version": "2.0.0",
       "_model_name": "LayoutModel",
       "_view_count": null,
       "_view_module": "@jupyter-widgets/base",
       "_view_module_version": "2.0.0",
       "_view_name": "LayoutView",
       "align_content": null,
       "align_items": null,
       "align_self": null,
       "border_bottom": null,
       "border_left": null,
       "border_right": null,
       "border_top": null,
       "bottom": null,
       "display": null,
       "flex": "2",
       "flex_flow": null,
       "grid_area": null,
       "grid_auto_columns": null,
       "grid_auto_flow": null,
       "grid_auto_rows": null,
       "grid_column": null,
       "grid_gap": null,
       "grid_row": null,
       "grid_template_areas": null,
       "grid_template_columns": null,
       "grid_template_rows": null,
       "height": null,
       "justify_content": null,
       "justify_items": null,
       "left": null,
       "margin": null,
       "max_height": null,
       "max_width": null,
       "min_height": null,
       "min_width": null,
       "object_fit": null,
       "object_position": null,
       "order": null,
       "overflow": null,
       "padding": null,
       "right": null,
       "top": null,
       "visibility": null,
       "width": null
      }
     },
     "1932aace954f40c0afe1f49e71439e37": {
      "model_module": "@jupyter-widgets/controls",
      "model_module_version": "2.0.0",
      "model_name": "HTMLStyleModel",
      "state": {
       "_model_module": "@jupyter-widgets/controls",
       "_model_module_version": "2.0.0",
       "_model_name": "HTMLStyleModel",
       "_view_count": null,
       "_view_module": "@jupyter-widgets/base",
       "_view_module_version": "2.0.0",
       "_view_name": "StyleView",
       "background": null,
       "description_width": "",
       "font_size": null,
       "text_color": null
      }
     },
     "23b0df58d7ff49b5a5b7783a662b163a": {
      "model_module": "@jupyter-widgets/base",
      "model_module_version": "2.0.0",
      "model_name": "LayoutModel",
      "state": {
       "_model_module": "@jupyter-widgets/base",
       "_model_module_version": "2.0.0",
       "_model_name": "LayoutModel",
       "_view_count": null,
       "_view_module": "@jupyter-widgets/base",
       "_view_module_version": "2.0.0",
       "_view_name": "LayoutView",
       "align_content": null,
       "align_items": null,
       "align_self": null,
       "border_bottom": null,
       "border_left": null,
       "border_right": null,
       "border_top": null,
       "bottom": null,
       "display": null,
       "flex": null,
       "flex_flow": null,
       "grid_area": null,
       "grid_auto_columns": null,
       "grid_auto_flow": null,
       "grid_auto_rows": null,
       "grid_column": null,
       "grid_gap": null,
       "grid_row": null,
       "grid_template_areas": null,
       "grid_template_columns": null,
       "grid_template_rows": null,
       "height": null,
       "justify_content": null,
       "justify_items": null,
       "left": null,
       "margin": null,
       "max_height": null,
       "max_width": null,
       "min_height": null,
       "min_width": null,
       "object_fit": null,
       "object_position": null,
       "order": null,
       "overflow": null,
       "padding": null,
       "right": null,
       "top": null,
       "visibility": null,
       "width": null
      }
     },
     "35cf7e9377f94e46b4c0810fe25659ab": {
      "model_module": "@jupyter-widgets/base",
      "model_module_version": "2.0.0",
      "model_name": "LayoutModel",
      "state": {
       "_model_module": "@jupyter-widgets/base",
       "_model_module_version": "2.0.0",
       "_model_name": "LayoutModel",
       "_view_count": null,
       "_view_module": "@jupyter-widgets/base",
       "_view_module_version": "2.0.0",
       "_view_name": "LayoutView",
       "align_content": null,
       "align_items": null,
       "align_self": null,
       "border_bottom": null,
       "border_left": null,
       "border_right": null,
       "border_top": null,
       "bottom": null,
       "display": null,
       "flex": null,
       "flex_flow": null,
       "grid_area": null,
       "grid_auto_columns": null,
       "grid_auto_flow": null,
       "grid_auto_rows": null,
       "grid_column": null,
       "grid_gap": null,
       "grid_row": null,
       "grid_template_areas": null,
       "grid_template_columns": null,
       "grid_template_rows": null,
       "height": null,
       "justify_content": null,
       "justify_items": null,
       "left": null,
       "margin": null,
       "max_height": null,
       "max_width": null,
       "min_height": null,
       "min_width": null,
       "object_fit": null,
       "object_position": null,
       "order": null,
       "overflow": null,
       "padding": null,
       "right": null,
       "top": null,
       "visibility": null,
       "width": null
      }
     },
     "360c738f20564b75a43d9906d52f0c06": {
      "model_module": "@jupyter-widgets/controls",
      "model_module_version": "2.0.0",
      "model_name": "HTMLModel",
      "state": {
       "_dom_classes": [],
       "_model_module": "@jupyter-widgets/controls",
       "_model_module_version": "2.0.0",
       "_model_name": "HTMLModel",
       "_view_count": null,
       "_view_module": "@jupyter-widgets/controls",
       "_view_module_version": "2.0.0",
       "_view_name": "HTMLView",
       "description": "",
       "description_allow_html": false,
       "layout": "IPY_MODEL_35cf7e9377f94e46b4c0810fe25659ab",
       "placeholder": "​",
       "style": "IPY_MODEL_1932aace954f40c0afe1f49e71439e37",
       "tabbable": null,
       "tooltip": null,
       "value": "00:00&lt;00:00"
      }
     },
     "3bf231d9b9d9448086f5e5e2c73d01a6": {
      "model_module": "@jupyter-widgets/controls",
      "model_module_version": "2.0.0",
      "model_name": "HTMLModel",
      "state": {
       "_dom_classes": [],
       "_model_module": "@jupyter-widgets/controls",
       "_model_module_version": "2.0.0",
       "_model_name": "HTMLModel",
       "_view_count": null,
       "_view_module": "@jupyter-widgets/controls",
       "_view_module_version": "2.0.0",
       "_view_name": "HTMLView",
       "description": "",
       "description_allow_html": false,
       "layout": "IPY_MODEL_23b0df58d7ff49b5a5b7783a662b163a",
       "placeholder": "​",
       "style": "IPY_MODEL_038653da3ed24604b6282bec744816b4",
       "tabbable": null,
       "tooltip": null,
       "value": "6/6:  100%"
      }
     },
     "7fa2a7c374eb452c9de81e123bc3abc0": {
      "model_module": "@jupyter-widgets/controls",
      "model_module_version": "2.0.0",
      "model_name": "HBoxModel",
      "state": {
       "_dom_classes": [],
       "_model_module": "@jupyter-widgets/controls",
       "_model_module_version": "2.0.0",
       "_model_name": "HBoxModel",
       "_view_count": null,
       "_view_module": "@jupyter-widgets/controls",
       "_view_module_version": "2.0.0",
       "_view_name": "HBoxView",
       "box_style": "",
       "children": [
        "IPY_MODEL_3bf231d9b9d9448086f5e5e2c73d01a6",
        "IPY_MODEL_b146c5fabef5407d8e0c4b9f6bc4529c",
        "IPY_MODEL_360c738f20564b75a43d9906d52f0c06"
       ],
       "layout": "IPY_MODEL_ef78fd77a1734fc8bf7196167dbe9da4",
       "tabbable": null,
       "tooltip": null
      }
     },
     "b146c5fabef5407d8e0c4b9f6bc4529c": {
      "model_module": "@jupyter-widgets/controls",
      "model_module_version": "2.0.0",
      "model_name": "FloatProgressModel",
      "state": {
       "_dom_classes": [],
       "_model_module": "@jupyter-widgets/controls",
       "_model_module_version": "2.0.0",
       "_model_name": "FloatProgressModel",
       "_view_count": null,
       "_view_module": "@jupyter-widgets/controls",
       "_view_module_version": "2.0.0",
       "_view_name": "ProgressView",
       "bar_style": "",
       "description": "",
       "description_allow_html": false,
       "layout": "IPY_MODEL_073d3aa285f44438b03d0695b977aa9b",
       "max": 1.0,
       "min": 0.0,
       "orientation": "horizontal",
       "style": "IPY_MODEL_05533d209d6c43b5ac19bc0a494b2aea",
       "tabbable": null,
       "tooltip": null,
       "value": 1.0
      }
     },
     "ef78fd77a1734fc8bf7196167dbe9da4": {
      "model_module": "@jupyter-widgets/base",
      "model_module_version": "2.0.0",
      "model_name": "LayoutModel",
      "state": {
       "_model_module": "@jupyter-widgets/base",
       "_model_module_version": "2.0.0",
       "_model_name": "LayoutModel",
       "_view_count": null,
       "_view_module": "@jupyter-widgets/base",
       "_view_module_version": "2.0.0",
       "_view_name": "LayoutView",
       "align_content": null,
       "align_items": null,
       "align_self": null,
       "border_bottom": null,
       "border_left": null,
       "border_right": null,
       "border_top": null,
       "bottom": null,
       "display": "inline-flex",
       "flex": null,
       "flex_flow": "row wrap",
       "grid_area": null,
       "grid_auto_columns": null,
       "grid_auto_flow": null,
       "grid_auto_rows": null,
       "grid_column": null,
       "grid_gap": null,
       "grid_row": null,
       "grid_template_areas": null,
       "grid_template_columns": null,
       "grid_template_rows": null,
       "height": null,
       "justify_content": null,
       "justify_items": null,
       "left": null,
       "margin": null,
       "max_height": null,
       "max_width": null,
       "min_height": null,
       "min_width": null,
       "object_fit": null,
       "object_position": null,
       "order": null,
       "overflow": null,
       "padding": null,
       "right": null,
       "top": null,
       "visibility": null,
       "width": "100%"
      }
     }
    },
    "version_major": 2,
    "version_minor": 0
   }
  }
 },
 "nbformat": 4,
 "nbformat_minor": 5
}