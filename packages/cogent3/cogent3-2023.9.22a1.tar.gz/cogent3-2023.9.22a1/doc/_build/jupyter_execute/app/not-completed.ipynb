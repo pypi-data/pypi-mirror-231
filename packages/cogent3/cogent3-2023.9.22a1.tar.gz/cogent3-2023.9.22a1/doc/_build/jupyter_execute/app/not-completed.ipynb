{
 "cells": [
  {
   "cell_type": "code",
   "execution_count": 1,
   "id": "8b9032ad",
   "metadata": {
    "execution": {
     "iopub.execute_input": "2023-07-17T11:20:29.751796Z",
     "iopub.status.busy": "2023-07-17T11:20:29.751383Z",
     "iopub.status.idle": "2023-07-17T11:20:29.769666Z",
     "shell.execute_reply": "2023-07-17T11:20:29.769133Z"
    }
   },
   "outputs": [],
   "source": [
    "import set_working_directory"
   ]
  },
  {
   "cell_type": "code",
   "execution_count": 2,
   "id": "ad91de11",
   "metadata": {
    "execution": {
     "iopub.execute_input": "2023-07-17T11:20:29.772507Z",
     "iopub.status.busy": "2023-07-17T11:20:29.772282Z",
     "iopub.status.idle": "2023-07-17T11:20:30.706022Z",
     "shell.execute_reply": "2023-07-17T11:20:30.705764Z"
    }
   },
   "outputs": [
    {
     "data": {
      "text/plain": [
       "NotCompleted(type=FALSE, origin=take_named_seqs, source=\"primate_brca1.fasta\", message=\"named seq(s) {'Mouse'} not in ['Chimpanzee', 'Galago', 'Gorilla', 'HowlerMon', 'Human', 'Orangutan', 'Rhesus']\")"
      ]
     },
     "execution_count": 2,
     "metadata": {},
     "output_type": "execute_result"
    }
   ],
   "source": [
    "from cogent3 import get_app\n",
    "\n",
    "reader = get_app(\"load_aligned\", format=\"fasta\")\n",
    "select_seqs = get_app(\"take_named_seqs\", \"Mouse\", \"Human\")\n",
    "aln = reader(\"data/primate_brca1.fasta\")\n",
    "result = select_seqs(aln)\n",
    "assert result == False\n",
    "result"
   ]
  },
  {
   "cell_type": "code",
   "execution_count": 3,
   "id": "1c89d4c2",
   "metadata": {
    "execution": {
     "iopub.execute_input": "2023-07-17T11:20:30.707375Z",
     "iopub.status.busy": "2023-07-17T11:20:30.707277Z",
     "iopub.status.idle": "2023-07-17T11:20:30.709354Z",
     "shell.execute_reply": "2023-07-17T11:20:30.709120Z"
    }
   },
   "outputs": [
    {
     "data": {
      "text/plain": [
       "'primate_brca1.fasta'"
      ]
     },
     "execution_count": 3,
     "metadata": {},
     "output_type": "execute_result"
    }
   ],
   "source": [
    "result.source"
   ]
  },
  {
   "cell_type": "code",
   "execution_count": 4,
   "id": "6e89371c",
   "metadata": {
    "execution": {
     "iopub.execute_input": "2023-07-17T11:20:30.710450Z",
     "iopub.status.busy": "2023-07-17T11:20:30.710387Z",
     "iopub.status.idle": "2023-07-17T11:20:30.712145Z",
     "shell.execute_reply": "2023-07-17T11:20:30.711945Z"
    }
   },
   "outputs": [
    {
     "data": {
      "text/plain": [
       "'take_named_seqs'"
      ]
     },
     "execution_count": 4,
     "metadata": {},
     "output_type": "execute_result"
    }
   ],
   "source": [
    "result.origin"
   ]
  },
  {
   "cell_type": "code",
   "execution_count": 5,
   "id": "5769d158",
   "metadata": {
    "execution": {
     "iopub.execute_input": "2023-07-17T11:20:30.713140Z",
     "iopub.status.busy": "2023-07-17T11:20:30.713080Z",
     "iopub.status.idle": "2023-07-17T11:20:30.714738Z",
     "shell.execute_reply": "2023-07-17T11:20:30.714534Z"
    }
   },
   "outputs": [
    {
     "data": {
      "text/plain": [
       "\"named seq(s) {'Mouse'} not in ['Chimpanzee', 'Galago', 'Gorilla', 'HowlerMon', 'Human', 'Orangutan', 'Rhesus']\""
      ]
     },
     "execution_count": 5,
     "metadata": {},
     "output_type": "execute_result"
    }
   ],
   "source": [
    "result.message"
   ]
  },
  {
   "cell_type": "code",
   "execution_count": 6,
   "id": "0f90bd4d",
   "metadata": {
    "execution": {
     "iopub.execute_input": "2023-07-17T11:20:30.715777Z",
     "iopub.status.busy": "2023-07-17T11:20:30.715717Z",
     "iopub.status.idle": "2023-07-17T11:20:30.720339Z",
     "shell.execute_reply": "2023-07-17T11:20:30.720119Z"
    }
   },
   "outputs": [
    {
     "data": {
      "text/plain": [
       "NotCompleted(type=ERROR, origin=load_aligned, source=\"primate_brca1.fasta\", message=\"Traceback (most recent call last):\n",
       "  File \"/Users/gavin/miniconda3/envs/c3docs/lib/python3.11/site-packages/cogent3/app/composable.py\", line 366, in _call\n",
       "    result = self.main(val, *args, **kwargs)\n",
       "             ^^^^^^^^^^^^^^^^^^^^^^^^^^^^^^^\n",
       "  File \"/Users/gavin/miniconda3/envs/c3docs/lib/python3.11/site-packages/cogent3/app/io.py\", line 306, in main\n",
       "    return _load_seqs(path, ArrayAlignment, self._parser, self.moltype)\n",
       "           ^^^^^^^^^^^^^^^^^^^^^^^^^^^^^^^^^^^^^^^^^^^^^^^^^^^^^^^^^^^^\n",
       "  File \"/Users/gavin/miniconda3/envs/c3docs/lib/python3.11/site-packages/cogent3/app/io.py\", line 278, in _load_seqs\n",
       "    data = _read_it(path)\n",
       "           ^^^^^^^^^^^^^^\n",
       "  File \"/Users/gavin/miniconda3/envs/c3docs/lib/python3.11/functools.py\", line 909, in wrapper\n",
       "    return dispatch(args[0].__class__)(*args, **kw)\n",
       "           ^^^^^^^^^^^^^^^^^^^^^^^^^^^^^^^^^^^^^^^^\n",
       "  File \"/Users/gavin/miniconda3/envs/c3docs/lib/python3.11/site-packages/cogent3/app/io.py\", line 274, in _\n",
       "    return _read_it(Path(path))\n",
       "           ^^^^^^^^^^^^^^^^^^^^\n",
       "  File \"/Users/gavin/miniconda3/envs/c3docs/lib/python3.11/functools.py\", line 909, in wrapper\n",
       "    return dispatch(args[0].__class__)(*args, **kw)\n",
       "           ^^^^^^^^^^^^^^^^^^^^^^^^^^^^^^^^^^^^^^^^\n",
       "  File \"/Users/gavin/miniconda3/envs/c3docs/lib/python3.11/site-packages/cogent3/app/io.py\", line 269, in _\n",
       "    return path.read_text()\n",
       "           ^^^^^^^^^^^^^^^^\n",
       "  File \"/Users/gavin/miniconda3/envs/c3docs/lib/python3.11/pathlib.py\", line 1058, in read_text\n",
       "    with self.open(mode='r', encoding=encoding, errors=errors) as f:\n",
       "         ^^^^^^^^^^^^^^^^^^^^^^^^^^^^^^^^^^^^^^^^^^^^^^^^^^^^^\n",
       "  File \"/Users/gavin/miniconda3/envs/c3docs/lib/python3.11/pathlib.py\", line 1044, in open\n",
       "    return io.open(self, mode, buffering, encoding, errors, newline)\n",
       "           ^^^^^^^^^^^^^^^^^^^^^^^^^^^^^^^^^^^^^^^^^^^^^^^^^^^^^^^^^\n",
       "FileNotFoundError: [Errno 2] No such file or directory: '/Users/gavin/repos/Cogent3/doc/primate_brca1.fasta'\n",
       "\")"
      ]
     },
     "execution_count": 6,
     "metadata": {},
     "output_type": "execute_result"
    }
   ],
   "source": [
    "result = reader(\"primate_brca1.fasta\")\n",
    "result"
   ]
  },
  {
   "cell_type": "code",
   "execution_count": 7,
   "id": "4d050284",
   "metadata": {
    "execution": {
     "iopub.execute_input": "2023-07-17T11:20:30.721414Z",
     "iopub.status.busy": "2023-07-17T11:20:30.721353Z",
     "iopub.status.idle": "2023-07-17T11:20:30.725158Z",
     "shell.execute_reply": "2023-07-17T11:20:30.724948Z"
    }
   },
   "outputs": [
    {
     "data": {
      "text/plain": [
       "NotCompleted(type=FALSE, origin=take_named_seqs, source=\"primate_brca1.fasta\", message=\"named seq(s) {'Mouse'} not in ['Chimpanzee', 'Galago', 'Gorilla', 'HowlerMon', 'Human', 'Orangutan', 'Rhesus']\")"
      ]
     },
     "execution_count": 7,
     "metadata": {},
     "output_type": "execute_result"
    }
   ],
   "source": [
    "app = reader + select_seqs\n",
    "result = app(\"data/primate_brca1.fasta\")\n",
    "result"
   ]
  },
  {
   "cell_type": "code",
   "execution_count": 8,
   "id": "f0611e07",
   "metadata": {
    "execution": {
     "iopub.execute_input": "2023-07-17T11:20:30.726168Z",
     "iopub.status.busy": "2023-07-17T11:20:30.726108Z",
     "iopub.status.idle": "2023-07-17T11:20:30.728376Z",
     "shell.execute_reply": "2023-07-17T11:20:30.728178Z"
    }
   },
   "outputs": [
    {
     "data": {
      "text/plain": [
       "NotCompleted(type=ERROR, origin=load_aligned, source=\"primate_brca1.fasta\", message=\"Traceback (most recent call last):\n",
       "  File \"/Users/gavin/miniconda3/envs/c3docs/lib/python3.11/site-packages/cogent3/app/composable.py\", line 366, in _call\n",
       "    result = self.main(val, *args, **kwargs)\n",
       "             ^^^^^^^^^^^^^^^^^^^^^^^^^^^^^^^\n",
       "  File \"/Users/gavin/miniconda3/envs/c3docs/lib/python3.11/site-packages/cogent3/app/io.py\", line 306, in main\n",
       "    return _load_seqs(path, ArrayAlignment, self._parser, self.moltype)\n",
       "           ^^^^^^^^^^^^^^^^^^^^^^^^^^^^^^^^^^^^^^^^^^^^^^^^^^^^^^^^^^^^\n",
       "  File \"/Users/gavin/miniconda3/envs/c3docs/lib/python3.11/site-packages/cogent3/app/io.py\", line 278, in _load_seqs\n",
       "    data = _read_it(path)\n",
       "           ^^^^^^^^^^^^^^\n",
       "  File \"/Users/gavin/miniconda3/envs/c3docs/lib/python3.11/functools.py\", line 909, in wrapper\n",
       "    return dispatch(args[0].__class__)(*args, **kw)\n",
       "           ^^^^^^^^^^^^^^^^^^^^^^^^^^^^^^^^^^^^^^^^\n",
       "  File \"/Users/gavin/miniconda3/envs/c3docs/lib/python3.11/site-packages/cogent3/app/io.py\", line 274, in _\n",
       "    return _read_it(Path(path))\n",
       "           ^^^^^^^^^^^^^^^^^^^^\n",
       "  File \"/Users/gavin/miniconda3/envs/c3docs/lib/python3.11/functools.py\", line 909, in wrapper\n",
       "    return dispatch(args[0].__class__)(*args, **kw)\n",
       "           ^^^^^^^^^^^^^^^^^^^^^^^^^^^^^^^^^^^^^^^^\n",
       "  File \"/Users/gavin/miniconda3/envs/c3docs/lib/python3.11/site-packages/cogent3/app/io.py\", line 269, in _\n",
       "    return path.read_text()\n",
       "           ^^^^^^^^^^^^^^^^\n",
       "  File \"/Users/gavin/miniconda3/envs/c3docs/lib/python3.11/pathlib.py\", line 1058, in read_text\n",
       "    with self.open(mode='r', encoding=encoding, errors=errors) as f:\n",
       "         ^^^^^^^^^^^^^^^^^^^^^^^^^^^^^^^^^^^^^^^^^^^^^^^^^^^^^\n",
       "  File \"/Users/gavin/miniconda3/envs/c3docs/lib/python3.11/pathlib.py\", line 1044, in open\n",
       "    return io.open(self, mode, buffering, encoding, errors, newline)\n",
       "           ^^^^^^^^^^^^^^^^^^^^^^^^^^^^^^^^^^^^^^^^^^^^^^^^^^^^^^^^^\n",
       "FileNotFoundError: [Errno 2] No such file or directory: '/Users/gavin/repos/Cogent3/doc/primate_brca1.fasta'\n",
       "\")"
      ]
     },
     "execution_count": 8,
     "metadata": {},
     "output_type": "execute_result"
    }
   ],
   "source": [
    "result = app(\"primate_brca1.fasta\")\n",
    "result"
   ]
  }
 ],
 "metadata": {
  "kernelspec": {
   "display_name": "Python 3 (ipykernel)",
   "language": "python",
   "name": "python3"
  },
  "language_info": {
   "codemirror_mode": {
    "name": "ipython",
    "version": 3
   },
   "file_extension": ".py",
   "mimetype": "text/x-python",
   "name": "python",
   "nbconvert_exporter": "python",
   "pygments_lexer": "ipython3",
   "version": "3.11.4"
  }
 },
 "nbformat": 4,
 "nbformat_minor": 5
}