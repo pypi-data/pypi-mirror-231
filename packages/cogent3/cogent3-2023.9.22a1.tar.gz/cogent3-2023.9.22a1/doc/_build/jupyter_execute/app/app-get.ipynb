{
 "cells": [
  {
   "cell_type": "code",
   "execution_count": 1,
   "id": "08a3fb37",
   "metadata": {
    "execution": {
     "iopub.execute_input": "2023-07-17T11:15:53.247645Z",
     "iopub.status.busy": "2023-07-17T11:15:53.247565Z",
     "iopub.status.idle": "2023-07-17T11:15:54.286533Z",
     "shell.execute_reply": "2023-07-17T11:15:54.286186Z"
    }
   },
   "outputs": [
    {
     "data": {
      "text/plain": [
       "omit_degenerates(moltype='dna', gap_is_degen=True, motif_length=1)"
      ]
     },
     "execution_count": 1,
     "metadata": {},
     "output_type": "execute_result"
    }
   ],
   "source": [
    "from cogent3 import get_app\n",
    "\n",
    "just_nucs = get_app(\"omit_degenerates\", moltype=\"dna\")\n",
    "just_nucs"
   ]
  }
 ],
 "metadata": {
  "kernelspec": {
   "display_name": "Python 3 (ipykernel)",
   "language": "python",
   "name": "python3"
  },
  "language_info": {
   "codemirror_mode": {
    "name": "ipython",
    "version": 3
   },
   "file_extension": ".py",
   "mimetype": "text/x-python",
   "name": "python",
   "nbconvert_exporter": "python",
   "pygments_lexer": "ipython3",
   "version": "3.11.4"
  }
 },
 "nbformat": 4,
 "nbformat_minor": 5
}