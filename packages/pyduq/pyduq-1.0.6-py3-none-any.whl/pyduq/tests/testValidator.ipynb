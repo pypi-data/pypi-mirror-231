{
 "cells": [
  {
   "cell_type": "code",
   "execution_count": null,
   "metadata": {
    "scrolled": true
   },
   "outputs": [],
   "source": [
    "import time\n",
    "import pyodbc\n",
    "from pyduq.SQLTools import SQLTools\n",
    "from pyduq.boxplot import BoxPlot\n",
    "from pyduq.duqvalidator import DUQValidator\n",
    "from pyduq.patterns import Patterns\n",
    "from pyduq.filetools import FileTools\n",
    "\n",
    "'''\n",
    "This is a generic test harness for loading and validating any data set. The default is file based data\n",
    "but you could also use static dict objects for the data or metadata.\n",
    "'''\n",
    "\n",
    "# load source data file\n",
    "dataset = FileTools.csvFileToDict(\"SA development application register.csv\")\n",
    "\n",
    "# load metadata file\n",
    "metadata = FileTools.JSONtoMeta(\"SA development application register_meta.json\")\n",
    "\n",
    "# specify optional custom validator python class\n",
    "customValidator = None\n",
    "\n",
    "print(\"\\n---> Running pyduq ...\")\n",
    "stime = time.time()\n",
    "pyduq_validator = DUQValidator(dataset, metadata)\n",
    "pyduq_validator.validate(customValidator)\n",
    "\n",
    "print(\"Completed in \" + str(time.time() - stime) + \" secs\")\n",
    "\n",
    "'''\n",
    "# uncomment the lines below if you wish to store the validation results to file\n",
    "# be sure to set the output filesnames in quotes below to something appropriate\n",
    "'''\n",
    "pyduq_validator.saveCounters(\"counters.xlsx\")\n",
    "pyduq_validator.saveCountersSummary(\"summary.xlsx\")\n",
    "\n",
    "\n",
    "if (pyduq_validator.validation_errors):\n",
    "    print(\"\\n--> Plot:\")\n",
    "    x = BoxPlot()\n",
    "    x.plot(pyduq_validator.validation_errors,\"<b>Plot of Data Quality Errors</b>\")\n",
    "\n",
    "    \n",
    "print(\"\\n\\n### DONE ###\")\n"
   ]
  },
  {
   "cell_type": "code",
   "execution_count": null,
   "metadata": {},
   "outputs": [],
   "source": []
  },
  {
   "cell_type": "code",
   "execution_count": null,
   "metadata": {},
   "outputs": [],
   "source": []
  },
  {
   "cell_type": "code",
   "execution_count": null,
   "metadata": {},
   "outputs": [],
   "source": []
  },
  {
   "cell_type": "code",
   "execution_count": null,
   "metadata": {},
   "outputs": [],
   "source": []
  }
 ],
 "metadata": {
  "kernelspec": {
   "display_name": "Python 3 (ipykernel)",
   "language": "python",
   "name": "python3"
  },
  "language_info": {
   "codemirror_mode": {
    "name": "ipython",
    "version": 3
   },
   "file_extension": ".py",
   "mimetype": "text/x-python",
   "name": "python",
   "nbconvert_exporter": "python",
   "pygments_lexer": "ipython3",
   "version": "3.9.18"
  }
 },
 "nbformat": 4,
 "nbformat_minor": 2
}
