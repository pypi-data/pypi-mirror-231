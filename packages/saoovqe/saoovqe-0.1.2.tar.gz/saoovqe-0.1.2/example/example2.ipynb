{
 "cells": [
  {
   "cell_type": "markdown",
   "source": [
    "# Example 2: Computation of Gradients and Non-adiabatic Couplings\n",
    "\n",
    "In this tutorial it is shown, how to use the SA-OO-VQE solver in a simple step-by-step manner on a molecule of\n",
    "formaldimine (methylene imine). It is shown, how to compute energies, gradients and non-adiabatic couplings\n",
    "in several different settings w.r.t. a different number of optimized orbitals."
   ],
   "metadata": {
    "collapsed": false
   }
  },
  {
   "cell_type": "markdown",
   "source": [
    "First of all, we'll specify geometry of the system."
   ],
   "metadata": {
    "collapsed": false
   }
  },
  {
   "cell_type": "code",
   "execution_count": 20,
   "outputs": [],
   "source": [
    "geometry = [('N', [0.000000000000, 0.000000000000, 0.000000000000]),\n",
    "            ('C', [0.000000000000, 0.000000000000, 1.498047000000]),\n",
    "            ('H', [0.000000000000, -0.938765985000, 2.004775984000]),\n",
    "            ('H', [0.000000000000, 0.938765985000, 2.004775984000]),\n",
    "            ('H', [-0.744681452, -0.131307432, -0.634501434])]"
   ],
   "metadata": {
    "collapsed": false,
    "ExecuteTime": {
     "end_time": "2023-06-23T08:13:26.390880274Z",
     "start_time": "2023-06-23T08:13:26.337639675Z"
    }
   }
  },
  {
   "cell_type": "markdown",
   "source": [
    "Now we'll specify its properties, active space and the basis for Psi4 chemistry backend."
   ],
   "metadata": {
    "collapsed": false
   }
  },
  {
   "cell_type": "code",
   "execution_count": 21,
   "outputs": [],
   "source": [
    "n_orbs_active = 2\n",
    "n_elec_active = 2\n",
    "charge = 0\n",
    "multiplicity = 1\n",
    "basis = 'sto-3g'"
   ],
   "metadata": {
    "collapsed": false,
    "ExecuteTime": {
     "end_time": "2023-06-23T08:13:26.391709259Z",
     "start_time": "2023-06-23T08:13:26.344143469Z"
    }
   }
  },
  {
   "cell_type": "markdown",
   "source": [
    "The next step is construction of `ProblemSet` instance - object containing all the information and necessary method for\n",
    "our electronic structure problem."
   ],
   "metadata": {
    "collapsed": false
   }
  },
  {
   "cell_type": "code",
   "execution_count": 22,
   "outputs": [
    {
     "name": "stderr",
     "output_type": "stream",
     "text": [
      "2023-06-23 10:13:30,397 - SAOOVQE.logger - INFO - SecondQuantizedProblem was created.\n"
     ]
    }
   ],
   "source": [
    "import saoovqe\n",
    "\n",
    "problem = saoovqe.problem.ProblemSet(geometry=geometry,\n",
    "                                     charge=charge,\n",
    "                                     multiplicity=multiplicity,\n",
    "                                     n_electrons_active=n_elec_active,\n",
    "                                     n_orbitals_active=n_orbs_active,\n",
    "                                     basis_name=basis)"
   ],
   "metadata": {
    "collapsed": false,
    "ExecuteTime": {
     "end_time": "2023-06-23T08:13:30.452643287Z",
     "start_time": "2023-06-23T08:13:26.352944110Z"
    }
   }
  },
  {
   "cell_type": "markdown",
   "source": [
    "Now we need to create a set of circuits representing orthogonal states to construct the whole circuits representing\n",
    "state vectors later."
   ],
   "metadata": {
    "collapsed": false
   }
  },
  {
   "cell_type": "code",
   "execution_count": 23,
   "outputs": [
    {
     "name": "stderr",
     "output_type": "stream",
     "text": [
      "2023-06-23 10:13:30,404 - SAOOVQE.logger - INFO - Circuits representing an orthogonal basis were created.\n"
     ]
    }
   ],
   "source": [
    "initial_circuits = saoovqe.OrthogonalCircuitSet.from_problem_set(n_states=2, problem=problem)"
   ],
   "metadata": {
    "collapsed": false,
    "ExecuteTime": {
     "end_time": "2023-06-23T08:13:30.465883875Z",
     "start_time": "2023-06-23T08:13:30.441059434Z"
    }
   }
  },
  {
   "cell_type": "markdown",
   "source": [
    "The next necessary part is to define an ansatz - it'll be also used to construct the state vector circuits later."
   ],
   "metadata": {
    "collapsed": false
   }
  },
  {
   "cell_type": "code",
   "execution_count": 24,
   "outputs": [
    {
     "name": "stderr",
     "output_type": "stream",
     "text": [
      "2023-06-23 10:13:30,525 - SAOOVQE.logger - INFO - Ansatz was created.\n"
     ]
    }
   ],
   "source": [
    "ansatz = saoovqe.Ansatz.from_ProblemSet(ansatz=saoovqe.AnsatzType.GUCCSD,\n",
    "                                               problem=problem,\n",
    "                                               repetitions=1,\n",
    "                                               qubit_mapper=problem.fermionic_mapper)"
   ],
   "metadata": {
    "collapsed": false,
    "ExecuteTime": {
     "end_time": "2023-06-23T08:13:30.531789285Z",
     "start_time": "2023-06-23T08:13:30.441277343Z"
    }
   }
  },
  {
   "cell_type": "markdown",
   "source": [
    "And finally, now we can create an instance of our SA-OO-VQE solver. One of the main points is, orbital-optimization\n",
    "can, but doesn't have to be used, or it can be used only on some molecular orbitals. We'll show all three cases here.\n",
    "For no orbital-optimization it's enough to pass `None` to `orbital_optimization_settings` (it's also a default value)."
   ],
   "metadata": {
    "collapsed": false
   }
  },
  {
   "cell_type": "code",
   "execution_count": 25,
   "outputs": [
    {
     "name": "stderr",
     "output_type": "stream",
     "text": [
      "2023-06-23 10:13:30,533 - SAOOVQE.logger - INFO - SAOOVQE was created.\n"
     ]
    }
   ],
   "source": [
    "from qiskit.primitives import Estimator\n",
    "\n",
    "estimator = Estimator()\n",
    "\n",
    "solver_no_oo = saoovqe.SAOOVQE(estimator=estimator,\n",
    "                                                initial_circuits=initial_circuits,\n",
    "                                                ansatz=ansatz,\n",
    "                                                problem=problem,\n",
    "                                                orbital_optimization_settings=None)"
   ],
   "metadata": {
    "collapsed": false,
    "ExecuteTime": {
     "end_time": "2023-06-23T08:13:30.579713694Z",
     "start_time": "2023-06-23T08:13:30.538970754Z"
    }
   }
  },
  {
   "cell_type": "markdown",
   "source": [
    "To specify number of optimized orbitals we can pass a dictionary to the parameter."
   ],
   "metadata": {
    "collapsed": false
   }
  },
  {
   "cell_type": "code",
   "execution_count": 26,
   "outputs": [
    {
     "name": "stderr",
     "output_type": "stream",
     "text": [
      "2023-06-23 10:13:30,560 - SAOOVQE.logger - INFO - SAOOVQE was created.\n"
     ]
    }
   ],
   "source": [
    "solver_oo_8 = saoovqe.SAOOVQE(estimator=estimator,\n",
    "                                               initial_circuits=initial_circuits,\n",
    "                                               ansatz=ansatz,\n",
    "                                               problem=problem,\n",
    "                                               orbital_optimization_settings={'n_mo_optim': 8})"
   ],
   "metadata": {
    "collapsed": false,
    "ExecuteTime": {
     "end_time": "2023-06-23T08:13:30.593505085Z",
     "start_time": "2023-06-23T08:13:30.549180085Z"
    }
   }
  },
  {
   "cell_type": "markdown",
   "source": [
    "And for all the orbitals to be optimized we can simply use its default behavior by passing an empty dictionary."
   ],
   "metadata": {
    "collapsed": false
   }
  },
  {
   "cell_type": "code",
   "execution_count": 27,
   "outputs": [
    {
     "name": "stderr",
     "output_type": "stream",
     "text": [
      "2023-06-23 10:13:30,568 - SAOOVQE.logger - INFO - SAOOVQE was created.\n"
     ]
    }
   ],
   "source": [
    "solver_oo_full = saoovqe.SAOOVQE(estimator=estimator,\n",
    "                                                  initial_circuits=initial_circuits,\n",
    "                                                  ansatz=ansatz,\n",
    "                                                  problem=problem,\n",
    "                                                  orbital_optimization_settings={})"
   ],
   "metadata": {
    "collapsed": false,
    "ExecuteTime": {
     "end_time": "2023-06-23T08:13:30.701984764Z",
     "start_time": "2023-06-23T08:13:30.568504995Z"
    }
   }
  },
  {
   "cell_type": "markdown",
   "source": [
    "Let's compare the energies now! To make the numerical optimizations, we'll use `SLSQP` optimizer provided by `SciPy`.\n",
    "It may take a few minutes time now..."
   ],
   "metadata": {
    "collapsed": false
   }
  },
  {
   "cell_type": "code",
   "execution_count": 28,
   "outputs": [
    {
     "name": "stderr",
     "output_type": "stream",
     "text": [
      "2023-06-23 10:13:30,701 - SAOOVQE.logger - INFO - Computing energies...\n",
      "2023-06-23 10:13:32,277 - SAOOVQE.logger - INFO - SA-optimized ansatz parameters: [ 0.27262659  0.27262276 -0.0155197 ]\n",
      "2023-06-23 10:13:32,548 - SAOOVQE.logger - INFO - Optimal phi angle for state-resolution was obtained (phi* = 3.806896263280463).\n",
      "2023-06-23 10:13:33,174 - SAOOVQE.logger - INFO - Computing energies...\n",
      "2023-06-23 10:13:34,748 - SAOOVQE.logger - INFO - SA-optimized ansatz parameters: [ 0.27262659  0.27262276 -0.0155197 ]\n",
      "2023-06-23 10:13:38,714 - SAOOVQE.logger - INFO - SA-optimized ansatz parameters: [ 0.2518565   0.25185324 -0.01441605]\n",
      "2023-06-23 10:13:42,822 - SAOOVQE.logger - INFO - SA-optimized ansatz parameters: [ 0.2398443   0.23985171 -0.014324  ]\n",
      "2023-06-23 10:13:47,151 - SAOOVQE.logger - INFO - SA-optimized ansatz parameters: [ 0.23288984  0.23289705 -0.01427436]\n",
      "2023-06-23 10:13:51,195 - SAOOVQE.logger - INFO - SA-optimized ansatz parameters: [ 0.22875524  0.2287523  -0.0142461 ]\n",
      "2023-06-23 10:13:55,195 - SAOOVQE.logger - INFO - SA-optimized ansatz parameters: [ 0.2262294   0.22624229 -0.01423096]\n",
      "2023-06-23 10:13:58,743 - SAOOVQE.logger - INFO - SA-optimized ansatz parameters: [ 0.22469807  0.22469918 -0.01421992]\n",
      "2023-06-23 10:14:02,539 - SAOOVQE.logger - INFO - SA-optimized ansatz parameters: [ 0.22373562  0.22375166 -0.01421564]\n",
      "2023-06-23 10:14:06,177 - SAOOVQE.logger - INFO - SA-optimized ansatz parameters: [ 0.22313326  0.22314135 -0.01421555]\n",
      "2023-06-23 10:14:09,979 - SAOOVQE.logger - INFO - SA-optimized ansatz parameters: [ 0.22277227  0.22277133 -0.01421078]\n",
      "2023-06-23 10:14:13,511 - SAOOVQE.logger - INFO - SA-optimized ansatz parameters: [ 0.2224071   0.22241579 -0.01422532]\n",
      "2023-06-23 10:14:17,061 - SAOOVQE.logger - INFO - SA-optimized ansatz parameters: [ 0.22234234  0.22236012 -0.01420461]\n",
      "2023-06-23 10:14:19,634 - SAOOVQE.logger - INFO - Optimal phi angle for state-resolution was obtained (phi* = 3.683150401774056).\n",
      "2023-06-23 10:14:20,209 - SAOOVQE.logger - INFO - Computing energies...\n",
      "2023-06-23 10:14:21,753 - SAOOVQE.logger - INFO - SA-optimized ansatz parameters: [ 0.27262659  0.27262276 -0.0155197 ]\n",
      "2023-06-23 10:14:38,874 - SAOOVQE.logger - INFO - SA-optimized ansatz parameters: [ 0.19397912  0.1939899  -0.013587  ]\n",
      "2023-06-23 10:14:54,052 - SAOOVQE.logger - INFO - SA-optimized ansatz parameters: [ 0.15289073  0.15290168 -0.01269427]\n",
      "2023-06-23 10:15:07,310 - SAOOVQE.logger - INFO - SA-optimized ansatz parameters: [ 0.13162551  0.13163661 -0.01241795]\n",
      "2023-06-23 10:15:25,879 - SAOOVQE.logger - INFO - SA-optimized ansatz parameters: [ 0.12073744  0.12073232 -0.01232032]\n",
      "2023-06-23 10:15:48,735 - SAOOVQE.logger - INFO - SA-optimized ansatz parameters: [ 0.11514216  0.11515627 -0.0122789 ]\n",
      "2023-06-23 10:16:11,375 - SAOOVQE.logger - INFO - SA-optimized ansatz parameters: [ 0.11230307  0.11230956 -0.01225906]\n",
      "2023-06-23 10:16:33,658 - SAOOVQE.logger - INFO - SA-optimized ansatz parameters: [ 0.11083192  0.11081891 -0.01225142]\n",
      "2023-06-23 10:16:51,457 - SAOOVQE.logger - INFO - SA-optimized ansatz parameters: [ 0.11008942  0.11007296 -0.01224559]\n",
      "2023-06-23 10:17:09,074 - SAOOVQE.logger - INFO - SA-optimized ansatz parameters: [ 0.10969278  0.10971466 -0.01224204]\n",
      "2023-06-23 10:17:27,365 - SAOOVQE.logger - INFO - SA-optimized ansatz parameters: [ 0.1095133   0.1095036  -0.01224045]\n",
      "2023-06-23 10:17:45,125 - SAOOVQE.logger - INFO - SA-optimized ansatz parameters: [ 0.10937733  0.1093984  -0.01224465]\n",
      "2023-06-23 10:18:00,784 - SAOOVQE.logger - INFO - Optimal phi angle for state-resolution was obtained (phi* = 4.4718641895682625).\n"
     ]
    },
    {
     "name": "stdout",
     "output_type": "stream",
     "text": [
      "-92.64256593087828\n",
      "-92.64414483905284\n",
      "-92.65981061428884\n"
     ]
    }
   ],
   "source": [
    "from qiskit.algorithms.optimizers import SciPyOptimizer\n",
    "import numpy as np\n",
    "\n",
    "optimizer = SciPyOptimizer('SLSQP', options={'maxiter': 500, 'ftol': 1e-8})\n",
    "energies_no_oo = solver_no_oo.get_energy(optimizer)\n",
    "energies_oo_8 = solver_oo_8.get_energy(optimizer)\n",
    "energies_oo_full = solver_oo_full.get_energy(optimizer)\n",
    "\n",
    "print('\\n============== State-Averaged Energies ==============')\n",
    "print(np.mean(energies_no_oo))\n",
    "print(np.mean(energies_oo_8))\n",
    "print(np.mean(energies_oo_full))"
   ],
   "metadata": {
    "collapsed": false,
    "ExecuteTime": {
     "end_time": "2023-06-23T08:18:01.758335138Z",
     "start_time": "2023-06-23T08:13:30.702224353Z"
    }
   }
  },
  {
   "cell_type": "markdown",
   "source": [
    "And now, let's have a look at the gradients of the potential energy surface for all the particles at both relevant\n",
    "states."
   ],
   "metadata": {
    "collapsed": false
   }
  },
  {
   "cell_type": "code",
   "execution_count": 29,
   "outputs": [
    {
     "name": "stderr",
     "output_type": "stream",
     "text": [
      "2023-06-23 10:18:01,761 - SAOOVQE.logger - INFO - Constructing gradient evaluators...\n"
     ]
    },
    {
     "name": "stdout",
     "output_type": "stream",
     "text": [
      "0 0 [-0.22493245 -0.04894842 -0.20117543]\n",
      "0 1 [0.07456918 0.01792904 0.23630368]\n",
      "0 2 [-0.0030948   0.02465947 -0.02605988]\n",
      "0 3 [-0.00630921 -0.02588515 -0.02038032]\n",
      "0 4 [0.15976727 0.03224507 0.01131195]\n",
      "1 0 [-0.04097219 -0.02459814 -0.54298526]\n",
      "1 1 [0.06487503 0.00104745 0.51656241]\n",
      "1 2 [-0.02686934  0.0313907  -0.02809013]\n",
      "1 3 [-0.03876066 -0.03016646 -0.0273435 ]\n",
      "1 4 [0.04172716 0.02232645 0.08185648]\n"
     ]
    }
   ],
   "source": [
    "print('\\n============== Gradients ==============')\n",
    "for state_idx in range(2):\n",
    "    for atom_idx in range(len(geometry)):\n",
    "        print(state_idx, atom_idx, solver_oo_full.eval_eng_gradient(state_idx, atom_idx))"
   ],
   "metadata": {
    "collapsed": false,
    "ExecuteTime": {
     "end_time": "2023-06-23T08:19:05.082861572Z",
     "start_time": "2023-06-23T08:18:01.764371279Z"
    }
   }
  },
  {
   "cell_type": "markdown",
   "source": [
    "And the non-adiabatic couplings."
   ],
   "metadata": {
    "collapsed": false
   }
  },
  {
   "cell_type": "code",
   "execution_count": 30,
   "outputs": [
    {
     "name": "stdout",
     "output_type": "stream",
     "text": [
      "\n",
      "============== Total non-adiabatic couplings ==============\n",
      "0 [-0.55602127  2.35143966  1.28246372]\n",
      "1 [-0.12923353 -1.09813364 -1.32051325]\n",
      "2 [0.03576009 0.01765237 0.22183668]\n",
      "3 [ 0.25309051  0.0851638  -0.10478533]\n",
      "4 [ 0.36182224 -1.24872327 -0.07573726]\n"
     ]
    }
   ],
   "source": [
    "print('\\n============== Total non-adiabatic couplings ==============')\n",
    "for atom_idx in range(len(geometry)):\n",
    "    print(atom_idx, solver_oo_full.eval_nac(atom_idx))"
   ],
   "metadata": {
    "collapsed": false,
    "ExecuteTime": {
     "end_time": "2023-06-23T08:21:07.963732828Z",
     "start_time": "2023-06-23T08:19:05.103084520Z"
    }
   }
  },
  {
   "cell_type": "markdown",
   "source": [
    "And finally, considering NACs, we can also have a look at CI and CSF NACs separately."
   ],
   "metadata": {
    "collapsed": false
   }
  },
  {
   "cell_type": "code",
   "execution_count": 31,
   "outputs": [
    {
     "name": "stdout",
     "output_type": "stream",
     "text": [
      "\n",
      "============== CI non-adiabatic couplings ==============\n",
      "0 [-0.51466843  2.13818324  1.28233387]\n",
      "1 [-0.12248053 -1.06697028 -1.31961327]\n",
      "2 [-0.01022644  0.01909822  0.22593759]\n",
      "3 [ 0.29351684  0.08655607 -0.10886455]\n",
      "4 [ 0.35385855 -1.17686726 -0.07979364]\n",
      "\n",
      "============== CSF non-adiabatic couplings ==============\n",
      "0 [-4.13528359e-02  2.13256419e-01  1.29842260e-04]\n",
      "1 [-0.00675301 -0.03116336 -0.00089998]\n",
      "2 [ 0.04598652 -0.00144585 -0.00410091]\n",
      "3 [-0.04042633 -0.00139227  0.00407922]\n",
      "4 [ 0.00796368 -0.07185602  0.00405638]\n"
     ]
    }
   ],
   "source": [
    "print('\\n============== CI non-adiabatic couplings ==============')\n",
    "for atom_idx in range(len(geometry)):\n",
    "    print(atom_idx, solver_oo_full.ci_nacs[atom_idx])\n",
    "\n",
    "print('\\n============== CSF non-adiabatic couplings ==============')\n",
    "for atom_idx in range(len(geometry)):\n",
    "    print(atom_idx, solver_oo_full.csf_nacs[atom_idx])"
   ],
   "metadata": {
    "collapsed": false,
    "ExecuteTime": {
     "end_time": "2023-06-23T08:21:07.975480020Z",
     "start_time": "2023-06-23T08:21:07.968180173Z"
    }
   }
  },
  {
   "cell_type": "markdown",
   "source": [],
   "metadata": {
    "collapsed": false
   }
  }
 ],
 "metadata": {
  "kernelspec": {
   "display_name": "Python 3",
   "language": "python",
   "name": "python3"
  },
  "language_info": {
   "codemirror_mode": {
    "name": "ipython",
    "version": 2
   },
   "file_extension": ".py",
   "mimetype": "text/x-python",
   "name": "python",
   "nbconvert_exporter": "python",
   "pygments_lexer": "ipython2",
   "version": "2.7.6"
  }
 },
 "nbformat": 4,
 "nbformat_minor": 0
}
