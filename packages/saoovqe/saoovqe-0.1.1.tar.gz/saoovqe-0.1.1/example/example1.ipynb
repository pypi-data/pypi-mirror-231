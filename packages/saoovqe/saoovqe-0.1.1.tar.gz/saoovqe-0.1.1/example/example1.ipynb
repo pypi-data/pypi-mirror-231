{
 "cells": [
  {
   "cell_type": "markdown",
   "source": [
    "# Example 1: Computation of Energies and Gradients\n",
    "\n",
    "In this example it is shown, how to run the basic energy and gradient computations. Also, the results are compared to\n",
    "CASSCF implementation provided by Psi4 package."
   ],
   "metadata": {
    "collapsed": false
   }
  },
  {
   "cell_type": "markdown",
   "source": [
    "Firstly, we specify geometry of the system given in Cartesian coordinates."
   ],
   "metadata": {
    "collapsed": false
   }
  },
  {
   "cell_type": "code",
   "execution_count": 1,
   "outputs": [],
   "source": [
    "geometry = [('N', [0.000000000000, 0.000000000000, 0.000000000000]),\n",
    "            ('C', [0.000000000000, 0.000000000000, 1.498047000000]),\n",
    "            ('H', [0.000000000000, -0.938765985000, 2.004775984000]),\n",
    "            ('H', [0.000000000000, 0.938765985000, 2.004775984000]),\n",
    "            ('H', [-0.744681452, -0.131307432, -0.634501434])]"
   ],
   "metadata": {
    "collapsed": false,
    "ExecuteTime": {
     "end_time": "2023-07-20T01:06:04.286703512Z",
     "start_time": "2023-07-20T01:06:04.283914724Z"
    }
   }
  },
  {
   "cell_type": "markdown",
   "source": [
    "Subsequently, we specify the system properties."
   ],
   "metadata": {
    "collapsed": false
   }
  },
  {
   "cell_type": "code",
   "execution_count": 2,
   "outputs": [],
   "source": [
    "n_orbs_active = 2\n",
    "n_elec_active = 2\n",
    "charge = 0\n",
    "multiplicity = 1\n",
    "basis = 'sto-3g'"
   ],
   "metadata": {
    "collapsed": false,
    "ExecuteTime": {
     "end_time": "2023-07-20T01:06:04.608754339Z",
     "start_time": "2023-07-20T01:06:04.286027182Z"
    }
   }
  },
  {
   "cell_type": "markdown",
   "source": [
    "Now we construct a `ProblemSet` instance containing the information about our electronic structure problem."
   ],
   "metadata": {
    "collapsed": false
   }
  },
  {
   "cell_type": "code",
   "execution_count": 3,
   "outputs": [
    {
     "name": "stdout",
     "output_type": "stream",
     "text": [
      "   => Loading Basis Set <=\n",
      "\n",
      "    Name: STO-3G\n",
      "    Role: ORBITAL\n",
      "    Keyword: None\n",
      "    atoms 1   entry N          line    71 file /home/martinb/anaconda3/envs/saoovqe-env/share/psi4/basis/sto-3g.gbs \n",
      "    atoms 2   entry C          line    61 file /home/martinb/anaconda3/envs/saoovqe-env/share/psi4/basis/sto-3g.gbs \n",
      "    atoms 3-5 entry H          line    19 file /home/martinb/anaconda3/envs/saoovqe-env/share/psi4/basis/sto-3g.gbs \n",
      "\n"
     ]
    },
    {
     "name": "stderr",
     "output_type": "stream",
     "text": [
      "/home/martinb/anaconda3/envs/saoovqe-env/lib/python3.10/site-packages/qiskit_nature/deprecation.py:297: PauliSumOpDeprecationWarning: PauliSumOp is deprecated as of version 0.6.0 and support for them will be removed no sooner than 3 months after the release. Instead, use SparsePauliOp. You can switch to SparsePauliOp immediately, by setting `qiskit_nature.settings.use_pauli_sum_op` to `False`.\n",
      "  return func(*args, **kwargs)\n",
      "2023-07-20 03:06:30,525 - SAOOVQE.logger - INFO - SecondQuantizedProblem was created.\n"
     ]
    }
   ],
   "source": [
    "import saoovqe\n",
    "\n",
    "problem = saoovqe.problem.ProblemSet(geometry=geometry,\n",
    "                                     charge=charge,\n",
    "                                     multiplicity=multiplicity,\n",
    "                                     n_electrons_active=n_elec_active,\n",
    "                                     n_orbitals_active=n_orbs_active,\n",
    "                                     basis_name=basis)"
   ],
   "metadata": {
    "collapsed": false,
    "ExecuteTime": {
     "end_time": "2023-07-20T01:06:30.528837777Z",
     "start_time": "2023-07-20T01:06:04.611584114Z"
    }
   }
  },
  {
   "cell_type": "markdown",
   "source": [
    "The next one is a set of circuits representing orthogonal states used to construct the whole circuits\n",
    "representing state vectors later."
   ],
   "metadata": {
    "collapsed": false
   }
  },
  {
   "cell_type": "code",
   "execution_count": 4,
   "outputs": [
    {
     "name": "stderr",
     "output_type": "stream",
     "text": [
      "2023-07-20 03:06:30,531 - SAOOVQE.logger - INFO - Circuits representing an orthogonal basis were created.\n"
     ]
    }
   ],
   "source": [
    "initial_circuits = saoovqe.OrthogonalCircuitSet.from_problem_set(n_states=2, problem=problem)"
   ],
   "metadata": {
    "collapsed": false,
    "ExecuteTime": {
     "end_time": "2023-07-20T01:06:30.536328200Z",
     "start_time": "2023-07-20T01:06:30.532458671Z"
    }
   }
  },
  {
   "cell_type": "markdown",
   "source": [
    "Another ingredient for statevector circuits constructed later will be an ansatz."
   ],
   "metadata": {
    "collapsed": false
   }
  },
  {
   "cell_type": "code",
   "execution_count": 5,
   "outputs": [
    {
     "name": "stderr",
     "output_type": "stream",
     "text": [
      "ic| circuit._excitation_list: [((0,), (1,)), ((2,), (3,)), ((0, 2), (1, 3))]\n",
      "2023-07-20 03:06:31,382 - SAOOVQE.logger - INFO - Ansatz was created.\n"
     ]
    }
   ],
   "source": [
    "ansatz = saoovqe.Ansatz.from_ProblemSet(ansatz=saoovqe.AnsatzType.GUCCSD,\n",
    "                                               problem=problem,\n",
    "                                               repetitions=1,\n",
    "                                               qubit_mapper=problem.fermionic_mapper)"
   ],
   "metadata": {
    "collapsed": false,
    "ExecuteTime": {
     "end_time": "2023-07-20T01:06:31.386020281Z",
     "start_time": "2023-07-20T01:06:30.537294811Z"
    }
   }
  },
  {
   "cell_type": "markdown",
   "source": [
    "Now we can create an instance of our SA-OO-VQE solver. Orbital-optimization doesn't have to be used,\n",
    "but we do use it here, to compare with CASSCF."
   ],
   "metadata": {
    "collapsed": false
   }
  },
  {
   "cell_type": "code",
   "execution_count": 6,
   "outputs": [
    {
     "name": "stderr",
     "output_type": "stream",
     "text": [
      "2023-07-20 03:06:31,387 - SAOOVQE.logger - INFO - SAOOVQE was created.\n"
     ]
    }
   ],
   "source": [
    "from qiskit.primitives import Estimator\n",
    "\n",
    "estimator = Estimator()\n",
    "\n",
    "solver = saoovqe.SAOOVQE(estimator=estimator,\n",
    "                         initial_circuits=initial_circuits,\n",
    "                         ansatz=ansatz,\n",
    "                         problem=problem,\n",
    "                         orbital_optimization_settings={})"
   ],
   "metadata": {
    "collapsed": false,
    "ExecuteTime": {
     "end_time": "2023-07-20T01:06:31.432181860Z",
     "start_time": "2023-07-20T01:06:31.389073579Z"
    }
   }
  },
  {
   "cell_type": "markdown",
   "source": [
    "Let's create a numerical optimizer, pass it to our solver and compute our energies now."
   ],
   "metadata": {
    "collapsed": false
   }
  },
  {
   "cell_type": "code",
   "execution_count": 7,
   "outputs": [
    {
     "name": "stderr",
     "output_type": "stream",
     "text": [
      "2023-07-20 03:06:31,482 - SAOOVQE.logger - INFO - Computing energies...\n",
      "2023-07-20 03:06:32,932 - SAOOVQE.logger - INFO - SA-optimized ansatz parameters: [ 0.27263779  0.27263052 -0.01551904]\n",
      "2023-07-20 03:06:32,932 - SAOOVQE.logger - INFO - Starting Orbital-Optimization process...\n",
      "2023-07-20 03:06:52,816 - SAOOVQE.logger - INFO - SA-optimized ansatz parameters: [ 0.19537658  0.19539013 -0.01356976]\n",
      "2023-07-20 03:06:52,816 - SAOOVQE.logger - INFO - Starting Orbital-Optimization process...\n",
      "2023-07-20 03:07:05,717 - SAOOVQE.logger - INFO - SA-optimized ansatz parameters: [ 0.15572574  0.15571016 -0.01270756]\n",
      "2023-07-20 03:07:05,717 - SAOOVQE.logger - INFO - Starting Orbital-Optimization process...\n",
      "2023-07-20 03:07:16,829 - SAOOVQE.logger - INFO - SA-optimized ansatz parameters: [ 0.13519     0.13519697 -0.01244268]\n",
      "2023-07-20 03:07:16,829 - SAOOVQE.logger - INFO - Starting Orbital-Optimization process...\n",
      "2023-07-20 03:07:25,330 - SAOOVQE.logger - INFO - SA-optimized ansatz parameters: [ 0.12468048  0.12468803 -0.01234301]\n",
      "2023-07-20 03:07:25,331 - SAOOVQE.logger - INFO - Starting Orbital-Optimization process...\n",
      "2023-07-20 03:07:33,980 - SAOOVQE.logger - INFO - SA-optimized ansatz parameters: [ 0.11928834  0.11929319 -0.01230409]\n",
      "2023-07-20 03:07:33,981 - SAOOVQE.logger - INFO - Starting Orbital-Optimization process...\n",
      "2023-07-20 03:07:42,522 - SAOOVQE.logger - INFO - SA-optimized ansatz parameters: [ 0.11656407  0.11655862 -0.01228166]\n",
      "2023-07-20 03:07:42,523 - SAOOVQE.logger - INFO - Starting Orbital-Optimization process...\n",
      "2023-07-20 03:07:51,127 - SAOOVQE.logger - INFO - SA-optimized ansatz parameters: [ 0.11514435  0.11513816 -0.01227565]\n",
      "2023-07-20 03:07:51,127 - SAOOVQE.logger - INFO - Starting Orbital-Optimization process...\n",
      "2023-07-20 03:07:57,683 - SAOOVQE.logger - INFO - SA-optimized ansatz parameters: [ 0.11442736  0.11441883 -0.01226969]\n",
      "2023-07-20 03:07:57,683 - SAOOVQE.logger - INFO - Starting Orbital-Optimization process...\n",
      "2023-07-20 03:08:04,675 - SAOOVQE.logger - INFO - SA-optimized ansatz parameters: [ 0.11403237  0.11403792 -0.01227047]\n",
      "2023-07-20 03:08:04,675 - SAOOVQE.logger - INFO - Starting Orbital-Optimization process...\n",
      "2023-07-20 03:08:11,495 - SAOOVQE.logger - INFO - SA-optimized ansatz parameters: [ 0.11383862  0.11384158 -0.01226766]\n",
      "2023-07-20 03:08:11,496 - SAOOVQE.logger - INFO - Starting Orbital-Optimization process...\n",
      "2023-07-20 03:08:18,704 - SAOOVQE.logger - INFO - SA-optimized ansatz parameters: [ 0.1137443   0.11373953 -0.01226766]\n",
      "2023-07-20 03:08:18,705 - SAOOVQE.logger - INFO - Starting Orbital-Optimization process...\n",
      "2023-07-20 03:08:24,817 - SAOOVQE.logger - INFO - Optimal phi angle for state-resolution was obtained (phi* = 4.471212690863238).\n"
     ]
    },
    {
     "name": "stdout",
     "output_type": "stream",
     "text": [
      "[-92.68211799 -92.63750324]\n"
     ]
    }
   ],
   "source": [
    "from qiskit.algorithms.optimizers import SciPyOptimizer\n",
    "\n",
    "optimizer = SciPyOptimizer('SLSQP', options={'maxiter': 500, 'ftol': 1e-8})\n",
    "saoovqe_engs = solver.get_energy(optimizer)\n",
    "\n",
    "print(saoovqe_engs)"
   ],
   "metadata": {
    "collapsed": false,
    "ExecuteTime": {
     "end_time": "2023-07-20T01:08:25.261398419Z",
     "start_time": "2023-07-20T01:06:31.431359873Z"
    }
   }
  },
  {
   "cell_type": "markdown",
   "source": [
    "Also, without further setting things up, we're ready to compute our gradients now!"
   ],
   "metadata": {
    "collapsed": false
   }
  },
  {
   "cell_type": "code",
   "execution_count": 8,
   "outputs": [
    {
     "name": "stderr",
     "output_type": "stream",
     "text": [
      "2023-07-20 03:08:25,262 - SAOOVQE.logger - INFO - Constructing gradient evaluators...\n"
     ]
    },
    {
     "name": "stdout",
     "output_type": "stream",
     "text": [
      "[-0.22492593 -0.04892123 -0.20123659]\n",
      "[0.0745678  0.01792576 0.23635004]\n",
      "[-0.00312258  0.02465681 -0.02605481]\n",
      "[-0.00628439 -0.02588162 -0.02037615]\n",
      "[0.15976511 0.03222028 0.01131751]\n",
      "[-0.04097871 -0.02462531 -0.54292612]\n",
      "[0.0648765  0.00105069 0.51651813]\n",
      "[-0.02684153  0.03139331 -0.02809518]\n",
      "[-0.03878551 -0.03016996 -0.02734765]\n",
      "[0.04172925 0.02235127 0.08185082]\n"
     ]
    }
   ],
   "source": [
    "saoovqe_grads = []\n",
    "for state_idx in range(2):\n",
    "    saoovqe_grads.append(list())\n",
    "    for atom_idx in range(len(geometry)):\n",
    "        grad = solver.eval_eng_gradient(state_idx, atom_idx)\n",
    "        print(grad)\n",
    "        saoovqe_grads[state_idx].append(grad)"
   ],
   "metadata": {
    "collapsed": false,
    "ExecuteTime": {
     "end_time": "2023-07-20T01:08:48.136151567Z",
     "start_time": "2023-07-20T01:08:25.263867284Z"
    }
   }
  },
  {
   "cell_type": "markdown",
   "source": [
    "Perfect! For now, let's set our Psi4 CASSCF solver up. Let's start with re-writing our geometry specification in Psi4-convenient\n",
    "way and passing it to the toolkit."
   ],
   "metadata": {
    "collapsed": false
   }
  },
  {
   "cell_type": "code",
   "execution_count": 9,
   "outputs": [
    {
     "data": {
      "text/plain": "<psi4.core.Molecule at 0x7fcf6d798ef0>"
     },
     "execution_count": 9,
     "metadata": {},
     "output_type": "execute_result"
    }
   ],
   "source": [
    "import psi4\n",
    "import numpy as np\n",
    "\n",
    "def gen_formaldimine_geom_psi4(alpha, phi):\n",
    "    variables = [1.498047, 1.066797, 0.987109, 118.359375, alpha, phi]\n",
    "\n",
    "    # Create Z-matrix\n",
    "    string_geo_dum = '''0 1\n",
    "                    N\n",
    "                    C 1 {0}\n",
    "                    H 2 {1}  1 {3}\n",
    "                    H 2 {1}  1 {3} 3 180\n",
    "                    H 1 {2}  2 {4} 3 {5}\n",
    "                    symmetry c1\n",
    "                    '''.format(*variables)\n",
    "\n",
    "    # Convert to Cartesian coordinates\n",
    "    psi4.core.set_output_file('out.txt', False)\n",
    "    molecule_dum = psi4.geometry(string_geo_dum)\n",
    "    molecule_dum.translate(psi4.core.Vector3(-molecule_dum.x(0), -molecule_dum.y(0), -molecule_dum.z(0)))\n",
    "    mol_geom_dum = molecule_dum.geometry().np * problem.unit_constants['Bohr_to_Angstrom']\n",
    "\n",
    "    if not np.isclose(mol_geom_dum[1, 1], 0.):\n",
    "        mol_geom_dum[:, [1, 2]] = mol_geom_dum[:, [2, 1]]\n",
    "        mol_geom_dum[4, 0] = -mol_geom_dum[4, 0]\n",
    "\n",
    "    string_geo = ''\n",
    "    for i, e in enumerate(mol_geom_dum):\n",
    "        string_geo += f'{molecule_dum.flabel(i)}, {e[0]}, {e[1]}, {e[2]}\\n'\n",
    "\n",
    "    string_geo += 'symmetry c1\\n' \\\n",
    "                  'nocom\\n' \\\n",
    "                  'noreorient\\n'\n",
    "\n",
    "    return string_geo\n",
    "\n",
    "psi4.geometry(gen_formaldimine_geom_psi4(130, 80))"
   ],
   "metadata": {
    "collapsed": false,
    "ExecuteTime": {
     "end_time": "2023-07-20T01:08:48.154097078Z",
     "start_time": "2023-07-20T01:08:48.147286130Z"
    }
   }
  },
  {
   "cell_type": "markdown",
   "source": [
    "Now we'll specify all options for Psi4 CASSCF solver."
   ],
   "metadata": {
    "collapsed": false
   }
  },
  {
   "cell_type": "code",
   "execution_count": 10,
   "outputs": [],
   "source": [
    "n_orbs_frozen = len(problem.frozen_orbitals_indices)\n",
    "\n",
    "def psi4_casscf():\n",
    "    psi4.set_options({'basis': basis,\n",
    "                      'DETCI_FREEZE_CORE': False,\n",
    "                      'reference': 'RHF',\n",
    "                      'scf_type': 'pk',\n",
    "                      'num_roots': len(initial_circuits),\n",
    "                      'frozen_docc': [0],\n",
    "                      'restricted_docc': [n_orbs_frozen],\n",
    "                      'active': [n_orbs_active],\n",
    "                      'restricted_uocc': [solver.n_mo_optim - n_orbs_frozen - n_orbs_active],\n",
    "                      'frozen_uocc': [problem.virtual_orbitals_indices[-1] - solver.n_mo_optim + 1],\n",
    "                      'MAXITER': 1000,\n",
    "                      'DIIS': False,\n",
    "                      'D_CONVERGENCE': 1e-6,\n",
    "                      'E_CONVERGENCE': 1e-6,\n",
    "                      'S': 0,\n",
    "                      'avg_states': [0, 1],\n",
    "                      'avg_weights': [0.5, 0.5]})\n",
    "    psi4.energy('scf', return_wfn=True)\n",
    "    psi4.energy('casscf', return_wfn=True)"
   ],
   "metadata": {
    "collapsed": false,
    "ExecuteTime": {
     "end_time": "2023-07-20T01:08:48.283981206Z",
     "start_time": "2023-07-20T01:08:48.153810277Z"
    }
   }
  },
  {
   "cell_type": "markdown",
   "source": [
    "And run CASSCF preceded by a common SCF computation!"
   ],
   "metadata": {
    "collapsed": false
   }
  },
  {
   "cell_type": "code",
   "execution_count": 11,
   "outputs": [],
   "source": [
    "psi4_casscf()\n",
    "\n",
    "psi4_eng0 = psi4.variable('CI ROOT 0 TOTAL ENERGY')\n",
    "psi4_eng1 = psi4.variable('CI ROOT 1 TOTAL ENERGY')"
   ],
   "metadata": {
    "collapsed": false,
    "ExecuteTime": {
     "end_time": "2023-07-20T01:08:50.208337548Z",
     "start_time": "2023-07-20T01:08:48.286186768Z"
    }
   }
  },
  {
   "cell_type": "markdown",
   "source": [
    "Cool! Now we can check, if they're similar to our SA-OO-VQE-obtained energies..."
   ],
   "metadata": {
    "collapsed": false
   }
  },
  {
   "cell_type": "code",
   "execution_count": 12,
   "outputs": [
    {
     "name": "stdout",
     "output_type": "stream",
     "text": [
      "9.112910021258358e-06\n",
      "-9.114751094330131e-06\n"
     ]
    }
   ],
   "source": [
    "print(psi4_eng0 - saoovqe_engs[0])\n",
    "print(psi4_eng1 - saoovqe_engs[1])"
   ],
   "metadata": {
    "collapsed": false,
    "ExecuteTime": {
     "end_time": "2023-07-20T01:08:50.213108497Z",
     "start_time": "2023-07-20T01:08:50.209794585Z"
    }
   }
  },
  {
   "cell_type": "markdown",
   "source": [
    "Congratulations! Now it seems, that our energies are really close. Let's compute some gradients\n",
    "via Psi4. In this case, we'll stick to simple stuff and utilize finite-differences approach.\n",
    "Specifically, we'll obtain derivatives w.r.t. the $\\alpha$ angle. So, first of all, let's generate\n",
    "shifted geometries."
   ],
   "metadata": {
    "collapsed": false
   }
  },
  {
   "cell_type": "code",
   "execution_count": 13,
   "outputs": [],
   "source": [
    "delta = 1e-5\n",
    "\n",
    "geom_plus = gen_formaldimine_geom_psi4(alpha=130+(delta/2), phi=80)\n",
    "geom_minus = gen_formaldimine_geom_psi4(alpha=130-(delta/2),phi=80)"
   ],
   "metadata": {
    "collapsed": false,
    "ExecuteTime": {
     "end_time": "2023-07-20T01:08:50.324561609Z",
     "start_time": "2023-07-20T01:08:50.214712870Z"
    }
   }
  },
  {
   "cell_type": "markdown",
   "source": [
    "With geometries prepared, we can evaluate the corresponding energies."
   ],
   "metadata": {
    "collapsed": false
   }
  },
  {
   "cell_type": "code",
   "execution_count": 14,
   "outputs": [],
   "source": [
    "psi4.geometry(geom_plus)\n",
    "psi4_casscf()\n",
    "psi4_eng0_plus = psi4.variable('CI ROOT 0 TOTAL ENERGY')\n",
    "psi4_eng1_plus = psi4.variable('CI ROOT 1 TOTAL ENERGY')\n",
    "\n",
    "psi4.geometry(geom_minus)\n",
    "psi4_casscf()\n",
    "psi4_eng0_minus = psi4.variable('CI ROOT 0 TOTAL ENERGY')\n",
    "psi4_eng1_minus = psi4.variable('CI ROOT 1 TOTAL ENERGY')"
   ],
   "metadata": {
    "collapsed": false,
    "ExecuteTime": {
     "end_time": "2023-07-20T01:08:53.042711358Z",
     "start_time": "2023-07-20T01:08:50.328311027Z"
    }
   }
  },
  {
   "cell_type": "markdown",
   "source": [
    "And finally, let's evaluate Psi4 gradients w.r.t. $\\alpha$."
   ],
   "metadata": {
    "collapsed": false
   }
  },
  {
   "cell_type": "code",
   "execution_count": 15,
   "outputs": [],
   "source": [
    "psi4_grad_0 = (psi4_eng0_plus - psi4_eng0_minus)/delta\n",
    "psi4_grad_1 = (psi4_eng1_plus - psi4_eng1_minus)/delta"
   ],
   "metadata": {
    "collapsed": false,
    "ExecuteTime": {
     "end_time": "2023-07-20T01:08:53.048262150Z",
     "start_time": "2023-07-20T01:08:53.045330174Z"
    }
   }
  },
  {
   "cell_type": "markdown",
   "source": [
    "The gradients obtained directly from SA-OO-VQE are evaluated w.r.t. Cartesian coordinates, so we'll transform\n",
    "these to internal coordinate system to be able to compare the results to each other."
   ],
   "metadata": {
    "collapsed": false
   }
  },
  {
   "cell_type": "code",
   "execution_count": 16,
   "outputs": [
    {
     "name": "stdout",
     "output_type": "stream",
     "text": [
      "0.001654977271923073\n",
      "-0.0005821615397448378\n",
      "0.001655618575568951\n",
      "-0.0005825953053317789\n"
     ]
    }
   ],
   "source": [
    "def cartesian_to_inner(vector, R, phi, alpha):\n",
    "    phi_rad = np.deg2rad(phi)\n",
    "    alpha_rad = np.deg2rad(alpha)\n",
    "    v_R = -(vector[0] * np.sin(phi_rad) * np.sin(alpha_rad)) - (vector[1] * np.cos(phi_rad) * np.sin(alpha_rad)) + (vector[2] * np.cos(alpha_rad))\n",
    "    v_phi = -(vector[0] * R * np.cos(phi_rad) * np.sin(alpha_rad)) + (vector[1] * R * np.sin(phi_rad) * np.sin(alpha_rad))\n",
    "    v_alpha = -(vector[0] * R * np.sin(phi_rad) * np.cos(alpha_rad)) - (vector[1] * R * np.cos(phi_rad) * np.cos(alpha_rad)) \\\n",
    "              - (vector[2] * R * np.sin(alpha_rad))\n",
    "\n",
    "    return np.pi * np.array([v_R , v_phi, v_alpha]) / 180\n",
    "\n",
    "bond_length = np.sqrt(sum(np.array(geometry[4][1])**2))\n",
    "saoovqe_grad_0_inner = cartesian_to_inner(saoovqe_grads[0][4], bond_length, 80, 130)\n",
    "saoovqe_grad_1_inner = cartesian_to_inner(saoovqe_grads[1][4], bond_length, 80, 130)\n",
    "\n",
    "print(saoovqe_grad_0_inner[2])\n",
    "print(saoovqe_grad_1_inner[2])\n",
    "print(psi4_grad_0)\n",
    "print(psi4_grad_1)"
   ],
   "metadata": {
    "collapsed": false,
    "ExecuteTime": {
     "end_time": "2023-07-20T01:08:53.127125541Z",
     "start_time": "2023-07-20T01:08:53.052141105Z"
    }
   }
  },
  {
   "cell_type": "markdown",
   "source": [
    "And bingo! Even the gradients seem pretty close, so they're hopefully correct :D"
   ],
   "metadata": {
    "collapsed": false
   }
  }
 ],
 "metadata": {
  "kernelspec": {
   "display_name": "Python 3",
   "language": "python",
   "name": "python3"
  },
  "language_info": {
   "codemirror_mode": {
    "name": "ipython",
    "version": 2
   },
   "file_extension": ".py",
   "mimetype": "text/x-python",
   "name": "python",
   "nbconvert_exporter": "python",
   "pygments_lexer": "ipython2",
   "version": "2.7.6"
  }
 },
 "nbformat": 4,
 "nbformat_minor": 0
}
