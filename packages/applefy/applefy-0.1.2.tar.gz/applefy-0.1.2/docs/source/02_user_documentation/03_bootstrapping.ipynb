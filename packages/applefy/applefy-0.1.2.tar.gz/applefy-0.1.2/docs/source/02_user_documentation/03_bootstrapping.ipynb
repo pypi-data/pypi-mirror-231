{
 "cells": [
  {
   "cell_type": "markdown",
   "id": "3b1365dd",
   "metadata": {},
   "source": [
    "# Bootstrap Lookups"
   ]
  },
  {
   "cell_type": "markdown",
   "id": "b10ea6de",
   "metadata": {},
   "source": [
    "The [LaplaceBootstrapTest](../03_package/statistics.rst#applefy.statistics.bootstrapping.LaplaceBootstrapTest) allows a previously computed bootstrap experiment to be restored as a lookup table. That is, we can compute the distribution of $p(T =t | H_0)$ once and reuse it. This is possible because of the pivoting property of the test (see Bonse et al. subm).\n",
    "\n",
    "In this tutorial we run several bootstrap experiments for different separations from the star and save the results. "
   ]
  },
  {
   "cell_type": "markdown",
   "id": "57c65772",
   "metadata": {},
   "source": [
    "## Imports"
   ]
  },
  {
   "cell_type": "code",
   "execution_count": 1,
   "id": "4249b822",
   "metadata": {},
   "outputs": [],
   "source": [
    "from tqdm import tqdm\n",
    "import numpy as np\n",
    "\n",
    "from applefy.utils.positions import get_number_of_apertures\n",
    "from applefy.statistics.bootstrapping import LaplaceBootstrapTest"
   ]
  },
  {
   "cell_type": "markdown",
   "id": "b22d6d1e",
   "metadata": {},
   "source": [
    "## Determine the number of noise observations"
   ]
  },
  {
   "cell_type": "markdown",
   "id": "c6c9bb56",
   "metadata": {},
   "source": [
    "The distribution of $p(T =t | H_0)$ depends on the number of available noise values $n$. We pre-compute the bootstrap experiments for the innermost 20 $\\lambda /D$. Further out the noise is most likely Gaussian and a [t-test](../03_package/statistics.rst#applefy.statistics.parametric.TTest) should be used."
   ]
  },
  {
   "cell_type": "code",
   "execution_count": 2,
   "id": "0d8c128c",
   "metadata": {},
   "outputs": [],
   "source": [
    "# -1 for the planet signal\n",
    "max_n = get_number_of_apertures(20, 0.5)\n",
    "min_n = get_number_of_apertures(1, 0.5) - 1"
   ]
  },
  {
   "cell_type": "code",
   "execution_count": 3,
   "id": "c86f51fb",
   "metadata": {},
   "outputs": [
    {
     "data": {
      "text/plain": [
       "5"
      ]
     },
     "execution_count": 3,
     "metadata": {},
     "output_type": "execute_result"
    }
   ],
   "source": [
    "min_n"
   ]
  },
  {
   "cell_type": "code",
   "execution_count": 4,
   "id": "f7636f90",
   "metadata": {},
   "outputs": [
    {
     "data": {
      "text/plain": [
       "125"
      ]
     },
     "execution_count": 4,
     "metadata": {},
     "output_type": "execute_result"
    }
   ],
   "source": [
    "max_n"
   ]
  },
  {
   "cell_type": "markdown",
   "id": "67a68ee4",
   "metadata": {},
   "source": [
    "## Run the bootstrap experiments"
   ]
  },
  {
   "cell_type": "markdown",
   "id": "7128990b",
   "metadata": {},
   "source": [
    "Create the LaplaceBootstrapTest"
   ]
  },
  {
   "cell_type": "code",
   "execution_count": 5,
   "id": "f91db626",
   "metadata": {},
   "outputs": [],
   "source": [
    "bs_laplace_model = LaplaceBootstrapTest(num_cpus=100)"
   ]
  },
  {
   "cell_type": "markdown",
   "id": "c327437b",
   "metadata": {},
   "source": [
    "Calculate the bootstrap experiments."
   ]
  },
  {
   "cell_type": "code",
   "execution_count": 7,
   "id": "5393f24d",
   "metadata": {},
   "outputs": [],
   "source": [
    "# Loop over all separations of interest\n",
    "for tmp_num_noise_values in tqdm(range(min_n, max_n)[::-1]):\n",
    "    # 3.) Run the bootstrapping\n",
    "    bs_laplace_model.run_bootstrap_experiment(\n",
    "        memory_size=1e6,\n",
    "        num_noise_values=tmp_num_noise_values,\n",
    "        num_draws=1e9,\n",
    "        approximation_interval=np.linspace(-7, 7, 10000))"
   ]
  },
  {
   "cell_type": "markdown",
   "id": "d75bc5b8",
   "metadata": {},
   "source": [
    "## Save the lookup table"
   ]
  },
  {
   "cell_type": "code",
   "execution_count": null,
   "id": "edbf04e4",
   "metadata": {},
   "outputs": [],
   "source": [
    "bs_laplace_model.save_lookups(\"path/to/save.csv\")"
   ]
  }
 ],
 "metadata": {
  "kernelspec": {
   "display_name": "Python 3 (ipykernel)",
   "language": "python",
   "name": "python3"
  },
  "language_info": {
   "codemirror_mode": {
    "name": "ipython",
    "version": 3
   },
   "file_extension": ".py",
   "mimetype": "text/x-python",
   "name": "python",
   "nbconvert_exporter": "python",
   "pygments_lexer": "ipython3",
   "version": "3.8.10"
  }
 },
 "nbformat": 4,
 "nbformat_minor": 5
}
