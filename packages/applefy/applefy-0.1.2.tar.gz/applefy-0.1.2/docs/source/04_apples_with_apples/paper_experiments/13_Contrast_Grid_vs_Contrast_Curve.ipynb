{
 "cells": [
  {
   "cell_type": "markdown",
   "id": "1c149bc1",
   "metadata": {},
   "source": [
    "# Figure 13: Contrast Curve vs Contrast Grid"
   ]
  },
  {
   "cell_type": "markdown",
   "id": "9acb3c85",
   "metadata": {},
   "source": [
    "This code is used to create **Figure 13** in the **Apples with Apples** paper [(Bonse et al. 2023)](../../05_citation.rst). The compares the results of a thresholded contrast grid with the analytical contrast curve. \n",
    "\n",
    "**For more information on how to calculate contrast grids with applefy click** [here](../../02_user_documentation/02_contrast_grid.ipynb).\n",
    "\n",
    "**For more information on how to calculate contrast curves with applefy click** [here](../../02_user_documentation/01_contrast_curves.ipynb)."
   ]
  },
  {
   "cell_type": "markdown",
   "id": "0adbe6fd",
   "metadata": {},
   "source": [
    "## Imports"
   ]
  },
  {
   "cell_type": "code",
   "execution_count": 1,
   "id": "3cf5699a",
   "metadata": {},
   "outputs": [],
   "source": [
    "from pathlib import Path\n",
    "\n",
    "import numpy as np\n",
    "import seaborn as sns\n",
    "import pandas as pd\n",
    "import matplotlib.pyplot as plt\n",
    "import matplotlib.gridspec as gridspec\n",
    "\n",
    "from applefy.detections.contrast import Contrast\n",
    "from applefy.utils.photometry import AperturePhotometryMode\n",
    "from applefy.statistics import TTest, gaussian_sigma_2_fpf, \\\n",
    "    fpf_2_gaussian_sigma\n",
    "\n",
    "from applefy.utils.file_handling import load_adi_data, read_apples_with_apples_root\n",
    "from applefy.utils.positions import center_subpixel\n",
    "from applefy.utils import flux_ratio2mag, mag2flux_ratio"
   ]
  },
  {
   "cell_type": "markdown",
   "id": "56d3dd80",
   "metadata": {},
   "source": [
    "## Data Loading"
   ]
  },
  {
   "cell_type": "markdown",
   "id": "4e3e5abe",
   "metadata": {},
   "source": [
    "Figure 13 runs several fake planet experiments on the unstacked NACO data (see details in the paper). In order to run the code **make sure to download the data from Zenodo and [read the instructions](../02_paper_data.md) on how to setup the files**."
   ]
  },
  {
   "cell_type": "code",
   "execution_count": 2,
   "id": "532a231c",
   "metadata": {},
   "outputs": [
    {
     "name": "stdout",
     "output_type": "stream",
     "text": [
      "Data in the APPLES_ROOT_DIR found. Location: /home/ipa/quanz/user_accounts/mbonse/2021_Metrics/70_results/apples_root_dir\n"
     ]
    }
   ],
   "source": [
    "experiment_root = read_apples_with_apples_root()"
   ]
  },
  {
   "cell_type": "markdown",
   "id": "e1171827",
   "metadata": {},
   "source": [
    "The HR (High Temporal Resolution) data is the unstacked NACO data. Calculations with this data can be **computationally intensive**. You can also run the code with the LR (Low Temporal Resolution) data to save time."
   ]
  },
  {
   "cell_type": "code",
   "execution_count": 3,
   "id": "8b521874",
   "metadata": {},
   "outputs": [],
   "source": [
    "# 30_data/betapic_naco_lp_LR\n",
    "dataset_file = experiment_root / Path(\"30_data/betapic_naco_lp_HR.hdf5\")\n",
    "science_data_key = \"science_no_planet\"\n",
    "psf_template_key = \"psf_template\"\n",
    "parang_key = \"header_science_no_planet/PARANG\"\n",
    "\n",
    "dit_psf_template = 0.02019\n",
    "dit_science = 0.2\n",
    "fwhm = 4.2  # estimeated with Pynpoint in advance"
   ]
  },
  {
   "cell_type": "markdown",
   "id": "c8f4ff67",
   "metadata": {},
   "source": [
    "We load the unstacked NACO data. In order to save computation time we reduce the resolution of the science sequence by cutting around the central star."
   ]
  },
  {
   "cell_type": "code",
   "execution_count": 4,
   "id": "b5570fd3",
   "metadata": {},
   "outputs": [],
   "source": [
    "# we need the psf template for contrast calculation\n",
    "science_data, angles, raw_psf_template_data = load_adi_data(\n",
    "    dataset_file,\n",
    "    data_tag=science_data_key,\n",
    "    psf_template_tag=psf_template_key,\n",
    "    para_tag=parang_key)\n",
    "\n",
    "psf_template = raw_psf_template_data[82:-82, 82:-82]\n",
    "science_data = science_data[:, 55:-55, 55:-55]"
   ]
  },
  {
   "cell_type": "markdown",
   "id": "727a1886",
   "metadata": {},
   "source": [
    "## Compute Contrast Curve and Grid"
   ]
  },
  {
   "cell_type": "markdown",
   "id": "1d13229b",
   "metadata": {},
   "source": [
    "We use the class [Contrast](../../03_package/detections.rst#applefy.detections.contrast.Contrast) of applefy to calculate the contrast curves and grids. We can use the same instance for both calculations. The contrast curve will be based on the smallest flux ratio defined in the next step."
   ]
  },
  {
   "cell_type": "code",
   "execution_count": 5,
   "id": "e4aa891d",
   "metadata": {},
   "outputs": [],
   "source": [
    "checkpoint_dir = experiment_root / Path(\"70_results/detection_limits/contrast_grid_lr\")\n",
    "\n",
    "contrast_instance = Contrast(\n",
    "    science_sequence=science_data,\n",
    "    psf_template=psf_template,\n",
    "    parang_rad=angles,\n",
    "    psf_fwhm_radius=fwhm / 2,\n",
    "    dit_psf_template=dit_psf_template,\n",
    "    dit_science=dit_science,\n",
    "    checkpoint_dir=checkpoint_dir)"
   ]
  },
  {
   "cell_type": "markdown",
   "id": "ac3c48c0",
   "metadata": {},
   "source": [
    "### Step 1: Design fake planet experiments"
   ]
  },
  {
   "cell_type": "markdown",
   "id": "6ddf3ea1",
   "metadata": {},
   "source": [
    "In the first step we **choose** at which **separations** and for which **planet brightness** we want to insert fake planets. Compared to the example shown in the [user documentation](../../02_user_documentation/01_contrast_curves.ipynb) we run much more fake planet experiments in order to **increase the resolution** of the contrast grid. This is computational expensive on the unstacked data!"
   ]
  },
  {
   "cell_type": "code",
   "execution_count": 6,
   "id": "1e4cada6",
   "metadata": {},
   "outputs": [
    {
     "name": "stdout",
     "output_type": "stream",
     "text": [
      "Brightness of fake planets in mag: [ 5.   5.5  6.   6.5  7.   7.5  8.   8.5  9.   9.5 10.  10.5 11.  11.5\n",
      " 12.  12.5 13.  13.5 14.  14.5 15. ]\n",
      "Planet-to-star flux ratio: [1.00000000e-02 6.30957344e-03 3.98107171e-03 2.51188643e-03\n",
      " 1.58489319e-03 1.00000000e-03 6.30957344e-04 3.98107171e-04\n",
      " 2.51188643e-04 1.58489319e-04 1.00000000e-04 6.30957344e-05\n",
      " 3.98107171e-05 2.51188643e-05 1.58489319e-05 1.00000000e-05\n",
      " 6.30957344e-06 3.98107171e-06 2.51188643e-06 1.58489319e-06\n",
      " 1.00000000e-06]\n"
     ]
    }
   ],
   "source": [
    "# fake planet brightness\n",
    "flux_ratios_mag = np.linspace(5, 15, 21)\n",
    "flux_ratios = mag2flux_ratio(flux_ratios_mag)\n",
    "\n",
    "print(\"Brightness of fake planets in mag: \" + str(flux_ratios_mag))\n",
    "print(\"Planet-to-star flux ratio: \" + str(flux_ratios))"
   ]
  },
  {
   "cell_type": "markdown",
   "id": "b0f863d8",
   "metadata": {},
   "source": [
    "By default, separations are selected in steps of 1 FWHM from the central star to the edge of the image. **We want twice the resolution for this plot**. The separations have to be given in pixel values."
   ]
  },
  {
   "cell_type": "code",
   "execution_count": 7,
   "id": "5296e401",
   "metadata": {},
   "outputs": [
    {
     "data": {
      "text/plain": [
       "array([ 4.2,  6.3,  8.4, 10.5, 12.6, 14.7, 16.8, 18.9, 21. , 23.1, 25.2,\n",
       "       27.3, 29.4, 31.5, 33.6, 35.7])"
      ]
     },
     "execution_count": 7,
     "metadata": {},
     "output_type": "execute_result"
    }
   ],
   "source": [
    "# We want the double resolution as in the tutorial example\n",
    "center = center_subpixel(science_data[0])\n",
    "separations = np.arange(2.1, center[0], fwhm/2)[1:]\n",
    "separations"
   ]
  },
  {
   "cell_type": "markdown",
   "id": "f0c08097",
   "metadata": {},
   "source": [
    "For each cell in the contrast grid we calculate *num_fake_planets* (between min=1 and max=6) planet residuals."
   ]
  },
  {
   "cell_type": "code",
   "execution_count": 8,
   "id": "7000134c",
   "metadata": {},
   "outputs": [
    {
     "name": "stdout",
     "output_type": "stream",
     "text": [
      "Overwriting existing config files.\n"
     ]
    }
   ],
   "source": [
    "num_fake_planets = 6\n",
    "\n",
    "contrast_instance.design_fake_planet_experiments(\n",
    "    flux_ratios=flux_ratios,\n",
    "    num_planets=num_fake_planets,\n",
    "    separations=separations,\n",
    "    overwrite=True)"
   ]
  },
  {
   "cell_type": "markdown",
   "id": "6838868c",
   "metadata": {},
   "source": [
    "### Step 2: Run fake planet experiments"
   ]
  },
  {
   "cell_type": "markdown",
   "id": "3e09c167",
   "metadata": {},
   "source": [
    "In the second step we **insert fake planetes** as chosen in the first step. For each planet we **run a full-frame PCA** to obtain a residual image. We use the [PynPoint](https://pynpoint.readthedocs.io/en/latest/) [wrappers](../../03_package/wrappers.rst) of applefy."
   ]
  },
  {
   "cell_type": "code",
   "execution_count": 9,
   "id": "e0520aba",
   "metadata": {},
   "outputs": [],
   "source": [
    "from applefy.wrappers.pynpoint import MultiComponentPCAPynPoint"
   ]
  },
  {
   "cell_type": "markdown",
   "id": "714262b0",
   "metadata": {},
   "source": [
    "We compute the results for 5, 10, 20, 30 and 50 PCA components. For the plot later only two of the results is used."
   ]
  },
  {
   "cell_type": "code",
   "execution_count": 10,
   "id": "ba0283de",
   "metadata": {},
   "outputs": [],
   "source": [
    "components = [5, 10, 20, 30, 50]"
   ]
  },
  {
   "cell_type": "markdown",
   "id": "8ea85f49",
   "metadata": {},
   "source": [
    "**Make sure to choose a scratch folder which has a high bandwidth!**"
   ]
  },
  {
   "cell_type": "code",
   "execution_count": 11,
   "id": "185d35de",
   "metadata": {},
   "outputs": [],
   "source": [
    "algorithm_function = MultiComponentPCAPynPoint(\n",
    "    num_pcas=components,\n",
    "    scratch_dir=Path(\"/scratch/mbonse/applefy_scratch2/\"),\n",
    "    num_cpus_pynpoint=1)"
   ]
  },
  {
   "cell_type": "markdown",
   "id": "df30bd77",
   "metadata": {},
   "source": [
    "If the results are available from previous calculations the following step will just restore the residuals."
   ]
  },
  {
   "cell_type": "code",
   "execution_count": 12,
   "id": "899d23cf",
   "metadata": {},
   "outputs": [
    {
     "name": "stdout",
     "output_type": "stream",
     "text": [
      "Running fake planet experiments..."
     ]
    },
    {
     "name": "stderr",
     "output_type": "stream",
     "text": [
      "100%|██████████████████████████████████████████████████████████████████████████████████████████████████████████████████████████████████████████████████████████████████| 2017/2017 [00:13<00:00, 145.02it/s]\n"
     ]
    },
    {
     "name": "stdout",
     "output_type": "stream",
     "text": [
      "[DONE]\n"
     ]
    }
   ],
   "source": [
    "contrast_instance.run_fake_planet_experiments(\n",
    "    algorithm_function=algorithm_function,\n",
    "    num_parallel=32)"
   ]
  },
  {
   "cell_type": "markdown",
   "id": "aa297b6f",
   "metadata": {},
   "source": [
    "### Step 3: Pick the AperturePhotometryMode"
   ]
  },
  {
   "cell_type": "markdown",
   "id": "76ac97c0",
   "metadata": {},
   "source": [
    "Since we are close to the star in the speckle dominated regime we use spaced pixel instead of apertures to measure the pixel and noise photometry."
   ]
  },
  {
   "cell_type": "code",
   "execution_count": 13,
   "id": "c7c8873e",
   "metadata": {},
   "outputs": [],
   "source": [
    "photometry_mode_planet = AperturePhotometryMode(\"FS\", search_area=0.5)\n",
    "photometry_mode_noise = AperturePhotometryMode(\"P\")"
   ]
  },
  {
   "cell_type": "code",
   "execution_count": 14,
   "id": "d0232108",
   "metadata": {},
   "outputs": [],
   "source": [
    "contrast_instance.prepare_contrast_results(\n",
    "    photometry_mode_planet=photometry_mode_planet,\n",
    "    photometry_mode_noise=photometry_mode_noise)"
   ]
  },
  {
   "cell_type": "markdown",
   "id": "30573e2a",
   "metadata": {},
   "source": [
    "### Step 4: Compute contrast curves"
   ]
  },
  {
   "cell_type": "markdown",
   "id": "ff6eb051",
   "metadata": {},
   "source": [
    "Next, we calculate the contrast curves using a [t-test](../../03_package/statistics.rst#applefy.statistics.parametric.TTest). In contrast to the example shown in the [user documentation](../../02_user_documentation/01_contrast_curves.ipynb) we only compute the contrast curve for 10 and 50 PCA components. The member *contrast_results* of the class [Contrast](../../03_package/detections.rst#applefy.detections.contrast.Contrast) contains a *dict* of [ContrastResults](../../03_package/detections.rst#applefy.detections.contrast.ContrastResult). These can be used to individually calculate the contrast curves of different algorithm setups."
   ]
  },
  {
   "cell_type": "code",
   "execution_count": 15,
   "id": "bccf683a",
   "metadata": {},
   "outputs": [],
   "source": [
    "contrast_result1 = contrast_instance.contrast_results[\"PCA (010 components)\"]\n",
    "contrast_result2 = contrast_instance.contrast_results[\"PCA (050 components)\"]"
   ]
  },
  {
   "cell_type": "markdown",
   "id": "2221f3e4",
   "metadata": {},
   "source": [
    "Create the t-test."
   ]
  },
  {
   "cell_type": "code",
   "execution_count": 16,
   "id": "ddf038c9",
   "metadata": {},
   "outputs": [],
   "source": [
    "ttest_statistic = TTest()"
   ]
  },
  {
   "cell_type": "code",
   "execution_count": 17,
   "id": "a6e85a15",
   "metadata": {},
   "outputs": [
    {
     "name": "stderr",
     "output_type": "stream",
     "text": [
      "100%|███████████████████████████████████████████████████████████████████████████████████████████████████████████████████████████████████████████████████████████████████████| 16/16 [02:27<00:00,  9.23s/it]\n"
     ]
    }
   ],
   "source": [
    "median_contrast_1, contrast_error_1 = \\\n",
    "    contrast_result1.compute_analytic_contrast_curve(\n",
    "        confidence_level_fpf=gaussian_sigma_2_fpf(5),\n",
    "        statistical_test=ttest_statistic,\n",
    "        num_rot_iter=360)"
   ]
  },
  {
   "cell_type": "code",
   "execution_count": 18,
   "id": "94d3f697",
   "metadata": {},
   "outputs": [
    {
     "name": "stderr",
     "output_type": "stream",
     "text": [
      "100%|███████████████████████████████████████████████████████████████████████████████████████████████████████████████████████████████████████████████████████████████████████| 16/16 [02:29<00:00,  9.33s/it]\n"
     ]
    }
   ],
   "source": [
    "median_contrast_2, contrast_error_2 = \\\n",
    "    contrast_result2.compute_analytic_contrast_curve(\n",
    "        confidence_level_fpf=gaussian_sigma_2_fpf(5),\n",
    "        statistical_test=ttest_statistic,\n",
    "        num_rot_iter=360)"
   ]
  },
  {
   "cell_type": "markdown",
   "id": "d1e1e5f9",
   "metadata": {},
   "source": [
    "### Step 5: Compute the Contrast grids"
   ]
  },
  {
   "cell_type": "markdown",
   "id": "c3f81b25",
   "metadata": {},
   "source": [
    "The same for the contrast grids..."
   ]
  },
  {
   "cell_type": "code",
   "execution_count": 19,
   "id": "66541441",
   "metadata": {},
   "outputs": [
    {
     "name": "stdout",
     "output_type": "stream",
     "text": [
      "Computing contrast grid with multiprocessing:\n",
      "................................................................................................................................................................................................................................................................................................................................................[DONE]\n"
     ]
    }
   ],
   "source": [
    "contrast_grid1, contrast_grid_curve1 = contrast_result1.compute_contrast_grid(\n",
    "    statistical_test=ttest_statistic,\n",
    "    num_cores=20,\n",
    "    num_rot_iter=20,\n",
    "    safety_margin=1.0,\n",
    "    confidence_level_fpf=gaussian_sigma_2_fpf(5))"
   ]
  },
  {
   "cell_type": "code",
   "execution_count": 20,
   "id": "b879b49a",
   "metadata": {},
   "outputs": [
    {
     "name": "stdout",
     "output_type": "stream",
     "text": [
      "Computing contrast grid with multiprocessing:\n",
      "................................................................................................................................................................................................................................................................................................................................................[DONE]\n"
     ]
    }
   ],
   "source": [
    "contrast_grid2, contrast_grid_curve2 = contrast_result2.compute_contrast_grid(\n",
    "    statistical_test=ttest_statistic,\n",
    "    num_cores=20,\n",
    "    num_rot_iter=20,\n",
    "    safety_margin=1.0,\n",
    "    confidence_level_fpf=gaussian_sigma_2_fpf(5))"
   ]
  },
  {
   "cell_type": "markdown",
   "id": "8357d238",
   "metadata": {},
   "source": [
    "## Create the Plot"
   ]
  },
  {
   "cell_type": "markdown",
   "id": "82a2de57",
   "metadata": {},
   "source": [
    "Define the colors we use."
   ]
  },
  {
   "cell_type": "code",
   "execution_count": 21,
   "id": "b12fc534",
   "metadata": {},
   "outputs": [],
   "source": [
    "color_palette = [sns.color_palette(\"colorblind\")[1],\n",
    "                 sns.color_palette(\"colorblind\")[8]]"
   ]
  },
  {
   "cell_type": "markdown",
   "id": "7e055bd9",
   "metadata": {},
   "source": [
    "Convert some units."
   ]
  },
  {
   "cell_type": "code",
   "execution_count": 22,
   "id": "3d082f9a",
   "metadata": {},
   "outputs": [],
   "source": [
    "separations = contrast_grid_curve2.index / fwhm"
   ]
  },
  {
   "cell_type": "markdown",
   "id": "dedee72f",
   "metadata": {},
   "source": [
    "A small helper function to plot one contrast curve."
   ]
  },
  {
   "cell_type": "code",
   "execution_count": 23,
   "id": "942955ae",
   "metadata": {},
   "outputs": [],
   "source": [
    "def plot_contrast_curve(separations_in,\n",
    "                        median_contrast,\n",
    "                        contrast_error,\n",
    "                        label, \n",
    "                        axis):\n",
    "    axis.plot(separations_in, \n",
    "              flux_ratio2mag(median_contrast), \n",
    "              label=label,\n",
    "              lw=3)\n",
    "    \n",
    "    if contrast_error is not None:\n",
    "        axis.fill_between(\n",
    "            separations_in,\n",
    "            flux_ratio2mag(median_contrast + contrast_error * 2), \n",
    "            flux_ratio2mag(median_contrast - contrast_error * 2),\n",
    "            alpha=0.5)"
   ]
  },
  {
   "cell_type": "markdown",
   "id": "c37a4559",
   "metadata": {},
   "source": [
    "Create the final figure."
   ]
  },
  {
   "cell_type": "code",
   "execution_count": 27,
   "id": "8d09541b",
   "metadata": {
    "nbsphinx-thumbnail": {
     "tooltip": "Comparison of contrast curve and contrast grid."
    }
   },
   "outputs": [
    {
     "name": "stderr",
     "output_type": "stream",
     "text": [
      "/home/ipa/quanz/user_accounts/mbonse/2021_Metrics/50_code/applefy/applefy/utils/photometry.py:31: RuntimeWarning: invalid value encountered in log10\n",
      "  return -np.log10(flux_ratios) * 2.5\n"
     ]
    },
    {
     "data": {
      "image/png": "[encoded data removed]",
      "text/plain": [
       "<Figure size 800x800 with 2 Axes>"
      ]
     },
     "metadata": {},
     "output_type": "display_data"
    }
   ],
   "source": [
    "# 1. Create Plot Layout ------------------------------------------\n",
    "fig = plt.figure(constrained_layout=False, figsize=(8, 8))\n",
    "gs0 = fig.add_gridspec(2, 1)\n",
    "gs0.update(hspace=0.07, wspace=0.09)\n",
    "\n",
    "axis_pca_10 = fig.add_subplot(gs0[0])\n",
    "axis_pca_50 = fig.add_subplot(gs0[1])\n",
    "\n",
    "# 2. Plot the first comparison -----------------------------------\n",
    "plot_contrast_curve(\n",
    "    separations,\n",
    "    median_contrast_1.values.flatten(), \n",
    "    contrast_error_1.values.flatten(), \n",
    "    \"Contrast curve\", axis_pca_10)\n",
    "\n",
    "plot_contrast_curve(\n",
    "    separations, \n",
    "    contrast_grid_curve1.values.flatten(),\n",
    "    None, \n",
    "    \"Contrast grid\", axis_pca_10)\n",
    "\n",
    "axis_pca_10.set_ylim(11.5, 2.5)\n",
    "axis_pca_10.grid()\n",
    "plt.setp(axis_pca_10.get_xticklabels(), visible=False)\n",
    "\n",
    "axis_pca_10.text(\n",
    "    7, 3.5, r\"10 PCA components\",\n",
    "    ha=\"center\", fontsize=14, #fontweight=\"bold\",\n",
    "    bbox=dict(facecolor='white',\n",
    "              edgecolor='grey', \n",
    "              boxstyle='round,pad=0.5'))\n",
    "\n",
    "# 3. Plot the first comparison at 50 pca  ------------------------\n",
    "plot_contrast_curve(\n",
    "    separations,\n",
    "    median_contrast_2.values.flatten(),\n",
    "    contrast_error_2.values.flatten(), \n",
    "    \"Contrast Curve\", axis_pca_50)\n",
    "\n",
    "plot_contrast_curve(\n",
    "    separations,\n",
    "    contrast_grid_curve2.values.flatten(),\n",
    "    None, \n",
    "    \"Contrast Grid\", axis_pca_50)\n",
    "\n",
    "axis_pca_50.set_ylim(11.5, 2.5)\n",
    "axis_pca_50.grid()\n",
    "\n",
    "axis_pca_50.text(\n",
    "    7, 3.5, r\"50 PCA components\",\n",
    "    ha=\"center\", fontsize=14, #fontweight=\"bold\",\n",
    "    bbox=dict(facecolor='white', \n",
    "              edgecolor='grey', \n",
    "              boxstyle='round,pad=0.5'))\n",
    "\n",
    "# 4. Labels  ----------------------------------------------------\n",
    "axis_pca_50.set_xlabel(r\"Separation [FWHM]\", size=14)\n",
    "axis_pca_50.set_ylabel(r\"Contrast [mag]\", size=14)\n",
    "axis_pca_10.set_ylabel(r\"Contrast [mag]\", size=14)\n",
    "axis_pca_10.set_yticks(np.arange(2, 12, 1))\n",
    "axis_pca_50.set_yticks(np.arange(2, 12, 1))\n",
    "axis_pca_10.tick_params(axis='both',\n",
    "                        which='major', \n",
    "                        labelsize=12)\n",
    "axis_pca_50.tick_params(axis='both',\n",
    "                        which='major', \n",
    "                        labelsize=12)\n",
    "axis_pca_10.set_title(\n",
    "    \"Contrast Grid vs. Contrast Curve\",\n",
    "    fontsize=16, fontweight=\"bold\", y=1.02)\n",
    "\n",
    "# Legend\n",
    "handles, labels = axis_pca_10.get_legend_handles_labels()\n",
    "leg1 = fig.legend(handles, labels, \n",
    "                  bbox_to_anchor=(0.22, -0.024),\n",
    "                  loc='lower left', ncol=2, fontsize=14)\n",
    "plt.setp(leg1.get_title(),fontsize=14)\n",
    "\n",
    "\n",
    "fig.patch.set_facecolor('white')\n",
    "plt.savefig(\"./13_Contrast_grid_vs_curve.pdf\", \n",
    "            bbox_extra_artists=(leg1,), \n",
    "            bbox_inches='tight')"
   ]
  },
  {
   "cell_type": "markdown",
   "id": "44c53a59",
   "metadata": {},
   "source": [
    "Note: The warning is cause by np.inf values in the contrast curve derived from the grid."
   ]
  }
 ],
 "metadata": {
  "kernelspec": {
   "display_name": "Python 3 (ipykernel)",
   "language": "python",
   "name": "python3"
  },
  "language_info": {
   "codemirror_mode": {
    "name": "ipython",
    "version": 3
   },
   "file_extension": ".py",
   "mimetype": "text/x-python",
   "name": "python",
   "nbconvert_exporter": "python",
   "pygments_lexer": "ipython3",
   "version": "3.8.10"
  }
 },
 "nbformat": 4,
 "nbformat_minor": 5
}
