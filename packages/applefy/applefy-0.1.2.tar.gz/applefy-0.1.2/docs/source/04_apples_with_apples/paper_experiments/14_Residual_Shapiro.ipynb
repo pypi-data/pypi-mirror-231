{
 "cells": [
  {
   "cell_type": "markdown",
   "metadata": {},
   "source": [
    "# Figure 14: Shapiro-Wilk test"
   ]
  },
  {
   "cell_type": "markdown",
   "metadata": {},
   "source": [
    "This code is used to create **Figure 14** in the **Apples with Apples** paper [(Bonse et al. 2023)](../../05_citation.rst). The Figure shows the sensitivity of the Shapiro-Wilk test as a function of separation from the star. We study two cases: \n",
    "1. The false positive fraction of the Shapiro-Wilk test in case of Gaussian noise.\n",
    "2. The sensitivity i.e. true positive fractionof the Shapiro-Wilk in case of Laplactian noise."
   ]
  },
  {
   "cell_type": "markdown",
   "metadata": {},
   "source": [
    "## Imports"
   ]
  },
  {
   "cell_type": "code",
   "execution_count": 1,
   "metadata": {},
   "outputs": [],
   "source": [
    "import os\n",
    "import random\n",
    "import pickle\n",
    "import numpy as np\n",
    "from scipy import stats\n",
    "from tqdm import tqdm\n",
    "import seaborn as sns\n",
    "\n",
    "import matplotlib.pyplot as plt\n",
    "\n",
    "from applefy.utils.mc_simulations import draw_mc_sample\n",
    "from applefy.utils.file_handling import read_apples_with_apples_root"
   ]
  },
  {
   "cell_type": "markdown",
   "metadata": {},
   "source": [
    "## Monte-Carlo Simulation"
   ]
  },
  {
   "cell_type": "markdown",
   "metadata": {},
   "source": [
    "<div style=\"text-align: justify\">\n",
    "First we need to run the monte carlo simulation. This step is computationally very expensive. If you just want to reproduce the plot you can skip this part and [restore the results](14_Residual_Shapiro.ipynb#Alternative:-restore-the-results) from Zenodo.\n",
    "</div>"
   ]
  },
  {
   "cell_type": "code",
   "execution_count": 2,
   "metadata": {},
   "outputs": [],
   "source": [
    "# Compute the number of independent resolution elements\n",
    "separations = np.linspace(1, 8, 15)\n",
    "num_res_elements = [(int(np.floor(np.pi*2*i)), i) for i in separations]"
   ]
  },
  {
   "cell_type": "markdown",
   "metadata": {},
   "source": [
    "Run the actual monte-carlo simulation."
   ]
  },
  {
   "cell_type": "code",
   "execution_count": 3,
   "metadata": {
    "scrolled": false
   },
   "outputs": [
    {
     "name": "stdout",
     "output_type": "stream",
     "text": [
      "Running separation 1.0\n"
     ]
    },
    {
     "name": "stderr",
     "output_type": "stream",
     "text": [
      "100%|██████████████████████████████████████████████████████████████████████████████████████████████████████████████████████████████████████████████████████████| 1000000/1000000 [01:08<00:00, 14681.50it/s]\n"
     ]
    },
    {
     "name": "stdout",
     "output_type": "stream",
     "text": [
      "Running separation 1.5\n"
     ]
    },
    {
     "name": "stderr",
     "output_type": "stream",
     "text": [
      "100%|██████████████████████████████████████████████████████████████████████████████████████████████████████████████████████████████████████████████████████████| 1000000/1000000 [01:08<00:00, 14605.14it/s]\n"
     ]
    },
    {
     "name": "stdout",
     "output_type": "stream",
     "text": [
      "Running separation 2.0\n"
     ]
    },
    {
     "name": "stderr",
     "output_type": "stream",
     "text": [
      "100%|██████████████████████████████████████████████████████████████████████████████████████████████████████████████████████████████████████████████████████████| 1000000/1000000 [01:09<00:00, 14298.64it/s]\n"
     ]
    },
    {
     "name": "stdout",
     "output_type": "stream",
     "text": [
      "Running separation 2.5\n"
     ]
    },
    {
     "name": "stderr",
     "output_type": "stream",
     "text": [
      "100%|██████████████████████████████████████████████████████████████████████████████████████████████████████████████████████████████████████████████████████████| 1000000/1000000 [01:09<00:00, 14456.29it/s]\n"
     ]
    },
    {
     "name": "stdout",
     "output_type": "stream",
     "text": [
      "Running separation 3.0\n"
     ]
    },
    {
     "name": "stderr",
     "output_type": "stream",
     "text": [
      "100%|██████████████████████████████████████████████████████████████████████████████████████████████████████████████████████████████████████████████████████████| 1000000/1000000 [01:06<00:00, 15059.11it/s]\n"
     ]
    },
    {
     "name": "stdout",
     "output_type": "stream",
     "text": [
      "Running separation 3.5\n"
     ]
    },
    {
     "name": "stderr",
     "output_type": "stream",
     "text": [
      "100%|██████████████████████████████████████████████████████████████████████████████████████████████████████████████████████████████████████████████████████████| 1000000/1000000 [01:08<00:00, 14615.66it/s]\n"
     ]
    },
    {
     "name": "stdout",
     "output_type": "stream",
     "text": [
      "Running separation 4.0\n"
     ]
    },
    {
     "name": "stderr",
     "output_type": "stream",
     "text": [
      "100%|██████████████████████████████████████████████████████████████████████████████████████████████████████████████████████████████████████████████████████████| 1000000/1000000 [01:08<00:00, 14507.22it/s]\n"
     ]
    },
    {
     "name": "stdout",
     "output_type": "stream",
     "text": [
      "Running separation 4.5\n"
     ]
    },
    {
     "name": "stderr",
     "output_type": "stream",
     "text": [
      "100%|██████████████████████████████████████████████████████████████████████████████████████████████████████████████████████████████████████████████████████████| 1000000/1000000 [01:09<00:00, 14337.79it/s]\n"
     ]
    },
    {
     "name": "stdout",
     "output_type": "stream",
     "text": [
      "Running separation 5.0\n"
     ]
    },
    {
     "name": "stderr",
     "output_type": "stream",
     "text": [
      "100%|██████████████████████████████████████████████████████████████████████████████████████████████████████████████████████████████████████████████████████████| 1000000/1000000 [01:08<00:00, 14642.79it/s]\n"
     ]
    },
    {
     "name": "stdout",
     "output_type": "stream",
     "text": [
      "Running separation 5.5\n"
     ]
    },
    {
     "name": "stderr",
     "output_type": "stream",
     "text": [
      "100%|██████████████████████████████████████████████████████████████████████████████████████████████████████████████████████████████████████████████████████████| 1000000/1000000 [01:08<00:00, 14550.62it/s]\n"
     ]
    },
    {
     "name": "stdout",
     "output_type": "stream",
     "text": [
      "Running separation 6.0\n"
     ]
    },
    {
     "name": "stderr",
     "output_type": "stream",
     "text": [
      "100%|██████████████████████████████████████████████████████████████████████████████████████████████████████████████████████████████████████████████████████████| 1000000/1000000 [01:10<00:00, 14091.97it/s]\n"
     ]
    },
    {
     "name": "stdout",
     "output_type": "stream",
     "text": [
      "Running separation 6.5\n"
     ]
    },
    {
     "name": "stderr",
     "output_type": "stream",
     "text": [
      "100%|██████████████████████████████████████████████████████████████████████████████████████████████████████████████████████████████████████████████████████████| 1000000/1000000 [01:08<00:00, 14502.08it/s]\n"
     ]
    },
    {
     "name": "stdout",
     "output_type": "stream",
     "text": [
      "Running separation 7.0\n"
     ]
    },
    {
     "name": "stderr",
     "output_type": "stream",
     "text": [
      "100%|██████████████████████████████████████████████████████████████████████████████████████████████████████████████████████████████████████████████████████████| 1000000/1000000 [01:11<00:00, 14012.24it/s]\n"
     ]
    },
    {
     "name": "stdout",
     "output_type": "stream",
     "text": [
      "Running separation 7.5\n"
     ]
    },
    {
     "name": "stderr",
     "output_type": "stream",
     "text": [
      "100%|██████████████████████████████████████████████████████████████████████████████████████████████████████████████████████████████████████████████████████████| 1000000/1000000 [01:10<00:00, 14105.61it/s]\n"
     ]
    },
    {
     "name": "stdout",
     "output_type": "stream",
     "text": [
      "Running separation 8.0\n"
     ]
    },
    {
     "name": "stderr",
     "output_type": "stream",
     "text": [
      "100%|██████████████████████████████████████████████████████████████████████████████████████████████████████████████████████████████████████████████████████████| 1000000/1000000 [01:10<00:00, 14153.04it/s]\n"
     ]
    }
   ],
   "source": [
    "np.random.seed(42)\n",
    "num_tests= 1e6\n",
    "\n",
    "p_values_normal = dict()\n",
    "p_values_laplace = dict()\n",
    "\n",
    "for tmp_num_res, tmp_separation in num_res_elements:\n",
    "    print(\"Running separation \" + str(tmp_separation))\n",
    "    \n",
    "    # Draw noise\n",
    "    _, res_values_normal, _ = draw_mc_sample(\n",
    "        tmp_num_res,\n",
    "        num_draws=num_tests,\n",
    "        noise_distribution=\"gaussian\",\n",
    "        num_cores=32,\n",
    "        loc_noise=1,\n",
    "        scale_noise=1)\n",
    "\n",
    "    _, res_values_laplace, _ = draw_mc_sample(\n",
    "        tmp_num_res,\n",
    "        num_draws=num_tests,\n",
    "        noise_distribution=\"laplace\",\n",
    "        num_cores=32,\n",
    "        loc_noise=1,\n",
    "        scale_noise=1)\n",
    "    \n",
    "    # Compute p-values\n",
    "    p_values_normal[tmp_separation] = []\n",
    "    p_values_laplace[tmp_separation] = []\n",
    "\n",
    "    for i in tqdm(range(int(num_tests))):\n",
    "        p_values_normal[tmp_separation].append(\n",
    "            stats.shapiro(res_values_normal[i, :]).pvalue)\n",
    "        p_values_laplace[tmp_separation].append(\n",
    "            stats.shapiro(res_values_laplace[i, :]).pvalue)"
   ]
  },
  {
   "cell_type": "markdown",
   "metadata": {},
   "source": [
    "Save the results."
   ]
  },
  {
   "cell_type": "code",
   "execution_count": 4,
   "metadata": {},
   "outputs": [
    {
     "name": "stdout",
     "output_type": "stream",
     "text": [
      "Data in the APPLES_ROOT_DIR found. Location: /home/ipa/quanz/user_accounts/mbonse/2021_Metrics/70_results/apples_root_dir\n"
     ]
    }
   ],
   "source": [
    "result_dir = os.path.join(\n",
    "    read_apples_with_apples_root(),\n",
    "    \"70_results/shapiro_wilk_tests/\")"
   ]
  },
  {
   "cell_type": "code",
   "execution_count": 5,
   "metadata": {},
   "outputs": [],
   "source": [
    "# Save as .pkl\n",
    "with open(os.path.join(result_dir, 'A1_Shapiro_normal.pkl'), 'wb') as handle:\n",
    "    pickle.dump(p_values_normal, handle, protocol=pickle.HIGHEST_PROTOCOL)\n",
    "    \n",
    "with open(os.path.join(result_dir, 'A1_Shapiro_laplace.pkl'), 'wb') as handle:\n",
    "    pickle.dump(p_values_laplace, handle, protocol=pickle.HIGHEST_PROTOCOL)"
   ]
  },
  {
   "cell_type": "markdown",
   "metadata": {},
   "source": [
    "## Alternative: restore the results"
   ]
  },
  {
   "cell_type": "markdown",
   "metadata": {},
   "source": [
    "Restore the results of the Monte-Carlo simulation. In order to run the code **make sure to download the data from Zenodo and [read the instructions](../02_paper_data.md) on how to setup the files**."
   ]
  },
  {
   "cell_type": "code",
   "execution_count": 6,
   "metadata": {},
   "outputs": [
    {
     "name": "stdout",
     "output_type": "stream",
     "text": [
      "Data in the APPLES_ROOT_DIR found. Location: /home/ipa/quanz/user_accounts/mbonse/2021_Metrics/70_results/apples_root_dir\n"
     ]
    }
   ],
   "source": [
    "result_dir = os.path.join(\n",
    "    read_apples_with_apples_root(),\n",
    "    \"70_results/shapiro_wilk_tests/\")"
   ]
  },
  {
   "cell_type": "markdown",
   "metadata": {},
   "source": [
    "The restored results just contain the p-values of the test for Gaussian noise (false positives) and Laplacian noise (true positives)."
   ]
  },
  {
   "cell_type": "code",
   "execution_count": 7,
   "metadata": {},
   "outputs": [],
   "source": [
    "# Load .pkl\n",
    "with open(os.path.join(result_dir, 'A1_Shapiro_normal.pkl'), 'rb') as handle:\n",
    "    p_values_normal = pickle.load(handle)\n",
    "    \n",
    "with open(os.path.join(result_dir, 'A1_Shapiro_laplace.pkl'), 'rb') as handle:\n",
    "    p_values_laplace = pickle.load(handle)"
   ]
  },
  {
   "cell_type": "markdown",
   "metadata": {},
   "source": [
    "## Compute FPF and TPF"
   ]
  },
  {
   "cell_type": "markdown",
   "metadata": {},
   "source": [
    "We compute the false positive fraction (FPF) and true positive fraction (TPF) for two different confidence levels: $p<0.01$ and $p<0.2$."
   ]
  },
  {
   "cell_type": "code",
   "execution_count": 8,
   "metadata": {},
   "outputs": [],
   "source": [
    "# FPF\n",
    "normal_p_001 = [np.sum(np.array(p_values) < 0.01) /\n",
    "                len(p_values) for p_values in p_values_normal.values()]\n",
    "# TPF\n",
    "laplace_p_001 = [np.sum(np.array(p_values) < 0.01) / len(p_values)\n",
    "                 for p_values in p_values_laplace.values()]\n",
    "\n",
    "# FPF\n",
    "normal_p_02 = [np.sum(np.array(p_values) < 0.2) / len(p_values) \n",
    "               for p_values in p_values_normal.values()]\n",
    "# TPF\n",
    "laplace_p_02 = [np.sum(np.array(p_values) < 0.2) / len(p_values) \n",
    "                for p_values in p_values_laplace.values()]"
   ]
  },
  {
   "cell_type": "markdown",
   "metadata": {},
   "source": [
    "## Make the Plot"
   ]
  },
  {
   "cell_type": "markdown",
   "metadata": {},
   "source": [
    "Define the colors we want to use for the plot."
   ]
  },
  {
   "cell_type": "code",
   "execution_count": 9,
   "metadata": {},
   "outputs": [],
   "source": [
    "color_palette = [sns.color_palette(\"colorblind\")[0],\n",
    "                 sns.color_palette(\"colorblind\")[1]]"
   ]
  },
  {
   "cell_type": "markdown",
   "metadata": {},
   "source": [
    "A small function to plot the two cases $p<0.01$ and $p<0.2$."
   ]
  },
  {
   "cell_type": "code",
   "execution_count": 10,
   "metadata": {},
   "outputs": [],
   "source": [
    "def plot_results(\n",
    "    axis_in,\n",
    "    fpf_values,\n",
    "    tpf_values,\n",
    "    title):\n",
    "    \n",
    "    # Plot the fpf and tpf\n",
    "    axis_in.plot(\n",
    "        p_values_normal.keys(),\n",
    "        fpf_values, \n",
    "        lw=3, color=color_palette[0], \n",
    "        label=\"Gaussian Noise\")\n",
    "    \n",
    "    axis_in.plot(\n",
    "        p_values_normal.keys(), \n",
    "        tpf_values, \n",
    "        lw=3, color=color_palette[1], \n",
    "        label=\"Laplacian Noise\")\n",
    "    \n",
    "    axis_in.grid()\n",
    "    axis_in.set_ylim(0, 1)\n",
    "    axis_in.set_xlim(0.5, 8.5)\n",
    "    axis_in.set_xticks(np.arange(1,9))\n",
    "\n",
    "    # Change the Labels and ticks\n",
    "    for tick in axis_in.xaxis.get_major_ticks():\n",
    "        tick.label1.set_fontsize(12) \n",
    "\n",
    "    # second x axis for the number of Resolution elements\n",
    "    axis_in_2 = axis_in.twiny()\n",
    "    \n",
    "    axis_in_2.set_xticks(np.arange(1, 9))\n",
    "    axis_in_2.tick_params(axis=\"x\",direction=\"in\", pad=-45)\n",
    "    \n",
    "    axis_in_2.set_xticklabels(\n",
    "        [i[1] for i in num_res_elements][::2], fontsize=12)\n",
    "    axis_in_2.set_xlim(0.5, 8.5)\n",
    "    \n",
    "    for tmp_label in axis_in_2.xaxis.get_ticklabels():\n",
    "        tmp_label.set_bbox(dict(facecolor='white', edgecolor='none'))\n",
    "        \n",
    "    axis_in_2.text(\n",
    "        1.3, 0.87, \"# Resolution elements\", \n",
    "        bbox=dict(facecolor='white', edgecolor='none'),\n",
    "        fontsize=14) \n",
    "\n",
    "    axis_in.set_title(title, fontsize=14, y=1.02)\n",
    "    axis_in.set_xlabel(r\"Separation $[FWHM]$\", fontsize=14)"
   ]
  },
  {
   "cell_type": "markdown",
   "metadata": {},
   "source": [
    "Create the actual plot."
   ]
  },
  {
   "cell_type": "code",
   "execution_count": 11,
   "metadata": {
    "nbsphinx-thumbnail": {
     "tooltip": "Sensitivity and FPF of the Shapiro-Wilk test as a function of the separation from the star."
    }
   },
   "outputs": [
    {
     "data": {
      "image/png": "[encoded data removed]",
      "text/plain": [
       "<Figure size 800x350 with 4 Axes>"
      ]
     },
     "metadata": {},
     "output_type": "display_data"
    }
   ],
   "source": [
    "# 1.) Create the Figure Layout\n",
    "fig = plt.figure(constrained_layout=False, \n",
    "                 figsize=(8, 3.5))\n",
    "\n",
    "gs0 = fig.add_gridspec(1, 2)\n",
    "gs0.update(hspace=0.1, wspace=0.05)\n",
    "\n",
    "low = fig.add_subplot(gs0[0, 0])\n",
    "high = fig.add_subplot(gs0[0, 1], \n",
    "                       sharey=low, sharex=low)\n",
    "\n",
    "# 2.) Plot 1: p < 0.01\n",
    "plot_results(\n",
    "    axis_in=low,\n",
    "    fpf_values=normal_p_001,\n",
    "    tpf_values=laplace_p_001,\n",
    "    title=r\"$p < 0.01$\")\n",
    "low.set_ylabel(\"Fraction of trials\", fontsize=14)\n",
    "\n",
    "# 3.) Plot 2: p < 0.2\n",
    "plot_results(\n",
    "    axis_in=high,\n",
    "    fpf_values=normal_p_02,\n",
    "    tpf_values=laplace_p_02,\n",
    "    title=r\"$p < 0.2$\")\n",
    "\n",
    "plt.setp(high.get_yticklabels(), visible=False)\n",
    "\n",
    "# 4.) Legend\n",
    "lgd = low.legend(loc='center right',ncol=2,\n",
    "                 bbox_to_anchor=(1.78, -0.32),\n",
    "                 fontsize=14,\n",
    "                 markerscale=3.,)\n",
    "\n",
    "fig_title = fig.suptitle(\n",
    "    \"Testing for Normality in the Residuals\",\n",
    "    size=16, fontweight=\"bold\", y=1.06)\n",
    "\n",
    "fig.patch.set_facecolor('white')\n",
    "plt.savefig(\"./14_Residual_Shapiro.pdf\", \n",
    "            bbox_extra_artists=(lgd, fig_title),\n",
    "            bbox_inches='tight')"
   ]
  }
 ],
 "metadata": {
  "celltoolbar": "Edit Metadata",
  "kernelspec": {
   "display_name": "Python 3 (ipykernel)",
   "language": "python",
   "name": "python3"
  },
  "language_info": {
   "codemirror_mode": {
    "name": "ipython",
    "version": 3
   },
   "file_extension": ".py",
   "mimetype": "text/x-python",
   "name": "python",
   "nbconvert_exporter": "python",
   "pygments_lexer": "ipython3",
   "version": "3.8.10"
  }
 },
 "nbformat": 4,
 "nbformat_minor": 4
}
