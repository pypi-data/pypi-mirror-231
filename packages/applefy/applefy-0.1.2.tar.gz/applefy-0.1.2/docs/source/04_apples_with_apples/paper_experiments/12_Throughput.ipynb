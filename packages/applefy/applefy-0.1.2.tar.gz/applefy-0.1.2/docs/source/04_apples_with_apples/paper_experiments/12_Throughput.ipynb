{
 "cells": [
  {
   "cell_type": "markdown",
   "id": "0bb3af84",
   "metadata": {},
   "source": [
    "# Figure 12: Throughput"
   ]
  },
  {
   "cell_type": "markdown",
   "id": "1d355165",
   "metadata": {},
   "source": [
    "This code is used to create **Figure 12** in the **Apples with Apples** paper [(Bonse et al. 2023)](../../05_citation.rst). The code shows how to compute a throughput table which presents the amount of signal loss due to PCA.'"
   ]
  },
  {
   "cell_type": "markdown",
   "id": "f7fd34e4",
   "metadata": {},
   "source": [
    "## Imports"
   ]
  },
  {
   "cell_type": "code",
   "execution_count": 1,
   "id": "8b6ae96c",
   "metadata": {},
   "outputs": [],
   "source": [
    "from pathlib import Path\n",
    "\n",
    "import numpy as np\n",
    "import pandas as pd\n",
    "import seaborn as sns\n",
    "\n",
    "import matplotlib.pyplot as plt\n",
    "import matplotlib.gridspec as gridspec\n",
    "\n",
    "from applefy.detections.contrast import Contrast\n",
    "from applefy.detections.contrast import ContrastResult\n",
    "from applefy.utils.photometry import AperturePhotometryMode\n",
    "from applefy.utils.file_handling import read_apples_with_apples_root, load_adi_data\n",
    "from applefy.utils import flux_ratio2mag, mag2flux_ratio\n",
    "from applefy.utils.positions import center_subpixel"
   ]
  },
  {
   "cell_type": "markdown",
   "id": "78fced49",
   "metadata": {},
   "source": [
    "## Data Loading"
   ]
  },
  {
   "cell_type": "markdown",
   "id": "c0282405",
   "metadata": {},
   "source": [
    "Figure 12 runs several fake planet experiments on the unstacked NACO data (see details in the paper). In order to run the code **make sure to download the data from Zenodo and [read the instructions](../02_paper_data.md) on how to setup the files**."
   ]
  },
  {
   "cell_type": "code",
   "execution_count": 2,
   "id": "76743474",
   "metadata": {},
   "outputs": [
    {
     "name": "stdout",
     "output_type": "stream",
     "text": [
      "Data in the APPLES_ROOT_DIR found. Location: /home/ipa/quanz/user_accounts/mbonse/2021_Metrics/70_results/apples_root_dir\n"
     ]
    }
   ],
   "source": [
    "experiment_root = read_apples_with_apples_root()"
   ]
  },
  {
   "cell_type": "markdown",
   "id": "a8f495cf",
   "metadata": {},
   "source": [
    "The HR (High Temporal Resolution) data is the unstacked NACO data. Calculations with this data can be **computationally intensive**. You can also run the code with the LR (Low Temporal Resolution) data to save time."
   ]
  },
  {
   "cell_type": "code",
   "execution_count": 3,
   "id": "46b7acb4",
   "metadata": {},
   "outputs": [],
   "source": [
    "# 30_data/betapic_naco_lp_LR\n",
    "dataset_file = experiment_root / Path(\"30_data/betapic_naco_lp_HR.hdf5\")\n",
    "science_data_key = \"science_no_planet\"\n",
    "psf_template_key = \"psf_template\"\n",
    "parang_key = \"header_science_no_planet/PARANG\"\n",
    "\n",
    "dit_psf_template = 0.02019\n",
    "dit_science = 0.2\n",
    "fwhm = 4.2  # estimeated with Pynpoint in advance"
   ]
  },
  {
   "cell_type": "markdown",
   "id": "04230f47",
   "metadata": {},
   "source": [
    "We load the unstacked NACO data. In order to save computation time we reduce the resolution of the science sequence by cutting around the central star."
   ]
  },
  {
   "cell_type": "code",
   "execution_count": 4,
   "id": "73d0b315",
   "metadata": {},
   "outputs": [],
   "source": [
    "# we need the psf template for contrast calculation\n",
    "science_data, angles, raw_psf_template_data = load_adi_data(\n",
    "    dataset_file,\n",
    "    data_tag=science_data_key,\n",
    "    psf_template_tag=psf_template_key,\n",
    "    para_tag=parang_key)\n",
    "\n",
    "psf_template = raw_psf_template_data[82:-82, 82:-82]\n",
    "science_data = science_data[:, 55:-55, 55:-55]"
   ]
  },
  {
   "cell_type": "markdown",
   "id": "db50172a",
   "metadata": {},
   "source": [
    "## Compute the Throughput Table"
   ]
  },
  {
   "cell_type": "markdown",
   "id": "3f5c7be9",
   "metadata": {},
   "source": [
    "We use the class [Contrast](../../03_package/detections.rst#applefy.detections.contrast.Contrast) of applefy to calculate the throughput table. The throughput table is usually calculated as a intermediate step for the calculation of an [analytical contrast curve](../../02_user_documentation/01_contrast_curves.ipynb)."
   ]
  },
  {
   "cell_type": "code",
   "execution_count": 5,
   "id": "50f45a7e",
   "metadata": {},
   "outputs": [],
   "source": [
    "checkpoint_dir = experiment_root / Path(\"70_results/detection_limits/contrast_grid_hr\")\n",
    "\n",
    "contrast_instance = Contrast(\n",
    "    science_sequence=science_data,\n",
    "    psf_template=psf_template,\n",
    "    parang_rad=angles,\n",
    "    psf_fwhm_radius=fwhm / 2,\n",
    "    dit_psf_template=dit_psf_template,\n",
    "    dit_science=dit_science,\n",
    "    checkpoint_dir=checkpoint_dir)"
   ]
  },
  {
   "cell_type": "markdown",
   "id": "c71c8c82",
   "metadata": {},
   "source": [
    "### Step 1: Design fake planet experiments"
   ]
  },
  {
   "cell_type": "markdown",
   "id": "f23e451f",
   "metadata": {},
   "source": [
    "In the first step we **choose** at which **separations** and for which **planet brightness** we want to insert fake planets. Compared to the example shown in the [user documentation](../../02_user_documentation/02_contrast_grid.ipynb) for the contrast grid we run much more fake planet experiments in order to **increase the resolution** of the contrast grid. This is computational expensive on the unstacked data!"
   ]
  },
  {
   "cell_type": "code",
   "execution_count": 6,
   "id": "96175a82",
   "metadata": {},
   "outputs": [
    {
     "name": "stdout",
     "output_type": "stream",
     "text": [
      "Brightness of fake planets in mag: [ 5.   5.5  6.   6.5  7.   7.5  8.   8.5  9.   9.5 10.  10.5 11.  11.5\n",
      " 12.  12.5 13.  13.5 14.  14.5 15. ]\n",
      "Planet-to-star flux ratio: [1.00000000e-02 6.30957344e-03 3.98107171e-03 2.51188643e-03\n",
      " 1.58489319e-03 1.00000000e-03 6.30957344e-04 3.98107171e-04\n",
      " 2.51188643e-04 1.58489319e-04 1.00000000e-04 6.30957344e-05\n",
      " 3.98107171e-05 2.51188643e-05 1.58489319e-05 1.00000000e-05\n",
      " 6.30957344e-06 3.98107171e-06 2.51188643e-06 1.58489319e-06\n",
      " 1.00000000e-06]\n"
     ]
    }
   ],
   "source": [
    "# fake planet brightness\n",
    "flux_ratios_mag = np.linspace(5, 15, 21)\n",
    "flux_ratios = mag2flux_ratio(flux_ratios_mag)\n",
    "\n",
    "print(\"Brightness of fake planets in mag: \" + str(flux_ratios_mag))\n",
    "print(\"Planet-to-star flux ratio: \" + str(flux_ratios))"
   ]
  },
  {
   "cell_type": "markdown",
   "id": "66b92b23",
   "metadata": {},
   "source": [
    "By default, separations are selected in steps of 1 FWHM from the central star to the edge of the image. **We want twice the resolution for this plot**. The separations have to be given in pixel values."
   ]
  },
  {
   "cell_type": "code",
   "execution_count": 7,
   "id": "dd2f5d0c",
   "metadata": {},
   "outputs": [
    {
     "data": {
      "text/plain": [
       "array([ 4.2,  6.3,  8.4, 10.5, 12.6, 14.7, 16.8, 18.9, 21. , 23.1, 25.2,\n",
       "       27.3, 29.4, 31.5, 33.6, 35.7])"
      ]
     },
     "execution_count": 7,
     "metadata": {},
     "output_type": "execute_result"
    }
   ],
   "source": [
    "# We want the double resolution as in the tutorial example\n",
    "center = center_subpixel(science_data[0])\n",
    "separations = np.arange(2.1, center[0], fwhm/2)[1:]\n",
    "separations"
   ]
  },
  {
   "cell_type": "markdown",
   "id": "3a719f3e",
   "metadata": {},
   "source": [
    "For each cell in the contrast grid we calculate *num_fake_planets* (between min=1 and max=6) planet residuals."
   ]
  },
  {
   "cell_type": "code",
   "execution_count": 8,
   "id": "a7de0b13",
   "metadata": {},
   "outputs": [
    {
     "name": "stdout",
     "output_type": "stream",
     "text": [
      "Overwriting existing config files.\n"
     ]
    }
   ],
   "source": [
    "num_fake_planets = 6\n",
    "\n",
    "contrast_instance.design_fake_planet_experiments(\n",
    "    flux_ratios=flux_ratios,\n",
    "    num_planets=num_fake_planets,\n",
    "    separations=separations,\n",
    "    overwrite=True)"
   ]
  },
  {
   "cell_type": "markdown",
   "id": "90d281d3",
   "metadata": {},
   "source": [
    "### Step 2: Run fake planet experiments"
   ]
  },
  {
   "cell_type": "markdown",
   "id": "82245f08",
   "metadata": {},
   "source": [
    "In the second step we **insert fake planetes** as chosen in the first step. For each planet we **run a full-frame PCA** to obtain a residual image. We use the [PynPoint](https://pynpoint.readthedocs.io/en/latest/) [wrappers](../../03_package/wrappers.rst) of applefy."
   ]
  },
  {
   "cell_type": "code",
   "execution_count": 9,
   "id": "8bb04f09",
   "metadata": {},
   "outputs": [],
   "source": [
    "from applefy.wrappers.pynpoint import MultiComponentPCAPynPoint"
   ]
  },
  {
   "cell_type": "markdown",
   "id": "48488f40",
   "metadata": {},
   "source": [
    "We compute the results for 5, 10, 20, 30 and 50 PCA components. For the plot later only one of the results is used."
   ]
  },
  {
   "cell_type": "code",
   "execution_count": 10,
   "id": "46806627",
   "metadata": {},
   "outputs": [],
   "source": [
    "components = [5, 10, 20, 30, 50]"
   ]
  },
  {
   "cell_type": "markdown",
   "id": "5713df88",
   "metadata": {},
   "source": [
    "**Make sure to choose a scratch folder which has a high bandwidth!**"
   ]
  },
  {
   "cell_type": "code",
   "execution_count": 11,
   "id": "00ced387",
   "metadata": {},
   "outputs": [],
   "source": [
    "algorithm_function = MultiComponentPCAPynPoint(\n",
    "    num_pcas=components,\n",
    "    scratch_dir=Path(\"/scratch/mbonse/applefy_scratch2/\"),\n",
    "    num_cpus_pynpoint=1)"
   ]
  },
  {
   "cell_type": "markdown",
   "id": "ea015ddf",
   "metadata": {},
   "source": [
    "If the results are available from previous calculations the following step will just restore the residuals."
   ]
  },
  {
   "cell_type": "code",
   "execution_count": 12,
   "id": "be8a67f0",
   "metadata": {},
   "outputs": [
    {
     "name": "stdout",
     "output_type": "stream",
     "text": [
      "Running fake planet experiments..."
     ]
    },
    {
     "name": "stderr",
     "output_type": "stream",
     "text": [
      "100%|██████████████████████████████████████████████████████████████████████████████████████████████████████████████████████████████████████████████████████████████████| 2017/2017 [00:15<00:00, 133.42it/s]\n"
     ]
    },
    {
     "name": "stdout",
     "output_type": "stream",
     "text": [
      "[DONE]\n"
     ]
    }
   ],
   "source": [
    "contrast_instance.run_fake_planet_experiments(\n",
    "    algorithm_function=algorithm_function,\n",
    "    num_parallel=32)"
   ]
  },
  {
   "cell_type": "markdown",
   "id": "14edf2ca",
   "metadata": {},
   "source": [
    "### Step 3: Pick the AperturePhotometryMode"
   ]
  },
  {
   "cell_type": "markdown",
   "id": "db04b4b6",
   "metadata": {},
   "source": [
    "Since we are close to the star in the speckle dominated regime we use spaced pixel instead of apertures to measure the pixel and noise photometry."
   ]
  },
  {
   "cell_type": "code",
   "execution_count": 13,
   "id": "33ba3c88",
   "metadata": {},
   "outputs": [],
   "source": [
    "photometry_mode_planet = AperturePhotometryMode(\"FS\", search_area=0.5)\n",
    "photometry_mode_noise = AperturePhotometryMode(\"P\")"
   ]
  },
  {
   "cell_type": "code",
   "execution_count": 14,
   "id": "73b1c763",
   "metadata": {},
   "outputs": [],
   "source": [
    "contrast_instance.prepare_contrast_results(\n",
    "    photometry_mode_planet=photometry_mode_planet,\n",
    "    photometry_mode_noise=photometry_mode_noise)"
   ]
  },
  {
   "cell_type": "markdown",
   "id": "0b2d0d5d",
   "metadata": {},
   "source": [
    "### Step 4: Calculate the throughput table"
   ]
  },
  {
   "cell_type": "markdown",
   "id": "622b5826",
   "metadata": {},
   "source": [
    "Pick the [ContrastResult](../../03_package/detections.rst#applefy.detections.contrast.ContrastResult) with 30 PCA components."
   ]
  },
  {
   "cell_type": "code",
   "execution_count": 15,
   "id": "6e1591db",
   "metadata": {},
   "outputs": [],
   "source": [
    "contrast_results_1 = contrast_instance.contrast_results[\"PCA (030 components)\"]"
   ]
  },
  {
   "cell_type": "markdown",
   "id": "fa015cce",
   "metadata": {},
   "source": [
    "Compute the throughput table."
   ]
  },
  {
   "cell_type": "code",
   "execution_count": 16,
   "id": "a40e58fb",
   "metadata": {},
   "outputs": [],
   "source": [
    "throughput_results_1 = contrast_results_1.compute_throughput().T"
   ]
  },
  {
   "cell_type": "markdown",
   "id": "9e783b08",
   "metadata": {},
   "source": [
    "## Create the Plot"
   ]
  },
  {
   "cell_type": "markdown",
   "id": "0fa4e4a3",
   "metadata": {},
   "source": [
    "Some unit conversions."
   ]
  },
  {
   "cell_type": "code",
   "execution_count": 17,
   "id": "918ba03d",
   "metadata": {},
   "outputs": [],
   "source": [
    "throughput_results_1.index = flux_ratio2mag(throughput_results_1.index)\n",
    "throughput_results_1.columns = (throughput_results_1.columns/4.2).astype(\"int\")\n",
    "throughput_results_1 = throughput_results_1.iloc[:17, :].iloc[::2, ::2]"
   ]
  },
  {
   "cell_type": "markdown",
   "id": "cde44d79",
   "metadata": {},
   "source": [
    "A small helper function to plot a throughput table."
   ]
  },
  {
   "cell_type": "code",
   "execution_count": 18,
   "id": "b949e965",
   "metadata": {},
   "outputs": [],
   "source": [
    "def plot_throughput(axis_in,\n",
    "                    tmp_throughput_results,\n",
    "                    color_bar):\n",
    "    \n",
    "    c_bar_kargs = dict(orientation = \"vertical\",\n",
    "                       label = r\"Throughput - $\\kappa(f_p, s)$\")\n",
    "    \n",
    "    heat = sns.heatmap(tmp_throughput_results,\n",
    "                       vmax=0, vmin=0.8, \n",
    "                       annot=True,\n",
    "                       cmap=\"YlGnBu\",\n",
    "                       ax=axis_in,\n",
    "                       cbar_ax=colorbar_ax,\n",
    "                       cbar_kws=c_bar_kargs)\n",
    "    \n",
    "    ylabels = ['{:d}'.format(int(float(x.get_text()))) for x in heat.get_yticklabels()]\n",
    "    _=heat.set_yticklabels(ylabels)"
   ]
  },
  {
   "cell_type": "markdown",
   "id": "c0dc5bdc",
   "metadata": {},
   "source": [
    "Create the final figure."
   ]
  },
  {
   "cell_type": "code",
   "execution_count": 19,
   "id": "622af199",
   "metadata": {
    "nbsphinx-thumbnail": {
     "tooltip": "A throughput table which shows the amount of signal loss due to PCA."
    }
   },
   "outputs": [
    {
     "data": {
      "image/png": "[encoded data removed]",
      "text/plain": [
       "<Figure size 800x500 with 2 Axes>"
      ]
     },
     "metadata": {},
     "output_type": "display_data"
    }
   ],
   "source": [
    "# 1. Create the plot layout ---------------------------------------\n",
    "fig = plt.figure(constrained_layout=False, figsize=(8, 5))\n",
    "\n",
    "gs0 = fig.add_gridspec(1, 2, width_ratios = [1, 0.05])\n",
    "gs0.update(wspace=0.05)\n",
    "\n",
    "gs1 = gridspec.GridSpecFromSubplotSpec(\n",
    "    1, 1, subplot_spec = gs0[0], \n",
    "    hspace=0.12)\n",
    "gs2 = gridspec.GridSpecFromSubplotSpec(\n",
    "    3, 1, subplot_spec = gs0[1], \n",
    "    height_ratios=[0.1, 0.8, 0.1])\n",
    "\n",
    "throughput_ax1 = fig.add_subplot(gs1[0])\n",
    "colorbar_ax = fig.add_subplot(gs2[1])\n",
    "\n",
    "# 2. Plot the throughput table ------------------------------------\n",
    "plot_throughput(throughput_ax1, throughput_results_1,\n",
    "                color_bar=False)\n",
    "\n",
    "throughput_ax1.set_ylabel(\n",
    "    \"Contrast - $c = f_p / f_*$ - [mag]\", size=14)\n",
    "throughput_ax1.set_xlabel(None)\n",
    "throughput_ax1.tick_params(\n",
    "    axis='both', which='major', labelsize=12)\n",
    "\n",
    "# 3. Create the colorbar ------------------------------------------\n",
    "cbar = throughput_ax1.collections[0].colorbar\n",
    "cbar.ax.tick_params(labelsize=14)\n",
    "throughput_ax1.figure.axes[-1].yaxis.label.set_size(14)\n",
    "\n",
    "# 4. Labels -------------------------------------------------------\n",
    "throughput_ax1.set_ylabel(\n",
    "    r\"Contrast - $c = f_p / f_*$ - [mag]\", size=14)\n",
    "throughput_ax1.set_xlabel(\n",
    "    r\"Separation - $s$ - $\\left[FWHM \\right]$\", size=14)\n",
    "\n",
    "fig.patch.set_facecolor('white')\n",
    "plt.savefig(\"./12_Throughput.pdf\", bbox_inches='tight')"
   ]
  }
 ],
 "metadata": {
  "celltoolbar": "Edit Metadata",
  "kernelspec": {
   "display_name": "Python 3 (ipykernel)",
   "language": "python",
   "name": "python3"
  },
  "language_info": {
   "codemirror_mode": {
    "name": "ipython",
    "version": 3
   },
   "file_extension": ".py",
   "mimetype": "text/x-python",
   "name": "python",
   "nbconvert_exporter": "python",
   "pygments_lexer": "ipython3",
   "version": "3.8.10"
  }
 },
 "nbformat": 4,
 "nbformat_minor": 5
}
