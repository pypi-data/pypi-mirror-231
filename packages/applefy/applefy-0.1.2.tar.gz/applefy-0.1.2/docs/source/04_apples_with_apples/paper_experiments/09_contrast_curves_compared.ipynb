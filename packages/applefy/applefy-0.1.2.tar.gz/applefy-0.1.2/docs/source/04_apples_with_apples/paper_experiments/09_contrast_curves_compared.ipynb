{
 "cells": [
  {
   "cell_type": "markdown",
   "id": "52598f0e",
   "metadata": {},
   "source": [
    "# Figure 9: Contrast Curves compared"
   ]
  },
  {
   "cell_type": "markdown",
   "id": "57548484",
   "metadata": {},
   "source": [
    "This code is used to create **Figure 9** in the **Apples with Apples** paper [(Bonse et al. 2023)](../../05_citation.rst). The code computes contrast curves under two different assumptions about residual noise:\n",
    "    \n",
    "1. The residual noise is Gaussian. This is the classical [t-test](../../03_package/statistics.rst#applefy.statistics.parametric.TTest) as discussed in [Mawet et al. 2014](https://arxiv.org/abs/1407.2247).\n",
    "2. The residual noise is Laplacian (i.e. more heavily tailed than Gaussian). This is the parametric bootstrapping test discussed in (Bonse et al. in prep.). We use the [LaplaceBootstrapTest](../../03_package/statistics.rst#applefy.statistics.bootstrapping.LaplaceBootstrapTest) in applefy to compute the curve.\n",
    "\n",
    "**For more information on how to calculate contrast curves with applefy click** [here](../../02_user_documentation/01_contrast_curves.ipynb)."
   ]
  },
  {
   "cell_type": "markdown",
   "id": "05237bc7",
   "metadata": {},
   "source": [
    "## Imports"
   ]
  },
  {
   "cell_type": "code",
   "execution_count": 1,
   "id": "3861917a",
   "metadata": {},
   "outputs": [],
   "source": [
    "from pathlib import Path\n",
    "\n",
    "import numpy as np\n",
    "import seaborn as sns\n",
    "import pandas as pd\n",
    "import matplotlib.pyplot as plt\n",
    "import matplotlib.gridspec as gridspec\n",
    "\n",
    "from applefy.detections.contrast import Contrast\n",
    "\n",
    "from applefy.utils.photometry import AperturePhotometryMode\n",
    "from applefy.statistics import TTest, gaussian_sigma_2_fpf, \\\n",
    "    fpf_2_gaussian_sigma, LaplaceBootstrapTest\n",
    "\n",
    "from applefy.utils.positions import center_subpixel\n",
    "from applefy.utils.file_handling import load_adi_data, read_apples_with_apples_root\n",
    "from applefy.utils import flux_ratio2mag, mag2flux_ratio"
   ]
  },
  {
   "cell_type": "markdown",
   "id": "aad57715",
   "metadata": {},
   "source": [
    "## Data Loading"
   ]
  },
  {
   "cell_type": "markdown",
   "id": "f407a930",
   "metadata": {},
   "source": [
    "Figure 10 runs several fake planet experiments on the unstacked NACO data (see details in the paper). In order to run the code **make sure to download the data from Zenodo and [read the instructions](../02_paper_data.md) on how to setup the files**."
   ]
  },
  {
   "cell_type": "code",
   "execution_count": 2,
   "id": "ed132c0b",
   "metadata": {},
   "outputs": [
    {
     "name": "stdout",
     "output_type": "stream",
     "text": [
      "Data in the APPLES_ROOT_DIR found. Location: /home/ipa/quanz/user_accounts/mbonse/2021_Metrics/70_results/apples_root_dir/\n"
     ]
    }
   ],
   "source": [
    "experiment_root = read_apples_with_apples_root()"
   ]
  },
  {
   "cell_type": "markdown",
   "id": "54eeb253",
   "metadata": {},
   "source": [
    "The HR (High Temporal Resolution) data is the unstacked NACO data. Calculations with this data can be **computationally intensive**. You can also run the code with the LR (Low Temporal Resolution) data to save time."
   ]
  },
  {
   "cell_type": "code",
   "execution_count": 3,
   "id": "0c771091",
   "metadata": {},
   "outputs": [],
   "source": [
    "# Change path to betapic_naco_lp_LR.hdf5 for low temporal resolution\n",
    "dataset_file = experiment_root / Path(\"30_data/betapic_naco_lp_HR.hdf5\")\n",
    "science_data_key = \"science_no_planet\"\n",
    "psf_template_key = \"psf_template\"\n",
    "parang_key = \"header_science_no_planet/PARANG\"\n",
    "\n",
    "dit_psf_template = 0.02019\n",
    "dit_science = 0.2\n",
    "fwhm = 4.2  # estimeated with Pynpoint in advance"
   ]
  },
  {
   "cell_type": "markdown",
   "id": "9e650c37",
   "metadata": {},
   "source": [
    "We load the unstacked NACO data. In order to save computation time we reduce the resolution of the science sequence by cutting around the central star."
   ]
  },
  {
   "cell_type": "code",
   "execution_count": 4,
   "id": "431af1f0",
   "metadata": {},
   "outputs": [],
   "source": [
    "# we need the psf template for contrast calculation\n",
    "science_data, angles, raw_psf_template_data = load_adi_data(\n",
    "    dataset_file,\n",
    "    data_tag=science_data_key,\n",
    "    psf_template_tag=psf_template_key,\n",
    "    para_tag=parang_key)\n",
    "\n",
    "psf_template = raw_psf_template_data[82:-82, 82:-82]\n",
    "science_data = science_data[:, 55:-55, 55:-55]"
   ]
  },
  {
   "cell_type": "markdown",
   "id": "ec04360f",
   "metadata": {},
   "source": [
    "## Compute the Contrast Curves"
   ]
  },
  {
   "cell_type": "markdown",
   "id": "296c41c0",
   "metadata": {},
   "source": [
    "We use the class [Contrast](../../03_package/detections.rst#applefy.detections.contrast.Contrast) of applefy to calculate the contrast curves."
   ]
  },
  {
   "cell_type": "code",
   "execution_count": 5,
   "id": "81618b73",
   "metadata": {},
   "outputs": [],
   "source": [
    "checkpoint_dir = experiment_root / Path(\"70_results/detection_limits/contrast_curves_hr\")\n",
    "\n",
    "contrast_instance = Contrast(\n",
    "    science_sequence=science_data,\n",
    "    psf_template=psf_template,\n",
    "    parang_rad=angles,\n",
    "    psf_fwhm_radius=fwhm / 2,\n",
    "    dit_psf_template=dit_psf_template,\n",
    "    dit_science=dit_science,\n",
    "    checkpoint_dir=checkpoint_dir)"
   ]
  },
  {
   "cell_type": "markdown",
   "id": "c8ab2a7a",
   "metadata": {},
   "source": [
    "### Step 1: Design fake planet experiments"
   ]
  },
  {
   "cell_type": "markdown",
   "id": "97db5d30",
   "metadata": {},
   "source": [
    "In the first step we **choose** at which **separations** and for which **planet brightness** we want to insert fake planets. For analytical contrast curves we can add fake planets which are below the expected contrast (in this case 21 mag)."
   ]
  },
  {
   "cell_type": "code",
   "execution_count": 6,
   "id": "090474a8",
   "metadata": {},
   "outputs": [
    {
     "name": "stdout",
     "output_type": "stream",
     "text": [
      "Brightness of fake planets in mag: 21\n",
      "Planet-to-star flux ratio: 3.981071705534969e-09\n"
     ]
    }
   ],
   "source": [
    "# fake planet brightness\n",
    "flux_ratios_mag = 21\n",
    "flux_ratios = mag2flux_ratio(flux_ratios_mag)\n",
    "\n",
    "print(\"Brightness of fake planets in mag: \" + str(flux_ratios_mag))\n",
    "print(\"Planet-to-star flux ratio: \" + str(flux_ratios))"
   ]
  },
  {
   "cell_type": "markdown",
   "id": "0290db74",
   "metadata": {},
   "source": [
    "By default, separations are selected in steps of 1 FWHM from the central star to the edge of the image. **We want twice the resolution for this plot**. The separations have to be given in pixel values."
   ]
  },
  {
   "cell_type": "code",
   "execution_count": 7,
   "id": "43dfada6",
   "metadata": {},
   "outputs": [
    {
     "data": {
      "text/plain": [
       "array([ 4.2,  6.3,  8.4, 10.5, 12.6, 14.7, 16.8, 18.9, 21. , 23.1, 25.2,\n",
       "       27.3, 29.4, 31.5, 33.6, 35.7])"
      ]
     },
     "execution_count": 7,
     "metadata": {},
     "output_type": "execute_result"
    }
   ],
   "source": [
    "# We want the double resolution as in the tutorial example\n",
    "center = center_subpixel(science_data[0])\n",
    "separations = np.arange(2.1, center[0], fwhm/2)[1:]\n",
    "separations"
   ]
  },
  {
   "cell_type": "markdown",
   "id": "80e15c2b",
   "metadata": {},
   "source": [
    "For each cell in the contrast grid we calculate *num_fake_planets* (between min=1 and max=6) planet residuals."
   ]
  },
  {
   "cell_type": "code",
   "execution_count": 8,
   "id": "ae46b6fa",
   "metadata": {},
   "outputs": [
    {
     "name": "stdout",
     "output_type": "stream",
     "text": [
      "Overwriting existing config files.\n"
     ]
    }
   ],
   "source": [
    "num_fake_planets = 6\n",
    "\n",
    "contrast_instance.design_fake_planet_experiments(\n",
    "    flux_ratios=flux_ratios,\n",
    "    num_planets=num_fake_planets,\n",
    "    separations=separations,\n",
    "    overwrite=True)"
   ]
  },
  {
   "cell_type": "markdown",
   "id": "2381b5f8",
   "metadata": {},
   "source": [
    "### Step 2: Run fake planet experiments"
   ]
  },
  {
   "cell_type": "markdown",
   "id": "8abf32a1",
   "metadata": {},
   "source": [
    "In the second step we **insert fake planetes** as chosen in the first step. For each planet we **run a full-frame PCA** to obtain a residual image. We use the [PynPoint](https://pynpoint.readthedocs.io/en/latest/) [wrappers](../../03_package/wrappers.rst) of applefy."
   ]
  },
  {
   "cell_type": "code",
   "execution_count": 9,
   "id": "8ea48052",
   "metadata": {},
   "outputs": [],
   "source": [
    "from applefy.wrappers.pynpoint import MultiComponentPCAPynPoint"
   ]
  },
  {
   "cell_type": "markdown",
   "id": "db5761eb",
   "metadata": {},
   "source": [
    "We compute the results for 5, 10, 20, 30 and 50 PCA components. For the plot later only one of the results is used."
   ]
  },
  {
   "cell_type": "code",
   "execution_count": 10,
   "id": "66bfcacf",
   "metadata": {},
   "outputs": [],
   "source": [
    "components = [5, 10, 20, 30, 50]"
   ]
  },
  {
   "cell_type": "markdown",
   "id": "5d6aebe9",
   "metadata": {},
   "source": [
    "**Make sure to choose a scratch folder which has a high bandwidth!**"
   ]
  },
  {
   "cell_type": "code",
   "execution_count": 11,
   "id": "222cfe55",
   "metadata": {},
   "outputs": [],
   "source": [
    "algorithm_function = MultiComponentPCAPynPoint(\n",
    "    num_pcas=components,\n",
    "    scratch_dir=Path(\"/scratch/mbonse/applefy_scratch/\"),\n",
    "    num_cpus_pynpoint=1)"
   ]
  },
  {
   "cell_type": "markdown",
   "id": "0ee880fb",
   "metadata": {},
   "source": [
    "If the results are available from previous calculations the following step will just restore the residuals."
   ]
  },
  {
   "cell_type": "code",
   "execution_count": 12,
   "id": "af75af5b",
   "metadata": {},
   "outputs": [
    {
     "name": "stdout",
     "output_type": "stream",
     "text": [
      "Running fake planet experiments..."
     ]
    },
    {
     "name": "stderr",
     "output_type": "stream",
     "text": [
      "100%|███████████████████████████████████████████████████████████████████████████████████████████████████████████████████████████████████████████| 97/97 [00:06<00:00, 15.09it/s]\n"
     ]
    },
    {
     "name": "stdout",
     "output_type": "stream",
     "text": [
      "[DONE]\n"
     ]
    }
   ],
   "source": [
    "contrast_instance.run_fake_planet_experiments(\n",
    "    algorithm_function=algorithm_function,\n",
    "    num_parallel=33)"
   ]
  },
  {
   "cell_type": "markdown",
   "id": "0517500e",
   "metadata": {},
   "source": [
    "### Step 3:  Compute the contrast curves"
   ]
  },
  {
   "cell_type": "markdown",
   "id": "1a759058",
   "metadata": {},
   "source": [
    "Since we are close to the star in the speckle dominated regime we use spaced pixel instead of apertures to measure the pixel and noise photometry."
   ]
  },
  {
   "cell_type": "code",
   "execution_count": 13,
   "id": "fec2bc3b",
   "metadata": {},
   "outputs": [],
   "source": [
    "photometry_mode_planet = AperturePhotometryMode(\"FS\", search_area=0.5)\n",
    "photometry_mode_noise = AperturePhotometryMode(\"P\")"
   ]
  },
  {
   "cell_type": "code",
   "execution_count": 14,
   "id": "e4ebf9d5",
   "metadata": {},
   "outputs": [],
   "source": [
    "contrast_instance.prepare_contrast_results(\n",
    "    photometry_mode_planet=photometry_mode_planet,\n",
    "    photometry_mode_noise=photometry_mode_noise)"
   ]
  },
  {
   "cell_type": "markdown",
   "id": "0723224f",
   "metadata": {},
   "source": [
    "Next, we calculate the contrast curves for the [t-test](../../03_package/statistics.rst#applefy.statistics.parametric.TTest) and [LaplaceBootstrapTest](../../03_package/statistics.rst#applefy.statistics.bootstrapping.LaplaceBootstrapTest). In contrast to the example shown in the [user documentation](../../02_user_documentation/01_contrast_curves.ipynb) we only compute the contrast curve for 30 PCA components. The member *contrast_results* of the class [Contrast](../../03_package/detections.rst#applefy.detections.contrast.Contrast) contains a *dict* of [ContrastResults](../../03_package/detections.rst#applefy.detections.contrast.ContrastResult). These can be used to individually calculate the contrast curves of different algorithm setups."
   ]
  },
  {
   "cell_type": "code",
   "execution_count": 15,
   "id": "eab9d5de",
   "metadata": {},
   "outputs": [],
   "source": [
    "# extract the ContrastResult for 30 PCA components\n",
    "tmp_result = contrast_instance.contrast_results['PCA (030 components)']"
   ]
  },
  {
   "cell_type": "markdown",
   "id": "45120b2b",
   "metadata": {},
   "source": [
    "Create the t-test."
   ]
  },
  {
   "cell_type": "code",
   "execution_count": 16,
   "id": "6fd7a71f",
   "metadata": {},
   "outputs": [],
   "source": [
    "ttest = TTest()"
   ]
  },
  {
   "cell_type": "markdown",
   "id": "cb98c5a7",
   "metadata": {},
   "source": [
    "Compute the $5 \\sigma_{\\mathcal{N}}$ contrast curve with the t-test. The parameter *num_rot_iter* allows to average out the effect of where the planet and noise values are placed on the residual. More information can be found in [Figure 10](10_Rotation.ipynb)."
   ]
  },
  {
   "cell_type": "code",
   "execution_count": 17,
   "id": "9e2ba1c9",
   "metadata": {},
   "outputs": [
    {
     "name": "stderr",
     "output_type": "stream",
     "text": [
      "100%|███████████████████████████████████████████████████████████████████████████████████████████████████████████████████████████████████████████| 16/16 [02:11<00:00,  8.24s/it]\n"
     ]
    }
   ],
   "source": [
    "median_contrast_gauss, contrast_error_gauss = tmp_result.compute_analytic_contrast_curve(\n",
    "    confidence_level_fpf=gaussian_sigma_2_fpf(5),\n",
    "    statistical_test=ttest,\n",
    "    num_rot_iter=360)"
   ]
  },
  {
   "cell_type": "markdown",
   "id": "86c694f3",
   "metadata": {},
   "source": [
    "The same for the LaplaceBootstrapTest."
   ]
  },
  {
   "cell_type": "code",
   "execution_count": 18,
   "id": "169801f6",
   "metadata": {},
   "outputs": [],
   "source": [
    "pbs_laplace_statistic = LaplaceBootstrapTest.construct_from_json_file(\n",
    "    experiment_root / Path(\"lookup_tables/laplace_lookup_tables.csv\"))"
   ]
  },
  {
   "cell_type": "code",
   "execution_count": 19,
   "id": "2cb445f1",
   "metadata": {
    "scrolled": true
   },
   "outputs": [
    {
     "name": "stderr",
     "output_type": "stream",
     "text": [
      "100%|███████████████████████████████████████████████████████████████████████████████████████████████████████████████████████████████████████████| 16/16 [02:20<00:00,  8.81s/it]\n"
     ]
    }
   ],
   "source": [
    "median_contrast_laplace, contrast_error_laplace = tmp_result.compute_analytic_contrast_curve(\n",
    "    confidence_level_fpf=gaussian_sigma_2_fpf(5),\n",
    "    statistical_test=pbs_laplace_statistic,\n",
    "    num_rot_iter=360)"
   ]
  },
  {
   "cell_type": "markdown",
   "id": "d87f8772",
   "metadata": {},
   "source": [
    "## Create the Plot"
   ]
  },
  {
   "cell_type": "markdown",
   "id": "436a2962",
   "metadata": {},
   "source": [
    "Define the colors we use."
   ]
  },
  {
   "cell_type": "code",
   "execution_count": 20,
   "id": "73f4a6cb",
   "metadata": {},
   "outputs": [],
   "source": [
    "color_palette = [sns.color_palette(\"colorblind\")[0],\n",
    "                 sns.color_palette(\"colorblind\")[1]]"
   ]
  },
  {
   "cell_type": "markdown",
   "id": "4e594d95",
   "metadata": {},
   "source": [
    "The separations in the tmp_result are in pixel. We convert them to FWHM."
   ]
  },
  {
   "cell_type": "code",
   "execution_count": 21,
   "id": "3a6f8e86",
   "metadata": {},
   "outputs": [],
   "source": [
    "separations = np.round(np.array([i / fwhm for i in tmp_result.idx_table.index]), 2)"
   ]
  },
  {
   "cell_type": "markdown",
   "id": "1cecdd48",
   "metadata": {},
   "source": [
    "A small helper function to plot a contrast curve with error bars."
   ]
  },
  {
   "cell_type": "code",
   "execution_count": 22,
   "id": "d8170614",
   "metadata": {},
   "outputs": [],
   "source": [
    "def plot_contrast_curve(separations,\n",
    "                        median_contrast,\n",
    "                        contrast_error,\n",
    "                        label, \n",
    "                        axis, \n",
    "                        color):\n",
    "    axis.plot(separations, \n",
    "              flux_ratio2mag(median_contrast), \n",
    "              label=label,\n",
    "              lw=2,\n",
    "              color=color)\n",
    "    \n",
    "    axis.fill_between(\n",
    "        separations,\n",
    "        flux_ratio2mag(median_contrast + contrast_error * 2), \n",
    "        flux_ratio2mag(median_contrast - contrast_error * 2),\n",
    "        alpha=0.5)"
   ]
  },
  {
   "cell_type": "markdown",
   "id": "c5a37ea7",
   "metadata": {},
   "source": [
    "Create the final figure."
   ]
  },
  {
   "cell_type": "code",
   "execution_count": 23,
   "id": "d4c69371",
   "metadata": {
    "nbsphinx-thumbnail": {
     "tooltip": "Comparison of contrast curves under two different Assumptions about the residual noise."
    },
    "scrolled": false
   },
   "outputs": [
    {
     "data": {
      "image/png": "[encoded data removed]",
      "text/plain": [
       "<Figure size 800x500 with 1 Axes>"
      ]
     },
     "metadata": {},
     "output_type": "display_data"
    }
   ],
   "source": [
    "# 1.) Create Plot Layout -----------------------------------------------\n",
    "fig = plt.figure(constrained_layout=False, figsize=(8, 5))\n",
    "gs0 = fig.add_gridspec(1, 1)\n",
    "\n",
    "axis_pca = fig.add_subplot(gs0[0, 0])\n",
    "\n",
    "# 2.) Make the plot\n",
    "plot_contrast_curve(separations, \n",
    "                    median_contrast_gauss.values.flatten(), \n",
    "                    contrast_error_gauss.values.flatten(),\n",
    "                    \"$t$-Test (Gauss)\", \n",
    "                    axis_pca,\n",
    "                    color=color_palette[0])\n",
    "\n",
    "plot_contrast_curve(separations, \n",
    "                    median_contrast_laplace.values.flatten(), \n",
    "                    contrast_error_laplace.values.flatten(), \n",
    "                    \"Parametric BS (Laplace)\", \n",
    "                    axis_pca,\n",
    "                    color=color_palette[1])\n",
    "\n",
    "axis_pca.grid()\n",
    "\n",
    "# 3.) Set limits -------------------------------------------------------\n",
    "axis_pca.set_ylim(11.5, 2.5)\n",
    "axis_pca.tick_params(axis='both', which='major', labelsize=12)\n",
    "\n",
    "# 4.) Set Labels -------------------------------------------------------\n",
    "axis_pca.set_xlabel(r\"Separation [FWHM]\", size=14)\n",
    "axis_pca.set_ylabel(r\"Contrast [mag]\", size=14)\n",
    "\n",
    "axis_pca.set_title(\n",
    "    r\"5$ \\sigma_{\\mathcal{N}}$  Detection Limits vs. Type of Noise\",\n",
    "    fontsize=16, fontweight=\"bold\", y=1.02)\n",
    "\n",
    "# 5.) Legend -----------------------------------------------------------\n",
    "handles, labels = axis_pca.get_legend_handles_labels()\n",
    "leg1 = fig.legend(handles, labels, \n",
    "                  bbox_to_anchor=(0.17, -0.16), \n",
    "                  fontsize=14, \n",
    "                  title=\"Statistical Test\",\n",
    "                  loc='lower left', ncol=2)\n",
    "plt.setp(leg1.get_title(),fontsize=14)\n",
    "\n",
    "# 5.) Save the Plot ----------------------------------------------------\n",
    "fig.patch.set_facecolor('white')\n",
    "plt.savefig(\"./09_Contrast_curves.pdf\",\n",
    "            bbox_extra_artists=(leg1,), \n",
    "            bbox_inches='tight')"
   ]
  }
 ],
 "metadata": {
  "kernelspec": {
   "display_name": "Python 3 (ipykernel)",
   "language": "python",
   "name": "python3"
  },
  "language_info": {
   "codemirror_mode": {
    "name": "ipython",
    "version": 3
   },
   "file_extension": ".py",
   "mimetype": "text/x-python",
   "name": "python",
   "nbconvert_exporter": "python",
   "pygments_lexer": "ipython3",
   "version": "3.10.6"
  }
 },
 "nbformat": 4,
 "nbformat_minor": 5
}
