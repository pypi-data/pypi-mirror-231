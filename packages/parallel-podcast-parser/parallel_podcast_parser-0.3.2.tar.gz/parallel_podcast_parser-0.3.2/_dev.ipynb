{
 "cells": [
  {
   "cell_type": "code",
   "execution_count": 6,
   "metadata": {},
   "outputs": [],
   "source": [
    "import pymongo\n",
    "\n",
    "# Connect to MongoDB server\n",
    "client = pymongo.MongoClient(\"mongodb://localhost:27017\")\n",
    "\n",
    "# Select the database and collection\n",
    "db = client[\"podcasts\"]\n",
    "collection = db[\"apple_staging\"]\n"
   ]
  },
  {
   "cell_type": "code",
   "execution_count": 7,
   "metadata": {},
   "outputs": [],
   "source": [
    "pipeline = [\n",
    "    {\n",
    "        \"$project\": {\n",
    "            \"_id\": 0,           # Exclude the _id field if you want\n",
    "            \"feedUrl\": 1        # Include the feedUrl field\n",
    "        }\n",
    "    }, \n",
    "    {\n",
    "        \"$limit\": 50000    \n",
    "    }\n",
    "]\n",
    "\n",
    "result = list(collection.aggregate(pipeline))\n",
    "\n",
    "feeds = []\n",
    "for doc in result:\n",
    "    if \"feedUrl\" in doc: \n",
    "        feeds.append(doc[\"feedUrl\"])\n",
    "\n"
   ]
  },
  {
   "cell_type": "code",
   "execution_count": 9,
   "metadata": {},
   "outputs": [],
   "source": [
    "with open(\"feedUrls.txt\", \"w\") as file:\n",
    "    file.write(\"\\n\".join(feeds))\n"
   ]
  }
 ],
 "metadata": {
  "kernelspec": {
   "display_name": "Python 3",
   "language": "python",
   "name": "python3"
  },
  "language_info": {
   "codemirror_mode": {
    "name": "ipython",
    "version": 3
   },
   "file_extension": ".py",
   "mimetype": "text/x-python",
   "name": "python",
   "nbconvert_exporter": "python",
   "pygments_lexer": "ipython3",
   "version": "3.11.5"
  },
  "orig_nbformat": 4
 },
 "nbformat": 4,
 "nbformat_minor": 2
}
