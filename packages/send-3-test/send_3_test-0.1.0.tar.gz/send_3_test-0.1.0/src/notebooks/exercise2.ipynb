{
 "cells": [
  {
   "cell_type": "markdown",
   "id": "62a7f6af",
   "metadata": {
    "deletable": false,
    "editable": false,
    "id": "c66oKMZeUKJH",
    "slideshow": {
     "slide_type": ""
    },
    "tags": []
   },
   "source": [
    "## **About the data** \n",
    "---\n",
    "The data set consists of 116,658 observations and 10 columns. It contains data of fifth-grade students, including their Math final exam grade.\n",
    "\n",
    "\n",
    "**The data set is available in the folder data**"
   ]
  },
  {
   "cell_type": "code",
   "execution_count": 4,
   "id": "1bd9bb8b",
   "metadata": {
    "deletable": false,
    "editable": false,
    "execution": {
     "iopub.execute_input": "2023-09-07T08:52:28.308747Z",
     "iopub.status.busy": "2023-09-07T08:52:28.307746Z",
     "iopub.status.idle": "2023-09-07T08:52:28.313868Z",
     "shell.execute_reply": "2023-09-07T08:52:28.312749Z",
     "shell.execute_reply.started": "2023-09-07T08:52:28.308747Z"
    },
    "slideshow": {
     "slide_type": ""
    },
    "tags": []
   },
   "outputs": [
    {
     "name": "stdout",
     "output_type": "stream",
     "text": [
      "a\n"
     ]
    }
   ],
   "source": [
    "print('a')"
   ]
  },
  {
   "cell_type": "code",
   "execution_count": 7,
   "id": "87ca6ef3",
   "metadata": {
    "editable": true,
    "slideshow": {
     "slide_type": ""
    },
    "tags": []
   },
   "outputs": [],
   "source": [
    "import emoji"
   ]
  },
  {
   "cell_type": "code",
   "execution_count": 1,
   "id": "d9bbd367",
   "metadata": {
    "colab": {
     "base_uri": "https://localhost:8080/"
    },
    "deletable": false,
    "executionInfo": {
     "elapsed": 542,
     "status": "ok",
     "timestamp": 1614372519067,
     "user": {
      "displayName": "Paola Mejia",
      "photoUrl": "",
      "userId": "15451997563084296260"
     },
     "user_tz": -60
    },
    "id": "8fiPzOYRCh1X",
    "nbgrader": {
     "cell_type": "code",
     "checksum": "b7c99812a178502d381e39a9a7031a0a",
     "grade": true,
     "grade_id": "0-0",
     "locked": false,
     "points": 0,
     "schema_version": 3,
     "solution": true,
     "task": false
    },
    "outputId": "722b368a-d3c9-4e41-998c-cf62d6200c81"
   },
   "outputs": [
    {
     "ename": "NotImplementedError",
     "evalue": "",
     "output_type": "error",
     "traceback": [
      "\u001b[1;31m---------------------------------------------------------------------------\u001b[0m",
      "\u001b[1;31mNotImplementedError\u001b[0m                       Traceback (most recent call last)",
      "Cell \u001b[1;32mIn[1], line 3\u001b[0m\n\u001b[0;32m      1\u001b[0m \u001b[39m# Your libraries here\u001b[39;00m\n\u001b[0;32m      2\u001b[0m \u001b[39m# YOUR CODE HERE\u001b[39;00m\n\u001b[1;32m----> 3\u001b[0m \u001b[39mraise\u001b[39;00m \u001b[39mNotImplementedError\u001b[39;00m()\n",
      "\u001b[1;31mNotImplementedError\u001b[0m: "
     ]
    }
   ],
   "source": [
    "# Your libraries here\n",
    "# YOUR CODE HERE\n",
    "raise NotImplementedError()"
   ]
  },
  {
   "cell_type": "code",
   "execution_count": 8,
   "id": "42269cb7",
   "metadata": {
    "deletable": false,
    "editable": false,
    "execution": {
     "iopub.execute_input": "2023-08-22T11:54:11.406228Z",
     "iopub.status.busy": "2023-08-22T11:54:11.406228Z",
     "iopub.status.idle": "2023-08-22T11:54:11.446431Z",
     "shell.execute_reply": "2023-08-22T11:54:11.446431Z",
     "shell.execute_reply.started": "2023-08-22T11:54:11.406228Z"
    },
    "executionInfo": {
     "elapsed": 490,
     "status": "ok",
     "timestamp": 1614372512839,
     "user": {
      "displayName": "Paola Mejia",
      "photoUrl": "",
      "userId": "15451997563084296260"
     },
     "user_tz": -60
    },
    "id": "YAv3-SQfGGAj",
    "nbgrader": {
     "cell_type": "code",
     "checksum": "2d148e42a7d118e0c42cb945c80e7141",
     "grade": true,
     "grade_id": "0-1-1",
     "locked": true,
     "points": 0,
     "schema_version": 3,
     "solution": false,
     "task": false
    }
   },
   "outputs": [
    {
     "ename": "NameError",
     "evalue": "name 'df' is not defined",
     "output_type": "error",
     "traceback": [
      "\u001b[1;31m---------------------------------------------------------------------------\u001b[0m",
      "\u001b[1;31mNameError\u001b[0m                                 Traceback (most recent call last)",
      "Cell \u001b[1;32mIn[8], line 2\u001b[0m\n\u001b[0;32m      1\u001b[0m \u001b[38;5;66;03m# TEST CELL, DONT MODIFY\u001b[39;00m\n\u001b[1;32m----> 2\u001b[0m \u001b[38;5;28;01massert\u001b[39;00m \u001b[38;5;28mlen\u001b[39m(\u001b[43mdf\u001b[49m) \u001b[38;5;241m==\u001b[39m \u001b[38;5;241m116658\u001b[39m\n",
      "\u001b[1;31mNameError\u001b[0m: name 'df' is not defined"
     ]
    }
   ],
   "source": [
    "# TEST CELL, DONT MODIFY\n",
    "assert len(df) == 116658"
   ]
  },
  {
   "cell_type": "markdown",
   "id": "2125e850",
   "metadata": {},
   "source": [
    "### 1.2\n",
    "Justify the choice of each descriptive statistic. What do they say about the data? Can you identify some irregularities? "
   ]
  },
  {
   "cell_type": "markdown",
   "id": "59f8c33d",
   "metadata": {
    "deletable": false,
    "id": "iTaqHz2H-N1L",
    "nbgrader": {
     "cell_type": "markdown",
     "checksum": "dc4092486e467435f7ca2ac42f0ef563",
     "grade": true,
     "grade_id": "1-2",
     "locked": false,
     "points": 5,
     "schema_version": 3,
     "solution": true,
     "task": false
    }
   },
   "source": [
    "YOUR ANSWER HERE"
   ]
  },
  {
   "cell_type": "markdown",
   "id": "eca8bf6a",
   "metadata": {},
   "source": [
    "### 1.3\n",
    "In a single figure, choose an appropriate type of graph for each feature and plot each feature individually."
   ]
  },
  {
   "cell_type": "code",
   "execution_count": null,
   "id": "e9e66a70",
   "metadata": {
    "deletable": false,
    "nbgrader": {
     "cell_type": "code",
     "checksum": "900cb27716805cceed36dc05c5a43c90",
     "grade": true,
     "grade_id": "1-3",
     "locked": false,
     "points": 10,
     "schema_version": 3,
     "solution": true,
     "task": false
    }
   },
   "outputs": [],
   "source": [
    "#### GRADED CELL ####\n",
    "### 1.3\n",
    "def plot_features(df):\n",
    "    \"\"\"\n",
    "    Plots all features individually in the same figure\n",
    "    \n",
    "    Parameters\n",
    "    ----------\n",
    "    df : DataFrame\n",
    "         Containing all data\n",
    "         \n",
    "    Hint\n",
    "    ------\n",
    "    To have multiple plots in a single figure see pyplot.figure\n",
    "\n",
    "    \"\"\"\n",
    "    # YOUR CODE HERE\n",
    "    raise NotImplementedError()"
   ]
  },
  {
   "cell_type": "code",
   "execution_count": null,
   "id": "da7f291a",
   "metadata": {},
   "outputs": [],
   "source": [
    "sample = df.sample(n=1000)\n",
    "plot_features(sample)"
   ]
  }
 ],
 "metadata": {
  "cell_mapping": [
   [
    "62a7f6af",
    "62a7f6af"
   ],
   [
    "d9bbd367",
    "d9bbd367"
   ],
   [
    "42269cb7",
    "42269cb7"
   ],
   [
    "2125e850",
    "2125e850"
   ],
   [
    "59f8c33d",
    "59f8c33d"
   ],
   [
    "eca8bf6a",
    "eca8bf6a"
   ],
   [
    "e9e66a70",
    "e9e66a70"
   ],
   [
    "da7f291a",
    "da7f291a"
   ]
  ],
  "colab": {
   "collapsed_sections": [],
   "name": "SecondDraft-Solution01-DataHandling.ipynb",
   "provenance": [
    {
     "file_id": "1mRFFrJF4dE9fELL-s3BxXH-9k8oZoJZi",
     "timestamp": 1614369628317
    },
    {
     "file_id": "1m7X1IqccOW_2p-daNXCIckJaldNH8MeD",
     "timestamp": 1614270374389
    },
    {
     "file_id": "1Y0ZrVKYMUXFoQliKv7-8XrYIpTWw7R63",
     "timestamp": 1613748083326
    },
    {
     "file_id": "11iSt5dKbG-iVOF9RIaQJfFVxeiH10EhN",
     "timestamp": 1613682613431
    }
   ],
   "toc_visible": true
  },
  "dashboard-toc-showcode": true,
  "kernelspec": {
   "display_name": "Python 3 (ipykernel)",
   "language": "python",
   "name": "python3"
  },
  "language_info": {
   "codemirror_mode": {
    "name": "ipython",
    "version": 3
   },
   "file_extension": ".py",
   "mimetype": "text/x-python",
   "name": "python",
   "nbconvert_exporter": "python",
   "pygments_lexer": "ipython3",
   "version": "3.10.11"
  },
  "notebook_id": "8ad7f6e3-65cd-479b-ac86-110a54c9f5c8"
 },
 "nbformat": 4,
 "nbformat_minor": 5
}
