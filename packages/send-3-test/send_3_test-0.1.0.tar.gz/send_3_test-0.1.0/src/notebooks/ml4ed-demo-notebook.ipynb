{
 "cells": [
  {
   "cell_type": "markdown",
   "id": "2b77a8d0",
   "metadata": {
    "id": "c66oKMZeUKJH"
   },
   "source": [
    "## **About the data** \n",
    "---\n",
    "The data set consists of 116,658 observations and 10 columns. It contains data of fifth-grade students, including their Math final exam grade.\n",
    "\n",
    "\n",
    "**The data set is available in the folder data**"
   ]
  },
  {
   "cell_type": "code",
   "execution_count": 1,
   "id": "863eeb19",
   "metadata": {
    "colab": {
     "base_uri": "https://localhost:8080/"
    },
    "deletable": false,
    "execution": {
     "iopub.execute_input": "2023-09-06T13:07:24.470475Z",
     "iopub.status.busy": "2023-09-06T13:07:24.469478Z",
     "iopub.status.idle": "2023-09-06T13:07:25.037701Z",
     "shell.execute_reply": "2023-09-06T13:07:25.035701Z",
     "shell.execute_reply.started": "2023-09-06T13:07:24.470475Z"
    },
    "executionInfo": {
     "elapsed": 542,
     "status": "ok",
     "timestamp": 1614372519067,
     "user": {
      "displayName": "Paola Mejia",
      "photoUrl": "",
      "userId": "15451997563084296260"
     },
     "user_tz": -60
    },
    "id": "8fiPzOYRCh1X",
    "nbgrader": {
     "cell_type": "code",
     "checksum": "b7c99812a178502d381e39a9a7031a0a",
     "grade": true,
     "grade_id": "0-0",
     "locked": false,
     "points": 0,
     "schema_version": 3,
     "solution": true,
     "task": false
    },
    "outputId": "722b368a-d3c9-4e41-998c-cf62d6200c81"
   },
   "outputs": [
    {
     "ename": "NotImplementedError",
     "evalue": "",
     "output_type": "error",
     "traceback": [
      "\u001b[1;31m--------------------------------------------------------------------------\u001b[0m",
      "\u001b[1;31mNotImplementedError\u001b[0m                      Traceback (most recent call last)",
      "Cell \u001b[1;32mIn[1], line 3\u001b[0m\n\u001b[0;32m      1\u001b[0m \u001b[38;5;66;03m# Your libraries here\u001b[39;00m\n\u001b[0;32m      2\u001b[0m \u001b[38;5;66;03m# YOUR CODE HERE\u001b[39;00m\n\u001b[1;32m----> 3\u001b[0m \u001b[38;5;28;01mraise\u001b[39;00m \u001b[38;5;167;01mNotImplementedError\u001b[39;00m()\n",
      "\u001b[1;31mNotImplementedError\u001b[0m: "
     ]
    }
   ],
   "source": [
    "# Your libraries here\n",
    "# YOUR CODE HERE\n",
    "raise NotImplementedError()"
   ]
  },
  {
   "cell_type": "code",
   "execution_count": null,
   "id": "1d0034d8",
   "metadata": {
    "deletable": false,
    "editable": false,
    "executionInfo": {
     "elapsed": 490,
     "status": "ok",
     "timestamp": 1614372512839,
     "user": {
      "displayName": "Paola Mejia",
      "photoUrl": "",
      "userId": "15451997563084296260"
     },
     "user_tz": -60
    },
    "id": "YAv3-SQfGGAj",
    "nbgrader": {
     "cell_type": "code",
     "checksum": "2d148e42a7d118e0c42cb945c80e7141",
     "grade": true,
     "grade_id": "0-1-1",
     "locked": true,
     "points": 0,
     "schema_version": 3,
     "solution": false,
     "task": false
    }
   },
   "outputs": [],
   "source": [
    "# TEST CELL, DONT MODIFY\n",
    "assert len(df) == 116658"
   ]
  },
  {
   "cell_type": "markdown",
   "id": "40ba95b2",
   "metadata": {},
   "source": [
    "### 1.2\n",
    "Justify the choice of each descriptive statistic. What do they say about the data? Can you identify some irregularities? "
   ]
  },
  {
   "cell_type": "markdown",
   "id": "0cf316e8",
   "metadata": {
    "deletable": false,
    "id": "iTaqHz2H-N1L",
    "nbgrader": {
     "cell_type": "markdown",
     "checksum": "dc4092486e467435f7ca2ac42f0ef563",
     "grade": true,
     "grade_id": "1-2",
     "locked": false,
     "points": 5,
     "schema_version": 3,
     "solution": true,
     "task": false
    }
   },
   "source": [
    "YOUR ANSWER HERE"
   ]
  },
  {
   "cell_type": "markdown",
   "id": "26b8de2c",
   "metadata": {},
   "source": [
    "### 1.3\n",
    "In a single figure, choose an appropriate type of graph for each feature and plot each feature individually."
   ]
  },
  {
   "cell_type": "code",
   "execution_count": null,
   "id": "7ab81804",
   "metadata": {
    "deletable": false,
    "nbgrader": {
     "cell_type": "code",
     "checksum": "900cb27716805cceed36dc05c5a43c90",
     "grade": true,
     "grade_id": "1-3",
     "locked": false,
     "points": 10,
     "schema_version": 3,
     "solution": true,
     "task": false
    }
   },
   "outputs": [],
   "source": [
    "#### GRADED CELL ####\n",
    "### 1.3\n",
    "def plot_features(df):\n",
    "    \"\"\"\n",
    "    Plots all features individually in the same figure\n",
    "    \n",
    "    Parameters\n",
    "    ----------\n",
    "    df : DataFrame\n",
    "         Containing all data\n",
    "         \n",
    "    Hint\n",
    "    ------\n",
    "    To have multiple plots in a single figure see pyplot.figure\n",
    "\n",
    "    \"\"\"\n",
    "    # YOUR CODE HERE\n",
    "    raise NotImplementedError()"
   ]
  },
  {
   "cell_type": "code",
   "execution_count": null,
   "id": "39280232",
   "metadata": {},
   "outputs": [],
   "source": [
    "sample = df.sample(n=1000)\n",
    "plot_features(sample)"
   ]
  },
  {
   "cell_type": "markdown",
   "id": "85ee96f8",
   "metadata": {},
   "source": [
    "### 1.4\n",
    "Explain your observations. How are the features distributed (poisson, exponential, gaussian, etc)? Can you visually identify outliers? "
   ]
  },
  {
   "cell_type": "markdown",
   "id": "be06bb47",
   "metadata": {
    "deletable": false,
    "nbgrader": {
     "cell_type": "markdown",
     "checksum": "3fe11812ba75e3e6ae00f0839531efd7",
     "grade": true,
     "grade_id": "1-4",
     "locked": false,
     "points": 5,
     "schema_version": 3,
     "solution": true,
     "task": false
    }
   },
   "source": [
    "YOUR ANSWER HERE"
   ]
  },
  {
   "cell_type": "markdown",
   "id": "682297ff",
   "metadata": {
    "id": "Q7_JzCy1-k14"
   },
   "source": [
    "<a id=\"section2\"></a>\n",
    "## **2 Data Cleaning** \n",
    "---\n",
    "\n",
    "Using your findings from the previous section, carefully continue to explore the data set and do the following:\n",
    "\n",
    "1. Create a function to handle the missing values\n",
    "2. Justify your decisions to treat the missing values\n",
    "3. Create a function to handle the inconsistent data\n",
    "4. Justify your decisions to treat the inconsistent data\n"
   ]
  },
  {
   "cell_type": "markdown",
   "id": "19918450",
   "metadata": {},
   "source": [
    "### 2.1\n",
    "Create a function to handle the missing values"
   ]
  },
  {
   "cell_type": "code",
   "execution_count": null,
   "id": "222d105c",
   "metadata": {
    "deletable": false,
    "id": "5u1VBI7-fFwT",
    "nbgrader": {
     "cell_type": "code",
     "checksum": "3b283b3b096db8a11a1f5a54c514e2a8",
     "grade": true,
     "grade_id": "2-1",
     "locked": false,
     "points": 10,
     "schema_version": 3,
     "solution": true,
     "task": false
    }
   },
   "outputs": [],
   "source": [
    "#### GRADED CELL ####\n",
    "### 2.1\n",
    "def handle_missing_values(df):\n",
    "    \"\"\"\n",
    "    Identifies and removes all missing values\n",
    "\n",
    "    Parameters\n",
    "    ----------\n",
    "    df : DataFrame\n",
    "      Containing missing values\n",
    "\n",
    "    Returns\n",
    "    -------\n",
    "    df : DataFrame\n",
    "      Without missing values\n",
    "\n",
    "    Hint:\n",
    "    -----\n",
    "    Try to understand the pattern in the missing values    \n",
    "    \"\"\"\n",
    "    # YOUR CODE HERE\n",
    "    raise NotImplementedError()\n",
    "    return df\n"
   ]
  },
  {
   "cell_type": "code",
   "execution_count": null,
   "id": "2ca8e383",
   "metadata": {
    "deletable": false,
    "editable": false,
    "id": "Y_b3VCwqHT0J",
    "nbgrader": {
     "cell_type": "code",
     "checksum": "5c5770f95969027d02e11c0f987de2c0",
     "grade": true,
     "grade_id": "2-1-1",
     "locked": true,
     "points": 5,
     "schema_version": 3,
     "solution": false,
     "task": false
    }
   },
   "outputs": [],
   "source": [
    "# TEST CELL, DONT MODIFY\n",
    "assert len(handle_missing_values(df).columns) == 9\n"
   ]
  },
  {
   "cell_type": "code",
   "execution_count": null,
   "id": "03a1be7e",
   "metadata": {
    "deletable": false,
    "editable": false,
    "nbgrader": {
     "cell_type": "code",
     "checksum": "ed5ec3319ec0c44e6455f8dddea40464",
     "grade": true,
     "grade_id": "2-1-2",
     "locked": true,
     "points": 5,
     "schema_version": 3,
     "solution": false,
     "task": false
    }
   },
   "outputs": [],
   "source": [
    "# TEST CELL, DONT MODIFY\n"
   ]
  },
  {
   "cell_type": "code",
   "execution_count": null,
   "id": "f166d649",
   "metadata": {
    "colab": {
     "base_uri": "https://localhost:8080/"
    },
    "executionInfo": {
     "elapsed": 2724,
     "status": "ok",
     "timestamp": 1614268885493,
     "user": {
      "displayName": "Paola Mejia",
      "photoUrl": "",
      "userId": "15451997563084296260"
     },
     "user_tz": -60
    },
    "id": "V7tT2gePD9kp",
    "outputId": "855a51b7-a29c-4eb0-bdc8-733c69426aee"
   },
   "outputs": [],
   "source": [
    "df = handle_missing_values(df)\n",
    "print(\"length of the dataframe:\", len(df))\n",
    "df.head()"
   ]
  },
  {
   "cell_type": "code",
   "execution_count": null,
   "id": "8d3aeaa9",
   "metadata": {
    "id": "hl-Q-yTmHeh6"
   },
   "outputs": [],
   "source": [
    "# take a look at the new dataframe stats and compare it with the original\n",
    "get_feature_stats(df)"
   ]
  },
  {
   "cell_type": "markdown",
   "id": "6c7d17bc",
   "metadata": {},
   "source": [
    "### 2.2 \n",
    "Justify your decisions to treat the missing values. Are there missing values? If so, how are the missing values encoded? Why are there missing values? Is there a pattern in the values missing?\n"
   ]
  },
  {
   "cell_type": "markdown",
   "id": "4aaf9df6",
   "metadata": {
    "deletable": false,
    "id": "83zh7LRY_yQQ",
    "nbgrader": {
     "cell_type": "markdown",
     "checksum": "99b1c9f5d59789f8d878017f0ed881af",
     "grade": true,
     "grade_id": "2-2",
     "locked": false,
     "points": 5,
     "schema_version": 3,
     "solution": true,
     "task": false
    }
   },
   "source": [
    "YOUR ANSWER HERE"
   ]
  },
  {
   "cell_type": "markdown",
   "id": "fec0eb3a",
   "metadata": {},
   "source": [
    "### 2.3 \n",
    "Create a function to handle the inconsistent data"
   ]
  },
  {
   "cell_type": "code",
   "execution_count": null,
   "id": "8e586a73",
   "metadata": {
    "deletable": false,
    "id": "axniAWlNfMmr",
    "nbgrader": {
     "cell_type": "code",
     "checksum": "7a35af86aaf70ca8b76a2efea4e88112",
     "grade": true,
     "grade_id": "2-3",
     "locked": false,
     "points": 0,
     "schema_version": 3,
     "solution": true,
     "task": false
    }
   },
   "outputs": [],
   "source": [
    "#### GRADED CELL ####\n",
    "### 2.3\n",
    "def handle_inconsistent_data(df):\n",
    "    \"\"\"\n",
    "    Identifies features with inconsistent data types and transforms features\n",
    "    to the correct data type (numerical, object). \n",
    "\n",
    "    Parameters\n",
    "    ----------\n",
    "    df : DataFrame\n",
    "      Containing inconsistent data\n",
    "\n",
    "    Returns\n",
    "    -------\n",
    "    df : DataFrame\n",
    "       With consistent data. All columns must be either numerical or categorical\n",
    "\n",
    "    Hint:\n",
    "    -----\n",
    "    Don't forget to convert the features into the correct data type \n",
    "    \"\"\"\n",
    "    # YOUR CODE HERE\n",
    "    raise NotImplementedError()\n",
    "    return df"
   ]
  },
  {
   "cell_type": "code",
   "execution_count": null,
   "id": "920ad63e",
   "metadata": {
    "deletable": false,
    "editable": false,
    "nbgrader": {
     "cell_type": "code",
     "checksum": "14320cf167a3b96c352ca0d6c4349b3e",
     "grade": true,
     "grade_id": "2-3-1",
     "locked": true,
     "points": 10,
     "schema_version": 3,
     "solution": false,
     "task": false
    }
   },
   "outputs": [],
   "source": [
    "# TEST CELL, DONT MODIFY\n"
   ]
  },
  {
   "cell_type": "code",
   "execution_count": null,
   "id": "050ac00e",
   "metadata": {
    "deletable": false,
    "editable": false,
    "nbgrader": {
     "cell_type": "code",
     "checksum": "d25fb23e1b17b37e072568a1fb91698b",
     "grade": true,
     "grade_id": "2-3-2",
     "locked": true,
     "points": 10,
     "schema_version": 3,
     "solution": false,
     "task": false
    }
   },
   "outputs": [],
   "source": [
    "# TEST CELL, DONT MODIFY\n"
   ]
  },
  {
   "cell_type": "code",
   "execution_count": null,
   "id": "f539b222",
   "metadata": {
    "colab": {
     "base_uri": "https://localhost:8080/"
    },
    "executionInfo": {
     "elapsed": 2715,
     "status": "ok",
     "timestamp": 1614268885495,
     "user": {
      "displayName": "Paola Mejia",
      "photoUrl": "",
      "userId": "15451997563084296260"
     },
     "user_tz": -60
    },
    "id": "BH11lf3lEgJH",
    "outputId": "0bfe02bc-8e5e-4da6-9986-68b50c4090bb"
   },
   "outputs": [],
   "source": [
    "df = handle_inconsistent_data(df)\n",
    "print(len(df))\n",
    "print(df.head())\n",
    "print(get_feature_stats(df))"
   ]
  },
  {
   "cell_type": "markdown",
   "id": "4ce037cd",
   "metadata": {},
   "source": [
    "### 2.4 \n",
    "Justify your decisions to treat the inconsistent data. Were there columns with inconsistent data types? How did you identify them? \n",
    " "
   ]
  },
  {
   "cell_type": "markdown",
   "id": "2b2ed41d",
   "metadata": {
    "deletable": false,
    "id": "soOMnvl5_6Ld",
    "nbgrader": {
     "cell_type": "markdown",
     "checksum": "d3223e4eb50c298353999b9debfdc25a",
     "grade": true,
     "grade_id": "2-4",
     "locked": false,
     "points": 5,
     "schema_version": 3,
     "solution": true,
     "task": false
    }
   },
   "source": [
    "YOUR ANSWER HERE"
   ]
  },
  {
   "cell_type": "markdown",
   "id": "7353cd54",
   "metadata": {
    "id": "TvwYZorE-k1_"
   },
   "source": [
    "<a id=\"section3\"></a>\n",
    "## **3 Visualization** \n",
    "---\n",
    "\n",
    "After cleaning the data, we can try to understand or extract insights from it. To do so, in this last section, you will do the following:\n",
    "1. Create a function to show the relationship between numerical features.\n",
    "2. Interpret your findings. What is correlation useful for? What insights can you get from it? \n",
    "3. Select an appropriate type of graph to explore the relationship between grade, school group, and any other meaningful feature\n",
    "4. Interpret your findings. What are some factors that seem to influence the grade of the students? Which features do not seem to affect the outcome?\n"
   ]
  },
  {
   "cell_type": "markdown",
   "id": "3c1e9c40",
   "metadata": {},
   "source": [
    "### 3.1 \n",
    "Create a function to show the linear correlation between features."
   ]
  },
  {
   "cell_type": "code",
   "execution_count": null,
   "id": "e2444b27",
   "metadata": {
    "deletable": false,
    "id": "5jCz5LCWGrsD",
    "nbgrader": {
     "cell_type": "code",
     "checksum": "09869e5fb7803a98534ecc267ce604f1",
     "grade": true,
     "grade_id": "3-1",
     "locked": false,
     "points": 5,
     "schema_version": 3,
     "solution": true,
     "task": false
    }
   },
   "outputs": [],
   "source": [
    "#### GRADED CELL ####\n",
    "### 3.1\n",
    "import seaborn as sns\n",
    "def plot_correlation(df):\n",
    "    \"\"\"\n",
    "    Builds upper triangular heatmap with pearson correlation between numerical variables\n",
    "\n",
    "    Instructions\n",
    "    ------------\n",
    "    The plot must have:\n",
    "    - An appropiate title\n",
    "    - Only upper triangular elements\n",
    "    - Annotated values of correlation coefficients rounded to three significant \n",
    "    figures\n",
    "    - Negative correlation must be blue and possitive correlation red. \n",
    "\n",
    "    Parameters\n",
    "    ----------\n",
    "    df : DataFrame with data\n",
    "\n",
    "\n",
    "    \"\"\"\n",
    "    # YOUR CODE HERE\n",
    "    raise NotImplementedError()\n"
   ]
  },
  {
   "cell_type": "code",
   "execution_count": null,
   "id": "8a9b06a0",
   "metadata": {
    "colab": {
     "base_uri": "https://localhost:8080/",
     "height": 320
    },
    "executionInfo": {
     "elapsed": 7321,
     "status": "ok",
     "timestamp": 1614268890140,
     "user": {
      "displayName": "Paola Mejia",
      "photoUrl": "",
      "userId": "15451997563084296260"
     },
     "user_tz": -60
    },
    "id": "pERN5ZoUHsqL",
    "outputId": "e0de54b8-fb62-4c95-9e73-f7ca4199430d"
   },
   "outputs": [],
   "source": [
    "plot_correlation(df)"
   ]
  },
  {
   "cell_type": "markdown",
   "id": "04d4f57d",
   "metadata": {},
   "source": [
    "### 3.2\n",
    "Interpret your findings. What is correlation useful for? What insights can you get from it? \n"
   ]
  },
  {
   "cell_type": "markdown",
   "id": "f0a81489",
   "metadata": {
    "deletable": false,
    "id": "G8gNIcUrBJnD",
    "nbgrader": {
     "cell_type": "markdown",
     "checksum": "7d32df24c4893390d2c8aae408e165fd",
     "grade": true,
     "grade_id": "3-3",
     "locked": false,
     "points": 5,
     "schema_version": 3,
     "solution": true,
     "task": false
    }
   },
   "source": [
    "YOUR ANSWER HERE"
   ]
  },
  {
   "cell_type": "markdown",
   "id": "970703ca",
   "metadata": {},
   "source": [
    "### 3.3\n",
    "Select an appropriate type of graph to explore the relationship between grade, school group, and any other meaningful feature.\n"
   ]
  },
  {
   "cell_type": "code",
   "execution_count": null,
   "id": "a1d3ce02",
   "metadata": {
    "deletable": false,
    "id": "w5PdLlLRGvKY",
    "nbgrader": {
     "cell_type": "code",
     "checksum": "939f8efa596d125cf75e30842074dc4b",
     "grade": true,
     "grade_id": "3-4",
     "locked": false,
     "points": 5,
     "schema_version": 3,
     "solution": true,
     "task": false
    }
   },
   "outputs": [],
   "source": [
    "#### GRADED CELL ####\n",
    "### 3.3\n",
    "def plot_grades(df):\n",
    "    \"\"\"\n",
    "    Visualizes the relationship between grade,  school group and other meaningful\n",
    "    feature\n",
    "\n",
    "    Parameters\n",
    "    ----------\n",
    "    df : DataFrame with data\n",
    "\n",
    "    \"\"\"\n",
    "    # YOUR CODE HERE\n",
    "    raise NotImplementedError()"
   ]
  },
  {
   "cell_type": "code",
   "execution_count": null,
   "id": "852b85a3",
   "metadata": {
    "colab": {
     "base_uri": "https://localhost:8080/",
     "height": 459
    },
    "executionInfo": {
     "elapsed": 5820,
     "status": "ok",
     "timestamp": 1614268938276,
     "user": {
      "displayName": "Paola Mejia",
      "photoUrl": "",
      "userId": "15451997563084296260"
     },
     "user_tz": -60
    },
    "id": "359sJQ_8tqER",
    "outputId": "3be3ee76-a8db-4721-a78d-6b0a58161884"
   },
   "outputs": [],
   "source": [
    "plot_grades(df)"
   ]
  },
  {
   "cell_type": "markdown",
   "id": "19c8cb88",
   "metadata": {},
   "source": [
    "### 3.4\n",
    "Interpret your findings. What are some factors that seem to influence the grade of the students? Which features do not seem to affect the outcome?"
   ]
  },
  {
   "cell_type": "markdown",
   "id": "e80fda4b",
   "metadata": {
    "deletable": false,
    "id": "YhJ3qb7M2fiU",
    "nbgrader": {
     "cell_type": "markdown",
     "checksum": "bf41f17e4d1692e86ada5ce2d86efc5b",
     "grade": true,
     "grade_id": "3-5",
     "locked": false,
     "points": 5,
     "schema_version": 3,
     "solution": true,
     "task": false
    }
   },
   "source": [
    "YOUR ANSWER HERE"
   ]
  }
 ],
 "metadata": {
  "colab": {
   "collapsed_sections": [],
   "name": "SecondDraft-Solution01-DataHandling.ipynb",
   "provenance": [
    {
     "file_id": "1mRFFrJF4dE9fELL-s3BxXH-9k8oZoJZi",
     "timestamp": 1614369628317
    },
    {
     "file_id": "1m7X1IqccOW_2p-daNXCIckJaldNH8MeD",
     "timestamp": 1614270374389
    },
    {
     "file_id": "1Y0ZrVKYMUXFoQliKv7-8XrYIpTWw7R63",
     "timestamp": 1613748083326
    },
    {
     "file_id": "11iSt5dKbG-iVOF9RIaQJfFVxeiH10EhN",
     "timestamp": 1613682613431
    }
   ],
   "toc_visible": true
  },
  "dashboard-toc-showcode": false,
  "kernelspec": {
   "display_name": "Python 3 (ipykernel)",
   "language": "python",
   "name": "python3"
  },
  "language_info": {
   "codemirror_mode": {
    "name": "ipython",
    "version": 3
   },
   "file_extension": ".py",
   "mimetype": "text/x-python",
   "name": "python",
   "nbconvert_exporter": "python",
   "pygments_lexer": "ipython3",
   "version": "3.10.11"
  },
  "unianalytics_cell_mapping": [
   [
    "2b77a8d0",
    "2b77a8d0"
   ],
   [
    "863eeb19",
    "863eeb19"
   ],
   [
    "1d0034d8",
    "1d0034d8"
   ],
   [
    "40ba95b2",
    "40ba95b2"
   ],
   [
    "0cf316e8",
    "0cf316e8"
   ],
   [
    "26b8de2c",
    "26b8de2c"
   ],
   [
    "7ab81804",
    "7ab81804"
   ],
   [
    "39280232",
    "39280232"
   ],
   [
    "85ee96f8",
    "85ee96f8"
   ],
   [
    "be06bb47",
    "be06bb47"
   ],
   [
    "682297ff",
    "682297ff"
   ],
   [
    "19918450",
    "19918450"
   ],
   [
    "222d105c",
    "222d105c"
   ],
   [
    "2ca8e383",
    "2ca8e383"
   ],
   [
    "03a1be7e",
    "03a1be7e"
   ],
   [
    "f166d649",
    "f166d649"
   ],
   [
    "8d3aeaa9",
    "8d3aeaa9"
   ],
   [
    "6c7d17bc",
    "6c7d17bc"
   ],
   [
    "4aaf9df6",
    "4aaf9df6"
   ],
   [
    "fec0eb3a",
    "fec0eb3a"
   ],
   [
    "8e586a73",
    "8e586a73"
   ],
   [
    "920ad63e",
    "920ad63e"
   ],
   [
    "050ac00e",
    "050ac00e"
   ],
   [
    "f539b222",
    "f539b222"
   ],
   [
    "4ce037cd",
    "4ce037cd"
   ],
   [
    "2b2ed41d",
    "2b2ed41d"
   ],
   [
    "7353cd54",
    "7353cd54"
   ],
   [
    "3c1e9c40",
    "3c1e9c40"
   ],
   [
    "e2444b27",
    "e2444b27"
   ],
   [
    "8a9b06a0",
    "8a9b06a0"
   ],
   [
    "04d4f57d",
    "04d4f57d"
   ],
   [
    "f0a81489",
    "f0a81489"
   ],
   [
    "970703ca",
    "970703ca"
   ],
   [
    "a1d3ce02",
    "a1d3ce02"
   ],
   [
    "852b85a3",
    "852b85a3"
   ],
   [
    "19c8cb88",
    "19c8cb88"
   ],
   [
    "e80fda4b",
    "e80fda4b"
   ]
  ],
  "unianalytics_instance_id": "8f9ee9ed-3a09-49da-bb57-e44cff069e96",
  "unianalytics_notebook_id": "3f952ab7-84ff-4750-ab59-6281ee5ff4bb"
 },
 "nbformat": 4,
 "nbformat_minor": 5
}
