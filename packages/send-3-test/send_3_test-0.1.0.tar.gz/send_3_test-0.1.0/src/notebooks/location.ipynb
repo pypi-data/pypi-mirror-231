{
 "cells": [
  {
   "cell_type": "markdown",
   "id": "cell_1_markdown",
   "metadata": {},
   "source": [
    "# Title of instance.ipynb"
   ]
  },
  {
   "cell_type": "code",
   "execution_count": 2,
   "id": "cell_2_code",
   "metadata": {
    "execution": {
     "iopub.execute_input": "2023-09-04T15:09:32.956810Z",
     "iopub.status.busy": "2023-09-04T15:09:32.955809Z",
     "iopub.status.idle": "2023-09-04T15:09:32.978752Z",
     "shell.execute_reply": "2023-09-04T15:09:32.976751Z",
     "shell.execute_reply.started": "2023-09-04T15:09:32.956810Z"
    }
   },
   "outputs": [
    {
     "name": "stdout",
     "output_type": "stream",
     "text": [
      "It is 07:16 right now\n"
     ]
    }
   ],
   "source": [
    "import math\n",
    "\n",
    "def function(b) :\n",
    "    a = 2\n",
    "    a += b\n",
    "    return a\n",
    "\n",
    "print(f\"It is 07:16 right now\")"
   ]
  },
  {
   "cell_type": "code",
   "execution_count": 2,
   "id": "cell_3_code",
   "metadata": {
    "execution": {
     "iopub.execute_input": "2023-06-08T07:09:07.485583Z",
     "iopub.status.busy": "2023-06-08T07:09:07.484582Z",
     "iopub.status.idle": "2023-06-08T07:09:07.517199Z",
     "shell.execute_reply": "2023-06-08T07:09:07.514996Z",
     "shell.execute_reply.started": "2023-06-08T07:09:07.485583Z"
    }
   },
   "outputs": [
    {
     "name": "stdout",
     "output_type": "stream",
     "text": [
      "She arrived First\n",
      "She arrived Second\n",
      "She arrived Third\n"
     ]
    }
   ],
   "source": [
    "for l in [\"First\", \"Second\", \"Third\"] :\n",
    "    print(f\"She arrived {l}\")"
   ]
  },
  {
   "cell_type": "code",
   "execution_count": 3,
   "id": "cell_4_code",
   "metadata": {
    "execution": {
     "iopub.execute_input": "2023-06-06T14:32:43.585596Z",
     "iopub.status.busy": "2023-06-06T14:32:43.585596Z",
     "iopub.status.idle": "2023-06-06T14:32:49.609307Z",
     "shell.execute_reply": "2023-06-06T14:32:49.609307Z",
     "shell.execute_reply.started": "2023-06-06T14:32:43.585596Z"
    }
   },
   "outputs": [],
   "source": [
    "import time \n",
    "time.sleep(6)"
   ]
  },
  {
   "cell_type": "markdown",
   "id": "cell_5_markdown",
   "metadata": {},
   "source": [
    "# JavaScript"
   ]
  },
  {
   "cell_type": "code",
   "execution_count": 1,
   "id": "cell_6_code",
   "metadata": {
    "execution": {
     "iopub.execute_input": "2023-06-06T14:20:09.625Z",
     "iopub.status.busy": "2023-06-06T14:20:09.620Z",
     "iopub.status.idle": "2023-06-06T14:20:09.642Z",
     "shell.execute_reply": "2023-06-06T14:20:09.643Z"
    }
   },
   "outputs": [
    {
     "name": "stdout",
     "output_type": "stream",
     "text": [
      "This is row number 0\n",
      "This is row number 1\n",
      "This is row number 2\n",
      "This is row number 3\n"
     ]
    }
   ],
   "source": [
    "for (let i=0; i < 4; ++i) {\n",
    "    console.log(\"This is row number\",i);\n",
    "}"
   ]
  },
  {
   "cell_type": "code",
   "execution_count": null,
   "id": "cell_7_code",
   "metadata": {},
   "outputs": [],
   "source": []
  }
 ],
 "metadata": {
  "kernelspec": {
   "display_name": "Python 3 (ipykernel)",
   "language": "python",
   "name": "python3"
  },
  "language_info": {
   "codemirror_mode": {
    "name": "ipython",
    "version": 3
   },
   "file_extension": ".py",
   "mimetype": "text/x-python",
   "name": "python",
   "nbconvert_exporter": "python",
   "pygments_lexer": "ipython3",
   "version": "3.10.11"
  }
 },
 "nbformat": 4,
 "nbformat_minor": 5
}
