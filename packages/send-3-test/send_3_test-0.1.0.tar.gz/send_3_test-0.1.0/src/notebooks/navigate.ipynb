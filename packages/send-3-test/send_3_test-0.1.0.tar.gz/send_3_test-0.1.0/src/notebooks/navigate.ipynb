{
 "cells": [
  {
   "cell_type": "markdown",
   "id": "3ce23db6-c186-4100-ad04-85d003c6897b",
   "metadata": {},
   "source": [
    "# Title Cell\n",
    "\n",
    "## Subtitle 1\n",
    "\n",
    "# Title 2\n",
    "\n",
    "## Subtitle 1\n",
    "\n",
    "## Subtitle 2\n",
    "\n",
    "### Subsection 1\n",
    "\n",
    "### Subsection 2"
   ]
  },
  {
   "cell_type": "markdown",
   "id": "2acb9e03-b354-4978-a451-0f8e9192e843",
   "metadata": {},
   "source": [
    "# Second Title"
   ]
  },
  {
   "cell_type": "code",
   "execution_count": 1,
   "id": "2e0a9e66-f910-415f-867c-3d6b8aa269ee",
   "metadata": {
    "execution": {
     "iopub.execute_input": "2023-09-05T08:40:57.128483Z",
     "iopub.status.busy": "2023-09-05T08:40:57.128483Z",
     "iopub.status.idle": "2023-09-05T08:40:57.166289Z",
     "shell.execute_reply": "2023-09-05T08:40:57.163234Z",
     "shell.execute_reply.started": "2023-09-05T08:40:57.128483Z"
    }
   },
   "outputs": [
    {
     "name": "stdout",
     "output_type": "stream",
     "text": [
      "Hello\n"
     ]
    }
   ],
   "source": [
    "print(\"Hello\")\n",
    "x = 2\n",
    "a = 3"
   ]
  },
  {
   "cell_type": "code",
   "execution_count": 2,
   "id": "668adb8b-3cbe-43c4-87fb-58e259e8ab18",
   "metadata": {
    "execution": {
     "iopub.execute_input": "2023-09-05T08:41:14.505665Z",
     "iopub.status.busy": "2023-09-05T08:41:14.504556Z",
     "iopub.status.idle": "2023-09-05T08:41:14.522716Z",
     "shell.execute_reply": "2023-09-05T08:41:14.520719Z",
     "shell.execute_reply.started": "2023-09-05T08:41:14.505665Z"
    }
   },
   "outputs": [],
   "source": [
    "import random"
   ]
  },
  {
   "cell_type": "code",
   "execution_count": null,
   "id": "c2152f8c-1c18-403b-8fdf-40847233c56f",
   "metadata": {},
   "outputs": [],
   "source": []
  }
 ],
 "metadata": {
  "dashboard-toc-showcode": true,
  "kernelspec": {
   "display_name": "Python 3 (ipykernel)",
   "language": "python",
   "name": "python3"
  },
  "language_info": {
   "codemirror_mode": {
    "name": "ipython",
    "version": 3
   },
   "file_extension": ".py",
   "mimetype": "text/x-python",
   "name": "python",
   "nbconvert_exporter": "python",
   "pygments_lexer": "ipython3",
   "version": "3.10.11"
  },
  "toc-autonumbering": true,
  "toc-showcode": true,
  "toc-showmarkdowntxt": false,
  "unianalytics_cell_mapping": [
   [
    "3ce23db6-c186-4100-ad04-85d003c6897b",
    "3ce23db6-c186-4100-ad04-85d003c6897b"
   ],
   [
    "2acb9e03-b354-4978-a451-0f8e9192e843",
    "2acb9e03-b354-4978-a451-0f8e9192e843"
   ],
   [
    "2e0a9e66-f910-415f-867c-3d6b8aa269ee",
    "2e0a9e66-f910-415f-867c-3d6b8aa269ee"
   ],
   [
    "668adb8b-3cbe-43c4-87fb-58e259e8ab18",
    "668adb8b-3cbe-43c4-87fb-58e259e8ab18"
   ],
   [
    "c2152f8c-1c18-403b-8fdf-40847233c56f",
    "c2152f8c-1c18-403b-8fdf-40847233c56f"
   ]
  ],
  "unianalytics_instance_id": "9b1b0988-b3e9-412d-815c-696288145e84",
  "unianalytics_notebook_id": "f067267e-085d-4250-8e89-de13eecfe4f8"
 },
 "nbformat": 4,
 "nbformat_minor": 5
}
