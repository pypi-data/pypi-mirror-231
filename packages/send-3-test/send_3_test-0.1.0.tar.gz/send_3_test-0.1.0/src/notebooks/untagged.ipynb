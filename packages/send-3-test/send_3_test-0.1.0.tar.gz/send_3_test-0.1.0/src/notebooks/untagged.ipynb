{
 "cells": [
  {
   "cell_type": "code",
   "execution_count": null,
   "id": "a8187c11-fd10-4f85-809d-b94e956c5362",
   "metadata": {},
   "outputs": [],
   "source": []
  }
 ],
 "metadata": {
  "kernelspec": {
   "display_name": "Python 3 (ipykernel)",
   "language": "python",
   "name": "python3"
  },
  "language_info": {
   "codemirror_mode": {
    "name": "ipython",
    "version": 3
   },
   "file_extension": ".py",
   "mimetype": "text/x-python",
   "name": "python",
   "nbconvert_exporter": "python",
   "pygments_lexer": "ipython3",
   "version": "3.10.11"
  },
  "unianalytics_instance_id": "421fb822-4def-41d9-b939-53a28fb6b126",
  "unianalytics_notebook_id": "test_id"
 },
 "nbformat": 4,
 "nbformat_minor": 5
}
