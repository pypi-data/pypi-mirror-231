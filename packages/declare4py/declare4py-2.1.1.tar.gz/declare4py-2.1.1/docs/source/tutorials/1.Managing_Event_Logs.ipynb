{
 "cells": [
  {
   "cell_type": "markdown",
   "id": "5279e90c",
   "metadata": {},
   "source": [
    "# Managing Event Logs\n",
    "\n",
    "This tutorial will go through the steps necessary to import and manage an event log.\n",
    "\n",
    "## The `D4PyEventLog` class\n",
    "\n",
    "The `Declare4Py.D4PyEventLog.D4PyEventLog` class is responsible for managing with `.xes` event log. It methods utilities for importing an event log, retrieving useful information, exporting it in a `.xes` format or converting it in a Pandas dataframe and computing the frequent itemsets of activities or other attributes.\n",
    "\n",
    "We show how to instantiate a `D4PyEventLog`, notice that the name of the case id is required."
   ]
  },
  {
   "cell_type": "code",
   "execution_count": 1,
   "id": "8b6c9e04",
   "metadata": {},
   "outputs": [
    {
     "name": "stderr",
     "output_type": "stream",
     "text": [
      "/usr/lib/python3/dist-packages/pyparsing.py:108: DeprecationWarning: module 'sre_constants' is deprecated\n",
      "  import sre_constants\n"
     ]
    }
   ],
   "source": [
    "import sys\n",
    "import os\n",
    "import pathlib\n",
    "from pandas import DataFrame\n",
    "\n",
    "SCRIPT_DIR = pathlib.Path(\"../../../\", \"src\").resolve()\n",
    "sys.path.append(os.path.dirname(SCRIPT_DIR))\n",
    "\n",
    "from src.Declare4Py.D4PyEventLog import D4PyEventLog\n",
    "\n",
    "event_log: D4PyEventLog = D4PyEventLog(case_name=\"case:concept:name\")"
   ]
  },
  {
   "cell_type": "markdown",
   "id": "1225a100",
   "metadata": {},
   "source": [
    "The next step is the parsing of the log with the `parse_xes_log` function. Logs can be passed both in the `.xes` or `xes.gz` formats."
   ]
  },
  {
   "cell_type": "code",
   "execution_count": 2,
   "id": "e5ae55fa",
   "metadata": {},
   "outputs": [
    {
     "data": {
      "application/vnd.jupyter.widget-view+json": {
       "model_id": "6d0e25a5f3fa4c4a95b25c5b7a5b2f46",
       "version_major": 2,
       "version_minor": 0
      },
      "text/plain": [
       "parsing log, completed traces ::   0%|          | 0/1050 [00:00<?, ?it/s]"
      ]
     },
     "metadata": {},
     "output_type": "display_data"
    },
    {
     "name": "stderr",
     "output_type": "stream",
     "text": [
      "/usr/local/lib/python3.11/dist-packages/pm4py/utils.py:486: UserWarning: the EventLog class has been deprecated and will be removed in a future release.\n",
      "  warnings.warn(\"the EventLog class has been deprecated and will be removed in a future release.\")\n"
     ]
    }
   ],
   "source": [
    "log_path = os.path.join(\"../../../\", \"tests\", \"test_logs\", \"Sepsis Cases.xes.gz\")\n",
    "\n",
    "# Parses a xes log to EventLog\n",
    "event_log.parse_xes_log(log_path)"
   ]
  },
  {
   "cell_type": "markdown",
   "id": "0eb4454a",
   "metadata": {},
   "source": [
    "Once the event log has been successfully parsed, basic information are available such as the log itself, its length, the case name, the concept name and the timestamp name."
   ]
  },
  {
   "cell_type": "code",
   "execution_count": 3,
   "id": "def7e392",
   "metadata": {},
   "outputs": [
    {
     "name": "stdout",
     "output_type": "stream",
     "text": [
      "This is the log:\n",
      "[{'attributes': {'concept:name': 'A'}, 'events': [{'InfectionSuspected': True, 'org:group': 'A', 'DiagnosticBlood': True, 'DisfuncOrg': True, 'SIRSCritTachypnea': True, 'Hypotensie': True, 'SIRSCritHeartRate': True, 'Infusion': True, 'DiagnosticArtAstrup': True, 'concept:name': 'ER Registration', 'Age': 85.0, 'DiagnosticIC': True, 'DiagnosticSputum': False, 'DiagnosticLiquor': False, 'DiagnosticOther': False, 'SIRSCriteria2OrMore': True, 'DiagnosticXthorax': True, 'SIRSCritTemperature': True, 'time:timestamp': Timestamp('2014-10-22 09:15:41+0000', tz='UTC'), 'DiagnosticUrinaryCulture': True, 'SIRSCritLeucos': False, 'Oligurie': False, 'DiagnosticLacticAcid': True, 'lifecycle:transition': 'complete', 'Diagnose': 'A', 'Hypoxie': False, 'DiagnosticUrinarySediment': True, 'DiagnosticECG': True, 'Leucocytes': nan, 'CRP': nan, 'LacticAcid': nan}, '..', {'InfectionSuspected': nan, 'org:group': 'E', 'DiagnosticBlood': nan, 'DisfuncOrg': nan, 'SIRSCritTachypnea': nan, 'Hypotensie': nan, 'SIRSCritHeartRate': nan, 'Infusion': nan, 'DiagnosticArtAstrup': nan, 'concept:name': 'Release A', 'Age': nan, 'DiagnosticIC': nan, 'DiagnosticSputum': nan, 'DiagnosticLiquor': nan, 'DiagnosticOther': nan, 'SIRSCriteria2OrMore': nan, 'DiagnosticXthorax': nan, 'SIRSCritTemperature': nan, 'time:timestamp': Timestamp('2014-11-02 14:15:00+0000', tz='UTC'), 'DiagnosticUrinaryCulture': nan, 'SIRSCritLeucos': nan, 'Oligurie': nan, 'DiagnosticLacticAcid': nan, 'lifecycle:transition': 'complete', 'Diagnose': nan, 'Hypoxie': nan, 'DiagnosticUrinarySediment': nan, 'DiagnosticECG': nan, 'Leucocytes': nan, 'CRP': nan, 'LacticAcid': nan}]}, '....', {'attributes': {'concept:name': 'LNA'}, 'events': [{'InfectionSuspected': False, 'org:group': 'L', 'DiagnosticBlood': False, 'DisfuncOrg': False, 'SIRSCritTachypnea': False, 'Hypotensie': False, 'SIRSCritHeartRate': False, 'Infusion': False, 'DiagnosticArtAstrup': False, 'concept:name': 'ER Registration', 'Age': 50.0, 'DiagnosticIC': False, 'DiagnosticSputum': False, 'DiagnosticLiquor': False, 'DiagnosticOther': False, 'SIRSCriteria2OrMore': False, 'DiagnosticXthorax': False, 'SIRSCritTemperature': False, 'time:timestamp': Timestamp('2014-12-03 09:50:28+0000', tz='UTC'), 'DiagnosticUrinaryCulture': False, 'SIRSCritLeucos': False, 'Oligurie': False, 'DiagnosticLacticAcid': False, 'lifecycle:transition': 'complete', 'Diagnose': nan, 'Hypoxie': False, 'DiagnosticUrinarySediment': False, 'DiagnosticECG': False, 'Leucocytes': nan, 'CRP': nan, 'LacticAcid': nan}, '..', {'InfectionSuspected': nan, 'org:group': 'L', 'DiagnosticBlood': nan, 'DisfuncOrg': nan, 'SIRSCritTachypnea': nan, 'Hypotensie': nan, 'SIRSCritHeartRate': nan, 'Infusion': nan, 'DiagnosticArtAstrup': nan, 'concept:name': 'ER Sepsis Triage', 'Age': nan, 'DiagnosticIC': nan, 'DiagnosticSputum': nan, 'DiagnosticLiquor': nan, 'DiagnosticOther': nan, 'SIRSCriteria2OrMore': nan, 'DiagnosticXthorax': nan, 'SIRSCritTemperature': nan, 'time:timestamp': Timestamp('2014-12-03 09:54:39+0000', tz='UTC'), 'DiagnosticUrinaryCulture': nan, 'SIRSCritLeucos': nan, 'Oligurie': nan, 'DiagnosticLacticAcid': nan, 'lifecycle:transition': 'complete', 'Diagnose': nan, 'Hypoxie': nan, 'DiagnosticUrinarySediment': nan, 'DiagnosticECG': nan, 'Leucocytes': nan, 'CRP': nan, 'LacticAcid': nan}]}]\n",
      "--------------------------------------\n",
      "Number of cases:\n",
      "1050\n",
      "--------------------------------------\n",
      "Case name:\n",
      "case:concept:name\n",
      "--------------------------------------\n",
      "Concept name:\n",
      "concept:name\n",
      "--------------------------------------\n",
      "Timestamp name:\n",
      "time:timestamp\n"
     ]
    }
   ],
   "source": [
    "# Print the parsed log\n",
    "print(\"This is the log:\")\n",
    "print(event_log.get_log())\n",
    "print(\"--------------------------------------\")\n",
    "\n",
    "# Print the number of cases in the log\n",
    "print(\"Number of cases:\")\n",
    "print(event_log.get_length())\n",
    "print(\"--------------------------------------\")\n",
    "\n",
    "# Print the number of cases in the log\n",
    "print(\"Case name:\")\n",
    "print(event_log.get_case_name())\n",
    "print(\"--------------------------------------\")\n",
    "\n",
    "# Print the number of cases in the log\n",
    "print(\"Concept name:\")\n",
    "print(event_log.get_concept_name())\n",
    "print(\"--------------------------------------\")\n",
    "\n",
    "# Print the number of cases in the log\n",
    "print(\"Timestamp name:\")\n",
    "print(event_log.get_timestamp_name())"
   ]
  },
  {
   "cell_type": "markdown",
   "id": "d91ab132",
   "metadata": {},
   "source": [
    "### The `get_trace` method\n",
    "\n",
    "The `get_trace` method returns a trace given a numeric index."
   ]
  },
  {
   "cell_type": "code",
   "execution_count": 4,
   "id": "3c01ba4c",
   "metadata": {},
   "outputs": [
    {
     "data": {
      "text/plain": [
       "{'attributes': {'concept:name': 'D'}, 'events': [{'InfectionSuspected': True, 'org:group': 'A', 'DiagnosticBlood': True, 'DisfuncOrg': False, 'SIRSCritTachypnea': True, 'Hypotensie': False, 'SIRSCritHeartRate': True, 'Infusion': True, 'DiagnosticArtAstrup': True, 'concept:name': 'ER Registration', 'Age': 70, 'DiagnosticIC': True, 'DiagnosticSputum': False, 'DiagnosticLiquor': False, 'DiagnosticOther': False, 'SIRSCriteria2OrMore': True, 'DiagnosticXthorax': True, 'SIRSCritTemperature': True, 'time:timestamp': datetime.datetime(2014, 7, 10, 11, 52, tzinfo=datetime.timezone(datetime.timedelta(seconds=7200))), 'DiagnosticUrinaryCulture': False, 'SIRSCritLeucos': False, 'Oligurie': False, 'DiagnosticLacticAcid': True, 'lifecycle:transition': 'complete', 'Diagnose': 'D', 'Hypoxie': False, 'DiagnosticUrinarySediment': False, 'DiagnosticECG': True}, '..', {'org:group': '?', 'lifecycle:transition': 'complete', 'concept:name': 'Return ER', 'time:timestamp': datetime.datetime(2014, 7, 28, 17, 36, 41, tzinfo=datetime.timezone(datetime.timedelta(seconds=7200)))}]}"
      ]
     },
     "execution_count": 4,
     "metadata": {},
     "output_type": "execute_result"
    }
   ],
   "source": [
    "event_log.get_trace(3)"
   ]
  },
  {
   "cell_type": "markdown",
   "id": "78887621",
   "metadata": {},
   "source": [
    "### The `get_event_attribute_values` method\n",
    "\n",
    "The `get_event_attribute_values` method returns all the values of an attribute that occur in an event log along with their number of occurences."
   ]
  },
  {
   "cell_type": "code",
   "execution_count": 5,
   "id": "682d8841",
   "metadata": {},
   "outputs": [
    {
     "name": "stdout",
     "output_type": "stream",
     "text": [
      "Activity names:\n",
      "{'ER Registration': 1050, 'Leucocytes': 3383, 'CRP': 3262, 'LacticAcid': 1466, 'ER Triage': 1053, 'ER Sepsis Triage': 1049, 'IV Liquid': 753, 'IV Antibiotics': 823, 'Admission NC': 1182, 'Release A': 671, 'Return ER': 294, 'Admission IC': 117, 'Release B': 56, 'Release C': 25, 'Release D': 24, 'Release E': 6}\n",
      "--------------------------------------\n",
      "Resources names:\n",
      "{'A': 3462, 'B': 8111, 'C': 1053, 'D': 47, 'E': 782, 'F': 216, 'G': 148, 'H': 55, '?': 294, 'I': 126, 'J': 26, 'K': 18, 'L': 213, 'M': 84, 'N': 46, 'O': 186, 'P': 59, 'Q': 63, 'R': 57, 'S': 33, 'T': 35, 'U': 18, 'V': 25, 'W': 55, 'X': 1, 'Y': 1}\n"
     ]
    }
   ],
   "source": [
    "# Print the set of activity values that are in the log along with their number of occurences\n",
    "print(\"Activity names:\")\n",
    "print(event_log.get_event_attribute_values(event_log.get_concept_name()))\n",
    "print(\"--------------------------------------\")\n",
    "\n",
    "# Print the set of resource values that are in the log along with their number of occurences\n",
    "print(\"Resources names:\")\n",
    "print(event_log.get_event_attribute_values('org:group'))"
   ]
  },
  {
   "cell_type": "markdown",
   "id": "57b90a09",
   "metadata": {},
   "source": [
    "### The `get_start_activities` method\n",
    "\n",
    "The `get_start_activities` method returns all the activities that start the traces in the log. The method returns a dictionary where each starting activity is paired with the number of traces that start with that activity."
   ]
  },
  {
   "cell_type": "code",
   "execution_count": 6,
   "id": "eab4c91e",
   "metadata": {},
   "outputs": [
    {
     "data": {
      "text/plain": [
       "{'ER Registration': 995,\n",
       " 'IV Liquid': 14,\n",
       " 'ER Triage': 6,\n",
       " 'CRP': 10,\n",
       " 'ER Sepsis Triage': 7,\n",
       " 'Leucocytes': 18}"
      ]
     },
     "execution_count": 6,
     "metadata": {},
     "output_type": "execute_result"
    }
   ],
   "source": [
    "event_log.get_start_activities()"
   ]
  },
  {
   "cell_type": "markdown",
   "id": "829d7ef6",
   "metadata": {},
   "source": [
    "### The `get_end_activities` method\n",
    "\n",
    "The `get_end_activities` function returns all the activities that end the traces in the log. The method returns a dictionary where each ending activity is paired with the number of traces that end with that activity."
   ]
  },
  {
   "cell_type": "code",
   "execution_count": 7,
   "id": "09984c00",
   "metadata": {},
   "outputs": [
    {
     "data": {
      "text/plain": [
       "{'Release A': 393,\n",
       " 'Return ER': 291,\n",
       " 'IV Antibiotics': 87,\n",
       " 'Release B': 55,\n",
       " 'ER Sepsis Triage': 49,\n",
       " 'Leucocytes': 44,\n",
       " 'IV Liquid': 12,\n",
       " 'Release C': 19,\n",
       " 'CRP': 41,\n",
       " 'LacticAcid': 24,\n",
       " 'Release D': 14,\n",
       " 'Admission NC': 14,\n",
       " 'Release E': 5,\n",
       " 'ER Triage': 2}"
      ]
     },
     "execution_count": 7,
     "metadata": {},
     "output_type": "execute_result"
    }
   ],
   "source": [
    "event_log.get_end_activities()"
   ]
  },
  {
   "cell_type": "markdown",
   "id": "8e42a7ae",
   "metadata": {},
   "source": [
    "### The `attribute_log_projection` method\n",
    "\n",
    "A log is a complex data structure that can be explored along several dimensions. The method `attribute_log_projection` projects the cases in the log according to the given input attribute. A projection is a list (the log) of lists (the single cases) containing the value of the attribute."
   ]
  },
  {
   "cell_type": "code",
   "execution_count": null,
   "id": "77896ad0",
   "metadata": {},
   "outputs": [],
   "source": [
    "# Activity projection\n",
    "for idx, trace in enumerate(event_log.attribute_log_projection(event_log.get_concept_name())):\n",
    "    print(f\"{idx}- {trace}\")\n",
    "print(\"--------------------------------------\")\n",
    "\n",
    "# Resource projection\n",
    "for idx, trace in enumerate(event_log.attribute_log_projection(\"org:group\")):\n",
    "    print(f\"{idx}- {trace}\")"
   ]
  },
  {
   "cell_type": "markdown",
   "id": "f0e0eb2a",
   "metadata": {},
   "source": [
    "### The `get_variants` method\n",
    "\n",
    "This method returns all the variants of an event log. It returns a dictionary where the key is a string expressing the variant and the value is a list containing all the traces encoding that variant. The following snippet of code returns the variants in a string format."
   ]
  },
  {
   "cell_type": "code",
   "execution_count": null,
   "id": "0d511bf5",
   "metadata": {},
   "outputs": [],
   "source": [
    "for idx, variant in enumerate(event_log.get_variants().keys()):\n",
    "    print(f\"{idx}- {variant}\")"
   ]
  },
  {
   "cell_type": "markdown",
   "id": "34532b36",
   "metadata": {},
   "source": [
    "### The `to_dataframe` method\n",
    "\n",
    "The event log can be converted in a Pandas dataframe with the `to_dataframe` method."
   ]
  },
  {
   "cell_type": "code",
   "execution_count": 10,
   "id": "a688051c",
   "metadata": {},
   "outputs": [
    {
     "data": {
      "text/html": [
       "<div>\n",
       "<style scoped>\n",
       "    .dataframe tbody tr th:only-of-type {\n",
       "        vertical-align: middle;\n",
       "    }\n",
       "\n",
       "    .dataframe tbody tr th {\n",
       "        vertical-align: top;\n",
       "    }\n",
       "\n",
       "    .dataframe thead th {\n",
       "        text-align: right;\n",
       "    }\n",
       "</style>\n",
       "<table border=\"1\" class=\"dataframe\">\n",
       "  <thead>\n",
       "    <tr style=\"text-align: right;\">\n",
       "      <th></th>\n",
       "      <th>InfectionSuspected</th>\n",
       "      <th>org:group</th>\n",
       "      <th>DiagnosticBlood</th>\n",
       "      <th>DisfuncOrg</th>\n",
       "      <th>SIRSCritTachypnea</th>\n",
       "      <th>Hypotensie</th>\n",
       "      <th>SIRSCritHeartRate</th>\n",
       "      <th>Infusion</th>\n",
       "      <th>DiagnosticArtAstrup</th>\n",
       "      <th>concept:name</th>\n",
       "      <th>...</th>\n",
       "      <th>DiagnosticLacticAcid</th>\n",
       "      <th>lifecycle:transition</th>\n",
       "      <th>Diagnose</th>\n",
       "      <th>Hypoxie</th>\n",
       "      <th>DiagnosticUrinarySediment</th>\n",
       "      <th>DiagnosticECG</th>\n",
       "      <th>case:concept:name</th>\n",
       "      <th>Leucocytes</th>\n",
       "      <th>CRP</th>\n",
       "      <th>LacticAcid</th>\n",
       "    </tr>\n",
       "  </thead>\n",
       "  <tbody>\n",
       "    <tr>\n",
       "      <th>0</th>\n",
       "      <td>True</td>\n",
       "      <td>A</td>\n",
       "      <td>True</td>\n",
       "      <td>True</td>\n",
       "      <td>True</td>\n",
       "      <td>True</td>\n",
       "      <td>True</td>\n",
       "      <td>True</td>\n",
       "      <td>True</td>\n",
       "      <td>ER Registration</td>\n",
       "      <td>...</td>\n",
       "      <td>True</td>\n",
       "      <td>complete</td>\n",
       "      <td>A</td>\n",
       "      <td>False</td>\n",
       "      <td>True</td>\n",
       "      <td>True</td>\n",
       "      <td>A</td>\n",
       "      <td>NaN</td>\n",
       "      <td>NaN</td>\n",
       "      <td>NaN</td>\n",
       "    </tr>\n",
       "    <tr>\n",
       "      <th>1</th>\n",
       "      <td>NaN</td>\n",
       "      <td>B</td>\n",
       "      <td>NaN</td>\n",
       "      <td>NaN</td>\n",
       "      <td>NaN</td>\n",
       "      <td>NaN</td>\n",
       "      <td>NaN</td>\n",
       "      <td>NaN</td>\n",
       "      <td>NaN</td>\n",
       "      <td>Leucocytes</td>\n",
       "      <td>...</td>\n",
       "      <td>NaN</td>\n",
       "      <td>complete</td>\n",
       "      <td>NaN</td>\n",
       "      <td>NaN</td>\n",
       "      <td>NaN</td>\n",
       "      <td>NaN</td>\n",
       "      <td>A</td>\n",
       "      <td>9.6</td>\n",
       "      <td>NaN</td>\n",
       "      <td>NaN</td>\n",
       "    </tr>\n",
       "    <tr>\n",
       "      <th>2</th>\n",
       "      <td>NaN</td>\n",
       "      <td>B</td>\n",
       "      <td>NaN</td>\n",
       "      <td>NaN</td>\n",
       "      <td>NaN</td>\n",
       "      <td>NaN</td>\n",
       "      <td>NaN</td>\n",
       "      <td>NaN</td>\n",
       "      <td>NaN</td>\n",
       "      <td>CRP</td>\n",
       "      <td>...</td>\n",
       "      <td>NaN</td>\n",
       "      <td>complete</td>\n",
       "      <td>NaN</td>\n",
       "      <td>NaN</td>\n",
       "      <td>NaN</td>\n",
       "      <td>NaN</td>\n",
       "      <td>A</td>\n",
       "      <td>NaN</td>\n",
       "      <td>21.0</td>\n",
       "      <td>NaN</td>\n",
       "    </tr>\n",
       "    <tr>\n",
       "      <th>3</th>\n",
       "      <td>NaN</td>\n",
       "      <td>B</td>\n",
       "      <td>NaN</td>\n",
       "      <td>NaN</td>\n",
       "      <td>NaN</td>\n",
       "      <td>NaN</td>\n",
       "      <td>NaN</td>\n",
       "      <td>NaN</td>\n",
       "      <td>NaN</td>\n",
       "      <td>LacticAcid</td>\n",
       "      <td>...</td>\n",
       "      <td>NaN</td>\n",
       "      <td>complete</td>\n",
       "      <td>NaN</td>\n",
       "      <td>NaN</td>\n",
       "      <td>NaN</td>\n",
       "      <td>NaN</td>\n",
       "      <td>A</td>\n",
       "      <td>NaN</td>\n",
       "      <td>NaN</td>\n",
       "      <td>2.2</td>\n",
       "    </tr>\n",
       "    <tr>\n",
       "      <th>4</th>\n",
       "      <td>NaN</td>\n",
       "      <td>C</td>\n",
       "      <td>NaN</td>\n",
       "      <td>NaN</td>\n",
       "      <td>NaN</td>\n",
       "      <td>NaN</td>\n",
       "      <td>NaN</td>\n",
       "      <td>NaN</td>\n",
       "      <td>NaN</td>\n",
       "      <td>ER Triage</td>\n",
       "      <td>...</td>\n",
       "      <td>NaN</td>\n",
       "      <td>complete</td>\n",
       "      <td>NaN</td>\n",
       "      <td>NaN</td>\n",
       "      <td>NaN</td>\n",
       "      <td>NaN</td>\n",
       "      <td>A</td>\n",
       "      <td>NaN</td>\n",
       "      <td>NaN</td>\n",
       "      <td>NaN</td>\n",
       "    </tr>\n",
       "  </tbody>\n",
       "</table>\n",
       "<p>5 rows × 32 columns</p>\n",
       "</div>"
      ],
      "text/plain": [
       "  InfectionSuspected org:group DiagnosticBlood DisfuncOrg SIRSCritTachypnea  \\\n",
       "0               True         A            True       True              True   \n",
       "1                NaN         B             NaN        NaN               NaN   \n",
       "2                NaN         B             NaN        NaN               NaN   \n",
       "3                NaN         B             NaN        NaN               NaN   \n",
       "4                NaN         C             NaN        NaN               NaN   \n",
       "\n",
       "  Hypotensie SIRSCritHeartRate Infusion DiagnosticArtAstrup     concept:name  \\\n",
       "0       True              True     True                True  ER Registration   \n",
       "1        NaN               NaN      NaN                 NaN       Leucocytes   \n",
       "2        NaN               NaN      NaN                 NaN              CRP   \n",
       "3        NaN               NaN      NaN                 NaN       LacticAcid   \n",
       "4        NaN               NaN      NaN                 NaN        ER Triage   \n",
       "\n",
       "   ...  DiagnosticLacticAcid lifecycle:transition Diagnose Hypoxie  \\\n",
       "0  ...                  True             complete        A   False   \n",
       "1  ...                   NaN             complete      NaN     NaN   \n",
       "2  ...                   NaN             complete      NaN     NaN   \n",
       "3  ...                   NaN             complete      NaN     NaN   \n",
       "4  ...                   NaN             complete      NaN     NaN   \n",
       "\n",
       "  DiagnosticUrinarySediment DiagnosticECG case:concept:name Leucocytes   CRP  \\\n",
       "0                      True          True                 A        NaN   NaN   \n",
       "1                       NaN           NaN                 A        9.6   NaN   \n",
       "2                       NaN           NaN                 A        NaN  21.0   \n",
       "3                       NaN           NaN                 A        NaN   NaN   \n",
       "4                       NaN           NaN                 A        NaN   NaN   \n",
       "\n",
       "  LacticAcid  \n",
       "0        NaN  \n",
       "1        NaN  \n",
       "2        NaN  \n",
       "3        2.2  \n",
       "4        NaN  \n",
       "\n",
       "[5 rows x 32 columns]"
      ]
     },
     "execution_count": 10,
     "metadata": {},
     "output_type": "execute_result"
    }
   ],
   "source": [
    "event_log.to_dataframe()\n",
    "event_log.get_log().head()"
   ]
  },
  {
   "cell_type": "markdown",
   "id": "4f8dd30a",
   "metadata": {},
   "source": [
    "### The `to_eventlog` method\n",
    "\n",
    "The event log can be converted in a EventLog with the `to_eventlog` method."
   ]
  },
  {
   "cell_type": "code",
   "execution_count": 11,
   "id": "4a895b28",
   "metadata": {},
   "outputs": [
    {
     "data": {
      "text/plain": [
       "[{'attributes': {'concept:name': 'A'}, 'events': [{'InfectionSuspected': True, 'org:group': 'A', 'DiagnosticBlood': True, 'DisfuncOrg': True, 'SIRSCritTachypnea': True, 'Hypotensie': True, 'SIRSCritHeartRate': True, 'Infusion': True, 'DiagnosticArtAstrup': True, 'concept:name': 'ER Registration', 'Age': 85.0, 'DiagnosticIC': True, 'DiagnosticSputum': False, 'DiagnosticLiquor': False, 'DiagnosticOther': False, 'SIRSCriteria2OrMore': True, 'DiagnosticXthorax': True, 'SIRSCritTemperature': True, 'time:timestamp': datetime.datetime(2014, 10, 22, 11, 15, 41, tzinfo=datetime.timezone(datetime.timedelta(seconds=7200))), 'DiagnosticUrinaryCulture': True, 'SIRSCritLeucos': False, 'Oligurie': False, 'DiagnosticLacticAcid': True, 'lifecycle:transition': 'complete', 'Diagnose': 'A', 'Hypoxie': False, 'DiagnosticUrinarySediment': True, 'DiagnosticECG': True, 'Leucocytes': nan, 'CRP': nan, 'LacticAcid': nan}, '..', {'InfectionSuspected': nan, 'org:group': 'E', 'DiagnosticBlood': nan, 'DisfuncOrg': nan, 'SIRSCritTachypnea': nan, 'Hypotensie': nan, 'SIRSCritHeartRate': nan, 'Infusion': nan, 'DiagnosticArtAstrup': nan, 'concept:name': 'Release A', 'Age': nan, 'DiagnosticIC': nan, 'DiagnosticSputum': nan, 'DiagnosticLiquor': nan, 'DiagnosticOther': nan, 'SIRSCriteria2OrMore': nan, 'DiagnosticXthorax': nan, 'SIRSCritTemperature': nan, 'time:timestamp': datetime.datetime(2014, 11, 2, 15, 15, tzinfo=datetime.timezone(datetime.timedelta(seconds=3600))), 'DiagnosticUrinaryCulture': nan, 'SIRSCritLeucos': nan, 'Oligurie': nan, 'DiagnosticLacticAcid': nan, 'lifecycle:transition': 'complete', 'Diagnose': nan, 'Hypoxie': nan, 'DiagnosticUrinarySediment': nan, 'DiagnosticECG': nan, 'Leucocytes': nan, 'CRP': nan, 'LacticAcid': nan}]}, '....', {'attributes': {'concept:name': 'LNA'}, 'events': [{'InfectionSuspected': False, 'org:group': 'L', 'DiagnosticBlood': False, 'DisfuncOrg': False, 'SIRSCritTachypnea': False, 'Hypotensie': False, 'SIRSCritHeartRate': False, 'Infusion': False, 'DiagnosticArtAstrup': False, 'concept:name': 'ER Registration', 'Age': 50.0, 'DiagnosticIC': False, 'DiagnosticSputum': False, 'DiagnosticLiquor': False, 'DiagnosticOther': False, 'SIRSCriteria2OrMore': False, 'DiagnosticXthorax': False, 'SIRSCritTemperature': False, 'time:timestamp': datetime.datetime(2014, 12, 3, 10, 50, 28, tzinfo=datetime.timezone(datetime.timedelta(seconds=3600))), 'DiagnosticUrinaryCulture': False, 'SIRSCritLeucos': False, 'Oligurie': False, 'DiagnosticLacticAcid': False, 'lifecycle:transition': 'complete', 'Diagnose': nan, 'Hypoxie': False, 'DiagnosticUrinarySediment': False, 'DiagnosticECG': False, 'Leucocytes': nan, 'CRP': nan, 'LacticAcid': nan}, '..', {'InfectionSuspected': nan, 'org:group': 'L', 'DiagnosticBlood': nan, 'DisfuncOrg': nan, 'SIRSCritTachypnea': nan, 'Hypotensie': nan, 'SIRSCritHeartRate': nan, 'Infusion': nan, 'DiagnosticArtAstrup': nan, 'concept:name': 'ER Sepsis Triage', 'Age': nan, 'DiagnosticIC': nan, 'DiagnosticSputum': nan, 'DiagnosticLiquor': nan, 'DiagnosticOther': nan, 'SIRSCriteria2OrMore': nan, 'DiagnosticXthorax': nan, 'SIRSCritTemperature': nan, 'time:timestamp': datetime.datetime(2014, 12, 3, 10, 54, 39, tzinfo=datetime.timezone(datetime.timedelta(seconds=3600))), 'DiagnosticUrinaryCulture': nan, 'SIRSCritLeucos': nan, 'Oligurie': nan, 'DiagnosticLacticAcid': nan, 'lifecycle:transition': 'complete', 'Diagnose': nan, 'Hypoxie': nan, 'DiagnosticUrinarySediment': nan, 'DiagnosticECG': nan, 'Leucocytes': nan, 'CRP': nan, 'LacticAcid': nan}]}]"
      ]
     },
     "execution_count": 11,
     "metadata": {},
     "output_type": "execute_result"
    }
   ],
   "source": [
    "event_log.to_eventlog()\n",
    "event_log.get_log()"
   ]
  },
  {
   "cell_type": "markdown",
   "id": "7c3e6fdf",
   "metadata": {},
   "source": [
    "### The `save_xes` method\n",
    "\n",
    "The event log can be saved in `xes` format with the `save_xes` method."
   ]
  },
  {
   "cell_type": "code",
   "execution_count": 12,
   "id": "3cf82cee",
   "metadata": {},
   "outputs": [
    {
     "data": {
      "application/vnd.jupyter.widget-view+json": {
       "model_id": "955943740996419aada383dba93613c9",
       "version_major": 2,
       "version_minor": 0
      },
      "text/plain": [
       "exporting log, completed traces ::   0%|          | 0/1050 [00:00<?, ?it/s]"
      ]
     },
     "metadata": {},
     "output_type": "display_data"
    }
   ],
   "source": [
    "event_log.save_xes(\"saved_log.xes\")"
   ]
  },
  {
   "cell_type": "markdown",
   "id": "b617ba75",
   "metadata": {},
   "source": [
    "### The `compute_frequent_itemsets` method\n",
    "\n",
    "The `D4PyEventLog` class offers support for computing the frequent itemsets of attributes in the log. The method `compute_frequent_itemsets` takes as input the `min_support` of the itemsets, the name of the case id attribute, a list with the names of the attributes you want to discover the itemsets, the `algorithm` to perform the computation (available `fpgrowth` and `apriori`) and `len_itemset` indicating the maximum length of the itemsets, the default is `None`."
   ]
  },
  {
   "cell_type": "code",
   "execution_count": 13,
   "id": "f4825aa3",
   "metadata": {},
   "outputs": [
    {
     "data": {
      "text/html": [
       "<div>\n",
       "<style scoped>\n",
       "    .dataframe tbody tr th:only-of-type {\n",
       "        vertical-align: middle;\n",
       "    }\n",
       "\n",
       "    .dataframe tbody tr th {\n",
       "        vertical-align: top;\n",
       "    }\n",
       "\n",
       "    .dataframe thead th {\n",
       "        text-align: right;\n",
       "    }\n",
       "</style>\n",
       "<table border=\"1\" class=\"dataframe\">\n",
       "  <thead>\n",
       "    <tr style=\"text-align: right;\">\n",
       "      <th></th>\n",
       "      <th>support</th>\n",
       "      <th>itemsets</th>\n",
       "      <th>length</th>\n",
       "    </tr>\n",
       "  </thead>\n",
       "  <tbody>\n",
       "    <tr>\n",
       "      <th>0</th>\n",
       "      <td>1.000000</td>\n",
       "      <td>(concept:name_ER Triage)</td>\n",
       "      <td>1</td>\n",
       "    </tr>\n",
       "    <tr>\n",
       "      <th>1</th>\n",
       "      <td>1.000000</td>\n",
       "      <td>(concept:name_ER Registration)</td>\n",
       "      <td>1</td>\n",
       "    </tr>\n",
       "    <tr>\n",
       "      <th>2</th>\n",
       "      <td>0.999048</td>\n",
       "      <td>(concept:name_ER Sepsis Triage)</td>\n",
       "      <td>1</td>\n",
       "    </tr>\n",
       "    <tr>\n",
       "      <th>3</th>\n",
       "      <td>0.963810</td>\n",
       "      <td>(concept:name_Leucocytes)</td>\n",
       "      <td>1</td>\n",
       "    </tr>\n",
       "    <tr>\n",
       "      <th>4</th>\n",
       "      <td>0.959048</td>\n",
       "      <td>(concept:name_CRP)</td>\n",
       "      <td>1</td>\n",
       "    </tr>\n",
       "    <tr>\n",
       "      <th>5</th>\n",
       "      <td>0.819048</td>\n",
       "      <td>(concept:name_LacticAcid)</td>\n",
       "      <td>1</td>\n",
       "    </tr>\n",
       "    <tr>\n",
       "      <th>6</th>\n",
       "      <td>1.000000</td>\n",
       "      <td>(concept:name_ER Registration, concept:name_ER...</td>\n",
       "      <td>2</td>\n",
       "    </tr>\n",
       "    <tr>\n",
       "      <th>7</th>\n",
       "      <td>0.999048</td>\n",
       "      <td>(concept:name_ER Registration, concept:name_ER...</td>\n",
       "      <td>2</td>\n",
       "    </tr>\n",
       "    <tr>\n",
       "      <th>8</th>\n",
       "      <td>0.999048</td>\n",
       "      <td>(concept:name_ER Sepsis Triage, concept:name_E...</td>\n",
       "      <td>2</td>\n",
       "    </tr>\n",
       "    <tr>\n",
       "      <th>9</th>\n",
       "      <td>0.999048</td>\n",
       "      <td>(concept:name_ER Registration, concept:name_ER...</td>\n",
       "      <td>3</td>\n",
       "    </tr>\n",
       "    <tr>\n",
       "      <th>10</th>\n",
       "      <td>0.963810</td>\n",
       "      <td>(concept:name_ER Registration, concept:name_Le...</td>\n",
       "      <td>2</td>\n",
       "    </tr>\n",
       "    <tr>\n",
       "      <th>11</th>\n",
       "      <td>0.963810</td>\n",
       "      <td>(concept:name_ER Triage, concept:name_Leucocytes)</td>\n",
       "      <td>2</td>\n",
       "    </tr>\n",
       "    <tr>\n",
       "      <th>12</th>\n",
       "      <td>0.962857</td>\n",
       "      <td>(concept:name_ER Sepsis Triage, concept:name_L...</td>\n",
       "      <td>2</td>\n",
       "    </tr>\n",
       "    <tr>\n",
       "      <th>13</th>\n",
       "      <td>0.963810</td>\n",
       "      <td>(concept:name_ER Registration, concept:name_ER...</td>\n",
       "      <td>3</td>\n",
       "    </tr>\n",
       "    <tr>\n",
       "      <th>14</th>\n",
       "      <td>0.962857</td>\n",
       "      <td>(concept:name_ER Registration, concept:name_Le...</td>\n",
       "      <td>3</td>\n",
       "    </tr>\n",
       "    <tr>\n",
       "      <th>15</th>\n",
       "      <td>0.962857</td>\n",
       "      <td>(concept:name_ER Sepsis Triage, concept:name_E...</td>\n",
       "      <td>3</td>\n",
       "    </tr>\n",
       "    <tr>\n",
       "      <th>17</th>\n",
       "      <td>0.959048</td>\n",
       "      <td>(concept:name_ER Registration, concept:name_CRP)</td>\n",
       "      <td>2</td>\n",
       "    </tr>\n",
       "    <tr>\n",
       "      <th>18</th>\n",
       "      <td>0.959048</td>\n",
       "      <td>(concept:name_ER Triage, concept:name_CRP)</td>\n",
       "      <td>2</td>\n",
       "    </tr>\n",
       "    <tr>\n",
       "      <th>19</th>\n",
       "      <td>0.958095</td>\n",
       "      <td>(concept:name_Leucocytes, concept:name_CRP)</td>\n",
       "      <td>2</td>\n",
       "    </tr>\n",
       "    <tr>\n",
       "      <th>20</th>\n",
       "      <td>0.958095</td>\n",
       "      <td>(concept:name_ER Sepsis Triage, concept:name_CRP)</td>\n",
       "      <td>2</td>\n",
       "    </tr>\n",
       "    <tr>\n",
       "      <th>21</th>\n",
       "      <td>0.959048</td>\n",
       "      <td>(concept:name_ER Registration, concept:name_ER...</td>\n",
       "      <td>3</td>\n",
       "    </tr>\n",
       "    <tr>\n",
       "      <th>22</th>\n",
       "      <td>0.958095</td>\n",
       "      <td>(concept:name_ER Triage, concept:name_Leucocyt...</td>\n",
       "      <td>3</td>\n",
       "    </tr>\n",
       "    <tr>\n",
       "      <th>23</th>\n",
       "      <td>0.958095</td>\n",
       "      <td>(concept:name_ER Registration, concept:name_Le...</td>\n",
       "      <td>3</td>\n",
       "    </tr>\n",
       "    <tr>\n",
       "      <th>25</th>\n",
       "      <td>0.958095</td>\n",
       "      <td>(concept:name_ER Sepsis Triage, concept:name_E...</td>\n",
       "      <td>3</td>\n",
       "    </tr>\n",
       "    <tr>\n",
       "      <th>26</th>\n",
       "      <td>0.958095</td>\n",
       "      <td>(concept:name_ER Registration, concept:name_CR...</td>\n",
       "      <td>3</td>\n",
       "    </tr>\n",
       "    <tr>\n",
       "      <th>27</th>\n",
       "      <td>0.957143</td>\n",
       "      <td>(concept:name_ER Sepsis Triage, concept:name_L...</td>\n",
       "      <td>3</td>\n",
       "    </tr>\n",
       "    <tr>\n",
       "      <th>32</th>\n",
       "      <td>0.819048</td>\n",
       "      <td>(concept:name_CRP, concept:name_LacticAcid)</td>\n",
       "      <td>2</td>\n",
       "    </tr>\n",
       "    <tr>\n",
       "      <th>33</th>\n",
       "      <td>0.819048</td>\n",
       "      <td>(concept:name_Leucocytes, concept:name_LacticA...</td>\n",
       "      <td>2</td>\n",
       "    </tr>\n",
       "    <tr>\n",
       "      <th>34</th>\n",
       "      <td>0.819048</td>\n",
       "      <td>(concept:name_ER Registration, concept:name_La...</td>\n",
       "      <td>2</td>\n",
       "    </tr>\n",
       "    <tr>\n",
       "      <th>35</th>\n",
       "      <td>0.819048</td>\n",
       "      <td>(concept:name_ER Triage, concept:name_LacticAcid)</td>\n",
       "      <td>2</td>\n",
       "    </tr>\n",
       "    <tr>\n",
       "      <th>36</th>\n",
       "      <td>0.818095</td>\n",
       "      <td>(concept:name_ER Sepsis Triage, concept:name_L...</td>\n",
       "      <td>2</td>\n",
       "    </tr>\n",
       "    <tr>\n",
       "      <th>37</th>\n",
       "      <td>0.819048</td>\n",
       "      <td>(concept:name_Leucocytes, concept:name_CRP, co...</td>\n",
       "      <td>3</td>\n",
       "    </tr>\n",
       "    <tr>\n",
       "      <th>38</th>\n",
       "      <td>0.819048</td>\n",
       "      <td>(concept:name_ER Registration, concept:name_CR...</td>\n",
       "      <td>3</td>\n",
       "    </tr>\n",
       "    <tr>\n",
       "      <th>39</th>\n",
       "      <td>0.819048</td>\n",
       "      <td>(concept:name_ER Triage, concept:name_CRP, con...</td>\n",
       "      <td>3</td>\n",
       "    </tr>\n",
       "    <tr>\n",
       "      <th>40</th>\n",
       "      <td>0.818095</td>\n",
       "      <td>(concept:name_ER Sepsis Triage, concept:name_C...</td>\n",
       "      <td>3</td>\n",
       "    </tr>\n",
       "    <tr>\n",
       "      <th>41</th>\n",
       "      <td>0.819048</td>\n",
       "      <td>(concept:name_ER Registration, concept:name_Le...</td>\n",
       "      <td>3</td>\n",
       "    </tr>\n",
       "    <tr>\n",
       "      <th>42</th>\n",
       "      <td>0.819048</td>\n",
       "      <td>(concept:name_ER Triage, concept:name_Leucocyt...</td>\n",
       "      <td>3</td>\n",
       "    </tr>\n",
       "    <tr>\n",
       "      <th>43</th>\n",
       "      <td>0.818095</td>\n",
       "      <td>(concept:name_ER Sepsis Triage, concept:name_L...</td>\n",
       "      <td>3</td>\n",
       "    </tr>\n",
       "    <tr>\n",
       "      <th>44</th>\n",
       "      <td>0.819048</td>\n",
       "      <td>(concept:name_ER Registration, concept:name_ER...</td>\n",
       "      <td>3</td>\n",
       "    </tr>\n",
       "    <tr>\n",
       "      <th>45</th>\n",
       "      <td>0.818095</td>\n",
       "      <td>(concept:name_ER Registration, concept:name_ER...</td>\n",
       "      <td>3</td>\n",
       "    </tr>\n",
       "    <tr>\n",
       "      <th>46</th>\n",
       "      <td>0.818095</td>\n",
       "      <td>(concept:name_ER Sepsis Triage, concept:name_E...</td>\n",
       "      <td>3</td>\n",
       "    </tr>\n",
       "  </tbody>\n",
       "</table>\n",
       "</div>"
      ],
      "text/plain": [
       "     support                                           itemsets  length\n",
       "0   1.000000                           (concept:name_ER Triage)       1\n",
       "1   1.000000                     (concept:name_ER Registration)       1\n",
       "2   0.999048                    (concept:name_ER Sepsis Triage)       1\n",
       "3   0.963810                          (concept:name_Leucocytes)       1\n",
       "4   0.959048                                 (concept:name_CRP)       1\n",
       "5   0.819048                          (concept:name_LacticAcid)       1\n",
       "6   1.000000  (concept:name_ER Registration, concept:name_ER...       2\n",
       "7   0.999048  (concept:name_ER Registration, concept:name_ER...       2\n",
       "8   0.999048  (concept:name_ER Sepsis Triage, concept:name_E...       2\n",
       "9   0.999048  (concept:name_ER Registration, concept:name_ER...       3\n",
       "10  0.963810  (concept:name_ER Registration, concept:name_Le...       2\n",
       "11  0.963810  (concept:name_ER Triage, concept:name_Leucocytes)       2\n",
       "12  0.962857  (concept:name_ER Sepsis Triage, concept:name_L...       2\n",
       "13  0.963810  (concept:name_ER Registration, concept:name_ER...       3\n",
       "14  0.962857  (concept:name_ER Registration, concept:name_Le...       3\n",
       "15  0.962857  (concept:name_ER Sepsis Triage, concept:name_E...       3\n",
       "17  0.959048   (concept:name_ER Registration, concept:name_CRP)       2\n",
       "18  0.959048         (concept:name_ER Triage, concept:name_CRP)       2\n",
       "19  0.958095        (concept:name_Leucocytes, concept:name_CRP)       2\n",
       "20  0.958095  (concept:name_ER Sepsis Triage, concept:name_CRP)       2\n",
       "21  0.959048  (concept:name_ER Registration, concept:name_ER...       3\n",
       "22  0.958095  (concept:name_ER Triage, concept:name_Leucocyt...       3\n",
       "23  0.958095  (concept:name_ER Registration, concept:name_Le...       3\n",
       "25  0.958095  (concept:name_ER Sepsis Triage, concept:name_E...       3\n",
       "26  0.958095  (concept:name_ER Registration, concept:name_CR...       3\n",
       "27  0.957143  (concept:name_ER Sepsis Triage, concept:name_L...       3\n",
       "32  0.819048        (concept:name_CRP, concept:name_LacticAcid)       2\n",
       "33  0.819048  (concept:name_Leucocytes, concept:name_LacticA...       2\n",
       "34  0.819048  (concept:name_ER Registration, concept:name_La...       2\n",
       "35  0.819048  (concept:name_ER Triage, concept:name_LacticAcid)       2\n",
       "36  0.818095  (concept:name_ER Sepsis Triage, concept:name_L...       2\n",
       "37  0.819048  (concept:name_Leucocytes, concept:name_CRP, co...       3\n",
       "38  0.819048  (concept:name_ER Registration, concept:name_CR...       3\n",
       "39  0.819048  (concept:name_ER Triage, concept:name_CRP, con...       3\n",
       "40  0.818095  (concept:name_ER Sepsis Triage, concept:name_C...       3\n",
       "41  0.819048  (concept:name_ER Registration, concept:name_Le...       3\n",
       "42  0.819048  (concept:name_ER Triage, concept:name_Leucocyt...       3\n",
       "43  0.818095  (concept:name_ER Sepsis Triage, concept:name_L...       3\n",
       "44  0.819048  (concept:name_ER Registration, concept:name_ER...       3\n",
       "45  0.818095  (concept:name_ER Registration, concept:name_ER...       3\n",
       "46  0.818095  (concept:name_ER Sepsis Triage, concept:name_E...       3"
      ]
     },
     "execution_count": 13,
     "metadata": {},
     "output_type": "execute_result"
    }
   ],
   "source": [
    "frequent_itemsets = event_log.compute_frequent_itemsets(min_support=0.8, case_id_col=event_log.get_case_name(), categorical_attributes=['concept:name'], algorithm='fpgrowth', len_itemset=3)\n",
    "frequent_itemsets"
   ]
  }
 ],
 "metadata": {
  "kernelspec": {
   "display_name": "Python 3 (ipykernel)",
   "language": "python",
   "name": "python3"
  },
  "language_info": {
   "codemirror_mode": {
    "name": "ipython",
    "version": 3
   },
   "file_extension": ".py",
   "mimetype": "text/x-python",
   "name": "python",
   "nbconvert_exporter": "python",
   "pygments_lexer": "ipython3",
   "version": "3.9.7"
  },
  "vscode": {
   "interpreter": {
    "hash": "05d4b7c3cd0aad81aa9df4db91d3eeeb2841d831664bc3cb6ce2ef5b755f059a"
   }
  }
 },
 "nbformat": 4,
 "nbformat_minor": 5
}
