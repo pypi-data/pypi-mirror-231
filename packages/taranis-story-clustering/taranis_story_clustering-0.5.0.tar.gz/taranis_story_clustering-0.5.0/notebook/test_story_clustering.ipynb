{
 "cells": [
  {
   "cell_type": "markdown",
   "metadata": {},
   "source": [
    "# Read list of news items aggregates with exactly one news item entry"
   ]
  },
  {
   "cell_type": "code",
   "execution_count": 1,
   "metadata": {},
   "outputs": [
    {
     "name": "stdout",
     "output_type": "stream",
     "text": [
      "[{'title': 'Test Aggregate', 'description': 'Test Aggregate', 'created': '2023-08-01T17:01:04.801870', 'read': False, 'important': False, 'likes': 0, 'dislikes': 0, 'relevance': 0, 'comments': '', 'summary': '', 'news_items': [{'id': 13, 'news_item_data_id': '4b9a5a9e-04d7-41fc-928f-99e5ad608ebb', 'news_item_aggregate_id': 1, 'news_item_data': {'review': '', 'author': '', 'source': 'https://url/', 'link': 'https://url/', 'language': None, 'osint_source_id': '78049551-dcef-45bd-a5cd-4fe842c4d5e2', 'id': '4b9a5a9e-04d7-41fc-928f-99e5ad608ebb', 'hash': 'a96e88baaff421165e90ac4bb9059971b86f88d5c2abba36d78a1264fb8e9c87', 'title': 'Test News Item 13', 'content': 'CVE-2020-1234 - Test Aggregate 1, Securities', 'collected': '2023-08-01T17:01:04.802015', 'published': '2023-08-01T17:01:04.801998', 'updated': '2023-08-01T17:00:39.893435'}}], 'tags': {'CVE-2020-1234': {'name': 'CVE-2020-1234', 'tag_type': 'CVE', 'sub_forms': ['CVE']}, 'Security': {'name': 'Security', 'tag_type': 'MISC', 'sub_forms': ['securities']}}, 'id': 1}, {'title': 'Test Aggregate', 'description': 'Test Aggregate', 'created': '2023-08-01T17:01:04.801870', 'read': False, 'important': False, 'likes': 0, 'dislikes': 0, 'relevance': 0, 'comments': '', 'summary': '', 'news_items': [{'id': 27, 'news_item_data_id': '4b9a5a9e-04d7-41fc-928f-99e5ad608ebb', 'news_item_aggregate_id': 2, 'news_item_data': {'review': '', 'author': '', 'source': 'https://url/', 'link': 'https://url/', 'language': None, 'osint_source_id': '78049551-dcef-45bd-a5cd-4fe842c4d5e2', 'id': '4b9a5a9e-04d7-41fc-928f-99e5ad608ebb', 'hash': 'a96e88baaff421165e90ac4bb9059971b86f88d5c2abba36d78a1264fb8e9c87', 'title': 'Test News Item 27', 'content': 'CVE-2020-4321 - Test Aggregate 2, Software', 'collected': '2023-08-01T17:01:04.802015', 'published': '2023-08-01T17:01:04.801998', 'updated': '2023-08-01T17:00:39.893435'}}], 'tags': {'CVE-2020-4321': {'name': 'CVE-2020-4321', 'tag_type': 'CVE', 'sub_forms': ['CVE']}, 'Software': {'name': 'Software', 'tag_type': 'MISC', 'sub_forms': ['softwares']}}, 'id': 2}, {'title': 'Test Aggregate', 'description': 'Test Aggregate', 'created': '2023-08-01T17:01:04.801870', 'read': False, 'important': False, 'likes': 0, 'dislikes': 0, 'relevance': 0, 'comments': '', 'summary': '', 'news_items': [{'id': 93, 'news_item_data_id': '533086da-c8c1-4f8e-b3ee-103268983580', 'news_item_aggregate_id': 3, 'news_item_data': {'review': '', 'author': '', 'source': 'https://url/', 'link': 'https://url/', 'language': None, 'osint_source_id': '78049551-dcef-45bd-a5cd-4fe842c4d5e2', 'id': '533086da-c8c1-4f8e-b3ee-103268983580', 'hash': 'f4c7b52ecfe6ab612db30e7fa534b470fd11493fc92f30575577b356b2a1abc7', 'title': 'Test News Item', 'content': 'Long and random text - bla bla foo bar lorem ipsum', 'collected': '2023-08-01T17:01:04.801951', 'published': '2023-08-01T17:01:04.801934', 'updated': '2023-08-01T17:00:39.893435'}}], 'tags': {}, 'id': 3}, {'title': 'Test Aggregate', 'description': 'Test Aggregate', 'created': '2023-08-01T17:01:04.801870', 'read': False, 'important': False, 'likes': 0, 'dislikes': 0, 'relevance': 0, 'comments': '', 'summary': '', 'news_items': [{'id': 1414, 'news_item_data_id': 'f8912dab-h345-6789-01jk-5lmn6789o012', 'news_item_aggregate_id': 4, 'news_item_data': {'review': '', 'author': '', 'source': 'https://url/', 'link': 'https://url/', 'language': None, 'osint_source_id': '78049551-dcef-45bd-a5cd-4fe842c4d5e2', 'id': 'f8912dab-h345-6789-01jk-5lmn6789o012', 'hash': 'd250dgfg45gh09824j59h56jk7k82l0m53o4p91q5rst9u809v567wx8910y234', 'title': 'Test News Item', 'content': \"Breaking: Local tech wizard claims to have found the solution to the world's biggest cybersecurity threat – turning it off and then back on again! Industries are flabbergasted by the simplicity of the remedy.\", 'collected': '2023-08-05T23:11:04.801886', 'published': '2023-08-05T23:11:04.801870', 'updated': '2023-08-05T23:10:39.893435'}}], 'tags': {'tech wizard': {'name': 'tech wizard', 'tag_type': 'MISC', 'sub_forms': []}, 'cybersecurity': {'name': 'cybersecurity', 'tag_type': 'MISC', 'sub_forms': []}, 'remedy': {'name': 'remedy', 'tag_type': 'MISC', 'sub_forms': []}}, 'id': 4}, {'title': 'Test Aggregate', 'description': 'Test Aggregate', 'created': '2023-08-01T17:01:04.801870', 'read': False, 'important': False, 'likes': 0, 'dislikes': 0, 'relevance': 0, 'comments': '', 'summary': '', 'news_items': [{'id': 11, 'news_item_data_id': 'c12a3bde-a333-4567-90ab-2ed123f45678', 'news_item_aggregate_id': 5, 'news_item_data': {'review': '', 'author': '', 'source': 'https://url/', 'link': 'https://url/', 'language': None, 'osint_source_id': '78049551-dcef-45bd-a5cd-4fe842c4d5e2', 'id': 'c12a3bde-a333-4567-90ab-2ed123f45678', 'hash': 'a019afdb34ee098237c58f23ab5e80e7a51c0e91a2abc8e809e234fa3782f121', 'title': 'Test News Item 11', 'content': 'San Francisco based cloud infrastructure giant experiences significant data breach exposing millions of user records. The associated threat actors appear to be nation-state sponsored.', 'collected': '2023-08-02T14:05:04.801886', 'published': '2023-08-02T14:05:04.801870', 'updated': '2023-08-02T14:04:39.893435'}}], 'tags': {'cloud': {'name': 'cloud', 'tag_type': 'MISC', 'sub_forms': []}, 'data breach': {'name': 'data breach', 'tag_type': 'MISC', 'sub_forms': []}, 'nation-state': {'name': 'nation-state', 'tag_type': 'MISC', 'sub_forms': []}}, 'id': 5}, {'title': 'Test Aggregate', 'description': 'Test Aggregate', 'created': '2023-08-01T17:01:04.801870', 'read': False, 'important': False, 'likes': 0, 'dislikes': 0, 'relevance': 0, 'comments': '', 'summary': '', 'news_items': [{'id': 12, 'news_item_data_id': 'd45b6cde-f456-7890-91bc-3ed456f78901', 'news_item_aggregate_id': 6, 'news_item_data': {'review': '', 'author': '', 'source': 'https://url/', 'link': 'https://url/', 'language': None, 'osint_source_id': '78049551-dcef-45bd-a5cd-4fe842c4d5e2', 'id': 'd45b6cde-f456-7890-91bc-3ed456f78901', 'hash': 'b029bfbb34ef098238c59f34bc5f90f8b52c1e91a3efc9e809e456fb4790f132', 'title': 'Test News Item 12', 'content': 'Sophisticated malware targeting Linux servers has been identified, with potentially devastating consequences for enterprise operations. Cybersecurity firms are actively working on mitigation strategies.', 'collected': '2023-08-03T19:07:04.801886', 'published': '2023-08-03T19:07:04.801870', 'updated': '2023-08-03T19:06:39.893435'}}], 'tags': {'malware': {'name': 'malware', 'tag_type': 'MISC', 'sub_forms': []}, 'Linux': {'name': 'Linux servers', 'tag_type': 'MISC', 'sub_forms': []}, 'Cybersecurity': {'name': 'Cybersecurity', 'tag_type': 'MISC', 'sub_forms': []}}, 'id': 6}, {'title': 'Test Aggregate', 'description': 'Test Aggregate', 'created': '2023-08-01T17:01:04.801870', 'read': False, 'important': False, 'likes': 0, 'dislikes': 0, 'relevance': 0, 'comments': '', 'summary': '', 'news_items': [{'id': 137, 'news_item_data_id': 'e7890cde-g567-1234-56de-4fgh5678i901', 'news_item_aggregate_id': 7, 'news_item_data': {'review': '', 'author': '', 'source': 'https://url/', 'link': 'https://url/', 'language': None, 'osint_source_id': '78049551-dcef-45bd-a5cd-4fe842c4d5e2', 'id': 'e7890cde-g567-1234-56de-4fgh5678i901', 'hash': 'c139cfcd35gf098239c58g45ch6g91h9j53d2e91a4fgh9e809e567gh5891i104', 'title': 'Test News Item', 'content': 'In a surprising move, a popular European software conglomerate admits to a long-standing vulnerability in its core codebase, urging users to apply patches immediately.', 'collected': '2023-08-04T21:09:04.801886', 'published': '2023-08-04T21:09:04.801870', 'updated': '2023-08-04T21:08:39.893435'}}], 'tags': {'European software': {'name': 'European software', 'tag_type': 'MISC', 'sub_forms': []}, 'vulnerability': {'name': 'vulnerability', 'tag_type': 'MISC', 'sub_forms': []}, 'patches': {'name': 'patches', 'tag_type': 'MISC', 'sub_forms': []}}, 'id': 7}, {'title': 'Test Aggregate', 'description': 'Test Aggregate', 'created': '2023-08-01T17:01:04.801870', 'read': False, 'important': False, 'likes': 0, 'dislikes': 0, 'relevance': 0, 'comments': '', 'summary': '', 'news_items': [{'id': 4242, 'news_item_data_id': '809f93ef-f00e-423b-89f8-59b917a9e039', 'news_item_aggregate_id': 8, 'news_item_data': {'review': '', 'author': '', 'source': 'https://url/', 'link': 'https://url/', 'language': None, 'osint_source_id': '78049551-dcef-45bd-a5cd-4fe842c4d5e2', 'id': '809f93ef-f00e-423b-89f8-59b917a9e039', 'hash': '599fafee5eeb098239c57c78bf5cea6ea52b0e92a1abc9e80964150a3773f135', 'title': 'Test News Item', 'content': 'Microsoft Azure launches in Europe!', 'collected': '2023-08-01T17:01:04.801886', 'published': '2023-08-01T17:01:04.801870', 'updated': '2023-08-01T17:00:39.893435'}}], 'tags': {'Azure': {'name': 'Azure', 'tag_type': 'MISC', 'sub_forms': []}, 'Europe': {'name': 'Europe', 'tag_type': 'LOC', 'sub_forms': []}, 'Microsoft': {'name': 'Microsoft', 'tag_type': 'ORG', 'sub_forms': []}}, 'id': 8}, {'title': 'Test Aggregate', 'description': 'Test Aggregate', 'created': '2023-08-01T17:01:04.801870', 'read': False, 'important': False, 'likes': 0, 'dislikes': 0, 'relevance': 0, 'comments': '', 'summary': '', 'news_items': [{'id': 23, 'news_item_data_id': '809f93ef-f00e-423b-89f8-59b917a9e039', 'news_item_aggregate_id': 9, 'news_item_data': {'review': '', 'author': '', 'source': 'https://url/', 'link': 'https://url/', 'language': None, 'osint_source_id': '78049551-dcef-45bd-a5cd-4fe842c4d5e2', 'id': '809f93ef-f00e-423b-89f8-59b917a9e039', 'hash': '599fafee5eeb098239c57c78bf5cea6ea52b0e92a1abc9e80964150a3773f135', 'title': 'Test News Item 10', 'content': \"An unspecified Software and OS developer from Redmond Washingigton has so many security issues you won't belive the 5th vulnerability - See the list of CVEs only from the last hour below: CVE-....\", 'collected': '2023-08-01T17:01:04.801886', 'published': '2023-08-01T17:01:04.801870', 'updated': '2023-08-01T17:00:39.893435'}}], 'tags': {'Software': {'name': 'Software', 'tag_type': 'MISC', 'sub_forms': []}, 'CVE': {'name': 'CVE', 'tag_type': 'MISC', 'sub_forms': []}, 'vulnerability': {'name': 'vulnerability', 'tag_type': 'MISC', 'sub_forms': []}}, 'id': 9}, {'title': 'Test Aggregate', 'description': 'Test Aggregate', 'created': '2023-08-01T17:01:04.801870', 'read': False, 'important': False, 'likes': 0, 'dislikes': 0, 'relevance': 0, 'comments': '', 'summary': '', 'news_items': [{'id': 1337, 'news_item_data_id': '809f93ef-f00e-423b-89f8-59b917a9e039', 'news_item_aggregate_id': 10, 'news_item_data': {'review': '', 'author': '', 'source': 'https://url/', 'link': 'https://url/', 'language': None, 'osint_source_id': '78049551-dcef-45bd-a5cd-4fe842c4d5e2', 'id': '809f93ef-f00e-423b-89f8-59b917a9e039', 'hash': '599fafee5eeb098239c57c78bf5cea6ea52b0e92a1abc9e80964150a3773f135', 'title': 'Test News Item 1337', 'content': 'Follow our new cybersec blog under http://<redacted>.com/blog for news on cybersecurity and the latest vulnerabilities.', 'collected': '2023-08-01T17:01:04.801886', 'published': '2023-08-01T17:01:04.801870', 'updated': '2023-08-01T17:00:39.893435'}}], 'tags': {'Cybersecurity': {'name': 'Cybersecurity', 'tag_type': 'MISC', 'sub_forms': []}, 'blog': {'name': 'blog', 'tag_type': 'MISC', 'sub_forms': []}, 'vulnerability': {'name': 'vulnerability', 'tag_type': 'MISC', 'sub_forms': []}}, 'id': 10}]\n"
     ]
    }
   ],
   "source": [
    "import json\n",
    "with open(\"../story_clustering/tests/news_item_list.json\") as f:\n",
    "    news_item_list = json.load(f)\n",
    "print(news_item_list)"
   ]
  },
  {
   "cell_type": "code",
   "execution_count": 2,
   "metadata": {},
   "outputs": [],
   "source": [
    "import os\n",
    "import sys\n",
    "module_path = os.path.abspath(os.path.join('..'))\n",
    "if module_path not in sys.path:\n",
    "    sys.path.append(module_path)"
   ]
  },
  {
   "cell_type": "markdown",
   "metadata": {},
   "source": [
    "# Using inital clustering, input is a list of news items aggregates where each has exactly one news item entry"
   ]
  },
  {
   "cell_type": "code",
   "execution_count": 3,
   "metadata": {},
   "outputs": [
    {
     "name": "stderr",
     "output_type": "stream",
     "text": [
      "/home/andreselm/storage/envs/keybert/lib/python3.9/site-packages/tqdm/auto.py:22: TqdmWarning: IProgress not found. Please update jupyter and ipywidgets. See https://ipywidgets.readthedocs.io/en/stable/user_install.html\n",
      "  from .autonotebook import tqdm as notebook_tqdm\n",
      "[nltk_data] Downloading package stopwords to\n",
      "[nltk_data]     /home/andreselm/nltk_data...\n",
      "[nltk_data]   Package stopwords is already up-to-date!\n",
      "Story Clustering Setup Complete.\n"
     ]
    }
   ],
   "source": [
    "from story_clustering.clustering import initial_clustering"
   ]
  },
  {
   "cell_type": "code",
   "execution_count": null,
   "metadata": {},
   "outputs": [],
   "source": [
    "# use initial clustering over unclustered news items \n",
    "initial_clusters = initial_clustering(news_item_list)\n",
    "print(initial_clusters)"
   ]
  },
  {
   "cell_type": "markdown",
   "metadata": {},
   "source": [
    "# Printing news items titles belonging to the same event"
   ]
  },
  {
   "cell_type": "code",
   "execution_count": null,
   "metadata": {},
   "outputs": [],
   "source": [
    "for event_docs_list in initial_clusters[\"event_clusters\"]:\n",
    "    print(\"---- docs belonging to the same event ----\")\n",
    "    for doc_id in event_docs_list:\n",
    "        title = [d[\"news_item_data\"][\"title\"] for na in news_item_list for d in na[\"news_items\"] if d[\"id\"] == doc_id]\n",
    "        print(title[0])\n",
    "    print(\"-------------\")"
   ]
  },
  {
   "cell_type": "markdown",
   "metadata": {},
   "source": [
    "# Cluster news items aggregates against existing clusters"
   ]
  },
  {
   "cell_type": "code",
   "execution_count": null,
   "metadata": {},
   "outputs": [],
   "source": [
    "with open(\"../story_clustering/tests/clustered_news_item_list.json\") as f:\n",
    "    clustered_news_items = json.load(f)"
   ]
  },
  {
   "cell_type": "code",
   "execution_count": null,
   "metadata": {},
   "outputs": [],
   "source": [
    "from story_clustering.clustering import incremental_clustering"
   ]
  },
  {
   "cell_type": "markdown",
   "metadata": {},
   "source": []
  },
  {
   "cell_type": "code",
   "execution_count": null,
   "metadata": {},
   "outputs": [],
   "source": [
    "updated_clusters = incremental_clustering(news_item_list, clustered_news_items)\n",
    "print(updated_clusters)"
   ]
  },
  {
   "cell_type": "code",
   "execution_count": null,
   "metadata": {},
   "outputs": [],
   "source": [
    "import json\n",
    "with open(\"/home/andreselm/awake-tools/clustering-task/data/news_items_list_large.json\",\"r\") as f:\n",
    "        news_item_list = json.load(f)\n",
    "    \n",
    "clustering_results = initial_clustering(news_item_list)"
   ]
  },
  {
   "cell_type": "code",
   "execution_count": null,
   "metadata": {},
   "outputs": [],
   "source": [
    "print(clustering_results)"
   ]
  },
  {
   "cell_type": "code",
   "execution_count": null,
   "metadata": {},
   "outputs": [],
   "source": [
    "for event_docs_list in clustering_results[\"event_clusters\"]:\n",
    "    print(\"---- docs belonging to the same event ----\")\n",
    "    for doc_id in event_docs_list:\n",
    "        title = [d[\"news_item_data\"][\"title\"] for na in news_item_list for d in na[\"news_items\"] if d[\"id\"] == doc_id]\n",
    "        print(title[0])\n",
    "    print(\"-------------\")"
   ]
  }
 ],
 "metadata": {
  "kernelspec": {
   "display_name": "keybert",
   "language": "python",
   "name": "python3"
  },
  "language_info": {
   "codemirror_mode": {
    "name": "ipython",
    "version": 3
   },
   "file_extension": ".py",
   "mimetype": "text/x-python",
   "name": "python",
   "nbconvert_exporter": "python",
   "pygments_lexer": "ipython3",
   "version": "3.9.13"
  },
  "orig_nbformat": 4
 },
 "nbformat": 4,
 "nbformat_minor": 2
}
