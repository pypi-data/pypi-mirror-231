{
 "cells": [
  {
   "attachments": {},
   "cell_type": "markdown",
   "metadata": {},
   "source": [
    "# Tidytweets\n",
    "Clean text extracted from social networks to perform various NLP tasks such as topic analysis, word embeddings, sentiment analysis, etc.\n",
    "\n",
    "## Table of contents\n",
    "1. `remove_repetitions`\n",
    "2. `remove_last_repetition`\n",
    "3. `remove_urls`\n",
    "4. `remove_RT`\n",
    "5. `remove_accents`\n",
    "6. `remove_hashtags`\n",
    "7. `remove_mentions`\n",
    "8. `remove_special_characters`\n",
    "9. `remove_extra_spaces`\n",
    "10. `space_between_emojis`\n",
    "11. `preprocess`\n",
    "12. `remove_words`\n",
    "13. `unnest_tokens`\n",
    "14. `spanish_lemmatizer`\n",
    "15. `create_bol`\n",
    "16. Tutorial: Topic Modelling"
   ]
  },
  {
   "cell_type": "code",
   "execution_count": null,
   "metadata": {},
   "outputs": [],
   "source": [
    "# Set-up\n",
    "import sys\n",
    "sys.path.insert(1, r'C:\\Users\\Lucas\\Documents\\Tidytweets')\n",
    "sys.path.insert(1, r'C:\\Users\\Lucas\\Documents\\Tidytweets\\tidyX')\n",
    "# Import tidyX\n",
    "from tidyX.TextPreprocessor import TextPreprocessor as tt"
   ]
  },
  {
   "attachments": {},
   "cell_type": "markdown",
   "metadata": {},
   "source": [
    "## 1. `remove_repetitions`\n",
    "**Description of the function**\n",
    "\n",
    "This function deletes any consecutive repetition of characters in a string. For example, the string 'coooroosooo' will be changed to 'coroso'. As in many languages it's common to have some special characters that can be repeated, for example the 'l' in spanish to form 'll', the exception argument could be used to specify which characters are allowed to repeat once.\n",
    "\n",
    "**When is it useful to use it?**\n",
    "\n",
    "In social media, it is common for people to repeat certain characters of a word in order to add more emotion to a sentence. However, when we attempt to count the occurrences of a word, the various ways in which a word can be written make it difficult to uniquely identify each instance. One simple solution to this issue is to use the `remove_repetitions` function. Let's consider the following tweet:\n",
    "\n",
    "<center>\n",
    "<img src=\"img/remove_repetitions1.png\" alt=\"remove_repetitions1\" height=300px />\n",
    "</center>\n",
    "\n",
    "In this particular case, the author writes \"Goooal\" and \"Goal.\" Consequently, it becomes necessary for us to eliminate the repeated \"o\"s in the first word in order to make both words equal."
   ]
  },
  {
   "cell_type": "code",
   "execution_count": null,
   "metadata": {},
   "outputs": [],
   "source": [
    "string_example = \"Goooal ⚽️⚽️⚽️ Christiano Ronaldo Amazing Goal Juventus vs Real Madrid 1-3 Champions League Final #JUVRMA #UCLFinal2017 #JuventusRealMadrid\"\n",
    "print(\"Before:\", string_example)"
   ]
  },
  {
   "cell_type": "code",
   "execution_count": null,
   "metadata": {},
   "outputs": [],
   "source": [
    "string_without_repetitions = tt.remove_repetitions(string = string_example, exceptions = None)\n",
    "print(\"After:\", string_without_repetitions)"
   ]
  },
  {
   "attachments": {},
   "cell_type": "markdown",
   "metadata": {},
   "source": [
    "However, it's worth noting that there exist numerous words that feature the repetition of a single character. To address this, the `remove_repetitions` function incorporates the `exceptions` parameter, which allows for specifying a list of characters that are permitted to appear twice. For instance, if we set `exceptions = ['p']`, words such as 'happpy' will be cleaned and transformed into 'happy'. The default value for this parameter is `['r', 'l', 'n', 'c', 'a', 'e', 'o']`. Let's see another example:\n",
    "\n",
    "<center>\n",
    "<img src=\"img/remove_repetitions2.png\" alt=\"remove_repetitions2\" width=300px />\n",
    "</center>"
   ]
  },
  {
   "cell_type": "code",
   "execution_count": null,
   "metadata": {},
   "outputs": [],
   "source": [
    "string_example = \"HAPPPYYYYY GRADUATION TO US!! THANKYOUUUU LORD!!! 🫶🤍\"\n",
    "print(\"Before:\", string_example)"
   ]
  },
  {
   "cell_type": "code",
   "execution_count": null,
   "metadata": {},
   "outputs": [],
   "source": [
    "string_without_repetitions = tt.remove_repetitions(string = string_example, exceptions = [\"P\"])\n",
    "print(\"After:\", string_without_repetitions)"
   ]
  },
  {
   "attachments": {},
   "cell_type": "markdown",
   "metadata": {},
   "source": [
    "## 2. `remove_last_repetition`\n",
    "**Description of the function**\n",
    "\n",
    "**When is it useful to use it?**\n"
   ]
  },
  {
   "attachments": {},
   "cell_type": "markdown",
   "metadata": {},
   "source": [
    "## 3. `remove_urls`\n",
    "**Description of the function**\n",
    "\n",
    "**When is it useful to use it?**\n"
   ]
  },
  {
   "attachments": {},
   "cell_type": "markdown",
   "metadata": {},
   "source": [
    "## 4. `remove_RT`\n",
    "**Description of the function**\n",
    "\n",
    "**When is it useful to use it?**\n"
   ]
  },
  {
   "attachments": {},
   "cell_type": "markdown",
   "metadata": {},
   "source": [
    "## 5. `remove_accents`\n",
    "**Description of the function**\n",
    "\n",
    "**When is it useful to use it?**\n"
   ]
  },
  {
   "attachments": {},
   "cell_type": "markdown",
   "metadata": {},
   "source": [
    "## 6. `remove_hashtags`\n",
    "**Description of the function**\n",
    "\n",
    "**When is it useful to use it?**\n"
   ]
  },
  {
   "attachments": {},
   "cell_type": "markdown",
   "metadata": {},
   "source": [
    "## 7. `remove_mentions`\n",
    "**Description of the function**\n",
    "\n",
    "**When is it useful to use it?**\n"
   ]
  },
  {
   "attachments": {},
   "cell_type": "markdown",
   "metadata": {},
   "source": [
    "## 8. `remove_special_characters`\n",
    "**Description of the function**\n",
    "\n",
    "**When is it useful to use it?**\n"
   ]
  },
  {
   "attachments": {},
   "cell_type": "markdown",
   "metadata": {},
   "source": [
    "## 9. `remove_extra_spaces`\n",
    "**Description of the function**\n",
    "\n",
    "**When is it useful to use it?**\n"
   ]
  },
  {
   "attachments": {},
   "cell_type": "markdown",
   "metadata": {},
   "source": [
    "## 10. `space_between_emojis`\n",
    "**Description of the function**\n",
    "\n",
    "**When is it useful to use it?**\n"
   ]
  },
  {
   "attachments": {},
   "cell_type": "markdown",
   "metadata": {},
   "source": [
    "## 11. `preprocess`\n",
    "**Description of the function**\n",
    "\n",
    "**When is it useful to use it?**\n",
    "\n"
   ]
  },
  {
   "attachments": {},
   "cell_type": "markdown",
   "metadata": {},
   "source": [
    "## 12. `remove_words`\n",
    "**Description of the function**\n",
    "\n",
    "**When is it useful to use it?**\n",
    "\n"
   ]
  },
  {
   "attachments": {},
   "cell_type": "markdown",
   "metadata": {},
   "source": [
    "## 13. `unnest_tokens`\n",
    "**Description of the function**\n",
    "\n",
    "**When is it useful to use it?**\n"
   ]
  },
  {
   "attachments": {},
   "cell_type": "markdown",
   "metadata": {},
   "source": [
    "## 14. `spanish_lemmatizer`\n",
    "**Description of the function**\n",
    "\n",
    "**When is it useful to use it?**\n"
   ]
  },
  {
   "attachments": {},
   "cell_type": "markdown",
   "metadata": {},
   "source": [
    "## 15. `create_bol`\n",
    "**Description of the function**\n",
    "\n",
    "**When is it useful to use it?**\n"
   ]
  },
  {
   "attachments": {},
   "cell_type": "markdown",
   "metadata": {},
   "source": [
    "## 16. Tutorial: Topic Modelling"
   ]
  }
 ],
 "metadata": {
  "kernelspec": {
   "display_name": "BX",
   "language": "python",
   "name": "python3"
  },
  "language_info": {
   "codemirror_mode": {
    "name": "ipython",
    "version": 3
   },
   "file_extension": ".py",
   "mimetype": "text/x-python",
   "name": "python",
   "nbconvert_exporter": "python",
   "pygments_lexer": "ipython3",
   "version": "3.9.16"
  },
  "orig_nbformat": 4
 },
 "nbformat": 4,
 "nbformat_minor": 2
}
