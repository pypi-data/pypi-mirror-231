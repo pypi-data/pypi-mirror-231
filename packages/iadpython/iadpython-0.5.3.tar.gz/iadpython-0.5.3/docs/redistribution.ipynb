{
 "cells": [
  {
   "cell_type": "markdown",
   "metadata": {},
   "source": [
    "# The Redistribution Function\n",
    "\n",
    "**Scott Prahl**\n",
    "\n",
    "**January 2021**\n",
    "\n",
    "**version 2**"
   ]
  },
  {
   "cell_type": "code",
   "execution_count": 1,
   "metadata": {},
   "outputs": [],
   "source": [
    "import numpy as np\n",
    "import matplotlib.pyplot as plt\n",
    "import iadpython"
   ]
  },
  {
   "cell_type": "markdown",
   "metadata": {},
   "source": [
    "## Redistribution function.\n",
    "\n",
    "The single scattering phase function $p(\\nu)$ for a tissue determines the\n",
    "amount of light scattered at an angle $\\nu=\\cos\\theta$ from the direction of\n",
    "incidence.  The\n",
    "subtended angle $\\nu$ is the dot product\n",
    "of the unit vectors $\\hat{\\bf s}_i$ and $\\hat{\\bf s}_j$\n",
    "\n",
    "$$\n",
    "\\nu=\\hat{\\bf s}_i\\cdot\\hat{\\bf s}_j=\\nu_i\\nu_j+\\sqrt{1-\\nu_i^2}\\sqrt{1-\\nu_j^2}\\cos\\phi\n",
    "$$\n",
    "\n",
    "where $\\hat{\\bf s}_i$ is the incident and $\\hat{\\bf s}_j$ is the scattered light directions\n",
    "\n",
    "The redistribution function ${\\bf h}_{ij}$ determines the fraction of light\n",
    "scattered from an incidence cone with angle $\\nu_i$ into a cone with angle\n",
    "$\\nu_j$.  The redistribution function is calculated by averaging the phase\n",
    "function over all possible azimuthal angles for fixed angles $\\nu_i$ and\n",
    "$\\nu_j$,\n",
    "\n",
    "$$\n",
    "h(\\nu_i,\\nu_j) = {1\\over2\\pi}\n",
    "  \\int_0^{2\\pi} p(\\nu_i\\nu_j+\\sqrt{1-\\nu_i^2}\\sqrt{1-\\nu_j^2}\\cos\\phi)\\,d\\phi\n",
    "$$\n",
    "\n",
    "Note that the angles $\\nu_i$ and $\\nu_j$ may also be negative (light\n",
    "travelling in the opposite direction).  The full redistribution matrix may be\n",
    "expressed in terms a $2\\times2$ matrix of |n|$\\times$|n| matrices\n",
    "\n",
    "$$\n",
    "\\mathbf{h}=\\left[\\matrix{\\mathbf{h}^{--}&\\mathbf{h}^{-+}\\cr\n",
    "                   \\mathbf{h}^{+-}&\\mathbf{h}^{++}\\cr}\n",
    "\\right] \n",
    "$$\n",
    "\n",
    "The first plus or minus sign indicates the sign in front of the incident \n",
    "angle and the second is the sign of the direction of the scattered light. \n",
    "\n",
    "When the cosine of the angle of incidence or exitance is unity ($\\nu_i=1$ or\n",
    "$\\nu_j=1$), then the redistribution function $h(1,\\nu_j)$ is equivalent to the phase\n",
    "function $p(\\nu_j)$.  In the case of isotropic scattering, the\n",
    "redistribution function is a constant\n",
    "\n",
    "$$\n",
    "h(\\nu_i,\\nu_j) = p(\\nu) = {1\\over4\\pi}.\n",
    "$$\n",
    "\n",
    "Other phase functions require numerical integration of the phase\n",
    "function.  If the phase function is highly anisotropic, then the\n",
    "integration over the azimuthal angle is  particularly difficult and care\n",
    "must be taken to ensure that the integration is accurate.   This is\n",
    "important because errors in the redistribution function enter directly\n",
    "into the reflection and transmission matrices for thin layers.  Any\n",
    "errors will be doubled with each successive addition of layers and small\n",
    "errors will rapidly increase."
   ]
  },
  {
   "cell_type": "markdown",
   "metadata": {},
   "source": [
    "## Redistribution Matrix using Legendre Polynomials\n",
    "\n",
    "One way to calculate the redistribution function is the\n",
    "$\\delta$-$M$ method of Wiscombe.  This method works especially\n",
    "well for highly anisotropic phase functions.  The number of quadrature\n",
    "points is specified by $M$.  The $\\delta$-$M$ method approximates the\n",
    "true phase function  by a phase function consisting of a Dirac delta\n",
    "function and $M-1$ Legendre polynomials\n",
    "\n",
    "$$\n",
    "p^*(\\nu)= 2 g^M\\delta(1-\\nu) + (1-g^M) \\sum_{k=0}^{M-1} (2k+1)\\chi_k^* P_k(\\nu)\n",
    "$$\n",
    "\n",
    "where \n",
    "\n",
    "$$\n",
    "\\chi_k^*={\\chi_k-g^M\\over 1-g^M}\n",
    "\\qquad\\mbox{and}\\qquad\n",
    "\\chi_k = {1\\over2}\\int_0^1 p(\\nu) P_k(\\nu) \\,d\\nu\n",
    "$$\n",
    "\n",
    "When the $\\delta$-$M$ method substitutes $p^*(\\nu)\\rightarrow p(\\nu)$, \n",
    "then both the albedo and optical thickness must also be changed,\n",
    "$a^*\\rightarrow a$ and $\\tau^*\\rightarrow\\tau$.  This approximation is\n",
    "analogous to the similarity transformation often used to improve the\n",
    "diffusion approximation by moving a part ($g^M$) of the scattered light\n",
    "into the unscattered component.  The new optical\n",
    "thickness and albedo are\n",
    "\n",
    "$$\n",
    "\\tau^*=(1-ag^M)\\tau  \n",
    "\\qquad\\mbox{and}\\qquad\n",
    "a^* = a {1-g^M\\over1-ag^M}\n",
    "$$\n",
    "\n",
    "This is equivalent transforming the scattering coefficient as\n",
    "$\\mu_s^* = \\mu_s(1-g^M)$. The redistribution function can now be written\n",
    "as\n",
    "\n",
    "$$\n",
    "h^*(\\nu_i,\\nu_j) = \\sum_{k=0}^{M-1} (2k+1)\\chi_k^* P_k(\\nu_i)P_k(\\nu_j)\n",
    "$$\n",
    "\n",
    "For the special case of a Henyey-Greenstein phase function,\n",
    "$$\n",
    "\\chi_k^*={g^k-g^M\\over1-g^M}.\n",
    "$$\n",
    "\n",
    "The current implementation is somewhat inefficient, but it works."
   ]
  },
  {
   "cell_type": "code",
   "execution_count": 2,
   "metadata": {},
   "outputs": [
    {
     "name": "stdout",
     "output_type": "stream",
     "text": [
      "[[ 1.57558022  1.43478008  0.6702228  -0.09855935]\n",
      " [ 1.43478008  1.78554993  1.42038122  0.65844447]\n",
      " [ 0.6702228   1.42038122  2.73731157  3.69901785]\n",
      " [-0.09855935  0.65844447  3.69901785  6.84908404]]\n",
      "\n",
      "[[ 1.49114428  1.10817646  0.3889397  -0.08632955]\n",
      " [ 1.10817646  0.49081177  0.10073799  0.22945985]\n",
      " [ 0.3889397   0.10073799  0.09249519  0.22802648]\n",
      " [-0.08632955  0.22945985  0.22802648 -0.37394591]]\n"
     ]
    }
   ],
   "source": [
    "s = iadpython.Sample(g=0.9, quad_pts=4)\n",
    "\n",
    "hp, hm = iadpython.hg_legendre(s)\n",
    "\n",
    "print(hp)\n",
    "print()\n",
    "print(hm)"
   ]
  },
  {
   "cell_type": "markdown",
   "metadata": {},
   "source": [
    "## Redistribution Matrix using Elliptic Functions\n",
    "\n",
    "For Henyey-Greenstein scattering, the redistribution function can be expressed\n",
    "in terms of the complete elliptic integral of the second kind $E(x)$ \n",
    "$$\n",
    "h(\\nu_i,\\nu_j) = {2\\over\\pi}{1-g^2\\over (\\alpha-\\gamma)\\sqrt{\\alpha+\\gamma} }\n",
    "\t\t\t\t  \\,E\\left(\\sqrt{2\\gamma\\over\\alpha+\\gamma}\\,\\right)\n",
    "$$\n",
    "where $g$ is the average cosine of the Henyey-Greenstein phase function and\n",
    "$$\n",
    "\\alpha=1+g^2-2 g \\nu_i \\nu_j \n",
    "\\qquad\\mbox{and}\\qquad\n",
    "\\gamma=2 g \\sqrt{1-\\nu_i^2}\\sqrt{1-\\nu_j^2} \n",
    "$$\n",
    "The function $E(x)$ may be calculated using `scipy.special.ellipe()`.\n",
    "\n",
    "The drawback to this approach is that the $\\delta-M$ method cannot be used and therefore it doesn't work well for highly anisotropic phase functions."
   ]
  },
  {
   "cell_type": "code",
   "execution_count": 3,
   "metadata": {},
   "outputs": [
    {
     "name": "stdout",
     "output_type": "stream",
     "text": [
      "[[ 1.57558022  1.43478008  0.6702228  -0.09855935]\n",
      " [ 1.43478008  1.78554993  1.42038122  0.65844447]\n",
      " [ 0.6702228   1.42038122  2.73731157  3.69901785]\n",
      " [-0.09855935  0.65844447  3.69901785  6.84908404]]\n",
      "\n",
      "[[ 1.49114428  1.10817646  0.3889397  -0.08632955]\n",
      " [ 1.10817646  0.49081177  0.10073799  0.22945985]\n",
      " [ 0.3889397   0.10073799  0.09249519  0.22802648]\n",
      " [-0.08632955  0.22945985  0.22802648 -0.37394591]]\n"
     ]
    }
   ],
   "source": [
    "s = iadpython.Sample(g=0.9, quad_pts=4)\n",
    "\n",
    "hpe, hme = iadpython.hg_elliptic(s)\n",
    "\n",
    "print(hp)\n",
    "print()\n",
    "print(hm)"
   ]
  },
  {
   "cell_type": "code",
   "execution_count": null,
   "metadata": {},
   "outputs": [],
   "source": []
  }
 ],
 "metadata": {
  "kernelspec": {
   "display_name": "Python 3",
   "language": "python",
   "name": "python3"
  },
  "language_info": {
   "codemirror_mode": {
    "name": "ipython",
    "version": 3
   },
   "file_extension": ".py",
   "mimetype": "text/x-python",
   "name": "python",
   "nbconvert_exporter": "python",
   "pygments_lexer": "ipython3",
   "version": "3.7.6"
  }
 },
 "nbformat": 4,
 "nbformat_minor": 4
}
