{
 "cells": [
  {
   "cell_type": "markdown",
   "id": "multiple-joseph",
   "metadata": {},
   "source": [
    "# The sample object\n",
    "\n",
    "**Scott Prahl**\n",
    "\n",
    "**Aug 2021**"
   ]
  },
  {
   "cell_type": "code",
   "execution_count": 1,
   "id": "sound-illinois",
   "metadata": {},
   "outputs": [],
   "source": [
    "import iadpython"
   ]
  },
  {
   "cell_type": "markdown",
   "id": "referenced-homeless",
   "metadata": {},
   "source": [
    "## Object creation"
   ]
  },
  {
   "cell_type": "markdown",
   "id": "understanding-defensive",
   "metadata": {},
   "source": [
    "The `Sample` object contains all the information needed to calculate the reflected and transmitted light for a 1D air-slide-sample-slide-air sandwich.  \n",
    "\n",
    "If glass slides are not present, then they can be set to have an index of refraction equal to 1 (that of the air).\n",
    "\n",
    "The default object created by `Sample()` is absorbing-only, 1mm thick, with an index of refraction of 1. "
   ]
  },
  {
   "cell_type": "code",
   "execution_count": 2,
   "id": "appointed-familiar",
   "metadata": {
    "scrolled": false
   },
   "outputs": [
    {
     "name": "stdout",
     "output_type": "stream",
     "text": [
      "Intrinsic Properties\n",
      "   albedo            = 0.000\n",
      "   optical thickness = 1.000\n",
      "   anisotropy        = 0.000\n",
      "   thickness         = 1.000 mm\n",
      "   sample index      = 1.000\n",
      "   top slide index   = 1.000\n",
      "   bottom slide index= 1.000\n",
      " cos(theta incident) = 1.000\n",
      "   quadrature points = 4\n",
      "\n",
      "Derived quantities\n",
      "   mu_a              = 1.000 1/mm\n",
      "   mu_s              = 0.000 1/mm\n",
      "   mu_s*(1-g)        = 0.000 1/mm\n",
      "      theta incident = 0.0°\n",
      " cos(theta critical) = 0.0000\n",
      "      theta critical = 90.0°\n",
      "\n"
     ]
    }
   ],
   "source": [
    "s = iadpython.Sample()\n",
    "print(s)"
   ]
  },
  {
   "cell_type": "markdown",
   "id": "offshore-significance",
   "metadata": {},
   "source": [
    "The correct values can be used when the sample object is created."
   ]
  },
  {
   "cell_type": "code",
   "execution_count": 7,
   "id": "satisfied-tuition",
   "metadata": {},
   "outputs": [
    {
     "name": "stdout",
     "output_type": "stream",
     "text": [
      "Intrinsic Properties\n",
      "   albedo            = 0.800\n",
      "   optical thickness = 2.000\n",
      "   anisotropy        = 0.900\n",
      "   thickness         = 2.000 mm\n",
      "   sample index      = 1.000\n",
      "   top slide index   = 1.000\n",
      "   bottom slide index= 1.000\n",
      " cos(theta incident) = 1.000\n",
      "   quadrature points = 4\n",
      "\n",
      "Derived quantities\n",
      "   mu_a              = 0.200 1/mm\n",
      "   mu_s              = 0.800 1/mm\n",
      "   mu_s*(1-g)        = 0.080 1/mm\n",
      "      theta incident = 0.0°\n",
      " cos(theta critical) = 0.0000\n",
      "      theta critical = 90.0°\n",
      "\n"
     ]
    }
   ],
   "source": [
    "a = 0.8 # albedo\n",
    "b = 2.0 # optical thickness \n",
    "g = 0.9 # scattering anisotropy\n",
    "d = 2.0 # physical thickness of the sample\n",
    "s = iadpython.Sample(a=a,b=b,g=g,d=d)\n",
    "print(s)"
   ]
  },
  {
   "cell_type": "markdown",
   "id": "caring-priest",
   "metadata": {},
   "source": [
    "Or all the values can be changed."
   ]
  },
  {
   "cell_type": "code",
   "execution_count": 45,
   "id": "middle-cassette",
   "metadata": {},
   "outputs": [
    {
     "name": "stdout",
     "output_type": "stream",
     "text": [
      "Intrinsic Properties\n",
      "   albedo            = 0.990\n",
      "   optical thickness = 2.000\n",
      "   anisotropy        = 0.900\n",
      "   thickness         = 2.000 mm\n",
      "   sample index      = 1.300\n",
      "   top slide index   = 1.532\n",
      "   bottom slide index= 1.532\n",
      " cos(theta incident) = 1.000\n",
      "   quadrature points = 8\n",
      "\n",
      "Derived quantities\n",
      "   mu_a              = 0.010 1/mm\n",
      "   mu_s              = 0.990 1/mm\n",
      "   mu_s*(1-g)        = 0.099 1/mm\n",
      "      theta incident = 0.0°\n",
      " cos(theta critical) = 0.6390\n",
      "      theta critical = 50.3°\n",
      "\n"
     ]
    }
   ],
   "source": [
    "s = iadpython.Sample()\n",
    "s.a = 0.99 # albedo\n",
    "s.b = 2.0 # optical thickness \n",
    "s.g = 0.9 # scattering anisotropy\n",
    "s.d = 2.0 # physical thickness of the sample\n",
    "s.quad_pts=8\n",
    "s.n = 1.3\n",
    "s.n_above = 1.532\n",
    "s.n_below = 1.532\n",
    "print(s)"
   ]
  },
  {
   "cell_type": "markdown",
   "id": "liable-margin",
   "metadata": {},
   "source": [
    "## Calculated values"
   ]
  },
  {
   "cell_type": "markdown",
   "id": "pressing-stylus",
   "metadata": {},
   "source": [
    "The scattering and absorption coeffients easily obtained."
   ]
  },
  {
   "cell_type": "code",
   "execution_count": 27,
   "id": "opened-swift",
   "metadata": {},
   "outputs": [
    {
     "name": "stdout",
     "output_type": "stream",
     "text": [
      "The scattering coefficient is 0.990 [1/mm]\n",
      "The absorption coefficient is 0.010 [1/mm]\n",
      "The reduced scattering coefficient is 0.099 [1/mm]\n"
     ]
    }
   ],
   "source": [
    "print('The scattering coefficient is %.3f [1/mm]' % s.mu_s())\n",
    "print('The absorption coefficient is %.3f [1/mm]' % s.mu_a())\n",
    "print('The reduced scattering coefficient is %.3f [1/mm]' % s.mu_sp())"
   ]
  },
  {
   "cell_type": "markdown",
   "id": "earned-supervisor",
   "metadata": {},
   "source": [
    "The quadrature angles and weight might also be found."
   ]
  },
  {
   "cell_type": "code",
   "execution_count": 34,
   "id": "moved-trunk",
   "metadata": {},
   "outputs": [
    {
     "name": "stdout",
     "output_type": "stream",
     "text": [
      " i    mu    weight  2*mu*w\n",
      " 0 0.04859 0.12172 0.01183\n",
      " 1 0.23096 0.22820 0.10541\n",
      " 2 0.46890 0.22820 0.21401\n",
      " 3 0.65126 0.12172 0.15855\n",
      " 4 0.72644 0.06617 0.09614\n",
      " 5 0.82275 0.11651 0.19173\n",
      " 6 0.93627 0.09870 0.18482\n",
      " 7 1.00000 0.01876 0.03752\n"
     ]
    }
   ],
   "source": [
    "s.update_quadrature()\n",
    "print(\" i    mu    weight  2*mu*w\")\n",
    "for i,mu in enumerate(s.nu):\n",
    "    two_mu_w = s.twonuw[i]\n",
    "    w = two_mu_w / 2 / mu\n",
    "    print(\"%2d %.5f %.5f %.5f\" % (i, mu, w, two_mu_w))\n"
   ]
  },
  {
   "cell_type": "markdown",
   "id": "automatic-antibody",
   "metadata": {},
   "source": [
    "The reflection and transmission matrices for this sample for light from the bottom and light from the top are identical (and they should be because of the symmetry)."
   ]
  },
  {
   "cell_type": "code",
   "execution_count": 44,
   "id": "beneficial-brown",
   "metadata": {},
   "outputs": [
    {
     "name": "stdout",
     "output_type": "stream",
     "text": [
      "Reflected light for light incident from the top\n",
      "cos_theta |  0.04436  0.21087  0.42810  0.59461  0.67095  0.78680  0.92334  1.00000 |     flux\n",
      "----------+-------------------------------------------------------------------------+---------\n",
      "  0.04436 |    *****  0.00000  0.00000  0.00000  0.00000  0.00000  0.00000  0.00000 |  1.00000\n",
      "  0.21087 |  0.00000 11.38065  0.00000  0.00000  0.00000  0.00000  0.00000  0.00000 |  1.00000\n",
      "  0.42810 |  0.00000  0.00000  5.60563  0.00000  0.00000  0.00000  0.00000  0.00000 |  1.00000\n",
      "  0.59461 |  0.00000  0.00000  0.00000  7.56644  0.00000  0.00000  0.00000  0.00000 |  1.00000\n",
      "  0.67095 |  0.00000  0.00000  0.00000  0.00000  2.84086  0.35528  0.22764  0.15525 |  0.43869\n",
      "  0.78680 |  0.00000  0.00000  0.00000  0.00000  0.35528  0.66950  0.19884  0.14898 |  0.23591\n",
      "  0.92334 |  0.00000  0.00000  0.00000  0.00000  0.22764  0.19884  0.37339  0.12491 |  0.15567\n",
      "  1.00000 |  0.00000  0.00000  0.00000  0.00000  0.15525  0.14898  0.12491  1.22254 |  0.13200\n",
      "----------+-------------------------------------------------------------------------+---------\n",
      "  flux    |  1.00000  1.00000  1.00000  1.00000  0.43869  0.23591  0.15567  0.13200 |  0.23486\n",
      "\n",
      "Reflected light for light incident from the bottom\n",
      "cos_theta |  0.04436  0.21087  0.42810  0.59461  0.67095  0.78680  0.92334  1.00000 |     flux\n",
      "----------+-------------------------------------------------------------------------+---------\n",
      "  0.04436 |    *****  0.00000  0.00000  0.00000  0.00000  0.00000  0.00000  0.00000 |  1.00000\n",
      "  0.21087 |  0.00000 11.38065  0.00000  0.00000  0.00000  0.00000  0.00000  0.00000 |  1.00000\n",
      "  0.42810 |  0.00000  0.00000  5.60563  0.00000  0.00000  0.00000  0.00000  0.00000 |  1.00000\n",
      "  0.59461 |  0.00000  0.00000  0.00000  7.56644  0.00000  0.00000  0.00000  0.00000 |  1.00000\n",
      "  0.67095 |  0.00000  0.00000  0.00000  0.00000  2.36601  0.43778  0.28194  0.19267 |  0.41976\n",
      "  0.78680 |  0.00000  0.00000  0.00000  0.00000  0.43778  0.55633  0.25015  0.18750 |  0.23275\n",
      "  0.92334 |  0.00000  0.00000  0.00000  0.00000  0.28194  0.25015  0.28414  0.18337 |  0.15585\n",
      "  1.00000 |  0.00000  0.00000  0.00000  0.00000  0.19267  0.18750  0.18337  0.64415 |  0.13120\n",
      "----------+-------------------------------------------------------------------------+---------\n",
      "  flux    |  1.00000  1.00000  1.00000  1.00000  0.41976  0.23275  0.15585  0.13120 |  0.23027\n",
      "\n",
      "\n",
      "**************\n",
      "Transmitted light for light incident from the top\n",
      "cos_theta |  0.04436  0.21087  0.42810  0.59461  0.67095  0.78680  0.92334  1.00000 |     flux\n",
      "----------+-------------------------------------------------------------------------+---------\n",
      "  0.04436 |  0.00000  0.00000  0.00000  0.00000  0.00000  0.00000  0.00000  0.00000 |  0.00000\n",
      "  0.21087 |  0.00000  0.00000  0.00000  0.00000  0.00000  0.00000  0.00000  0.00000 |  0.00000\n",
      "  0.42810 |  0.00000  0.00000  0.00000  0.00000  0.00000  0.00000  0.00000  0.00000 |  0.00000\n",
      "  0.59461 |  0.00000  0.00000  0.00000  0.00000  0.00000  0.00000  0.00000  0.00000 |  0.00000\n",
      "  0.67095 |  0.00000  0.00000  0.00000  0.00000  1.82457  0.82078  0.51591  0.28526 |  0.50187\n",
      "  0.78680 |  0.00000  0.00000  0.00000  0.00000  0.79244  1.90450  0.77877  0.47102 |  0.69665\n",
      "  0.92334 |  0.00000  0.00000  0.00000  0.00000  0.49524  0.77295  2.32938  1.31302 |  0.79331\n",
      "  1.00000 |  0.00000  0.00000  0.00000  0.00000  0.27476  0.46781  1.31224  8.98364 |  0.82563\n",
      "----------+-------------------------------------------------------------------------+---------\n",
      "  flux    |  0.00000  0.00000  0.00000  0.00000  0.49062  0.69825  0.79677  0.82763 |  0.70714\n",
      "\n",
      "Transmitted light for light incident from the bottom\n",
      "cos_theta |  0.04436  0.21087  0.42810  0.59461  0.67095  0.78680  0.92334  1.00000 |     flux\n",
      "----------+-------------------------------------------------------------------------+---------\n",
      "  0.04436 |  0.00000  0.00000  0.00000  0.00000  0.00000  0.00000  0.00000  0.00000 |  0.00000\n",
      "  0.21087 |  0.00000  0.00000  0.00000  0.00000  0.00000  0.00000  0.00000  0.00000 |  0.00000\n",
      "  0.42810 |  0.00000  0.00000  0.00000  0.00000  0.00000  0.00000  0.00000  0.00000 |  0.00000\n",
      "  0.59461 |  0.00000  0.00000  0.00000  0.00000  0.00000  0.00000  0.00000  0.00000 |  0.00000\n",
      "  0.67095 |  0.00000  0.00000  0.00000  0.00000  1.82457  0.79244  0.49524  0.27476 |  0.49062\n",
      "  0.78680 |  0.00000  0.00000  0.00000  0.00000  0.82078  1.90450  0.77295  0.46781 |  0.69825\n",
      "  0.92334 |  0.00000  0.00000  0.00000  0.00000  0.51591  0.77877  2.32938  1.31224 |  0.79677\n",
      "  1.00000 |  0.00000  0.00000  0.00000  0.00000  0.28526  0.47102  1.31302  8.98364 |  0.82763\n",
      "----------+-------------------------------------------------------------------------+---------\n",
      "  flux    |  0.00000  0.00000  0.00000  0.00000  0.50187  0.69665  0.79331  0.82563 |  0.70714\n",
      "\n"
     ]
    }
   ],
   "source": [
    "R03, R30, T03, T30 = s.rt_matrices()\n",
    "\n",
    "print(\"Reflected light for light incident from the top\")\n",
    "s.wrmatrix(R03)\n",
    "\n",
    "print(\"Reflected light for light incident from the bottom\")\n",
    "s.wrmatrix(R30)\n",
    "\n",
    "print(\"\\n**************\\nTransmitted light for light incident from the top\")\n",
    "s.wrmatrix(T03)\n",
    "\n",
    "print(\"Transmitted light for light incident from the bottom\")\n",
    "s.wrmatrix(T30)"
   ]
  },
  {
   "cell_type": "markdown",
   "id": "progressive-leeds",
   "metadata": {},
   "source": [
    "Now, break symmetry and recalculate to see that that matrices for light"
   ]
  },
  {
   "cell_type": "code",
   "execution_count": 53,
   "id": "wrapped-introduction",
   "metadata": {},
   "outputs": [
    {
     "name": "stdout",
     "output_type": "stream",
     "text": [
      "Intrinsic Properties\n",
      "   albedo            = 0.900\n",
      "   optical thickness = 1.000\n",
      "   anisotropy        = 0.000\n",
      "   thickness         = 2.000 mm\n",
      "   sample index      = 1.330\n",
      "   top slide index   = 1.532\n",
      "   bottom slide index= 1.000\n",
      " cos(theta incident) = 1.000\n",
      "   quadrature points = 8\n",
      "\n",
      "Derived quantities\n",
      "   mu_a              = 0.050 1/mm\n",
      "   mu_s              = 0.450 1/mm\n",
      "   mu_s*(1-g)        = 0.450 1/mm\n",
      "      theta incident = 0.0°\n",
      " cos(theta critical) = 0.6593\n",
      "      theta critical = 48.8°\n",
      "\n",
      "Reflected light for light incident from the top\n",
      "cos_theta |  0.04578  0.21758  0.44172  0.61352  0.68948  0.79881  0.92766  1.00000 |     flux\n",
      "----------+-------------------------------------------------------------------------+---------\n",
      "  0.04578 | 95.25256  0.00000  0.00000  0.00000  0.00000  0.00000  0.00000  0.00000 |  1.00000\n",
      "  0.21758 | -0.00000 10.68963 -0.00000 -0.00000  0.00000  0.00000  0.00000  0.00000 |  1.00000\n",
      "  0.44172 |  0.00000  0.00000  5.26527  0.00000  0.00000  0.00000  0.00000  0.00000 |  1.00000\n",
      "  0.61352 |  0.00000  0.00000  0.00000  7.10701  0.00000  0.00000  0.00000  0.00000 |  1.00000\n",
      "  0.68948 | -0.00000 -0.00000 -0.00000 -0.00000  2.81749  0.35725  0.33522  0.32080 |  0.45065\n",
      "  0.79881 | -0.00000 -0.00000 -0.00000 -0.00000  0.35725  0.76189  0.37167  0.35576 |  0.29040\n",
      "  0.92766 | -0.00000 -0.00000 -0.00000 -0.00000  0.33522  0.37167  0.60179  0.33436 |  0.25258\n",
      "  1.00000 | -0.00000 -0.00000 -0.00000 -0.00000  0.32080  0.35576  0.33436  1.52141 |  0.24269\n",
      "----------+-------------------------------------------------------------------------+---------\n",
      "  flux    |  1.00000  1.00000  1.00000  1.00000  0.45065  0.29040  0.25258  0.24269 |  0.30226\n",
      "\n",
      "Reflected light for light incident from the bottom\n",
      "cos_theta |  0.04578  0.21758  0.44172  0.61352  0.68948  0.79881  0.92766  1.00000 |     flux\n",
      "----------+-------------------------------------------------------------------------+---------\n",
      "  0.04578 | 95.25256  0.00000  0.00000  0.00000  0.00000  0.00000  0.00000  0.00000 |  1.00000\n",
      "  0.21758 |  0.00000 10.68963  0.00000  0.00000  0.00000  0.00000  0.00000  0.00000 |  1.00000\n",
      "  0.44172 |  0.00000  0.00000  5.26527  0.00000  0.00000  0.00000  0.00000  0.00000 |  1.00000\n",
      "  0.61352 |  0.00000  0.00000  0.00000  7.10701  0.00000  0.00000  0.00000  0.00000 |  1.00000\n",
      "  0.68948 |  0.00000  0.00000  0.00000  0.00000  2.39508  0.40407  0.37627  0.36010 |  0.42700\n",
      "  0.79881 |  0.00000  0.00000  0.00000  0.00000  0.40407  0.64436  0.40471  0.38740 |  0.27863\n",
      "  0.92766 |  0.00000  0.00000  0.00000  0.00000  0.37627  0.40471  0.50556  0.36130 |  0.24496\n",
      "  1.00000 |  0.00000  0.00000  0.00000  0.00000  0.36010  0.38740  0.36130  0.96565 |  0.23538\n",
      "----------+-------------------------------------------------------------------------+---------\n",
      "  flux    |  1.00000  1.00000  1.00000  1.00000  0.42700  0.27863  0.24496  0.23538 |  0.29018\n",
      "\n",
      "\n",
      "**************\n",
      "Transmitted light for light incident from the top\n",
      "cos_theta |  0.04578  0.21758  0.44172  0.61352  0.68948  0.79881  0.92766  1.00000 |     flux\n",
      "----------+-------------------------------------------------------------------------+---------\n",
      "  0.04578 |  0.00000  0.00000  0.00000  0.00000  0.00000  0.00000  0.00000  0.00000 |  0.00000\n",
      "  0.21758 |  0.00000  0.00000  0.00000  0.00000  0.00000  0.00000  0.00000  0.00000 |  0.00000\n",
      "  0.44172 |  0.00000  0.00000  0.00000  0.00000  0.00000  0.00000  0.00000  0.00000 |  0.00000\n",
      "  0.61352 |  0.00000  0.00000  0.00000  0.00000  0.00000  0.00000  0.00000  0.00000 |  0.00000\n",
      "  0.68948 | -0.00000 -0.00000 -0.00000 -0.00000  1.66974  0.34862  0.33139  0.31913 |  0.32908\n",
      "  0.79881 | -0.00000 -0.00000 -0.00000 -0.00000  0.33805  1.58114  0.35835  0.34503 |  0.45828\n",
      "  0.92766 | -0.00000 -0.00000 -0.00000 -0.00000  0.31880  0.35551  1.85951  0.32490 |  0.50850\n",
      "  1.00000 | -0.00000 -0.00000 -0.00000 -0.00000  0.30702  0.34231  0.32491  8.36577 |  0.52794\n",
      "----------+-------------------------------------------------------------------------+---------\n",
      "  flux    | -0.00000 -0.00000 -0.00000 -0.00000  0.32371  0.45867  0.51040  0.52977 |  0.45832\n",
      "\n",
      "Transmitted light for light incident from the bottom\n",
      "cos_theta |  0.04578  0.21758  0.44172  0.61352  0.68948  0.79881  0.92766  1.00000 |     flux\n",
      "----------+-------------------------------------------------------------------------+---------\n",
      "  0.04578 |  0.00000  0.00000  0.00000  0.00000  0.00000  0.00000  0.00000  0.00000 |  0.00000\n",
      "  0.21758 |  0.00000  0.00000  0.00000  0.00000  0.00000  0.00000  0.00000  0.00000 |  0.00000\n",
      "  0.44172 |  0.00000  0.00000  0.00000  0.00000  0.00000  0.00000  0.00000  0.00000 |  0.00000\n",
      "  0.61352 |  0.00000  0.00000  0.00000  0.00000  0.00000  0.00000  0.00000  0.00000 |  0.00000\n",
      "  0.68948 |  0.00000  0.00000  0.00000  0.00000  1.66974  0.33805  0.31880  0.30702 |  0.32371\n",
      "  0.79881 |  0.00000  0.00000  0.00000  0.00000  0.34862  1.58114  0.35551  0.34231 |  0.45867\n",
      "  0.92766 |  0.00000  0.00000  0.00000  0.00000  0.33139  0.35835  1.85951  0.32491 |  0.51040\n",
      "  1.00000 |  0.00000  0.00000  0.00000  0.00000  0.31913  0.34503  0.32490  8.36577 |  0.52977\n",
      "----------+-------------------------------------------------------------------------+---------\n",
      "  flux    |  0.00000  0.00000  0.00000  0.00000  0.32908  0.45828  0.50850  0.52794 |  0.45832\n",
      "\n"
     ]
    }
   ],
   "source": [
    "s = iadpython.Sample()\n",
    "s.a = 0.90 # albedo\n",
    "s.b = 1.0 # optical thickness \n",
    "s.g = 0.0 # scattering anisotropy\n",
    "s.d = 2.0 # physical thickness of the sample\n",
    "s.quad_pts=8\n",
    "s.n = 1.33\n",
    "s.n_above = 1.532\n",
    "s.n_below = 1.0\n",
    "print(s)\n",
    "\n",
    "R03, R30, T03, T30 = s.rt_matrices()\n",
    "\n",
    "print(\"Reflected light for light incident from the top\")\n",
    "s.wrmatrix(R03)\n",
    "\n",
    "print(\"Reflected light for light incident from the bottom\")\n",
    "s.wrmatrix(R30)\n",
    "\n",
    "print(\"\\n**************\\nTransmitted light for light incident from the top\")\n",
    "s.wrmatrix(T03)\n",
    "\n",
    "print(\"Transmitted light for light incident from the bottom\")\n",
    "s.wrmatrix(T30)"
   ]
  },
  {
   "cell_type": "code",
   "execution_count": null,
   "id": "dressed-display",
   "metadata": {},
   "outputs": [],
   "source": []
  }
 ],
 "metadata": {
  "kernelspec": {
   "display_name": "Python 3",
   "language": "python",
   "name": "python3"
  },
  "language_info": {
   "codemirror_mode": {
    "name": "ipython",
    "version": 3
   },
   "file_extension": ".py",
   "mimetype": "text/x-python",
   "name": "python",
   "nbconvert_exporter": "python",
   "pygments_lexer": "ipython3",
   "version": "3.9.5"
  }
 },
 "nbformat": 4,
 "nbformat_minor": 5
}
