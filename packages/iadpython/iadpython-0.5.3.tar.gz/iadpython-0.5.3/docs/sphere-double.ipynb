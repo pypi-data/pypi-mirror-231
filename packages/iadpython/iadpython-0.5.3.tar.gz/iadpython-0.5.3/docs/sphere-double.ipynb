{
 "cells": [
  {
   "cell_type": "markdown",
   "id": "ae2f53fe-acaf-4940-bd56-7be7e2804a19",
   "metadata": {},
   "source": [
    "# Double integrating sphere measurements\n",
    "\n",
    "**Scott Prahl**\n",
    "\n",
    "**Dec 2021**"
   ]
  },
  {
   "cell_type": "code",
   "execution_count": 2,
   "id": "dce489ed-e85d-423c-9da6-ad6d6c8ec5a2",
   "metadata": {},
   "outputs": [],
   "source": [
    "import numpy as np\n",
    "import matplotlib.pyplot as plt\n",
    "\n",
    "import iadpython.sphere\n",
    "%config InlineBackend.figure_format='retina'"
   ]
  },
  {
   "cell_type": "markdown",
   "id": "933a47fa-d538-41f2-afe8-f2545ba009b9",
   "metadata": {},
   "source": [
    "## Double Integrating Spheres\n",
    "\n",
    "One day, this will be filled with two sphere experiment information."
   ]
  }
 ],
 "metadata": {
  "kernelspec": {
   "display_name": "Python 3",
   "language": "python",
   "name": "python3"
  },
  "language_info": {
   "codemirror_mode": {
    "name": "ipython",
    "version": 3
   },
   "file_extension": ".py",
   "mimetype": "text/x-python",
   "name": "python",
   "nbconvert_exporter": "python",
   "pygments_lexer": "ipython3",
   "version": "3.9.7"
  }
 },
 "nbformat": 4,
 "nbformat_minor": 5
}
