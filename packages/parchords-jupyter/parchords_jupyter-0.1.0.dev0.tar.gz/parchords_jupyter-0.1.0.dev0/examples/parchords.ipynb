{
 "cells": [
  {
   "cell_type": "code",
   "execution_count": 1,
   "id": "d84c814d-3699-4584-9d74-3d7d781c1ce6",
   "metadata": {
    "tags": []
   },
   "outputs": [],
   "source": [
    "import numpy as np\n",
    "import pandas as pd\n",
    "\n",
    "import parchords_jupyter"
   ]
  },
  {
   "cell_type": "code",
   "execution_count": 2,
   "id": "d536dc0a-3a30-4dff-8f6e-7ac2d4a0bf00",
   "metadata": {
    "tags": []
   },
   "outputs": [
    {
     "data": {
      "text/html": [
       "<div>\n",
       "<style scoped>\n",
       "    .dataframe tbody tr th:only-of-type {\n",
       "        vertical-align: middle;\n",
       "    }\n",
       "\n",
       "    .dataframe tbody tr th {\n",
       "        vertical-align: top;\n",
       "    }\n",
       "\n",
       "    .dataframe thead th {\n",
       "        text-align: right;\n",
       "    }\n",
       "</style>\n",
       "<table border=\"1\" class=\"dataframe\">\n",
       "  <thead>\n",
       "    <tr style=\"text-align: right;\">\n",
       "      <th></th>\n",
       "      <th>instant</th>\n",
       "      <th>dteday</th>\n",
       "      <th>season</th>\n",
       "      <th>mnth</th>\n",
       "      <th>holiday</th>\n",
       "      <th>weekday</th>\n",
       "      <th>workingday</th>\n",
       "      <th>weathersit</th>\n",
       "      <th>windspeed</th>\n",
       "      <th>casual</th>\n",
       "      <th>registered</th>\n",
       "      <th>cnt</th>\n",
       "      <th>temp °C</th>\n",
       "      <th>atemp °C</th>\n",
       "      <th>hum %</th>\n",
       "      <th>year</th>\n",
       "    </tr>\n",
       "  </thead>\n",
       "  <tbody>\n",
       "    <tr>\n",
       "      <th>0</th>\n",
       "      <td>1</td>\n",
       "      <td>2011-01-01</td>\n",
       "      <td>winter</td>\n",
       "      <td>1</td>\n",
       "      <td>0</td>\n",
       "      <td>Saturday</td>\n",
       "      <td>0</td>\n",
       "      <td>Mist + Cloudy, Mist + Broken clouds, Mist + Fe...</td>\n",
       "      <td>10.749882</td>\n",
       "      <td>331</td>\n",
       "      <td>654</td>\n",
       "      <td>985</td>\n",
       "      <td>8.175849</td>\n",
       "      <td>7.999250</td>\n",
       "      <td>80.5833</td>\n",
       "      <td>2011</td>\n",
       "    </tr>\n",
       "    <tr>\n",
       "      <th>1</th>\n",
       "      <td>2</td>\n",
       "      <td>2011-01-02</td>\n",
       "      <td>winter</td>\n",
       "      <td>1</td>\n",
       "      <td>0</td>\n",
       "      <td>Sunday</td>\n",
       "      <td>0</td>\n",
       "      <td>Mist + Cloudy, Mist + Broken clouds, Mist + Fe...</td>\n",
       "      <td>16.652113</td>\n",
       "      <td>131</td>\n",
       "      <td>670</td>\n",
       "      <td>801</td>\n",
       "      <td>9.083466</td>\n",
       "      <td>7.346774</td>\n",
       "      <td>69.6087</td>\n",
       "      <td>2011</td>\n",
       "    </tr>\n",
       "    <tr>\n",
       "      <th>2</th>\n",
       "      <td>3</td>\n",
       "      <td>2011-01-03</td>\n",
       "      <td>winter</td>\n",
       "      <td>1</td>\n",
       "      <td>0</td>\n",
       "      <td>Monday</td>\n",
       "      <td>1</td>\n",
       "      <td>Clear, Few clouds, Partly cloudy, Partly cloudy</td>\n",
       "      <td>16.636703</td>\n",
       "      <td>120</td>\n",
       "      <td>1229</td>\n",
       "      <td>1349</td>\n",
       "      <td>1.229108</td>\n",
       "      <td>-3.499270</td>\n",
       "      <td>43.7273</td>\n",
       "      <td>2011</td>\n",
       "    </tr>\n",
       "    <tr>\n",
       "      <th>3</th>\n",
       "      <td>4</td>\n",
       "      <td>2011-01-04</td>\n",
       "      <td>winter</td>\n",
       "      <td>1</td>\n",
       "      <td>0</td>\n",
       "      <td>Tuesday</td>\n",
       "      <td>1</td>\n",
       "      <td>Clear, Few clouds, Partly cloudy, Partly cloudy</td>\n",
       "      <td>10.739832</td>\n",
       "      <td>108</td>\n",
       "      <td>1454</td>\n",
       "      <td>1562</td>\n",
       "      <td>1.400000</td>\n",
       "      <td>-1.999948</td>\n",
       "      <td>59.0435</td>\n",
       "      <td>2011</td>\n",
       "    </tr>\n",
       "    <tr>\n",
       "      <th>4</th>\n",
       "      <td>5</td>\n",
       "      <td>2011-01-05</td>\n",
       "      <td>winter</td>\n",
       "      <td>1</td>\n",
       "      <td>0</td>\n",
       "      <td>Wednesday</td>\n",
       "      <td>1</td>\n",
       "      <td>Clear, Few clouds, Partly cloudy, Partly cloudy</td>\n",
       "      <td>12.522300</td>\n",
       "      <td>82</td>\n",
       "      <td>1518</td>\n",
       "      <td>1600</td>\n",
       "      <td>2.666979</td>\n",
       "      <td>-0.868180</td>\n",
       "      <td>43.6957</td>\n",
       "      <td>2011</td>\n",
       "    </tr>\n",
       "    <tr>\n",
       "      <th>...</th>\n",
       "      <td>...</td>\n",
       "      <td>...</td>\n",
       "      <td>...</td>\n",
       "      <td>...</td>\n",
       "      <td>...</td>\n",
       "      <td>...</td>\n",
       "      <td>...</td>\n",
       "      <td>...</td>\n",
       "      <td>...</td>\n",
       "      <td>...</td>\n",
       "      <td>...</td>\n",
       "      <td>...</td>\n",
       "      <td>...</td>\n",
       "      <td>...</td>\n",
       "      <td>...</td>\n",
       "      <td>...</td>\n",
       "    </tr>\n",
       "    <tr>\n",
       "      <th>726</th>\n",
       "      <td>727</td>\n",
       "      <td>2012-12-27</td>\n",
       "      <td>winter</td>\n",
       "      <td>12</td>\n",
       "      <td>0</td>\n",
       "      <td>Thursday</td>\n",
       "      <td>1</td>\n",
       "      <td>Mist + Cloudy, Mist + Broken clouds, Mist + Fe...</td>\n",
       "      <td>23.458911</td>\n",
       "      <td>247</td>\n",
       "      <td>1867</td>\n",
       "      <td>2114</td>\n",
       "      <td>3.945849</td>\n",
       "      <td>-1.041628</td>\n",
       "      <td>65.2917</td>\n",
       "      <td>2012</td>\n",
       "    </tr>\n",
       "    <tr>\n",
       "      <th>727</th>\n",
       "      <td>728</td>\n",
       "      <td>2012-12-28</td>\n",
       "      <td>winter</td>\n",
       "      <td>12</td>\n",
       "      <td>0</td>\n",
       "      <td>Friday</td>\n",
       "      <td>1</td>\n",
       "      <td>Mist + Cloudy, Mist + Broken clouds, Mist + Fe...</td>\n",
       "      <td>10.416557</td>\n",
       "      <td>644</td>\n",
       "      <td>2451</td>\n",
       "      <td>3095</td>\n",
       "      <td>3.906651</td>\n",
       "      <td>0.833036</td>\n",
       "      <td>59.0000</td>\n",
       "      <td>2012</td>\n",
       "    </tr>\n",
       "    <tr>\n",
       "      <th>728</th>\n",
       "      <td>729</td>\n",
       "      <td>2012-12-29</td>\n",
       "      <td>winter</td>\n",
       "      <td>12</td>\n",
       "      <td>0</td>\n",
       "      <td>Saturday</td>\n",
       "      <td>0</td>\n",
       "      <td>Mist + Cloudy, Mist + Broken clouds, Mist + Fe...</td>\n",
       "      <td>8.333661</td>\n",
       "      <td>159</td>\n",
       "      <td>1182</td>\n",
       "      <td>1341</td>\n",
       "      <td>3.906651</td>\n",
       "      <td>-0.001600</td>\n",
       "      <td>75.2917</td>\n",
       "      <td>2012</td>\n",
       "    </tr>\n",
       "    <tr>\n",
       "      <th>729</th>\n",
       "      <td>730</td>\n",
       "      <td>2012-12-30</td>\n",
       "      <td>winter</td>\n",
       "      <td>12</td>\n",
       "      <td>0</td>\n",
       "      <td>Sunday</td>\n",
       "      <td>0</td>\n",
       "      <td>Clear, Few clouds, Partly cloudy, Partly cloudy</td>\n",
       "      <td>23.500518</td>\n",
       "      <td>364</td>\n",
       "      <td>1432</td>\n",
       "      <td>1796</td>\n",
       "      <td>4.024151</td>\n",
       "      <td>-0.707800</td>\n",
       "      <td>48.3333</td>\n",
       "      <td>2012</td>\n",
       "    </tr>\n",
       "    <tr>\n",
       "      <th>730</th>\n",
       "      <td>731</td>\n",
       "      <td>2012-12-31</td>\n",
       "      <td>winter</td>\n",
       "      <td>12</td>\n",
       "      <td>0</td>\n",
       "      <td>Monday</td>\n",
       "      <td>1</td>\n",
       "      <td>Mist + Cloudy, Mist + Broken clouds, Mist + Fe...</td>\n",
       "      <td>10.374682</td>\n",
       "      <td>439</td>\n",
       "      <td>2290</td>\n",
       "      <td>2729</td>\n",
       "      <td>2.144151</td>\n",
       "      <td>-1.249858</td>\n",
       "      <td>57.7500</td>\n",
       "      <td>2012</td>\n",
       "    </tr>\n",
       "  </tbody>\n",
       "</table>\n",
       "<p>731 rows × 16 columns</p>\n",
       "</div>"
      ],
      "text/plain": [
       "     instant      dteday  season  mnth  holiday    weekday  workingday  \\\n",
       "0          1  2011-01-01  winter     1        0   Saturday           0   \n",
       "1          2  2011-01-02  winter     1        0     Sunday           0   \n",
       "2          3  2011-01-03  winter     1        0     Monday           1   \n",
       "3          4  2011-01-04  winter     1        0    Tuesday           1   \n",
       "4          5  2011-01-05  winter     1        0  Wednesday           1   \n",
       "..       ...         ...     ...   ...      ...        ...         ...   \n",
       "726      727  2012-12-27  winter    12        0   Thursday           1   \n",
       "727      728  2012-12-28  winter    12        0     Friday           1   \n",
       "728      729  2012-12-29  winter    12        0   Saturday           0   \n",
       "729      730  2012-12-30  winter    12        0     Sunday           0   \n",
       "730      731  2012-12-31  winter    12        0     Monday           1   \n",
       "\n",
       "                                            weathersit  windspeed  casual  \\\n",
       "0    Mist + Cloudy, Mist + Broken clouds, Mist + Fe...  10.749882     331   \n",
       "1    Mist + Cloudy, Mist + Broken clouds, Mist + Fe...  16.652113     131   \n",
       "2      Clear, Few clouds, Partly cloudy, Partly cloudy  16.636703     120   \n",
       "3      Clear, Few clouds, Partly cloudy, Partly cloudy  10.739832     108   \n",
       "4      Clear, Few clouds, Partly cloudy, Partly cloudy  12.522300      82   \n",
       "..                                                 ...        ...     ...   \n",
       "726  Mist + Cloudy, Mist + Broken clouds, Mist + Fe...  23.458911     247   \n",
       "727  Mist + Cloudy, Mist + Broken clouds, Mist + Fe...  10.416557     644   \n",
       "728  Mist + Cloudy, Mist + Broken clouds, Mist + Fe...   8.333661     159   \n",
       "729    Clear, Few clouds, Partly cloudy, Partly cloudy  23.500518     364   \n",
       "730  Mist + Cloudy, Mist + Broken clouds, Mist + Fe...  10.374682     439   \n",
       "\n",
       "     registered   cnt   temp °C  atemp °C    hum %  year  \n",
       "0           654   985  8.175849  7.999250  80.5833  2011  \n",
       "1           670   801  9.083466  7.346774  69.6087  2011  \n",
       "2          1229  1349  1.229108 -3.499270  43.7273  2011  \n",
       "3          1454  1562  1.400000 -1.999948  59.0435  2011  \n",
       "4          1518  1600  2.666979 -0.868180  43.6957  2011  \n",
       "..          ...   ...       ...       ...      ...   ...  \n",
       "726        1867  2114  3.945849 -1.041628  65.2917  2012  \n",
       "727        2451  3095  3.906651  0.833036  59.0000  2012  \n",
       "728        1182  1341  3.906651 -0.001600  75.2917  2012  \n",
       "729        1432  1796  4.024151 -0.707800  48.3333  2012  \n",
       "730        2290  2729  2.144151 -1.249858  57.7500  2012  \n",
       "\n",
       "[731 rows x 16 columns]"
      ]
     },
     "execution_count": 2,
     "metadata": {},
     "output_type": "execute_result"
    }
   ],
   "source": [
    "daily_file = 'https://raw.githubusercontent.com/fhstp/soniscope-jupyter/main/examples/bike_day_semantic.csv'\n",
    "daily = pd.read_table(daily_file, sep=',')\n",
    "daily"
   ]
  },
  {
   "cell_type": "code",
   "execution_count": 7,
   "id": "322a0a31-b83e-4f36-93ad-985eee392171",
   "metadata": {
    "tags": []
   },
   "outputs": [
    {
     "data": {
      "application/vnd.jupyter.widget-view+json": {
       "model_id": "2e5d951e87c64721bae0c2763a852b84",
       "version_major": 2,
       "version_minor": 0
      },
      "text/plain": [
       "ParChordsWidget()"
      ]
     },
     "execution_count": 7,
     "metadata": {},
     "output_type": "execute_result"
    }
   ],
   "source": [
    "w = parchords_jupyter.ParChordsWidget()\n",
    "w"
   ]
  },
  {
   "cell_type": "code",
   "execution_count": 8,
   "id": "8669bf5b-4327-4ee1-a757-ac03a91f3c5f",
   "metadata": {},
   "outputs": [],
   "source": [
    "def axis_clicked(widget, field): \n",
    "    print(\"axis clicked \" + field)\n",
    "    \n",
    "w.on_axis_click(axis_clicked)"
   ]
  },
  {
   "cell_type": "code",
   "execution_count": 9,
   "id": "726c331c-635f-47db-b7a3-2dafb83cf785",
   "metadata": {
    "tags": []
   },
   "outputs": [],
   "source": [
    "w.data = daily"
   ]
  },
  {
   "cell_type": "code",
   "execution_count": 5,
   "id": "a63c3389-b80e-4d7b-9d2a-e415e75d6cf2",
   "metadata": {
    "tags": []
   },
   "outputs": [],
   "source": [
    "w.color_field = 'season'"
   ]
  },
  {
   "cell_type": "code",
   "execution_count": null,
   "id": "e657c280-255c-4e5e-b4e7-521b82b09167",
   "metadata": {},
   "outputs": [],
   "source": [
    "w.color_field = ''"
   ]
  },
  {
   "cell_type": "code",
   "execution_count": null,
   "id": "ed324811-2d90-469e-8c9e-1836ee805727",
   "metadata": {
    "tags": []
   },
   "outputs": [],
   "source": [
    "w.data = daily[:4]\n",
    "w.width=1200"
   ]
  },
  {
   "cell_type": "code",
   "execution_count": null,
   "id": "9737f00d-5cfc-4866-a327-fe50fb7fc935",
   "metadata": {
    "tags": []
   },
   "outputs": [],
   "source": [
    "w.axis_fields = ['temp °C', 'casual', 'cnt']"
   ]
  },
  {
   "cell_type": "code",
   "execution_count": null,
   "id": "d389b27b-aaca-4dc5-bbbf-b671a13068fe",
   "metadata": {
    "tags": []
   },
   "outputs": [],
   "source": [
    "w.axis_fields = []"
   ]
  },
  {
   "cell_type": "code",
   "execution_count": null,
   "id": "f4fba54f-3b15-47e5-a1ed-5869437828fe",
   "metadata": {
    "tags": []
   },
   "outputs": [],
   "source": [
    "w.data = pd.DataFrame()"
   ]
  },
  {
   "cell_type": "code",
   "execution_count": null,
   "id": "1cd95af1-7f9e-4b1f-80dd-97dbb979d621",
   "metadata": {
    "tags": []
   },
   "outputs": [],
   "source": [
    "numeric_cols = daily.select_dtypes(include='number').columns.values.tolist() # get possible colums for axes\n",
    "numeric_cols"
   ]
  },
  {
   "cell_type": "code",
   "execution_count": null,
   "id": "3cc78cfd-0245-4cde-94a2-ffa445716e99",
   "metadata": {
    "tags": []
   },
   "outputs": [],
   "source": [
    "theList = daily.values.tolist()\n",
    "type(theList)\n",
    "len(theList)"
   ]
  },
  {
   "cell_type": "code",
   "execution_count": null,
   "id": "a29ba560-c5c0-4bb6-a8b3-83817dc996bb",
   "metadata": {
    "tags": []
   },
   "outputs": [],
   "source": [
    "selected_columns = daily[['windspeed', 'casual', 'registered']]\n",
    "selected_columns.values.tolist()[:4]"
   ]
  },
  {
   "cell_type": "code",
   "execution_count": null,
   "id": "123a2e16-a0de-4e10-b118-35aaf9c14bae",
   "metadata": {
    "tags": []
   },
   "outputs": [],
   "source": [
    "selected_columns.to_numpy().transpose().tolist()[:4]"
   ]
  },
  {
   "cell_type": "code",
   "execution_count": null,
   "id": "7fdb7f49-db94-4300-a255-4711bdea9043",
   "metadata": {
    "tags": []
   },
   "outputs": [],
   "source": [
    "def is_list_contained(list1, list2):\n",
    "    return all(elem in list1 for elem in list2)\n",
    "\n",
    "list1 = [1, 2, 3, 4, 5, 7, 8, 9]\n",
    "list2 = [4, 4, 6]\n",
    "\n",
    "if is_list_contained(list1, list2):\n",
    "    print(\"list2 is completely contained in list1\")\n",
    "else:\n",
    "    print(\"list2 is not completely contained in list1\")\n"
   ]
  },
  {
   "cell_type": "code",
   "execution_count": null,
   "id": "c4cc1d96-9132-428a-be94-728a93195c09",
   "metadata": {},
   "outputs": [],
   "source": [
    "w = parchords_jupyter.ParChordsWidget()\n",
    "w"
   ]
  },
  {
   "cell_type": "code",
   "execution_count": null,
   "id": "4f826c82-fbf1-41f0-a043-39b0f7057b2e",
   "metadata": {},
   "outputs": [],
   "source": []
  }
 ],
 "metadata": {
  "kernelspec": {
   "display_name": "Python 3 (ipykernel)",
   "language": "python",
   "name": "python3"
  },
  "language_info": {
   "codemirror_mode": {
    "name": "ipython",
    "version": 3
   },
   "file_extension": ".py",
   "mimetype": "text/x-python",
   "name": "python",
   "nbconvert_exporter": "python",
   "pygments_lexer": "ipython3",
   "version": "3.10.2"
  }
 },
 "nbformat": 4,
 "nbformat_minor": 5
}
