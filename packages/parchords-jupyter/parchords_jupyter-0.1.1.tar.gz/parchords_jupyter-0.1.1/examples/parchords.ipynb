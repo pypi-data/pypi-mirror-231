{
 "cells": [
  {
   "cell_type": "code",
   "execution_count": 1,
   "id": "939ebb36-de87-4fe1-9ed2-588fe535d8f8",
   "metadata": {},
   "outputs": [],
   "source": [
    "# pip install parchords_jupyter"
   ]
  },
  {
   "cell_type": "code",
   "execution_count": 2,
   "id": "d84c814d-3699-4584-9d74-3d7d781c1ce6",
   "metadata": {
    "tags": []
   },
   "outputs": [],
   "source": [
    "import numpy as np\n",
    "import pandas as pd\n",
    "\n",
    "import parchords_jupyter"
   ]
  },
  {
   "cell_type": "code",
   "execution_count": 3,
   "id": "d536dc0a-3a30-4dff-8f6e-7ac2d4a0bf00",
   "metadata": {
    "tags": []
   },
   "outputs": [
    {
     "data": {
      "text/html": [
       "<div>\n",
       "<style scoped>\n",
       "    .dataframe tbody tr th:only-of-type {\n",
       "        vertical-align: middle;\n",
       "    }\n",
       "\n",
       "    .dataframe tbody tr th {\n",
       "        vertical-align: top;\n",
       "    }\n",
       "\n",
       "    .dataframe thead th {\n",
       "        text-align: right;\n",
       "    }\n",
       "</style>\n",
       "<table border=\"1\" class=\"dataframe\">\n",
       "  <thead>\n",
       "    <tr style=\"text-align: right;\">\n",
       "      <th></th>\n",
       "      <th>Datum</th>\n",
       "      <th>Jahreszeit</th>\n",
       "      <th>Wochentag</th>\n",
       "      <th>Lufttemperatur [°C]</th>\n",
       "      <th>Relative Luftfeuchte [%]</th>\n",
       "      <th>NOX (Stickstoffoxide) [ppb]</th>\n",
       "      <th>CO (Kohlenmonoxid) [mg/m³]</th>\n",
       "      <th>PM10 (Feinstaub) [µg/m³]</th>\n",
       "    </tr>\n",
       "  </thead>\n",
       "  <tbody>\n",
       "    <tr>\n",
       "      <th>0</th>\n",
       "      <td>2020-08-02</td>\n",
       "      <td>Sommer</td>\n",
       "      <td>Sonntag</td>\n",
       "      <td>25.941177</td>\n",
       "      <td>60.277832</td>\n",
       "      <td>5.550137</td>\n",
       "      <td>0.142004</td>\n",
       "      <td>19.588058</td>\n",
       "    </tr>\n",
       "    <tr>\n",
       "      <th>1</th>\n",
       "      <td>2020-08-03</td>\n",
       "      <td>Sommer</td>\n",
       "      <td>Montag</td>\n",
       "      <td>23.346720</td>\n",
       "      <td>68.686030</td>\n",
       "      <td>5.765667</td>\n",
       "      <td>0.122309</td>\n",
       "      <td>15.092746</td>\n",
       "    </tr>\n",
       "    <tr>\n",
       "      <th>2</th>\n",
       "      <td>2020-08-04</td>\n",
       "      <td>Sommer</td>\n",
       "      <td>Dienstag</td>\n",
       "      <td>20.578306</td>\n",
       "      <td>84.625650</td>\n",
       "      <td>8.646341</td>\n",
       "      <td>0.125410</td>\n",
       "      <td>10.617341</td>\n",
       "    </tr>\n",
       "    <tr>\n",
       "      <th>3</th>\n",
       "      <td>2020-08-05</td>\n",
       "      <td>Sommer</td>\n",
       "      <td>Mittwoch</td>\n",
       "      <td>19.433783</td>\n",
       "      <td>70.801180</td>\n",
       "      <td>8.235482</td>\n",
       "      <td>0.113371</td>\n",
       "      <td>4.055415</td>\n",
       "    </tr>\n",
       "    <tr>\n",
       "      <th>4</th>\n",
       "      <td>2020-08-06</td>\n",
       "      <td>Sommer</td>\n",
       "      <td>Donnerstag</td>\n",
       "      <td>18.696259</td>\n",
       "      <td>56.378708</td>\n",
       "      <td>9.743181</td>\n",
       "      <td>0.138229</td>\n",
       "      <td>5.827253</td>\n",
       "    </tr>\n",
       "    <tr>\n",
       "      <th>...</th>\n",
       "      <td>...</td>\n",
       "      <td>...</td>\n",
       "      <td>...</td>\n",
       "      <td>...</td>\n",
       "      <td>...</td>\n",
       "      <td>...</td>\n",
       "      <td>...</td>\n",
       "      <td>...</td>\n",
       "    </tr>\n",
       "    <tr>\n",
       "      <th>1059</th>\n",
       "      <td>2023-06-27</td>\n",
       "      <td>Sommer</td>\n",
       "      <td>Dienstag</td>\n",
       "      <td>24.002523</td>\n",
       "      <td>55.886105</td>\n",
       "      <td>8.651074</td>\n",
       "      <td>0.172364</td>\n",
       "      <td>14.211651</td>\n",
       "    </tr>\n",
       "    <tr>\n",
       "      <th>1060</th>\n",
       "      <td>2023-06-28</td>\n",
       "      <td>Sommer</td>\n",
       "      <td>Mittwoch</td>\n",
       "      <td>20.128954</td>\n",
       "      <td>77.733665</td>\n",
       "      <td>10.493220</td>\n",
       "      <td>0.196550</td>\n",
       "      <td>13.539670</td>\n",
       "    </tr>\n",
       "    <tr>\n",
       "      <th>1061</th>\n",
       "      <td>2023-06-29</td>\n",
       "      <td>Sommer</td>\n",
       "      <td>Donnerstag</td>\n",
       "      <td>19.649313</td>\n",
       "      <td>58.396130</td>\n",
       "      <td>6.689503</td>\n",
       "      <td>0.145387</td>\n",
       "      <td>7.374159</td>\n",
       "    </tr>\n",
       "    <tr>\n",
       "      <th>1062</th>\n",
       "      <td>2023-06-30</td>\n",
       "      <td>Sommer</td>\n",
       "      <td>Freitag</td>\n",
       "      <td>21.113836</td>\n",
       "      <td>52.939990</td>\n",
       "      <td>9.154822</td>\n",
       "      <td>0.172141</td>\n",
       "      <td>11.776981</td>\n",
       "    </tr>\n",
       "    <tr>\n",
       "      <th>1063</th>\n",
       "      <td>2023-07-01</td>\n",
       "      <td>Sommer</td>\n",
       "      <td>Samstag</td>\n",
       "      <td>23.344162</td>\n",
       "      <td>58.511917</td>\n",
       "      <td>8.801544</td>\n",
       "      <td>0.167634</td>\n",
       "      <td>13.526193</td>\n",
       "    </tr>\n",
       "  </tbody>\n",
       "</table>\n",
       "<p>1064 rows × 8 columns</p>\n",
       "</div>"
      ],
      "text/plain": [
       "           Datum Jahreszeit   Wochentag  Lufttemperatur [°C]  \\\n",
       "0     2020-08-02     Sommer     Sonntag            25.941177   \n",
       "1     2020-08-03     Sommer     Montag             23.346720   \n",
       "2     2020-08-04     Sommer    Dienstag            20.578306   \n",
       "3     2020-08-05     Sommer    Mittwoch            19.433783   \n",
       "4     2020-08-06     Sommer  Donnerstag            18.696259   \n",
       "...          ...        ...         ...                  ...   \n",
       "1059  2023-06-27     Sommer    Dienstag            24.002523   \n",
       "1060  2023-06-28     Sommer    Mittwoch            20.128954   \n",
       "1061  2023-06-29     Sommer  Donnerstag            19.649313   \n",
       "1062  2023-06-30     Sommer     Freitag            21.113836   \n",
       "1063  2023-07-01     Sommer     Samstag            23.344162   \n",
       "\n",
       "      Relative Luftfeuchte [%]  NOX (Stickstoffoxide) [ppb]  \\\n",
       "0                    60.277832                     5.550137   \n",
       "1                    68.686030                     5.765667   \n",
       "2                    84.625650                     8.646341   \n",
       "3                    70.801180                     8.235482   \n",
       "4                    56.378708                     9.743181   \n",
       "...                        ...                          ...   \n",
       "1059                 55.886105                     8.651074   \n",
       "1060                 77.733665                    10.493220   \n",
       "1061                 58.396130                     6.689503   \n",
       "1062                 52.939990                     9.154822   \n",
       "1063                 58.511917                     8.801544   \n",
       "\n",
       "      CO (Kohlenmonoxid) [mg/m³]  PM10 (Feinstaub) [µg/m³]  \n",
       "0                       0.142004                 19.588058  \n",
       "1                       0.122309                 15.092746  \n",
       "2                       0.125410                 10.617341  \n",
       "3                       0.113371                  4.055415  \n",
       "4                       0.138229                  5.827253  \n",
       "...                          ...                       ...  \n",
       "1059                    0.172364                 14.211651  \n",
       "1060                    0.196550                 13.539670  \n",
       "1061                    0.145387                  7.374159  \n",
       "1062                    0.172141                 11.776981  \n",
       "1063                    0.167634                 13.526193  \n",
       "\n",
       "[1064 rows x 8 columns]"
      ]
     },
     "execution_count": 3,
     "metadata": {},
     "output_type": "execute_result"
    }
   ],
   "source": [
    "# daily_file = 'https://raw.githubusercontent.com/fhstp/soniscope-jupyter/main/examples/bike_day_semantic.csv'\n",
    "# daily_file = '../../soniscope-jupyter/examples/bike_day_semantic.csv'\n",
    "daily_file = '../../soniscope-jupyter/examples/Graz-Mitte-Gries-Luft.csv'\n",
    "daily = pd.read_table(daily_file, sep=',')\n",
    "daily"
   ]
  },
  {
   "cell_type": "code",
   "execution_count": 17,
   "id": "322a0a31-b83e-4f36-93ad-985eee392171",
   "metadata": {
    "tags": []
   },
   "outputs": [
    {
     "data": {
      "application/vnd.jupyter.widget-view+json": {
       "model_id": "48b81151a01440d886e762de3604233a",
       "version_major": 2,
       "version_minor": 0
      },
      "text/plain": [
       "ParChordsWidget()"
      ]
     },
     "execution_count": 17,
     "metadata": {},
     "output_type": "execute_result"
    }
   ],
   "source": [
    "w = parchords_jupyter.ParChordsWidget()\n",
    "w"
   ]
  },
  {
   "cell_type": "code",
   "execution_count": 18,
   "id": "726c331c-635f-47db-b7a3-2dafb83cf785",
   "metadata": {
    "tags": []
   },
   "outputs": [],
   "source": [
    "w.data = daily"
   ]
  },
  {
   "cell_type": "code",
   "execution_count": 27,
   "id": "7c7971d8-cda7-47fb-a60f-347b7a9457df",
   "metadata": {
    "tags": []
   },
   "outputs": [
    {
     "name": "stdout",
     "output_type": "stream",
     "text": [
      "<class 'dict'>\n"
     ]
    }
   ],
   "source": [
    "w.highlight(24)"
   ]
  },
  {
   "cell_type": "code",
   "execution_count": 28,
   "id": "9660bc22-5bcc-45f5-9ec0-abe2a934e215",
   "metadata": {
    "tags": []
   },
   "outputs": [],
   "source": [
    "w.selection = [24, 26, 250]"
   ]
  },
  {
   "cell_type": "code",
   "execution_count": 9,
   "id": "ab74dec2-c4f0-4081-9586-e509f0507264",
   "metadata": {
    "tags": []
   },
   "outputs": [
    {
     "data": {
      "text/plain": [
       "[24, 26, 250]"
      ]
     },
     "execution_count": 9,
     "metadata": {},
     "output_type": "execute_result"
    }
   ],
   "source": [
    "w.selection"
   ]
  },
  {
   "cell_type": "code",
   "execution_count": 29,
   "id": "2303c0cf-4b70-4941-bbe9-0e254127bbd0",
   "metadata": {},
   "outputs": [],
   "source": [
    "w.selection = []"
   ]
  },
  {
   "cell_type": "code",
   "execution_count": 11,
   "id": "8669bf5b-4327-4ee1-a757-ac03a91f3c5f",
   "metadata": {},
   "outputs": [],
   "source": [
    "def axis_clicked(widget, field): \n",
    "    print(\"axis clicked \" + field)\n",
    "    filtered = w.data[[field]]\n",
    "    print(filtered.shape)\n",
    "    \n",
    "w.on_axis_click(axis_clicked)"
   ]
  },
  {
   "cell_type": "code",
   "execution_count": 14,
   "id": "9737f00d-5cfc-4866-a327-fe50fb7fc935",
   "metadata": {
    "tags": []
   },
   "outputs": [],
   "source": [
    "# w.axis_fields = ['temp °C', 'hum %', 'casual', 'registered', 'cnt']\n",
    "#w.axis_fields = ['Lufttemperatur [°C]', 'CO (Kohlenmonoxid) [mg/m³]']\n",
    "w.axis_fields = ['Lufttemperatur [°C]', 'CO (Kohlenmonoxid) [mg/m³]', 'NOX (Stickstoffoxide) [ppb]']"
   ]
  },
  {
   "cell_type": "code",
   "execution_count": 19,
   "id": "a63c3389-b80e-4d7b-9d2a-e415e75d6cf2",
   "metadata": {
    "tags": []
   },
   "outputs": [],
   "source": [
    "w.color_field = 'Jahreszeit'"
   ]
  },
  {
   "cell_type": "code",
   "execution_count": 24,
   "id": "e657c280-255c-4e5e-b4e7-521b82b09167",
   "metadata": {},
   "outputs": [],
   "source": [
    "w.color_field = ''"
   ]
  },
  {
   "cell_type": "code",
   "execution_count": 13,
   "id": "ed324811-2d90-469e-8c9e-1836ee805727",
   "metadata": {
    "tags": []
   },
   "outputs": [],
   "source": [
    "# w.data = daily[:7]\n",
    "w.data = daily[690:700]"
   ]
  },
  {
   "cell_type": "code",
   "execution_count": 35,
   "id": "abf37f77-989f-46dd-99be-f9eb8938a3c1",
   "metadata": {
    "tags": []
   },
   "outputs": [],
   "source": [
    "w.width=1200"
   ]
  },
  {
   "cell_type": "code",
   "execution_count": null,
   "id": "d389b27b-aaca-4dc5-bbbf-b671a13068fe",
   "metadata": {
    "tags": []
   },
   "outputs": [],
   "source": [
    "w.axis_fields = []"
   ]
  },
  {
   "cell_type": "code",
   "execution_count": null,
   "id": "b57b13c4-7ad3-4bd2-b3f5-57f22556e0a1",
   "metadata": {
    "tags": []
   },
   "outputs": [],
   "source": [
    "w.axis_fields"
   ]
  },
  {
   "cell_type": "code",
   "execution_count": null,
   "id": "f4fba54f-3b15-47e5-a1ed-5869437828fe",
   "metadata": {
    "tags": []
   },
   "outputs": [],
   "source": [
    "w.data = pd.DataFrame()"
   ]
  },
  {
   "cell_type": "markdown",
   "id": "2afbe28d-b673-43a7-ad96-44b4fb798994",
   "metadata": {},
   "source": [
    "### old debugging code"
   ]
  },
  {
   "cell_type": "code",
   "execution_count": null,
   "id": "1cd95af1-7f9e-4b1f-80dd-97dbb979d621",
   "metadata": {
    "tags": []
   },
   "outputs": [],
   "source": [
    "numeric_cols = daily.select_dtypes(include='number').columns.values.tolist() # get possible colums for axes\n",
    "numeric_cols"
   ]
  },
  {
   "cell_type": "code",
   "execution_count": null,
   "id": "3cc78cfd-0245-4cde-94a2-ffa445716e99",
   "metadata": {
    "tags": []
   },
   "outputs": [],
   "source": [
    "theList = daily.values.tolist()\n",
    "type(theList)\n",
    "len(theList)"
   ]
  },
  {
   "cell_type": "code",
   "execution_count": null,
   "id": "a29ba560-c5c0-4bb6-a8b3-83817dc996bb",
   "metadata": {
    "tags": []
   },
   "outputs": [],
   "source": [
    "selected_columns = daily[['windspeed', 'casual', 'registered']]\n",
    "selected_columns.values.tolist()[:4]"
   ]
  },
  {
   "cell_type": "code",
   "execution_count": null,
   "id": "123a2e16-a0de-4e10-b118-35aaf9c14bae",
   "metadata": {
    "tags": []
   },
   "outputs": [],
   "source": [
    "selected_columns.to_numpy().transpose().tolist()[:4]"
   ]
  },
  {
   "cell_type": "code",
   "execution_count": null,
   "id": "7fdb7f49-db94-4300-a255-4711bdea9043",
   "metadata": {
    "tags": []
   },
   "outputs": [],
   "source": [
    "def is_list_contained(list1, list2):\n",
    "    return all(elem in list1 for elem in list2)\n",
    "\n",
    "list1 = [1, 2, 3, 4, 5, 7, 8, 9]\n",
    "list2 = [4, 4, 6]\n",
    "\n",
    "if is_list_contained(list1, list2):\n",
    "    print(\"list2 is completely contained in list1\")\n",
    "else:\n",
    "    print(\"list2 is not completely contained in list1\")\n"
   ]
  },
  {
   "cell_type": "code",
   "execution_count": 30,
   "id": "4f826c82-fbf1-41f0-a043-39b0f7057b2e",
   "metadata": {},
   "outputs": [],
   "source": [
    "df = daily[694:699]"
   ]
  },
  {
   "cell_type": "code",
   "execution_count": 31,
   "id": "046d6155-3f0d-4ceb-ac85-5b639b18b10f",
   "metadata": {
    "tags": []
   },
   "outputs": [
    {
     "data": {
      "text/html": [
       "<div>\n",
       "<style scoped>\n",
       "    .dataframe tbody tr th:only-of-type {\n",
       "        vertical-align: middle;\n",
       "    }\n",
       "\n",
       "    .dataframe tbody tr th {\n",
       "        vertical-align: top;\n",
       "    }\n",
       "\n",
       "    .dataframe thead th {\n",
       "        text-align: right;\n",
       "    }\n",
       "</style>\n",
       "<table border=\"1\" class=\"dataframe\">\n",
       "  <thead>\n",
       "    <tr style=\"text-align: right;\">\n",
       "      <th></th>\n",
       "      <th>Datum</th>\n",
       "      <th>Jahreszeit</th>\n",
       "      <th>Wochentag</th>\n",
       "      <th>Lufttemperatur [°C]</th>\n",
       "      <th>Relative Luftfeuchte [%]</th>\n",
       "      <th>NOX (Stickstoffoxide) [ppb]</th>\n",
       "      <th>CO (Kohlenmonoxid) [mg/m³]</th>\n",
       "      <th>PM10 (Feinstaub) [µg/m³]</th>\n",
       "    </tr>\n",
       "  </thead>\n",
       "  <tbody>\n",
       "    <tr>\n",
       "      <th>694</th>\n",
       "      <td>2022-06-27</td>\n",
       "      <td>Sommer</td>\n",
       "      <td>Montag</td>\n",
       "      <td>24.584696</td>\n",
       "      <td>60.382970</td>\n",
       "      <td>5.760279</td>\n",
       "      <td>0.132459</td>\n",
       "      <td>7.532304</td>\n",
       "    </tr>\n",
       "    <tr>\n",
       "      <th>695</th>\n",
       "      <td>2022-06-28</td>\n",
       "      <td>Sommer</td>\n",
       "      <td>Dienstag</td>\n",
       "      <td>27.105997</td>\n",
       "      <td>62.026154</td>\n",
       "      <td>NaN</td>\n",
       "      <td>0.159989</td>\n",
       "      <td>19.371935</td>\n",
       "    </tr>\n",
       "    <tr>\n",
       "      <th>696</th>\n",
       "      <td>2022-06-29</td>\n",
       "      <td>Sommer</td>\n",
       "      <td>Mittwoch</td>\n",
       "      <td>27.057877</td>\n",
       "      <td>63.450092</td>\n",
       "      <td>NaN</td>\n",
       "      <td>0.143364</td>\n",
       "      <td>22.249466</td>\n",
       "    </tr>\n",
       "    <tr>\n",
       "      <th>697</th>\n",
       "      <td>2022-06-30</td>\n",
       "      <td>Sommer</td>\n",
       "      <td>Donnerstag</td>\n",
       "      <td>27.128698</td>\n",
       "      <td>65.915410</td>\n",
       "      <td>7.247102</td>\n",
       "      <td>0.140025</td>\n",
       "      <td>26.646555</td>\n",
       "    </tr>\n",
       "    <tr>\n",
       "      <th>698</th>\n",
       "      <td>2022-07-01</td>\n",
       "      <td>Sommer</td>\n",
       "      <td>Freitag</td>\n",
       "      <td>26.281363</td>\n",
       "      <td>63.183773</td>\n",
       "      <td>8.677063</td>\n",
       "      <td>0.196207</td>\n",
       "      <td>22.448395</td>\n",
       "    </tr>\n",
       "  </tbody>\n",
       "</table>\n",
       "</div>"
      ],
      "text/plain": [
       "          Datum Jahreszeit   Wochentag  Lufttemperatur [°C]  \\\n",
       "694  2022-06-27     Sommer      Montag            24.584696   \n",
       "695  2022-06-28     Sommer    Dienstag            27.105997   \n",
       "696  2022-06-29     Sommer    Mittwoch            27.057877   \n",
       "697  2022-06-30     Sommer  Donnerstag            27.128698   \n",
       "698  2022-07-01     Sommer     Freitag            26.281363   \n",
       "\n",
       "     Relative Luftfeuchte [%]  NOX (Stickstoffoxide) [ppb]  \\\n",
       "694                 60.382970                     5.760279   \n",
       "695                 62.026154                          NaN   \n",
       "696                 63.450092                          NaN   \n",
       "697                 65.915410                     7.247102   \n",
       "698                 63.183773                     8.677063   \n",
       "\n",
       "     CO (Kohlenmonoxid) [mg/m³]  PM10 (Feinstaub) [µg/m³]  \n",
       "694                    0.132459                  7.532304  \n",
       "695                    0.159989                 19.371935  \n",
       "696                    0.143364                 22.249466  \n",
       "697                    0.140025                 26.646555  \n",
       "698                    0.196207                 22.448395  "
      ]
     },
     "execution_count": 31,
     "metadata": {},
     "output_type": "execute_result"
    }
   ],
   "source": [
    "df"
   ]
  },
  {
   "cell_type": "code",
   "execution_count": 32,
   "id": "a991fbeb-6d1f-4703-a6ec-65eae3eb5b81",
   "metadata": {
    "tags": []
   },
   "outputs": [],
   "source": [
    "df = df[['Lufttemperatur [°C]', 'CO (Kohlenmonoxid) [mg/m³]']]"
   ]
  },
  {
   "cell_type": "code",
   "execution_count": 34,
   "id": "05ff5a58-3b9c-44a4-95a1-ec45abce9cd2",
   "metadata": {
    "tags": []
   },
   "outputs": [],
   "source": [
    "df = df.dropna()"
   ]
  },
  {
   "cell_type": "code",
   "execution_count": 35,
   "id": "6f0b55ad-0d01-4ff4-9c46-ae1a5a18a2ab",
   "metadata": {
    "tags": []
   },
   "outputs": [
    {
     "data": {
      "text/html": [
       "<div>\n",
       "<style scoped>\n",
       "    .dataframe tbody tr th:only-of-type {\n",
       "        vertical-align: middle;\n",
       "    }\n",
       "\n",
       "    .dataframe tbody tr th {\n",
       "        vertical-align: top;\n",
       "    }\n",
       "\n",
       "    .dataframe thead th {\n",
       "        text-align: right;\n",
       "    }\n",
       "</style>\n",
       "<table border=\"1\" class=\"dataframe\">\n",
       "  <thead>\n",
       "    <tr style=\"text-align: right;\">\n",
       "      <th></th>\n",
       "      <th>Lufttemperatur [°C]</th>\n",
       "      <th>CO (Kohlenmonoxid) [mg/m³]</th>\n",
       "    </tr>\n",
       "  </thead>\n",
       "  <tbody>\n",
       "    <tr>\n",
       "      <th>694</th>\n",
       "      <td>24.584696</td>\n",
       "      <td>0.132459</td>\n",
       "    </tr>\n",
       "    <tr>\n",
       "      <th>695</th>\n",
       "      <td>27.105997</td>\n",
       "      <td>0.159989</td>\n",
       "    </tr>\n",
       "    <tr>\n",
       "      <th>696</th>\n",
       "      <td>27.057877</td>\n",
       "      <td>0.143364</td>\n",
       "    </tr>\n",
       "    <tr>\n",
       "      <th>697</th>\n",
       "      <td>27.128698</td>\n",
       "      <td>0.140025</td>\n",
       "    </tr>\n",
       "    <tr>\n",
       "      <th>698</th>\n",
       "      <td>26.281363</td>\n",
       "      <td>0.196207</td>\n",
       "    </tr>\n",
       "  </tbody>\n",
       "</table>\n",
       "</div>"
      ],
      "text/plain": [
       "     Lufttemperatur [°C]  CO (Kohlenmonoxid) [mg/m³]\n",
       "694            24.584696                    0.132459\n",
       "695            27.105997                    0.159989\n",
       "696            27.057877                    0.143364\n",
       "697            27.128698                    0.140025\n",
       "698            26.281363                    0.196207"
      ]
     },
     "execution_count": 35,
     "metadata": {},
     "output_type": "execute_result"
    }
   ],
   "source": [
    "df"
   ]
  },
  {
   "cell_type": "code",
   "execution_count": 29,
   "id": "892803b6-70b3-4bde-a536-6746c7c59a66",
   "metadata": {
    "tags": []
   },
   "outputs": [
    {
     "data": {
      "text/plain": [
       "numpy.ndarray"
      ]
     },
     "execution_count": 29,
     "metadata": {},
     "output_type": "execute_result"
    }
   ],
   "source": [
    "type(df.values)"
   ]
  },
  {
   "cell_type": "code",
   "execution_count": null,
   "id": "3839af90-bdb9-4bc4-8a70-19cdedf1b6c3",
   "metadata": {},
   "outputs": [],
   "source": []
  }
 ],
 "metadata": {
  "kernelspec": {
   "display_name": "Python 3 (ipykernel)",
   "language": "python",
   "name": "python3"
  },
  "language_info": {
   "codemirror_mode": {
    "name": "ipython",
    "version": 3
   },
   "file_extension": ".py",
   "mimetype": "text/x-python",
   "name": "python",
   "nbconvert_exporter": "python",
   "pygments_lexer": "ipython3",
   "version": "3.10.2"
  }
 },
 "nbformat": 4,
 "nbformat_minor": 5
}
